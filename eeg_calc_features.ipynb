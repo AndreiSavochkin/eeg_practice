{
 "cells": [
  {
   "cell_type": "code",
   "execution_count": 29,
   "id": "fd53cd75",
   "metadata": {
    "pycharm": {
     "is_executing": true
    },
    "scrolled": true
   },
   "outputs": [],
   "source": [
    "from imports import *\n",
    "plt.rc('figure', max_open_warning=200)\n",
    "%matplotlib inline\n",
    "sns.set_theme()"
   ]
  },
  {
   "cell_type": "markdown",
   "id": "3b469e66",
   "metadata": {},
   "source": [
    "# Loading  preprosessed data"
   ]
  },
  {
   "cell_type": "code",
   "execution_count": 30,
   "id": "fddd0691",
   "metadata": {},
   "outputs": [
    {
     "name": "stdout",
     "output_type": "stream",
     "text": [
      "/Users/savochkin\n"
     ]
    }
   ],
   "source": [
    "# Initialize path variables for main folders\n",
    "\n",
    "print(os.getcwd())\n",
    "\n",
    "# Path for saving epoch data and features\n",
    "ft_dir_path = os.path.join(os.getcwd(), 'features')\n",
    "data_dir_path = os.path.join(os.getcwd(), 'word_data')\n"
   ]
  },
  {
   "cell_type": "code",
   "execution_count": 31,
   "id": "aa49646c",
   "metadata": {},
   "outputs": [
    {
     "name": "stdout",
     "output_type": "stream",
     "text": [
      "Opening raw data file reref_filterd_raw.fif...\n",
      "    Range : 0 ... 1806049 =      0.000 ...  1806.049 secs\n",
      "Ready.\n",
      "Reading 0 ... 1806049  =      0.000 ...  1806.049 secs...\n"
     ]
    }
   ],
   "source": [
    "raw = mne.io.read_raw_fif('reref_filterd_raw.fif', preload=True)\n"
   ]
  },
  {
   "cell_type": "code",
   "execution_count": 3,
   "id": "cedc3815-0d7f-436c-a6d3-2b657d85c16f",
   "metadata": {},
   "outputs": [
    {
     "data": {
      "text/html": [
       "<table class=\"table table-hover table-striped table-sm table-responsive small\">\n",
       "    <tr>\n",
       "        <th>Measurement date</th>\n",
       "        \n",
       "        <td>October 15, 2015  12:26:35 GMT</td>\n",
       "        \n",
       "    </tr>\n",
       "    <tr>\n",
       "        <th>Experimenter</th>\n",
       "        \n",
       "        <td>Unknown</td>\n",
       "        \n",
       "    </tr>\n",
       "        <th>Participant</th>\n",
       "        \n",
       "        <td>Unknown</td>\n",
       "        \n",
       "    </tr>\n",
       "    <tr>\n",
       "        <th>Digitized points</th>\n",
       "        \n",
       "        <td>64 points</td>\n",
       "        \n",
       "    </tr>\n",
       "    <tr>\n",
       "        <th>Good channels</th>\n",
       "        <td>61 EEG, 2 EOG</td>\n",
       "    </tr>\n",
       "    <tr>\n",
       "        <th>Bad channels</th>\n",
       "        <td>None</td>\n",
       "    </tr>\n",
       "    <tr>\n",
       "        <th>EOG channels</th>\n",
       "        <td>LOc, ROc</td>\n",
       "    </tr>\n",
       "    <tr>\n",
       "        <th>ECG channels</th>\n",
       "        <td>Not available</td>\n",
       "    \n",
       "    <tr>\n",
       "        <th>Sampling frequency</th>\n",
       "        <td>1000.00 Hz</td>\n",
       "    </tr>\n",
       "    \n",
       "    \n",
       "    <tr>\n",
       "        <th>Highpass</th>\n",
       "        <td>0.00 Hz</td>\n",
       "    </tr>\n",
       "    \n",
       "    \n",
       "    <tr>\n",
       "        <th>Lowpass</th>\n",
       "        <td>200.00 Hz</td>\n",
       "    </tr>\n",
       "    \n",
       "    \n",
       "    \n",
       "    <tr>\n",
       "        <th>Filenames</th>\n",
       "        <td>reref_filterd_raw.fif</td>\n",
       "    </tr>\n",
       "    \n",
       "    <tr>\n",
       "        <th>Duration</th>\n",
       "        <td>00:30:07 (HH:MM:SS)</td>\n",
       "    </tr>\n",
       "</table>"
      ],
      "text/plain": [
       "<Raw | reref_filterd_raw.fif, 63 x 1806050 (1806.0 s), ~868.2 MB, data loaded>"
      ]
     },
     "execution_count": 3,
     "metadata": {},
     "output_type": "execute_result"
    }
   ],
   "source": [
    "raw"
   ]
  },
  {
   "cell_type": "markdown",
   "id": "08bd83bc",
   "metadata": {},
   "source": [
    "# Epoching data"
   ]
  },
  {
   "cell_type": "code",
   "execution_count": 32,
   "id": "9acf15ad",
   "metadata": {
    "scrolled": true
   },
   "outputs": [
    {
     "data": {
      "text/plain": [
       "4"
      ]
     },
     "execution_count": 32,
     "metadata": {},
     "output_type": "execute_result"
    }
   ],
   "source": [
    "gc.collect()"
   ]
  },
  {
   "cell_type": "markdown",
   "id": "ac942cfc",
   "metadata": {},
   "source": [
    "## Global variables & filtering"
   ]
  },
  {
   "cell_type": "code",
   "execution_count": 33,
   "id": "4d91c339",
   "metadata": {},
   "outputs": [],
   "source": [
    "# Frequency bands\n",
    "\n",
    "bands = [(0.9, 4, 'Delta (0.9-4 Hz)', 'D'), (4, 8, 'Theta (4-8 Hz)', 'T'), (8, 14, 'Alpha (8-14 Hz)', 'A'), \n",
    "         (14, 25, 'Beta (14-25 Hz)', 'B'), (25, 45, 'Gamma (25-45 Hz)', 'G')]\n",
    "\n",
    "str_freq_rr = [bands[i][3] for i in range(len(bands))] #bands names 'D', 'T', 'A', 'B', 'G'\n",
    "n_freq = len(str_freq_rr) # 5"
   ]
  },
  {
   "cell_type": "code",
   "execution_count": null,
   "id": "7bbafe55-1d48-4bc6-a408-7e7e88286cb5",
   "metadata": {},
   "outputs": [],
   "source": []
  },
  {
   "cell_type": "code",
   "execution_count": 34,
   "id": "c123003f",
   "metadata": {},
   "outputs": [],
   "source": [
    "# Localization by scalp regions\n",
    "\n",
    "regions = [(['Fp1','Fp2','Fpz'], 'Fp', 'Pre-frontal'),\n",
    "           (['AF7, AF3','AF4','AF8'], 'AF', 'In-between frontal'),\n",
    "           (['F9','F7','F5','F3','FT9','FT7','FC5','FC3'], 'LF', 'Left Frontal'),\n",
    "           (['F1','Fz','F2','FC1','FCz','FC2'], 'MF', 'Midline Frontal'),\n",
    "           (['F4','F6','F8','F10','FC4','FC6','FT8','FT10'], 'RF', 'Right Frontal'),\n",
    "           (['T7','TP9','TP7'], 'LT', 'Left Temporal'),\n",
    "           (['T8','TP8','TP10'], 'RT', 'Right Temporal'),\n",
    "           (['C5','C3','CP5','CP3'], 'LC', 'Left Central'),\n",
    "           (['C1','Cz','C2','CP1','CPz', 'CP2'], 'MC', 'Midline Central'),\n",
    "           (['C4','C6','CP4','CP6'], 'RC', 'Right Central'),\n",
    "           (['P9','P7','P5','P3'], 'LP', 'Left Parietal'),\n",
    "           (['P1','Pz','P2'], 'MP', 'Midline Parietal'),\n",
    "           (['P4','P6','P8','P10'], 'RP', 'Right Parietal'),\n",
    "           (['PO9','PO7','PO3','O1'], 'LO', 'Left Occipital'),\n",
    "           (['POz','Oz'], 'MO', 'Midline Occipital'),\n",
    "           (['PO4','PO8','PO10','O2'], 'RO', 'Right Occipital')]\n",
    "\n",
    "\n",
    "n_regions = len(regions)\n"
   ]
  },
  {
   "cell_type": "markdown",
   "id": "bc8041d4",
   "metadata": {},
   "source": [
    "## Epoching"
   ]
  },
  {
   "cell_type": "code",
   "execution_count": 35,
   "id": "e18b210a",
   "metadata": {},
   "outputs": [
    {
     "data": {
      "text/plain": [
       "0"
      ]
     },
     "execution_count": 35,
     "metadata": {},
     "output_type": "execute_result"
    }
   ],
   "source": [
    "gc.collect()"
   ]
  },
  {
   "cell_type": "code",
   "execution_count": 42,
   "id": "dd941d6e",
   "metadata": {
    "scrolled": true
   },
   "outputs": [
    {
     "name": "stdout",
     "output_type": "stream",
     "text": [
      "Not setting metadata\n",
      "361 matching events found\n",
      "No baseline correction applied\n",
      "0 projection items activated\n",
      "Using data from preloaded Raw for 361 events and 1001 original time points ...\n",
      "0 bad epochs dropped\n"
     ]
    }
   ],
   "source": [
    "# Epochs by fixed length events, duration 5s, overlap 0.2s (re-referenced)\n",
    "\n",
    "sec5_events = mne.make_fixed_length_events(raw, start=0.5, duration=5.)\n",
    "kwargs = dict(baseline=None, tmin=-0.5, tmax=0.5, preload=True)\n",
    "sec5_epochs = mne.Epochs(raw, sec5_events.astype(int), **kwargs)[2:-2]\n",
    "\n"
   ]
  },
  {
   "cell_type": "code",
   "execution_count": 43,
   "id": "559c3c43",
   "metadata": {},
   "outputs": [
    {
     "name": "stdout",
     "output_type": "stream",
     "text": [
      "NOTE: pick_channels() is a legacy function. New code should use inst.pick(...).\n",
      "No projector specified for this dataset. Please consider the method self.add_proj.\n",
      "NOTE: pick_channels() is a legacy function. New code should use inst.pick(...).\n"
     ]
    },
    {
     "data": {
      "image/png": "[encoded data removed]",
      "text/plain": [
       "<Figure size 800x420 with 7 Axes>"
      ]
     },
     "metadata": {},
     "output_type": "display_data"
    },
    {
     "name": "stdout",
     "output_type": "stream",
     "text": [
      "\n"
     ]
    }
   ],
   "source": [
    "sec5_epochs.average().plot_joint()\n",
    "print()"
   ]
  },
  {
   "cell_type": "code",
   "execution_count": 44,
   "id": "5efad911",
   "metadata": {},
   "outputs": [],
   "source": [
    "# Global variables\n",
    "\n",
    "ch_names = sec5_epochs.ch_names\n",
    "n_freq = len(str_freq_rr)\n",
    "n_channels = len(ch_names)\n",
    "\n",
    "n_samples = sec5_epochs.__len__()\n",
    "n_times = len(sec5_epochs.get_data()[0,0,:])\n",
    "\n",
    "sampling_rate = raw.info['sfreq']"
   ]
  },
  {
   "cell_type": "markdown",
   "id": "d2835e30",
   "metadata": {},
   "source": [
    "# Extract features"
   ]
  },
  {
   "cell_type": "markdown",
   "id": "62c848c2",
   "metadata": {},
   "source": [
    "## PSD features"
   ]
  },
  {
   "cell_type": "code",
   "execution_count": 45,
   "id": "2c8c32a0",
   "metadata": {},
   "outputs": [
    {
     "name": "stdout",
     "output_type": "stream",
     "text": [
      "    Using multitaper spectrum estimation with 7 DPSS windows\n"
     ]
    }
   ],
   "source": [
    "# Calculating PSD for re-referenced epochs (Multitaper)\n",
    "\n",
    "kwargs = dict(fmin=bands[0][0], fmax=bands[-1][1], sfreq=sampling_rate, bandwidth=None, adaptive=True, n_jobs=1)\n",
    "rr_psd_mtaper, rr_freq_mtaper = psd_array_multitaper(sec5_epochs.get_data(), **kwargs)\n",
    "\n"
   ]
  },
  {
   "cell_type": "code",
   "execution_count": null,
   "id": "308ba38e-5022-4be3-bb1d-b7e19d1c873b",
   "metadata": {},
   "outputs": [],
   "source": []
  },
  {
   "cell_type": "code",
   "execution_count": null,
   "id": "53da6bdc",
   "metadata": {},
   "outputs": [],
   "source": [
    "# print(rr_freq_mtaper) # 0.9 - 40\n",
    "# print(rr_psd_mtaper.shape) # (2497, 70, 40)"
   ]
  },
  {
   "cell_type": "code",
   "execution_count": 14,
   "id": "942ed280",
   "metadata": {},
   "outputs": [],
   "source": [
    "freq_masks = [(fmin < rr_freq_mtaper) & (rr_freq_mtaper < fmax) for (fmin, fmax, _, _) in bands]\n",
    "loc_masks = [[ch_names[i] in reg for i in range(n_channels)] for (reg, _, _) in regions] # 16 x 70\n",
    "# loc_plt_masks = [[ch_names[i] in reg for i in range(n_channels)] for (reg, _, _) in regions_plt] # 9 x 70\n"
   ]
  },
  {
   "cell_type": "code",
   "execution_count": 15,
   "id": "8a0c3a4c",
   "metadata": {},
   "outputs": [],
   "source": [
    "# for each frequency band (2497, 70, 5)\n",
    "ft_psd_spectr_raw = np.array([np.mean(rr_psd_mtaper[:,:, _freq_mask], axis=2) for _freq_mask in freq_masks]).transpose(1,2,0)\n",
    "# for each freq. band + for region (2497, 16, 5)\n",
    "ft_psd_sp_loc_raw = np.array([np.mean(ft_psd_spectr_raw[:,_mask,:], axis=1) for _mask in loc_masks]).transpose(1,0,2)\n",
    "# average among channels by epoch for each band (2497, 5)\n",
    "ft_psd_sp_all_raw = np.mean(ft_psd_spectr_raw, axis=1)\n"
   ]
  },
  {
   "cell_type": "code",
   "execution_count": 16,
   "id": "54e5ae46",
   "metadata": {},
   "outputs": [],
   "source": [
    "ft_psd_spectr_db = 10 * np.log10(ft_psd_spectr_raw) # Convert psd to dB format\n",
    "ft_psd_sp_loc_db = 10 * np.log10(ft_psd_sp_loc_raw) # Convert psd to dB \n",
    "ft_psd_sp_all_db = 10 * np.log10(ft_psd_sp_all_raw) # Convert psd to dB format"
   ]
  },
  {
   "cell_type": "code",
   "execution_count": 17,
   "id": "45329cf4",
   "metadata": {},
   "outputs": [],
   "source": [
    "\n",
    "df_ft_psd_raw = pd.DataFrame()\n",
    "df_ft_psd_db = pd.DataFrame()\n",
    "\n",
    "df_ft_psd_loc_raw = pd.DataFrame()\n",
    "df_ft_psd_loc_db = pd.DataFrame()\n",
    "\n",
    "df_ft_psd_all_raw = pd.DataFrame()\n",
    "df_ft_psd_all_db = pd.DataFrame()"
   ]
  },
  {
   "cell_type": "code",
   "execution_count": 18,
   "id": "22a80998",
   "metadata": {},
   "outputs": [],
   "source": [
    "for i in range(n_freq): # 5\n",
    "    for j in range(n_channels): # 70\n",
    "        df_ft_psd_raw[str_freq_rr[i]+'_psd_'+ch_names[j]] = ft_psd_spectr_raw[:,j,i]\n",
    "        df_ft_psd_db[str_freq_rr[i]+'_psd_'+ch_names[j]] = ft_psd_spectr_db[:,j,i]\n",
    "    for j in range(n_regions):    \n",
    "        df_ft_psd_loc_raw[str_freq_rr[i]+'_psd_'+regions[j][1]] = ft_psd_sp_loc_raw[:,j,i]\n",
    "        df_ft_psd_loc_db[str_freq_rr[i]+'_psd_'+regions[j][1]] = ft_psd_sp_loc_db[:,j,i]\n",
    "    df_ft_psd_all_raw[str_freq_rr[i]+'_psd_All'] = ft_psd_sp_all_raw[:,i]\n",
    "    df_ft_psd_all_db[str_freq_rr[i]+'_psd_All'] = ft_psd_sp_all_db[:,i]\n",
    "\n"
   ]
  },
  {
   "cell_type": "code",
   "execution_count": 19,
   "id": "abde37d9",
   "metadata": {},
   "outputs": [],
   "source": [
    "# Scaling dB re-referenced data\n",
    "ft_psd_db_sc = StandardScaler().fit_transform(df_ft_psd_db.to_numpy())\n",
    "df_ft_psd_db_sc = pd.DataFrame(ft_psd_db_sc, columns=df_ft_psd_db.columns)\n",
    "\n",
    "ft_psd_loc_db_sc = StandardScaler().fit_transform(df_ft_psd_loc_db.to_numpy())\n",
    "df_ft_psd_loc_db_sc = pd.DataFrame(ft_psd_loc_db_sc, columns=df_ft_psd_loc_db.columns)\n",
    "\n",
    "ft_psd_all_db_sc = StandardScaler().fit_transform(df_ft_psd_all_db.to_numpy())\n",
    "df_ft_psd_all_db_sc = pd.DataFrame(ft_psd_all_db_sc, columns=df_ft_psd_all_db.columns)"
   ]
  },
  {
   "cell_type": "markdown",
   "id": "9af8df69",
   "metadata": {},
   "source": [
    "## PSD Indices"
   ]
  },
  {
   "cell_type": "code",
   "execution_count": 20,
   "id": "2c7b5d00",
   "metadata": {},
   "outputs": [],
   "source": [
    "df_ft_psd_ind = pd.DataFrame()\n",
    "\n",
    "# theta/delta, alpha/delta, alpha/theta, alpha/(delta+theta), \n",
    "# beta/delta, beta/theta, beta/alpha, beta/(delta+theta), \n",
    "# beta/(theta+alpha), gamma/delta, gamma/theta, gamma/alpha, gamma/beta, \n",
    "# gamma/(delta+theta), gamma/(theta+alpha) and gamma /(alpha+beta)\n",
    "str_psd_ind = ['T_D','A_D','A_T','A_DT','B_D','B_T','B_A','B_DT','B_TA','G_D','G_T','G_A','G_B','G_DT','G_TA','G_AB']\n",
    "\n",
    "df_ft_psd_ind_loc = pd.DataFrame()\n",
    "df_ft_psd_ind_all = pd.DataFrame()\n",
    "\n",
    "# Indices per region (averaged PSD)\n",
    "for _r in range(n_regions):\n",
    "    for ind in str_psd_ind:\n",
    "        if (len(ind)==3):\n",
    "            df_ft_psd_ind_loc[ind+'_psd_'+regions[_r][1]] = (df_ft_psd_loc_raw[ind[0]+'_psd_'+regions[_r][1]] / \n",
    "                                                             df_ft_psd_loc_raw[ind[2]+'_psd_'+regions[_r][1]])\n",
    "        elif (len(ind)==4):\n",
    "            df_ft_psd_ind_loc[ind+'_psd_'+regions[_r][1]] = (df_ft_psd_loc_raw[ind[0]+'_psd_'+regions[_r][1]] / \n",
    "                                                            (df_ft_psd_loc_raw[ind[2]+'_psd_'+regions[_r][1]]+\n",
    "                                                             df_ft_psd_loc_raw[ind[3]+'_psd_'+regions[_r][1]]))\n",
    "\n",
    "# Indices for all channels averaged PSD\n",
    "for ind in str_psd_ind:\n",
    "    if (len(ind)==3):\n",
    "        df_ft_psd_ind_all[ind+'_psd_All'] = (df_ft_psd_all_raw[ind[0]+'_psd_All'] / \n",
    "                                             df_ft_psd_all_raw[ind[2]+'_psd_All'])\n",
    "    elif (len(ind)==4):\n",
    "        df_ft_psd_ind_all[ind+'_psd_All'] = (df_ft_psd_all_raw[ind[0]+'_psd_All'] / \n",
    "                                            (df_ft_psd_all_raw[ind[2]+'_psd_All']+\n",
    "                                             df_ft_psd_all_raw[ind[3]+'_psd_All']))\n"
   ]
  },
  {
   "cell_type": "code",
   "execution_count": 21,
   "id": "a8ee2a09",
   "metadata": {
    "scrolled": true
   },
   "outputs": [],
   "source": [
    "# Log-scaling PSD indices (dB format)\n",
    "df_ft_psd_ind_loc_log = 10 * np.log10(df_ft_psd_ind_loc)\n",
    "df_ft_psd_ind_all_log = 10 * np.log10(df_ft_psd_ind_all)\n",
    "\n",
    "# Scaling\n",
    "ft_psd_ind_loc_sc = StandardScaler().fit_transform(df_ft_psd_ind_loc_log.to_numpy())\n",
    "df_ft_psd_ind_loc_sc = pd.DataFrame(ft_psd_ind_loc_sc, columns=df_ft_psd_ind_loc_log.columns)\n",
    "\n",
    "ft_psd_ind_all_sc = StandardScaler().fit_transform(df_ft_psd_ind_all_log.to_numpy())\n",
    "df_ft_psd_ind_all_sc = pd.DataFrame(ft_psd_ind_all_sc, columns=df_ft_psd_ind_all_log.columns)\n"
   ]
  },
  {
   "cell_type": "markdown",
   "id": "a367bef5",
   "metadata": {},
   "source": [
    "## Coherence & PLV features"
   ]
  },
  {
   "cell_type": "code",
   "execution_count": 22,
   "id": "9d1567c0",
   "metadata": {},
   "outputs": [
    {
     "name": "stdout",
     "output_type": "stream",
     "text": [
      "(357, 63, 1001)\n",
      "(357, 16, 1001)\n"
     ]
    }
   ],
   "source": [
    "# Averaging epochs by region\n",
    "loc_masks = [[ch_names[i] in reg for i in range(n_channels)] for (reg, _, _) in regions]\n",
    "\n",
    "# Re-referenced data\n",
    "ft_epochs = sec5_epochs.get_data()\n",
    "ft_epochs_loc = np.array([np.mean(ft_epochs[:,_mask,:], axis=1) for _mask in loc_masks]).transpose(1,0,2)\n",
    "\n",
    "print(ft_epochs.shape)\n",
    "print(ft_epochs_loc.shape)\n"
   ]
  },
  {
   "cell_type": "code",
   "execution_count": 23,
   "id": "993bc6a2",
   "metadata": {
    "scrolled": true
   },
   "outputs": [
    {
     "name": "stdout",
     "output_type": "stream",
     "text": [
      "    Using multitaper spectrum estimation with 7 DPSS windows\n",
      "Computing cross-spectral density from epochs...\n",
      "Got 8 parallel jobs after requesting -1\n",
      "Using ProgressBar with tqdm.auto\n"
     ]
    },
    {
     "data": {
      "application/vnd.jupyter.widget-view+json": {
       "model_id": "6d795d212a4a4ff29e96a80d7e11b029",
       "version_major": 2,
       "version_minor": 0
      },
      "text/plain": [
       "  0%|          | CSD epoch blocks : 0/1 [00:00<?,       ?it/s]"
      ]
     },
     "metadata": {},
     "output_type": "display_data"
    },
    {
     "name": "stderr",
     "output_type": "stream",
     "text": [
      "[Parallel(n_jobs=-1)]: Using backend LokyBackend with 8 concurrent workers.\n"
     ]
    },
    {
     "name": "stdout",
     "output_type": "stream",
     "text": [
      "[done]\n",
      "    Using multitaper spectrum estimation with 7 DPSS windows\n",
      "Computing cross-spectral density from epochs...\n",
      "Got 8 parallel jobs after requesting -1\n",
      "Using ProgressBar with tqdm.auto\n"
     ]
    },
    {
     "data": {
      "application/vnd.jupyter.widget-view+json": {
       "model_id": "6711562589fe492a949d1eecae242125",
       "version_major": 2,
       "version_minor": 0
      },
      "text/plain": [
       "  0%|          | CSD epoch blocks : 0/1 [00:00<?,       ?it/s]"
      ]
     },
     "metadata": {},
     "output_type": "display_data"
    },
    {
     "name": "stderr",
     "output_type": "stream",
     "text": [
      "[Parallel(n_jobs=-1)]: Using backend LokyBackend with 8 concurrent workers.\n"
     ]
    },
    {
     "name": "stdout",
     "output_type": "stream",
     "text": [
      "[done]\n",
      "0\n",
      "    Using multitaper spectrum estimation with 7 DPSS windows\n",
      "Computing cross-spectral density from epochs...\n",
      "Got 8 parallel jobs after requesting -1\n",
      "Using ProgressBar with tqdm.auto\n"
     ]
    },
    {
     "name": "stderr",
     "output_type": "stream",
     "text": [
      "/Users/savochkin/miniconda3/envs/myenv/lib/python3.9/site-packages/joblib/parallel.py:589: RuntimeWarning: Iterative multi-taper PSD computation did not converge.\n",
      "  return [func(*args, **kwargs)\n"
     ]
    },
    {
     "data": {
      "application/vnd.jupyter.widget-view+json": {
       "model_id": "287b1604131440769f60bb0e260acc73",
       "version_major": 2,
       "version_minor": 0
      },
      "text/plain": [
       "  0%|          | CSD epoch blocks : 0/1 [00:00<?,       ?it/s]"
      ]
     },
     "metadata": {},
     "output_type": "display_data"
    },
    {
     "name": "stderr",
     "output_type": "stream",
     "text": [
      "[Parallel(n_jobs=-1)]: Using backend LokyBackend with 8 concurrent workers.\n"
     ]
    },
    {
     "name": "stdout",
     "output_type": "stream",
     "text": [
      "[done]\n",
      "    Using multitaper spectrum estimation with 7 DPSS windows\n",
      "Computing cross-spectral density from epochs...\n",
      "Got 8 parallel jobs after requesting -1\n",
      "Using ProgressBar with tqdm.auto\n"
     ]
    },
    {
     "data": {
      "application/vnd.jupyter.widget-view+json": {
       "model_id": "a5f7aeeaabd2499ba96fc489c4fea580",
       "version_major": 2,
       "version_minor": 0
      },
      "text/plain": [
       "  0%|          | CSD epoch blocks : 0/1 [00:00<?,       ?it/s]"
      ]
     },
     "metadata": {},
     "output_type": "display_data"
    },
    {
     "name": "stdout",
     "output_type": "stream",
     "text": [
      "[done]\n",
      "1\n",
      "    Using multitaper spectrum estimation with 7 DPSS windows\n",
      "Computing cross-spectral density from epochs...\n",
      "Got 8 parallel jobs after requesting -1\n",
      "Using ProgressBar with tqdm.auto\n"
     ]
    },
    {
     "name": "stderr",
     "output_type": "stream",
     "text": [
      "[Parallel(n_jobs=-1)]: Using backend LokyBackend with 8 concurrent workers.\n",
      "/Users/savochkin/miniconda3/envs/myenv/lib/python3.9/site-packages/joblib/parallel.py:589: RuntimeWarning: Iterative multi-taper PSD computation did not converge.\n",
      "  return [func(*args, **kwargs)\n"
     ]
    },
    {
     "data": {
      "application/vnd.jupyter.widget-view+json": {
       "model_id": "b26582b84949460e8d0d5293f57aee86",
       "version_major": 2,
       "version_minor": 0
      },
      "text/plain": [
       "  0%|          | CSD epoch blocks : 0/1 [00:00<?,       ?it/s]"
      ]
     },
     "metadata": {},
     "output_type": "display_data"
    },
    {
     "name": "stdout",
     "output_type": "stream",
     "text": [
      "[done]\n",
      "    Using multitaper spectrum estimation with 7 DPSS windows\n",
      "Computing cross-spectral density from epochs...\n",
      "Got 8 parallel jobs after requesting -1\n",
      "Using ProgressBar with tqdm.auto\n"
     ]
    },
    {
     "name": "stderr",
     "output_type": "stream",
     "text": [
      "[Parallel(n_jobs=-1)]: Using backend LokyBackend with 8 concurrent workers.\n"
     ]
    },
    {
     "data": {
      "application/vnd.jupyter.widget-view+json": {
       "model_id": "fa6e0bd7b4564e2a8aa1716d186f0b13",
       "version_major": 2,
       "version_minor": 0
      },
      "text/plain": [
       "  0%|          | CSD epoch blocks : 0/1 [00:00<?,       ?it/s]"
      ]
     },
     "metadata": {},
     "output_type": "display_data"
    },
    {
     "name": "stderr",
     "output_type": "stream",
     "text": [
      "[Parallel(n_jobs=-1)]: Using backend LokyBackend with 8 concurrent workers.\n"
     ]
    },
    {
     "name": "stdout",
     "output_type": "stream",
     "text": [
      "[done]\n",
      "2\n",
      "    Using multitaper spectrum estimation with 7 DPSS windows\n",
      "Computing cross-spectral density from epochs...\n",
      "Got 8 parallel jobs after requesting -1\n",
      "Using ProgressBar with tqdm.auto\n"
     ]
    },
    {
     "name": "stderr",
     "output_type": "stream",
     "text": [
      "/Users/savochkin/miniconda3/envs/myenv/lib/python3.9/site-packages/joblib/parallel.py:589: RuntimeWarning: Iterative multi-taper PSD computation did not converge.\n",
      "  return [func(*args, **kwargs)\n"
     ]
    },
    {
     "data": {
      "application/vnd.jupyter.widget-view+json": {
       "model_id": "26359d1d7c94434dbf4006524cfb3ef8",
       "version_major": 2,
       "version_minor": 0
      },
      "text/plain": [
       "  0%|          | CSD epoch blocks : 0/1 [00:00<?,       ?it/s]"
      ]
     },
     "metadata": {},
     "output_type": "display_data"
    },
    {
     "name": "stderr",
     "output_type": "stream",
     "text": [
      "[Parallel(n_jobs=-1)]: Using backend LokyBackend with 8 concurrent workers.\n"
     ]
    },
    {
     "name": "stdout",
     "output_type": "stream",
     "text": [
      "[done]\n",
      "    Using multitaper spectrum estimation with 7 DPSS windows\n",
      "Computing cross-spectral density from epochs...\n",
      "Got 8 parallel jobs after requesting -1\n",
      "Using ProgressBar with tqdm.auto\n"
     ]
    },
    {
     "data": {
      "application/vnd.jupyter.widget-view+json": {
       "model_id": "dc8d209cc53e430db93db1e4636e3eb0",
       "version_major": 2,
       "version_minor": 0
      },
      "text/plain": [
       "  0%|          | CSD epoch blocks : 0/1 [00:00<?,       ?it/s]"
      ]
     },
     "metadata": {},
     "output_type": "display_data"
    },
    {
     "name": "stdout",
     "output_type": "stream",
     "text": [
      "[done]\n",
      "3\n",
      "    Using multitaper spectrum estimation with 7 DPSS windows\n",
      "Computing cross-spectral density from epochs...\n",
      "Got 8 parallel jobs after requesting -1\n",
      "Using ProgressBar with tqdm.auto\n"
     ]
    },
    {
     "name": "stderr",
     "output_type": "stream",
     "text": [
      "[Parallel(n_jobs=-1)]: Using backend LokyBackend with 8 concurrent workers.\n",
      "/Users/savochkin/miniconda3/envs/myenv/lib/python3.9/site-packages/joblib/parallel.py:589: RuntimeWarning: Iterative multi-taper PSD computation did not converge.\n",
      "  return [func(*args, **kwargs)\n"
     ]
    },
    {
     "data": {
      "application/vnd.jupyter.widget-view+json": {
       "model_id": "d7a9231b9c9b49cd8eb33045b146642e",
       "version_major": 2,
       "version_minor": 0
      },
      "text/plain": [
       "  0%|          | CSD epoch blocks : 0/1 [00:00<?,       ?it/s]"
      ]
     },
     "metadata": {},
     "output_type": "display_data"
    },
    {
     "name": "stdout",
     "output_type": "stream",
     "text": [
      "[done]\n",
      "    Using multitaper spectrum estimation with 7 DPSS windows\n",
      "Computing cross-spectral density from epochs...\n",
      "Got 8 parallel jobs after requesting -1\n",
      "Using ProgressBar with tqdm.auto\n"
     ]
    },
    {
     "name": "stderr",
     "output_type": "stream",
     "text": [
      "[Parallel(n_jobs=-1)]: Using backend LokyBackend with 8 concurrent workers.\n"
     ]
    },
    {
     "data": {
      "application/vnd.jupyter.widget-view+json": {
       "model_id": "31a3397cfeca4334976b0f8a14925e4b",
       "version_major": 2,
       "version_minor": 0
      },
      "text/plain": [
       "  0%|          | CSD epoch blocks : 0/1 [00:00<?,       ?it/s]"
      ]
     },
     "metadata": {},
     "output_type": "display_data"
    },
    {
     "name": "stdout",
     "output_type": "stream",
     "text": [
      "[done]\n",
      "4\n",
      "    Using multitaper spectrum estimation with 7 DPSS windows\n",
      "Computing cross-spectral density from epochs...\n",
      "Got 8 parallel jobs after requesting -1\n",
      "Using ProgressBar with tqdm.auto\n"
     ]
    },
    {
     "name": "stderr",
     "output_type": "stream",
     "text": [
      "[Parallel(n_jobs=-1)]: Using backend LokyBackend with 8 concurrent workers.\n",
      "/Users/savochkin/miniconda3/envs/myenv/lib/python3.9/site-packages/joblib/parallel.py:589: RuntimeWarning: Iterative multi-taper PSD computation did not converge.\n",
      "  return [func(*args, **kwargs)\n"
     ]
    },
    {
     "data": {
      "application/vnd.jupyter.widget-view+json": {
       "model_id": "97d52ba360d24d6f82662dce07508af3",
       "version_major": 2,
       "version_minor": 0
      },
      "text/plain": [
       "  0%|          | CSD epoch blocks : 0/1 [00:00<?,       ?it/s]"
      ]
     },
     "metadata": {},
     "output_type": "display_data"
    },
    {
     "name": "stderr",
     "output_type": "stream",
     "text": [
      "[Parallel(n_jobs=-1)]: Using backend LokyBackend with 8 concurrent workers.\n"
     ]
    },
    {
     "name": "stdout",
     "output_type": "stream",
     "text": [
      "[done]\n",
      "    Using multitaper spectrum estimation with 7 DPSS windows\n",
      "Computing cross-spectral density from epochs...\n",
      "Got 8 parallel jobs after requesting -1\n",
      "Using ProgressBar with tqdm.auto\n"
     ]
    },
    {
     "data": {
      "application/vnd.jupyter.widget-view+json": {
       "model_id": "49ac4e01c7e749e6a4beb0335cdbab0f",
       "version_major": 2,
       "version_minor": 0
      },
      "text/plain": [
       "  0%|          | CSD epoch blocks : 0/1 [00:00<?,       ?it/s]"
      ]
     },
     "metadata": {},
     "output_type": "display_data"
    },
    {
     "name": "stdout",
     "output_type": "stream",
     "text": [
      "[done]\n",
      "5\n",
      "    Using multitaper spectrum estimation with 7 DPSS windows\n",
      "Computing cross-spectral density from epochs...\n",
      "Got 8 parallel jobs after requesting -1\n",
      "Using ProgressBar with tqdm.auto\n"
     ]
    },
    {
     "name": "stderr",
     "output_type": "stream",
     "text": [
      "[Parallel(n_jobs=-1)]: Using backend LokyBackend with 8 concurrent workers.\n",
      "/Users/savochkin/miniconda3/envs/myenv/lib/python3.9/site-packages/joblib/parallel.py:589: RuntimeWarning: Iterative multi-taper PSD computation did not converge.\n",
      "  return [func(*args, **kwargs)\n"
     ]
    },
    {
     "data": {
      "application/vnd.jupyter.widget-view+json": {
       "model_id": "773a14b772f34a3082b7446d305ebd7d",
       "version_major": 2,
       "version_minor": 0
      },
      "text/plain": [
       "  0%|          | CSD epoch blocks : 0/1 [00:00<?,       ?it/s]"
      ]
     },
     "metadata": {},
     "output_type": "display_data"
    },
    {
     "name": "stderr",
     "output_type": "stream",
     "text": [
      "[Parallel(n_jobs=-1)]: Using backend LokyBackend with 8 concurrent workers.\n"
     ]
    },
    {
     "name": "stdout",
     "output_type": "stream",
     "text": [
      "[done]\n",
      "    Using multitaper spectrum estimation with 7 DPSS windows\n",
      "Computing cross-spectral density from epochs...\n",
      "Got 8 parallel jobs after requesting -1\n",
      "Using ProgressBar with tqdm.auto\n"
     ]
    },
    {
     "data": {
      "application/vnd.jupyter.widget-view+json": {
       "model_id": "970f07024f0d451f8e20c90a1f53fde7",
       "version_major": 2,
       "version_minor": 0
      },
      "text/plain": [
       "  0%|          | CSD epoch blocks : 0/1 [00:00<?,       ?it/s]"
      ]
     },
     "metadata": {},
     "output_type": "display_data"
    },
    {
     "name": "stdout",
     "output_type": "stream",
     "text": [
      "[done]\n",
      "6\n",
      "    Using multitaper spectrum estimation with 7 DPSS windows\n",
      "Computing cross-spectral density from epochs...\n",
      "Got 8 parallel jobs after requesting -1\n",
      "Using ProgressBar with tqdm.auto\n"
     ]
    },
    {
     "name": "stderr",
     "output_type": "stream",
     "text": [
      "[Parallel(n_jobs=-1)]: Using backend LokyBackend with 8 concurrent workers.\n",
      "/Users/savochkin/miniconda3/envs/myenv/lib/python3.9/site-packages/joblib/parallel.py:589: RuntimeWarning: Iterative multi-taper PSD computation did not converge.\n",
      "  return [func(*args, **kwargs)\n"
     ]
    },
    {
     "data": {
      "application/vnd.jupyter.widget-view+json": {
       "model_id": "1a946a64190943e8bdab0e7e535ea6ed",
       "version_major": 2,
       "version_minor": 0
      },
      "text/plain": [
       "  0%|          | CSD epoch blocks : 0/1 [00:00<?,       ?it/s]"
      ]
     },
     "metadata": {},
     "output_type": "display_data"
    },
    {
     "name": "stdout",
     "output_type": "stream",
     "text": [
      "[done]\n",
      "    Using multitaper spectrum estimation with 7 DPSS windows\n",
      "Computing cross-spectral density from epochs...\n",
      "Got 8 parallel jobs after requesting -1\n",
      "Using ProgressBar with tqdm.auto\n"
     ]
    },
    {
     "name": "stderr",
     "output_type": "stream",
     "text": [
      "[Parallel(n_jobs=-1)]: Using backend LokyBackend with 8 concurrent workers.\n"
     ]
    },
    {
     "data": {
      "application/vnd.jupyter.widget-view+json": {
       "model_id": "e329a095f7ae443bbef0dc1f7aa660ca",
       "version_major": 2,
       "version_minor": 0
      },
      "text/plain": [
       "  0%|          | CSD epoch blocks : 0/1 [00:00<?,       ?it/s]"
      ]
     },
     "metadata": {},
     "output_type": "display_data"
    },
    {
     "name": "stdout",
     "output_type": "stream",
     "text": [
      "[done]\n",
      "7\n",
      "    Using multitaper spectrum estimation with 7 DPSS windows\n",
      "Computing cross-spectral density from epochs...\n",
      "Got 8 parallel jobs after requesting -1\n",
      "Using ProgressBar with tqdm.auto\n"
     ]
    },
    {
     "name": "stderr",
     "output_type": "stream",
     "text": [
      "[Parallel(n_jobs=-1)]: Using backend LokyBackend with 8 concurrent workers.\n",
      "/Users/savochkin/miniconda3/envs/myenv/lib/python3.9/site-packages/joblib/parallel.py:589: RuntimeWarning: Iterative multi-taper PSD computation did not converge.\n",
      "  return [func(*args, **kwargs)\n"
     ]
    },
    {
     "data": {
      "application/vnd.jupyter.widget-view+json": {
       "model_id": "c590942246424bf38e2d8757aa6239d5",
       "version_major": 2,
       "version_minor": 0
      },
      "text/plain": [
       "  0%|          | CSD epoch blocks : 0/1 [00:00<?,       ?it/s]"
      ]
     },
     "metadata": {},
     "output_type": "display_data"
    },
    {
     "name": "stdout",
     "output_type": "stream",
     "text": [
      "[done]\n",
      "    Using multitaper spectrum estimation with 7 DPSS windows\n",
      "Computing cross-spectral density from epochs...\n",
      "Got 8 parallel jobs after requesting -1\n",
      "Using ProgressBar with tqdm.auto\n"
     ]
    },
    {
     "name": "stderr",
     "output_type": "stream",
     "text": [
      "[Parallel(n_jobs=-1)]: Using backend LokyBackend with 8 concurrent workers.\n"
     ]
    },
    {
     "data": {
      "application/vnd.jupyter.widget-view+json": {
       "model_id": "a2fb7f571e1e4fa9834a2f418b3bb222",
       "version_major": 2,
       "version_minor": 0
      },
      "text/plain": [
       "  0%|          | CSD epoch blocks : 0/1 [00:00<?,       ?it/s]"
      ]
     },
     "metadata": {},
     "output_type": "display_data"
    },
    {
     "name": "stderr",
     "output_type": "stream",
     "text": [
      "[Parallel(n_jobs=-1)]: Using backend LokyBackend with 8 concurrent workers.\n"
     ]
    },
    {
     "name": "stdout",
     "output_type": "stream",
     "text": [
      "[done]\n",
      "8\n",
      "    Using multitaper spectrum estimation with 7 DPSS windows\n",
      "Computing cross-spectral density from epochs...\n",
      "Got 8 parallel jobs after requesting -1\n",
      "Using ProgressBar with tqdm.auto\n"
     ]
    },
    {
     "name": "stderr",
     "output_type": "stream",
     "text": [
      "/Users/savochkin/miniconda3/envs/myenv/lib/python3.9/site-packages/joblib/parallel.py:589: RuntimeWarning: Iterative multi-taper PSD computation did not converge.\n",
      "  return [func(*args, **kwargs)\n"
     ]
    },
    {
     "data": {
      "application/vnd.jupyter.widget-view+json": {
       "model_id": "a1ef51d369894dddb8d6e3f3c1744b12",
       "version_major": 2,
       "version_minor": 0
      },
      "text/plain": [
       "  0%|          | CSD epoch blocks : 0/1 [00:00<?,       ?it/s]"
      ]
     },
     "metadata": {},
     "output_type": "display_data"
    },
    {
     "name": "stderr",
     "output_type": "stream",
     "text": [
      "[Parallel(n_jobs=-1)]: Using backend LokyBackend with 8 concurrent workers.\n"
     ]
    },
    {
     "name": "stdout",
     "output_type": "stream",
     "text": [
      "[done]\n",
      "    Using multitaper spectrum estimation with 7 DPSS windows\n",
      "Computing cross-spectral density from epochs...\n",
      "Got 8 parallel jobs after requesting -1\n",
      "Using ProgressBar with tqdm.auto\n"
     ]
    },
    {
     "data": {
      "application/vnd.jupyter.widget-view+json": {
       "model_id": "b0542eec6e314744b8505b12baafe642",
       "version_major": 2,
       "version_minor": 0
      },
      "text/plain": [
       "  0%|          | CSD epoch blocks : 0/1 [00:00<?,       ?it/s]"
      ]
     },
     "metadata": {},
     "output_type": "display_data"
    },
    {
     "name": "stdout",
     "output_type": "stream",
     "text": [
      "[done]\n",
      "9\n",
      "    Using multitaper spectrum estimation with 7 DPSS windows\n",
      "Computing cross-spectral density from epochs...\n",
      "Got 8 parallel jobs after requesting -1\n",
      "Using ProgressBar with tqdm.auto\n"
     ]
    },
    {
     "name": "stderr",
     "output_type": "stream",
     "text": [
      "[Parallel(n_jobs=-1)]: Using backend LokyBackend with 8 concurrent workers.\n",
      "/Users/savochkin/miniconda3/envs/myenv/lib/python3.9/site-packages/joblib/parallel.py:589: RuntimeWarning: Iterative multi-taper PSD computation did not converge.\n",
      "  return [func(*args, **kwargs)\n"
     ]
    },
    {
     "data": {
      "application/vnd.jupyter.widget-view+json": {
       "model_id": "c62fa4192d4146c69dc92e290c082e05",
       "version_major": 2,
       "version_minor": 0
      },
      "text/plain": [
       "  0%|          | CSD epoch blocks : 0/1 [00:00<?,       ?it/s]"
      ]
     },
     "metadata": {},
     "output_type": "display_data"
    },
    {
     "name": "stderr",
     "output_type": "stream",
     "text": [
      "[Parallel(n_jobs=-1)]: Using backend LokyBackend with 8 concurrent workers.\n"
     ]
    },
    {
     "name": "stdout",
     "output_type": "stream",
     "text": [
      "[done]\n",
      "    Using multitaper spectrum estimation with 7 DPSS windows\n",
      "Computing cross-spectral density from epochs...\n",
      "Got 8 parallel jobs after requesting -1\n",
      "Using ProgressBar with tqdm.auto\n"
     ]
    },
    {
     "data": {
      "application/vnd.jupyter.widget-view+json": {
       "model_id": "66e5737d8ff14fa9b28e7ab8dae75fb4",
       "version_major": 2,
       "version_minor": 0
      },
      "text/plain": [
       "  0%|          | CSD epoch blocks : 0/1 [00:00<?,       ?it/s]"
      ]
     },
     "metadata": {},
     "output_type": "display_data"
    },
    {
     "name": "stdout",
     "output_type": "stream",
     "text": [
      "[done]\n",
      "10\n",
      "    Using multitaper spectrum estimation with 7 DPSS windows\n",
      "Computing cross-spectral density from epochs...\n",
      "Got 8 parallel jobs after requesting -1\n",
      "Using ProgressBar with tqdm.auto\n"
     ]
    },
    {
     "name": "stderr",
     "output_type": "stream",
     "text": [
      "[Parallel(n_jobs=-1)]: Using backend LokyBackend with 8 concurrent workers.\n",
      "/Users/savochkin/miniconda3/envs/myenv/lib/python3.9/site-packages/joblib/parallel.py:589: RuntimeWarning: Iterative multi-taper PSD computation did not converge.\n",
      "  return [func(*args, **kwargs)\n"
     ]
    },
    {
     "data": {
      "application/vnd.jupyter.widget-view+json": {
       "model_id": "cb49ba669e334a498b05646c7a5bfbdf",
       "version_major": 2,
       "version_minor": 0
      },
      "text/plain": [
       "  0%|          | CSD epoch blocks : 0/1 [00:00<?,       ?it/s]"
      ]
     },
     "metadata": {},
     "output_type": "display_data"
    },
    {
     "name": "stderr",
     "output_type": "stream",
     "text": [
      "[Parallel(n_jobs=-1)]: Using backend LokyBackend with 8 concurrent workers.\n"
     ]
    },
    {
     "name": "stdout",
     "output_type": "stream",
     "text": [
      "[done]\n",
      "    Using multitaper spectrum estimation with 7 DPSS windows\n",
      "Computing cross-spectral density from epochs...\n",
      "Got 8 parallel jobs after requesting -1\n",
      "Using ProgressBar with tqdm.auto\n"
     ]
    },
    {
     "data": {
      "application/vnd.jupyter.widget-view+json": {
       "model_id": "6baf3d5a6f234971bbe9dded13c22cf1",
       "version_major": 2,
       "version_minor": 0
      },
      "text/plain": [
       "  0%|          | CSD epoch blocks : 0/1 [00:00<?,       ?it/s]"
      ]
     },
     "metadata": {},
     "output_type": "display_data"
    },
    {
     "name": "stdout",
     "output_type": "stream",
     "text": [
      "[done]\n"
     ]
    },
    {
     "name": "stderr",
     "output_type": "stream",
     "text": [
      "[Parallel(n_jobs=-1)]: Using backend LokyBackend with 8 concurrent workers.\n",
      "/Users/savochkin/miniconda3/envs/myenv/lib/python3.9/site-packages/joblib/parallel.py:589: RuntimeWarning: Iterative multi-taper PSD computation did not converge.\n",
      "  return [func(*args, **kwargs)\n"
     ]
    },
    {
     "name": "stdout",
     "output_type": "stream",
     "text": [
      "11\n",
      "    Using multitaper spectrum estimation with 7 DPSS windows\n",
      "Computing cross-spectral density from epochs...\n",
      "Got 8 parallel jobs after requesting -1\n",
      "Using ProgressBar with tqdm.auto\n"
     ]
    },
    {
     "data": {
      "application/vnd.jupyter.widget-view+json": {
       "model_id": "336a59927ac4435ba2e40bfe1216bb34",
       "version_major": 2,
       "version_minor": 0
      },
      "text/plain": [
       "  0%|          | CSD epoch blocks : 0/1 [00:00<?,       ?it/s]"
      ]
     },
     "metadata": {},
     "output_type": "display_data"
    },
    {
     "name": "stderr",
     "output_type": "stream",
     "text": [
      "[Parallel(n_jobs=-1)]: Using backend LokyBackend with 8 concurrent workers.\n"
     ]
    },
    {
     "name": "stdout",
     "output_type": "stream",
     "text": [
      "[done]\n",
      "    Using multitaper spectrum estimation with 7 DPSS windows\n",
      "Computing cross-spectral density from epochs...\n",
      "Got 8 parallel jobs after requesting -1\n",
      "Using ProgressBar with tqdm.auto\n"
     ]
    },
    {
     "data": {
      "application/vnd.jupyter.widget-view+json": {
       "model_id": "933d640f87d04c27a88cb22b05bfaf3e",
       "version_major": 2,
       "version_minor": 0
      },
      "text/plain": [
       "  0%|          | CSD epoch blocks : 0/1 [00:00<?,       ?it/s]"
      ]
     },
     "metadata": {},
     "output_type": "display_data"
    },
    {
     "name": "stderr",
     "output_type": "stream",
     "text": [
      "[Parallel(n_jobs=-1)]: Using backend LokyBackend with 8 concurrent workers.\n"
     ]
    },
    {
     "name": "stdout",
     "output_type": "stream",
     "text": [
      "[done]\n",
      "12\n",
      "    Using multitaper spectrum estimation with 7 DPSS windows\n",
      "Computing cross-spectral density from epochs...\n",
      "Got 8 parallel jobs after requesting -1\n",
      "Using ProgressBar with tqdm.auto\n"
     ]
    },
    {
     "name": "stderr",
     "output_type": "stream",
     "text": [
      "/Users/savochkin/miniconda3/envs/myenv/lib/python3.9/site-packages/joblib/parallel.py:589: RuntimeWarning: Iterative multi-taper PSD computation did not converge.\n",
      "  return [func(*args, **kwargs)\n"
     ]
    },
    {
     "data": {
      "application/vnd.jupyter.widget-view+json": {
       "model_id": "ea351a34bd674e90b59861a936d9432f",
       "version_major": 2,
       "version_minor": 0
      },
      "text/plain": [
       "  0%|          | CSD epoch blocks : 0/1 [00:00<?,       ?it/s]"
      ]
     },
     "metadata": {},
     "output_type": "display_data"
    },
    {
     "name": "stderr",
     "output_type": "stream",
     "text": [
      "[Parallel(n_jobs=-1)]: Using backend LokyBackend with 8 concurrent workers.\n"
     ]
    },
    {
     "name": "stdout",
     "output_type": "stream",
     "text": [
      "[done]\n",
      "    Using multitaper spectrum estimation with 7 DPSS windows\n",
      "Computing cross-spectral density from epochs...\n",
      "Got 8 parallel jobs after requesting -1\n",
      "Using ProgressBar with tqdm.auto\n"
     ]
    },
    {
     "data": {
      "application/vnd.jupyter.widget-view+json": {
       "model_id": "503902f8580d4b4193cdb393f6ab3adc",
       "version_major": 2,
       "version_minor": 0
      },
      "text/plain": [
       "  0%|          | CSD epoch blocks : 0/1 [00:00<?,       ?it/s]"
      ]
     },
     "metadata": {},
     "output_type": "display_data"
    },
    {
     "name": "stderr",
     "output_type": "stream",
     "text": [
      "[Parallel(n_jobs=-1)]: Using backend LokyBackend with 8 concurrent workers.\n",
      "/Users/savochkin/miniconda3/envs/myenv/lib/python3.9/site-packages/joblib/parallel.py:589: RuntimeWarning: Iterative multi-taper PSD computation did not converge.\n",
      "  return [func(*args, **kwargs)\n"
     ]
    },
    {
     "name": "stdout",
     "output_type": "stream",
     "text": [
      "[done]\n",
      "13\n",
      "    Using multitaper spectrum estimation with 7 DPSS windows\n",
      "Computing cross-spectral density from epochs...\n",
      "Got 8 parallel jobs after requesting -1\n",
      "Using ProgressBar with tqdm.auto\n"
     ]
    },
    {
     "data": {
      "application/vnd.jupyter.widget-view+json": {
       "model_id": "b5779faecda0410d907a5b1f7d4a8941",
       "version_major": 2,
       "version_minor": 0
      },
      "text/plain": [
       "  0%|          | CSD epoch blocks : 0/1 [00:00<?,       ?it/s]"
      ]
     },
     "metadata": {},
     "output_type": "display_data"
    },
    {
     "name": "stdout",
     "output_type": "stream",
     "text": [
      "[done]\n",
      "    Using multitaper spectrum estimation with 7 DPSS windows\n",
      "Computing cross-spectral density from epochs...\n",
      "Got 8 parallel jobs after requesting -1\n",
      "Using ProgressBar with tqdm.auto\n"
     ]
    },
    {
     "name": "stderr",
     "output_type": "stream",
     "text": [
      "[Parallel(n_jobs=-1)]: Using backend LokyBackend with 8 concurrent workers.\n"
     ]
    },
    {
     "data": {
      "application/vnd.jupyter.widget-view+json": {
       "model_id": "ee6afacf951241179c4afd2f66bab27f",
       "version_major": 2,
       "version_minor": 0
      },
      "text/plain": [
       "  0%|          | CSD epoch blocks : 0/1 [00:00<?,       ?it/s]"
      ]
     },
     "metadata": {},
     "output_type": "display_data"
    },
    {
     "name": "stderr",
     "output_type": "stream",
     "text": [
      "[Parallel(n_jobs=-1)]: Using backend LokyBackend with 8 concurrent workers.\n",
      "/Users/savochkin/miniconda3/envs/myenv/lib/python3.9/site-packages/joblib/parallel.py:589: RuntimeWarning: Iterative multi-taper PSD computation did not converge.\n",
      "  return [func(*args, **kwargs)\n"
     ]
    },
    {
     "name": "stdout",
     "output_type": "stream",
     "text": [
      "[done]\n",
      "14\n",
      "    Using multitaper spectrum estimation with 7 DPSS windows\n",
      "Computing cross-spectral density from epochs...\n",
      "Got 8 parallel jobs after requesting -1\n",
      "Using ProgressBar with tqdm.auto\n"
     ]
    },
    {
     "data": {
      "application/vnd.jupyter.widget-view+json": {
       "model_id": "45b2354c79ab45dd84b71555d89a066e",
       "version_major": 2,
       "version_minor": 0
      },
      "text/plain": [
       "  0%|          | CSD epoch blocks : 0/1 [00:00<?,       ?it/s]"
      ]
     },
     "metadata": {},
     "output_type": "display_data"
    },
    {
     "name": "stderr",
     "output_type": "stream",
     "text": [
      "[Parallel(n_jobs=-1)]: Using backend LokyBackend with 8 concurrent workers.\n"
     ]
    },
    {
     "name": "stdout",
     "output_type": "stream",
     "text": [
      "[done]\n",
      "    Using multitaper spectrum estimation with 7 DPSS windows\n",
      "Computing cross-spectral density from epochs...\n",
      "Got 8 parallel jobs after requesting -1\n",
      "Using ProgressBar with tqdm.auto\n"
     ]
    },
    {
     "data": {
      "application/vnd.jupyter.widget-view+json": {
       "model_id": "1d3e7f910e0941f0ae98384a8ae0707c",
       "version_major": 2,
       "version_minor": 0
      },
      "text/plain": [
       "  0%|          | CSD epoch blocks : 0/1 [00:00<?,       ?it/s]"
      ]
     },
     "metadata": {},
     "output_type": "display_data"
    },
    {
     "name": "stdout",
     "output_type": "stream",
     "text": [
      "[done]\n",
      "15\n",
      "    Using multitaper spectrum estimation with 7 DPSS windows\n",
      "Computing cross-spectral density from epochs...\n",
      "Got 8 parallel jobs after requesting -1\n",
      "Using ProgressBar with tqdm.auto\n"
     ]
    },
    {
     "name": "stderr",
     "output_type": "stream",
     "text": [
      "[Parallel(n_jobs=-1)]: Using backend LokyBackend with 8 concurrent workers.\n",
      "/Users/savochkin/miniconda3/envs/myenv/lib/python3.9/site-packages/joblib/parallel.py:589: RuntimeWarning: Iterative multi-taper PSD computation did not converge.\n",
      "  return [func(*args, **kwargs)\n"
     ]
    },
    {
     "data": {
      "application/vnd.jupyter.widget-view+json": {
       "model_id": "1ddbd801d5774fee98fdfb962e8401ab",
       "version_major": 2,
       "version_minor": 0
      },
      "text/plain": [
       "  0%|          | CSD epoch blocks : 0/1 [00:00<?,       ?it/s]"
      ]
     },
     "metadata": {},
     "output_type": "display_data"
    },
    {
     "name": "stderr",
     "output_type": "stream",
     "text": [
      "[Parallel(n_jobs=-1)]: Using backend LokyBackend with 8 concurrent workers.\n"
     ]
    },
    {
     "name": "stdout",
     "output_type": "stream",
     "text": [
      "[done]\n",
      "    Using multitaper spectrum estimation with 7 DPSS windows\n",
      "Computing cross-spectral density from epochs...\n",
      "Got 8 parallel jobs after requesting -1\n",
      "Using ProgressBar with tqdm.auto\n"
     ]
    },
    {
     "data": {
      "application/vnd.jupyter.widget-view+json": {
       "model_id": "81f30b7004d04e1dadc165da400057e5",
       "version_major": 2,
       "version_minor": 0
      },
      "text/plain": [
       "  0%|          | CSD epoch blocks : 0/1 [00:00<?,       ?it/s]"
      ]
     },
     "metadata": {},
     "output_type": "display_data"
    },
    {
     "name": "stdout",
     "output_type": "stream",
     "text": [
      "[done]\n",
      "16\n",
      "    Using multitaper spectrum estimation with 7 DPSS windows\n",
      "Computing cross-spectral density from epochs...\n",
      "Got 8 parallel jobs after requesting -1\n",
      "Using ProgressBar with tqdm.auto\n"
     ]
    },
    {
     "name": "stderr",
     "output_type": "stream",
     "text": [
      "[Parallel(n_jobs=-1)]: Using backend LokyBackend with 8 concurrent workers.\n",
      "/Users/savochkin/miniconda3/envs/myenv/lib/python3.9/site-packages/joblib/parallel.py:589: RuntimeWarning: Iterative multi-taper PSD computation did not converge.\n",
      "  return [func(*args, **kwargs)\n"
     ]
    },
    {
     "data": {
      "application/vnd.jupyter.widget-view+json": {
       "model_id": "b10a588040a3473fa051477959454eb9",
       "version_major": 2,
       "version_minor": 0
      },
      "text/plain": [
       "  0%|          | CSD epoch blocks : 0/1 [00:00<?,       ?it/s]"
      ]
     },
     "metadata": {},
     "output_type": "display_data"
    },
    {
     "name": "stderr",
     "output_type": "stream",
     "text": [
      "[Parallel(n_jobs=-1)]: Using backend LokyBackend with 8 concurrent workers.\n"
     ]
    },
    {
     "name": "stdout",
     "output_type": "stream",
     "text": [
      "[done]\n",
      "    Using multitaper spectrum estimation with 7 DPSS windows\n",
      "Computing cross-spectral density from epochs...\n",
      "Got 8 parallel jobs after requesting -1\n",
      "Using ProgressBar with tqdm.auto\n"
     ]
    },
    {
     "data": {
      "application/vnd.jupyter.widget-view+json": {
       "model_id": "f99f64f46808409eaaccdc9d0d233b43",
       "version_major": 2,
       "version_minor": 0
      },
      "text/plain": [
       "  0%|          | CSD epoch blocks : 0/1 [00:00<?,       ?it/s]"
      ]
     },
     "metadata": {},
     "output_type": "display_data"
    },
    {
     "name": "stdout",
     "output_type": "stream",
     "text": [
      "[done]\n",
      "17\n",
      "    Using multitaper spectrum estimation with 7 DPSS windows\n",
      "Computing cross-spectral density from epochs...\n",
      "Got 8 parallel jobs after requesting -1\n",
      "Using ProgressBar with tqdm.auto\n"
     ]
    },
    {
     "name": "stderr",
     "output_type": "stream",
     "text": [
      "[Parallel(n_jobs=-1)]: Using backend LokyBackend with 8 concurrent workers.\n",
      "/Users/savochkin/miniconda3/envs/myenv/lib/python3.9/site-packages/joblib/parallel.py:589: RuntimeWarning: Iterative multi-taper PSD computation did not converge.\n",
      "  return [func(*args, **kwargs)\n"
     ]
    },
    {
     "data": {
      "application/vnd.jupyter.widget-view+json": {
       "model_id": "3379a467748748088aaae16145956919",
       "version_major": 2,
       "version_minor": 0
      },
      "text/plain": [
       "  0%|          | CSD epoch blocks : 0/1 [00:00<?,       ?it/s]"
      ]
     },
     "metadata": {},
     "output_type": "display_data"
    },
    {
     "name": "stderr",
     "output_type": "stream",
     "text": [
      "[Parallel(n_jobs=-1)]: Using backend LokyBackend with 8 concurrent workers.\n"
     ]
    },
    {
     "name": "stdout",
     "output_type": "stream",
     "text": [
      "[done]\n",
      "    Using multitaper spectrum estimation with 7 DPSS windows\n",
      "Computing cross-spectral density from epochs...\n",
      "Got 8 parallel jobs after requesting -1\n",
      "Using ProgressBar with tqdm.auto\n"
     ]
    },
    {
     "data": {
      "application/vnd.jupyter.widget-view+json": {
       "model_id": "8519de183caa408cbf8014f8c7f88243",
       "version_major": 2,
       "version_minor": 0
      },
      "text/plain": [
       "  0%|          | CSD epoch blocks : 0/1 [00:00<?,       ?it/s]"
      ]
     },
     "metadata": {},
     "output_type": "display_data"
    },
    {
     "name": "stdout",
     "output_type": "stream",
     "text": [
      "[done]\n",
      "18\n",
      "    Using multitaper spectrum estimation with 7 DPSS windows\n",
      "Computing cross-spectral density from epochs...\n",
      "Got 8 parallel jobs after requesting -1\n",
      "Using ProgressBar with tqdm.auto\n"
     ]
    },
    {
     "name": "stderr",
     "output_type": "stream",
     "text": [
      "[Parallel(n_jobs=-1)]: Using backend LokyBackend with 8 concurrent workers.\n",
      "/Users/savochkin/miniconda3/envs/myenv/lib/python3.9/site-packages/joblib/parallel.py:589: RuntimeWarning: Iterative multi-taper PSD computation did not converge.\n",
      "  return [func(*args, **kwargs)\n"
     ]
    },
    {
     "data": {
      "application/vnd.jupyter.widget-view+json": {
       "model_id": "0073f1a8e1574ee8813afdd321b22306",
       "version_major": 2,
       "version_minor": 0
      },
      "text/plain": [
       "  0%|          | CSD epoch blocks : 0/1 [00:00<?,       ?it/s]"
      ]
     },
     "metadata": {},
     "output_type": "display_data"
    },
    {
     "name": "stderr",
     "output_type": "stream",
     "text": [
      "[Parallel(n_jobs=-1)]: Using backend LokyBackend with 8 concurrent workers.\n"
     ]
    },
    {
     "name": "stdout",
     "output_type": "stream",
     "text": [
      "[done]\n",
      "    Using multitaper spectrum estimation with 7 DPSS windows\n",
      "Computing cross-spectral density from epochs...\n",
      "Got 8 parallel jobs after requesting -1\n",
      "Using ProgressBar with tqdm.auto\n"
     ]
    },
    {
     "data": {
      "application/vnd.jupyter.widget-view+json": {
       "model_id": "f0c2c4fc8ab149faabae2b3965909cd0",
       "version_major": 2,
       "version_minor": 0
      },
      "text/plain": [
       "  0%|          | CSD epoch blocks : 0/1 [00:00<?,       ?it/s]"
      ]
     },
     "metadata": {},
     "output_type": "display_data"
    },
    {
     "name": "stdout",
     "output_type": "stream",
     "text": [
      "[done]\n",
      "19\n",
      "    Using multitaper spectrum estimation with 7 DPSS windows\n",
      "Computing cross-spectral density from epochs...\n",
      "Got 8 parallel jobs after requesting -1\n",
      "Using ProgressBar with tqdm.auto\n"
     ]
    },
    {
     "name": "stderr",
     "output_type": "stream",
     "text": [
      "[Parallel(n_jobs=-1)]: Using backend LokyBackend with 8 concurrent workers.\n",
      "/Users/savochkin/miniconda3/envs/myenv/lib/python3.9/site-packages/joblib/parallel.py:589: RuntimeWarning: Iterative multi-taper PSD computation did not converge.\n",
      "  return [func(*args, **kwargs)\n"
     ]
    },
    {
     "data": {
      "application/vnd.jupyter.widget-view+json": {
       "model_id": "36432b440d49454584bb203ff6fbbb7b",
       "version_major": 2,
       "version_minor": 0
      },
      "text/plain": [
       "  0%|          | CSD epoch blocks : 0/1 [00:00<?,       ?it/s]"
      ]
     },
     "metadata": {},
     "output_type": "display_data"
    },
    {
     "name": "stderr",
     "output_type": "stream",
     "text": [
      "[Parallel(n_jobs=-1)]: Using backend LokyBackend with 8 concurrent workers.\n"
     ]
    },
    {
     "name": "stdout",
     "output_type": "stream",
     "text": [
      "[done]\n",
      "    Using multitaper spectrum estimation with 7 DPSS windows\n",
      "Computing cross-spectral density from epochs...\n",
      "Got 8 parallel jobs after requesting -1\n",
      "Using ProgressBar with tqdm.auto\n"
     ]
    },
    {
     "data": {
      "application/vnd.jupyter.widget-view+json": {
       "model_id": "388c49ea73ea4a9f99eecf6f16487dc1",
       "version_major": 2,
       "version_minor": 0
      },
      "text/plain": [
       "  0%|          | CSD epoch blocks : 0/1 [00:00<?,       ?it/s]"
      ]
     },
     "metadata": {},
     "output_type": "display_data"
    },
    {
     "name": "stdout",
     "output_type": "stream",
     "text": [
      "[done]\n",
      "20\n",
      "    Using multitaper spectrum estimation with 7 DPSS windows\n",
      "Computing cross-spectral density from epochs...\n",
      "Got 8 parallel jobs after requesting -1\n",
      "Using ProgressBar with tqdm.auto\n"
     ]
    },
    {
     "name": "stderr",
     "output_type": "stream",
     "text": [
      "[Parallel(n_jobs=-1)]: Using backend LokyBackend with 8 concurrent workers.\n",
      "/Users/savochkin/miniconda3/envs/myenv/lib/python3.9/site-packages/joblib/parallel.py:589: RuntimeWarning: Iterative multi-taper PSD computation did not converge.\n",
      "  return [func(*args, **kwargs)\n"
     ]
    },
    {
     "data": {
      "application/vnd.jupyter.widget-view+json": {
       "model_id": "e79a55e86753445cb8436c6601451f3b",
       "version_major": 2,
       "version_minor": 0
      },
      "text/plain": [
       "  0%|          | CSD epoch blocks : 0/1 [00:00<?,       ?it/s]"
      ]
     },
     "metadata": {},
     "output_type": "display_data"
    },
    {
     "name": "stderr",
     "output_type": "stream",
     "text": [
      "[Parallel(n_jobs=-1)]: Using backend LokyBackend with 8 concurrent workers.\n"
     ]
    },
    {
     "name": "stdout",
     "output_type": "stream",
     "text": [
      "[done]\n",
      "    Using multitaper spectrum estimation with 7 DPSS windows\n",
      "Computing cross-spectral density from epochs...\n",
      "Got 8 parallel jobs after requesting -1\n",
      "Using ProgressBar with tqdm.auto\n"
     ]
    },
    {
     "data": {
      "application/vnd.jupyter.widget-view+json": {
       "model_id": "728fa402f025418d9f877086a795e82e",
       "version_major": 2,
       "version_minor": 0
      },
      "text/plain": [
       "  0%|          | CSD epoch blocks : 0/1 [00:00<?,       ?it/s]"
      ]
     },
     "metadata": {},
     "output_type": "display_data"
    },
    {
     "name": "stderr",
     "output_type": "stream",
     "text": [
      "[Parallel(n_jobs=-1)]: Using backend LokyBackend with 8 concurrent workers.\n"
     ]
    },
    {
     "name": "stdout",
     "output_type": "stream",
     "text": [
      "[done]\n",
      "21\n",
      "    Using multitaper spectrum estimation with 7 DPSS windows\n",
      "Computing cross-spectral density from epochs...\n",
      "Got 8 parallel jobs after requesting -1\n",
      "Using ProgressBar with tqdm.auto\n"
     ]
    },
    {
     "name": "stderr",
     "output_type": "stream",
     "text": [
      "/Users/savochkin/miniconda3/envs/myenv/lib/python3.9/site-packages/joblib/parallel.py:589: RuntimeWarning: Iterative multi-taper PSD computation did not converge.\n",
      "  return [func(*args, **kwargs)\n"
     ]
    },
    {
     "data": {
      "application/vnd.jupyter.widget-view+json": {
       "model_id": "14d549204ea848dbaf9296492824c80c",
       "version_major": 2,
       "version_minor": 0
      },
      "text/plain": [
       "  0%|          | CSD epoch blocks : 0/1 [00:00<?,       ?it/s]"
      ]
     },
     "metadata": {},
     "output_type": "display_data"
    },
    {
     "name": "stderr",
     "output_type": "stream",
     "text": [
      "[Parallel(n_jobs=-1)]: Using backend LokyBackend with 8 concurrent workers.\n"
     ]
    },
    {
     "name": "stdout",
     "output_type": "stream",
     "text": [
      "[done]\n",
      "    Using multitaper spectrum estimation with 7 DPSS windows\n",
      "Computing cross-spectral density from epochs...\n",
      "Got 8 parallel jobs after requesting -1\n",
      "Using ProgressBar with tqdm.auto\n"
     ]
    },
    {
     "data": {
      "application/vnd.jupyter.widget-view+json": {
       "model_id": "0c6d1f90e2724835951a24366d60fb5b",
       "version_major": 2,
       "version_minor": 0
      },
      "text/plain": [
       "  0%|          | CSD epoch blocks : 0/1 [00:00<?,       ?it/s]"
      ]
     },
     "metadata": {},
     "output_type": "display_data"
    },
    {
     "name": "stderr",
     "output_type": "stream",
     "text": [
      "[Parallel(n_jobs=-1)]: Using backend LokyBackend with 8 concurrent workers.\n"
     ]
    },
    {
     "name": "stdout",
     "output_type": "stream",
     "text": [
      "[done]\n",
      "22\n",
      "    Using multitaper spectrum estimation with 7 DPSS windows\n",
      "Computing cross-spectral density from epochs...\n",
      "Got 8 parallel jobs after requesting -1\n",
      "Using ProgressBar with tqdm.auto\n"
     ]
    },
    {
     "name": "stderr",
     "output_type": "stream",
     "text": [
      "/Users/savochkin/miniconda3/envs/myenv/lib/python3.9/site-packages/joblib/parallel.py:589: RuntimeWarning: Iterative multi-taper PSD computation did not converge.\n",
      "  return [func(*args, **kwargs)\n"
     ]
    },
    {
     "data": {
      "application/vnd.jupyter.widget-view+json": {
       "model_id": "16c92d2d93a6471db61f1dcdce07b2a3",
       "version_major": 2,
       "version_minor": 0
      },
      "text/plain": [
       "  0%|          | CSD epoch blocks : 0/1 [00:00<?,       ?it/s]"
      ]
     },
     "metadata": {},
     "output_type": "display_data"
    },
    {
     "name": "stderr",
     "output_type": "stream",
     "text": [
      "[Parallel(n_jobs=-1)]: Using backend LokyBackend with 8 concurrent workers.\n"
     ]
    },
    {
     "name": "stdout",
     "output_type": "stream",
     "text": [
      "[done]\n",
      "    Using multitaper spectrum estimation with 7 DPSS windows\n",
      "Computing cross-spectral density from epochs...\n",
      "Got 8 parallel jobs after requesting -1\n",
      "Using ProgressBar with tqdm.auto\n"
     ]
    },
    {
     "data": {
      "application/vnd.jupyter.widget-view+json": {
       "model_id": "d69c15b544d844f8add820150cd4e5df",
       "version_major": 2,
       "version_minor": 0
      },
      "text/plain": [
       "  0%|          | CSD epoch blocks : 0/1 [00:00<?,       ?it/s]"
      ]
     },
     "metadata": {},
     "output_type": "display_data"
    },
    {
     "name": "stdout",
     "output_type": "stream",
     "text": [
      "[done]\n",
      "23\n",
      "    Using multitaper spectrum estimation with 7 DPSS windows\n",
      "Computing cross-spectral density from epochs...\n",
      "Got 8 parallel jobs after requesting -1\n",
      "Using ProgressBar with tqdm.auto\n"
     ]
    },
    {
     "name": "stderr",
     "output_type": "stream",
     "text": [
      "[Parallel(n_jobs=-1)]: Using backend LokyBackend with 8 concurrent workers.\n",
      "/Users/savochkin/miniconda3/envs/myenv/lib/python3.9/site-packages/joblib/parallel.py:589: RuntimeWarning: Iterative multi-taper PSD computation did not converge.\n",
      "  return [func(*args, **kwargs)\n"
     ]
    },
    {
     "data": {
      "application/vnd.jupyter.widget-view+json": {
       "model_id": "cb8774b137ed444bbc7263e88e339ee8",
       "version_major": 2,
       "version_minor": 0
      },
      "text/plain": [
       "  0%|          | CSD epoch blocks : 0/1 [00:00<?,       ?it/s]"
      ]
     },
     "metadata": {},
     "output_type": "display_data"
    },
    {
     "name": "stderr",
     "output_type": "stream",
     "text": [
      "[Parallel(n_jobs=-1)]: Using backend LokyBackend with 8 concurrent workers.\n"
     ]
    },
    {
     "name": "stdout",
     "output_type": "stream",
     "text": [
      "[done]\n",
      "    Using multitaper spectrum estimation with 7 DPSS windows\n",
      "Computing cross-spectral density from epochs...\n",
      "Got 8 parallel jobs after requesting -1\n",
      "Using ProgressBar with tqdm.auto\n"
     ]
    },
    {
     "data": {
      "application/vnd.jupyter.widget-view+json": {
       "model_id": "32365997b4de4b8a96d1d6defd1f525a",
       "version_major": 2,
       "version_minor": 0
      },
      "text/plain": [
       "  0%|          | CSD epoch blocks : 0/1 [00:00<?,       ?it/s]"
      ]
     },
     "metadata": {},
     "output_type": "display_data"
    },
    {
     "name": "stderr",
     "output_type": "stream",
     "text": [
      "[Parallel(n_jobs=-1)]: Using backend LokyBackend with 8 concurrent workers.\n",
      "/Users/savochkin/miniconda3/envs/myenv/lib/python3.9/site-packages/joblib/parallel.py:589: RuntimeWarning: Iterative multi-taper PSD computation did not converge.\n",
      "  return [func(*args, **kwargs)\n"
     ]
    },
    {
     "name": "stdout",
     "output_type": "stream",
     "text": [
      "[done]\n",
      "24\n",
      "    Using multitaper spectrum estimation with 7 DPSS windows\n",
      "Computing cross-spectral density from epochs...\n",
      "Got 8 parallel jobs after requesting -1\n",
      "Using ProgressBar with tqdm.auto\n"
     ]
    },
    {
     "data": {
      "application/vnd.jupyter.widget-view+json": {
       "model_id": "ea22f260b99449058b25b6a8246e7159",
       "version_major": 2,
       "version_minor": 0
      },
      "text/plain": [
       "  0%|          | CSD epoch blocks : 0/1 [00:00<?,       ?it/s]"
      ]
     },
     "metadata": {},
     "output_type": "display_data"
    },
    {
     "name": "stderr",
     "output_type": "stream",
     "text": [
      "[Parallel(n_jobs=-1)]: Using backend LokyBackend with 8 concurrent workers.\n"
     ]
    },
    {
     "name": "stdout",
     "output_type": "stream",
     "text": [
      "[done]\n",
      "    Using multitaper spectrum estimation with 7 DPSS windows\n",
      "Computing cross-spectral density from epochs...\n",
      "Got 8 parallel jobs after requesting -1\n",
      "Using ProgressBar with tqdm.auto\n"
     ]
    },
    {
     "data": {
      "application/vnd.jupyter.widget-view+json": {
       "model_id": "26fb3b7ed0ef43dfa20e135be5d521c3",
       "version_major": 2,
       "version_minor": 0
      },
      "text/plain": [
       "  0%|          | CSD epoch blocks : 0/1 [00:00<?,       ?it/s]"
      ]
     },
     "metadata": {},
     "output_type": "display_data"
    },
    {
     "name": "stdout",
     "output_type": "stream",
     "text": [
      "[done]\n"
     ]
    },
    {
     "name": "stderr",
     "output_type": "stream",
     "text": [
      "[Parallel(n_jobs=-1)]: Using backend LokyBackend with 8 concurrent workers.\n",
      "/Users/savochkin/miniconda3/envs/myenv/lib/python3.9/site-packages/joblib/parallel.py:589: RuntimeWarning: Iterative multi-taper PSD computation did not converge.\n",
      "  return [func(*args, **kwargs)\n"
     ]
    },
    {
     "name": "stdout",
     "output_type": "stream",
     "text": [
      "25\n",
      "    Using multitaper spectrum estimation with 7 DPSS windows\n",
      "Computing cross-spectral density from epochs...\n",
      "Got 8 parallel jobs after requesting -1\n",
      "Using ProgressBar with tqdm.auto\n"
     ]
    },
    {
     "data": {
      "application/vnd.jupyter.widget-view+json": {
       "model_id": "950a0700ba6340d09836ddfebcc335e9",
       "version_major": 2,
       "version_minor": 0
      },
      "text/plain": [
       "  0%|          | CSD epoch blocks : 0/1 [00:00<?,       ?it/s]"
      ]
     },
     "metadata": {},
     "output_type": "display_data"
    },
    {
     "name": "stderr",
     "output_type": "stream",
     "text": [
      "[Parallel(n_jobs=-1)]: Using backend LokyBackend with 8 concurrent workers.\n"
     ]
    },
    {
     "name": "stdout",
     "output_type": "stream",
     "text": [
      "[done]\n",
      "    Using multitaper spectrum estimation with 7 DPSS windows\n",
      "Computing cross-spectral density from epochs...\n",
      "Got 8 parallel jobs after requesting -1\n",
      "Using ProgressBar with tqdm.auto\n"
     ]
    },
    {
     "data": {
      "application/vnd.jupyter.widget-view+json": {
       "model_id": "90140a17523e4df897af424ef304d87b",
       "version_major": 2,
       "version_minor": 0
      },
      "text/plain": [
       "  0%|          | CSD epoch blocks : 0/1 [00:00<?,       ?it/s]"
      ]
     },
     "metadata": {},
     "output_type": "display_data"
    },
    {
     "name": "stdout",
     "output_type": "stream",
     "text": [
      "[done]\n",
      "26\n",
      "    Using multitaper spectrum estimation with 7 DPSS windows\n",
      "Computing cross-spectral density from epochs...\n",
      "Got 8 parallel jobs after requesting -1\n",
      "Using ProgressBar with tqdm.auto\n"
     ]
    },
    {
     "name": "stderr",
     "output_type": "stream",
     "text": [
      "[Parallel(n_jobs=-1)]: Using backend LokyBackend with 8 concurrent workers.\n",
      "/Users/savochkin/miniconda3/envs/myenv/lib/python3.9/site-packages/joblib/parallel.py:589: RuntimeWarning: Iterative multi-taper PSD computation did not converge.\n",
      "  return [func(*args, **kwargs)\n"
     ]
    },
    {
     "data": {
      "application/vnd.jupyter.widget-view+json": {
       "model_id": "36e37400ddd94de195240abce96e3e31",
       "version_major": 2,
       "version_minor": 0
      },
      "text/plain": [
       "  0%|          | CSD epoch blocks : 0/1 [00:00<?,       ?it/s]"
      ]
     },
     "metadata": {},
     "output_type": "display_data"
    },
    {
     "name": "stderr",
     "output_type": "stream",
     "text": [
      "[Parallel(n_jobs=-1)]: Using backend LokyBackend with 8 concurrent workers.\n"
     ]
    },
    {
     "name": "stdout",
     "output_type": "stream",
     "text": [
      "[done]\n",
      "    Using multitaper spectrum estimation with 7 DPSS windows\n",
      "Computing cross-spectral density from epochs...\n",
      "Got 8 parallel jobs after requesting -1\n",
      "Using ProgressBar with tqdm.auto\n"
     ]
    },
    {
     "data": {
      "application/vnd.jupyter.widget-view+json": {
       "model_id": "fb8f2923283745d7952f3491d701257f",
       "version_major": 2,
       "version_minor": 0
      },
      "text/plain": [
       "  0%|          | CSD epoch blocks : 0/1 [00:00<?,       ?it/s]"
      ]
     },
     "metadata": {},
     "output_type": "display_data"
    },
    {
     "name": "stdout",
     "output_type": "stream",
     "text": [
      "[done]\n",
      "27\n",
      "    Using multitaper spectrum estimation with 7 DPSS windows\n",
      "Computing cross-spectral density from epochs...\n",
      "Got 8 parallel jobs after requesting -1\n",
      "Using ProgressBar with tqdm.auto\n"
     ]
    },
    {
     "name": "stderr",
     "output_type": "stream",
     "text": [
      "[Parallel(n_jobs=-1)]: Using backend LokyBackend with 8 concurrent workers.\n",
      "/Users/savochkin/miniconda3/envs/myenv/lib/python3.9/site-packages/joblib/parallel.py:589: RuntimeWarning: Iterative multi-taper PSD computation did not converge.\n",
      "  return [func(*args, **kwargs)\n"
     ]
    },
    {
     "data": {
      "application/vnd.jupyter.widget-view+json": {
       "model_id": "90289534949b4390b586f26e5ed21807",
       "version_major": 2,
       "version_minor": 0
      },
      "text/plain": [
       "  0%|          | CSD epoch blocks : 0/1 [00:00<?,       ?it/s]"
      ]
     },
     "metadata": {},
     "output_type": "display_data"
    },
    {
     "name": "stderr",
     "output_type": "stream",
     "text": [
      "[Parallel(n_jobs=-1)]: Using backend LokyBackend with 8 concurrent workers.\n"
     ]
    },
    {
     "name": "stdout",
     "output_type": "stream",
     "text": [
      "[done]\n",
      "    Using multitaper spectrum estimation with 7 DPSS windows\n",
      "Computing cross-spectral density from epochs...\n",
      "Got 8 parallel jobs after requesting -1\n",
      "Using ProgressBar with tqdm.auto\n"
     ]
    },
    {
     "data": {
      "application/vnd.jupyter.widget-view+json": {
       "model_id": "689a1aa5e43049bd88a9ef6e61f6732c",
       "version_major": 2,
       "version_minor": 0
      },
      "text/plain": [
       "  0%|          | CSD epoch blocks : 0/1 [00:00<?,       ?it/s]"
      ]
     },
     "metadata": {},
     "output_type": "display_data"
    },
    {
     "name": "stderr",
     "output_type": "stream",
     "text": [
      "[Parallel(n_jobs=-1)]: Using backend LokyBackend with 8 concurrent workers.\n"
     ]
    },
    {
     "name": "stdout",
     "output_type": "stream",
     "text": [
      "[done]\n",
      "28\n",
      "    Using multitaper spectrum estimation with 7 DPSS windows\n",
      "Computing cross-spectral density from epochs...\n",
      "Got 8 parallel jobs after requesting -1\n",
      "Using ProgressBar with tqdm.auto\n"
     ]
    },
    {
     "name": "stderr",
     "output_type": "stream",
     "text": [
      "/Users/savochkin/miniconda3/envs/myenv/lib/python3.9/site-packages/joblib/parallel.py:589: RuntimeWarning: Iterative multi-taper PSD computation did not converge.\n",
      "  return [func(*args, **kwargs)\n"
     ]
    },
    {
     "data": {
      "application/vnd.jupyter.widget-view+json": {
       "model_id": "8ab0636a01a54c10a09290d030e111ba",
       "version_major": 2,
       "version_minor": 0
      },
      "text/plain": [
       "  0%|          | CSD epoch blocks : 0/1 [00:00<?,       ?it/s]"
      ]
     },
     "metadata": {},
     "output_type": "display_data"
    },
    {
     "name": "stderr",
     "output_type": "stream",
     "text": [
      "[Parallel(n_jobs=-1)]: Using backend LokyBackend with 8 concurrent workers.\n"
     ]
    },
    {
     "name": "stdout",
     "output_type": "stream",
     "text": [
      "[done]\n",
      "    Using multitaper spectrum estimation with 7 DPSS windows\n",
      "Computing cross-spectral density from epochs...\n",
      "Got 8 parallel jobs after requesting -1\n",
      "Using ProgressBar with tqdm.auto\n"
     ]
    },
    {
     "data": {
      "application/vnd.jupyter.widget-view+json": {
       "model_id": "55552c38f7734e3780c25c80bca96cbf",
       "version_major": 2,
       "version_minor": 0
      },
      "text/plain": [
       "  0%|          | CSD epoch blocks : 0/1 [00:00<?,       ?it/s]"
      ]
     },
     "metadata": {},
     "output_type": "display_data"
    },
    {
     "name": "stdout",
     "output_type": "stream",
     "text": [
      "[done]\n",
      "29\n",
      "    Using multitaper spectrum estimation with 7 DPSS windows\n",
      "Computing cross-spectral density from epochs...\n",
      "Got 8 parallel jobs after requesting -1\n",
      "Using ProgressBar with tqdm.auto\n"
     ]
    },
    {
     "name": "stderr",
     "output_type": "stream",
     "text": [
      "[Parallel(n_jobs=-1)]: Using backend LokyBackend with 8 concurrent workers.\n",
      "/Users/savochkin/miniconda3/envs/myenv/lib/python3.9/site-packages/joblib/parallel.py:589: RuntimeWarning: Iterative multi-taper PSD computation did not converge.\n",
      "  return [func(*args, **kwargs)\n"
     ]
    },
    {
     "data": {
      "application/vnd.jupyter.widget-view+json": {
       "model_id": "2ffc3b1945044a36bd863c89abfbdcf8",
       "version_major": 2,
       "version_minor": 0
      },
      "text/plain": [
       "  0%|          | CSD epoch blocks : 0/1 [00:00<?,       ?it/s]"
      ]
     },
     "metadata": {},
     "output_type": "display_data"
    },
    {
     "name": "stdout",
     "output_type": "stream",
     "text": [
      "[done]\n",
      "    Using multitaper spectrum estimation with 7 DPSS windows\n",
      "Computing cross-spectral density from epochs...\n",
      "Got 8 parallel jobs after requesting -1\n",
      "Using ProgressBar with tqdm.auto\n"
     ]
    },
    {
     "name": "stderr",
     "output_type": "stream",
     "text": [
      "[Parallel(n_jobs=-1)]: Using backend LokyBackend with 8 concurrent workers.\n"
     ]
    },
    {
     "data": {
      "application/vnd.jupyter.widget-view+json": {
       "model_id": "eee4da7deb3e468abcd0b5c6423886fb",
       "version_major": 2,
       "version_minor": 0
      },
      "text/plain": [
       "  0%|          | CSD epoch blocks : 0/1 [00:00<?,       ?it/s]"
      ]
     },
     "metadata": {},
     "output_type": "display_data"
    },
    {
     "name": "stdout",
     "output_type": "stream",
     "text": [
      "[done]\n",
      "30\n",
      "    Using multitaper spectrum estimation with 7 DPSS windows\n",
      "Computing cross-spectral density from epochs...\n",
      "Got 8 parallel jobs after requesting -1\n",
      "Using ProgressBar with tqdm.auto\n"
     ]
    },
    {
     "name": "stderr",
     "output_type": "stream",
     "text": [
      "[Parallel(n_jobs=-1)]: Using backend LokyBackend with 8 concurrent workers.\n",
      "/Users/savochkin/miniconda3/envs/myenv/lib/python3.9/site-packages/joblib/parallel.py:589: RuntimeWarning: Iterative multi-taper PSD computation did not converge.\n",
      "  return [func(*args, **kwargs)\n"
     ]
    },
    {
     "data": {
      "application/vnd.jupyter.widget-view+json": {
       "model_id": "f1af16a4af0c4508bde24da3507adb87",
       "version_major": 2,
       "version_minor": 0
      },
      "text/plain": [
       "  0%|          | CSD epoch blocks : 0/1 [00:00<?,       ?it/s]"
      ]
     },
     "metadata": {},
     "output_type": "display_data"
    },
    {
     "name": "stdout",
     "output_type": "stream",
     "text": [
      "[done]\n",
      "    Using multitaper spectrum estimation with 7 DPSS windows\n",
      "Computing cross-spectral density from epochs...\n",
      "Got 8 parallel jobs after requesting -1\n",
      "Using ProgressBar with tqdm.auto\n"
     ]
    },
    {
     "name": "stderr",
     "output_type": "stream",
     "text": [
      "[Parallel(n_jobs=-1)]: Using backend LokyBackend with 8 concurrent workers.\n"
     ]
    },
    {
     "data": {
      "application/vnd.jupyter.widget-view+json": {
       "model_id": "45815b54f9f54acd9addfccb8a4dc7bb",
       "version_major": 2,
       "version_minor": 0
      },
      "text/plain": [
       "  0%|          | CSD epoch blocks : 0/1 [00:00<?,       ?it/s]"
      ]
     },
     "metadata": {},
     "output_type": "display_data"
    },
    {
     "name": "stdout",
     "output_type": "stream",
     "text": [
      "[done]\n",
      "31\n",
      "    Using multitaper spectrum estimation with 7 DPSS windows\n",
      "Computing cross-spectral density from epochs...\n",
      "Got 8 parallel jobs after requesting -1\n",
      "Using ProgressBar with tqdm.auto\n"
     ]
    },
    {
     "name": "stderr",
     "output_type": "stream",
     "text": [
      "[Parallel(n_jobs=-1)]: Using backend LokyBackend with 8 concurrent workers.\n",
      "/Users/savochkin/miniconda3/envs/myenv/lib/python3.9/site-packages/joblib/parallel.py:589: RuntimeWarning: Iterative multi-taper PSD computation did not converge.\n",
      "  return [func(*args, **kwargs)\n"
     ]
    },
    {
     "data": {
      "application/vnd.jupyter.widget-view+json": {
       "model_id": "14d610e7c7b5483481f9770ffb9cdfa5",
       "version_major": 2,
       "version_minor": 0
      },
      "text/plain": [
       "  0%|          | CSD epoch blocks : 0/1 [00:00<?,       ?it/s]"
      ]
     },
     "metadata": {},
     "output_type": "display_data"
    },
    {
     "name": "stderr",
     "output_type": "stream",
     "text": [
      "[Parallel(n_jobs=-1)]: Using backend LokyBackend with 8 concurrent workers.\n"
     ]
    },
    {
     "name": "stdout",
     "output_type": "stream",
     "text": [
      "[done]\n",
      "    Using multitaper spectrum estimation with 7 DPSS windows\n",
      "Computing cross-spectral density from epochs...\n",
      "Got 8 parallel jobs after requesting -1\n",
      "Using ProgressBar with tqdm.auto\n"
     ]
    },
    {
     "data": {
      "application/vnd.jupyter.widget-view+json": {
       "model_id": "5b95a297dc164f7e9376410f2629df77",
       "version_major": 2,
       "version_minor": 0
      },
      "text/plain": [
       "  0%|          | CSD epoch blocks : 0/1 [00:00<?,       ?it/s]"
      ]
     },
     "metadata": {},
     "output_type": "display_data"
    },
    {
     "name": "stdout",
     "output_type": "stream",
     "text": [
      "[done]\n",
      "32\n",
      "    Using multitaper spectrum estimation with 7 DPSS windows\n",
      "Computing cross-spectral density from epochs...\n",
      "Got 8 parallel jobs after requesting -1\n",
      "Using ProgressBar with tqdm.auto\n"
     ]
    },
    {
     "name": "stderr",
     "output_type": "stream",
     "text": [
      "[Parallel(n_jobs=-1)]: Using backend LokyBackend with 8 concurrent workers.\n",
      "/Users/savochkin/miniconda3/envs/myenv/lib/python3.9/site-packages/joblib/parallel.py:589: RuntimeWarning: Iterative multi-taper PSD computation did not converge.\n",
      "  return [func(*args, **kwargs)\n"
     ]
    },
    {
     "data": {
      "application/vnd.jupyter.widget-view+json": {
       "model_id": "4927f8c0d17043f198e45f303d4c44dd",
       "version_major": 2,
       "version_minor": 0
      },
      "text/plain": [
       "  0%|          | CSD epoch blocks : 0/1 [00:00<?,       ?it/s]"
      ]
     },
     "metadata": {},
     "output_type": "display_data"
    },
    {
     "name": "stderr",
     "output_type": "stream",
     "text": [
      "[Parallel(n_jobs=-1)]: Using backend LokyBackend with 8 concurrent workers.\n"
     ]
    },
    {
     "name": "stdout",
     "output_type": "stream",
     "text": [
      "[done]\n",
      "    Using multitaper spectrum estimation with 7 DPSS windows\n",
      "Computing cross-spectral density from epochs...\n",
      "Got 8 parallel jobs after requesting -1\n",
      "Using ProgressBar with tqdm.auto\n"
     ]
    },
    {
     "data": {
      "application/vnd.jupyter.widget-view+json": {
       "model_id": "fb11fbaf59934d85908fed4fcb1ff3c6",
       "version_major": 2,
       "version_minor": 0
      },
      "text/plain": [
       "  0%|          | CSD epoch blocks : 0/1 [00:00<?,       ?it/s]"
      ]
     },
     "metadata": {},
     "output_type": "display_data"
    },
    {
     "name": "stderr",
     "output_type": "stream",
     "text": [
      "[Parallel(n_jobs=-1)]: Using backend LokyBackend with 8 concurrent workers.\n",
      "/Users/savochkin/miniconda3/envs/myenv/lib/python3.9/site-packages/joblib/parallel.py:589: RuntimeWarning: Iterative multi-taper PSD computation did not converge.\n",
      "  return [func(*args, **kwargs)\n"
     ]
    },
    {
     "name": "stdout",
     "output_type": "stream",
     "text": [
      "[done]\n",
      "33\n",
      "    Using multitaper spectrum estimation with 7 DPSS windows\n",
      "Computing cross-spectral density from epochs...\n",
      "Got 8 parallel jobs after requesting -1\n",
      "Using ProgressBar with tqdm.auto\n"
     ]
    },
    {
     "data": {
      "application/vnd.jupyter.widget-view+json": {
       "model_id": "1876f63f230646cb95785ab00a85edfa",
       "version_major": 2,
       "version_minor": 0
      },
      "text/plain": [
       "  0%|          | CSD epoch blocks : 0/1 [00:00<?,       ?it/s]"
      ]
     },
     "metadata": {},
     "output_type": "display_data"
    },
    {
     "name": "stdout",
     "output_type": "stream",
     "text": [
      "[done]\n",
      "    Using multitaper spectrum estimation with 7 DPSS windows\n",
      "Computing cross-spectral density from epochs...\n",
      "Got 8 parallel jobs after requesting -1\n",
      "Using ProgressBar with tqdm.auto\n"
     ]
    },
    {
     "name": "stderr",
     "output_type": "stream",
     "text": [
      "[Parallel(n_jobs=-1)]: Using backend LokyBackend with 8 concurrent workers.\n"
     ]
    },
    {
     "data": {
      "application/vnd.jupyter.widget-view+json": {
       "model_id": "f8642002376e4fd3b1fb39b05f988070",
       "version_major": 2,
       "version_minor": 0
      },
      "text/plain": [
       "  0%|          | CSD epoch blocks : 0/1 [00:00<?,       ?it/s]"
      ]
     },
     "metadata": {},
     "output_type": "display_data"
    },
    {
     "name": "stderr",
     "output_type": "stream",
     "text": [
      "[Parallel(n_jobs=-1)]: Using backend LokyBackend with 8 concurrent workers.\n",
      "/Users/savochkin/miniconda3/envs/myenv/lib/python3.9/site-packages/joblib/parallel.py:589: RuntimeWarning: Iterative multi-taper PSD computation did not converge.\n",
      "  return [func(*args, **kwargs)\n"
     ]
    },
    {
     "name": "stdout",
     "output_type": "stream",
     "text": [
      "[done]\n",
      "34\n",
      "    Using multitaper spectrum estimation with 7 DPSS windows\n",
      "Computing cross-spectral density from epochs...\n",
      "Got 8 parallel jobs after requesting -1\n",
      "Using ProgressBar with tqdm.auto\n"
     ]
    },
    {
     "data": {
      "application/vnd.jupyter.widget-view+json": {
       "model_id": "aaaadc1d56a54409bec0d9fcac508a31",
       "version_major": 2,
       "version_minor": 0
      },
      "text/plain": [
       "  0%|          | CSD epoch blocks : 0/1 [00:00<?,       ?it/s]"
      ]
     },
     "metadata": {},
     "output_type": "display_data"
    },
    {
     "name": "stderr",
     "output_type": "stream",
     "text": [
      "[Parallel(n_jobs=-1)]: Using backend LokyBackend with 8 concurrent workers.\n"
     ]
    },
    {
     "name": "stdout",
     "output_type": "stream",
     "text": [
      "[done]\n",
      "    Using multitaper spectrum estimation with 7 DPSS windows\n",
      "Computing cross-spectral density from epochs...\n",
      "Got 8 parallel jobs after requesting -1\n",
      "Using ProgressBar with tqdm.auto\n"
     ]
    },
    {
     "data": {
      "application/vnd.jupyter.widget-view+json": {
       "model_id": "02f929f1d3f949fbbab6b00792fbd1e4",
       "version_major": 2,
       "version_minor": 0
      },
      "text/plain": [
       "  0%|          | CSD epoch blocks : 0/1 [00:00<?,       ?it/s]"
      ]
     },
     "metadata": {},
     "output_type": "display_data"
    },
    {
     "name": "stdout",
     "output_type": "stream",
     "text": [
      "[done]\n",
      "35\n",
      "    Using multitaper spectrum estimation with 7 DPSS windows\n",
      "Computing cross-spectral density from epochs...\n",
      "Got 8 parallel jobs after requesting -1\n",
      "Using ProgressBar with tqdm.auto\n"
     ]
    },
    {
     "name": "stderr",
     "output_type": "stream",
     "text": [
      "[Parallel(n_jobs=-1)]: Using backend LokyBackend with 8 concurrent workers.\n",
      "/Users/savochkin/miniconda3/envs/myenv/lib/python3.9/site-packages/joblib/parallel.py:589: RuntimeWarning: Iterative multi-taper PSD computation did not converge.\n",
      "  return [func(*args, **kwargs)\n"
     ]
    },
    {
     "data": {
      "application/vnd.jupyter.widget-view+json": {
       "model_id": "a8a3218cbf3746b1b98d73c46d07a5b2",
       "version_major": 2,
       "version_minor": 0
      },
      "text/plain": [
       "  0%|          | CSD epoch blocks : 0/1 [00:00<?,       ?it/s]"
      ]
     },
     "metadata": {},
     "output_type": "display_data"
    },
    {
     "name": "stderr",
     "output_type": "stream",
     "text": [
      "[Parallel(n_jobs=-1)]: Using backend LokyBackend with 8 concurrent workers.\n"
     ]
    },
    {
     "name": "stdout",
     "output_type": "stream",
     "text": [
      "[done]\n",
      "    Using multitaper spectrum estimation with 7 DPSS windows\n",
      "Computing cross-spectral density from epochs...\n",
      "Got 8 parallel jobs after requesting -1\n",
      "Using ProgressBar with tqdm.auto\n"
     ]
    },
    {
     "data": {
      "application/vnd.jupyter.widget-view+json": {
       "model_id": "45ba7fc5695e4996ae8622a38ef9d2ca",
       "version_major": 2,
       "version_minor": 0
      },
      "text/plain": [
       "  0%|          | CSD epoch blocks : 0/1 [00:00<?,       ?it/s]"
      ]
     },
     "metadata": {},
     "output_type": "display_data"
    },
    {
     "name": "stdout",
     "output_type": "stream",
     "text": [
      "[done]\n",
      "36\n",
      "    Using multitaper spectrum estimation with 7 DPSS windows\n",
      "Computing cross-spectral density from epochs...\n",
      "Got 8 parallel jobs after requesting -1\n",
      "Using ProgressBar with tqdm.auto\n"
     ]
    },
    {
     "name": "stderr",
     "output_type": "stream",
     "text": [
      "[Parallel(n_jobs=-1)]: Using backend LokyBackend with 8 concurrent workers.\n",
      "/Users/savochkin/miniconda3/envs/myenv/lib/python3.9/site-packages/joblib/parallel.py:589: RuntimeWarning: Iterative multi-taper PSD computation did not converge.\n",
      "  return [func(*args, **kwargs)\n"
     ]
    },
    {
     "data": {
      "application/vnd.jupyter.widget-view+json": {
       "model_id": "452247a2763a43338e7162d32ec46c46",
       "version_major": 2,
       "version_minor": 0
      },
      "text/plain": [
       "  0%|          | CSD epoch blocks : 0/1 [00:00<?,       ?it/s]"
      ]
     },
     "metadata": {},
     "output_type": "display_data"
    },
    {
     "name": "stderr",
     "output_type": "stream",
     "text": [
      "[Parallel(n_jobs=-1)]: Using backend LokyBackend with 8 concurrent workers.\n"
     ]
    },
    {
     "name": "stdout",
     "output_type": "stream",
     "text": [
      "[done]\n",
      "    Using multitaper spectrum estimation with 7 DPSS windows\n",
      "Computing cross-spectral density from epochs...\n",
      "Got 8 parallel jobs after requesting -1\n",
      "Using ProgressBar with tqdm.auto\n"
     ]
    },
    {
     "data": {
      "application/vnd.jupyter.widget-view+json": {
       "model_id": "c5c499ba419b4609abe39109352302ba",
       "version_major": 2,
       "version_minor": 0
      },
      "text/plain": [
       "  0%|          | CSD epoch blocks : 0/1 [00:00<?,       ?it/s]"
      ]
     },
     "metadata": {},
     "output_type": "display_data"
    },
    {
     "name": "stdout",
     "output_type": "stream",
     "text": [
      "[done]\n",
      "37\n",
      "    Using multitaper spectrum estimation with 7 DPSS windows\n",
      "Computing cross-spectral density from epochs...\n",
      "Got 8 parallel jobs after requesting -1\n",
      "Using ProgressBar with tqdm.auto\n"
     ]
    },
    {
     "name": "stderr",
     "output_type": "stream",
     "text": [
      "[Parallel(n_jobs=-1)]: Using backend LokyBackend with 8 concurrent workers.\n",
      "/Users/savochkin/miniconda3/envs/myenv/lib/python3.9/site-packages/joblib/parallel.py:589: RuntimeWarning: Iterative multi-taper PSD computation did not converge.\n",
      "  return [func(*args, **kwargs)\n"
     ]
    },
    {
     "data": {
      "application/vnd.jupyter.widget-view+json": {
       "model_id": "e94abba8dba64e8f9b25e3fdc4f4b704",
       "version_major": 2,
       "version_minor": 0
      },
      "text/plain": [
       "  0%|          | CSD epoch blocks : 0/1 [00:00<?,       ?it/s]"
      ]
     },
     "metadata": {},
     "output_type": "display_data"
    },
    {
     "name": "stderr",
     "output_type": "stream",
     "text": [
      "[Parallel(n_jobs=-1)]: Using backend LokyBackend with 8 concurrent workers.\n"
     ]
    },
    {
     "name": "stdout",
     "output_type": "stream",
     "text": [
      "[done]\n",
      "    Using multitaper spectrum estimation with 7 DPSS windows\n",
      "Computing cross-spectral density from epochs...\n",
      "Got 8 parallel jobs after requesting -1\n",
      "Using ProgressBar with tqdm.auto\n"
     ]
    },
    {
     "data": {
      "application/vnd.jupyter.widget-view+json": {
       "model_id": "655cd4d30f19466eb0d463d10bff271c",
       "version_major": 2,
       "version_minor": 0
      },
      "text/plain": [
       "  0%|          | CSD epoch blocks : 0/1 [00:00<?,       ?it/s]"
      ]
     },
     "metadata": {},
     "output_type": "display_data"
    },
    {
     "name": "stdout",
     "output_type": "stream",
     "text": [
      "[done]\n",
      "38\n",
      "    Using multitaper spectrum estimation with 7 DPSS windows\n",
      "Computing cross-spectral density from epochs...\n",
      "Got 8 parallel jobs after requesting -1\n",
      "Using ProgressBar with tqdm.auto\n"
     ]
    },
    {
     "name": "stderr",
     "output_type": "stream",
     "text": [
      "[Parallel(n_jobs=-1)]: Using backend LokyBackend with 8 concurrent workers.\n",
      "/Users/savochkin/miniconda3/envs/myenv/lib/python3.9/site-packages/joblib/parallel.py:589: RuntimeWarning: Iterative multi-taper PSD computation did not converge.\n",
      "  return [func(*args, **kwargs)\n"
     ]
    },
    {
     "data": {
      "application/vnd.jupyter.widget-view+json": {
       "model_id": "d10de3e3efee4d148c839943afe4e67d",
       "version_major": 2,
       "version_minor": 0
      },
      "text/plain": [
       "  0%|          | CSD epoch blocks : 0/1 [00:00<?,       ?it/s]"
      ]
     },
     "metadata": {},
     "output_type": "display_data"
    },
    {
     "name": "stderr",
     "output_type": "stream",
     "text": [
      "[Parallel(n_jobs=-1)]: Using backend LokyBackend with 8 concurrent workers.\n"
     ]
    },
    {
     "name": "stdout",
     "output_type": "stream",
     "text": [
      "[done]\n",
      "    Using multitaper spectrum estimation with 7 DPSS windows\n",
      "Computing cross-spectral density from epochs...\n",
      "Got 8 parallel jobs after requesting -1\n",
      "Using ProgressBar with tqdm.auto\n"
     ]
    },
    {
     "data": {
      "application/vnd.jupyter.widget-view+json": {
       "model_id": "52485ba836f84652bfe56986809f1088",
       "version_major": 2,
       "version_minor": 0
      },
      "text/plain": [
       "  0%|          | CSD epoch blocks : 0/1 [00:00<?,       ?it/s]"
      ]
     },
     "metadata": {},
     "output_type": "display_data"
    },
    {
     "name": "stdout",
     "output_type": "stream",
     "text": [
      "[done]\n"
     ]
    },
    {
     "name": "stderr",
     "output_type": "stream",
     "text": [
      "[Parallel(n_jobs=-1)]: Using backend LokyBackend with 8 concurrent workers.\n",
      "/Users/savochkin/miniconda3/envs/myenv/lib/python3.9/site-packages/joblib/parallel.py:589: RuntimeWarning: Iterative multi-taper PSD computation did not converge.\n",
      "  return [func(*args, **kwargs)\n"
     ]
    },
    {
     "name": "stdout",
     "output_type": "stream",
     "text": [
      "39\n",
      "    Using multitaper spectrum estimation with 7 DPSS windows\n",
      "Computing cross-spectral density from epochs...\n",
      "Got 8 parallel jobs after requesting -1\n",
      "Using ProgressBar with tqdm.auto\n"
     ]
    },
    {
     "data": {
      "application/vnd.jupyter.widget-view+json": {
       "model_id": "5648b031218c4309b983c1e37ebb710d",
       "version_major": 2,
       "version_minor": 0
      },
      "text/plain": [
       "  0%|          | CSD epoch blocks : 0/1 [00:00<?,       ?it/s]"
      ]
     },
     "metadata": {},
     "output_type": "display_data"
    },
    {
     "name": "stderr",
     "output_type": "stream",
     "text": [
      "[Parallel(n_jobs=-1)]: Using backend LokyBackend with 8 concurrent workers.\n"
     ]
    },
    {
     "name": "stdout",
     "output_type": "stream",
     "text": [
      "[done]\n",
      "    Using multitaper spectrum estimation with 7 DPSS windows\n",
      "Computing cross-spectral density from epochs...\n",
      "Got 8 parallel jobs after requesting -1\n",
      "Using ProgressBar with tqdm.auto\n"
     ]
    },
    {
     "data": {
      "application/vnd.jupyter.widget-view+json": {
       "model_id": "3425fc65cfb747a992776316e3d3dbc8",
       "version_major": 2,
       "version_minor": 0
      },
      "text/plain": [
       "  0%|          | CSD epoch blocks : 0/1 [00:00<?,       ?it/s]"
      ]
     },
     "metadata": {},
     "output_type": "display_data"
    },
    {
     "name": "stdout",
     "output_type": "stream",
     "text": [
      "[done]\n",
      "40\n",
      "    Using multitaper spectrum estimation with 7 DPSS windows\n",
      "Computing cross-spectral density from epochs...\n",
      "Got 8 parallel jobs after requesting -1\n",
      "Using ProgressBar with tqdm.auto\n"
     ]
    },
    {
     "name": "stderr",
     "output_type": "stream",
     "text": [
      "[Parallel(n_jobs=-1)]: Using backend LokyBackend with 8 concurrent workers.\n",
      "/Users/savochkin/miniconda3/envs/myenv/lib/python3.9/site-packages/joblib/parallel.py:589: RuntimeWarning: Iterative multi-taper PSD computation did not converge.\n",
      "  return [func(*args, **kwargs)\n"
     ]
    },
    {
     "data": {
      "application/vnd.jupyter.widget-view+json": {
       "model_id": "cef972644c904396af10af0cde005c13",
       "version_major": 2,
       "version_minor": 0
      },
      "text/plain": [
       "  0%|          | CSD epoch blocks : 0/1 [00:00<?,       ?it/s]"
      ]
     },
     "metadata": {},
     "output_type": "display_data"
    },
    {
     "name": "stderr",
     "output_type": "stream",
     "text": [
      "[Parallel(n_jobs=-1)]: Using backend LokyBackend with 8 concurrent workers.\n"
     ]
    },
    {
     "name": "stdout",
     "output_type": "stream",
     "text": [
      "[done]\n",
      "    Using multitaper spectrum estimation with 7 DPSS windows\n",
      "Computing cross-spectral density from epochs...\n",
      "Got 8 parallel jobs after requesting -1\n",
      "Using ProgressBar with tqdm.auto\n"
     ]
    },
    {
     "data": {
      "application/vnd.jupyter.widget-view+json": {
       "model_id": "5b1adb2117954b68a5c716cd634ed94e",
       "version_major": 2,
       "version_minor": 0
      },
      "text/plain": [
       "  0%|          | CSD epoch blocks : 0/1 [00:00<?,       ?it/s]"
      ]
     },
     "metadata": {},
     "output_type": "display_data"
    },
    {
     "name": "stdout",
     "output_type": "stream",
     "text": [
      "[done]\n",
      "41\n",
      "    Using multitaper spectrum estimation with 7 DPSS windows\n",
      "Computing cross-spectral density from epochs...\n",
      "Got 8 parallel jobs after requesting -1\n",
      "Using ProgressBar with tqdm.auto\n"
     ]
    },
    {
     "name": "stderr",
     "output_type": "stream",
     "text": [
      "[Parallel(n_jobs=-1)]: Using backend LokyBackend with 8 concurrent workers.\n",
      "/Users/savochkin/miniconda3/envs/myenv/lib/python3.9/site-packages/joblib/parallel.py:589: RuntimeWarning: Iterative multi-taper PSD computation did not converge.\n",
      "  return [func(*args, **kwargs)\n"
     ]
    },
    {
     "data": {
      "application/vnd.jupyter.widget-view+json": {
       "model_id": "142e4eb79c214418b26fa55677bf3a04",
       "version_major": 2,
       "version_minor": 0
      },
      "text/plain": [
       "  0%|          | CSD epoch blocks : 0/1 [00:00<?,       ?it/s]"
      ]
     },
     "metadata": {},
     "output_type": "display_data"
    },
    {
     "name": "stderr",
     "output_type": "stream",
     "text": [
      "[Parallel(n_jobs=-1)]: Using backend LokyBackend with 8 concurrent workers.\n"
     ]
    },
    {
     "name": "stdout",
     "output_type": "stream",
     "text": [
      "[done]\n",
      "    Using multitaper spectrum estimation with 7 DPSS windows\n",
      "Computing cross-spectral density from epochs...\n",
      "Got 8 parallel jobs after requesting -1\n",
      "Using ProgressBar with tqdm.auto\n"
     ]
    },
    {
     "data": {
      "application/vnd.jupyter.widget-view+json": {
       "model_id": "304096ed0cc14e4bb80af120a3ed0b0e",
       "version_major": 2,
       "version_minor": 0
      },
      "text/plain": [
       "  0%|          | CSD epoch blocks : 0/1 [00:00<?,       ?it/s]"
      ]
     },
     "metadata": {},
     "output_type": "display_data"
    },
    {
     "name": "stderr",
     "output_type": "stream",
     "text": [
      "[Parallel(n_jobs=-1)]: Using backend LokyBackend with 8 concurrent workers.\n",
      "/Users/savochkin/miniconda3/envs/myenv/lib/python3.9/site-packages/joblib/parallel.py:589: RuntimeWarning: Iterative multi-taper PSD computation did not converge.\n",
      "  return [func(*args, **kwargs)\n"
     ]
    },
    {
     "name": "stdout",
     "output_type": "stream",
     "text": [
      "[done]\n",
      "42\n",
      "    Using multitaper spectrum estimation with 7 DPSS windows\n",
      "Computing cross-spectral density from epochs...\n",
      "Got 8 parallel jobs after requesting -1\n",
      "Using ProgressBar with tqdm.auto\n"
     ]
    },
    {
     "data": {
      "application/vnd.jupyter.widget-view+json": {
       "model_id": "629365d57b0149d7a91a0b88efa8ffa1",
       "version_major": 2,
       "version_minor": 0
      },
      "text/plain": [
       "  0%|          | CSD epoch blocks : 0/1 [00:00<?,       ?it/s]"
      ]
     },
     "metadata": {},
     "output_type": "display_data"
    },
    {
     "name": "stderr",
     "output_type": "stream",
     "text": [
      "[Parallel(n_jobs=-1)]: Using backend LokyBackend with 8 concurrent workers.\n"
     ]
    },
    {
     "name": "stdout",
     "output_type": "stream",
     "text": [
      "[done]\n",
      "    Using multitaper spectrum estimation with 7 DPSS windows\n",
      "Computing cross-spectral density from epochs...\n",
      "Got 8 parallel jobs after requesting -1\n",
      "Using ProgressBar with tqdm.auto\n"
     ]
    },
    {
     "data": {
      "application/vnd.jupyter.widget-view+json": {
       "model_id": "d2f65a0f083c4a1f8abda626ca1e4350",
       "version_major": 2,
       "version_minor": 0
      },
      "text/plain": [
       "  0%|          | CSD epoch blocks : 0/1 [00:00<?,       ?it/s]"
      ]
     },
     "metadata": {},
     "output_type": "display_data"
    },
    {
     "name": "stderr",
     "output_type": "stream",
     "text": [
      "[Parallel(n_jobs=-1)]: Using backend LokyBackend with 8 concurrent workers.\n",
      "/Users/savochkin/miniconda3/envs/myenv/lib/python3.9/site-packages/joblib/parallel.py:589: RuntimeWarning: Iterative multi-taper PSD computation did not converge.\n",
      "  return [func(*args, **kwargs)\n"
     ]
    },
    {
     "name": "stdout",
     "output_type": "stream",
     "text": [
      "[done]\n",
      "43\n",
      "    Using multitaper spectrum estimation with 7 DPSS windows\n",
      "Computing cross-spectral density from epochs...\n",
      "Got 8 parallel jobs after requesting -1\n",
      "Using ProgressBar with tqdm.auto\n"
     ]
    },
    {
     "data": {
      "application/vnd.jupyter.widget-view+json": {
       "model_id": "95dc5a85ff7f468aaec8569b0f1086f1",
       "version_major": 2,
       "version_minor": 0
      },
      "text/plain": [
       "  0%|          | CSD epoch blocks : 0/1 [00:00<?,       ?it/s]"
      ]
     },
     "metadata": {},
     "output_type": "display_data"
    },
    {
     "name": "stderr",
     "output_type": "stream",
     "text": [
      "[Parallel(n_jobs=-1)]: Using backend LokyBackend with 8 concurrent workers.\n"
     ]
    },
    {
     "name": "stdout",
     "output_type": "stream",
     "text": [
      "[done]\n",
      "    Using multitaper spectrum estimation with 7 DPSS windows\n",
      "Computing cross-spectral density from epochs...\n",
      "Got 8 parallel jobs after requesting -1\n",
      "Using ProgressBar with tqdm.auto\n"
     ]
    },
    {
     "data": {
      "application/vnd.jupyter.widget-view+json": {
       "model_id": "cee06d2b1e564df19a1019d4dfc46968",
       "version_major": 2,
       "version_minor": 0
      },
      "text/plain": [
       "  0%|          | CSD epoch blocks : 0/1 [00:00<?,       ?it/s]"
      ]
     },
     "metadata": {},
     "output_type": "display_data"
    },
    {
     "name": "stdout",
     "output_type": "stream",
     "text": [
      "[done]\n",
      "44\n",
      "    Using multitaper spectrum estimation with 7 DPSS windows\n",
      "Computing cross-spectral density from epochs...\n",
      "Got 8 parallel jobs after requesting -1\n",
      "Using ProgressBar with tqdm.auto\n"
     ]
    },
    {
     "name": "stderr",
     "output_type": "stream",
     "text": [
      "[Parallel(n_jobs=-1)]: Using backend LokyBackend with 8 concurrent workers.\n",
      "/Users/savochkin/miniconda3/envs/myenv/lib/python3.9/site-packages/joblib/parallel.py:589: RuntimeWarning: Iterative multi-taper PSD computation did not converge.\n",
      "  return [func(*args, **kwargs)\n"
     ]
    },
    {
     "data": {
      "application/vnd.jupyter.widget-view+json": {
       "model_id": "7af72f27cdd94fc3bd508fd947ee543a",
       "version_major": 2,
       "version_minor": 0
      },
      "text/plain": [
       "  0%|          | CSD epoch blocks : 0/1 [00:00<?,       ?it/s]"
      ]
     },
     "metadata": {},
     "output_type": "display_data"
    },
    {
     "name": "stderr",
     "output_type": "stream",
     "text": [
      "[Parallel(n_jobs=-1)]: Using backend LokyBackend with 8 concurrent workers.\n"
     ]
    },
    {
     "name": "stdout",
     "output_type": "stream",
     "text": [
      "[done]\n",
      "    Using multitaper spectrum estimation with 7 DPSS windows\n",
      "Computing cross-spectral density from epochs...\n",
      "Got 8 parallel jobs after requesting -1\n",
      "Using ProgressBar with tqdm.auto\n"
     ]
    },
    {
     "data": {
      "application/vnd.jupyter.widget-view+json": {
       "model_id": "6ada87aea9704aefb40cd3d8496d4389",
       "version_major": 2,
       "version_minor": 0
      },
      "text/plain": [
       "  0%|          | CSD epoch blocks : 0/1 [00:00<?,       ?it/s]"
      ]
     },
     "metadata": {},
     "output_type": "display_data"
    },
    {
     "name": "stdout",
     "output_type": "stream",
     "text": [
      "[done]\n",
      "45\n",
      "    Using multitaper spectrum estimation with 7 DPSS windows\n",
      "Computing cross-spectral density from epochs...\n"
     ]
    },
    {
     "name": "stderr",
     "output_type": "stream",
     "text": [
      "[Parallel(n_jobs=-1)]: Using backend LokyBackend with 8 concurrent workers.\n",
      "/Users/savochkin/miniconda3/envs/myenv/lib/python3.9/site-packages/joblib/parallel.py:589: RuntimeWarning: Iterative multi-taper PSD computation did not converge.\n",
      "  return [func(*args, **kwargs)\n"
     ]
    },
    {
     "name": "stdout",
     "output_type": "stream",
     "text": [
      "Got 8 parallel jobs after requesting -1\n",
      "Using ProgressBar with tqdm.auto\n"
     ]
    },
    {
     "data": {
      "application/vnd.jupyter.widget-view+json": {
       "model_id": "1a0446a54e4a4008987459bd689f71ba",
       "version_major": 2,
       "version_minor": 0
      },
      "text/plain": [
       "  0%|          | CSD epoch blocks : 0/1 [00:00<?,       ?it/s]"
      ]
     },
     "metadata": {},
     "output_type": "display_data"
    },
    {
     "name": "stderr",
     "output_type": "stream",
     "text": [
      "[Parallel(n_jobs=-1)]: Using backend LokyBackend with 8 concurrent workers.\n"
     ]
    },
    {
     "name": "stdout",
     "output_type": "stream",
     "text": [
      "[done]\n",
      "    Using multitaper spectrum estimation with 7 DPSS windows\n",
      "Computing cross-spectral density from epochs...\n",
      "Got 8 parallel jobs after requesting -1\n",
      "Using ProgressBar with tqdm.auto\n"
     ]
    },
    {
     "data": {
      "application/vnd.jupyter.widget-view+json": {
       "model_id": "77c5133c4e874ebab9d5fbf1ee1f2d42",
       "version_major": 2,
       "version_minor": 0
      },
      "text/plain": [
       "  0%|          | CSD epoch blocks : 0/1 [00:00<?,       ?it/s]"
      ]
     },
     "metadata": {},
     "output_type": "display_data"
    },
    {
     "name": "stdout",
     "output_type": "stream",
     "text": [
      "[done]\n",
      "46\n",
      "    Using multitaper spectrum estimation with 7 DPSS windows\n",
      "Computing cross-spectral density from epochs...\n",
      "Got 8 parallel jobs after requesting -1\n",
      "Using ProgressBar with tqdm.auto\n"
     ]
    },
    {
     "name": "stderr",
     "output_type": "stream",
     "text": [
      "[Parallel(n_jobs=-1)]: Using backend LokyBackend with 8 concurrent workers.\n",
      "/Users/savochkin/miniconda3/envs/myenv/lib/python3.9/site-packages/joblib/parallel.py:589: RuntimeWarning: Iterative multi-taper PSD computation did not converge.\n",
      "  return [func(*args, **kwargs)\n"
     ]
    },
    {
     "data": {
      "application/vnd.jupyter.widget-view+json": {
       "model_id": "a42dd438005643308a4be2c945245dee",
       "version_major": 2,
       "version_minor": 0
      },
      "text/plain": [
       "  0%|          | CSD epoch blocks : 0/1 [00:00<?,       ?it/s]"
      ]
     },
     "metadata": {},
     "output_type": "display_data"
    },
    {
     "name": "stderr",
     "output_type": "stream",
     "text": [
      "[Parallel(n_jobs=-1)]: Using backend LokyBackend with 8 concurrent workers.\n"
     ]
    },
    {
     "name": "stdout",
     "output_type": "stream",
     "text": [
      "[done]\n",
      "    Using multitaper spectrum estimation with 7 DPSS windows\n",
      "Computing cross-spectral density from epochs...\n",
      "Got 8 parallel jobs after requesting -1\n",
      "Using ProgressBar with tqdm.auto\n"
     ]
    },
    {
     "data": {
      "application/vnd.jupyter.widget-view+json": {
       "model_id": "73acad3795f54b7d9d4b47dd7221674a",
       "version_major": 2,
       "version_minor": 0
      },
      "text/plain": [
       "  0%|          | CSD epoch blocks : 0/1 [00:00<?,       ?it/s]"
      ]
     },
     "metadata": {},
     "output_type": "display_data"
    },
    {
     "name": "stdout",
     "output_type": "stream",
     "text": [
      "[done]\n",
      "47\n",
      "    Using multitaper spectrum estimation with 7 DPSS windows\n",
      "Computing cross-spectral density from epochs...\n",
      "Got 8 parallel jobs after requesting -1\n",
      "Using ProgressBar with tqdm.auto\n"
     ]
    },
    {
     "name": "stderr",
     "output_type": "stream",
     "text": [
      "[Parallel(n_jobs=-1)]: Using backend LokyBackend with 8 concurrent workers.\n",
      "/Users/savochkin/miniconda3/envs/myenv/lib/python3.9/site-packages/joblib/parallel.py:589: RuntimeWarning: Iterative multi-taper PSD computation did not converge.\n",
      "  return [func(*args, **kwargs)\n"
     ]
    },
    {
     "data": {
      "application/vnd.jupyter.widget-view+json": {
       "model_id": "158a72c614ed404093cecf8ccefac0f3",
       "version_major": 2,
       "version_minor": 0
      },
      "text/plain": [
       "  0%|          | CSD epoch blocks : 0/1 [00:00<?,       ?it/s]"
      ]
     },
     "metadata": {},
     "output_type": "display_data"
    },
    {
     "name": "stderr",
     "output_type": "stream",
     "text": [
      "[Parallel(n_jobs=-1)]: Using backend LokyBackend with 8 concurrent workers.\n"
     ]
    },
    {
     "name": "stdout",
     "output_type": "stream",
     "text": [
      "[done]\n",
      "    Using multitaper spectrum estimation with 7 DPSS windows\n",
      "Computing cross-spectral density from epochs...\n",
      "Got 8 parallel jobs after requesting -1\n",
      "Using ProgressBar with tqdm.auto\n"
     ]
    },
    {
     "data": {
      "application/vnd.jupyter.widget-view+json": {
       "model_id": "d0a89b0f749449698dcbddb42277f3ef",
       "version_major": 2,
       "version_minor": 0
      },
      "text/plain": [
       "  0%|          | CSD epoch blocks : 0/1 [00:00<?,       ?it/s]"
      ]
     },
     "metadata": {},
     "output_type": "display_data"
    },
    {
     "name": "stdout",
     "output_type": "stream",
     "text": [
      "[done]\n",
      "48\n",
      "    Using multitaper spectrum estimation with 7 DPSS windows\n",
      "Computing cross-spectral density from epochs...\n",
      "Got 8 parallel jobs after requesting -1\n",
      "Using ProgressBar with tqdm.auto\n"
     ]
    },
    {
     "name": "stderr",
     "output_type": "stream",
     "text": [
      "[Parallel(n_jobs=-1)]: Using backend LokyBackend with 8 concurrent workers.\n",
      "/Users/savochkin/miniconda3/envs/myenv/lib/python3.9/site-packages/joblib/parallel.py:589: RuntimeWarning: Iterative multi-taper PSD computation did not converge.\n",
      "  return [func(*args, **kwargs)\n"
     ]
    },
    {
     "data": {
      "application/vnd.jupyter.widget-view+json": {
       "model_id": "5300cfc95c524fb7a12af12b4a9142e9",
       "version_major": 2,
       "version_minor": 0
      },
      "text/plain": [
       "  0%|          | CSD epoch blocks : 0/1 [00:00<?,       ?it/s]"
      ]
     },
     "metadata": {},
     "output_type": "display_data"
    },
    {
     "name": "stderr",
     "output_type": "stream",
     "text": [
      "[Parallel(n_jobs=-1)]: Using backend LokyBackend with 8 concurrent workers.\n"
     ]
    },
    {
     "name": "stdout",
     "output_type": "stream",
     "text": [
      "[done]\n",
      "    Using multitaper spectrum estimation with 7 DPSS windows\n",
      "Computing cross-spectral density from epochs...\n",
      "Got 8 parallel jobs after requesting -1\n",
      "Using ProgressBar with tqdm.auto\n"
     ]
    },
    {
     "data": {
      "application/vnd.jupyter.widget-view+json": {
       "model_id": "add0d5377e6345b1a1be78b57fe8a417",
       "version_major": 2,
       "version_minor": 0
      },
      "text/plain": [
       "  0%|          | CSD epoch blocks : 0/1 [00:00<?,       ?it/s]"
      ]
     },
     "metadata": {},
     "output_type": "display_data"
    },
    {
     "name": "stdout",
     "output_type": "stream",
     "text": [
      "[done]\n",
      "49\n",
      "    Using multitaper spectrum estimation with 7 DPSS windows\n",
      "Computing cross-spectral density from epochs...\n",
      "Got 8 parallel jobs after requesting -1\n",
      "Using ProgressBar with tqdm.auto\n"
     ]
    },
    {
     "name": "stderr",
     "output_type": "stream",
     "text": [
      "[Parallel(n_jobs=-1)]: Using backend LokyBackend with 8 concurrent workers.\n",
      "/Users/savochkin/miniconda3/envs/myenv/lib/python3.9/site-packages/joblib/parallel.py:589: RuntimeWarning: Iterative multi-taper PSD computation did not converge.\n",
      "  return [func(*args, **kwargs)\n"
     ]
    },
    {
     "data": {
      "application/vnd.jupyter.widget-view+json": {
       "model_id": "0d5a747c79564607982cc598fe7dcf5c",
       "version_major": 2,
       "version_minor": 0
      },
      "text/plain": [
       "  0%|          | CSD epoch blocks : 0/1 [00:00<?,       ?it/s]"
      ]
     },
     "metadata": {},
     "output_type": "display_data"
    },
    {
     "name": "stderr",
     "output_type": "stream",
     "text": [
      "[Parallel(n_jobs=-1)]: Using backend LokyBackend with 8 concurrent workers.\n"
     ]
    },
    {
     "name": "stdout",
     "output_type": "stream",
     "text": [
      "[done]\n",
      "    Using multitaper spectrum estimation with 7 DPSS windows\n",
      "Computing cross-spectral density from epochs...\n",
      "Got 8 parallel jobs after requesting -1\n",
      "Using ProgressBar with tqdm.auto\n"
     ]
    },
    {
     "data": {
      "application/vnd.jupyter.widget-view+json": {
       "model_id": "9be7848d505244a9a9e287fda98cd9f0",
       "version_major": 2,
       "version_minor": 0
      },
      "text/plain": [
       "  0%|          | CSD epoch blocks : 0/1 [00:00<?,       ?it/s]"
      ]
     },
     "metadata": {},
     "output_type": "display_data"
    },
    {
     "name": "stderr",
     "output_type": "stream",
     "text": [
      "[Parallel(n_jobs=-1)]: Using backend LokyBackend with 8 concurrent workers.\n"
     ]
    },
    {
     "name": "stdout",
     "output_type": "stream",
     "text": [
      "[done]\n",
      "50\n",
      "    Using multitaper spectrum estimation with 7 DPSS windows\n",
      "Computing cross-spectral density from epochs...\n",
      "Got 8 parallel jobs after requesting -1\n",
      "Using ProgressBar with tqdm.auto\n"
     ]
    },
    {
     "name": "stderr",
     "output_type": "stream",
     "text": [
      "/Users/savochkin/miniconda3/envs/myenv/lib/python3.9/site-packages/joblib/parallel.py:589: RuntimeWarning: Iterative multi-taper PSD computation did not converge.\n",
      "  return [func(*args, **kwargs)\n"
     ]
    },
    {
     "data": {
      "application/vnd.jupyter.widget-view+json": {
       "model_id": "239ceda4383b405dbcfac24ec2165177",
       "version_major": 2,
       "version_minor": 0
      },
      "text/plain": [
       "  0%|          | CSD epoch blocks : 0/1 [00:00<?,       ?it/s]"
      ]
     },
     "metadata": {},
     "output_type": "display_data"
    },
    {
     "name": "stderr",
     "output_type": "stream",
     "text": [
      "[Parallel(n_jobs=-1)]: Using backend LokyBackend with 8 concurrent workers.\n"
     ]
    },
    {
     "name": "stdout",
     "output_type": "stream",
     "text": [
      "[done]\n",
      "    Using multitaper spectrum estimation with 7 DPSS windows\n",
      "Computing cross-spectral density from epochs...\n",
      "Got 8 parallel jobs after requesting -1\n",
      "Using ProgressBar with tqdm.auto\n"
     ]
    },
    {
     "data": {
      "application/vnd.jupyter.widget-view+json": {
       "model_id": "299e8a616d9144cdb39067a538259582",
       "version_major": 2,
       "version_minor": 0
      },
      "text/plain": [
       "  0%|          | CSD epoch blocks : 0/1 [00:00<?,       ?it/s]"
      ]
     },
     "metadata": {},
     "output_type": "display_data"
    },
    {
     "name": "stderr",
     "output_type": "stream",
     "text": [
      "[Parallel(n_jobs=-1)]: Using backend LokyBackend with 8 concurrent workers.\n"
     ]
    },
    {
     "name": "stdout",
     "output_type": "stream",
     "text": [
      "[done]\n",
      "51\n",
      "    Using multitaper spectrum estimation with 7 DPSS windows\n",
      "Computing cross-spectral density from epochs...\n",
      "Got 8 parallel jobs after requesting -1\n",
      "Using ProgressBar with tqdm.auto\n"
     ]
    },
    {
     "name": "stderr",
     "output_type": "stream",
     "text": [
      "/Users/savochkin/miniconda3/envs/myenv/lib/python3.9/site-packages/joblib/parallel.py:589: RuntimeWarning: Iterative multi-taper PSD computation did not converge.\n",
      "  return [func(*args, **kwargs)\n"
     ]
    },
    {
     "data": {
      "application/vnd.jupyter.widget-view+json": {
       "model_id": "f0bd924cfef64ad8b643aa0eb5151f3a",
       "version_major": 2,
       "version_minor": 0
      },
      "text/plain": [
       "  0%|          | CSD epoch blocks : 0/1 [00:00<?,       ?it/s]"
      ]
     },
     "metadata": {},
     "output_type": "display_data"
    },
    {
     "name": "stderr",
     "output_type": "stream",
     "text": [
      "[Parallel(n_jobs=-1)]: Using backend LokyBackend with 8 concurrent workers.\n"
     ]
    },
    {
     "name": "stdout",
     "output_type": "stream",
     "text": [
      "[done]\n",
      "    Using multitaper spectrum estimation with 7 DPSS windows\n",
      "Computing cross-spectral density from epochs...\n",
      "Got 8 parallel jobs after requesting -1\n",
      "Using ProgressBar with tqdm.auto\n"
     ]
    },
    {
     "data": {
      "application/vnd.jupyter.widget-view+json": {
       "model_id": "11b495ba8c6a4c74ac47994eaa7e4606",
       "version_major": 2,
       "version_minor": 0
      },
      "text/plain": [
       "  0%|          | CSD epoch blocks : 0/1 [00:00<?,       ?it/s]"
      ]
     },
     "metadata": {},
     "output_type": "display_data"
    },
    {
     "name": "stdout",
     "output_type": "stream",
     "text": [
      "[done]\n"
     ]
    },
    {
     "name": "stderr",
     "output_type": "stream",
     "text": [
      "[Parallel(n_jobs=-1)]: Using backend LokyBackend with 8 concurrent workers.\n",
      "/Users/savochkin/miniconda3/envs/myenv/lib/python3.9/site-packages/joblib/parallel.py:589: RuntimeWarning: Iterative multi-taper PSD computation did not converge.\n",
      "  return [func(*args, **kwargs)\n"
     ]
    },
    {
     "name": "stdout",
     "output_type": "stream",
     "text": [
      "52\n",
      "    Using multitaper spectrum estimation with 7 DPSS windows\n",
      "Computing cross-spectral density from epochs...\n",
      "Got 8 parallel jobs after requesting -1\n",
      "Using ProgressBar with tqdm.auto\n"
     ]
    },
    {
     "data": {
      "application/vnd.jupyter.widget-view+json": {
       "model_id": "f61562f0556d4998b16f1cfd2771d1be",
       "version_major": 2,
       "version_minor": 0
      },
      "text/plain": [
       "  0%|          | CSD epoch blocks : 0/1 [00:00<?,       ?it/s]"
      ]
     },
     "metadata": {},
     "output_type": "display_data"
    },
    {
     "name": "stderr",
     "output_type": "stream",
     "text": [
      "[Parallel(n_jobs=-1)]: Using backend LokyBackend with 8 concurrent workers.\n"
     ]
    },
    {
     "name": "stdout",
     "output_type": "stream",
     "text": [
      "[done]\n",
      "    Using multitaper spectrum estimation with 7 DPSS windows\n",
      "Computing cross-spectral density from epochs...\n",
      "Got 8 parallel jobs after requesting -1\n",
      "Using ProgressBar with tqdm.auto\n"
     ]
    },
    {
     "data": {
      "application/vnd.jupyter.widget-view+json": {
       "model_id": "c29db41413b942b89e575b1561ac0143",
       "version_major": 2,
       "version_minor": 0
      },
      "text/plain": [
       "  0%|          | CSD epoch blocks : 0/1 [00:00<?,       ?it/s]"
      ]
     },
     "metadata": {},
     "output_type": "display_data"
    },
    {
     "name": "stderr",
     "output_type": "stream",
     "text": [
      "[Parallel(n_jobs=-1)]: Using backend LokyBackend with 8 concurrent workers.\n",
      "/Users/savochkin/miniconda3/envs/myenv/lib/python3.9/site-packages/joblib/parallel.py:589: RuntimeWarning: Iterative multi-taper PSD computation did not converge.\n",
      "  return [func(*args, **kwargs)\n"
     ]
    },
    {
     "name": "stdout",
     "output_type": "stream",
     "text": [
      "[done]\n",
      "53\n",
      "    Using multitaper spectrum estimation with 7 DPSS windows\n",
      "Computing cross-spectral density from epochs...\n",
      "Got 8 parallel jobs after requesting -1\n",
      "Using ProgressBar with tqdm.auto\n"
     ]
    },
    {
     "data": {
      "application/vnd.jupyter.widget-view+json": {
       "model_id": "fcb8b1bee0ab49a09c2ec9648172f30b",
       "version_major": 2,
       "version_minor": 0
      },
      "text/plain": [
       "  0%|          | CSD epoch blocks : 0/1 [00:00<?,       ?it/s]"
      ]
     },
     "metadata": {},
     "output_type": "display_data"
    },
    {
     "name": "stderr",
     "output_type": "stream",
     "text": [
      "[Parallel(n_jobs=-1)]: Using backend LokyBackend with 8 concurrent workers.\n"
     ]
    },
    {
     "name": "stdout",
     "output_type": "stream",
     "text": [
      "[done]\n",
      "    Using multitaper spectrum estimation with 7 DPSS windows\n",
      "Computing cross-spectral density from epochs...\n",
      "Got 8 parallel jobs after requesting -1\n",
      "Using ProgressBar with tqdm.auto\n"
     ]
    },
    {
     "data": {
      "application/vnd.jupyter.widget-view+json": {
       "model_id": "dd37b5f837aa45d3b3ba309940a8447c",
       "version_major": 2,
       "version_minor": 0
      },
      "text/plain": [
       "  0%|          | CSD epoch blocks : 0/1 [00:00<?,       ?it/s]"
      ]
     },
     "metadata": {},
     "output_type": "display_data"
    },
    {
     "name": "stderr",
     "output_type": "stream",
     "text": [
      "[Parallel(n_jobs=-1)]: Using backend LokyBackend with 8 concurrent workers.\n",
      "/Users/savochkin/miniconda3/envs/myenv/lib/python3.9/site-packages/joblib/parallel.py:589: RuntimeWarning: Iterative multi-taper PSD computation did not converge.\n",
      "  return [func(*args, **kwargs)\n"
     ]
    },
    {
     "name": "stdout",
     "output_type": "stream",
     "text": [
      "[done]\n",
      "54\n",
      "    Using multitaper spectrum estimation with 7 DPSS windows\n",
      "Computing cross-spectral density from epochs...\n",
      "Got 8 parallel jobs after requesting -1\n",
      "Using ProgressBar with tqdm.auto\n"
     ]
    },
    {
     "data": {
      "application/vnd.jupyter.widget-view+json": {
       "model_id": "009f0ba2de544deaa19ea01f8e815b46",
       "version_major": 2,
       "version_minor": 0
      },
      "text/plain": [
       "  0%|          | CSD epoch blocks : 0/1 [00:00<?,       ?it/s]"
      ]
     },
     "metadata": {},
     "output_type": "display_data"
    },
    {
     "name": "stderr",
     "output_type": "stream",
     "text": [
      "[Parallel(n_jobs=-1)]: Using backend LokyBackend with 8 concurrent workers.\n"
     ]
    },
    {
     "name": "stdout",
     "output_type": "stream",
     "text": [
      "[done]\n",
      "    Using multitaper spectrum estimation with 7 DPSS windows\n",
      "Computing cross-spectral density from epochs...\n",
      "Got 8 parallel jobs after requesting -1\n",
      "Using ProgressBar with tqdm.auto\n"
     ]
    },
    {
     "data": {
      "application/vnd.jupyter.widget-view+json": {
       "model_id": "5bc4dd8b37e742f1aa2df769adf72e10",
       "version_major": 2,
       "version_minor": 0
      },
      "text/plain": [
       "  0%|          | CSD epoch blocks : 0/1 [00:00<?,       ?it/s]"
      ]
     },
     "metadata": {},
     "output_type": "display_data"
    },
    {
     "name": "stderr",
     "output_type": "stream",
     "text": [
      "[Parallel(n_jobs=-1)]: Using backend LokyBackend with 8 concurrent workers.\n"
     ]
    },
    {
     "name": "stdout",
     "output_type": "stream",
     "text": [
      "[done]\n",
      "55\n",
      "    Using multitaper spectrum estimation with 7 DPSS windows\n",
      "Computing cross-spectral density from epochs...\n",
      "Got 8 parallel jobs after requesting -1\n",
      "Using ProgressBar with tqdm.auto\n"
     ]
    },
    {
     "name": "stderr",
     "output_type": "stream",
     "text": [
      "/Users/savochkin/miniconda3/envs/myenv/lib/python3.9/site-packages/joblib/parallel.py:589: RuntimeWarning: Iterative multi-taper PSD computation did not converge.\n",
      "  return [func(*args, **kwargs)\n"
     ]
    },
    {
     "data": {
      "application/vnd.jupyter.widget-view+json": {
       "model_id": "f36d9784b0b945699af4cc6821215e45",
       "version_major": 2,
       "version_minor": 0
      },
      "text/plain": [
       "  0%|          | CSD epoch blocks : 0/1 [00:00<?,       ?it/s]"
      ]
     },
     "metadata": {},
     "output_type": "display_data"
    },
    {
     "name": "stderr",
     "output_type": "stream",
     "text": [
      "[Parallel(n_jobs=-1)]: Using backend LokyBackend with 8 concurrent workers.\n"
     ]
    },
    {
     "name": "stdout",
     "output_type": "stream",
     "text": [
      "[done]\n",
      "    Using multitaper spectrum estimation with 7 DPSS windows\n",
      "Computing cross-spectral density from epochs...\n",
      "Got 8 parallel jobs after requesting -1\n",
      "Using ProgressBar with tqdm.auto\n"
     ]
    },
    {
     "data": {
      "application/vnd.jupyter.widget-view+json": {
       "model_id": "3a34a46d13054d92bb86b2a75527c3dd",
       "version_major": 2,
       "version_minor": 0
      },
      "text/plain": [
       "  0%|          | CSD epoch blocks : 0/1 [00:00<?,       ?it/s]"
      ]
     },
     "metadata": {},
     "output_type": "display_data"
    },
    {
     "name": "stdout",
     "output_type": "stream",
     "text": [
      "[done]\n",
      "56\n",
      "    Using multitaper spectrum estimation with 7 DPSS windows\n",
      "Computing cross-spectral density from epochs...\n",
      "Got 8 parallel jobs after requesting -1\n",
      "Using ProgressBar with tqdm.auto\n"
     ]
    },
    {
     "name": "stderr",
     "output_type": "stream",
     "text": [
      "[Parallel(n_jobs=-1)]: Using backend LokyBackend with 8 concurrent workers.\n",
      "/Users/savochkin/miniconda3/envs/myenv/lib/python3.9/site-packages/joblib/parallel.py:589: RuntimeWarning: Iterative multi-taper PSD computation did not converge.\n",
      "  return [func(*args, **kwargs)\n"
     ]
    },
    {
     "data": {
      "application/vnd.jupyter.widget-view+json": {
       "model_id": "ba0ad630d0a14248a830255211325b05",
       "version_major": 2,
       "version_minor": 0
      },
      "text/plain": [
       "  0%|          | CSD epoch blocks : 0/1 [00:00<?,       ?it/s]"
      ]
     },
     "metadata": {},
     "output_type": "display_data"
    },
    {
     "name": "stderr",
     "output_type": "stream",
     "text": [
      "[Parallel(n_jobs=-1)]: Using backend LokyBackend with 8 concurrent workers.\n"
     ]
    },
    {
     "name": "stdout",
     "output_type": "stream",
     "text": [
      "[done]\n",
      "    Using multitaper spectrum estimation with 7 DPSS windows\n",
      "Computing cross-spectral density from epochs...\n",
      "Got 8 parallel jobs after requesting -1\n",
      "Using ProgressBar with tqdm.auto\n"
     ]
    },
    {
     "data": {
      "application/vnd.jupyter.widget-view+json": {
       "model_id": "b1eb99791cef4f9d87cb695466367f6c",
       "version_major": 2,
       "version_minor": 0
      },
      "text/plain": [
       "  0%|          | CSD epoch blocks : 0/1 [00:00<?,       ?it/s]"
      ]
     },
     "metadata": {},
     "output_type": "display_data"
    },
    {
     "name": "stdout",
     "output_type": "stream",
     "text": [
      "[done]\n",
      "57\n",
      "    Using multitaper spectrum estimation with 7 DPSS windows\n",
      "Computing cross-spectral density from epochs...\n",
      "Got 8 parallel jobs after requesting -1\n",
      "Using ProgressBar with tqdm.auto\n"
     ]
    },
    {
     "name": "stderr",
     "output_type": "stream",
     "text": [
      "[Parallel(n_jobs=-1)]: Using backend LokyBackend with 8 concurrent workers.\n",
      "/Users/savochkin/miniconda3/envs/myenv/lib/python3.9/site-packages/joblib/parallel.py:589: RuntimeWarning: Iterative multi-taper PSD computation did not converge.\n",
      "  return [func(*args, **kwargs)\n"
     ]
    },
    {
     "data": {
      "application/vnd.jupyter.widget-view+json": {
       "model_id": "39ac7d69256147b89e0e725071dd8942",
       "version_major": 2,
       "version_minor": 0
      },
      "text/plain": [
       "  0%|          | CSD epoch blocks : 0/1 [00:00<?,       ?it/s]"
      ]
     },
     "metadata": {},
     "output_type": "display_data"
    },
    {
     "name": "stderr",
     "output_type": "stream",
     "text": [
      "[Parallel(n_jobs=-1)]: Using backend LokyBackend with 8 concurrent workers.\n"
     ]
    },
    {
     "name": "stdout",
     "output_type": "stream",
     "text": [
      "[done]\n",
      "    Using multitaper spectrum estimation with 7 DPSS windows\n",
      "Computing cross-spectral density from epochs...\n",
      "Got 8 parallel jobs after requesting -1\n",
      "Using ProgressBar with tqdm.auto\n"
     ]
    },
    {
     "data": {
      "application/vnd.jupyter.widget-view+json": {
       "model_id": "a8bf42cf020746f6b7c92818dcdeb0ad",
       "version_major": 2,
       "version_minor": 0
      },
      "text/plain": [
       "  0%|          | CSD epoch blocks : 0/1 [00:00<?,       ?it/s]"
      ]
     },
     "metadata": {},
     "output_type": "display_data"
    },
    {
     "name": "stdout",
     "output_type": "stream",
     "text": [
      "[done]\n",
      "58\n",
      "    Using multitaper spectrum estimation with 7 DPSS windows\n",
      "Computing cross-spectral density from epochs...\n",
      "Got 8 parallel jobs after requesting -1\n",
      "Using ProgressBar with tqdm.auto\n"
     ]
    },
    {
     "name": "stderr",
     "output_type": "stream",
     "text": [
      "[Parallel(n_jobs=-1)]: Using backend LokyBackend with 8 concurrent workers.\n",
      "/Users/savochkin/miniconda3/envs/myenv/lib/python3.9/site-packages/joblib/parallel.py:589: RuntimeWarning: Iterative multi-taper PSD computation did not converge.\n",
      "  return [func(*args, **kwargs)\n"
     ]
    },
    {
     "data": {
      "application/vnd.jupyter.widget-view+json": {
       "model_id": "41457e8f71c7454f9e6ef977be2da67a",
       "version_major": 2,
       "version_minor": 0
      },
      "text/plain": [
       "  0%|          | CSD epoch blocks : 0/1 [00:00<?,       ?it/s]"
      ]
     },
     "metadata": {},
     "output_type": "display_data"
    },
    {
     "name": "stderr",
     "output_type": "stream",
     "text": [
      "[Parallel(n_jobs=-1)]: Using backend LokyBackend with 8 concurrent workers.\n"
     ]
    },
    {
     "name": "stdout",
     "output_type": "stream",
     "text": [
      "[done]\n",
      "    Using multitaper spectrum estimation with 7 DPSS windows\n",
      "Computing cross-spectral density from epochs...\n",
      "Got 8 parallel jobs after requesting -1\n",
      "Using ProgressBar with tqdm.auto\n"
     ]
    },
    {
     "data": {
      "application/vnd.jupyter.widget-view+json": {
       "model_id": "b315647cfdd143eabaae2fa97b4e9b74",
       "version_major": 2,
       "version_minor": 0
      },
      "text/plain": [
       "  0%|          | CSD epoch blocks : 0/1 [00:00<?,       ?it/s]"
      ]
     },
     "metadata": {},
     "output_type": "display_data"
    },
    {
     "name": "stdout",
     "output_type": "stream",
     "text": [
      "[done]\n",
      "59\n",
      "    Using multitaper spectrum estimation with 7 DPSS windows\n",
      "Computing cross-spectral density from epochs...\n",
      "Got 8 parallel jobs after requesting -1\n",
      "Using ProgressBar with tqdm.auto\n"
     ]
    },
    {
     "name": "stderr",
     "output_type": "stream",
     "text": [
      "[Parallel(n_jobs=-1)]: Using backend LokyBackend with 8 concurrent workers.\n",
      "/Users/savochkin/miniconda3/envs/myenv/lib/python3.9/site-packages/joblib/parallel.py:589: RuntimeWarning: Iterative multi-taper PSD computation did not converge.\n",
      "  return [func(*args, **kwargs)\n"
     ]
    },
    {
     "data": {
      "application/vnd.jupyter.widget-view+json": {
       "model_id": "ac4dd9b3c9624b2b849ecba45e5daf76",
       "version_major": 2,
       "version_minor": 0
      },
      "text/plain": [
       "  0%|          | CSD epoch blocks : 0/1 [00:00<?,       ?it/s]"
      ]
     },
     "metadata": {},
     "output_type": "display_data"
    },
    {
     "name": "stderr",
     "output_type": "stream",
     "text": [
      "[Parallel(n_jobs=-1)]: Using backend LokyBackend with 8 concurrent workers.\n"
     ]
    },
    {
     "name": "stdout",
     "output_type": "stream",
     "text": [
      "[done]\n",
      "    Using multitaper spectrum estimation with 7 DPSS windows\n",
      "Computing cross-spectral density from epochs...\n",
      "Got 8 parallel jobs after requesting -1\n",
      "Using ProgressBar with tqdm.auto\n"
     ]
    },
    {
     "data": {
      "application/vnd.jupyter.widget-view+json": {
       "model_id": "d992379fc3604fcb82868c8ac837f9c0",
       "version_major": 2,
       "version_minor": 0
      },
      "text/plain": [
       "  0%|          | CSD epoch blocks : 0/1 [00:00<?,       ?it/s]"
      ]
     },
     "metadata": {},
     "output_type": "display_data"
    },
    {
     "name": "stdout",
     "output_type": "stream",
     "text": [
      "[done]\n",
      "60\n",
      "    Using multitaper spectrum estimation with 7 DPSS windows\n",
      "Computing cross-spectral density from epochs...\n",
      "Got 8 parallel jobs after requesting -1\n",
      "Using ProgressBar with tqdm.auto\n"
     ]
    },
    {
     "name": "stderr",
     "output_type": "stream",
     "text": [
      "[Parallel(n_jobs=-1)]: Using backend LokyBackend with 8 concurrent workers.\n",
      "/Users/savochkin/miniconda3/envs/myenv/lib/python3.9/site-packages/joblib/parallel.py:589: RuntimeWarning: Iterative multi-taper PSD computation did not converge.\n",
      "  return [func(*args, **kwargs)\n"
     ]
    },
    {
     "data": {
      "application/vnd.jupyter.widget-view+json": {
       "model_id": "6ac42fc11483435db1b3d8d82b020fd5",
       "version_major": 2,
       "version_minor": 0
      },
      "text/plain": [
       "  0%|          | CSD epoch blocks : 0/1 [00:00<?,       ?it/s]"
      ]
     },
     "metadata": {},
     "output_type": "display_data"
    },
    {
     "name": "stderr",
     "output_type": "stream",
     "text": [
      "[Parallel(n_jobs=-1)]: Using backend LokyBackend with 8 concurrent workers.\n"
     ]
    },
    {
     "name": "stdout",
     "output_type": "stream",
     "text": [
      "[done]\n",
      "    Using multitaper spectrum estimation with 7 DPSS windows\n",
      "Computing cross-spectral density from epochs...\n",
      "Got 8 parallel jobs after requesting -1\n",
      "Using ProgressBar with tqdm.auto\n"
     ]
    },
    {
     "data": {
      "application/vnd.jupyter.widget-view+json": {
       "model_id": "e29ae31f8b6244419f890b22811de107",
       "version_major": 2,
       "version_minor": 0
      },
      "text/plain": [
       "  0%|          | CSD epoch blocks : 0/1 [00:00<?,       ?it/s]"
      ]
     },
     "metadata": {},
     "output_type": "display_data"
    },
    {
     "name": "stderr",
     "output_type": "stream",
     "text": [
      "[Parallel(n_jobs=-1)]: Using backend LokyBackend with 8 concurrent workers.\n",
      "/Users/savochkin/miniconda3/envs/myenv/lib/python3.9/site-packages/joblib/parallel.py:589: RuntimeWarning: Iterative multi-taper PSD computation did not converge.\n",
      "  return [func(*args, **kwargs)\n"
     ]
    },
    {
     "name": "stdout",
     "output_type": "stream",
     "text": [
      "[done]\n",
      "61\n",
      "    Using multitaper spectrum estimation with 7 DPSS windows\n",
      "Computing cross-spectral density from epochs...\n",
      "Got 8 parallel jobs after requesting -1\n",
      "Using ProgressBar with tqdm.auto\n"
     ]
    },
    {
     "data": {
      "application/vnd.jupyter.widget-view+json": {
       "model_id": "17224af15d1d4b638d9a4bfc6e57004b",
       "version_major": 2,
       "version_minor": 0
      },
      "text/plain": [
       "  0%|          | CSD epoch blocks : 0/1 [00:00<?,       ?it/s]"
      ]
     },
     "metadata": {},
     "output_type": "display_data"
    },
    {
     "name": "stderr",
     "output_type": "stream",
     "text": [
      "[Parallel(n_jobs=-1)]: Using backend LokyBackend with 8 concurrent workers.\n"
     ]
    },
    {
     "name": "stdout",
     "output_type": "stream",
     "text": [
      "[done]\n",
      "    Using multitaper spectrum estimation with 7 DPSS windows\n",
      "Computing cross-spectral density from epochs...\n",
      "Got 8 parallel jobs after requesting -1\n",
      "Using ProgressBar with tqdm.auto\n"
     ]
    },
    {
     "data": {
      "application/vnd.jupyter.widget-view+json": {
       "model_id": "80c138ace06e4b0284b7396b2242c9f4",
       "version_major": 2,
       "version_minor": 0
      },
      "text/plain": [
       "  0%|          | CSD epoch blocks : 0/1 [00:00<?,       ?it/s]"
      ]
     },
     "metadata": {},
     "output_type": "display_data"
    },
    {
     "name": "stderr",
     "output_type": "stream",
     "text": [
      "[Parallel(n_jobs=-1)]: Using backend LokyBackend with 8 concurrent workers.\n"
     ]
    },
    {
     "name": "stdout",
     "output_type": "stream",
     "text": [
      "[done]\n",
      "62\n",
      "    Using multitaper spectrum estimation with 7 DPSS windows\n",
      "Computing cross-spectral density from epochs...\n",
      "Got 8 parallel jobs after requesting -1\n",
      "Using ProgressBar with tqdm.auto\n"
     ]
    },
    {
     "name": "stderr",
     "output_type": "stream",
     "text": [
      "/Users/savochkin/miniconda3/envs/myenv/lib/python3.9/site-packages/joblib/parallel.py:589: RuntimeWarning: Iterative multi-taper PSD computation did not converge.\n",
      "  return [func(*args, **kwargs)\n"
     ]
    },
    {
     "data": {
      "application/vnd.jupyter.widget-view+json": {
       "model_id": "807a469c577044389d3e39b6b9254f24",
       "version_major": 2,
       "version_minor": 0
      },
      "text/plain": [
       "  0%|          | CSD epoch blocks : 0/1 [00:00<?,       ?it/s]"
      ]
     },
     "metadata": {},
     "output_type": "display_data"
    },
    {
     "name": "stdout",
     "output_type": "stream",
     "text": [
      "[done]\n",
      "    Using multitaper spectrum estimation with 7 DPSS windows\n",
      "Computing cross-spectral density from epochs...\n",
      "Got 8 parallel jobs after requesting -1\n",
      "Using ProgressBar with tqdm.auto\n"
     ]
    },
    {
     "name": "stderr",
     "output_type": "stream",
     "text": [
      "[Parallel(n_jobs=-1)]: Using backend LokyBackend with 8 concurrent workers.\n"
     ]
    },
    {
     "data": {
      "application/vnd.jupyter.widget-view+json": {
       "model_id": "ff2c1f046cce4275aa07b0a925c6c888",
       "version_major": 2,
       "version_minor": 0
      },
      "text/plain": [
       "  0%|          | CSD epoch blocks : 0/1 [00:00<?,       ?it/s]"
      ]
     },
     "metadata": {},
     "output_type": "display_data"
    },
    {
     "name": "stderr",
     "output_type": "stream",
     "text": [
      "[Parallel(n_jobs=-1)]: Using backend LokyBackend with 8 concurrent workers.\n"
     ]
    },
    {
     "name": "stdout",
     "output_type": "stream",
     "text": [
      "[done]\n",
      "63\n",
      "    Using multitaper spectrum estimation with 7 DPSS windows\n",
      "Computing cross-spectral density from epochs...\n",
      "Got 8 parallel jobs after requesting -1\n",
      "Using ProgressBar with tqdm.auto\n"
     ]
    },
    {
     "name": "stderr",
     "output_type": "stream",
     "text": [
      "/Users/savochkin/miniconda3/envs/myenv/lib/python3.9/site-packages/joblib/parallel.py:589: RuntimeWarning: Iterative multi-taper PSD computation did not converge.\n",
      "  return [func(*args, **kwargs)\n"
     ]
    },
    {
     "data": {
      "application/vnd.jupyter.widget-view+json": {
       "model_id": "587621370e9d426592e57fc256f7175f",
       "version_major": 2,
       "version_minor": 0
      },
      "text/plain": [
       "  0%|          | CSD epoch blocks : 0/1 [00:00<?,       ?it/s]"
      ]
     },
     "metadata": {},
     "output_type": "display_data"
    },
    {
     "name": "stderr",
     "output_type": "stream",
     "text": [
      "[Parallel(n_jobs=-1)]: Using backend LokyBackend with 8 concurrent workers.\n"
     ]
    },
    {
     "name": "stdout",
     "output_type": "stream",
     "text": [
      "[done]\n",
      "    Using multitaper spectrum estimation with 7 DPSS windows\n",
      "Computing cross-spectral density from epochs...\n",
      "Got 8 parallel jobs after requesting -1\n",
      "Using ProgressBar with tqdm.auto\n"
     ]
    },
    {
     "data": {
      "application/vnd.jupyter.widget-view+json": {
       "model_id": "afc144dde4334faca9a840c1e25fecec",
       "version_major": 2,
       "version_minor": 0
      },
      "text/plain": [
       "  0%|          | CSD epoch blocks : 0/1 [00:00<?,       ?it/s]"
      ]
     },
     "metadata": {},
     "output_type": "display_data"
    },
    {
     "name": "stderr",
     "output_type": "stream",
     "text": [
      "[Parallel(n_jobs=-1)]: Using backend LokyBackend with 8 concurrent workers.\n"
     ]
    },
    {
     "name": "stdout",
     "output_type": "stream",
     "text": [
      "[done]\n",
      "64\n",
      "    Using multitaper spectrum estimation with 7 DPSS windows\n",
      "Computing cross-spectral density from epochs...\n",
      "Got 8 parallel jobs after requesting -1\n",
      "Using ProgressBar with tqdm.auto\n"
     ]
    },
    {
     "name": "stderr",
     "output_type": "stream",
     "text": [
      "/Users/savochkin/miniconda3/envs/myenv/lib/python3.9/site-packages/joblib/parallel.py:589: RuntimeWarning: Iterative multi-taper PSD computation did not converge.\n",
      "  return [func(*args, **kwargs)\n"
     ]
    },
    {
     "data": {
      "application/vnd.jupyter.widget-view+json": {
       "model_id": "24ac7560f46c4a659bdc5c093d81ac15",
       "version_major": 2,
       "version_minor": 0
      },
      "text/plain": [
       "  0%|          | CSD epoch blocks : 0/1 [00:00<?,       ?it/s]"
      ]
     },
     "metadata": {},
     "output_type": "display_data"
    },
    {
     "name": "stdout",
     "output_type": "stream",
     "text": [
      "[done]\n",
      "    Using multitaper spectrum estimation with 7 DPSS windows\n",
      "Computing cross-spectral density from epochs...\n",
      "Got 8 parallel jobs after requesting -1\n",
      "Using ProgressBar with tqdm.auto\n"
     ]
    },
    {
     "name": "stderr",
     "output_type": "stream",
     "text": [
      "[Parallel(n_jobs=-1)]: Using backend LokyBackend with 8 concurrent workers.\n"
     ]
    },
    {
     "data": {
      "application/vnd.jupyter.widget-view+json": {
       "model_id": "1da189c259624849aacb1a83f847fd26",
       "version_major": 2,
       "version_minor": 0
      },
      "text/plain": [
       "  0%|          | CSD epoch blocks : 0/1 [00:00<?,       ?it/s]"
      ]
     },
     "metadata": {},
     "output_type": "display_data"
    },
    {
     "name": "stderr",
     "output_type": "stream",
     "text": [
      "[Parallel(n_jobs=-1)]: Using backend LokyBackend with 8 concurrent workers.\n"
     ]
    },
    {
     "name": "stdout",
     "output_type": "stream",
     "text": [
      "[done]\n",
      "65\n",
      "    Using multitaper spectrum estimation with 7 DPSS windows\n",
      "Computing cross-spectral density from epochs...\n",
      "Got 8 parallel jobs after requesting -1\n",
      "Using ProgressBar with tqdm.auto\n"
     ]
    },
    {
     "name": "stderr",
     "output_type": "stream",
     "text": [
      "/Users/savochkin/miniconda3/envs/myenv/lib/python3.9/site-packages/joblib/parallel.py:589: RuntimeWarning: Iterative multi-taper PSD computation did not converge.\n",
      "  return [func(*args, **kwargs)\n"
     ]
    },
    {
     "data": {
      "application/vnd.jupyter.widget-view+json": {
       "model_id": "aa3e0443d3ce476fa67ed005c4b43698",
       "version_major": 2,
       "version_minor": 0
      },
      "text/plain": [
       "  0%|          | CSD epoch blocks : 0/1 [00:00<?,       ?it/s]"
      ]
     },
     "metadata": {},
     "output_type": "display_data"
    },
    {
     "name": "stdout",
     "output_type": "stream",
     "text": [
      "[done]\n",
      "    Using multitaper spectrum estimation with 7 DPSS windows\n",
      "Computing cross-spectral density from epochs...\n",
      "Got 8 parallel jobs after requesting -1\n",
      "Using ProgressBar with tqdm.auto\n"
     ]
    },
    {
     "name": "stderr",
     "output_type": "stream",
     "text": [
      "[Parallel(n_jobs=-1)]: Using backend LokyBackend with 8 concurrent workers.\n"
     ]
    },
    {
     "data": {
      "application/vnd.jupyter.widget-view+json": {
       "model_id": "91e0ca8466284ba5bedf04d45da41888",
       "version_major": 2,
       "version_minor": 0
      },
      "text/plain": [
       "  0%|          | CSD epoch blocks : 0/1 [00:00<?,       ?it/s]"
      ]
     },
     "metadata": {},
     "output_type": "display_data"
    },
    {
     "name": "stderr",
     "output_type": "stream",
     "text": [
      "[Parallel(n_jobs=-1)]: Using backend LokyBackend with 8 concurrent workers.\n",
      "/Users/savochkin/miniconda3/envs/myenv/lib/python3.9/site-packages/joblib/parallel.py:589: RuntimeWarning: Iterative multi-taper PSD computation did not converge.\n",
      "  return [func(*args, **kwargs)\n"
     ]
    },
    {
     "name": "stdout",
     "output_type": "stream",
     "text": [
      "[done]\n",
      "66\n",
      "    Using multitaper spectrum estimation with 7 DPSS windows\n",
      "Computing cross-spectral density from epochs...\n",
      "Got 8 parallel jobs after requesting -1\n",
      "Using ProgressBar with tqdm.auto\n"
     ]
    },
    {
     "data": {
      "application/vnd.jupyter.widget-view+json": {
       "model_id": "15041368c66a45cba713679080dc899d",
       "version_major": 2,
       "version_minor": 0
      },
      "text/plain": [
       "  0%|          | CSD epoch blocks : 0/1 [00:00<?,       ?it/s]"
      ]
     },
     "metadata": {},
     "output_type": "display_data"
    },
    {
     "name": "stderr",
     "output_type": "stream",
     "text": [
      "[Parallel(n_jobs=-1)]: Using backend LokyBackend with 8 concurrent workers.\n"
     ]
    },
    {
     "name": "stdout",
     "output_type": "stream",
     "text": [
      "[done]\n",
      "    Using multitaper spectrum estimation with 7 DPSS windows\n",
      "Computing cross-spectral density from epochs...\n",
      "Got 8 parallel jobs after requesting -1\n",
      "Using ProgressBar with tqdm.auto\n"
     ]
    },
    {
     "data": {
      "application/vnd.jupyter.widget-view+json": {
       "model_id": "0eb723fe39b34b31bb972c6cdda1a2e5",
       "version_major": 2,
       "version_minor": 0
      },
      "text/plain": [
       "  0%|          | CSD epoch blocks : 0/1 [00:00<?,       ?it/s]"
      ]
     },
     "metadata": {},
     "output_type": "display_data"
    },
    {
     "name": "stdout",
     "output_type": "stream",
     "text": [
      "[done]\n"
     ]
    },
    {
     "name": "stderr",
     "output_type": "stream",
     "text": [
      "[Parallel(n_jobs=-1)]: Using backend LokyBackend with 8 concurrent workers.\n",
      "/Users/savochkin/miniconda3/envs/myenv/lib/python3.9/site-packages/joblib/parallel.py:589: RuntimeWarning: Iterative multi-taper PSD computation did not converge.\n",
      "  return [func(*args, **kwargs)\n"
     ]
    },
    {
     "name": "stdout",
     "output_type": "stream",
     "text": [
      "67\n",
      "    Using multitaper spectrum estimation with 7 DPSS windows\n",
      "Computing cross-spectral density from epochs...\n",
      "Got 8 parallel jobs after requesting -1\n",
      "Using ProgressBar with tqdm.auto\n"
     ]
    },
    {
     "data": {
      "application/vnd.jupyter.widget-view+json": {
       "model_id": "12ea6ae10ef6489ea8d901011fed35fd",
       "version_major": 2,
       "version_minor": 0
      },
      "text/plain": [
       "  0%|          | CSD epoch blocks : 0/1 [00:00<?,       ?it/s]"
      ]
     },
     "metadata": {},
     "output_type": "display_data"
    },
    {
     "name": "stdout",
     "output_type": "stream",
     "text": [
      "[done]\n",
      "    Using multitaper spectrum estimation with 7 DPSS windows\n",
      "Computing cross-spectral density from epochs...\n",
      "Got 8 parallel jobs after requesting -1\n",
      "Using ProgressBar with tqdm.auto\n"
     ]
    },
    {
     "name": "stderr",
     "output_type": "stream",
     "text": [
      "[Parallel(n_jobs=-1)]: Using backend LokyBackend with 8 concurrent workers.\n"
     ]
    },
    {
     "data": {
      "application/vnd.jupyter.widget-view+json": {
       "model_id": "cde7667475a544b392bb36fc742789ee",
       "version_major": 2,
       "version_minor": 0
      },
      "text/plain": [
       "  0%|          | CSD epoch blocks : 0/1 [00:00<?,       ?it/s]"
      ]
     },
     "metadata": {},
     "output_type": "display_data"
    },
    {
     "name": "stdout",
     "output_type": "stream",
     "text": [
      "[done]\n",
      "68\n",
      "    Using multitaper spectrum estimation with 7 DPSS windows\n",
      "Computing cross-spectral density from epochs...\n"
     ]
    },
    {
     "name": "stderr",
     "output_type": "stream",
     "text": [
      "[Parallel(n_jobs=-1)]: Using backend LokyBackend with 8 concurrent workers.\n",
      "/Users/savochkin/miniconda3/envs/myenv/lib/python3.9/site-packages/joblib/parallel.py:589: RuntimeWarning: Iterative multi-taper PSD computation did not converge.\n",
      "  return [func(*args, **kwargs)\n"
     ]
    },
    {
     "name": "stdout",
     "output_type": "stream",
     "text": [
      "Got 8 parallel jobs after requesting -1\n",
      "Using ProgressBar with tqdm.auto\n"
     ]
    },
    {
     "data": {
      "application/vnd.jupyter.widget-view+json": {
       "model_id": "f7dbbdfcef254f2f8e11bb9c27a01fcc",
       "version_major": 2,
       "version_minor": 0
      },
      "text/plain": [
       "  0%|          | CSD epoch blocks : 0/1 [00:00<?,       ?it/s]"
      ]
     },
     "metadata": {},
     "output_type": "display_data"
    },
    {
     "name": "stderr",
     "output_type": "stream",
     "text": [
      "[Parallel(n_jobs=-1)]: Using backend LokyBackend with 8 concurrent workers.\n"
     ]
    },
    {
     "name": "stdout",
     "output_type": "stream",
     "text": [
      "[done]\n",
      "    Using multitaper spectrum estimation with 7 DPSS windows\n",
      "Computing cross-spectral density from epochs...\n",
      "Got 8 parallel jobs after requesting -1\n",
      "Using ProgressBar with tqdm.auto\n"
     ]
    },
    {
     "data": {
      "application/vnd.jupyter.widget-view+json": {
       "model_id": "39741162968e42c3b77f5e6452df1ce8",
       "version_major": 2,
       "version_minor": 0
      },
      "text/plain": [
       "  0%|          | CSD epoch blocks : 0/1 [00:00<?,       ?it/s]"
      ]
     },
     "metadata": {},
     "output_type": "display_data"
    },
    {
     "name": "stdout",
     "output_type": "stream",
     "text": [
      "[done]\n",
      "69\n",
      "    Using multitaper spectrum estimation with 7 DPSS windows\n",
      "Computing cross-spectral density from epochs...\n",
      "Got 8 parallel jobs after requesting -1\n",
      "Using ProgressBar with tqdm.auto\n"
     ]
    },
    {
     "name": "stderr",
     "output_type": "stream",
     "text": [
      "[Parallel(n_jobs=-1)]: Using backend LokyBackend with 8 concurrent workers.\n",
      "/Users/savochkin/miniconda3/envs/myenv/lib/python3.9/site-packages/joblib/parallel.py:589: RuntimeWarning: Iterative multi-taper PSD computation did not converge.\n",
      "  return [func(*args, **kwargs)\n"
     ]
    },
    {
     "data": {
      "application/vnd.jupyter.widget-view+json": {
       "model_id": "79fc3de6ad1c424cbe54451ee56e2207",
       "version_major": 2,
       "version_minor": 0
      },
      "text/plain": [
       "  0%|          | CSD epoch blocks : 0/1 [00:00<?,       ?it/s]"
      ]
     },
     "metadata": {},
     "output_type": "display_data"
    },
    {
     "name": "stderr",
     "output_type": "stream",
     "text": [
      "[Parallel(n_jobs=-1)]: Using backend LokyBackend with 8 concurrent workers.\n"
     ]
    },
    {
     "name": "stdout",
     "output_type": "stream",
     "text": [
      "[done]\n",
      "    Using multitaper spectrum estimation with 7 DPSS windows\n",
      "Computing cross-spectral density from epochs...\n",
      "Got 8 parallel jobs after requesting -1\n",
      "Using ProgressBar with tqdm.auto\n"
     ]
    },
    {
     "data": {
      "application/vnd.jupyter.widget-view+json": {
       "model_id": "ff63d4c3b7fe4cc9be1d660b77e67bd7",
       "version_major": 2,
       "version_minor": 0
      },
      "text/plain": [
       "  0%|          | CSD epoch blocks : 0/1 [00:00<?,       ?it/s]"
      ]
     },
     "metadata": {},
     "output_type": "display_data"
    },
    {
     "name": "stdout",
     "output_type": "stream",
     "text": [
      "[done]\n"
     ]
    },
    {
     "name": "stderr",
     "output_type": "stream",
     "text": [
      "[Parallel(n_jobs=-1)]: Using backend LokyBackend with 8 concurrent workers.\n",
      "/Users/savochkin/miniconda3/envs/myenv/lib/python3.9/site-packages/joblib/parallel.py:589: RuntimeWarning: Iterative multi-taper PSD computation did not converge.\n",
      "  return [func(*args, **kwargs)\n"
     ]
    },
    {
     "name": "stdout",
     "output_type": "stream",
     "text": [
      "70\n",
      "    Using multitaper spectrum estimation with 7 DPSS windows\n",
      "Computing cross-spectral density from epochs...\n",
      "Got 8 parallel jobs after requesting -1\n",
      "Using ProgressBar with tqdm.auto\n"
     ]
    },
    {
     "data": {
      "application/vnd.jupyter.widget-view+json": {
       "model_id": "7ebf6e91a82f4852a8847663c6fb56e1",
       "version_major": 2,
       "version_minor": 0
      },
      "text/plain": [
       "  0%|          | CSD epoch blocks : 0/1 [00:00<?,       ?it/s]"
      ]
     },
     "metadata": {},
     "output_type": "display_data"
    },
    {
     "name": "stderr",
     "output_type": "stream",
     "text": [
      "[Parallel(n_jobs=-1)]: Using backend LokyBackend with 8 concurrent workers.\n"
     ]
    },
    {
     "name": "stdout",
     "output_type": "stream",
     "text": [
      "[done]\n",
      "    Using multitaper spectrum estimation with 7 DPSS windows\n",
      "Computing cross-spectral density from epochs...\n",
      "Got 8 parallel jobs after requesting -1\n",
      "Using ProgressBar with tqdm.auto\n"
     ]
    },
    {
     "data": {
      "application/vnd.jupyter.widget-view+json": {
       "model_id": "82a7b874df5c47fc9c9b57e8392be171",
       "version_major": 2,
       "version_minor": 0
      },
      "text/plain": [
       "  0%|          | CSD epoch blocks : 0/1 [00:00<?,       ?it/s]"
      ]
     },
     "metadata": {},
     "output_type": "display_data"
    },
    {
     "name": "stdout",
     "output_type": "stream",
     "text": [
      "[done]\n"
     ]
    },
    {
     "name": "stderr",
     "output_type": "stream",
     "text": [
      "[Parallel(n_jobs=-1)]: Using backend LokyBackend with 8 concurrent workers.\n",
      "/Users/savochkin/miniconda3/envs/myenv/lib/python3.9/site-packages/joblib/parallel.py:589: RuntimeWarning: Iterative multi-taper PSD computation did not converge.\n",
      "  return [func(*args, **kwargs)\n"
     ]
    },
    {
     "name": "stdout",
     "output_type": "stream",
     "text": [
      "71\n",
      "    Using multitaper spectrum estimation with 7 DPSS windows\n",
      "Computing cross-spectral density from epochs...\n",
      "Got 8 parallel jobs after requesting -1\n",
      "Using ProgressBar with tqdm.auto\n"
     ]
    },
    {
     "data": {
      "application/vnd.jupyter.widget-view+json": {
       "model_id": "172e6534a80e417ea01cfa16f1dab226",
       "version_major": 2,
       "version_minor": 0
      },
      "text/plain": [
       "  0%|          | CSD epoch blocks : 0/1 [00:00<?,       ?it/s]"
      ]
     },
     "metadata": {},
     "output_type": "display_data"
    },
    {
     "name": "stderr",
     "output_type": "stream",
     "text": [
      "[Parallel(n_jobs=-1)]: Using backend LokyBackend with 8 concurrent workers.\n"
     ]
    },
    {
     "name": "stdout",
     "output_type": "stream",
     "text": [
      "[done]\n",
      "    Using multitaper spectrum estimation with 7 DPSS windows\n",
      "Computing cross-spectral density from epochs...\n",
      "Got 8 parallel jobs after requesting -1\n",
      "Using ProgressBar with tqdm.auto\n"
     ]
    },
    {
     "data": {
      "application/vnd.jupyter.widget-view+json": {
       "model_id": "697ee96f06654b64b315a91d0013a49b",
       "version_major": 2,
       "version_minor": 0
      },
      "text/plain": [
       "  0%|          | CSD epoch blocks : 0/1 [00:00<?,       ?it/s]"
      ]
     },
     "metadata": {},
     "output_type": "display_data"
    },
    {
     "name": "stdout",
     "output_type": "stream",
     "text": [
      "[done]\n",
      "72\n",
      "    Using multitaper spectrum estimation with 7 DPSS windows\n",
      "Computing cross-spectral density from epochs...\n",
      "Got 8 parallel jobs after requesting -1\n",
      "Using ProgressBar with tqdm.auto\n"
     ]
    },
    {
     "name": "stderr",
     "output_type": "stream",
     "text": [
      "[Parallel(n_jobs=-1)]: Using backend LokyBackend with 8 concurrent workers.\n",
      "/Users/savochkin/miniconda3/envs/myenv/lib/python3.9/site-packages/joblib/parallel.py:589: RuntimeWarning: Iterative multi-taper PSD computation did not converge.\n",
      "  return [func(*args, **kwargs)\n"
     ]
    },
    {
     "data": {
      "application/vnd.jupyter.widget-view+json": {
       "model_id": "1029e6dedde34ae3b067071ccaa6a028",
       "version_major": 2,
       "version_minor": 0
      },
      "text/plain": [
       "  0%|          | CSD epoch blocks : 0/1 [00:00<?,       ?it/s]"
      ]
     },
     "metadata": {},
     "output_type": "display_data"
    },
    {
     "name": "stderr",
     "output_type": "stream",
     "text": [
      "[Parallel(n_jobs=-1)]: Using backend LokyBackend with 8 concurrent workers.\n"
     ]
    },
    {
     "name": "stdout",
     "output_type": "stream",
     "text": [
      "[done]\n",
      "    Using multitaper spectrum estimation with 7 DPSS windows\n",
      "Computing cross-spectral density from epochs...\n",
      "Got 8 parallel jobs after requesting -1\n",
      "Using ProgressBar with tqdm.auto\n"
     ]
    },
    {
     "data": {
      "application/vnd.jupyter.widget-view+json": {
       "model_id": "e84a659831884896b0cc8304fb263d63",
       "version_major": 2,
       "version_minor": 0
      },
      "text/plain": [
       "  0%|          | CSD epoch blocks : 0/1 [00:00<?,       ?it/s]"
      ]
     },
     "metadata": {},
     "output_type": "display_data"
    },
    {
     "name": "stderr",
     "output_type": "stream",
     "text": [
      "[Parallel(n_jobs=-1)]: Using backend LokyBackend with 8 concurrent workers.\n",
      "/Users/savochkin/miniconda3/envs/myenv/lib/python3.9/site-packages/joblib/parallel.py:589: RuntimeWarning: Iterative multi-taper PSD computation did not converge.\n",
      "  return [func(*args, **kwargs)\n"
     ]
    },
    {
     "name": "stdout",
     "output_type": "stream",
     "text": [
      "[done]\n",
      "73\n",
      "    Using multitaper spectrum estimation with 7 DPSS windows\n",
      "Computing cross-spectral density from epochs...\n",
      "Got 8 parallel jobs after requesting -1\n",
      "Using ProgressBar with tqdm.auto\n"
     ]
    },
    {
     "data": {
      "application/vnd.jupyter.widget-view+json": {
       "model_id": "a7e0bd60d0d44272b47f8ea6031f8dfc",
       "version_major": 2,
       "version_minor": 0
      },
      "text/plain": [
       "  0%|          | CSD epoch blocks : 0/1 [00:00<?,       ?it/s]"
      ]
     },
     "metadata": {},
     "output_type": "display_data"
    },
    {
     "name": "stderr",
     "output_type": "stream",
     "text": [
      "[Parallel(n_jobs=-1)]: Using backend LokyBackend with 8 concurrent workers.\n"
     ]
    },
    {
     "name": "stdout",
     "output_type": "stream",
     "text": [
      "[done]\n",
      "    Using multitaper spectrum estimation with 7 DPSS windows\n",
      "Computing cross-spectral density from epochs...\n",
      "Got 8 parallel jobs after requesting -1\n",
      "Using ProgressBar with tqdm.auto\n"
     ]
    },
    {
     "data": {
      "application/vnd.jupyter.widget-view+json": {
       "model_id": "212007a2236d4835866cea9c2ab117ee",
       "version_major": 2,
       "version_minor": 0
      },
      "text/plain": [
       "  0%|          | CSD epoch blocks : 0/1 [00:00<?,       ?it/s]"
      ]
     },
     "metadata": {},
     "output_type": "display_data"
    },
    {
     "name": "stdout",
     "output_type": "stream",
     "text": [
      "[done]\n",
      "74\n",
      "    Using multitaper spectrum estimation with 7 DPSS windows\n",
      "Computing cross-spectral density from epochs...\n",
      "Got 8 parallel jobs after requesting -1\n",
      "Using ProgressBar with tqdm.auto\n"
     ]
    },
    {
     "name": "stderr",
     "output_type": "stream",
     "text": [
      "[Parallel(n_jobs=-1)]: Using backend LokyBackend with 8 concurrent workers.\n",
      "/Users/savochkin/miniconda3/envs/myenv/lib/python3.9/site-packages/joblib/parallel.py:589: RuntimeWarning: Iterative multi-taper PSD computation did not converge.\n",
      "  return [func(*args, **kwargs)\n"
     ]
    },
    {
     "data": {
      "application/vnd.jupyter.widget-view+json": {
       "model_id": "4f143efe182d4eca9af271fa87b7854b",
       "version_major": 2,
       "version_minor": 0
      },
      "text/plain": [
       "  0%|          | CSD epoch blocks : 0/1 [00:00<?,       ?it/s]"
      ]
     },
     "metadata": {},
     "output_type": "display_data"
    },
    {
     "name": "stderr",
     "output_type": "stream",
     "text": [
      "[Parallel(n_jobs=-1)]: Using backend LokyBackend with 8 concurrent workers.\n"
     ]
    },
    {
     "name": "stdout",
     "output_type": "stream",
     "text": [
      "[done]\n",
      "    Using multitaper spectrum estimation with 7 DPSS windows\n",
      "Computing cross-spectral density from epochs...\n",
      "Got 8 parallel jobs after requesting -1\n",
      "Using ProgressBar with tqdm.auto\n"
     ]
    },
    {
     "data": {
      "application/vnd.jupyter.widget-view+json": {
       "model_id": "d56410e57007435caebe45c1c52070a6",
       "version_major": 2,
       "version_minor": 0
      },
      "text/plain": [
       "  0%|          | CSD epoch blocks : 0/1 [00:00<?,       ?it/s]"
      ]
     },
     "metadata": {},
     "output_type": "display_data"
    },
    {
     "name": "stdout",
     "output_type": "stream",
     "text": [
      "[done]\n",
      "75\n",
      "    Using multitaper spectrum estimation with 7 DPSS windows\n",
      "Computing cross-spectral density from epochs...\n",
      "Got 8 parallel jobs after requesting -1\n",
      "Using ProgressBar with tqdm.auto\n"
     ]
    },
    {
     "name": "stderr",
     "output_type": "stream",
     "text": [
      "[Parallel(n_jobs=-1)]: Using backend LokyBackend with 8 concurrent workers.\n",
      "/Users/savochkin/miniconda3/envs/myenv/lib/python3.9/site-packages/joblib/parallel.py:589: RuntimeWarning: Iterative multi-taper PSD computation did not converge.\n",
      "  return [func(*args, **kwargs)\n"
     ]
    },
    {
     "data": {
      "application/vnd.jupyter.widget-view+json": {
       "model_id": "62f3b574f2954e52bb75a7f2dd009bb1",
       "version_major": 2,
       "version_minor": 0
      },
      "text/plain": [
       "  0%|          | CSD epoch blocks : 0/1 [00:00<?,       ?it/s]"
      ]
     },
     "metadata": {},
     "output_type": "display_data"
    },
    {
     "name": "stderr",
     "output_type": "stream",
     "text": [
      "[Parallel(n_jobs=-1)]: Using backend LokyBackend with 8 concurrent workers.\n"
     ]
    },
    {
     "name": "stdout",
     "output_type": "stream",
     "text": [
      "[done]\n",
      "    Using multitaper spectrum estimation with 7 DPSS windows\n",
      "Computing cross-spectral density from epochs...\n",
      "Got 8 parallel jobs after requesting -1\n",
      "Using ProgressBar with tqdm.auto\n"
     ]
    },
    {
     "data": {
      "application/vnd.jupyter.widget-view+json": {
       "model_id": "7d1553aa7a89488298a02a691c09b705",
       "version_major": 2,
       "version_minor": 0
      },
      "text/plain": [
       "  0%|          | CSD epoch blocks : 0/1 [00:00<?,       ?it/s]"
      ]
     },
     "metadata": {},
     "output_type": "display_data"
    },
    {
     "name": "stderr",
     "output_type": "stream",
     "text": [
      "[Parallel(n_jobs=-1)]: Using backend LokyBackend with 8 concurrent workers.\n",
      "/Users/savochkin/miniconda3/envs/myenv/lib/python3.9/site-packages/joblib/parallel.py:589: RuntimeWarning: Iterative multi-taper PSD computation did not converge.\n",
      "  return [func(*args, **kwargs)\n"
     ]
    },
    {
     "name": "stdout",
     "output_type": "stream",
     "text": [
      "[done]\n",
      "76\n",
      "    Using multitaper spectrum estimation with 7 DPSS windows\n",
      "Computing cross-spectral density from epochs...\n",
      "Got 8 parallel jobs after requesting -1\n",
      "Using ProgressBar with tqdm.auto\n"
     ]
    },
    {
     "data": {
      "application/vnd.jupyter.widget-view+json": {
       "model_id": "de83d8227b474fabb0086723bd6ef2d0",
       "version_major": 2,
       "version_minor": 0
      },
      "text/plain": [
       "  0%|          | CSD epoch blocks : 0/1 [00:00<?,       ?it/s]"
      ]
     },
     "metadata": {},
     "output_type": "display_data"
    },
    {
     "name": "stderr",
     "output_type": "stream",
     "text": [
      "[Parallel(n_jobs=-1)]: Using backend LokyBackend with 8 concurrent workers.\n"
     ]
    },
    {
     "name": "stdout",
     "output_type": "stream",
     "text": [
      "[done]\n",
      "    Using multitaper spectrum estimation with 7 DPSS windows\n",
      "Computing cross-spectral density from epochs...\n",
      "Got 8 parallel jobs after requesting -1\n",
      "Using ProgressBar with tqdm.auto\n"
     ]
    },
    {
     "data": {
      "application/vnd.jupyter.widget-view+json": {
       "model_id": "001be8b554814a368d6e57e038d185c9",
       "version_major": 2,
       "version_minor": 0
      },
      "text/plain": [
       "  0%|          | CSD epoch blocks : 0/1 [00:00<?,       ?it/s]"
      ]
     },
     "metadata": {},
     "output_type": "display_data"
    },
    {
     "name": "stderr",
     "output_type": "stream",
     "text": [
      "[Parallel(n_jobs=-1)]: Using backend LokyBackend with 8 concurrent workers.\n",
      "/Users/savochkin/miniconda3/envs/myenv/lib/python3.9/site-packages/joblib/parallel.py:589: RuntimeWarning: Iterative multi-taper PSD computation did not converge.\n",
      "  return [func(*args, **kwargs)\n"
     ]
    },
    {
     "name": "stdout",
     "output_type": "stream",
     "text": [
      "[done]\n",
      "77\n",
      "    Using multitaper spectrum estimation with 7 DPSS windows\n",
      "Computing cross-spectral density from epochs...\n",
      "Got 8 parallel jobs after requesting -1\n",
      "Using ProgressBar with tqdm.auto\n"
     ]
    },
    {
     "data": {
      "application/vnd.jupyter.widget-view+json": {
       "model_id": "ee5eec1a8a814196b011a929b9e012a2",
       "version_major": 2,
       "version_minor": 0
      },
      "text/plain": [
       "  0%|          | CSD epoch blocks : 0/1 [00:00<?,       ?it/s]"
      ]
     },
     "metadata": {},
     "output_type": "display_data"
    },
    {
     "name": "stderr",
     "output_type": "stream",
     "text": [
      "[Parallel(n_jobs=-1)]: Using backend LokyBackend with 8 concurrent workers.\n"
     ]
    },
    {
     "name": "stdout",
     "output_type": "stream",
     "text": [
      "[done]\n",
      "    Using multitaper spectrum estimation with 7 DPSS windows\n",
      "Computing cross-spectral density from epochs...\n",
      "Got 8 parallel jobs after requesting -1\n",
      "Using ProgressBar with tqdm.auto\n"
     ]
    },
    {
     "data": {
      "application/vnd.jupyter.widget-view+json": {
       "model_id": "e9721d908267499baa696ef4ce0b30ea",
       "version_major": 2,
       "version_minor": 0
      },
      "text/plain": [
       "  0%|          | CSD epoch blocks : 0/1 [00:00<?,       ?it/s]"
      ]
     },
     "metadata": {},
     "output_type": "display_data"
    },
    {
     "name": "stdout",
     "output_type": "stream",
     "text": [
      "[done]\n",
      "78\n",
      "    Using multitaper spectrum estimation with 7 DPSS windows\n",
      "Computing cross-spectral density from epochs...\n",
      "Got 8 parallel jobs after requesting -1\n",
      "Using ProgressBar with tqdm.auto\n"
     ]
    },
    {
     "name": "stderr",
     "output_type": "stream",
     "text": [
      "[Parallel(n_jobs=-1)]: Using backend LokyBackend with 8 concurrent workers.\n",
      "/Users/savochkin/miniconda3/envs/myenv/lib/python3.9/site-packages/joblib/parallel.py:589: RuntimeWarning: Iterative multi-taper PSD computation did not converge.\n",
      "  return [func(*args, **kwargs)\n"
     ]
    },
    {
     "data": {
      "application/vnd.jupyter.widget-view+json": {
       "model_id": "6e1e3e839b784ead97de01e93aee735d",
       "version_major": 2,
       "version_minor": 0
      },
      "text/plain": [
       "  0%|          | CSD epoch blocks : 0/1 [00:00<?,       ?it/s]"
      ]
     },
     "metadata": {},
     "output_type": "display_data"
    },
    {
     "name": "stdout",
     "output_type": "stream",
     "text": [
      "[done]\n",
      "    Using multitaper spectrum estimation with 7 DPSS windows\n",
      "Computing cross-spectral density from epochs...\n",
      "Got 8 parallel jobs after requesting -1\n",
      "Using ProgressBar with tqdm.auto\n"
     ]
    },
    {
     "name": "stderr",
     "output_type": "stream",
     "text": [
      "[Parallel(n_jobs=-1)]: Using backend LokyBackend with 8 concurrent workers.\n"
     ]
    },
    {
     "data": {
      "application/vnd.jupyter.widget-view+json": {
       "model_id": "32b3309f5b4141748be5e004a95a612a",
       "version_major": 2,
       "version_minor": 0
      },
      "text/plain": [
       "  0%|          | CSD epoch blocks : 0/1 [00:00<?,       ?it/s]"
      ]
     },
     "metadata": {},
     "output_type": "display_data"
    },
    {
     "name": "stdout",
     "output_type": "stream",
     "text": [
      "[done]\n",
      "79\n",
      "    Using multitaper spectrum estimation with 7 DPSS windows\n",
      "Computing cross-spectral density from epochs...\n",
      "Got 8 parallel jobs after requesting -1\n",
      "Using ProgressBar with tqdm.auto\n"
     ]
    },
    {
     "name": "stderr",
     "output_type": "stream",
     "text": [
      "[Parallel(n_jobs=-1)]: Using backend LokyBackend with 8 concurrent workers.\n",
      "/Users/savochkin/miniconda3/envs/myenv/lib/python3.9/site-packages/joblib/parallel.py:589: RuntimeWarning: Iterative multi-taper PSD computation did not converge.\n",
      "  return [func(*args, **kwargs)\n"
     ]
    },
    {
     "data": {
      "application/vnd.jupyter.widget-view+json": {
       "model_id": "8eada2a7d430433c8f9055529deba4a6",
       "version_major": 2,
       "version_minor": 0
      },
      "text/plain": [
       "  0%|          | CSD epoch blocks : 0/1 [00:00<?,       ?it/s]"
      ]
     },
     "metadata": {},
     "output_type": "display_data"
    },
    {
     "name": "stderr",
     "output_type": "stream",
     "text": [
      "[Parallel(n_jobs=-1)]: Using backend LokyBackend with 8 concurrent workers.\n"
     ]
    },
    {
     "name": "stdout",
     "output_type": "stream",
     "text": [
      "[done]\n",
      "    Using multitaper spectrum estimation with 7 DPSS windows\n",
      "Computing cross-spectral density from epochs...\n",
      "Got 8 parallel jobs after requesting -1\n",
      "Using ProgressBar with tqdm.auto\n"
     ]
    },
    {
     "data": {
      "application/vnd.jupyter.widget-view+json": {
       "model_id": "09f1c9238ed24c888fb8b84dd32c38b8",
       "version_major": 2,
       "version_minor": 0
      },
      "text/plain": [
       "  0%|          | CSD epoch blocks : 0/1 [00:00<?,       ?it/s]"
      ]
     },
     "metadata": {},
     "output_type": "display_data"
    },
    {
     "name": "stdout",
     "output_type": "stream",
     "text": [
      "[done]\n",
      "80\n",
      "    Using multitaper spectrum estimation with 7 DPSS windows\n",
      "Computing cross-spectral density from epochs...\n",
      "Got 8 parallel jobs after requesting -1\n",
      "Using ProgressBar with tqdm.auto\n"
     ]
    },
    {
     "name": "stderr",
     "output_type": "stream",
     "text": [
      "[Parallel(n_jobs=-1)]: Using backend LokyBackend with 8 concurrent workers.\n",
      "/Users/savochkin/miniconda3/envs/myenv/lib/python3.9/site-packages/joblib/parallel.py:589: RuntimeWarning: Iterative multi-taper PSD computation did not converge.\n",
      "  return [func(*args, **kwargs)\n"
     ]
    },
    {
     "data": {
      "application/vnd.jupyter.widget-view+json": {
       "model_id": "c8c451d22b474feabb8bc033a2106ad3",
       "version_major": 2,
       "version_minor": 0
      },
      "text/plain": [
       "  0%|          | CSD epoch blocks : 0/1 [00:00<?,       ?it/s]"
      ]
     },
     "metadata": {},
     "output_type": "display_data"
    },
    {
     "name": "stderr",
     "output_type": "stream",
     "text": [
      "[Parallel(n_jobs=-1)]: Using backend LokyBackend with 8 concurrent workers.\n"
     ]
    },
    {
     "name": "stdout",
     "output_type": "stream",
     "text": [
      "[done]\n",
      "    Using multitaper spectrum estimation with 7 DPSS windows\n",
      "Computing cross-spectral density from epochs...\n",
      "Got 8 parallel jobs after requesting -1\n",
      "Using ProgressBar with tqdm.auto\n"
     ]
    },
    {
     "data": {
      "application/vnd.jupyter.widget-view+json": {
       "model_id": "79e3a2196f3143828a72c20320545882",
       "version_major": 2,
       "version_minor": 0
      },
      "text/plain": [
       "  0%|          | CSD epoch blocks : 0/1 [00:00<?,       ?it/s]"
      ]
     },
     "metadata": {},
     "output_type": "display_data"
    },
    {
     "name": "stdout",
     "output_type": "stream",
     "text": [
      "[done]\n",
      "81\n",
      "    Using multitaper spectrum estimation with 7 DPSS windows\n",
      "Computing cross-spectral density from epochs...\n",
      "Got 8 parallel jobs after requesting -1\n",
      "Using ProgressBar with tqdm.auto\n"
     ]
    },
    {
     "name": "stderr",
     "output_type": "stream",
     "text": [
      "[Parallel(n_jobs=-1)]: Using backend LokyBackend with 8 concurrent workers.\n",
      "/Users/savochkin/miniconda3/envs/myenv/lib/python3.9/site-packages/joblib/parallel.py:589: RuntimeWarning: Iterative multi-taper PSD computation did not converge.\n",
      "  return [func(*args, **kwargs)\n"
     ]
    },
    {
     "data": {
      "application/vnd.jupyter.widget-view+json": {
       "model_id": "f6f4a8b3d76346e6835ddad4841a39d2",
       "version_major": 2,
       "version_minor": 0
      },
      "text/plain": [
       "  0%|          | CSD epoch blocks : 0/1 [00:00<?,       ?it/s]"
      ]
     },
     "metadata": {},
     "output_type": "display_data"
    },
    {
     "name": "stdout",
     "output_type": "stream",
     "text": [
      "[done]\n",
      "    Using multitaper spectrum estimation with 7 DPSS windows\n",
      "Computing cross-spectral density from epochs...\n",
      "Got 8 parallel jobs after requesting -1\n",
      "Using ProgressBar with tqdm.auto\n"
     ]
    },
    {
     "name": "stderr",
     "output_type": "stream",
     "text": [
      "[Parallel(n_jobs=-1)]: Using backend LokyBackend with 8 concurrent workers.\n"
     ]
    },
    {
     "data": {
      "application/vnd.jupyter.widget-view+json": {
       "model_id": "cc63ea8baf404498bd91971ace618d54",
       "version_major": 2,
       "version_minor": 0
      },
      "text/plain": [
       "  0%|          | CSD epoch blocks : 0/1 [00:00<?,       ?it/s]"
      ]
     },
     "metadata": {},
     "output_type": "display_data"
    },
    {
     "name": "stdout",
     "output_type": "stream",
     "text": [
      "[done]\n",
      "82\n",
      "    Using multitaper spectrum estimation with 7 DPSS windows\n",
      "Computing cross-spectral density from epochs...\n",
      "Got 8 parallel jobs after requesting -1\n",
      "Using ProgressBar with tqdm.auto\n"
     ]
    },
    {
     "name": "stderr",
     "output_type": "stream",
     "text": [
      "[Parallel(n_jobs=-1)]: Using backend LokyBackend with 8 concurrent workers.\n",
      "/Users/savochkin/miniconda3/envs/myenv/lib/python3.9/site-packages/joblib/parallel.py:589: RuntimeWarning: Iterative multi-taper PSD computation did not converge.\n",
      "  return [func(*args, **kwargs)\n"
     ]
    },
    {
     "data": {
      "application/vnd.jupyter.widget-view+json": {
       "model_id": "74dc661d6f4248a9991b93576b90cd42",
       "version_major": 2,
       "version_minor": 0
      },
      "text/plain": [
       "  0%|          | CSD epoch blocks : 0/1 [00:00<?,       ?it/s]"
      ]
     },
     "metadata": {},
     "output_type": "display_data"
    },
    {
     "name": "stdout",
     "output_type": "stream",
     "text": [
      "[done]\n",
      "    Using multitaper spectrum estimation with 7 DPSS windows\n",
      "Computing cross-spectral density from epochs...\n",
      "Got 8 parallel jobs after requesting -1\n",
      "Using ProgressBar with tqdm.auto\n"
     ]
    },
    {
     "name": "stderr",
     "output_type": "stream",
     "text": [
      "[Parallel(n_jobs=-1)]: Using backend LokyBackend with 8 concurrent workers.\n"
     ]
    },
    {
     "data": {
      "application/vnd.jupyter.widget-view+json": {
       "model_id": "0060036ba4c345dcb55ae364eed3f58c",
       "version_major": 2,
       "version_minor": 0
      },
      "text/plain": [
       "  0%|          | CSD epoch blocks : 0/1 [00:00<?,       ?it/s]"
      ]
     },
     "metadata": {},
     "output_type": "display_data"
    },
    {
     "name": "stdout",
     "output_type": "stream",
     "text": [
      "[done]\n",
      "83\n",
      "    Using multitaper spectrum estimation with 7 DPSS windows\n",
      "Computing cross-spectral density from epochs...\n",
      "Got 8 parallel jobs after requesting -1\n",
      "Using ProgressBar with tqdm.auto\n"
     ]
    },
    {
     "name": "stderr",
     "output_type": "stream",
     "text": [
      "[Parallel(n_jobs=-1)]: Using backend LokyBackend with 8 concurrent workers.\n",
      "/Users/savochkin/miniconda3/envs/myenv/lib/python3.9/site-packages/joblib/parallel.py:589: RuntimeWarning: Iterative multi-taper PSD computation did not converge.\n",
      "  return [func(*args, **kwargs)\n"
     ]
    },
    {
     "data": {
      "application/vnd.jupyter.widget-view+json": {
       "model_id": "9234cb1f0051415b93dd8ca37929981f",
       "version_major": 2,
       "version_minor": 0
      },
      "text/plain": [
       "  0%|          | CSD epoch blocks : 0/1 [00:00<?,       ?it/s]"
      ]
     },
     "metadata": {},
     "output_type": "display_data"
    },
    {
     "name": "stderr",
     "output_type": "stream",
     "text": [
      "[Parallel(n_jobs=-1)]: Using backend LokyBackend with 8 concurrent workers.\n"
     ]
    },
    {
     "name": "stdout",
     "output_type": "stream",
     "text": [
      "[done]\n",
      "    Using multitaper spectrum estimation with 7 DPSS windows\n",
      "Computing cross-spectral density from epochs...\n",
      "Got 8 parallel jobs after requesting -1\n",
      "Using ProgressBar with tqdm.auto\n"
     ]
    },
    {
     "data": {
      "application/vnd.jupyter.widget-view+json": {
       "model_id": "4d9ef8b7249c49778c1f904d63b1598c",
       "version_major": 2,
       "version_minor": 0
      },
      "text/plain": [
       "  0%|          | CSD epoch blocks : 0/1 [00:00<?,       ?it/s]"
      ]
     },
     "metadata": {},
     "output_type": "display_data"
    },
    {
     "name": "stderr",
     "output_type": "stream",
     "text": [
      "[Parallel(n_jobs=-1)]: Using backend LokyBackend with 8 concurrent workers.\n",
      "/Users/savochkin/miniconda3/envs/myenv/lib/python3.9/site-packages/joblib/parallel.py:589: RuntimeWarning: Iterative multi-taper PSD computation did not converge.\n",
      "  return [func(*args, **kwargs)\n"
     ]
    },
    {
     "name": "stdout",
     "output_type": "stream",
     "text": [
      "[done]\n",
      "84\n",
      "    Using multitaper spectrum estimation with 7 DPSS windows\n",
      "Computing cross-spectral density from epochs...\n",
      "Got 8 parallel jobs after requesting -1\n",
      "Using ProgressBar with tqdm.auto\n"
     ]
    },
    {
     "data": {
      "application/vnd.jupyter.widget-view+json": {
       "model_id": "7d3c003de14740ab83941c0b2bc9ac84",
       "version_major": 2,
       "version_minor": 0
      },
      "text/plain": [
       "  0%|          | CSD epoch blocks : 0/1 [00:00<?,       ?it/s]"
      ]
     },
     "metadata": {},
     "output_type": "display_data"
    },
    {
     "name": "stderr",
     "output_type": "stream",
     "text": [
      "[Parallel(n_jobs=-1)]: Using backend LokyBackend with 8 concurrent workers.\n"
     ]
    },
    {
     "name": "stdout",
     "output_type": "stream",
     "text": [
      "[done]\n",
      "    Using multitaper spectrum estimation with 7 DPSS windows\n",
      "Computing cross-spectral density from epochs...\n",
      "Got 8 parallel jobs after requesting -1\n",
      "Using ProgressBar with tqdm.auto\n"
     ]
    },
    {
     "data": {
      "application/vnd.jupyter.widget-view+json": {
       "model_id": "af6a3d6bac9640ce850caed66986104e",
       "version_major": 2,
       "version_minor": 0
      },
      "text/plain": [
       "  0%|          | CSD epoch blocks : 0/1 [00:00<?,       ?it/s]"
      ]
     },
     "metadata": {},
     "output_type": "display_data"
    },
    {
     "name": "stderr",
     "output_type": "stream",
     "text": [
      "[Parallel(n_jobs=-1)]: Using backend LokyBackend with 8 concurrent workers.\n"
     ]
    },
    {
     "name": "stdout",
     "output_type": "stream",
     "text": [
      "[done]\n",
      "85\n",
      "    Using multitaper spectrum estimation with 7 DPSS windows\n",
      "Computing cross-spectral density from epochs...\n",
      "Got 8 parallel jobs after requesting -1\n",
      "Using ProgressBar with tqdm.auto\n"
     ]
    },
    {
     "name": "stderr",
     "output_type": "stream",
     "text": [
      "/Users/savochkin/miniconda3/envs/myenv/lib/python3.9/site-packages/joblib/parallel.py:589: RuntimeWarning: Iterative multi-taper PSD computation did not converge.\n",
      "  return [func(*args, **kwargs)\n"
     ]
    },
    {
     "data": {
      "application/vnd.jupyter.widget-view+json": {
       "model_id": "688897b6a95d4a058f954b2aa1f9bdfa",
       "version_major": 2,
       "version_minor": 0
      },
      "text/plain": [
       "  0%|          | CSD epoch blocks : 0/1 [00:00<?,       ?it/s]"
      ]
     },
     "metadata": {},
     "output_type": "display_data"
    },
    {
     "name": "stderr",
     "output_type": "stream",
     "text": [
      "[Parallel(n_jobs=-1)]: Using backend LokyBackend with 8 concurrent workers.\n"
     ]
    },
    {
     "name": "stdout",
     "output_type": "stream",
     "text": [
      "[done]\n",
      "    Using multitaper spectrum estimation with 7 DPSS windows\n",
      "Computing cross-spectral density from epochs...\n",
      "Got 8 parallel jobs after requesting -1\n",
      "Using ProgressBar with tqdm.auto\n"
     ]
    },
    {
     "data": {
      "application/vnd.jupyter.widget-view+json": {
       "model_id": "94ad0fc107874c2a95f33d301e3db48e",
       "version_major": 2,
       "version_minor": 0
      },
      "text/plain": [
       "  0%|          | CSD epoch blocks : 0/1 [00:00<?,       ?it/s]"
      ]
     },
     "metadata": {},
     "output_type": "display_data"
    },
    {
     "name": "stdout",
     "output_type": "stream",
     "text": [
      "[done]\n",
      "86\n",
      "    Using multitaper spectrum estimation with 7 DPSS windows\n"
     ]
    },
    {
     "name": "stderr",
     "output_type": "stream",
     "text": [
      "[Parallel(n_jobs=-1)]: Using backend LokyBackend with 8 concurrent workers.\n",
      "/Users/savochkin/miniconda3/envs/myenv/lib/python3.9/site-packages/joblib/parallel.py:589: RuntimeWarning: Iterative multi-taper PSD computation did not converge.\n",
      "  return [func(*args, **kwargs)\n"
     ]
    },
    {
     "name": "stdout",
     "output_type": "stream",
     "text": [
      "Computing cross-spectral density from epochs...\n",
      "Got 8 parallel jobs after requesting -1\n",
      "Using ProgressBar with tqdm.auto\n"
     ]
    },
    {
     "data": {
      "application/vnd.jupyter.widget-view+json": {
       "model_id": "85359a3182b442959104a3b162f50bff",
       "version_major": 2,
       "version_minor": 0
      },
      "text/plain": [
       "  0%|          | CSD epoch blocks : 0/1 [00:00<?,       ?it/s]"
      ]
     },
     "metadata": {},
     "output_type": "display_data"
    },
    {
     "name": "stderr",
     "output_type": "stream",
     "text": [
      "[Parallel(n_jobs=-1)]: Using backend LokyBackend with 8 concurrent workers.\n"
     ]
    },
    {
     "name": "stdout",
     "output_type": "stream",
     "text": [
      "[done]\n",
      "    Using multitaper spectrum estimation with 7 DPSS windows\n",
      "Computing cross-spectral density from epochs...\n",
      "Got 8 parallel jobs after requesting -1\n",
      "Using ProgressBar with tqdm.auto\n"
     ]
    },
    {
     "data": {
      "application/vnd.jupyter.widget-view+json": {
       "model_id": "1834e9191a1f4700839826ff9a537291",
       "version_major": 2,
       "version_minor": 0
      },
      "text/plain": [
       "  0%|          | CSD epoch blocks : 0/1 [00:00<?,       ?it/s]"
      ]
     },
     "metadata": {},
     "output_type": "display_data"
    },
    {
     "name": "stderr",
     "output_type": "stream",
     "text": [
      "[Parallel(n_jobs=-1)]: Using backend LokyBackend with 8 concurrent workers.\n",
      "/Users/savochkin/miniconda3/envs/myenv/lib/python3.9/site-packages/joblib/parallel.py:589: RuntimeWarning: Iterative multi-taper PSD computation did not converge.\n",
      "  return [func(*args, **kwargs)\n"
     ]
    },
    {
     "name": "stdout",
     "output_type": "stream",
     "text": [
      "[done]\n",
      "87\n",
      "    Using multitaper spectrum estimation with 7 DPSS windows\n",
      "Computing cross-spectral density from epochs...\n",
      "Got 8 parallel jobs after requesting -1\n",
      "Using ProgressBar with tqdm.auto\n"
     ]
    },
    {
     "data": {
      "application/vnd.jupyter.widget-view+json": {
       "model_id": "66b3496550304205877e489fcb674ee7",
       "version_major": 2,
       "version_minor": 0
      },
      "text/plain": [
       "  0%|          | CSD epoch blocks : 0/1 [00:00<?,       ?it/s]"
      ]
     },
     "metadata": {},
     "output_type": "display_data"
    },
    {
     "name": "stderr",
     "output_type": "stream",
     "text": [
      "[Parallel(n_jobs=-1)]: Using backend LokyBackend with 8 concurrent workers.\n"
     ]
    },
    {
     "name": "stdout",
     "output_type": "stream",
     "text": [
      "[done]\n",
      "    Using multitaper spectrum estimation with 7 DPSS windows\n",
      "Computing cross-spectral density from epochs...\n",
      "Got 8 parallel jobs after requesting -1\n",
      "Using ProgressBar with tqdm.auto\n"
     ]
    },
    {
     "data": {
      "application/vnd.jupyter.widget-view+json": {
       "model_id": "412f2daac0f64079bb09b7590c8ead3c",
       "version_major": 2,
       "version_minor": 0
      },
      "text/plain": [
       "  0%|          | CSD epoch blocks : 0/1 [00:00<?,       ?it/s]"
      ]
     },
     "metadata": {},
     "output_type": "display_data"
    },
    {
     "name": "stderr",
     "output_type": "stream",
     "text": [
      "[Parallel(n_jobs=-1)]: Using backend LokyBackend with 8 concurrent workers.\n",
      "/Users/savochkin/miniconda3/envs/myenv/lib/python3.9/site-packages/joblib/parallel.py:589: RuntimeWarning: Iterative multi-taper PSD computation did not converge.\n",
      "  return [func(*args, **kwargs)\n"
     ]
    },
    {
     "name": "stdout",
     "output_type": "stream",
     "text": [
      "[done]\n",
      "88\n",
      "    Using multitaper spectrum estimation with 7 DPSS windows\n",
      "Computing cross-spectral density from epochs...\n",
      "Got 8 parallel jobs after requesting -1\n",
      "Using ProgressBar with tqdm.auto\n"
     ]
    },
    {
     "data": {
      "application/vnd.jupyter.widget-view+json": {
       "model_id": "6e21c0f74e1c463bb90bbae17deba0a5",
       "version_major": 2,
       "version_minor": 0
      },
      "text/plain": [
       "  0%|          | CSD epoch blocks : 0/1 [00:00<?,       ?it/s]"
      ]
     },
     "metadata": {},
     "output_type": "display_data"
    },
    {
     "name": "stderr",
     "output_type": "stream",
     "text": [
      "[Parallel(n_jobs=-1)]: Using backend LokyBackend with 8 concurrent workers.\n"
     ]
    },
    {
     "name": "stdout",
     "output_type": "stream",
     "text": [
      "[done]\n",
      "    Using multitaper spectrum estimation with 7 DPSS windows\n",
      "Computing cross-spectral density from epochs...\n",
      "Got 8 parallel jobs after requesting -1\n",
      "Using ProgressBar with tqdm.auto\n"
     ]
    },
    {
     "data": {
      "application/vnd.jupyter.widget-view+json": {
       "model_id": "e0d9d0ecbd194382998be325577f66a7",
       "version_major": 2,
       "version_minor": 0
      },
      "text/plain": [
       "  0%|          | CSD epoch blocks : 0/1 [00:00<?,       ?it/s]"
      ]
     },
     "metadata": {},
     "output_type": "display_data"
    },
    {
     "name": "stdout",
     "output_type": "stream",
     "text": [
      "[done]\n",
      "89\n",
      "    Using multitaper spectrum estimation with 7 DPSS windows\n",
      "Computing cross-spectral density from epochs...\n",
      "Got 8 parallel jobs after requesting -1\n",
      "Using ProgressBar with tqdm.auto\n"
     ]
    },
    {
     "name": "stderr",
     "output_type": "stream",
     "text": [
      "[Parallel(n_jobs=-1)]: Using backend LokyBackend with 8 concurrent workers.\n",
      "/Users/savochkin/miniconda3/envs/myenv/lib/python3.9/site-packages/joblib/parallel.py:589: RuntimeWarning: Iterative multi-taper PSD computation did not converge.\n",
      "  return [func(*args, **kwargs)\n"
     ]
    },
    {
     "data": {
      "application/vnd.jupyter.widget-view+json": {
       "model_id": "4580ced89cb949bb99b7f6c7bf91999f",
       "version_major": 2,
       "version_minor": 0
      },
      "text/plain": [
       "  0%|          | CSD epoch blocks : 0/1 [00:00<?,       ?it/s]"
      ]
     },
     "metadata": {},
     "output_type": "display_data"
    },
    {
     "name": "stderr",
     "output_type": "stream",
     "text": [
      "[Parallel(n_jobs=-1)]: Using backend LokyBackend with 8 concurrent workers.\n"
     ]
    },
    {
     "name": "stdout",
     "output_type": "stream",
     "text": [
      "[done]\n",
      "    Using multitaper spectrum estimation with 7 DPSS windows\n",
      "Computing cross-spectral density from epochs...\n",
      "Got 8 parallel jobs after requesting -1\n",
      "Using ProgressBar with tqdm.auto\n"
     ]
    },
    {
     "data": {
      "application/vnd.jupyter.widget-view+json": {
       "model_id": "ba47db6a2af54ab386534efba954f734",
       "version_major": 2,
       "version_minor": 0
      },
      "text/plain": [
       "  0%|          | CSD epoch blocks : 0/1 [00:00<?,       ?it/s]"
      ]
     },
     "metadata": {},
     "output_type": "display_data"
    },
    {
     "name": "stdout",
     "output_type": "stream",
     "text": [
      "[done]\n",
      "90\n",
      "    Using multitaper spectrum estimation with 7 DPSS windows\n",
      "Computing cross-spectral density from epochs...\n",
      "Got 8 parallel jobs after requesting -1\n",
      "Using ProgressBar with tqdm.auto\n"
     ]
    },
    {
     "name": "stderr",
     "output_type": "stream",
     "text": [
      "[Parallel(n_jobs=-1)]: Using backend LokyBackend with 8 concurrent workers.\n",
      "/Users/savochkin/miniconda3/envs/myenv/lib/python3.9/site-packages/joblib/parallel.py:589: RuntimeWarning: Iterative multi-taper PSD computation did not converge.\n",
      "  return [func(*args, **kwargs)\n"
     ]
    },
    {
     "data": {
      "application/vnd.jupyter.widget-view+json": {
       "model_id": "2481994e985e4e6c9f1a9fb45e69992b",
       "version_major": 2,
       "version_minor": 0
      },
      "text/plain": [
       "  0%|          | CSD epoch blocks : 0/1 [00:00<?,       ?it/s]"
      ]
     },
     "metadata": {},
     "output_type": "display_data"
    },
    {
     "name": "stderr",
     "output_type": "stream",
     "text": [
      "[Parallel(n_jobs=-1)]: Using backend LokyBackend with 8 concurrent workers.\n"
     ]
    },
    {
     "name": "stdout",
     "output_type": "stream",
     "text": [
      "[done]\n",
      "    Using multitaper spectrum estimation with 7 DPSS windows\n",
      "Computing cross-spectral density from epochs...\n",
      "Got 8 parallel jobs after requesting -1\n",
      "Using ProgressBar with tqdm.auto\n"
     ]
    },
    {
     "data": {
      "application/vnd.jupyter.widget-view+json": {
       "model_id": "cf2f46b01cf749babed0736e67c084e1",
       "version_major": 2,
       "version_minor": 0
      },
      "text/plain": [
       "  0%|          | CSD epoch blocks : 0/1 [00:00<?,       ?it/s]"
      ]
     },
     "metadata": {},
     "output_type": "display_data"
    },
    {
     "name": "stdout",
     "output_type": "stream",
     "text": [
      "[done]\n",
      "91\n",
      "    Using multitaper spectrum estimation with 7 DPSS windows\n",
      "Computing cross-spectral density from epochs...\n",
      "Got 8 parallel jobs after requesting -1\n",
      "Using ProgressBar with tqdm.auto\n"
     ]
    },
    {
     "name": "stderr",
     "output_type": "stream",
     "text": [
      "[Parallel(n_jobs=-1)]: Using backend LokyBackend with 8 concurrent workers.\n",
      "/Users/savochkin/miniconda3/envs/myenv/lib/python3.9/site-packages/joblib/parallel.py:589: RuntimeWarning: Iterative multi-taper PSD computation did not converge.\n",
      "  return [func(*args, **kwargs)\n"
     ]
    },
    {
     "data": {
      "application/vnd.jupyter.widget-view+json": {
       "model_id": "807e48406985474d91f93a645074a1e5",
       "version_major": 2,
       "version_minor": 0
      },
      "text/plain": [
       "  0%|          | CSD epoch blocks : 0/1 [00:00<?,       ?it/s]"
      ]
     },
     "metadata": {},
     "output_type": "display_data"
    },
    {
     "name": "stderr",
     "output_type": "stream",
     "text": [
      "[Parallel(n_jobs=-1)]: Using backend LokyBackend with 8 concurrent workers.\n"
     ]
    },
    {
     "name": "stdout",
     "output_type": "stream",
     "text": [
      "[done]\n",
      "    Using multitaper spectrum estimation with 7 DPSS windows\n",
      "Computing cross-spectral density from epochs...\n",
      "Got 8 parallel jobs after requesting -1\n",
      "Using ProgressBar with tqdm.auto\n"
     ]
    },
    {
     "data": {
      "application/vnd.jupyter.widget-view+json": {
       "model_id": "f062a9685dbf48c6a63a9c65a8aee462",
       "version_major": 2,
       "version_minor": 0
      },
      "text/plain": [
       "  0%|          | CSD epoch blocks : 0/1 [00:00<?,       ?it/s]"
      ]
     },
     "metadata": {},
     "output_type": "display_data"
    },
    {
     "name": "stderr",
     "output_type": "stream",
     "text": [
      "[Parallel(n_jobs=-1)]: Using backend LokyBackend with 8 concurrent workers.\n"
     ]
    },
    {
     "name": "stdout",
     "output_type": "stream",
     "text": [
      "[done]\n",
      "92\n",
      "    Using multitaper spectrum estimation with 7 DPSS windows\n",
      "Computing cross-spectral density from epochs...\n",
      "Got 8 parallel jobs after requesting -1\n",
      "Using ProgressBar with tqdm.auto\n"
     ]
    },
    {
     "name": "stderr",
     "output_type": "stream",
     "text": [
      "/Users/savochkin/miniconda3/envs/myenv/lib/python3.9/site-packages/joblib/parallel.py:589: RuntimeWarning: Iterative multi-taper PSD computation did not converge.\n",
      "  return [func(*args, **kwargs)\n"
     ]
    },
    {
     "data": {
      "application/vnd.jupyter.widget-view+json": {
       "model_id": "0875d508a27c4ee4a849120ec330ec23",
       "version_major": 2,
       "version_minor": 0
      },
      "text/plain": [
       "  0%|          | CSD epoch blocks : 0/1 [00:00<?,       ?it/s]"
      ]
     },
     "metadata": {},
     "output_type": "display_data"
    },
    {
     "name": "stdout",
     "output_type": "stream",
     "text": [
      "[done]\n"
     ]
    },
    {
     "name": "stderr",
     "output_type": "stream",
     "text": [
      "[Parallel(n_jobs=-1)]: Using backend LokyBackend with 8 concurrent workers.\n"
     ]
    },
    {
     "name": "stdout",
     "output_type": "stream",
     "text": [
      "    Using multitaper spectrum estimation with 7 DPSS windows\n",
      "Computing cross-spectral density from epochs...\n",
      "Got 8 parallel jobs after requesting -1\n",
      "Using ProgressBar with tqdm.auto\n"
     ]
    },
    {
     "data": {
      "application/vnd.jupyter.widget-view+json": {
       "model_id": "2acd0e2bd2a245bf9e08e84f04d94fcd",
       "version_major": 2,
       "version_minor": 0
      },
      "text/plain": [
       "  0%|          | CSD epoch blocks : 0/1 [00:00<?,       ?it/s]"
      ]
     },
     "metadata": {},
     "output_type": "display_data"
    },
    {
     "name": "stderr",
     "output_type": "stream",
     "text": [
      "[Parallel(n_jobs=-1)]: Using backend LokyBackend with 8 concurrent workers.\n",
      "/Users/savochkin/miniconda3/envs/myenv/lib/python3.9/site-packages/joblib/parallel.py:589: RuntimeWarning: Iterative multi-taper PSD computation did not converge.\n",
      "  return [func(*args, **kwargs)\n"
     ]
    },
    {
     "name": "stdout",
     "output_type": "stream",
     "text": [
      "[done]\n",
      "93\n",
      "    Using multitaper spectrum estimation with 7 DPSS windows\n",
      "Computing cross-spectral density from epochs...\n",
      "Got 8 parallel jobs after requesting -1\n",
      "Using ProgressBar with tqdm.auto\n"
     ]
    },
    {
     "data": {
      "application/vnd.jupyter.widget-view+json": {
       "model_id": "3c77d66c77cf4d4c831d4e998a8dedd5",
       "version_major": 2,
       "version_minor": 0
      },
      "text/plain": [
       "  0%|          | CSD epoch blocks : 0/1 [00:00<?,       ?it/s]"
      ]
     },
     "metadata": {},
     "output_type": "display_data"
    },
    {
     "name": "stderr",
     "output_type": "stream",
     "text": [
      "[Parallel(n_jobs=-1)]: Using backend LokyBackend with 8 concurrent workers.\n"
     ]
    },
    {
     "name": "stdout",
     "output_type": "stream",
     "text": [
      "[done]\n",
      "    Using multitaper spectrum estimation with 7 DPSS windows\n",
      "Computing cross-spectral density from epochs...\n",
      "Got 8 parallel jobs after requesting -1\n",
      "Using ProgressBar with tqdm.auto\n"
     ]
    },
    {
     "data": {
      "application/vnd.jupyter.widget-view+json": {
       "model_id": "afb93283e6534f8ca451fa5c11d6a97c",
       "version_major": 2,
       "version_minor": 0
      },
      "text/plain": [
       "  0%|          | CSD epoch blocks : 0/1 [00:00<?,       ?it/s]"
      ]
     },
     "metadata": {},
     "output_type": "display_data"
    },
    {
     "name": "stdout",
     "output_type": "stream",
     "text": [
      "[done]\n",
      "94\n",
      "    Using multitaper spectrum estimation with 7 DPSS windows\n",
      "Computing cross-spectral density from epochs...\n",
      "Got 8 parallel jobs after requesting -1\n",
      "Using ProgressBar with tqdm.auto\n"
     ]
    },
    {
     "name": "stderr",
     "output_type": "stream",
     "text": [
      "[Parallel(n_jobs=-1)]: Using backend LokyBackend with 8 concurrent workers.\n",
      "/Users/savochkin/miniconda3/envs/myenv/lib/python3.9/site-packages/joblib/parallel.py:589: RuntimeWarning: Iterative multi-taper PSD computation did not converge.\n",
      "  return [func(*args, **kwargs)\n"
     ]
    },
    {
     "data": {
      "application/vnd.jupyter.widget-view+json": {
       "model_id": "8f3371c38e9e48cca9d654fb2b07ec22",
       "version_major": 2,
       "version_minor": 0
      },
      "text/plain": [
       "  0%|          | CSD epoch blocks : 0/1 [00:00<?,       ?it/s]"
      ]
     },
     "metadata": {},
     "output_type": "display_data"
    },
    {
     "name": "stderr",
     "output_type": "stream",
     "text": [
      "[Parallel(n_jobs=-1)]: Using backend LokyBackend with 8 concurrent workers.\n"
     ]
    },
    {
     "name": "stdout",
     "output_type": "stream",
     "text": [
      "[done]\n",
      "    Using multitaper spectrum estimation with 7 DPSS windows\n",
      "Computing cross-spectral density from epochs...\n",
      "Got 8 parallel jobs after requesting -1\n",
      "Using ProgressBar with tqdm.auto\n"
     ]
    },
    {
     "data": {
      "application/vnd.jupyter.widget-view+json": {
       "model_id": "fb1fe4764b6a496b856492a1918de3c6",
       "version_major": 2,
       "version_minor": 0
      },
      "text/plain": [
       "  0%|          | CSD epoch blocks : 0/1 [00:00<?,       ?it/s]"
      ]
     },
     "metadata": {},
     "output_type": "display_data"
    },
    {
     "name": "stderr",
     "output_type": "stream",
     "text": [
      "[Parallel(n_jobs=-1)]: Using backend LokyBackend with 8 concurrent workers.\n"
     ]
    },
    {
     "name": "stdout",
     "output_type": "stream",
     "text": [
      "[done]\n",
      "95\n",
      "    Using multitaper spectrum estimation with 7 DPSS windows\n",
      "Computing cross-spectral density from epochs...\n",
      "Got 8 parallel jobs after requesting -1\n",
      "Using ProgressBar with tqdm.auto\n"
     ]
    },
    {
     "name": "stderr",
     "output_type": "stream",
     "text": [
      "/Users/savochkin/miniconda3/envs/myenv/lib/python3.9/site-packages/joblib/parallel.py:589: RuntimeWarning: Iterative multi-taper PSD computation did not converge.\n",
      "  return [func(*args, **kwargs)\n"
     ]
    },
    {
     "data": {
      "application/vnd.jupyter.widget-view+json": {
       "model_id": "02a75067e3514736a9ef9b53d24bed2d",
       "version_major": 2,
       "version_minor": 0
      },
      "text/plain": [
       "  0%|          | CSD epoch blocks : 0/1 [00:00<?,       ?it/s]"
      ]
     },
     "metadata": {},
     "output_type": "display_data"
    },
    {
     "name": "stderr",
     "output_type": "stream",
     "text": [
      "[Parallel(n_jobs=-1)]: Using backend LokyBackend with 8 concurrent workers.\n"
     ]
    },
    {
     "name": "stdout",
     "output_type": "stream",
     "text": [
      "[done]\n",
      "    Using multitaper spectrum estimation with 7 DPSS windows\n",
      "Computing cross-spectral density from epochs...\n",
      "Got 8 parallel jobs after requesting -1\n",
      "Using ProgressBar with tqdm.auto\n"
     ]
    },
    {
     "data": {
      "application/vnd.jupyter.widget-view+json": {
       "model_id": "2027defa02da483a96070c753cf8d9bc",
       "version_major": 2,
       "version_minor": 0
      },
      "text/plain": [
       "  0%|          | CSD epoch blocks : 0/1 [00:00<?,       ?it/s]"
      ]
     },
     "metadata": {},
     "output_type": "display_data"
    },
    {
     "name": "stderr",
     "output_type": "stream",
     "text": [
      "[Parallel(n_jobs=-1)]: Using backend LokyBackend with 8 concurrent workers.\n"
     ]
    },
    {
     "name": "stdout",
     "output_type": "stream",
     "text": [
      "[done]\n",
      "96\n",
      "    Using multitaper spectrum estimation with 7 DPSS windows\n",
      "Computing cross-spectral density from epochs...\n",
      "Got 8 parallel jobs after requesting -1\n",
      "Using ProgressBar with tqdm.auto\n"
     ]
    },
    {
     "name": "stderr",
     "output_type": "stream",
     "text": [
      "/Users/savochkin/miniconda3/envs/myenv/lib/python3.9/site-packages/joblib/parallel.py:589: RuntimeWarning: Iterative multi-taper PSD computation did not converge.\n",
      "  return [func(*args, **kwargs)\n"
     ]
    },
    {
     "data": {
      "application/vnd.jupyter.widget-view+json": {
       "model_id": "2979fb0394b14fb98c2d3282dba7a534",
       "version_major": 2,
       "version_minor": 0
      },
      "text/plain": [
       "  0%|          | CSD epoch blocks : 0/1 [00:00<?,       ?it/s]"
      ]
     },
     "metadata": {},
     "output_type": "display_data"
    },
    {
     "name": "stderr",
     "output_type": "stream",
     "text": [
      "[Parallel(n_jobs=-1)]: Using backend LokyBackend with 8 concurrent workers.\n"
     ]
    },
    {
     "name": "stdout",
     "output_type": "stream",
     "text": [
      "[done]\n",
      "    Using multitaper spectrum estimation with 7 DPSS windows\n",
      "Computing cross-spectral density from epochs...\n",
      "Got 8 parallel jobs after requesting -1\n",
      "Using ProgressBar with tqdm.auto\n"
     ]
    },
    {
     "data": {
      "application/vnd.jupyter.widget-view+json": {
       "model_id": "a0eba52a90d149818a5ccc1f5af70081",
       "version_major": 2,
       "version_minor": 0
      },
      "text/plain": [
       "  0%|          | CSD epoch blocks : 0/1 [00:00<?,       ?it/s]"
      ]
     },
     "metadata": {},
     "output_type": "display_data"
    },
    {
     "name": "stdout",
     "output_type": "stream",
     "text": [
      "[done]\n",
      "97\n",
      "    Using multitaper spectrum estimation with 7 DPSS windows\n",
      "Computing cross-spectral density from epochs...\n",
      "Got 8 parallel jobs after requesting -1\n",
      "Using ProgressBar with tqdm.auto\n"
     ]
    },
    {
     "name": "stderr",
     "output_type": "stream",
     "text": [
      "[Parallel(n_jobs=-1)]: Using backend LokyBackend with 8 concurrent workers.\n",
      "/Users/savochkin/miniconda3/envs/myenv/lib/python3.9/site-packages/joblib/parallel.py:589: RuntimeWarning: Iterative multi-taper PSD computation did not converge.\n",
      "  return [func(*args, **kwargs)\n"
     ]
    },
    {
     "data": {
      "application/vnd.jupyter.widget-view+json": {
       "model_id": "43cc9673cc3c435e8862e419b4606a38",
       "version_major": 2,
       "version_minor": 0
      },
      "text/plain": [
       "  0%|          | CSD epoch blocks : 0/1 [00:00<?,       ?it/s]"
      ]
     },
     "metadata": {},
     "output_type": "display_data"
    },
    {
     "name": "stderr",
     "output_type": "stream",
     "text": [
      "[Parallel(n_jobs=-1)]: Using backend LokyBackend with 8 concurrent workers.\n"
     ]
    },
    {
     "name": "stdout",
     "output_type": "stream",
     "text": [
      "[done]\n",
      "    Using multitaper spectrum estimation with 7 DPSS windows\n",
      "Computing cross-spectral density from epochs...\n",
      "Got 8 parallel jobs after requesting -1\n",
      "Using ProgressBar with tqdm.auto\n"
     ]
    },
    {
     "data": {
      "application/vnd.jupyter.widget-view+json": {
       "model_id": "7efc810ff28042148dd51a0ea34b3265",
       "version_major": 2,
       "version_minor": 0
      },
      "text/plain": [
       "  0%|          | CSD epoch blocks : 0/1 [00:00<?,       ?it/s]"
      ]
     },
     "metadata": {},
     "output_type": "display_data"
    },
    {
     "name": "stdout",
     "output_type": "stream",
     "text": [
      "[done]\n",
      "98\n",
      "    Using multitaper spectrum estimation with 7 DPSS windows\n",
      "Computing cross-spectral density from epochs...\n",
      "Got 8 parallel jobs after requesting -1\n",
      "Using ProgressBar with tqdm.auto\n"
     ]
    },
    {
     "name": "stderr",
     "output_type": "stream",
     "text": [
      "[Parallel(n_jobs=-1)]: Using backend LokyBackend with 8 concurrent workers.\n",
      "/Users/savochkin/miniconda3/envs/myenv/lib/python3.9/site-packages/joblib/parallel.py:589: RuntimeWarning: Iterative multi-taper PSD computation did not converge.\n",
      "  return [func(*args, **kwargs)\n"
     ]
    },
    {
     "data": {
      "application/vnd.jupyter.widget-view+json": {
       "model_id": "e9f8bb541a774c7787ef409764ca19c1",
       "version_major": 2,
       "version_minor": 0
      },
      "text/plain": [
       "  0%|          | CSD epoch blocks : 0/1 [00:00<?,       ?it/s]"
      ]
     },
     "metadata": {},
     "output_type": "display_data"
    },
    {
     "name": "stderr",
     "output_type": "stream",
     "text": [
      "[Parallel(n_jobs=-1)]: Using backend LokyBackend with 8 concurrent workers.\n"
     ]
    },
    {
     "name": "stdout",
     "output_type": "stream",
     "text": [
      "[done]\n",
      "    Using multitaper spectrum estimation with 7 DPSS windows\n",
      "Computing cross-spectral density from epochs...\n",
      "Got 8 parallel jobs after requesting -1\n",
      "Using ProgressBar with tqdm.auto\n"
     ]
    },
    {
     "data": {
      "application/vnd.jupyter.widget-view+json": {
       "model_id": "45ad2b9434914ed9a0ec7f33946ae1d7",
       "version_major": 2,
       "version_minor": 0
      },
      "text/plain": [
       "  0%|          | CSD epoch blocks : 0/1 [00:00<?,       ?it/s]"
      ]
     },
     "metadata": {},
     "output_type": "display_data"
    },
    {
     "name": "stdout",
     "output_type": "stream",
     "text": [
      "[done]\n",
      "99\n",
      "    Using multitaper spectrum estimation with 7 DPSS windows\n",
      "Computing cross-spectral density from epochs...\n",
      "Got 8 parallel jobs after requesting -1\n",
      "Using ProgressBar with tqdm.auto\n"
     ]
    },
    {
     "name": "stderr",
     "output_type": "stream",
     "text": [
      "[Parallel(n_jobs=-1)]: Using backend LokyBackend with 8 concurrent workers.\n",
      "/Users/savochkin/miniconda3/envs/myenv/lib/python3.9/site-packages/joblib/parallel.py:589: RuntimeWarning: Iterative multi-taper PSD computation did not converge.\n",
      "  return [func(*args, **kwargs)\n"
     ]
    },
    {
     "data": {
      "application/vnd.jupyter.widget-view+json": {
       "model_id": "dc5c26e4c0204e4499357d75981e59c4",
       "version_major": 2,
       "version_minor": 0
      },
      "text/plain": [
       "  0%|          | CSD epoch blocks : 0/1 [00:00<?,       ?it/s]"
      ]
     },
     "metadata": {},
     "output_type": "display_data"
    },
    {
     "name": "stderr",
     "output_type": "stream",
     "text": [
      "[Parallel(n_jobs=-1)]: Using backend LokyBackend with 8 concurrent workers.\n"
     ]
    },
    {
     "name": "stdout",
     "output_type": "stream",
     "text": [
      "[done]\n",
      "    Using multitaper spectrum estimation with 7 DPSS windows\n",
      "Computing cross-spectral density from epochs...\n",
      "Got 8 parallel jobs after requesting -1\n",
      "Using ProgressBar with tqdm.auto\n"
     ]
    },
    {
     "data": {
      "application/vnd.jupyter.widget-view+json": {
       "model_id": "cad2465c376f47eb8decb2fcb92d8ad7",
       "version_major": 2,
       "version_minor": 0
      },
      "text/plain": [
       "  0%|          | CSD epoch blocks : 0/1 [00:00<?,       ?it/s]"
      ]
     },
     "metadata": {},
     "output_type": "display_data"
    },
    {
     "name": "stdout",
     "output_type": "stream",
     "text": [
      "[done]\n",
      "100\n",
      "    Using multitaper spectrum estimation with 7 DPSS windows\n",
      "Computing cross-spectral density from epochs...\n",
      "Got 8 parallel jobs after requesting -1\n",
      "Using ProgressBar with tqdm.auto\n"
     ]
    },
    {
     "name": "stderr",
     "output_type": "stream",
     "text": [
      "[Parallel(n_jobs=-1)]: Using backend LokyBackend with 8 concurrent workers.\n",
      "/Users/savochkin/miniconda3/envs/myenv/lib/python3.9/site-packages/joblib/parallel.py:589: RuntimeWarning: Iterative multi-taper PSD computation did not converge.\n",
      "  return [func(*args, **kwargs)\n"
     ]
    },
    {
     "data": {
      "application/vnd.jupyter.widget-view+json": {
       "model_id": "c9223e5c89884b4f9341b6c1863c79bd",
       "version_major": 2,
       "version_minor": 0
      },
      "text/plain": [
       "  0%|          | CSD epoch blocks : 0/1 [00:00<?,       ?it/s]"
      ]
     },
     "metadata": {},
     "output_type": "display_data"
    },
    {
     "name": "stderr",
     "output_type": "stream",
     "text": [
      "[Parallel(n_jobs=-1)]: Using backend LokyBackend with 8 concurrent workers.\n"
     ]
    },
    {
     "name": "stdout",
     "output_type": "stream",
     "text": [
      "[done]\n",
      "    Using multitaper spectrum estimation with 7 DPSS windows\n",
      "Computing cross-spectral density from epochs...\n",
      "Got 8 parallel jobs after requesting -1\n",
      "Using ProgressBar with tqdm.auto\n"
     ]
    },
    {
     "data": {
      "application/vnd.jupyter.widget-view+json": {
       "model_id": "85bcd90ad9a04b5394bfec8f539129e0",
       "version_major": 2,
       "version_minor": 0
      },
      "text/plain": [
       "  0%|          | CSD epoch blocks : 0/1 [00:00<?,       ?it/s]"
      ]
     },
     "metadata": {},
     "output_type": "display_data"
    },
    {
     "name": "stderr",
     "output_type": "stream",
     "text": [
      "[Parallel(n_jobs=-1)]: Using backend LokyBackend with 8 concurrent workers.\n",
      "/Users/savochkin/miniconda3/envs/myenv/lib/python3.9/site-packages/joblib/parallel.py:589: RuntimeWarning: Iterative multi-taper PSD computation did not converge.\n",
      "  return [func(*args, **kwargs)\n"
     ]
    },
    {
     "name": "stdout",
     "output_type": "stream",
     "text": [
      "[done]\n",
      "101\n",
      "    Using multitaper spectrum estimation with 7 DPSS windows\n",
      "Computing cross-spectral density from epochs...\n",
      "Got 8 parallel jobs after requesting -1\n",
      "Using ProgressBar with tqdm.auto\n"
     ]
    },
    {
     "data": {
      "application/vnd.jupyter.widget-view+json": {
       "model_id": "5bf1b42ba1004bc394479f9284cfe2a0",
       "version_major": 2,
       "version_minor": 0
      },
      "text/plain": [
       "  0%|          | CSD epoch blocks : 0/1 [00:00<?,       ?it/s]"
      ]
     },
     "metadata": {},
     "output_type": "display_data"
    },
    {
     "name": "stderr",
     "output_type": "stream",
     "text": [
      "[Parallel(n_jobs=-1)]: Using backend LokyBackend with 8 concurrent workers.\n"
     ]
    },
    {
     "name": "stdout",
     "output_type": "stream",
     "text": [
      "[done]\n",
      "    Using multitaper spectrum estimation with 7 DPSS windows\n",
      "Computing cross-spectral density from epochs...\n",
      "Got 8 parallel jobs after requesting -1\n",
      "Using ProgressBar with tqdm.auto\n"
     ]
    },
    {
     "data": {
      "application/vnd.jupyter.widget-view+json": {
       "model_id": "e95f0a23fe3648939226849e740d39d7",
       "version_major": 2,
       "version_minor": 0
      },
      "text/plain": [
       "  0%|          | CSD epoch blocks : 0/1 [00:00<?,       ?it/s]"
      ]
     },
     "metadata": {},
     "output_type": "display_data"
    },
    {
     "name": "stderr",
     "output_type": "stream",
     "text": [
      "[Parallel(n_jobs=-1)]: Using backend LokyBackend with 8 concurrent workers.\n"
     ]
    },
    {
     "name": "stdout",
     "output_type": "stream",
     "text": [
      "[done]\n",
      "102\n",
      "    Using multitaper spectrum estimation with 7 DPSS windows\n",
      "Computing cross-spectral density from epochs...\n",
      "Got 8 parallel jobs after requesting -1\n",
      "Using ProgressBar with tqdm.auto\n"
     ]
    },
    {
     "name": "stderr",
     "output_type": "stream",
     "text": [
      "/Users/savochkin/miniconda3/envs/myenv/lib/python3.9/site-packages/joblib/parallel.py:589: RuntimeWarning: Iterative multi-taper PSD computation did not converge.\n",
      "  return [func(*args, **kwargs)\n"
     ]
    },
    {
     "data": {
      "application/vnd.jupyter.widget-view+json": {
       "model_id": "be6d4a51eea3419e8a7dffe414e30238",
       "version_major": 2,
       "version_minor": 0
      },
      "text/plain": [
       "  0%|          | CSD epoch blocks : 0/1 [00:00<?,       ?it/s]"
      ]
     },
     "metadata": {},
     "output_type": "display_data"
    },
    {
     "name": "stdout",
     "output_type": "stream",
     "text": [
      "[done]\n",
      "    Using multitaper spectrum estimation with 7 DPSS windows\n",
      "Computing cross-spectral density from epochs...\n",
      "Got 8 parallel jobs after requesting -1\n",
      "Using ProgressBar with tqdm.auto\n"
     ]
    },
    {
     "name": "stderr",
     "output_type": "stream",
     "text": [
      "[Parallel(n_jobs=-1)]: Using backend LokyBackend with 8 concurrent workers.\n"
     ]
    },
    {
     "data": {
      "application/vnd.jupyter.widget-view+json": {
       "model_id": "58ef65cff6fd49359cae899fee9e5f4c",
       "version_major": 2,
       "version_minor": 0
      },
      "text/plain": [
       "  0%|          | CSD epoch blocks : 0/1 [00:00<?,       ?it/s]"
      ]
     },
     "metadata": {},
     "output_type": "display_data"
    },
    {
     "name": "stdout",
     "output_type": "stream",
     "text": [
      "[done]\n",
      "103\n",
      "    Using multitaper spectrum estimation with 7 DPSS windows\n",
      "Computing cross-spectral density from epochs...\n",
      "Got 8 parallel jobs after requesting -1\n",
      "Using ProgressBar with tqdm.auto\n"
     ]
    },
    {
     "name": "stderr",
     "output_type": "stream",
     "text": [
      "[Parallel(n_jobs=-1)]: Using backend LokyBackend with 8 concurrent workers.\n",
      "/Users/savochkin/miniconda3/envs/myenv/lib/python3.9/site-packages/joblib/parallel.py:589: RuntimeWarning: Iterative multi-taper PSD computation did not converge.\n",
      "  return [func(*args, **kwargs)\n"
     ]
    },
    {
     "data": {
      "application/vnd.jupyter.widget-view+json": {
       "model_id": "a73cea3c986242d58c70c9bb3aea06e4",
       "version_major": 2,
       "version_minor": 0
      },
      "text/plain": [
       "  0%|          | CSD epoch blocks : 0/1 [00:00<?,       ?it/s]"
      ]
     },
     "metadata": {},
     "output_type": "display_data"
    },
    {
     "name": "stderr",
     "output_type": "stream",
     "text": [
      "[Parallel(n_jobs=-1)]: Using backend LokyBackend with 8 concurrent workers.\n"
     ]
    },
    {
     "name": "stdout",
     "output_type": "stream",
     "text": [
      "[done]\n",
      "    Using multitaper spectrum estimation with 7 DPSS windows\n",
      "Computing cross-spectral density from epochs...\n",
      "Got 8 parallel jobs after requesting -1\n",
      "Using ProgressBar with tqdm.auto\n"
     ]
    },
    {
     "data": {
      "application/vnd.jupyter.widget-view+json": {
       "model_id": "001ffe9dfbf04b779e18bc81946dc0ba",
       "version_major": 2,
       "version_minor": 0
      },
      "text/plain": [
       "  0%|          | CSD epoch blocks : 0/1 [00:00<?,       ?it/s]"
      ]
     },
     "metadata": {},
     "output_type": "display_data"
    },
    {
     "name": "stderr",
     "output_type": "stream",
     "text": [
      "[Parallel(n_jobs=-1)]: Using backend LokyBackend with 8 concurrent workers.\n",
      "/Users/savochkin/miniconda3/envs/myenv/lib/python3.9/site-packages/joblib/parallel.py:589: RuntimeWarning: Iterative multi-taper PSD computation did not converge.\n",
      "  return [func(*args, **kwargs)\n"
     ]
    },
    {
     "name": "stdout",
     "output_type": "stream",
     "text": [
      "[done]\n",
      "104\n",
      "    Using multitaper spectrum estimation with 7 DPSS windows\n",
      "Computing cross-spectral density from epochs...\n",
      "Got 8 parallel jobs after requesting -1\n",
      "Using ProgressBar with tqdm.auto\n"
     ]
    },
    {
     "data": {
      "application/vnd.jupyter.widget-view+json": {
       "model_id": "5a7b9f14c1d845e988b4f717eb37836c",
       "version_major": 2,
       "version_minor": 0
      },
      "text/plain": [
       "  0%|          | CSD epoch blocks : 0/1 [00:00<?,       ?it/s]"
      ]
     },
     "metadata": {},
     "output_type": "display_data"
    },
    {
     "name": "stderr",
     "output_type": "stream",
     "text": [
      "[Parallel(n_jobs=-1)]: Using backend LokyBackend with 8 concurrent workers.\n"
     ]
    },
    {
     "name": "stdout",
     "output_type": "stream",
     "text": [
      "[done]\n",
      "    Using multitaper spectrum estimation with 7 DPSS windows\n",
      "Computing cross-spectral density from epochs...\n",
      "Got 8 parallel jobs after requesting -1\n",
      "Using ProgressBar with tqdm.auto\n"
     ]
    },
    {
     "data": {
      "application/vnd.jupyter.widget-view+json": {
       "model_id": "6237b137f8c443c98ff1540219f67416",
       "version_major": 2,
       "version_minor": 0
      },
      "text/plain": [
       "  0%|          | CSD epoch blocks : 0/1 [00:00<?,       ?it/s]"
      ]
     },
     "metadata": {},
     "output_type": "display_data"
    },
    {
     "name": "stdout",
     "output_type": "stream",
     "text": [
      "[done]\n",
      "105\n",
      "    Using multitaper spectrum estimation with 7 DPSS windows\n",
      "Computing cross-spectral density from epochs...\n",
      "Got 8 parallel jobs after requesting -1\n",
      "Using ProgressBar with tqdm.auto\n"
     ]
    },
    {
     "name": "stderr",
     "output_type": "stream",
     "text": [
      "[Parallel(n_jobs=-1)]: Using backend LokyBackend with 8 concurrent workers.\n",
      "/Users/savochkin/miniconda3/envs/myenv/lib/python3.9/site-packages/joblib/parallel.py:589: RuntimeWarning: Iterative multi-taper PSD computation did not converge.\n",
      "  return [func(*args, **kwargs)\n"
     ]
    },
    {
     "data": {
      "application/vnd.jupyter.widget-view+json": {
       "model_id": "f0e42d9dc880404c8bfafe99de9d4936",
       "version_major": 2,
       "version_minor": 0
      },
      "text/plain": [
       "  0%|          | CSD epoch blocks : 0/1 [00:00<?,       ?it/s]"
      ]
     },
     "metadata": {},
     "output_type": "display_data"
    },
    {
     "name": "stderr",
     "output_type": "stream",
     "text": [
      "[Parallel(n_jobs=-1)]: Using backend LokyBackend with 8 concurrent workers.\n"
     ]
    },
    {
     "name": "stdout",
     "output_type": "stream",
     "text": [
      "[done]\n",
      "    Using multitaper spectrum estimation with 7 DPSS windows\n",
      "Computing cross-spectral density from epochs...\n",
      "Got 8 parallel jobs after requesting -1\n",
      "Using ProgressBar with tqdm.auto\n"
     ]
    },
    {
     "data": {
      "application/vnd.jupyter.widget-view+json": {
       "model_id": "b707d73b316143d38b045a00cdf60c34",
       "version_major": 2,
       "version_minor": 0
      },
      "text/plain": [
       "  0%|          | CSD epoch blocks : 0/1 [00:00<?,       ?it/s]"
      ]
     },
     "metadata": {},
     "output_type": "display_data"
    },
    {
     "name": "stderr",
     "output_type": "stream",
     "text": [
      "[Parallel(n_jobs=-1)]: Using backend LokyBackend with 8 concurrent workers.\n",
      "/Users/savochkin/miniconda3/envs/myenv/lib/python3.9/site-packages/joblib/parallel.py:589: RuntimeWarning: Iterative multi-taper PSD computation did not converge.\n",
      "  return [func(*args, **kwargs)\n"
     ]
    },
    {
     "name": "stdout",
     "output_type": "stream",
     "text": [
      "[done]\n",
      "106\n",
      "    Using multitaper spectrum estimation with 7 DPSS windows\n",
      "Computing cross-spectral density from epochs...\n",
      "Got 8 parallel jobs after requesting -1\n",
      "Using ProgressBar with tqdm.auto\n"
     ]
    },
    {
     "data": {
      "application/vnd.jupyter.widget-view+json": {
       "model_id": "03cd1d2253904acd95452aab4a691bfb",
       "version_major": 2,
       "version_minor": 0
      },
      "text/plain": [
       "  0%|          | CSD epoch blocks : 0/1 [00:00<?,       ?it/s]"
      ]
     },
     "metadata": {},
     "output_type": "display_data"
    },
    {
     "name": "stderr",
     "output_type": "stream",
     "text": [
      "[Parallel(n_jobs=-1)]: Using backend LokyBackend with 8 concurrent workers.\n"
     ]
    },
    {
     "name": "stdout",
     "output_type": "stream",
     "text": [
      "[done]\n",
      "    Using multitaper spectrum estimation with 7 DPSS windows\n",
      "Computing cross-spectral density from epochs...\n",
      "Got 8 parallel jobs after requesting -1\n",
      "Using ProgressBar with tqdm.auto\n"
     ]
    },
    {
     "data": {
      "application/vnd.jupyter.widget-view+json": {
       "model_id": "864784ba773c4dc38479b9a4aa279b30",
       "version_major": 2,
       "version_minor": 0
      },
      "text/plain": [
       "  0%|          | CSD epoch blocks : 0/1 [00:00<?,       ?it/s]"
      ]
     },
     "metadata": {},
     "output_type": "display_data"
    },
    {
     "name": "stderr",
     "output_type": "stream",
     "text": [
      "[Parallel(n_jobs=-1)]: Using backend LokyBackend with 8 concurrent workers.\n"
     ]
    },
    {
     "name": "stdout",
     "output_type": "stream",
     "text": [
      "[done]\n",
      "107\n",
      "    Using multitaper spectrum estimation with 7 DPSS windows\n",
      "Computing cross-spectral density from epochs...\n",
      "Got 8 parallel jobs after requesting -1\n",
      "Using ProgressBar with tqdm.auto\n"
     ]
    },
    {
     "name": "stderr",
     "output_type": "stream",
     "text": [
      "/Users/savochkin/miniconda3/envs/myenv/lib/python3.9/site-packages/joblib/parallel.py:589: RuntimeWarning: Iterative multi-taper PSD computation did not converge.\n",
      "  return [func(*args, **kwargs)\n"
     ]
    },
    {
     "data": {
      "application/vnd.jupyter.widget-view+json": {
       "model_id": "03a3070b48be4f50b30de612e89d4ed1",
       "version_major": 2,
       "version_minor": 0
      },
      "text/plain": [
       "  0%|          | CSD epoch blocks : 0/1 [00:00<?,       ?it/s]"
      ]
     },
     "metadata": {},
     "output_type": "display_data"
    },
    {
     "name": "stderr",
     "output_type": "stream",
     "text": [
      "[Parallel(n_jobs=-1)]: Using backend LokyBackend with 8 concurrent workers.\n"
     ]
    },
    {
     "name": "stdout",
     "output_type": "stream",
     "text": [
      "[done]\n",
      "    Using multitaper spectrum estimation with 7 DPSS windows\n",
      "Computing cross-spectral density from epochs...\n",
      "Got 8 parallel jobs after requesting -1\n",
      "Using ProgressBar with tqdm.auto\n"
     ]
    },
    {
     "data": {
      "application/vnd.jupyter.widget-view+json": {
       "model_id": "feb48a8dfa44486898a1c11c3f279ebd",
       "version_major": 2,
       "version_minor": 0
      },
      "text/plain": [
       "  0%|          | CSD epoch blocks : 0/1 [00:00<?,       ?it/s]"
      ]
     },
     "metadata": {},
     "output_type": "display_data"
    },
    {
     "name": "stdout",
     "output_type": "stream",
     "text": [
      "[done]\n",
      "108\n",
      "    Using multitaper spectrum estimation with 7 DPSS windows\n",
      "Computing cross-spectral density from epochs...\n",
      "Got 8 parallel jobs after requesting -1\n",
      "Using ProgressBar with tqdm.auto\n"
     ]
    },
    {
     "name": "stderr",
     "output_type": "stream",
     "text": [
      "[Parallel(n_jobs=-1)]: Using backend LokyBackend with 8 concurrent workers.\n",
      "/Users/savochkin/miniconda3/envs/myenv/lib/python3.9/site-packages/joblib/parallel.py:589: RuntimeWarning: Iterative multi-taper PSD computation did not converge.\n",
      "  return [func(*args, **kwargs)\n"
     ]
    },
    {
     "data": {
      "application/vnd.jupyter.widget-view+json": {
       "model_id": "73a9be815b614403810cebfa8a8b9b4f",
       "version_major": 2,
       "version_minor": 0
      },
      "text/plain": [
       "  0%|          | CSD epoch blocks : 0/1 [00:00<?,       ?it/s]"
      ]
     },
     "metadata": {},
     "output_type": "display_data"
    },
    {
     "name": "stderr",
     "output_type": "stream",
     "text": [
      "[Parallel(n_jobs=-1)]: Using backend LokyBackend with 8 concurrent workers.\n"
     ]
    },
    {
     "name": "stdout",
     "output_type": "stream",
     "text": [
      "[done]\n",
      "    Using multitaper spectrum estimation with 7 DPSS windows\n",
      "Computing cross-spectral density from epochs...\n",
      "Got 8 parallel jobs after requesting -1\n",
      "Using ProgressBar with tqdm.auto\n"
     ]
    },
    {
     "data": {
      "application/vnd.jupyter.widget-view+json": {
       "model_id": "b06079e16951479793960beb8c68740e",
       "version_major": 2,
       "version_minor": 0
      },
      "text/plain": [
       "  0%|          | CSD epoch blocks : 0/1 [00:00<?,       ?it/s]"
      ]
     },
     "metadata": {},
     "output_type": "display_data"
    },
    {
     "name": "stderr",
     "output_type": "stream",
     "text": [
      "[Parallel(n_jobs=-1)]: Using backend LokyBackend with 8 concurrent workers.\n"
     ]
    },
    {
     "name": "stdout",
     "output_type": "stream",
     "text": [
      "[done]\n"
     ]
    },
    {
     "name": "stderr",
     "output_type": "stream",
     "text": [
      "/Users/savochkin/miniconda3/envs/myenv/lib/python3.9/site-packages/joblib/parallel.py:589: RuntimeWarning: Iterative multi-taper PSD computation did not converge.\n",
      "  return [func(*args, **kwargs)\n"
     ]
    },
    {
     "name": "stdout",
     "output_type": "stream",
     "text": [
      "109\n",
      "    Using multitaper spectrum estimation with 7 DPSS windows\n",
      "Computing cross-spectral density from epochs...\n",
      "Got 8 parallel jobs after requesting -1\n",
      "Using ProgressBar with tqdm.auto\n"
     ]
    },
    {
     "data": {
      "application/vnd.jupyter.widget-view+json": {
       "model_id": "68823758ebe04be3bca5a3fe0422c4f1",
       "version_major": 2,
       "version_minor": 0
      },
      "text/plain": [
       "  0%|          | CSD epoch blocks : 0/1 [00:00<?,       ?it/s]"
      ]
     },
     "metadata": {},
     "output_type": "display_data"
    },
    {
     "name": "stdout",
     "output_type": "stream",
     "text": [
      "[done]\n",
      "    Using multitaper spectrum estimation with 7 DPSS windows\n",
      "Computing cross-spectral density from epochs...\n"
     ]
    },
    {
     "name": "stderr",
     "output_type": "stream",
     "text": [
      "[Parallel(n_jobs=-1)]: Using backend LokyBackend with 8 concurrent workers.\n"
     ]
    },
    {
     "name": "stdout",
     "output_type": "stream",
     "text": [
      "Got 8 parallel jobs after requesting -1\n",
      "Using ProgressBar with tqdm.auto\n"
     ]
    },
    {
     "data": {
      "application/vnd.jupyter.widget-view+json": {
       "model_id": "3734422e69cd41e6b82580a0113edff0",
       "version_major": 2,
       "version_minor": 0
      },
      "text/plain": [
       "  0%|          | CSD epoch blocks : 0/1 [00:00<?,       ?it/s]"
      ]
     },
     "metadata": {},
     "output_type": "display_data"
    },
    {
     "name": "stdout",
     "output_type": "stream",
     "text": [
      "[done]\n"
     ]
    },
    {
     "name": "stderr",
     "output_type": "stream",
     "text": [
      "[Parallel(n_jobs=-1)]: Using backend LokyBackend with 8 concurrent workers.\n",
      "/Users/savochkin/miniconda3/envs/myenv/lib/python3.9/site-packages/joblib/parallel.py:589: RuntimeWarning: Iterative multi-taper PSD computation did not converge.\n",
      "  return [func(*args, **kwargs)\n"
     ]
    },
    {
     "name": "stdout",
     "output_type": "stream",
     "text": [
      "110\n",
      "    Using multitaper spectrum estimation with 7 DPSS windows\n",
      "Computing cross-spectral density from epochs...\n",
      "Got 8 parallel jobs after requesting -1\n",
      "Using ProgressBar with tqdm.auto\n"
     ]
    },
    {
     "data": {
      "application/vnd.jupyter.widget-view+json": {
       "model_id": "83f20c647ebd4d70b7e71d3708939729",
       "version_major": 2,
       "version_minor": 0
      },
      "text/plain": [
       "  0%|          | CSD epoch blocks : 0/1 [00:00<?,       ?it/s]"
      ]
     },
     "metadata": {},
     "output_type": "display_data"
    },
    {
     "name": "stdout",
     "output_type": "stream",
     "text": [
      "[done]\n",
      "    Using multitaper spectrum estimation with 7 DPSS windows\n",
      "Computing cross-spectral density from epochs...\n",
      "Got 8 parallel jobs after requesting -1\n",
      "Using ProgressBar with tqdm.auto\n"
     ]
    },
    {
     "name": "stderr",
     "output_type": "stream",
     "text": [
      "[Parallel(n_jobs=-1)]: Using backend LokyBackend with 8 concurrent workers.\n"
     ]
    },
    {
     "data": {
      "application/vnd.jupyter.widget-view+json": {
       "model_id": "fe26fab863b444269789fccff34f552f",
       "version_major": 2,
       "version_minor": 0
      },
      "text/plain": [
       "  0%|          | CSD epoch blocks : 0/1 [00:00<?,       ?it/s]"
      ]
     },
     "metadata": {},
     "output_type": "display_data"
    },
    {
     "name": "stderr",
     "output_type": "stream",
     "text": [
      "[Parallel(n_jobs=-1)]: Using backend LokyBackend with 8 concurrent workers.\n",
      "/Users/savochkin/miniconda3/envs/myenv/lib/python3.9/site-packages/joblib/parallel.py:589: RuntimeWarning: Iterative multi-taper PSD computation did not converge.\n",
      "  return [func(*args, **kwargs)\n"
     ]
    },
    {
     "name": "stdout",
     "output_type": "stream",
     "text": [
      "[done]\n",
      "111\n",
      "    Using multitaper spectrum estimation with 7 DPSS windows\n",
      "Computing cross-spectral density from epochs...\n",
      "Got 8 parallel jobs after requesting -1\n",
      "Using ProgressBar with tqdm.auto\n"
     ]
    },
    {
     "data": {
      "application/vnd.jupyter.widget-view+json": {
       "model_id": "cc0ebc2b55c449bf91bd8208ab435273",
       "version_major": 2,
       "version_minor": 0
      },
      "text/plain": [
       "  0%|          | CSD epoch blocks : 0/1 [00:00<?,       ?it/s]"
      ]
     },
     "metadata": {},
     "output_type": "display_data"
    },
    {
     "name": "stderr",
     "output_type": "stream",
     "text": [
      "[Parallel(n_jobs=-1)]: Using backend LokyBackend with 8 concurrent workers.\n"
     ]
    },
    {
     "name": "stdout",
     "output_type": "stream",
     "text": [
      "[done]\n",
      "    Using multitaper spectrum estimation with 7 DPSS windows\n",
      "Computing cross-spectral density from epochs...\n",
      "Got 8 parallel jobs after requesting -1\n",
      "Using ProgressBar with tqdm.auto\n"
     ]
    },
    {
     "data": {
      "application/vnd.jupyter.widget-view+json": {
       "model_id": "07d4fa0b2f934d989cee717a1a9b855f",
       "version_major": 2,
       "version_minor": 0
      },
      "text/plain": [
       "  0%|          | CSD epoch blocks : 0/1 [00:00<?,       ?it/s]"
      ]
     },
     "metadata": {},
     "output_type": "display_data"
    },
    {
     "name": "stdout",
     "output_type": "stream",
     "text": [
      "[done]\n"
     ]
    },
    {
     "name": "stderr",
     "output_type": "stream",
     "text": [
      "[Parallel(n_jobs=-1)]: Using backend LokyBackend with 8 concurrent workers.\n",
      "/Users/savochkin/miniconda3/envs/myenv/lib/python3.9/site-packages/joblib/parallel.py:589: RuntimeWarning: Iterative multi-taper PSD computation did not converge.\n",
      "  return [func(*args, **kwargs)\n"
     ]
    },
    {
     "name": "stdout",
     "output_type": "stream",
     "text": [
      "112\n",
      "    Using multitaper spectrum estimation with 7 DPSS windows\n",
      "Computing cross-spectral density from epochs...\n",
      "Got 8 parallel jobs after requesting -1\n",
      "Using ProgressBar with tqdm.auto\n"
     ]
    },
    {
     "data": {
      "application/vnd.jupyter.widget-view+json": {
       "model_id": "aaff6a2acc8e48ac932407cece9dfbd7",
       "version_major": 2,
       "version_minor": 0
      },
      "text/plain": [
       "  0%|          | CSD epoch blocks : 0/1 [00:00<?,       ?it/s]"
      ]
     },
     "metadata": {},
     "output_type": "display_data"
    },
    {
     "name": "stderr",
     "output_type": "stream",
     "text": [
      "[Parallel(n_jobs=-1)]: Using backend LokyBackend with 8 concurrent workers.\n"
     ]
    },
    {
     "name": "stdout",
     "output_type": "stream",
     "text": [
      "[done]\n",
      "    Using multitaper spectrum estimation with 7 DPSS windows\n",
      "Computing cross-spectral density from epochs...\n",
      "Got 8 parallel jobs after requesting -1\n",
      "Using ProgressBar with tqdm.auto\n"
     ]
    },
    {
     "data": {
      "application/vnd.jupyter.widget-view+json": {
       "model_id": "6f7c7eb5009e4d39afc2a10089013f5b",
       "version_major": 2,
       "version_minor": 0
      },
      "text/plain": [
       "  0%|          | CSD epoch blocks : 0/1 [00:00<?,       ?it/s]"
      ]
     },
     "metadata": {},
     "output_type": "display_data"
    },
    {
     "name": "stdout",
     "output_type": "stream",
     "text": [
      "[done]\n"
     ]
    },
    {
     "name": "stderr",
     "output_type": "stream",
     "text": [
      "[Parallel(n_jobs=-1)]: Using backend LokyBackend with 8 concurrent workers.\n",
      "/Users/savochkin/miniconda3/envs/myenv/lib/python3.9/site-packages/joblib/parallel.py:589: RuntimeWarning: Iterative multi-taper PSD computation did not converge.\n",
      "  return [func(*args, **kwargs)\n"
     ]
    },
    {
     "name": "stdout",
     "output_type": "stream",
     "text": [
      "113\n",
      "    Using multitaper spectrum estimation with 7 DPSS windows\n",
      "Computing cross-spectral density from epochs...\n",
      "Got 8 parallel jobs after requesting -1\n",
      "Using ProgressBar with tqdm.auto\n"
     ]
    },
    {
     "data": {
      "application/vnd.jupyter.widget-view+json": {
       "model_id": "240e732e4dff478084f60e0f92630ad1",
       "version_major": 2,
       "version_minor": 0
      },
      "text/plain": [
       "  0%|          | CSD epoch blocks : 0/1 [00:00<?,       ?it/s]"
      ]
     },
     "metadata": {},
     "output_type": "display_data"
    },
    {
     "name": "stderr",
     "output_type": "stream",
     "text": [
      "[Parallel(n_jobs=-1)]: Using backend LokyBackend with 8 concurrent workers.\n"
     ]
    },
    {
     "name": "stdout",
     "output_type": "stream",
     "text": [
      "[done]\n",
      "    Using multitaper spectrum estimation with 7 DPSS windows\n",
      "Computing cross-spectral density from epochs...\n",
      "Got 8 parallel jobs after requesting -1\n",
      "Using ProgressBar with tqdm.auto\n"
     ]
    },
    {
     "data": {
      "application/vnd.jupyter.widget-view+json": {
       "model_id": "f0a17c832d7049ae8da3d8c6cbf2f0fb",
       "version_major": 2,
       "version_minor": 0
      },
      "text/plain": [
       "  0%|          | CSD epoch blocks : 0/1 [00:00<?,       ?it/s]"
      ]
     },
     "metadata": {},
     "output_type": "display_data"
    },
    {
     "name": "stdout",
     "output_type": "stream",
     "text": [
      "[done]\n",
      "114\n",
      "    Using multitaper spectrum estimation with 7 DPSS windows\n",
      "Computing cross-spectral density from epochs...\n",
      "Got 8 parallel jobs after requesting -1\n",
      "Using ProgressBar with tqdm.auto\n"
     ]
    },
    {
     "name": "stderr",
     "output_type": "stream",
     "text": [
      "[Parallel(n_jobs=-1)]: Using backend LokyBackend with 8 concurrent workers.\n",
      "/Users/savochkin/miniconda3/envs/myenv/lib/python3.9/site-packages/joblib/parallel.py:589: RuntimeWarning: Iterative multi-taper PSD computation did not converge.\n",
      "  return [func(*args, **kwargs)\n"
     ]
    },
    {
     "data": {
      "application/vnd.jupyter.widget-view+json": {
       "model_id": "aef284530a2e46569f94687a827fa94a",
       "version_major": 2,
       "version_minor": 0
      },
      "text/plain": [
       "  0%|          | CSD epoch blocks : 0/1 [00:00<?,       ?it/s]"
      ]
     },
     "metadata": {},
     "output_type": "display_data"
    },
    {
     "name": "stderr",
     "output_type": "stream",
     "text": [
      "[Parallel(n_jobs=-1)]: Using backend LokyBackend with 8 concurrent workers.\n"
     ]
    },
    {
     "name": "stdout",
     "output_type": "stream",
     "text": [
      "[done]\n",
      "    Using multitaper spectrum estimation with 7 DPSS windows\n",
      "Computing cross-spectral density from epochs...\n",
      "Got 8 parallel jobs after requesting -1\n",
      "Using ProgressBar with tqdm.auto\n"
     ]
    },
    {
     "data": {
      "application/vnd.jupyter.widget-view+json": {
       "model_id": "5b3593636a0f4c4abf4e76cb6a816af4",
       "version_major": 2,
       "version_minor": 0
      },
      "text/plain": [
       "  0%|          | CSD epoch blocks : 0/1 [00:00<?,       ?it/s]"
      ]
     },
     "metadata": {},
     "output_type": "display_data"
    },
    {
     "name": "stdout",
     "output_type": "stream",
     "text": [
      "[done]\n",
      "115\n",
      "    Using multitaper spectrum estimation with 7 DPSS windows\n",
      "Computing cross-spectral density from epochs...\n"
     ]
    },
    {
     "name": "stderr",
     "output_type": "stream",
     "text": [
      "[Parallel(n_jobs=-1)]: Using backend LokyBackend with 8 concurrent workers.\n",
      "/Users/savochkin/miniconda3/envs/myenv/lib/python3.9/site-packages/joblib/parallel.py:589: RuntimeWarning: Iterative multi-taper PSD computation did not converge.\n",
      "  return [func(*args, **kwargs)\n"
     ]
    },
    {
     "name": "stdout",
     "output_type": "stream",
     "text": [
      "Got 8 parallel jobs after requesting -1\n",
      "Using ProgressBar with tqdm.auto\n"
     ]
    },
    {
     "data": {
      "application/vnd.jupyter.widget-view+json": {
       "model_id": "b623727c51e7465b95f5e5cf3959a483",
       "version_major": 2,
       "version_minor": 0
      },
      "text/plain": [
       "  0%|          | CSD epoch blocks : 0/1 [00:00<?,       ?it/s]"
      ]
     },
     "metadata": {},
     "output_type": "display_data"
    },
    {
     "name": "stderr",
     "output_type": "stream",
     "text": [
      "[Parallel(n_jobs=-1)]: Using backend LokyBackend with 8 concurrent workers.\n"
     ]
    },
    {
     "name": "stdout",
     "output_type": "stream",
     "text": [
      "[done]\n",
      "    Using multitaper spectrum estimation with 7 DPSS windows\n",
      "Computing cross-spectral density from epochs...\n",
      "Got 8 parallel jobs after requesting -1\n",
      "Using ProgressBar with tqdm.auto\n"
     ]
    },
    {
     "data": {
      "application/vnd.jupyter.widget-view+json": {
       "model_id": "ddbfa977463f4da79427d09bddaf34cd",
       "version_major": 2,
       "version_minor": 0
      },
      "text/plain": [
       "  0%|          | CSD epoch blocks : 0/1 [00:00<?,       ?it/s]"
      ]
     },
     "metadata": {},
     "output_type": "display_data"
    },
    {
     "name": "stderr",
     "output_type": "stream",
     "text": [
      "[Parallel(n_jobs=-1)]: Using backend LokyBackend with 8 concurrent workers.\n",
      "/Users/savochkin/miniconda3/envs/myenv/lib/python3.9/site-packages/joblib/parallel.py:589: RuntimeWarning: Iterative multi-taper PSD computation did not converge.\n",
      "  return [func(*args, **kwargs)\n"
     ]
    },
    {
     "name": "stdout",
     "output_type": "stream",
     "text": [
      "[done]\n",
      "116\n",
      "    Using multitaper spectrum estimation with 7 DPSS windows\n",
      "Computing cross-spectral density from epochs...\n",
      "Got 8 parallel jobs after requesting -1\n",
      "Using ProgressBar with tqdm.auto\n"
     ]
    },
    {
     "data": {
      "application/vnd.jupyter.widget-view+json": {
       "model_id": "68384160e4d04d16a8c445dd46faca7a",
       "version_major": 2,
       "version_minor": 0
      },
      "text/plain": [
       "  0%|          | CSD epoch blocks : 0/1 [00:00<?,       ?it/s]"
      ]
     },
     "metadata": {},
     "output_type": "display_data"
    },
    {
     "name": "stderr",
     "output_type": "stream",
     "text": [
      "[Parallel(n_jobs=-1)]: Using backend LokyBackend with 8 concurrent workers.\n"
     ]
    },
    {
     "name": "stdout",
     "output_type": "stream",
     "text": [
      "[done]\n",
      "    Using multitaper spectrum estimation with 7 DPSS windows\n",
      "Computing cross-spectral density from epochs...\n",
      "Got 8 parallel jobs after requesting -1\n",
      "Using ProgressBar with tqdm.auto\n"
     ]
    },
    {
     "data": {
      "application/vnd.jupyter.widget-view+json": {
       "model_id": "c991118190144c7dac99a7e4cb350497",
       "version_major": 2,
       "version_minor": 0
      },
      "text/plain": [
       "  0%|          | CSD epoch blocks : 0/1 [00:00<?,       ?it/s]"
      ]
     },
     "metadata": {},
     "output_type": "display_data"
    },
    {
     "name": "stdout",
     "output_type": "stream",
     "text": [
      "[done]\n"
     ]
    },
    {
     "name": "stderr",
     "output_type": "stream",
     "text": [
      "[Parallel(n_jobs=-1)]: Using backend LokyBackend with 8 concurrent workers.\n",
      "/Users/savochkin/miniconda3/envs/myenv/lib/python3.9/site-packages/joblib/parallel.py:589: RuntimeWarning: Iterative multi-taper PSD computation did not converge.\n",
      "  return [func(*args, **kwargs)\n"
     ]
    },
    {
     "name": "stdout",
     "output_type": "stream",
     "text": [
      "117\n",
      "    Using multitaper spectrum estimation with 7 DPSS windows\n",
      "Computing cross-spectral density from epochs...\n",
      "Got 8 parallel jobs after requesting -1\n",
      "Using ProgressBar with tqdm.auto\n"
     ]
    },
    {
     "data": {
      "application/vnd.jupyter.widget-view+json": {
       "model_id": "393c660884fc40efad490ee887d5c191",
       "version_major": 2,
       "version_minor": 0
      },
      "text/plain": [
       "  0%|          | CSD epoch blocks : 0/1 [00:00<?,       ?it/s]"
      ]
     },
     "metadata": {},
     "output_type": "display_data"
    },
    {
     "name": "stderr",
     "output_type": "stream",
     "text": [
      "[Parallel(n_jobs=-1)]: Using backend LokyBackend with 8 concurrent workers.\n"
     ]
    },
    {
     "name": "stdout",
     "output_type": "stream",
     "text": [
      "[done]\n",
      "    Using multitaper spectrum estimation with 7 DPSS windows\n",
      "Computing cross-spectral density from epochs...\n",
      "Got 8 parallel jobs after requesting -1\n",
      "Using ProgressBar with tqdm.auto\n"
     ]
    },
    {
     "data": {
      "application/vnd.jupyter.widget-view+json": {
       "model_id": "187676670ed447eb8c6f328ebe68d85d",
       "version_major": 2,
       "version_minor": 0
      },
      "text/plain": [
       "  0%|          | CSD epoch blocks : 0/1 [00:00<?,       ?it/s]"
      ]
     },
     "metadata": {},
     "output_type": "display_data"
    },
    {
     "name": "stderr",
     "output_type": "stream",
     "text": [
      "[Parallel(n_jobs=-1)]: Using backend LokyBackend with 8 concurrent workers.\n"
     ]
    },
    {
     "name": "stdout",
     "output_type": "stream",
     "text": [
      "[done]\n",
      "118\n",
      "    Using multitaper spectrum estimation with 7 DPSS windows\n",
      "Computing cross-spectral density from epochs...\n",
      "Got 8 parallel jobs after requesting -1\n",
      "Using ProgressBar with tqdm.auto\n"
     ]
    },
    {
     "name": "stderr",
     "output_type": "stream",
     "text": [
      "/Users/savochkin/miniconda3/envs/myenv/lib/python3.9/site-packages/joblib/parallel.py:589: RuntimeWarning: Iterative multi-taper PSD computation did not converge.\n",
      "  return [func(*args, **kwargs)\n"
     ]
    },
    {
     "data": {
      "application/vnd.jupyter.widget-view+json": {
       "model_id": "18ce09435fbf4ab6bfca9fcae9c8c5e8",
       "version_major": 2,
       "version_minor": 0
      },
      "text/plain": [
       "  0%|          | CSD epoch blocks : 0/1 [00:00<?,       ?it/s]"
      ]
     },
     "metadata": {},
     "output_type": "display_data"
    },
    {
     "name": "stderr",
     "output_type": "stream",
     "text": [
      "[Parallel(n_jobs=-1)]: Using backend LokyBackend with 8 concurrent workers.\n"
     ]
    },
    {
     "name": "stdout",
     "output_type": "stream",
     "text": [
      "[done]\n",
      "    Using multitaper spectrum estimation with 7 DPSS windows\n",
      "Computing cross-spectral density from epochs...\n",
      "Got 8 parallel jobs after requesting -1\n",
      "Using ProgressBar with tqdm.auto\n"
     ]
    },
    {
     "data": {
      "application/vnd.jupyter.widget-view+json": {
       "model_id": "4727d2f0ca4c42c59be93489e976bbd6",
       "version_major": 2,
       "version_minor": 0
      },
      "text/plain": [
       "  0%|          | CSD epoch blocks : 0/1 [00:00<?,       ?it/s]"
      ]
     },
     "metadata": {},
     "output_type": "display_data"
    },
    {
     "name": "stdout",
     "output_type": "stream",
     "text": [
      "[done]\n",
      "119\n",
      "    Using multitaper spectrum estimation with 7 DPSS windows\n",
      "Computing cross-spectral density from epochs...\n",
      "Got 8 parallel jobs after requesting -1\n",
      "Using ProgressBar with tqdm.auto\n"
     ]
    },
    {
     "name": "stderr",
     "output_type": "stream",
     "text": [
      "[Parallel(n_jobs=-1)]: Using backend LokyBackend with 8 concurrent workers.\n",
      "/Users/savochkin/miniconda3/envs/myenv/lib/python3.9/site-packages/joblib/parallel.py:589: RuntimeWarning: Iterative multi-taper PSD computation did not converge.\n",
      "  return [func(*args, **kwargs)\n"
     ]
    },
    {
     "data": {
      "application/vnd.jupyter.widget-view+json": {
       "model_id": "ce9f8892ef8144aeb9346d8c786dca2d",
       "version_major": 2,
       "version_minor": 0
      },
      "text/plain": [
       "  0%|          | CSD epoch blocks : 0/1 [00:00<?,       ?it/s]"
      ]
     },
     "metadata": {},
     "output_type": "display_data"
    },
    {
     "name": "stderr",
     "output_type": "stream",
     "text": [
      "[Parallel(n_jobs=-1)]: Using backend LokyBackend with 8 concurrent workers.\n"
     ]
    },
    {
     "name": "stdout",
     "output_type": "stream",
     "text": [
      "[done]\n",
      "    Using multitaper spectrum estimation with 7 DPSS windows\n",
      "Computing cross-spectral density from epochs...\n",
      "Got 8 parallel jobs after requesting -1\n",
      "Using ProgressBar with tqdm.auto\n"
     ]
    },
    {
     "data": {
      "application/vnd.jupyter.widget-view+json": {
       "model_id": "39629d5e241c462181c0dbafb9458942",
       "version_major": 2,
       "version_minor": 0
      },
      "text/plain": [
       "  0%|          | CSD epoch blocks : 0/1 [00:00<?,       ?it/s]"
      ]
     },
     "metadata": {},
     "output_type": "display_data"
    },
    {
     "name": "stderr",
     "output_type": "stream",
     "text": [
      "[Parallel(n_jobs=-1)]: Using backend LokyBackend with 8 concurrent workers.\n"
     ]
    },
    {
     "name": "stdout",
     "output_type": "stream",
     "text": [
      "[done]\n",
      "120\n",
      "    Using multitaper spectrum estimation with 7 DPSS windows\n",
      "Computing cross-spectral density from epochs...\n",
      "Got 8 parallel jobs after requesting -1\n",
      "Using ProgressBar with tqdm.auto\n"
     ]
    },
    {
     "name": "stderr",
     "output_type": "stream",
     "text": [
      "/Users/savochkin/miniconda3/envs/myenv/lib/python3.9/site-packages/joblib/parallel.py:589: RuntimeWarning: Iterative multi-taper PSD computation did not converge.\n",
      "  return [func(*args, **kwargs)\n"
     ]
    },
    {
     "data": {
      "application/vnd.jupyter.widget-view+json": {
       "model_id": "a37591eb17954bba8a7d7456481b5952",
       "version_major": 2,
       "version_minor": 0
      },
      "text/plain": [
       "  0%|          | CSD epoch blocks : 0/1 [00:00<?,       ?it/s]"
      ]
     },
     "metadata": {},
     "output_type": "display_data"
    },
    {
     "name": "stderr",
     "output_type": "stream",
     "text": [
      "[Parallel(n_jobs=-1)]: Using backend LokyBackend with 8 concurrent workers.\n"
     ]
    },
    {
     "name": "stdout",
     "output_type": "stream",
     "text": [
      "[done]\n",
      "    Using multitaper spectrum estimation with 7 DPSS windows\n",
      "Computing cross-spectral density from epochs...\n",
      "Got 8 parallel jobs after requesting -1\n",
      "Using ProgressBar with tqdm.auto\n"
     ]
    },
    {
     "data": {
      "application/vnd.jupyter.widget-view+json": {
       "model_id": "ae39a7c297ab472ab89129c211e5ee5a",
       "version_major": 2,
       "version_minor": 0
      },
      "text/plain": [
       "  0%|          | CSD epoch blocks : 0/1 [00:00<?,       ?it/s]"
      ]
     },
     "metadata": {},
     "output_type": "display_data"
    },
    {
     "name": "stdout",
     "output_type": "stream",
     "text": [
      "[done]\n",
      "121\n",
      "    Using multitaper spectrum estimation with 7 DPSS windows\n",
      "Computing cross-spectral density from epochs...\n"
     ]
    },
    {
     "name": "stderr",
     "output_type": "stream",
     "text": [
      "[Parallel(n_jobs=-1)]: Using backend LokyBackend with 8 concurrent workers.\n",
      "/Users/savochkin/miniconda3/envs/myenv/lib/python3.9/site-packages/joblib/parallel.py:589: RuntimeWarning: Iterative multi-taper PSD computation did not converge.\n",
      "  return [func(*args, **kwargs)\n"
     ]
    },
    {
     "name": "stdout",
     "output_type": "stream",
     "text": [
      "Got 8 parallel jobs after requesting -1\n",
      "Using ProgressBar with tqdm.auto\n"
     ]
    },
    {
     "data": {
      "application/vnd.jupyter.widget-view+json": {
       "model_id": "111b024c039248ae80954e6040b508e0",
       "version_major": 2,
       "version_minor": 0
      },
      "text/plain": [
       "  0%|          | CSD epoch blocks : 0/1 [00:00<?,       ?it/s]"
      ]
     },
     "metadata": {},
     "output_type": "display_data"
    },
    {
     "name": "stderr",
     "output_type": "stream",
     "text": [
      "[Parallel(n_jobs=-1)]: Using backend LokyBackend with 8 concurrent workers.\n"
     ]
    },
    {
     "name": "stdout",
     "output_type": "stream",
     "text": [
      "[done]\n",
      "    Using multitaper spectrum estimation with 7 DPSS windows\n",
      "Computing cross-spectral density from epochs...\n",
      "Got 8 parallel jobs after requesting -1\n",
      "Using ProgressBar with tqdm.auto\n"
     ]
    },
    {
     "data": {
      "application/vnd.jupyter.widget-view+json": {
       "model_id": "a77df22818ab472e824a78747ada36cd",
       "version_major": 2,
       "version_minor": 0
      },
      "text/plain": [
       "  0%|          | CSD epoch blocks : 0/1 [00:00<?,       ?it/s]"
      ]
     },
     "metadata": {},
     "output_type": "display_data"
    },
    {
     "name": "stdout",
     "output_type": "stream",
     "text": [
      "[done]\n",
      "122\n",
      "    Using multitaper spectrum estimation with 7 DPSS windows\n",
      "Computing cross-spectral density from epochs...\n",
      "Got 8 parallel jobs after requesting -1\n",
      "Using ProgressBar with tqdm.auto\n"
     ]
    },
    {
     "name": "stderr",
     "output_type": "stream",
     "text": [
      "[Parallel(n_jobs=-1)]: Using backend LokyBackend with 8 concurrent workers.\n",
      "/Users/savochkin/miniconda3/envs/myenv/lib/python3.9/site-packages/joblib/parallel.py:589: RuntimeWarning: Iterative multi-taper PSD computation did not converge.\n",
      "  return [func(*args, **kwargs)\n"
     ]
    },
    {
     "data": {
      "application/vnd.jupyter.widget-view+json": {
       "model_id": "1b1b2f3747574c5f8df98c24622d9e06",
       "version_major": 2,
       "version_minor": 0
      },
      "text/plain": [
       "  0%|          | CSD epoch blocks : 0/1 [00:00<?,       ?it/s]"
      ]
     },
     "metadata": {},
     "output_type": "display_data"
    },
    {
     "name": "stderr",
     "output_type": "stream",
     "text": [
      "[Parallel(n_jobs=-1)]: Using backend LokyBackend with 8 concurrent workers.\n"
     ]
    },
    {
     "name": "stdout",
     "output_type": "stream",
     "text": [
      "[done]\n",
      "    Using multitaper spectrum estimation with 7 DPSS windows\n",
      "Computing cross-spectral density from epochs...\n",
      "Got 8 parallel jobs after requesting -1\n",
      "Using ProgressBar with tqdm.auto\n"
     ]
    },
    {
     "data": {
      "application/vnd.jupyter.widget-view+json": {
       "model_id": "43d911de69774ea58cc57843021cc8dc",
       "version_major": 2,
       "version_minor": 0
      },
      "text/plain": [
       "  0%|          | CSD epoch blocks : 0/1 [00:00<?,       ?it/s]"
      ]
     },
     "metadata": {},
     "output_type": "display_data"
    },
    {
     "name": "stdout",
     "output_type": "stream",
     "text": [
      "[done]\n",
      "123\n",
      "    Using multitaper spectrum estimation with 7 DPSS windows\n",
      "Computing cross-spectral density from epochs...\n",
      "Got 8 parallel jobs after requesting -1\n",
      "Using ProgressBar with tqdm.auto\n"
     ]
    },
    {
     "name": "stderr",
     "output_type": "stream",
     "text": [
      "[Parallel(n_jobs=-1)]: Using backend LokyBackend with 8 concurrent workers.\n",
      "/Users/savochkin/miniconda3/envs/myenv/lib/python3.9/site-packages/joblib/parallel.py:589: RuntimeWarning: Iterative multi-taper PSD computation did not converge.\n",
      "  return [func(*args, **kwargs)\n"
     ]
    },
    {
     "data": {
      "application/vnd.jupyter.widget-view+json": {
       "model_id": "888e262f4fce48168f6cf39090ab54ed",
       "version_major": 2,
       "version_minor": 0
      },
      "text/plain": [
       "  0%|          | CSD epoch blocks : 0/1 [00:00<?,       ?it/s]"
      ]
     },
     "metadata": {},
     "output_type": "display_data"
    },
    {
     "name": "stderr",
     "output_type": "stream",
     "text": [
      "[Parallel(n_jobs=-1)]: Using backend LokyBackend with 8 concurrent workers.\n"
     ]
    },
    {
     "name": "stdout",
     "output_type": "stream",
     "text": [
      "[done]\n",
      "    Using multitaper spectrum estimation with 7 DPSS windows\n",
      "Computing cross-spectral density from epochs...\n",
      "Got 8 parallel jobs after requesting -1\n",
      "Using ProgressBar with tqdm.auto\n"
     ]
    },
    {
     "data": {
      "application/vnd.jupyter.widget-view+json": {
       "model_id": "b31a4d2900524fcda32e99bcddff3082",
       "version_major": 2,
       "version_minor": 0
      },
      "text/plain": [
       "  0%|          | CSD epoch blocks : 0/1 [00:00<?,       ?it/s]"
      ]
     },
     "metadata": {},
     "output_type": "display_data"
    },
    {
     "name": "stdout",
     "output_type": "stream",
     "text": [
      "[done]\n",
      "124\n",
      "    Using multitaper spectrum estimation with 7 DPSS windows\n",
      "Computing cross-spectral density from epochs...\n",
      "Got 8 parallel jobs after requesting -1\n",
      "Using ProgressBar with tqdm.auto\n"
     ]
    },
    {
     "name": "stderr",
     "output_type": "stream",
     "text": [
      "[Parallel(n_jobs=-1)]: Using backend LokyBackend with 8 concurrent workers.\n",
      "/Users/savochkin/miniconda3/envs/myenv/lib/python3.9/site-packages/joblib/parallel.py:589: RuntimeWarning: Iterative multi-taper PSD computation did not converge.\n",
      "  return [func(*args, **kwargs)\n"
     ]
    },
    {
     "data": {
      "application/vnd.jupyter.widget-view+json": {
       "model_id": "7d3e73c18fe24e4db9643dfe69ee0bef",
       "version_major": 2,
       "version_minor": 0
      },
      "text/plain": [
       "  0%|          | CSD epoch blocks : 0/1 [00:00<?,       ?it/s]"
      ]
     },
     "metadata": {},
     "output_type": "display_data"
    },
    {
     "name": "stderr",
     "output_type": "stream",
     "text": [
      "[Parallel(n_jobs=-1)]: Using backend LokyBackend with 8 concurrent workers.\n"
     ]
    },
    {
     "name": "stdout",
     "output_type": "stream",
     "text": [
      "[done]\n",
      "    Using multitaper spectrum estimation with 7 DPSS windows\n",
      "Computing cross-spectral density from epochs...\n",
      "Got 8 parallel jobs after requesting -1\n",
      "Using ProgressBar with tqdm.auto\n"
     ]
    },
    {
     "data": {
      "application/vnd.jupyter.widget-view+json": {
       "model_id": "fbb59c65c1654bfa8445426b50440f03",
       "version_major": 2,
       "version_minor": 0
      },
      "text/plain": [
       "  0%|          | CSD epoch blocks : 0/1 [00:00<?,       ?it/s]"
      ]
     },
     "metadata": {},
     "output_type": "display_data"
    },
    {
     "name": "stdout",
     "output_type": "stream",
     "text": [
      "[done]\n",
      "125\n",
      "    Using multitaper spectrum estimation with 7 DPSS windows\n",
      "Computing cross-spectral density from epochs...\n",
      "Got 8 parallel jobs after requesting -1\n",
      "Using ProgressBar with tqdm.auto\n"
     ]
    },
    {
     "name": "stderr",
     "output_type": "stream",
     "text": [
      "[Parallel(n_jobs=-1)]: Using backend LokyBackend with 8 concurrent workers.\n",
      "/Users/savochkin/miniconda3/envs/myenv/lib/python3.9/site-packages/joblib/parallel.py:589: RuntimeWarning: Iterative multi-taper PSD computation did not converge.\n",
      "  return [func(*args, **kwargs)\n"
     ]
    },
    {
     "data": {
      "application/vnd.jupyter.widget-view+json": {
       "model_id": "19db8e0e31d44fbb8e0f82e6f4bd75b4",
       "version_major": 2,
       "version_minor": 0
      },
      "text/plain": [
       "  0%|          | CSD epoch blocks : 0/1 [00:00<?,       ?it/s]"
      ]
     },
     "metadata": {},
     "output_type": "display_data"
    },
    {
     "name": "stderr",
     "output_type": "stream",
     "text": [
      "[Parallel(n_jobs=-1)]: Using backend LokyBackend with 8 concurrent workers.\n"
     ]
    },
    {
     "name": "stdout",
     "output_type": "stream",
     "text": [
      "[done]\n",
      "    Using multitaper spectrum estimation with 7 DPSS windows\n",
      "Computing cross-spectral density from epochs...\n",
      "Got 8 parallel jobs after requesting -1\n",
      "Using ProgressBar with tqdm.auto\n"
     ]
    },
    {
     "data": {
      "application/vnd.jupyter.widget-view+json": {
       "model_id": "ecd68257d9c449a98637e5accb75debf",
       "version_major": 2,
       "version_minor": 0
      },
      "text/plain": [
       "  0%|          | CSD epoch blocks : 0/1 [00:00<?,       ?it/s]"
      ]
     },
     "metadata": {},
     "output_type": "display_data"
    },
    {
     "name": "stderr",
     "output_type": "stream",
     "text": [
      "[Parallel(n_jobs=-1)]: Using backend LokyBackend with 8 concurrent workers.\n",
      "/Users/savochkin/miniconda3/envs/myenv/lib/python3.9/site-packages/joblib/parallel.py:589: RuntimeWarning: Iterative multi-taper PSD computation did not converge.\n",
      "  return [func(*args, **kwargs)\n"
     ]
    },
    {
     "name": "stdout",
     "output_type": "stream",
     "text": [
      "[done]\n",
      "126\n",
      "    Using multitaper spectrum estimation with 7 DPSS windows\n",
      "Computing cross-spectral density from epochs...\n",
      "Got 8 parallel jobs after requesting -1\n",
      "Using ProgressBar with tqdm.auto\n"
     ]
    },
    {
     "data": {
      "application/vnd.jupyter.widget-view+json": {
       "model_id": "88d483d1a1ec43c3a70c5b5887a0ccab",
       "version_major": 2,
       "version_minor": 0
      },
      "text/plain": [
       "  0%|          | CSD epoch blocks : 0/1 [00:00<?,       ?it/s]"
      ]
     },
     "metadata": {},
     "output_type": "display_data"
    },
    {
     "name": "stderr",
     "output_type": "stream",
     "text": [
      "[Parallel(n_jobs=-1)]: Using backend LokyBackend with 8 concurrent workers.\n"
     ]
    },
    {
     "name": "stdout",
     "output_type": "stream",
     "text": [
      "[done]\n",
      "    Using multitaper spectrum estimation with 7 DPSS windows\n",
      "Computing cross-spectral density from epochs...\n",
      "Got 8 parallel jobs after requesting -1\n",
      "Using ProgressBar with tqdm.auto\n"
     ]
    },
    {
     "data": {
      "application/vnd.jupyter.widget-view+json": {
       "model_id": "c74029839a9f4dfdb9a09d2c15ec4030",
       "version_major": 2,
       "version_minor": 0
      },
      "text/plain": [
       "  0%|          | CSD epoch blocks : 0/1 [00:00<?,       ?it/s]"
      ]
     },
     "metadata": {},
     "output_type": "display_data"
    },
    {
     "name": "stderr",
     "output_type": "stream",
     "text": [
      "[Parallel(n_jobs=-1)]: Using backend LokyBackend with 8 concurrent workers.\n",
      "/Users/savochkin/miniconda3/envs/myenv/lib/python3.9/site-packages/joblib/parallel.py:589: RuntimeWarning: Iterative multi-taper PSD computation did not converge.\n",
      "  return [func(*args, **kwargs)\n"
     ]
    },
    {
     "name": "stdout",
     "output_type": "stream",
     "text": [
      "[done]\n",
      "127\n",
      "    Using multitaper spectrum estimation with 7 DPSS windows\n",
      "Computing cross-spectral density from epochs...\n",
      "Got 8 parallel jobs after requesting -1\n",
      "Using ProgressBar with tqdm.auto\n"
     ]
    },
    {
     "data": {
      "application/vnd.jupyter.widget-view+json": {
       "model_id": "9ad31a683b6f457ea5208f20dabafd3d",
       "version_major": 2,
       "version_minor": 0
      },
      "text/plain": [
       "  0%|          | CSD epoch blocks : 0/1 [00:00<?,       ?it/s]"
      ]
     },
     "metadata": {},
     "output_type": "display_data"
    },
    {
     "name": "stderr",
     "output_type": "stream",
     "text": [
      "[Parallel(n_jobs=-1)]: Using backend LokyBackend with 8 concurrent workers.\n"
     ]
    },
    {
     "name": "stdout",
     "output_type": "stream",
     "text": [
      "[done]\n",
      "    Using multitaper spectrum estimation with 7 DPSS windows\n",
      "Computing cross-spectral density from epochs...\n",
      "Got 8 parallel jobs after requesting -1\n",
      "Using ProgressBar with tqdm.auto\n"
     ]
    },
    {
     "data": {
      "application/vnd.jupyter.widget-view+json": {
       "model_id": "1b2019adbf4b417b9cbf1f828d9d0073",
       "version_major": 2,
       "version_minor": 0
      },
      "text/plain": [
       "  0%|          | CSD epoch blocks : 0/1 [00:00<?,       ?it/s]"
      ]
     },
     "metadata": {},
     "output_type": "display_data"
    },
    {
     "name": "stderr",
     "output_type": "stream",
     "text": [
      "[Parallel(n_jobs=-1)]: Using backend LokyBackend with 8 concurrent workers.\n"
     ]
    },
    {
     "name": "stdout",
     "output_type": "stream",
     "text": [
      "[done]\n",
      "128\n",
      "    Using multitaper spectrum estimation with 7 DPSS windows\n",
      "Computing cross-spectral density from epochs...\n",
      "Got 8 parallel jobs after requesting -1\n",
      "Using ProgressBar with tqdm.auto\n"
     ]
    },
    {
     "name": "stderr",
     "output_type": "stream",
     "text": [
      "/Users/savochkin/miniconda3/envs/myenv/lib/python3.9/site-packages/joblib/parallel.py:589: RuntimeWarning: Iterative multi-taper PSD computation did not converge.\n",
      "  return [func(*args, **kwargs)\n"
     ]
    },
    {
     "data": {
      "application/vnd.jupyter.widget-view+json": {
       "model_id": "c804fb6768e54c78b6a0c56ea5359580",
       "version_major": 2,
       "version_minor": 0
      },
      "text/plain": [
       "  0%|          | CSD epoch blocks : 0/1 [00:00<?,       ?it/s]"
      ]
     },
     "metadata": {},
     "output_type": "display_data"
    },
    {
     "name": "stdout",
     "output_type": "stream",
     "text": [
      "[done]\n",
      "    Using multitaper spectrum estimation with 7 DPSS windows\n",
      "Computing cross-spectral density from epochs...\n",
      "Got 8 parallel jobs after requesting -1\n"
     ]
    },
    {
     "name": "stderr",
     "output_type": "stream",
     "text": [
      "[Parallel(n_jobs=-1)]: Using backend LokyBackend with 8 concurrent workers.\n"
     ]
    },
    {
     "name": "stdout",
     "output_type": "stream",
     "text": [
      "Using ProgressBar with tqdm.auto\n"
     ]
    },
    {
     "data": {
      "application/vnd.jupyter.widget-view+json": {
       "model_id": "2123066ee3eb4edba2e3c6033e5f108a",
       "version_major": 2,
       "version_minor": 0
      },
      "text/plain": [
       "  0%|          | CSD epoch blocks : 0/1 [00:00<?,       ?it/s]"
      ]
     },
     "metadata": {},
     "output_type": "display_data"
    },
    {
     "name": "stdout",
     "output_type": "stream",
     "text": [
      "[done]\n",
      "129\n",
      "    Using multitaper spectrum estimation with 7 DPSS windows\n",
      "Computing cross-spectral density from epochs...\n",
      "Got 8 parallel jobs after requesting -1\n",
      "Using ProgressBar with tqdm.auto\n"
     ]
    },
    {
     "name": "stderr",
     "output_type": "stream",
     "text": [
      "[Parallel(n_jobs=-1)]: Using backend LokyBackend with 8 concurrent workers.\n",
      "/Users/savochkin/miniconda3/envs/myenv/lib/python3.9/site-packages/joblib/parallel.py:589: RuntimeWarning: Iterative multi-taper PSD computation did not converge.\n",
      "  return [func(*args, **kwargs)\n"
     ]
    },
    {
     "data": {
      "application/vnd.jupyter.widget-view+json": {
       "model_id": "b0d1402ae8c04d158497d25b26eaf785",
       "version_major": 2,
       "version_minor": 0
      },
      "text/plain": [
       "  0%|          | CSD epoch blocks : 0/1 [00:00<?,       ?it/s]"
      ]
     },
     "metadata": {},
     "output_type": "display_data"
    },
    {
     "name": "stderr",
     "output_type": "stream",
     "text": [
      "[Parallel(n_jobs=-1)]: Using backend LokyBackend with 8 concurrent workers.\n"
     ]
    },
    {
     "name": "stdout",
     "output_type": "stream",
     "text": [
      "[done]\n",
      "    Using multitaper spectrum estimation with 7 DPSS windows\n",
      "Computing cross-spectral density from epochs...\n",
      "Got 8 parallel jobs after requesting -1\n",
      "Using ProgressBar with tqdm.auto\n"
     ]
    },
    {
     "data": {
      "application/vnd.jupyter.widget-view+json": {
       "model_id": "9afd387302ac437fa48d3f1733915586",
       "version_major": 2,
       "version_minor": 0
      },
      "text/plain": [
       "  0%|          | CSD epoch blocks : 0/1 [00:00<?,       ?it/s]"
      ]
     },
     "metadata": {},
     "output_type": "display_data"
    },
    {
     "name": "stderr",
     "output_type": "stream",
     "text": [
      "[Parallel(n_jobs=-1)]: Using backend LokyBackend with 8 concurrent workers.\n"
     ]
    },
    {
     "name": "stdout",
     "output_type": "stream",
     "text": [
      "[done]\n",
      "130\n",
      "    Using multitaper spectrum estimation with 7 DPSS windows\n",
      "Computing cross-spectral density from epochs...\n",
      "Got 8 parallel jobs after requesting -1\n",
      "Using ProgressBar with tqdm.auto\n"
     ]
    },
    {
     "name": "stderr",
     "output_type": "stream",
     "text": [
      "/Users/savochkin/miniconda3/envs/myenv/lib/python3.9/site-packages/joblib/parallel.py:589: RuntimeWarning: Iterative multi-taper PSD computation did not converge.\n",
      "  return [func(*args, **kwargs)\n"
     ]
    },
    {
     "data": {
      "application/vnd.jupyter.widget-view+json": {
       "model_id": "4809ad0f8ff048b8bb07b224d68cfe60",
       "version_major": 2,
       "version_minor": 0
      },
      "text/plain": [
       "  0%|          | CSD epoch blocks : 0/1 [00:00<?,       ?it/s]"
      ]
     },
     "metadata": {},
     "output_type": "display_data"
    },
    {
     "name": "stderr",
     "output_type": "stream",
     "text": [
      "[Parallel(n_jobs=-1)]: Using backend LokyBackend with 8 concurrent workers.\n"
     ]
    },
    {
     "name": "stdout",
     "output_type": "stream",
     "text": [
      "[done]\n",
      "    Using multitaper spectrum estimation with 7 DPSS windows\n",
      "Computing cross-spectral density from epochs...\n",
      "Got 8 parallel jobs after requesting -1\n",
      "Using ProgressBar with tqdm.auto\n"
     ]
    },
    {
     "data": {
      "application/vnd.jupyter.widget-view+json": {
       "model_id": "442d8297c1a64d328e20aa3694712cc3",
       "version_major": 2,
       "version_minor": 0
      },
      "text/plain": [
       "  0%|          | CSD epoch blocks : 0/1 [00:00<?,       ?it/s]"
      ]
     },
     "metadata": {},
     "output_type": "display_data"
    },
    {
     "name": "stderr",
     "output_type": "stream",
     "text": [
      "[Parallel(n_jobs=-1)]: Using backend LokyBackend with 8 concurrent workers.\n",
      "/Users/savochkin/miniconda3/envs/myenv/lib/python3.9/site-packages/joblib/parallel.py:589: RuntimeWarning: Iterative multi-taper PSD computation did not converge.\n",
      "  return [func(*args, **kwargs)\n"
     ]
    },
    {
     "name": "stdout",
     "output_type": "stream",
     "text": [
      "[done]\n",
      "131\n",
      "    Using multitaper spectrum estimation with 7 DPSS windows\n",
      "Computing cross-spectral density from epochs...\n",
      "Got 8 parallel jobs after requesting -1\n",
      "Using ProgressBar with tqdm.auto\n"
     ]
    },
    {
     "data": {
      "application/vnd.jupyter.widget-view+json": {
       "model_id": "b63e73df39c342d4bf2eb1f62edafba1",
       "version_major": 2,
       "version_minor": 0
      },
      "text/plain": [
       "  0%|          | CSD epoch blocks : 0/1 [00:00<?,       ?it/s]"
      ]
     },
     "metadata": {},
     "output_type": "display_data"
    },
    {
     "name": "stderr",
     "output_type": "stream",
     "text": [
      "[Parallel(n_jobs=-1)]: Using backend LokyBackend with 8 concurrent workers.\n"
     ]
    },
    {
     "name": "stdout",
     "output_type": "stream",
     "text": [
      "[done]\n",
      "    Using multitaper spectrum estimation with 7 DPSS windows\n",
      "Computing cross-spectral density from epochs...\n",
      "Got 8 parallel jobs after requesting -1\n",
      "Using ProgressBar with tqdm.auto\n"
     ]
    },
    {
     "data": {
      "application/vnd.jupyter.widget-view+json": {
       "model_id": "ba63dee90d424dfbaf533b39c20b07e0",
       "version_major": 2,
       "version_minor": 0
      },
      "text/plain": [
       "  0%|          | CSD epoch blocks : 0/1 [00:00<?,       ?it/s]"
      ]
     },
     "metadata": {},
     "output_type": "display_data"
    },
    {
     "name": "stderr",
     "output_type": "stream",
     "text": [
      "[Parallel(n_jobs=-1)]: Using backend LokyBackend with 8 concurrent workers.\n",
      "/Users/savochkin/miniconda3/envs/myenv/lib/python3.9/site-packages/joblib/parallel.py:589: RuntimeWarning: Iterative multi-taper PSD computation did not converge.\n",
      "  return [func(*args, **kwargs)\n"
     ]
    },
    {
     "name": "stdout",
     "output_type": "stream",
     "text": [
      "[done]\n",
      "132\n",
      "    Using multitaper spectrum estimation with 7 DPSS windows\n",
      "Computing cross-spectral density from epochs...\n",
      "Got 8 parallel jobs after requesting -1\n",
      "Using ProgressBar with tqdm.auto\n"
     ]
    },
    {
     "data": {
      "application/vnd.jupyter.widget-view+json": {
       "model_id": "ca707d9f72e743c992405f1ad61480e1",
       "version_major": 2,
       "version_minor": 0
      },
      "text/plain": [
       "  0%|          | CSD epoch blocks : 0/1 [00:00<?,       ?it/s]"
      ]
     },
     "metadata": {},
     "output_type": "display_data"
    },
    {
     "name": "stderr",
     "output_type": "stream",
     "text": [
      "[Parallel(n_jobs=-1)]: Using backend LokyBackend with 8 concurrent workers.\n"
     ]
    },
    {
     "name": "stdout",
     "output_type": "stream",
     "text": [
      "[done]\n",
      "    Using multitaper spectrum estimation with 7 DPSS windows\n",
      "Computing cross-spectral density from epochs...\n",
      "Got 8 parallel jobs after requesting -1\n",
      "Using ProgressBar with tqdm.auto\n"
     ]
    },
    {
     "data": {
      "application/vnd.jupyter.widget-view+json": {
       "model_id": "d3d880bbbef14b20a3db42a5c19aa540",
       "version_major": 2,
       "version_minor": 0
      },
      "text/plain": [
       "  0%|          | CSD epoch blocks : 0/1 [00:00<?,       ?it/s]"
      ]
     },
     "metadata": {},
     "output_type": "display_data"
    },
    {
     "name": "stderr",
     "output_type": "stream",
     "text": [
      "[Parallel(n_jobs=-1)]: Using backend LokyBackend with 8 concurrent workers.\n",
      "/Users/savochkin/miniconda3/envs/myenv/lib/python3.9/site-packages/joblib/parallel.py:589: RuntimeWarning: Iterative multi-taper PSD computation did not converge.\n",
      "  return [func(*args, **kwargs)\n"
     ]
    },
    {
     "name": "stdout",
     "output_type": "stream",
     "text": [
      "[done]\n",
      "133\n",
      "    Using multitaper spectrum estimation with 7 DPSS windows\n",
      "Computing cross-spectral density from epochs...\n",
      "Got 8 parallel jobs after requesting -1\n",
      "Using ProgressBar with tqdm.auto\n"
     ]
    },
    {
     "data": {
      "application/vnd.jupyter.widget-view+json": {
       "model_id": "00462c4d436446a4bd0ea3cff4d18b0e",
       "version_major": 2,
       "version_minor": 0
      },
      "text/plain": [
       "  0%|          | CSD epoch blocks : 0/1 [00:00<?,       ?it/s]"
      ]
     },
     "metadata": {},
     "output_type": "display_data"
    },
    {
     "name": "stderr",
     "output_type": "stream",
     "text": [
      "[Parallel(n_jobs=-1)]: Using backend LokyBackend with 8 concurrent workers.\n"
     ]
    },
    {
     "name": "stdout",
     "output_type": "stream",
     "text": [
      "[done]\n",
      "    Using multitaper spectrum estimation with 7 DPSS windows\n",
      "Computing cross-spectral density from epochs...\n",
      "Got 8 parallel jobs after requesting -1\n",
      "Using ProgressBar with tqdm.auto\n"
     ]
    },
    {
     "data": {
      "application/vnd.jupyter.widget-view+json": {
       "model_id": "d345532c0ee74c9db4adcbf3f583d127",
       "version_major": 2,
       "version_minor": 0
      },
      "text/plain": [
       "  0%|          | CSD epoch blocks : 0/1 [00:00<?,       ?it/s]"
      ]
     },
     "metadata": {},
     "output_type": "display_data"
    },
    {
     "name": "stdout",
     "output_type": "stream",
     "text": [
      "[done]\n"
     ]
    },
    {
     "name": "stderr",
     "output_type": "stream",
     "text": [
      "[Parallel(n_jobs=-1)]: Using backend LokyBackend with 8 concurrent workers.\n",
      "/Users/savochkin/miniconda3/envs/myenv/lib/python3.9/site-packages/joblib/parallel.py:589: RuntimeWarning: Iterative multi-taper PSD computation did not converge.\n",
      "  return [func(*args, **kwargs)\n"
     ]
    },
    {
     "name": "stdout",
     "output_type": "stream",
     "text": [
      "134\n",
      "    Using multitaper spectrum estimation with 7 DPSS windows\n",
      "Computing cross-spectral density from epochs...\n",
      "Got 8 parallel jobs after requesting -1\n",
      "Using ProgressBar with tqdm.auto\n"
     ]
    },
    {
     "data": {
      "application/vnd.jupyter.widget-view+json": {
       "model_id": "7cadc901a7a14ab1a2706aa27111ec62",
       "version_major": 2,
       "version_minor": 0
      },
      "text/plain": [
       "  0%|          | CSD epoch blocks : 0/1 [00:00<?,       ?it/s]"
      ]
     },
     "metadata": {},
     "output_type": "display_data"
    },
    {
     "name": "stderr",
     "output_type": "stream",
     "text": [
      "[Parallel(n_jobs=-1)]: Using backend LokyBackend with 8 concurrent workers.\n"
     ]
    },
    {
     "name": "stdout",
     "output_type": "stream",
     "text": [
      "[done]\n",
      "    Using multitaper spectrum estimation with 7 DPSS windows\n",
      "Computing cross-spectral density from epochs...\n",
      "Got 8 parallel jobs after requesting -1\n",
      "Using ProgressBar with tqdm.auto\n"
     ]
    },
    {
     "data": {
      "application/vnd.jupyter.widget-view+json": {
       "model_id": "3d30d6d085d0437e9619b0af5e577dbf",
       "version_major": 2,
       "version_minor": 0
      },
      "text/plain": [
       "  0%|          | CSD epoch blocks : 0/1 [00:00<?,       ?it/s]"
      ]
     },
     "metadata": {},
     "output_type": "display_data"
    },
    {
     "name": "stderr",
     "output_type": "stream",
     "text": [
      "[Parallel(n_jobs=-1)]: Using backend LokyBackend with 8 concurrent workers.\n",
      "/Users/savochkin/miniconda3/envs/myenv/lib/python3.9/site-packages/joblib/parallel.py:589: RuntimeWarning: Iterative multi-taper PSD computation did not converge.\n",
      "  return [func(*args, **kwargs)\n"
     ]
    },
    {
     "name": "stdout",
     "output_type": "stream",
     "text": [
      "[done]\n",
      "135\n",
      "    Using multitaper spectrum estimation with 7 DPSS windows\n",
      "Computing cross-spectral density from epochs...\n",
      "Got 8 parallel jobs after requesting -1\n",
      "Using ProgressBar with tqdm.auto\n"
     ]
    },
    {
     "data": {
      "application/vnd.jupyter.widget-view+json": {
       "model_id": "6c66c174139141ee88527ab26e988d7d",
       "version_major": 2,
       "version_minor": 0
      },
      "text/plain": [
       "  0%|          | CSD epoch blocks : 0/1 [00:00<?,       ?it/s]"
      ]
     },
     "metadata": {},
     "output_type": "display_data"
    },
    {
     "name": "stderr",
     "output_type": "stream",
     "text": [
      "[Parallel(n_jobs=-1)]: Using backend LokyBackend with 8 concurrent workers.\n"
     ]
    },
    {
     "name": "stdout",
     "output_type": "stream",
     "text": [
      "[done]\n",
      "    Using multitaper spectrum estimation with 7 DPSS windows\n",
      "Computing cross-spectral density from epochs...\n",
      "Got 8 parallel jobs after requesting -1\n",
      "Using ProgressBar with tqdm.auto\n"
     ]
    },
    {
     "data": {
      "application/vnd.jupyter.widget-view+json": {
       "model_id": "c15d790b91784660afd90257e2ecb3d8",
       "version_major": 2,
       "version_minor": 0
      },
      "text/plain": [
       "  0%|          | CSD epoch blocks : 0/1 [00:00<?,       ?it/s]"
      ]
     },
     "metadata": {},
     "output_type": "display_data"
    },
    {
     "name": "stderr",
     "output_type": "stream",
     "text": [
      "[Parallel(n_jobs=-1)]: Using backend LokyBackend with 8 concurrent workers.\n"
     ]
    },
    {
     "name": "stdout",
     "output_type": "stream",
     "text": [
      "[done]\n",
      "136\n",
      "    Using multitaper spectrum estimation with 7 DPSS windows\n",
      "Computing cross-spectral density from epochs...\n",
      "Got 8 parallel jobs after requesting -1\n",
      "Using ProgressBar with tqdm.auto\n"
     ]
    },
    {
     "name": "stderr",
     "output_type": "stream",
     "text": [
      "/Users/savochkin/miniconda3/envs/myenv/lib/python3.9/site-packages/joblib/parallel.py:589: RuntimeWarning: Iterative multi-taper PSD computation did not converge.\n",
      "  return [func(*args, **kwargs)\n"
     ]
    },
    {
     "data": {
      "application/vnd.jupyter.widget-view+json": {
       "model_id": "8f36bfd66a664fb2911ec548a836be7d",
       "version_major": 2,
       "version_minor": 0
      },
      "text/plain": [
       "  0%|          | CSD epoch blocks : 0/1 [00:00<?,       ?it/s]"
      ]
     },
     "metadata": {},
     "output_type": "display_data"
    },
    {
     "name": "stderr",
     "output_type": "stream",
     "text": [
      "[Parallel(n_jobs=-1)]: Using backend LokyBackend with 8 concurrent workers.\n"
     ]
    },
    {
     "name": "stdout",
     "output_type": "stream",
     "text": [
      "[done]\n",
      "    Using multitaper spectrum estimation with 7 DPSS windows\n",
      "Computing cross-spectral density from epochs...\n",
      "Got 8 parallel jobs after requesting -1\n",
      "Using ProgressBar with tqdm.auto\n"
     ]
    },
    {
     "data": {
      "application/vnd.jupyter.widget-view+json": {
       "model_id": "24d6414821de4a799deb57c727dacb4e",
       "version_major": 2,
       "version_minor": 0
      },
      "text/plain": [
       "  0%|          | CSD epoch blocks : 0/1 [00:00<?,       ?it/s]"
      ]
     },
     "metadata": {},
     "output_type": "display_data"
    },
    {
     "name": "stdout",
     "output_type": "stream",
     "text": [
      "[done]\n",
      "137\n",
      "    Using multitaper spectrum estimation with 7 DPSS windows\n",
      "Computing cross-spectral density from epochs...\n",
      "Got 8 parallel jobs after requesting -1\n",
      "Using ProgressBar with tqdm.auto\n"
     ]
    },
    {
     "name": "stderr",
     "output_type": "stream",
     "text": [
      "[Parallel(n_jobs=-1)]: Using backend LokyBackend with 8 concurrent workers.\n",
      "/Users/savochkin/miniconda3/envs/myenv/lib/python3.9/site-packages/joblib/parallel.py:589: RuntimeWarning: Iterative multi-taper PSD computation did not converge.\n",
      "  return [func(*args, **kwargs)\n"
     ]
    },
    {
     "data": {
      "application/vnd.jupyter.widget-view+json": {
       "model_id": "5427780f8c534095955e74a9cab16339",
       "version_major": 2,
       "version_minor": 0
      },
      "text/plain": [
       "  0%|          | CSD epoch blocks : 0/1 [00:00<?,       ?it/s]"
      ]
     },
     "metadata": {},
     "output_type": "display_data"
    },
    {
     "name": "stderr",
     "output_type": "stream",
     "text": [
      "[Parallel(n_jobs=-1)]: Using backend LokyBackend with 8 concurrent workers.\n"
     ]
    },
    {
     "name": "stdout",
     "output_type": "stream",
     "text": [
      "[done]\n",
      "    Using multitaper spectrum estimation with 7 DPSS windows\n",
      "Computing cross-spectral density from epochs...\n",
      "Got 8 parallel jobs after requesting -1\n",
      "Using ProgressBar with tqdm.auto\n"
     ]
    },
    {
     "data": {
      "application/vnd.jupyter.widget-view+json": {
       "model_id": "8ac785c5148b4f7d9c7a43acd8d6061e",
       "version_major": 2,
       "version_minor": 0
      },
      "text/plain": [
       "  0%|          | CSD epoch blocks : 0/1 [00:00<?,       ?it/s]"
      ]
     },
     "metadata": {},
     "output_type": "display_data"
    },
    {
     "name": "stdout",
     "output_type": "stream",
     "text": [
      "[done]\n",
      "138\n",
      "    Using multitaper spectrum estimation with 7 DPSS windows\n",
      "Computing cross-spectral density from epochs...\n",
      "Got 8 parallel jobs after requesting -1\n",
      "Using ProgressBar with tqdm.auto\n"
     ]
    },
    {
     "name": "stderr",
     "output_type": "stream",
     "text": [
      "[Parallel(n_jobs=-1)]: Using backend LokyBackend with 8 concurrent workers.\n",
      "/Users/savochkin/miniconda3/envs/myenv/lib/python3.9/site-packages/joblib/parallel.py:589: RuntimeWarning: Iterative multi-taper PSD computation did not converge.\n",
      "  return [func(*args, **kwargs)\n"
     ]
    },
    {
     "data": {
      "application/vnd.jupyter.widget-view+json": {
       "model_id": "908b47d6e1084b6bbdd77245551bed31",
       "version_major": 2,
       "version_minor": 0
      },
      "text/plain": [
       "  0%|          | CSD epoch blocks : 0/1 [00:00<?,       ?it/s]"
      ]
     },
     "metadata": {},
     "output_type": "display_data"
    },
    {
     "name": "stdout",
     "output_type": "stream",
     "text": [
      "[done]\n",
      "    Using multitaper spectrum estimation with 7 DPSS windows\n",
      "Computing cross-spectral density from epochs...\n",
      "Got 8 parallel jobs after requesting -1\n",
      "Using ProgressBar with tqdm.auto\n"
     ]
    },
    {
     "name": "stderr",
     "output_type": "stream",
     "text": [
      "[Parallel(n_jobs=-1)]: Using backend LokyBackend with 8 concurrent workers.\n"
     ]
    },
    {
     "data": {
      "application/vnd.jupyter.widget-view+json": {
       "model_id": "9f84546c6a3f48c3a185e78bd6ac931b",
       "version_major": 2,
       "version_minor": 0
      },
      "text/plain": [
       "  0%|          | CSD epoch blocks : 0/1 [00:00<?,       ?it/s]"
      ]
     },
     "metadata": {},
     "output_type": "display_data"
    },
    {
     "name": "stderr",
     "output_type": "stream",
     "text": [
      "[Parallel(n_jobs=-1)]: Using backend LokyBackend with 8 concurrent workers.\n"
     ]
    },
    {
     "name": "stdout",
     "output_type": "stream",
     "text": [
      "[done]\n",
      "139\n",
      "    Using multitaper spectrum estimation with 7 DPSS windows\n",
      "Computing cross-spectral density from epochs...\n",
      "Got 8 parallel jobs after requesting -1\n",
      "Using ProgressBar with tqdm.auto\n"
     ]
    },
    {
     "name": "stderr",
     "output_type": "stream",
     "text": [
      "/Users/savochkin/miniconda3/envs/myenv/lib/python3.9/site-packages/joblib/parallel.py:589: RuntimeWarning: Iterative multi-taper PSD computation did not converge.\n",
      "  return [func(*args, **kwargs)\n"
     ]
    },
    {
     "data": {
      "application/vnd.jupyter.widget-view+json": {
       "model_id": "47a99d0386464ff790dba2a24db87691",
       "version_major": 2,
       "version_minor": 0
      },
      "text/plain": [
       "  0%|          | CSD epoch blocks : 0/1 [00:00<?,       ?it/s]"
      ]
     },
     "metadata": {},
     "output_type": "display_data"
    },
    {
     "name": "stderr",
     "output_type": "stream",
     "text": [
      "[Parallel(n_jobs=-1)]: Using backend LokyBackend with 8 concurrent workers.\n"
     ]
    },
    {
     "name": "stdout",
     "output_type": "stream",
     "text": [
      "[done]\n",
      "    Using multitaper spectrum estimation with 7 DPSS windows\n",
      "Computing cross-spectral density from epochs...\n",
      "Got 8 parallel jobs after requesting -1\n",
      "Using ProgressBar with tqdm.auto\n"
     ]
    },
    {
     "data": {
      "application/vnd.jupyter.widget-view+json": {
       "model_id": "7adba4c2a852452884a69c6191a01367",
       "version_major": 2,
       "version_minor": 0
      },
      "text/plain": [
       "  0%|          | CSD epoch blocks : 0/1 [00:00<?,       ?it/s]"
      ]
     },
     "metadata": {},
     "output_type": "display_data"
    },
    {
     "name": "stderr",
     "output_type": "stream",
     "text": [
      "[Parallel(n_jobs=-1)]: Using backend LokyBackend with 8 concurrent workers.\n",
      "/Users/savochkin/miniconda3/envs/myenv/lib/python3.9/site-packages/joblib/parallel.py:589: RuntimeWarning: Iterative multi-taper PSD computation did not converge.\n",
      "  return [func(*args, **kwargs)\n"
     ]
    },
    {
     "name": "stdout",
     "output_type": "stream",
     "text": [
      "[done]\n",
      "140\n",
      "    Using multitaper spectrum estimation with 7 DPSS windows\n",
      "Computing cross-spectral density from epochs...\n",
      "Got 8 parallel jobs after requesting -1\n",
      "Using ProgressBar with tqdm.auto\n"
     ]
    },
    {
     "data": {
      "application/vnd.jupyter.widget-view+json": {
       "model_id": "cbb6cbd57fa044ef89980befd4694e4c",
       "version_major": 2,
       "version_minor": 0
      },
      "text/plain": [
       "  0%|          | CSD epoch blocks : 0/1 [00:00<?,       ?it/s]"
      ]
     },
     "metadata": {},
     "output_type": "display_data"
    },
    {
     "name": "stderr",
     "output_type": "stream",
     "text": [
      "[Parallel(n_jobs=-1)]: Using backend LokyBackend with 8 concurrent workers.\n"
     ]
    },
    {
     "name": "stdout",
     "output_type": "stream",
     "text": [
      "[done]\n",
      "    Using multitaper spectrum estimation with 7 DPSS windows\n",
      "Computing cross-spectral density from epochs...\n",
      "Got 8 parallel jobs after requesting -1\n",
      "Using ProgressBar with tqdm.auto\n"
     ]
    },
    {
     "data": {
      "application/vnd.jupyter.widget-view+json": {
       "model_id": "f261eba709204e918593b1f1003cadca",
       "version_major": 2,
       "version_minor": 0
      },
      "text/plain": [
       "  0%|          | CSD epoch blocks : 0/1 [00:00<?,       ?it/s]"
      ]
     },
     "metadata": {},
     "output_type": "display_data"
    },
    {
     "name": "stderr",
     "output_type": "stream",
     "text": [
      "[Parallel(n_jobs=-1)]: Using backend LokyBackend with 8 concurrent workers.\n"
     ]
    },
    {
     "name": "stdout",
     "output_type": "stream",
     "text": [
      "[done]\n"
     ]
    },
    {
     "name": "stderr",
     "output_type": "stream",
     "text": [
      "/Users/savochkin/miniconda3/envs/myenv/lib/python3.9/site-packages/joblib/parallel.py:589: RuntimeWarning: Iterative multi-taper PSD computation did not converge.\n",
      "  return [func(*args, **kwargs)\n"
     ]
    },
    {
     "name": "stdout",
     "output_type": "stream",
     "text": [
      "141\n",
      "    Using multitaper spectrum estimation with 7 DPSS windows\n",
      "Computing cross-spectral density from epochs...\n",
      "Got 8 parallel jobs after requesting -1\n",
      "Using ProgressBar with tqdm.auto\n"
     ]
    },
    {
     "data": {
      "application/vnd.jupyter.widget-view+json": {
       "model_id": "8bc4960900f940169c3e9058edaf60f3",
       "version_major": 2,
       "version_minor": 0
      },
      "text/plain": [
       "  0%|          | CSD epoch blocks : 0/1 [00:00<?,       ?it/s]"
      ]
     },
     "metadata": {},
     "output_type": "display_data"
    },
    {
     "name": "stderr",
     "output_type": "stream",
     "text": [
      "[Parallel(n_jobs=-1)]: Using backend LokyBackend with 8 concurrent workers.\n"
     ]
    },
    {
     "name": "stdout",
     "output_type": "stream",
     "text": [
      "[done]\n",
      "    Using multitaper spectrum estimation with 7 DPSS windows\n",
      "Computing cross-spectral density from epochs...\n",
      "Got 8 parallel jobs after requesting -1\n",
      "Using ProgressBar with tqdm.auto\n"
     ]
    },
    {
     "data": {
      "application/vnd.jupyter.widget-view+json": {
       "model_id": "a22f245db58b4a4ea029ed436bde1cf0",
       "version_major": 2,
       "version_minor": 0
      },
      "text/plain": [
       "  0%|          | CSD epoch blocks : 0/1 [00:00<?,       ?it/s]"
      ]
     },
     "metadata": {},
     "output_type": "display_data"
    },
    {
     "name": "stdout",
     "output_type": "stream",
     "text": [
      "[done]\n",
      "142\n",
      "    Using multitaper spectrum estimation with 7 DPSS windows\n",
      "Computing cross-spectral density from epochs...\n",
      "Got 8 parallel jobs after requesting -1\n",
      "Using ProgressBar with tqdm.auto\n"
     ]
    },
    {
     "name": "stderr",
     "output_type": "stream",
     "text": [
      "[Parallel(n_jobs=-1)]: Using backend LokyBackend with 8 concurrent workers.\n",
      "/Users/savochkin/miniconda3/envs/myenv/lib/python3.9/site-packages/joblib/parallel.py:589: RuntimeWarning: Iterative multi-taper PSD computation did not converge.\n",
      "  return [func(*args, **kwargs)\n"
     ]
    },
    {
     "data": {
      "application/vnd.jupyter.widget-view+json": {
       "model_id": "82428ee04e9d444ab5028c2d7d472d67",
       "version_major": 2,
       "version_minor": 0
      },
      "text/plain": [
       "  0%|          | CSD epoch blocks : 0/1 [00:00<?,       ?it/s]"
      ]
     },
     "metadata": {},
     "output_type": "display_data"
    },
    {
     "name": "stderr",
     "output_type": "stream",
     "text": [
      "[Parallel(n_jobs=-1)]: Using backend LokyBackend with 8 concurrent workers.\n"
     ]
    },
    {
     "name": "stdout",
     "output_type": "stream",
     "text": [
      "[done]\n",
      "    Using multitaper spectrum estimation with 7 DPSS windows\n",
      "Computing cross-spectral density from epochs...\n",
      "Got 8 parallel jobs after requesting -1\n",
      "Using ProgressBar with tqdm.auto\n"
     ]
    },
    {
     "data": {
      "application/vnd.jupyter.widget-view+json": {
       "model_id": "dc78b40072b34127ad7cc048a39ded63",
       "version_major": 2,
       "version_minor": 0
      },
      "text/plain": [
       "  0%|          | CSD epoch blocks : 0/1 [00:00<?,       ?it/s]"
      ]
     },
     "metadata": {},
     "output_type": "display_data"
    },
    {
     "name": "stderr",
     "output_type": "stream",
     "text": [
      "[Parallel(n_jobs=-1)]: Using backend LokyBackend with 8 concurrent workers.\n"
     ]
    },
    {
     "name": "stdout",
     "output_type": "stream",
     "text": [
      "[done]\n",
      "143\n",
      "    Using multitaper spectrum estimation with 7 DPSS windows\n",
      "Computing cross-spectral density from epochs...\n"
     ]
    },
    {
     "name": "stderr",
     "output_type": "stream",
     "text": [
      "/Users/savochkin/miniconda3/envs/myenv/lib/python3.9/site-packages/joblib/parallel.py:589: RuntimeWarning: Iterative multi-taper PSD computation did not converge.\n",
      "  return [func(*args, **kwargs)\n"
     ]
    },
    {
     "name": "stdout",
     "output_type": "stream",
     "text": [
      "Got 8 parallel jobs after requesting -1\n",
      "Using ProgressBar with tqdm.auto\n"
     ]
    },
    {
     "data": {
      "application/vnd.jupyter.widget-view+json": {
       "model_id": "99cfb5ed4f7246d5916ccb3cc430c370",
       "version_major": 2,
       "version_minor": 0
      },
      "text/plain": [
       "  0%|          | CSD epoch blocks : 0/1 [00:00<?,       ?it/s]"
      ]
     },
     "metadata": {},
     "output_type": "display_data"
    },
    {
     "name": "stderr",
     "output_type": "stream",
     "text": [
      "[Parallel(n_jobs=-1)]: Using backend LokyBackend with 8 concurrent workers.\n"
     ]
    },
    {
     "name": "stdout",
     "output_type": "stream",
     "text": [
      "[done]\n",
      "    Using multitaper spectrum estimation with 7 DPSS windows\n",
      "Computing cross-spectral density from epochs...\n",
      "Got 8 parallel jobs after requesting -1\n",
      "Using ProgressBar with tqdm.auto\n"
     ]
    },
    {
     "data": {
      "application/vnd.jupyter.widget-view+json": {
       "model_id": "6180d5696d3147f2a0d4e90bcdc0c9c9",
       "version_major": 2,
       "version_minor": 0
      },
      "text/plain": [
       "  0%|          | CSD epoch blocks : 0/1 [00:00<?,       ?it/s]"
      ]
     },
     "metadata": {},
     "output_type": "display_data"
    },
    {
     "name": "stderr",
     "output_type": "stream",
     "text": [
      "[Parallel(n_jobs=-1)]: Using backend LokyBackend with 8 concurrent workers.\n",
      "/Users/savochkin/miniconda3/envs/myenv/lib/python3.9/site-packages/joblib/parallel.py:589: RuntimeWarning: Iterative multi-taper PSD computation did not converge.\n",
      "  return [func(*args, **kwargs)\n"
     ]
    },
    {
     "name": "stdout",
     "output_type": "stream",
     "text": [
      "[done]\n",
      "144\n",
      "    Using multitaper spectrum estimation with 7 DPSS windows\n",
      "Computing cross-spectral density from epochs...\n",
      "Got 8 parallel jobs after requesting -1\n",
      "Using ProgressBar with tqdm.auto\n"
     ]
    },
    {
     "data": {
      "application/vnd.jupyter.widget-view+json": {
       "model_id": "9a826fae3f564415a423e34e737fae64",
       "version_major": 2,
       "version_minor": 0
      },
      "text/plain": [
       "  0%|          | CSD epoch blocks : 0/1 [00:00<?,       ?it/s]"
      ]
     },
     "metadata": {},
     "output_type": "display_data"
    },
    {
     "name": "stdout",
     "output_type": "stream",
     "text": [
      "[done]\n"
     ]
    },
    {
     "name": "stderr",
     "output_type": "stream",
     "text": [
      "[Parallel(n_jobs=-1)]: Using backend LokyBackend with 8 concurrent workers.\n"
     ]
    },
    {
     "name": "stdout",
     "output_type": "stream",
     "text": [
      "    Using multitaper spectrum estimation with 7 DPSS windows\n",
      "Computing cross-spectral density from epochs...\n",
      "Got 8 parallel jobs after requesting -1\n",
      "Using ProgressBar with tqdm.auto\n"
     ]
    },
    {
     "data": {
      "application/vnd.jupyter.widget-view+json": {
       "model_id": "67410ec3f3ff495f9c2fbcd7722e2474",
       "version_major": 2,
       "version_minor": 0
      },
      "text/plain": [
       "  0%|          | CSD epoch blocks : 0/1 [00:00<?,       ?it/s]"
      ]
     },
     "metadata": {},
     "output_type": "display_data"
    },
    {
     "name": "stderr",
     "output_type": "stream",
     "text": [
      "[Parallel(n_jobs=-1)]: Using backend LokyBackend with 8 concurrent workers.\n"
     ]
    },
    {
     "name": "stdout",
     "output_type": "stream",
     "text": [
      "[done]\n",
      "145\n",
      "    Using multitaper spectrum estimation with 7 DPSS windows\n",
      "Computing cross-spectral density from epochs...\n",
      "Got 8 parallel jobs after requesting -1\n",
      "Using ProgressBar with tqdm.auto\n"
     ]
    },
    {
     "name": "stderr",
     "output_type": "stream",
     "text": [
      "/Users/savochkin/miniconda3/envs/myenv/lib/python3.9/site-packages/joblib/parallel.py:589: RuntimeWarning: Iterative multi-taper PSD computation did not converge.\n",
      "  return [func(*args, **kwargs)\n"
     ]
    },
    {
     "data": {
      "application/vnd.jupyter.widget-view+json": {
       "model_id": "b34a770017ee4f9bb40a3a658c2b542d",
       "version_major": 2,
       "version_minor": 0
      },
      "text/plain": [
       "  0%|          | CSD epoch blocks : 0/1 [00:00<?,       ?it/s]"
      ]
     },
     "metadata": {},
     "output_type": "display_data"
    },
    {
     "name": "stderr",
     "output_type": "stream",
     "text": [
      "[Parallel(n_jobs=-1)]: Using backend LokyBackend with 8 concurrent workers.\n"
     ]
    },
    {
     "name": "stdout",
     "output_type": "stream",
     "text": [
      "[done]\n",
      "    Using multitaper spectrum estimation with 7 DPSS windows\n",
      "Computing cross-spectral density from epochs...\n",
      "Got 8 parallel jobs after requesting -1\n",
      "Using ProgressBar with tqdm.auto\n"
     ]
    },
    {
     "data": {
      "application/vnd.jupyter.widget-view+json": {
       "model_id": "6f480d5701684b5d9b599a0b86d83840",
       "version_major": 2,
       "version_minor": 0
      },
      "text/plain": [
       "  0%|          | CSD epoch blocks : 0/1 [00:00<?,       ?it/s]"
      ]
     },
     "metadata": {},
     "output_type": "display_data"
    },
    {
     "name": "stdout",
     "output_type": "stream",
     "text": [
      "[done]\n",
      "146\n",
      "    Using multitaper spectrum estimation with 7 DPSS windows\n",
      "Computing cross-spectral density from epochs...\n",
      "Got 8 parallel jobs after requesting -1\n",
      "Using ProgressBar with tqdm.auto\n"
     ]
    },
    {
     "name": "stderr",
     "output_type": "stream",
     "text": [
      "[Parallel(n_jobs=-1)]: Using backend LokyBackend with 8 concurrent workers.\n",
      "/Users/savochkin/miniconda3/envs/myenv/lib/python3.9/site-packages/joblib/parallel.py:589: RuntimeWarning: Iterative multi-taper PSD computation did not converge.\n",
      "  return [func(*args, **kwargs)\n"
     ]
    },
    {
     "data": {
      "application/vnd.jupyter.widget-view+json": {
       "model_id": "2ef58b2607ff4db29327822767f1ac96",
       "version_major": 2,
       "version_minor": 0
      },
      "text/plain": [
       "  0%|          | CSD epoch blocks : 0/1 [00:00<?,       ?it/s]"
      ]
     },
     "metadata": {},
     "output_type": "display_data"
    },
    {
     "name": "stderr",
     "output_type": "stream",
     "text": [
      "[Parallel(n_jobs=-1)]: Using backend LokyBackend with 8 concurrent workers.\n"
     ]
    },
    {
     "name": "stdout",
     "output_type": "stream",
     "text": [
      "[done]\n",
      "    Using multitaper spectrum estimation with 7 DPSS windows\n",
      "Computing cross-spectral density from epochs...\n",
      "Got 8 parallel jobs after requesting -1\n",
      "Using ProgressBar with tqdm.auto\n"
     ]
    },
    {
     "data": {
      "application/vnd.jupyter.widget-view+json": {
       "model_id": "0de8c14ec0ef4546946dbedfce8c9d39",
       "version_major": 2,
       "version_minor": 0
      },
      "text/plain": [
       "  0%|          | CSD epoch blocks : 0/1 [00:00<?,       ?it/s]"
      ]
     },
     "metadata": {},
     "output_type": "display_data"
    },
    {
     "name": "stderr",
     "output_type": "stream",
     "text": [
      "[Parallel(n_jobs=-1)]: Using backend LokyBackend with 8 concurrent workers.\n"
     ]
    },
    {
     "name": "stdout",
     "output_type": "stream",
     "text": [
      "[done]\n",
      "147\n",
      "    Using multitaper spectrum estimation with 7 DPSS windows\n",
      "Computing cross-spectral density from epochs...\n",
      "Got 8 parallel jobs after requesting -1\n",
      "Using ProgressBar with tqdm.auto\n"
     ]
    },
    {
     "name": "stderr",
     "output_type": "stream",
     "text": [
      "/Users/savochkin/miniconda3/envs/myenv/lib/python3.9/site-packages/joblib/parallel.py:589: RuntimeWarning: Iterative multi-taper PSD computation did not converge.\n",
      "  return [func(*args, **kwargs)\n"
     ]
    },
    {
     "data": {
      "application/vnd.jupyter.widget-view+json": {
       "model_id": "7ee82825df304daabe2beec4e3fd56fb",
       "version_major": 2,
       "version_minor": 0
      },
      "text/plain": [
       "  0%|          | CSD epoch blocks : 0/1 [00:00<?,       ?it/s]"
      ]
     },
     "metadata": {},
     "output_type": "display_data"
    },
    {
     "name": "stderr",
     "output_type": "stream",
     "text": [
      "[Parallel(n_jobs=-1)]: Using backend LokyBackend with 8 concurrent workers.\n"
     ]
    },
    {
     "name": "stdout",
     "output_type": "stream",
     "text": [
      "[done]\n",
      "    Using multitaper spectrum estimation with 7 DPSS windows\n",
      "Computing cross-spectral density from epochs...\n",
      "Got 8 parallel jobs after requesting -1\n",
      "Using ProgressBar with tqdm.auto\n"
     ]
    },
    {
     "data": {
      "application/vnd.jupyter.widget-view+json": {
       "model_id": "405b89764e3a4b23996631130564e1ab",
       "version_major": 2,
       "version_minor": 0
      },
      "text/plain": [
       "  0%|          | CSD epoch blocks : 0/1 [00:00<?,       ?it/s]"
      ]
     },
     "metadata": {},
     "output_type": "display_data"
    },
    {
     "name": "stdout",
     "output_type": "stream",
     "text": [
      "[done]\n",
      "148\n",
      "    Using multitaper spectrum estimation with 7 DPSS windows\n",
      "Computing cross-spectral density from epochs...\n",
      "Got 8 parallel jobs after requesting -1\n",
      "Using ProgressBar with tqdm.auto\n"
     ]
    },
    {
     "name": "stderr",
     "output_type": "stream",
     "text": [
      "[Parallel(n_jobs=-1)]: Using backend LokyBackend with 8 concurrent workers.\n",
      "/Users/savochkin/miniconda3/envs/myenv/lib/python3.9/site-packages/joblib/parallel.py:589: RuntimeWarning: Iterative multi-taper PSD computation did not converge.\n",
      "  return [func(*args, **kwargs)\n"
     ]
    },
    {
     "data": {
      "application/vnd.jupyter.widget-view+json": {
       "model_id": "9e16f5e4489f4f28bbb82468f6dca537",
       "version_major": 2,
       "version_minor": 0
      },
      "text/plain": [
       "  0%|          | CSD epoch blocks : 0/1 [00:00<?,       ?it/s]"
      ]
     },
     "metadata": {},
     "output_type": "display_data"
    },
    {
     "name": "stderr",
     "output_type": "stream",
     "text": [
      "[Parallel(n_jobs=-1)]: Using backend LokyBackend with 8 concurrent workers.\n"
     ]
    },
    {
     "name": "stdout",
     "output_type": "stream",
     "text": [
      "[done]\n",
      "    Using multitaper spectrum estimation with 7 DPSS windows\n",
      "Computing cross-spectral density from epochs...\n",
      "Got 8 parallel jobs after requesting -1\n",
      "Using ProgressBar with tqdm.auto\n"
     ]
    },
    {
     "data": {
      "application/vnd.jupyter.widget-view+json": {
       "model_id": "6c60ecc93cf64c828fc417a77b2fc32c",
       "version_major": 2,
       "version_minor": 0
      },
      "text/plain": [
       "  0%|          | CSD epoch blocks : 0/1 [00:00<?,       ?it/s]"
      ]
     },
     "metadata": {},
     "output_type": "display_data"
    },
    {
     "name": "stdout",
     "output_type": "stream",
     "text": [
      "[done]\n",
      "149\n",
      "    Using multitaper spectrum estimation with 7 DPSS windows\n",
      "Computing cross-spectral density from epochs...\n",
      "Got 8 parallel jobs after requesting -1\n",
      "Using ProgressBar with tqdm.auto\n"
     ]
    },
    {
     "name": "stderr",
     "output_type": "stream",
     "text": [
      "[Parallel(n_jobs=-1)]: Using backend LokyBackend with 8 concurrent workers.\n",
      "/Users/savochkin/miniconda3/envs/myenv/lib/python3.9/site-packages/joblib/parallel.py:589: RuntimeWarning: Iterative multi-taper PSD computation did not converge.\n",
      "  return [func(*args, **kwargs)\n"
     ]
    },
    {
     "data": {
      "application/vnd.jupyter.widget-view+json": {
       "model_id": "a143eb6f9b7a4cc5b20b5afdf5f331c4",
       "version_major": 2,
       "version_minor": 0
      },
      "text/plain": [
       "  0%|          | CSD epoch blocks : 0/1 [00:00<?,       ?it/s]"
      ]
     },
     "metadata": {},
     "output_type": "display_data"
    },
    {
     "name": "stderr",
     "output_type": "stream",
     "text": [
      "[Parallel(n_jobs=-1)]: Using backend LokyBackend with 8 concurrent workers.\n"
     ]
    },
    {
     "name": "stdout",
     "output_type": "stream",
     "text": [
      "[done]\n",
      "    Using multitaper spectrum estimation with 7 DPSS windows\n",
      "Computing cross-spectral density from epochs...\n",
      "Got 8 parallel jobs after requesting -1\n",
      "Using ProgressBar with tqdm.auto\n"
     ]
    },
    {
     "data": {
      "application/vnd.jupyter.widget-view+json": {
       "model_id": "1f516c37b4114bf99e7802788b080325",
       "version_major": 2,
       "version_minor": 0
      },
      "text/plain": [
       "  0%|          | CSD epoch blocks : 0/1 [00:00<?,       ?it/s]"
      ]
     },
     "metadata": {},
     "output_type": "display_data"
    },
    {
     "name": "stderr",
     "output_type": "stream",
     "text": [
      "[Parallel(n_jobs=-1)]: Using backend LokyBackend with 8 concurrent workers.\n"
     ]
    },
    {
     "name": "stdout",
     "output_type": "stream",
     "text": [
      "[done]\n",
      "150\n",
      "    Using multitaper spectrum estimation with 7 DPSS windows\n",
      "Computing cross-spectral density from epochs...\n",
      "Got 8 parallel jobs after requesting -1\n",
      "Using ProgressBar with tqdm.auto\n"
     ]
    },
    {
     "name": "stderr",
     "output_type": "stream",
     "text": [
      "/Users/savochkin/miniconda3/envs/myenv/lib/python3.9/site-packages/joblib/parallel.py:589: RuntimeWarning: Iterative multi-taper PSD computation did not converge.\n",
      "  return [func(*args, **kwargs)\n"
     ]
    },
    {
     "data": {
      "application/vnd.jupyter.widget-view+json": {
       "model_id": "a982105e584849b2b6fd74a883ec70d3",
       "version_major": 2,
       "version_minor": 0
      },
      "text/plain": [
       "  0%|          | CSD epoch blocks : 0/1 [00:00<?,       ?it/s]"
      ]
     },
     "metadata": {},
     "output_type": "display_data"
    },
    {
     "name": "stderr",
     "output_type": "stream",
     "text": [
      "[Parallel(n_jobs=-1)]: Using backend LokyBackend with 8 concurrent workers.\n"
     ]
    },
    {
     "name": "stdout",
     "output_type": "stream",
     "text": [
      "[done]\n",
      "    Using multitaper spectrum estimation with 7 DPSS windows\n",
      "Computing cross-spectral density from epochs...\n",
      "Got 8 parallel jobs after requesting -1\n",
      "Using ProgressBar with tqdm.auto\n"
     ]
    },
    {
     "data": {
      "application/vnd.jupyter.widget-view+json": {
       "model_id": "bae0b1b43334471bb83b7ff2d9d2aadc",
       "version_major": 2,
       "version_minor": 0
      },
      "text/plain": [
       "  0%|          | CSD epoch blocks : 0/1 [00:00<?,       ?it/s]"
      ]
     },
     "metadata": {},
     "output_type": "display_data"
    },
    {
     "name": "stderr",
     "output_type": "stream",
     "text": [
      "[Parallel(n_jobs=-1)]: Using backend LokyBackend with 8 concurrent workers.\n"
     ]
    },
    {
     "name": "stdout",
     "output_type": "stream",
     "text": [
      "[done]\n",
      "151\n",
      "    Using multitaper spectrum estimation with 7 DPSS windows\n",
      "Computing cross-spectral density from epochs...\n",
      "Got 8 parallel jobs after requesting -1\n",
      "Using ProgressBar with tqdm.auto\n"
     ]
    },
    {
     "name": "stderr",
     "output_type": "stream",
     "text": [
      "/Users/savochkin/miniconda3/envs/myenv/lib/python3.9/site-packages/joblib/parallel.py:589: RuntimeWarning: Iterative multi-taper PSD computation did not converge.\n",
      "  return [func(*args, **kwargs)\n"
     ]
    },
    {
     "data": {
      "application/vnd.jupyter.widget-view+json": {
       "model_id": "d7326da162754421adb8f0dd75f71211",
       "version_major": 2,
       "version_minor": 0
      },
      "text/plain": [
       "  0%|          | CSD epoch blocks : 0/1 [00:00<?,       ?it/s]"
      ]
     },
     "metadata": {},
     "output_type": "display_data"
    },
    {
     "name": "stderr",
     "output_type": "stream",
     "text": [
      "[Parallel(n_jobs=-1)]: Using backend LokyBackend with 8 concurrent workers.\n"
     ]
    },
    {
     "name": "stdout",
     "output_type": "stream",
     "text": [
      "[done]\n",
      "    Using multitaper spectrum estimation with 7 DPSS windows\n",
      "Computing cross-spectral density from epochs...\n",
      "Got 8 parallel jobs after requesting -1\n",
      "Using ProgressBar with tqdm.auto\n"
     ]
    },
    {
     "data": {
      "application/vnd.jupyter.widget-view+json": {
       "model_id": "c565123dbae34762960a1e97e92307e7",
       "version_major": 2,
       "version_minor": 0
      },
      "text/plain": [
       "  0%|          | CSD epoch blocks : 0/1 [00:00<?,       ?it/s]"
      ]
     },
     "metadata": {},
     "output_type": "display_data"
    },
    {
     "name": "stderr",
     "output_type": "stream",
     "text": [
      "[Parallel(n_jobs=-1)]: Using backend LokyBackend with 8 concurrent workers.\n",
      "/Users/savochkin/miniconda3/envs/myenv/lib/python3.9/site-packages/joblib/parallel.py:589: RuntimeWarning: Iterative multi-taper PSD computation did not converge.\n",
      "  return [func(*args, **kwargs)\n"
     ]
    },
    {
     "name": "stdout",
     "output_type": "stream",
     "text": [
      "[done]\n",
      "152\n",
      "    Using multitaper spectrum estimation with 7 DPSS windows\n",
      "Computing cross-spectral density from epochs...\n",
      "Got 8 parallel jobs after requesting -1\n",
      "Using ProgressBar with tqdm.auto\n"
     ]
    },
    {
     "data": {
      "application/vnd.jupyter.widget-view+json": {
       "model_id": "82e6603b650b4a04ae033d67e6e1df42",
       "version_major": 2,
       "version_minor": 0
      },
      "text/plain": [
       "  0%|          | CSD epoch blocks : 0/1 [00:00<?,       ?it/s]"
      ]
     },
     "metadata": {},
     "output_type": "display_data"
    },
    {
     "name": "stdout",
     "output_type": "stream",
     "text": [
      "[done]\n",
      "    Using multitaper spectrum estimation with 7 DPSS windows\n",
      "Computing cross-spectral density from epochs...\n",
      "Got 8 parallel jobs after requesting -1\n",
      "Using ProgressBar with tqdm.auto\n"
     ]
    },
    {
     "name": "stderr",
     "output_type": "stream",
     "text": [
      "[Parallel(n_jobs=-1)]: Using backend LokyBackend with 8 concurrent workers.\n"
     ]
    },
    {
     "data": {
      "application/vnd.jupyter.widget-view+json": {
       "model_id": "ffe438a88ed342c98da3bac4efcc2de1",
       "version_major": 2,
       "version_minor": 0
      },
      "text/plain": [
       "  0%|          | CSD epoch blocks : 0/1 [00:00<?,       ?it/s]"
      ]
     },
     "metadata": {},
     "output_type": "display_data"
    },
    {
     "name": "stderr",
     "output_type": "stream",
     "text": [
      "[Parallel(n_jobs=-1)]: Using backend LokyBackend with 8 concurrent workers.\n",
      "/Users/savochkin/miniconda3/envs/myenv/lib/python3.9/site-packages/joblib/parallel.py:589: RuntimeWarning: Iterative multi-taper PSD computation did not converge.\n",
      "  return [func(*args, **kwargs)\n"
     ]
    },
    {
     "name": "stdout",
     "output_type": "stream",
     "text": [
      "[done]\n",
      "153\n",
      "    Using multitaper spectrum estimation with 7 DPSS windows\n",
      "Computing cross-spectral density from epochs...\n",
      "Got 8 parallel jobs after requesting -1\n",
      "Using ProgressBar with tqdm.auto\n"
     ]
    },
    {
     "data": {
      "application/vnd.jupyter.widget-view+json": {
       "model_id": "ebf1ee6377d7437e889136703ee18d9e",
       "version_major": 2,
       "version_minor": 0
      },
      "text/plain": [
       "  0%|          | CSD epoch blocks : 0/1 [00:00<?,       ?it/s]"
      ]
     },
     "metadata": {},
     "output_type": "display_data"
    },
    {
     "name": "stderr",
     "output_type": "stream",
     "text": [
      "[Parallel(n_jobs=-1)]: Using backend LokyBackend with 8 concurrent workers.\n"
     ]
    },
    {
     "name": "stdout",
     "output_type": "stream",
     "text": [
      "[done]\n",
      "    Using multitaper spectrum estimation with 7 DPSS windows\n",
      "Computing cross-spectral density from epochs...\n",
      "Got 8 parallel jobs after requesting -1\n",
      "Using ProgressBar with tqdm.auto\n"
     ]
    },
    {
     "data": {
      "application/vnd.jupyter.widget-view+json": {
       "model_id": "8104640ee29941ceab1fb9945ffeb938",
       "version_major": 2,
       "version_minor": 0
      },
      "text/plain": [
       "  0%|          | CSD epoch blocks : 0/1 [00:00<?,       ?it/s]"
      ]
     },
     "metadata": {},
     "output_type": "display_data"
    },
    {
     "name": "stderr",
     "output_type": "stream",
     "text": [
      "[Parallel(n_jobs=-1)]: Using backend LokyBackend with 8 concurrent workers.\n"
     ]
    },
    {
     "name": "stdout",
     "output_type": "stream",
     "text": [
      "[done]\n"
     ]
    },
    {
     "name": "stderr",
     "output_type": "stream",
     "text": [
      "/Users/savochkin/miniconda3/envs/myenv/lib/python3.9/site-packages/joblib/parallel.py:589: RuntimeWarning: Iterative multi-taper PSD computation did not converge.\n",
      "  return [func(*args, **kwargs)\n"
     ]
    },
    {
     "name": "stdout",
     "output_type": "stream",
     "text": [
      "154\n",
      "    Using multitaper spectrum estimation with 7 DPSS windows\n",
      "Computing cross-spectral density from epochs...\n",
      "Got 8 parallel jobs after requesting -1\n",
      "Using ProgressBar with tqdm.auto\n"
     ]
    },
    {
     "data": {
      "application/vnd.jupyter.widget-view+json": {
       "model_id": "8a3e64e8dfd0420fba5f9bc37dade880",
       "version_major": 2,
       "version_minor": 0
      },
      "text/plain": [
       "  0%|          | CSD epoch blocks : 0/1 [00:00<?,       ?it/s]"
      ]
     },
     "metadata": {},
     "output_type": "display_data"
    },
    {
     "name": "stderr",
     "output_type": "stream",
     "text": [
      "[Parallel(n_jobs=-1)]: Using backend LokyBackend with 8 concurrent workers.\n"
     ]
    },
    {
     "name": "stdout",
     "output_type": "stream",
     "text": [
      "[done]\n",
      "    Using multitaper spectrum estimation with 7 DPSS windows\n",
      "Computing cross-spectral density from epochs...\n",
      "Got 8 parallel jobs after requesting -1\n",
      "Using ProgressBar with tqdm.auto\n"
     ]
    },
    {
     "data": {
      "application/vnd.jupyter.widget-view+json": {
       "model_id": "29ea46f3949b44a4bade3101c13f68c5",
       "version_major": 2,
       "version_minor": 0
      },
      "text/plain": [
       "  0%|          | CSD epoch blocks : 0/1 [00:00<?,       ?it/s]"
      ]
     },
     "metadata": {},
     "output_type": "display_data"
    },
    {
     "name": "stderr",
     "output_type": "stream",
     "text": [
      "[Parallel(n_jobs=-1)]: Using backend LokyBackend with 8 concurrent workers.\n"
     ]
    },
    {
     "name": "stdout",
     "output_type": "stream",
     "text": [
      "[done]\n",
      "155\n",
      "    Using multitaper spectrum estimation with 7 DPSS windows\n",
      "Computing cross-spectral density from epochs...\n",
      "Got 8 parallel jobs after requesting -1\n",
      "Using ProgressBar with tqdm.auto\n"
     ]
    },
    {
     "name": "stderr",
     "output_type": "stream",
     "text": [
      "/Users/savochkin/miniconda3/envs/myenv/lib/python3.9/site-packages/joblib/parallel.py:589: RuntimeWarning: Iterative multi-taper PSD computation did not converge.\n",
      "  return [func(*args, **kwargs)\n"
     ]
    },
    {
     "data": {
      "application/vnd.jupyter.widget-view+json": {
       "model_id": "d7755ed096bc49ed90fa84640b266d86",
       "version_major": 2,
       "version_minor": 0
      },
      "text/plain": [
       "  0%|          | CSD epoch blocks : 0/1 [00:00<?,       ?it/s]"
      ]
     },
     "metadata": {},
     "output_type": "display_data"
    },
    {
     "name": "stderr",
     "output_type": "stream",
     "text": [
      "[Parallel(n_jobs=-1)]: Using backend LokyBackend with 8 concurrent workers.\n"
     ]
    },
    {
     "name": "stdout",
     "output_type": "stream",
     "text": [
      "[done]\n",
      "    Using multitaper spectrum estimation with 7 DPSS windows\n",
      "Computing cross-spectral density from epochs...\n",
      "Got 8 parallel jobs after requesting -1\n",
      "Using ProgressBar with tqdm.auto\n"
     ]
    },
    {
     "data": {
      "application/vnd.jupyter.widget-view+json": {
       "model_id": "f0df134453b44da2b6f6c7b82f46809c",
       "version_major": 2,
       "version_minor": 0
      },
      "text/plain": [
       "  0%|          | CSD epoch blocks : 0/1 [00:00<?,       ?it/s]"
      ]
     },
     "metadata": {},
     "output_type": "display_data"
    },
    {
     "name": "stderr",
     "output_type": "stream",
     "text": [
      "[Parallel(n_jobs=-1)]: Using backend LokyBackend with 8 concurrent workers.\n",
      "/Users/savochkin/miniconda3/envs/myenv/lib/python3.9/site-packages/joblib/parallel.py:589: RuntimeWarning: Iterative multi-taper PSD computation did not converge.\n",
      "  return [func(*args, **kwargs)\n"
     ]
    },
    {
     "name": "stdout",
     "output_type": "stream",
     "text": [
      "[done]\n",
      "156\n",
      "    Using multitaper spectrum estimation with 7 DPSS windows\n",
      "Computing cross-spectral density from epochs...\n",
      "Got 8 parallel jobs after requesting -1\n",
      "Using ProgressBar with tqdm.auto\n"
     ]
    },
    {
     "data": {
      "application/vnd.jupyter.widget-view+json": {
       "model_id": "3a4328e9f6df4d9385f494ecff8606ae",
       "version_major": 2,
       "version_minor": 0
      },
      "text/plain": [
       "  0%|          | CSD epoch blocks : 0/1 [00:00<?,       ?it/s]"
      ]
     },
     "metadata": {},
     "output_type": "display_data"
    },
    {
     "name": "stdout",
     "output_type": "stream",
     "text": [
      "[done]\n",
      "    Using multitaper spectrum estimation with 7 DPSS windows\n",
      "Computing cross-spectral density from epochs...\n",
      "Got 8 parallel jobs after requesting -1\n",
      "Using ProgressBar with tqdm.auto\n"
     ]
    },
    {
     "name": "stderr",
     "output_type": "stream",
     "text": [
      "[Parallel(n_jobs=-1)]: Using backend LokyBackend with 8 concurrent workers.\n"
     ]
    },
    {
     "data": {
      "application/vnd.jupyter.widget-view+json": {
       "model_id": "49eaa46a42304e3e9155620f8c2fc8b0",
       "version_major": 2,
       "version_minor": 0
      },
      "text/plain": [
       "  0%|          | CSD epoch blocks : 0/1 [00:00<?,       ?it/s]"
      ]
     },
     "metadata": {},
     "output_type": "display_data"
    },
    {
     "name": "stderr",
     "output_type": "stream",
     "text": [
      "[Parallel(n_jobs=-1)]: Using backend LokyBackend with 8 concurrent workers.\n"
     ]
    },
    {
     "name": "stdout",
     "output_type": "stream",
     "text": [
      "[done]\n",
      "157\n",
      "    Using multitaper spectrum estimation with 7 DPSS windows\n",
      "Computing cross-spectral density from epochs...\n",
      "Got 8 parallel jobs after requesting -1\n",
      "Using ProgressBar with tqdm.auto\n"
     ]
    },
    {
     "name": "stderr",
     "output_type": "stream",
     "text": [
      "/Users/savochkin/miniconda3/envs/myenv/lib/python3.9/site-packages/joblib/parallel.py:589: RuntimeWarning: Iterative multi-taper PSD computation did not converge.\n",
      "  return [func(*args, **kwargs)\n"
     ]
    },
    {
     "data": {
      "application/vnd.jupyter.widget-view+json": {
       "model_id": "9511af64a5204bfa8d95a648981e6908",
       "version_major": 2,
       "version_minor": 0
      },
      "text/plain": [
       "  0%|          | CSD epoch blocks : 0/1 [00:00<?,       ?it/s]"
      ]
     },
     "metadata": {},
     "output_type": "display_data"
    },
    {
     "name": "stdout",
     "output_type": "stream",
     "text": [
      "[done]\n"
     ]
    },
    {
     "name": "stderr",
     "output_type": "stream",
     "text": [
      "[Parallel(n_jobs=-1)]: Using backend LokyBackend with 8 concurrent workers.\n"
     ]
    },
    {
     "name": "stdout",
     "output_type": "stream",
     "text": [
      "    Using multitaper spectrum estimation with 7 DPSS windows\n",
      "Computing cross-spectral density from epochs...\n",
      "Got 8 parallel jobs after requesting -1\n",
      "Using ProgressBar with tqdm.auto\n"
     ]
    },
    {
     "data": {
      "application/vnd.jupyter.widget-view+json": {
       "model_id": "14fd4378abb748d49c0228535d33311a",
       "version_major": 2,
       "version_minor": 0
      },
      "text/plain": [
       "  0%|          | CSD epoch blocks : 0/1 [00:00<?,       ?it/s]"
      ]
     },
     "metadata": {},
     "output_type": "display_data"
    },
    {
     "name": "stdout",
     "output_type": "stream",
     "text": [
      "[done]\n",
      "158\n",
      "    Using multitaper spectrum estimation with 7 DPSS windows\n",
      "Computing cross-spectral density from epochs...\n",
      "Got 8 parallel jobs after requesting -1\n",
      "Using ProgressBar with tqdm.auto\n"
     ]
    },
    {
     "name": "stderr",
     "output_type": "stream",
     "text": [
      "[Parallel(n_jobs=-1)]: Using backend LokyBackend with 8 concurrent workers.\n",
      "/Users/savochkin/miniconda3/envs/myenv/lib/python3.9/site-packages/joblib/parallel.py:589: RuntimeWarning: Iterative multi-taper PSD computation did not converge.\n",
      "  return [func(*args, **kwargs)\n"
     ]
    },
    {
     "data": {
      "application/vnd.jupyter.widget-view+json": {
       "model_id": "7fc13d158f27489c9aa9bad8a16f1c4c",
       "version_major": 2,
       "version_minor": 0
      },
      "text/plain": [
       "  0%|          | CSD epoch blocks : 0/1 [00:00<?,       ?it/s]"
      ]
     },
     "metadata": {},
     "output_type": "display_data"
    },
    {
     "name": "stderr",
     "output_type": "stream",
     "text": [
      "[Parallel(n_jobs=-1)]: Using backend LokyBackend with 8 concurrent workers.\n"
     ]
    },
    {
     "name": "stdout",
     "output_type": "stream",
     "text": [
      "[done]\n",
      "    Using multitaper spectrum estimation with 7 DPSS windows\n",
      "Computing cross-spectral density from epochs...\n",
      "Got 8 parallel jobs after requesting -1\n",
      "Using ProgressBar with tqdm.auto\n"
     ]
    },
    {
     "data": {
      "application/vnd.jupyter.widget-view+json": {
       "model_id": "196d906db06c41919ad344d6cb853a3e",
       "version_major": 2,
       "version_minor": 0
      },
      "text/plain": [
       "  0%|          | CSD epoch blocks : 0/1 [00:00<?,       ?it/s]"
      ]
     },
     "metadata": {},
     "output_type": "display_data"
    },
    {
     "name": "stderr",
     "output_type": "stream",
     "text": [
      "[Parallel(n_jobs=-1)]: Using backend LokyBackend with 8 concurrent workers.\n",
      "/Users/savochkin/miniconda3/envs/myenv/lib/python3.9/site-packages/joblib/parallel.py:589: RuntimeWarning: Iterative multi-taper PSD computation did not converge.\n",
      "  return [func(*args, **kwargs)\n"
     ]
    },
    {
     "name": "stdout",
     "output_type": "stream",
     "text": [
      "[done]\n",
      "159\n",
      "    Using multitaper spectrum estimation with 7 DPSS windows\n",
      "Computing cross-spectral density from epochs...\n",
      "Got 8 parallel jobs after requesting -1\n",
      "Using ProgressBar with tqdm.auto\n"
     ]
    },
    {
     "data": {
      "application/vnd.jupyter.widget-view+json": {
       "model_id": "01b409a4c79d478bb3b93c1136aabf7d",
       "version_major": 2,
       "version_minor": 0
      },
      "text/plain": [
       "  0%|          | CSD epoch blocks : 0/1 [00:00<?,       ?it/s]"
      ]
     },
     "metadata": {},
     "output_type": "display_data"
    },
    {
     "name": "stderr",
     "output_type": "stream",
     "text": [
      "[Parallel(n_jobs=-1)]: Using backend LokyBackend with 8 concurrent workers.\n"
     ]
    },
    {
     "name": "stdout",
     "output_type": "stream",
     "text": [
      "[done]\n",
      "    Using multitaper spectrum estimation with 7 DPSS windows\n",
      "Computing cross-spectral density from epochs...\n",
      "Got 8 parallel jobs after requesting -1\n",
      "Using ProgressBar with tqdm.auto\n"
     ]
    },
    {
     "data": {
      "application/vnd.jupyter.widget-view+json": {
       "model_id": "b8a7a8dce7b144399067792c184b0e4a",
       "version_major": 2,
       "version_minor": 0
      },
      "text/plain": [
       "  0%|          | CSD epoch blocks : 0/1 [00:00<?,       ?it/s]"
      ]
     },
     "metadata": {},
     "output_type": "display_data"
    },
    {
     "name": "stderr",
     "output_type": "stream",
     "text": [
      "[Parallel(n_jobs=-1)]: Using backend LokyBackend with 8 concurrent workers.\n",
      "/Users/savochkin/miniconda3/envs/myenv/lib/python3.9/site-packages/joblib/parallel.py:589: RuntimeWarning: Iterative multi-taper PSD computation did not converge.\n",
      "  return [func(*args, **kwargs)\n"
     ]
    },
    {
     "name": "stdout",
     "output_type": "stream",
     "text": [
      "[done]\n",
      "160\n",
      "    Using multitaper spectrum estimation with 7 DPSS windows\n",
      "Computing cross-spectral density from epochs...\n",
      "Got 8 parallel jobs after requesting -1\n",
      "Using ProgressBar with tqdm.auto\n"
     ]
    },
    {
     "data": {
      "application/vnd.jupyter.widget-view+json": {
       "model_id": "6c4a4347e3d546ac8d7c7448589bb3d8",
       "version_major": 2,
       "version_minor": 0
      },
      "text/plain": [
       "  0%|          | CSD epoch blocks : 0/1 [00:00<?,       ?it/s]"
      ]
     },
     "metadata": {},
     "output_type": "display_data"
    },
    {
     "name": "stderr",
     "output_type": "stream",
     "text": [
      "[Parallel(n_jobs=-1)]: Using backend LokyBackend with 8 concurrent workers.\n"
     ]
    },
    {
     "name": "stdout",
     "output_type": "stream",
     "text": [
      "[done]\n",
      "    Using multitaper spectrum estimation with 7 DPSS windows\n",
      "Computing cross-spectral density from epochs...\n",
      "Got 8 parallel jobs after requesting -1\n",
      "Using ProgressBar with tqdm.auto\n"
     ]
    },
    {
     "data": {
      "application/vnd.jupyter.widget-view+json": {
       "model_id": "95b5cf432e8b4078b9225bc3de2d24f0",
       "version_major": 2,
       "version_minor": 0
      },
      "text/plain": [
       "  0%|          | CSD epoch blocks : 0/1 [00:00<?,       ?it/s]"
      ]
     },
     "metadata": {},
     "output_type": "display_data"
    },
    {
     "name": "stderr",
     "output_type": "stream",
     "text": [
      "[Parallel(n_jobs=-1)]: Using backend LokyBackend with 8 concurrent workers.\n",
      "/Users/savochkin/miniconda3/envs/myenv/lib/python3.9/site-packages/joblib/parallel.py:589: RuntimeWarning: Iterative multi-taper PSD computation did not converge.\n",
      "  return [func(*args, **kwargs)\n"
     ]
    },
    {
     "name": "stdout",
     "output_type": "stream",
     "text": [
      "[done]\n",
      "161\n",
      "    Using multitaper spectrum estimation with 7 DPSS windows\n",
      "Computing cross-spectral density from epochs...\n",
      "Got 8 parallel jobs after requesting -1\n",
      "Using ProgressBar with tqdm.auto\n"
     ]
    },
    {
     "data": {
      "application/vnd.jupyter.widget-view+json": {
       "model_id": "d1c311f745674683b553dd1ddd23c310",
       "version_major": 2,
       "version_minor": 0
      },
      "text/plain": [
       "  0%|          | CSD epoch blocks : 0/1 [00:00<?,       ?it/s]"
      ]
     },
     "metadata": {},
     "output_type": "display_data"
    },
    {
     "name": "stderr",
     "output_type": "stream",
     "text": [
      "[Parallel(n_jobs=-1)]: Using backend LokyBackend with 8 concurrent workers.\n"
     ]
    },
    {
     "name": "stdout",
     "output_type": "stream",
     "text": [
      "[done]\n",
      "    Using multitaper spectrum estimation with 7 DPSS windows\n",
      "Computing cross-spectral density from epochs...\n",
      "Got 8 parallel jobs after requesting -1\n",
      "Using ProgressBar with tqdm.auto\n"
     ]
    },
    {
     "data": {
      "application/vnd.jupyter.widget-view+json": {
       "model_id": "b4e72539458a47489526c317bb0e36a1",
       "version_major": 2,
       "version_minor": 0
      },
      "text/plain": [
       "  0%|          | CSD epoch blocks : 0/1 [00:00<?,       ?it/s]"
      ]
     },
     "metadata": {},
     "output_type": "display_data"
    },
    {
     "name": "stdout",
     "output_type": "stream",
     "text": [
      "[done]\n"
     ]
    },
    {
     "name": "stderr",
     "output_type": "stream",
     "text": [
      "[Parallel(n_jobs=-1)]: Using backend LokyBackend with 8 concurrent workers.\n",
      "/Users/savochkin/miniconda3/envs/myenv/lib/python3.9/site-packages/joblib/parallel.py:589: RuntimeWarning: Iterative multi-taper PSD computation did not converge.\n",
      "  return [func(*args, **kwargs)\n"
     ]
    },
    {
     "name": "stdout",
     "output_type": "stream",
     "text": [
      "162\n",
      "    Using multitaper spectrum estimation with 7 DPSS windows\n",
      "Computing cross-spectral density from epochs...\n",
      "Got 8 parallel jobs after requesting -1\n",
      "Using ProgressBar with tqdm.auto\n"
     ]
    },
    {
     "data": {
      "application/vnd.jupyter.widget-view+json": {
       "model_id": "1e1abaec6cbf451fbada2c9074f71ef5",
       "version_major": 2,
       "version_minor": 0
      },
      "text/plain": [
       "  0%|          | CSD epoch blocks : 0/1 [00:00<?,       ?it/s]"
      ]
     },
     "metadata": {},
     "output_type": "display_data"
    },
    {
     "name": "stderr",
     "output_type": "stream",
     "text": [
      "[Parallel(n_jobs=-1)]: Using backend LokyBackend with 8 concurrent workers.\n"
     ]
    },
    {
     "name": "stdout",
     "output_type": "stream",
     "text": [
      "[done]\n",
      "    Using multitaper spectrum estimation with 7 DPSS windows\n",
      "Computing cross-spectral density from epochs...\n",
      "Got 8 parallel jobs after requesting -1\n",
      "Using ProgressBar with tqdm.auto\n"
     ]
    },
    {
     "data": {
      "application/vnd.jupyter.widget-view+json": {
       "model_id": "9ebe464698684430be00650340c1654c",
       "version_major": 2,
       "version_minor": 0
      },
      "text/plain": [
       "  0%|          | CSD epoch blocks : 0/1 [00:00<?,       ?it/s]"
      ]
     },
     "metadata": {},
     "output_type": "display_data"
    },
    {
     "name": "stderr",
     "output_type": "stream",
     "text": [
      "[Parallel(n_jobs=-1)]: Using backend LokyBackend with 8 concurrent workers.\n"
     ]
    },
    {
     "name": "stdout",
     "output_type": "stream",
     "text": [
      "[done]\n",
      "163\n",
      "    Using multitaper spectrum estimation with 7 DPSS windows\n",
      "Computing cross-spectral density from epochs...\n",
      "Got 8 parallel jobs after requesting -1\n",
      "Using ProgressBar with tqdm.auto\n"
     ]
    },
    {
     "name": "stderr",
     "output_type": "stream",
     "text": [
      "/Users/savochkin/miniconda3/envs/myenv/lib/python3.9/site-packages/joblib/parallel.py:589: RuntimeWarning: Iterative multi-taper PSD computation did not converge.\n",
      "  return [func(*args, **kwargs)\n"
     ]
    },
    {
     "data": {
      "application/vnd.jupyter.widget-view+json": {
       "model_id": "7bebc49bdad64a30b1e84a60500dc462",
       "version_major": 2,
       "version_minor": 0
      },
      "text/plain": [
       "  0%|          | CSD epoch blocks : 0/1 [00:00<?,       ?it/s]"
      ]
     },
     "metadata": {},
     "output_type": "display_data"
    },
    {
     "name": "stderr",
     "output_type": "stream",
     "text": [
      "[Parallel(n_jobs=-1)]: Using backend LokyBackend with 8 concurrent workers.\n"
     ]
    },
    {
     "name": "stdout",
     "output_type": "stream",
     "text": [
      "[done]\n",
      "    Using multitaper spectrum estimation with 7 DPSS windows\n",
      "Computing cross-spectral density from epochs...\n",
      "Got 8 parallel jobs after requesting -1\n",
      "Using ProgressBar with tqdm.auto\n"
     ]
    },
    {
     "data": {
      "application/vnd.jupyter.widget-view+json": {
       "model_id": "be043c8c5dd34d56a63767959bcb1da3",
       "version_major": 2,
       "version_minor": 0
      },
      "text/plain": [
       "  0%|          | CSD epoch blocks : 0/1 [00:00<?,       ?it/s]"
      ]
     },
     "metadata": {},
     "output_type": "display_data"
    },
    {
     "name": "stderr",
     "output_type": "stream",
     "text": [
      "[Parallel(n_jobs=-1)]: Using backend LokyBackend with 8 concurrent workers.\n"
     ]
    },
    {
     "name": "stdout",
     "output_type": "stream",
     "text": [
      "[done]\n",
      "164\n",
      "    Using multitaper spectrum estimation with 7 DPSS windows\n",
      "Computing cross-spectral density from epochs...\n",
      "Got 8 parallel jobs after requesting -1\n",
      "Using ProgressBar with tqdm.auto\n"
     ]
    },
    {
     "name": "stderr",
     "output_type": "stream",
     "text": [
      "/Users/savochkin/miniconda3/envs/myenv/lib/python3.9/site-packages/joblib/parallel.py:589: RuntimeWarning: Iterative multi-taper PSD computation did not converge.\n",
      "  return [func(*args, **kwargs)\n"
     ]
    },
    {
     "data": {
      "application/vnd.jupyter.widget-view+json": {
       "model_id": "e4d0f10fbdf140228919b8bbc8831f84",
       "version_major": 2,
       "version_minor": 0
      },
      "text/plain": [
       "  0%|          | CSD epoch blocks : 0/1 [00:00<?,       ?it/s]"
      ]
     },
     "metadata": {},
     "output_type": "display_data"
    },
    {
     "name": "stdout",
     "output_type": "stream",
     "text": [
      "[done]\n",
      "    Using multitaper spectrum estimation with 7 DPSS windows\n",
      "Computing cross-spectral density from epochs...\n",
      "Got 8 parallel jobs after requesting -1\n",
      "Using ProgressBar with tqdm.auto\n"
     ]
    },
    {
     "name": "stderr",
     "output_type": "stream",
     "text": [
      "[Parallel(n_jobs=-1)]: Using backend LokyBackend with 8 concurrent workers.\n"
     ]
    },
    {
     "data": {
      "application/vnd.jupyter.widget-view+json": {
       "model_id": "9cbba8dceaf84f5cab664b5502f58073",
       "version_major": 2,
       "version_minor": 0
      },
      "text/plain": [
       "  0%|          | CSD epoch blocks : 0/1 [00:00<?,       ?it/s]"
      ]
     },
     "metadata": {},
     "output_type": "display_data"
    },
    {
     "name": "stdout",
     "output_type": "stream",
     "text": [
      "[done]\n",
      "165\n",
      "    Using multitaper spectrum estimation with 7 DPSS windows\n",
      "Computing cross-spectral density from epochs...\n",
      "Got 8 parallel jobs after requesting -1\n",
      "Using ProgressBar with tqdm.auto\n"
     ]
    },
    {
     "name": "stderr",
     "output_type": "stream",
     "text": [
      "[Parallel(n_jobs=-1)]: Using backend LokyBackend with 8 concurrent workers.\n",
      "/Users/savochkin/miniconda3/envs/myenv/lib/python3.9/site-packages/joblib/parallel.py:589: RuntimeWarning: Iterative multi-taper PSD computation did not converge.\n",
      "  return [func(*args, **kwargs)\n"
     ]
    },
    {
     "data": {
      "application/vnd.jupyter.widget-view+json": {
       "model_id": "c2ddfcca05884abab456fbfbe120b0e7",
       "version_major": 2,
       "version_minor": 0
      },
      "text/plain": [
       "  0%|          | CSD epoch blocks : 0/1 [00:00<?,       ?it/s]"
      ]
     },
     "metadata": {},
     "output_type": "display_data"
    },
    {
     "name": "stderr",
     "output_type": "stream",
     "text": [
      "[Parallel(n_jobs=-1)]: Using backend LokyBackend with 8 concurrent workers.\n"
     ]
    },
    {
     "name": "stdout",
     "output_type": "stream",
     "text": [
      "[done]\n",
      "    Using multitaper spectrum estimation with 7 DPSS windows\n",
      "Computing cross-spectral density from epochs...\n",
      "Got 8 parallel jobs after requesting -1\n",
      "Using ProgressBar with tqdm.auto\n"
     ]
    },
    {
     "data": {
      "application/vnd.jupyter.widget-view+json": {
       "model_id": "c31fb095168a44a6809b2ac2b340647c",
       "version_major": 2,
       "version_minor": 0
      },
      "text/plain": [
       "  0%|          | CSD epoch blocks : 0/1 [00:00<?,       ?it/s]"
      ]
     },
     "metadata": {},
     "output_type": "display_data"
    },
    {
     "name": "stdout",
     "output_type": "stream",
     "text": [
      "[done]\n",
      "166\n",
      "    Using multitaper spectrum estimation with 7 DPSS windows\n",
      "Computing cross-spectral density from epochs...\n",
      "Got 8 parallel jobs after requesting -1\n",
      "Using ProgressBar with tqdm.auto\n"
     ]
    },
    {
     "name": "stderr",
     "output_type": "stream",
     "text": [
      "[Parallel(n_jobs=-1)]: Using backend LokyBackend with 8 concurrent workers.\n",
      "/Users/savochkin/miniconda3/envs/myenv/lib/python3.9/site-packages/joblib/parallel.py:589: RuntimeWarning: Iterative multi-taper PSD computation did not converge.\n",
      "  return [func(*args, **kwargs)\n"
     ]
    },
    {
     "data": {
      "application/vnd.jupyter.widget-view+json": {
       "model_id": "c9782b4cbd5a4eddace6ad1dc75bd111",
       "version_major": 2,
       "version_minor": 0
      },
      "text/plain": [
       "  0%|          | CSD epoch blocks : 0/1 [00:00<?,       ?it/s]"
      ]
     },
     "metadata": {},
     "output_type": "display_data"
    },
    {
     "name": "stderr",
     "output_type": "stream",
     "text": [
      "[Parallel(n_jobs=-1)]: Using backend LokyBackend with 8 concurrent workers.\n"
     ]
    },
    {
     "name": "stdout",
     "output_type": "stream",
     "text": [
      "[done]\n",
      "    Using multitaper spectrum estimation with 7 DPSS windows\n",
      "Computing cross-spectral density from epochs...\n",
      "Got 8 parallel jobs after requesting -1\n",
      "Using ProgressBar with tqdm.auto\n"
     ]
    },
    {
     "data": {
      "application/vnd.jupyter.widget-view+json": {
       "model_id": "fb79119bd39548f4b09359c9e8854078",
       "version_major": 2,
       "version_minor": 0
      },
      "text/plain": [
       "  0%|          | CSD epoch blocks : 0/1 [00:00<?,       ?it/s]"
      ]
     },
     "metadata": {},
     "output_type": "display_data"
    },
    {
     "name": "stdout",
     "output_type": "stream",
     "text": [
      "[done]\n",
      "167\n",
      "    Using multitaper spectrum estimation with 7 DPSS windows\n",
      "Computing cross-spectral density from epochs...\n",
      "Got 8 parallel jobs after requesting -1\n",
      "Using ProgressBar with tqdm.auto\n"
     ]
    },
    {
     "name": "stderr",
     "output_type": "stream",
     "text": [
      "[Parallel(n_jobs=-1)]: Using backend LokyBackend with 8 concurrent workers.\n",
      "/Users/savochkin/miniconda3/envs/myenv/lib/python3.9/site-packages/joblib/parallel.py:589: RuntimeWarning: Iterative multi-taper PSD computation did not converge.\n",
      "  return [func(*args, **kwargs)\n"
     ]
    },
    {
     "data": {
      "application/vnd.jupyter.widget-view+json": {
       "model_id": "8892f46e89f9435fa2679715b84521b6",
       "version_major": 2,
       "version_minor": 0
      },
      "text/plain": [
       "  0%|          | CSD epoch blocks : 0/1 [00:00<?,       ?it/s]"
      ]
     },
     "metadata": {},
     "output_type": "display_data"
    },
    {
     "name": "stderr",
     "output_type": "stream",
     "text": [
      "[Parallel(n_jobs=-1)]: Using backend LokyBackend with 8 concurrent workers.\n"
     ]
    },
    {
     "name": "stdout",
     "output_type": "stream",
     "text": [
      "[done]\n",
      "    Using multitaper spectrum estimation with 7 DPSS windows\n",
      "Computing cross-spectral density from epochs...\n",
      "Got 8 parallel jobs after requesting -1\n",
      "Using ProgressBar with tqdm.auto\n"
     ]
    },
    {
     "data": {
      "application/vnd.jupyter.widget-view+json": {
       "model_id": "13d02aae7d834846b970a8b5e032a227",
       "version_major": 2,
       "version_minor": 0
      },
      "text/plain": [
       "  0%|          | CSD epoch blocks : 0/1 [00:00<?,       ?it/s]"
      ]
     },
     "metadata": {},
     "output_type": "display_data"
    },
    {
     "name": "stderr",
     "output_type": "stream",
     "text": [
      "[Parallel(n_jobs=-1)]: Using backend LokyBackend with 8 concurrent workers.\n",
      "/Users/savochkin/miniconda3/envs/myenv/lib/python3.9/site-packages/joblib/parallel.py:589: RuntimeWarning: Iterative multi-taper PSD computation did not converge.\n",
      "  return [func(*args, **kwargs)\n"
     ]
    },
    {
     "name": "stdout",
     "output_type": "stream",
     "text": [
      "[done]\n",
      "168\n",
      "    Using multitaper spectrum estimation with 7 DPSS windows\n",
      "Computing cross-spectral density from epochs...\n",
      "Got 8 parallel jobs after requesting -1\n",
      "Using ProgressBar with tqdm.auto\n"
     ]
    },
    {
     "data": {
      "application/vnd.jupyter.widget-view+json": {
       "model_id": "774767f96769455c97e9cf845cda6e54",
       "version_major": 2,
       "version_minor": 0
      },
      "text/plain": [
       "  0%|          | CSD epoch blocks : 0/1 [00:00<?,       ?it/s]"
      ]
     },
     "metadata": {},
     "output_type": "display_data"
    },
    {
     "name": "stderr",
     "output_type": "stream",
     "text": [
      "[Parallel(n_jobs=-1)]: Using backend LokyBackend with 8 concurrent workers.\n"
     ]
    },
    {
     "name": "stdout",
     "output_type": "stream",
     "text": [
      "[done]\n",
      "    Using multitaper spectrum estimation with 7 DPSS windows\n",
      "Computing cross-spectral density from epochs...\n",
      "Got 8 parallel jobs after requesting -1\n",
      "Using ProgressBar with tqdm.auto\n"
     ]
    },
    {
     "data": {
      "application/vnd.jupyter.widget-view+json": {
       "model_id": "ac23f2b4dcf94892bb3672a97b23e33e",
       "version_major": 2,
       "version_minor": 0
      },
      "text/plain": [
       "  0%|          | CSD epoch blocks : 0/1 [00:00<?,       ?it/s]"
      ]
     },
     "metadata": {},
     "output_type": "display_data"
    },
    {
     "name": "stderr",
     "output_type": "stream",
     "text": [
      "[Parallel(n_jobs=-1)]: Using backend LokyBackend with 8 concurrent workers.\n",
      "/Users/savochkin/miniconda3/envs/myenv/lib/python3.9/site-packages/joblib/parallel.py:589: RuntimeWarning: Iterative multi-taper PSD computation did not converge.\n",
      "  return [func(*args, **kwargs)\n"
     ]
    },
    {
     "name": "stdout",
     "output_type": "stream",
     "text": [
      "[done]\n",
      "169\n",
      "    Using multitaper spectrum estimation with 7 DPSS windows\n",
      "Computing cross-spectral density from epochs...\n",
      "Got 8 parallel jobs after requesting -1\n",
      "Using ProgressBar with tqdm.auto\n"
     ]
    },
    {
     "data": {
      "application/vnd.jupyter.widget-view+json": {
       "model_id": "7a74cccbe4f84bf68239a1c498a8f50f",
       "version_major": 2,
       "version_minor": 0
      },
      "text/plain": [
       "  0%|          | CSD epoch blocks : 0/1 [00:00<?,       ?it/s]"
      ]
     },
     "metadata": {},
     "output_type": "display_data"
    },
    {
     "name": "stderr",
     "output_type": "stream",
     "text": [
      "[Parallel(n_jobs=-1)]: Using backend LokyBackend with 8 concurrent workers.\n"
     ]
    },
    {
     "name": "stdout",
     "output_type": "stream",
     "text": [
      "[done]\n",
      "    Using multitaper spectrum estimation with 7 DPSS windows\n",
      "Computing cross-spectral density from epochs...\n",
      "Got 8 parallel jobs after requesting -1\n",
      "Using ProgressBar with tqdm.auto\n"
     ]
    },
    {
     "data": {
      "application/vnd.jupyter.widget-view+json": {
       "model_id": "6ff9594f3a0a471aa784b1ca90e197d5",
       "version_major": 2,
       "version_minor": 0
      },
      "text/plain": [
       "  0%|          | CSD epoch blocks : 0/1 [00:00<?,       ?it/s]"
      ]
     },
     "metadata": {},
     "output_type": "display_data"
    },
    {
     "name": "stderr",
     "output_type": "stream",
     "text": [
      "[Parallel(n_jobs=-1)]: Using backend LokyBackend with 8 concurrent workers.\n",
      "/Users/savochkin/miniconda3/envs/myenv/lib/python3.9/site-packages/joblib/parallel.py:589: RuntimeWarning: Iterative multi-taper PSD computation did not converge.\n",
      "  return [func(*args, **kwargs)\n"
     ]
    },
    {
     "name": "stdout",
     "output_type": "stream",
     "text": [
      "[done]\n",
      "170\n",
      "    Using multitaper spectrum estimation with 7 DPSS windows\n",
      "Computing cross-spectral density from epochs...\n",
      "Got 8 parallel jobs after requesting -1\n",
      "Using ProgressBar with tqdm.auto\n"
     ]
    },
    {
     "data": {
      "application/vnd.jupyter.widget-view+json": {
       "model_id": "58d5f9efca074ffd9f5de381f1699555",
       "version_major": 2,
       "version_minor": 0
      },
      "text/plain": [
       "  0%|          | CSD epoch blocks : 0/1 [00:00<?,       ?it/s]"
      ]
     },
     "metadata": {},
     "output_type": "display_data"
    },
    {
     "name": "stderr",
     "output_type": "stream",
     "text": [
      "[Parallel(n_jobs=-1)]: Using backend LokyBackend with 8 concurrent workers.\n"
     ]
    },
    {
     "name": "stdout",
     "output_type": "stream",
     "text": [
      "[done]\n",
      "    Using multitaper spectrum estimation with 7 DPSS windows\n",
      "Computing cross-spectral density from epochs...\n",
      "Got 8 parallel jobs after requesting -1\n",
      "Using ProgressBar with tqdm.auto\n"
     ]
    },
    {
     "data": {
      "application/vnd.jupyter.widget-view+json": {
       "model_id": "5a1d284d8b994648a2a1a13acb898d7f",
       "version_major": 2,
       "version_minor": 0
      },
      "text/plain": [
       "  0%|          | CSD epoch blocks : 0/1 [00:00<?,       ?it/s]"
      ]
     },
     "metadata": {},
     "output_type": "display_data"
    },
    {
     "name": "stdout",
     "output_type": "stream",
     "text": [
      "[done]\n",
      "171\n",
      "    Using multitaper spectrum estimation with 7 DPSS windows\n",
      "Computing cross-spectral density from epochs...\n",
      "Got 8 parallel jobs after requesting -1\n",
      "Using ProgressBar with tqdm.auto\n"
     ]
    },
    {
     "name": "stderr",
     "output_type": "stream",
     "text": [
      "[Parallel(n_jobs=-1)]: Using backend LokyBackend with 8 concurrent workers.\n",
      "/Users/savochkin/miniconda3/envs/myenv/lib/python3.9/site-packages/joblib/parallel.py:589: RuntimeWarning: Iterative multi-taper PSD computation did not converge.\n",
      "  return [func(*args, **kwargs)\n"
     ]
    },
    {
     "data": {
      "application/vnd.jupyter.widget-view+json": {
       "model_id": "963094774d02472385212d8f35035001",
       "version_major": 2,
       "version_minor": 0
      },
      "text/plain": [
       "  0%|          | CSD epoch blocks : 0/1 [00:00<?,       ?it/s]"
      ]
     },
     "metadata": {},
     "output_type": "display_data"
    },
    {
     "name": "stderr",
     "output_type": "stream",
     "text": [
      "[Parallel(n_jobs=-1)]: Using backend LokyBackend with 8 concurrent workers.\n"
     ]
    },
    {
     "name": "stdout",
     "output_type": "stream",
     "text": [
      "[done]\n",
      "    Using multitaper spectrum estimation with 7 DPSS windows\n",
      "Computing cross-spectral density from epochs...\n",
      "Got 8 parallel jobs after requesting -1\n",
      "Using ProgressBar with tqdm.auto\n"
     ]
    },
    {
     "data": {
      "application/vnd.jupyter.widget-view+json": {
       "model_id": "d06cddd833b64fa7bd6a280d38d27494",
       "version_major": 2,
       "version_minor": 0
      },
      "text/plain": [
       "  0%|          | CSD epoch blocks : 0/1 [00:00<?,       ?it/s]"
      ]
     },
     "metadata": {},
     "output_type": "display_data"
    },
    {
     "name": "stdout",
     "output_type": "stream",
     "text": [
      "[done]\n",
      "172\n",
      "    Using multitaper spectrum estimation with 7 DPSS windows\n",
      "Computing cross-spectral density from epochs...\n",
      "Got 8 parallel jobs after requesting -1\n",
      "Using ProgressBar with tqdm.auto\n"
     ]
    },
    {
     "name": "stderr",
     "output_type": "stream",
     "text": [
      "[Parallel(n_jobs=-1)]: Using backend LokyBackend with 8 concurrent workers.\n",
      "/Users/savochkin/miniconda3/envs/myenv/lib/python3.9/site-packages/joblib/parallel.py:589: RuntimeWarning: Iterative multi-taper PSD computation did not converge.\n",
      "  return [func(*args, **kwargs)\n"
     ]
    },
    {
     "data": {
      "application/vnd.jupyter.widget-view+json": {
       "model_id": "2583a8209c0545029bb3981fa84149a7",
       "version_major": 2,
       "version_minor": 0
      },
      "text/plain": [
       "  0%|          | CSD epoch blocks : 0/1 [00:00<?,       ?it/s]"
      ]
     },
     "metadata": {},
     "output_type": "display_data"
    },
    {
     "name": "stderr",
     "output_type": "stream",
     "text": [
      "[Parallel(n_jobs=-1)]: Using backend LokyBackend with 8 concurrent workers.\n"
     ]
    },
    {
     "name": "stdout",
     "output_type": "stream",
     "text": [
      "[done]\n",
      "    Using multitaper spectrum estimation with 7 DPSS windows\n",
      "Computing cross-spectral density from epochs...\n",
      "Got 8 parallel jobs after requesting -1\n",
      "Using ProgressBar with tqdm.auto\n"
     ]
    },
    {
     "data": {
      "application/vnd.jupyter.widget-view+json": {
       "model_id": "915cf8672aa3404e9db645dad25899aa",
       "version_major": 2,
       "version_minor": 0
      },
      "text/plain": [
       "  0%|          | CSD epoch blocks : 0/1 [00:00<?,       ?it/s]"
      ]
     },
     "metadata": {},
     "output_type": "display_data"
    },
    {
     "name": "stderr",
     "output_type": "stream",
     "text": [
      "[Parallel(n_jobs=-1)]: Using backend LokyBackend with 8 concurrent workers.\n",
      "/Users/savochkin/miniconda3/envs/myenv/lib/python3.9/site-packages/joblib/parallel.py:589: RuntimeWarning: Iterative multi-taper PSD computation did not converge.\n",
      "  return [func(*args, **kwargs)\n"
     ]
    },
    {
     "name": "stdout",
     "output_type": "stream",
     "text": [
      "[done]\n",
      "173\n",
      "    Using multitaper spectrum estimation with 7 DPSS windows\n",
      "Computing cross-spectral density from epochs...\n",
      "Got 8 parallel jobs after requesting -1\n",
      "Using ProgressBar with tqdm.auto\n"
     ]
    },
    {
     "data": {
      "application/vnd.jupyter.widget-view+json": {
       "model_id": "01c48fca27194ce4b125adbef3c0257e",
       "version_major": 2,
       "version_minor": 0
      },
      "text/plain": [
       "  0%|          | CSD epoch blocks : 0/1 [00:00<?,       ?it/s]"
      ]
     },
     "metadata": {},
     "output_type": "display_data"
    },
    {
     "name": "stderr",
     "output_type": "stream",
     "text": [
      "[Parallel(n_jobs=-1)]: Using backend LokyBackend with 8 concurrent workers.\n"
     ]
    },
    {
     "name": "stdout",
     "output_type": "stream",
     "text": [
      "[done]\n",
      "    Using multitaper spectrum estimation with 7 DPSS windows\n",
      "Computing cross-spectral density from epochs...\n",
      "Got 8 parallel jobs after requesting -1\n",
      "Using ProgressBar with tqdm.auto\n"
     ]
    },
    {
     "data": {
      "application/vnd.jupyter.widget-view+json": {
       "model_id": "ead4b1747f2a4412838538822fd42dd4",
       "version_major": 2,
       "version_minor": 0
      },
      "text/plain": [
       "  0%|          | CSD epoch blocks : 0/1 [00:00<?,       ?it/s]"
      ]
     },
     "metadata": {},
     "output_type": "display_data"
    },
    {
     "name": "stderr",
     "output_type": "stream",
     "text": [
      "[Parallel(n_jobs=-1)]: Using backend LokyBackend with 8 concurrent workers.\n"
     ]
    },
    {
     "name": "stdout",
     "output_type": "stream",
     "text": [
      "[done]\n",
      "174\n",
      "    Using multitaper spectrum estimation with 7 DPSS windows\n",
      "Computing cross-spectral density from epochs...\n",
      "Got 8 parallel jobs after requesting -1\n",
      "Using ProgressBar with tqdm.auto\n"
     ]
    },
    {
     "name": "stderr",
     "output_type": "stream",
     "text": [
      "/Users/savochkin/miniconda3/envs/myenv/lib/python3.9/site-packages/joblib/parallel.py:589: RuntimeWarning: Iterative multi-taper PSD computation did not converge.\n",
      "  return [func(*args, **kwargs)\n"
     ]
    },
    {
     "data": {
      "application/vnd.jupyter.widget-view+json": {
       "model_id": "510d1a9dbaef4e80bba862e59dd91a17",
       "version_major": 2,
       "version_minor": 0
      },
      "text/plain": [
       "  0%|          | CSD epoch blocks : 0/1 [00:00<?,       ?it/s]"
      ]
     },
     "metadata": {},
     "output_type": "display_data"
    },
    {
     "name": "stderr",
     "output_type": "stream",
     "text": [
      "[Parallel(n_jobs=-1)]: Using backend LokyBackend with 8 concurrent workers.\n"
     ]
    },
    {
     "name": "stdout",
     "output_type": "stream",
     "text": [
      "[done]\n",
      "    Using multitaper spectrum estimation with 7 DPSS windows\n",
      "Computing cross-spectral density from epochs...\n",
      "Got 8 parallel jobs after requesting -1\n",
      "Using ProgressBar with tqdm.auto\n"
     ]
    },
    {
     "data": {
      "application/vnd.jupyter.widget-view+json": {
       "model_id": "be5ed64dfdf3423ca5cd5409f95f4392",
       "version_major": 2,
       "version_minor": 0
      },
      "text/plain": [
       "  0%|          | CSD epoch blocks : 0/1 [00:00<?,       ?it/s]"
      ]
     },
     "metadata": {},
     "output_type": "display_data"
    },
    {
     "name": "stdout",
     "output_type": "stream",
     "text": [
      "[done]\n",
      "175\n",
      "    Using multitaper spectrum estimation with 7 DPSS windows\n",
      "Computing cross-spectral density from epochs...\n",
      "Got 8 parallel jobs after requesting -1\n",
      "Using ProgressBar with tqdm.auto\n"
     ]
    },
    {
     "name": "stderr",
     "output_type": "stream",
     "text": [
      "[Parallel(n_jobs=-1)]: Using backend LokyBackend with 8 concurrent workers.\n",
      "/Users/savochkin/miniconda3/envs/myenv/lib/python3.9/site-packages/joblib/parallel.py:589: RuntimeWarning: Iterative multi-taper PSD computation did not converge.\n",
      "  return [func(*args, **kwargs)\n"
     ]
    },
    {
     "data": {
      "application/vnd.jupyter.widget-view+json": {
       "model_id": "d2325a7ad4f7412caaa79aad48370edb",
       "version_major": 2,
       "version_minor": 0
      },
      "text/plain": [
       "  0%|          | CSD epoch blocks : 0/1 [00:00<?,       ?it/s]"
      ]
     },
     "metadata": {},
     "output_type": "display_data"
    },
    {
     "name": "stderr",
     "output_type": "stream",
     "text": [
      "[Parallel(n_jobs=-1)]: Using backend LokyBackend with 8 concurrent workers.\n"
     ]
    },
    {
     "name": "stdout",
     "output_type": "stream",
     "text": [
      "[done]\n",
      "    Using multitaper spectrum estimation with 7 DPSS windows\n",
      "Computing cross-spectral density from epochs...\n",
      "Got 8 parallel jobs after requesting -1\n",
      "Using ProgressBar with tqdm.auto\n"
     ]
    },
    {
     "data": {
      "application/vnd.jupyter.widget-view+json": {
       "model_id": "70254d12d6ec43eca8ac0ea64c3bc61f",
       "version_major": 2,
       "version_minor": 0
      },
      "text/plain": [
       "  0%|          | CSD epoch blocks : 0/1 [00:00<?,       ?it/s]"
      ]
     },
     "metadata": {},
     "output_type": "display_data"
    },
    {
     "name": "stderr",
     "output_type": "stream",
     "text": [
      "[Parallel(n_jobs=-1)]: Using backend LokyBackend with 8 concurrent workers.\n"
     ]
    },
    {
     "name": "stdout",
     "output_type": "stream",
     "text": [
      "[done]\n",
      "176\n",
      "    Using multitaper spectrum estimation with 7 DPSS windows\n",
      "Computing cross-spectral density from epochs...\n",
      "Got 8 parallel jobs after requesting -1\n",
      "Using ProgressBar with tqdm.auto\n"
     ]
    },
    {
     "name": "stderr",
     "output_type": "stream",
     "text": [
      "/Users/savochkin/miniconda3/envs/myenv/lib/python3.9/site-packages/joblib/parallel.py:589: RuntimeWarning: Iterative multi-taper PSD computation did not converge.\n",
      "  return [func(*args, **kwargs)\n"
     ]
    },
    {
     "data": {
      "application/vnd.jupyter.widget-view+json": {
       "model_id": "c2d8f580401945d08d76b4391db4b277",
       "version_major": 2,
       "version_minor": 0
      },
      "text/plain": [
       "  0%|          | CSD epoch blocks : 0/1 [00:00<?,       ?it/s]"
      ]
     },
     "metadata": {},
     "output_type": "display_data"
    },
    {
     "name": "stderr",
     "output_type": "stream",
     "text": [
      "[Parallel(n_jobs=-1)]: Using backend LokyBackend with 8 concurrent workers.\n"
     ]
    },
    {
     "name": "stdout",
     "output_type": "stream",
     "text": [
      "[done]\n",
      "    Using multitaper spectrum estimation with 7 DPSS windows\n",
      "Computing cross-spectral density from epochs...\n",
      "Got 8 parallel jobs after requesting -1\n",
      "Using ProgressBar with tqdm.auto\n"
     ]
    },
    {
     "data": {
      "application/vnd.jupyter.widget-view+json": {
       "model_id": "b8f212268d7d48cdbb544ee4818be365",
       "version_major": 2,
       "version_minor": 0
      },
      "text/plain": [
       "  0%|          | CSD epoch blocks : 0/1 [00:00<?,       ?it/s]"
      ]
     },
     "metadata": {},
     "output_type": "display_data"
    },
    {
     "name": "stdout",
     "output_type": "stream",
     "text": [
      "[done]\n",
      "177\n",
      "    Using multitaper spectrum estimation with 7 DPSS windows\n",
      "Computing cross-spectral density from epochs...\n",
      "Got 8 parallel jobs after requesting -1\n",
      "Using ProgressBar with tqdm.auto\n"
     ]
    },
    {
     "name": "stderr",
     "output_type": "stream",
     "text": [
      "[Parallel(n_jobs=-1)]: Using backend LokyBackend with 8 concurrent workers.\n",
      "/Users/savochkin/miniconda3/envs/myenv/lib/python3.9/site-packages/joblib/parallel.py:589: RuntimeWarning: Iterative multi-taper PSD computation did not converge.\n",
      "  return [func(*args, **kwargs)\n"
     ]
    },
    {
     "data": {
      "application/vnd.jupyter.widget-view+json": {
       "model_id": "87a7770248cb4ef7a8dd05d2fc898003",
       "version_major": 2,
       "version_minor": 0
      },
      "text/plain": [
       "  0%|          | CSD epoch blocks : 0/1 [00:00<?,       ?it/s]"
      ]
     },
     "metadata": {},
     "output_type": "display_data"
    },
    {
     "name": "stderr",
     "output_type": "stream",
     "text": [
      "[Parallel(n_jobs=-1)]: Using backend LokyBackend with 8 concurrent workers.\n"
     ]
    },
    {
     "name": "stdout",
     "output_type": "stream",
     "text": [
      "[done]\n",
      "    Using multitaper spectrum estimation with 7 DPSS windows\n",
      "Computing cross-spectral density from epochs...\n",
      "Got 8 parallel jobs after requesting -1\n",
      "Using ProgressBar with tqdm.auto\n"
     ]
    },
    {
     "data": {
      "application/vnd.jupyter.widget-view+json": {
       "model_id": "9a251adb36a9477ba00584ca249175e6",
       "version_major": 2,
       "version_minor": 0
      },
      "text/plain": [
       "  0%|          | CSD epoch blocks : 0/1 [00:00<?,       ?it/s]"
      ]
     },
     "metadata": {},
     "output_type": "display_data"
    },
    {
     "name": "stdout",
     "output_type": "stream",
     "text": [
      "[done]\n",
      "178\n",
      "    Using multitaper spectrum estimation with 7 DPSS windows\n",
      "Computing cross-spectral density from epochs...\n",
      "Got 8 parallel jobs after requesting -1\n",
      "Using ProgressBar with tqdm.auto\n"
     ]
    },
    {
     "name": "stderr",
     "output_type": "stream",
     "text": [
      "[Parallel(n_jobs=-1)]: Using backend LokyBackend with 8 concurrent workers.\n",
      "/Users/savochkin/miniconda3/envs/myenv/lib/python3.9/site-packages/joblib/parallel.py:589: RuntimeWarning: Iterative multi-taper PSD computation did not converge.\n",
      "  return [func(*args, **kwargs)\n"
     ]
    },
    {
     "data": {
      "application/vnd.jupyter.widget-view+json": {
       "model_id": "1ca05108c968477e86facf16c89da2aa",
       "version_major": 2,
       "version_minor": 0
      },
      "text/plain": [
       "  0%|          | CSD epoch blocks : 0/1 [00:00<?,       ?it/s]"
      ]
     },
     "metadata": {},
     "output_type": "display_data"
    },
    {
     "name": "stdout",
     "output_type": "stream",
     "text": [
      "[done]\n",
      "    Using multitaper spectrum estimation with 7 DPSS windows\n",
      "Computing cross-spectral density from epochs...\n",
      "Got 8 parallel jobs after requesting -1\n",
      "Using ProgressBar with tqdm.auto\n"
     ]
    },
    {
     "name": "stderr",
     "output_type": "stream",
     "text": [
      "[Parallel(n_jobs=-1)]: Using backend LokyBackend with 8 concurrent workers.\n"
     ]
    },
    {
     "data": {
      "application/vnd.jupyter.widget-view+json": {
       "model_id": "8c70d3b8a899445db5c8ce97896f8489",
       "version_major": 2,
       "version_minor": 0
      },
      "text/plain": [
       "  0%|          | CSD epoch blocks : 0/1 [00:00<?,       ?it/s]"
      ]
     },
     "metadata": {},
     "output_type": "display_data"
    },
    {
     "name": "stderr",
     "output_type": "stream",
     "text": [
      "[Parallel(n_jobs=-1)]: Using backend LokyBackend with 8 concurrent workers.\n"
     ]
    },
    {
     "name": "stdout",
     "output_type": "stream",
     "text": [
      "[done]\n",
      "179\n",
      "    Using multitaper spectrum estimation with 7 DPSS windows\n",
      "Computing cross-spectral density from epochs...\n"
     ]
    },
    {
     "name": "stderr",
     "output_type": "stream",
     "text": [
      "/Users/savochkin/miniconda3/envs/myenv/lib/python3.9/site-packages/joblib/parallel.py:589: RuntimeWarning: Iterative multi-taper PSD computation did not converge.\n",
      "  return [func(*args, **kwargs)\n"
     ]
    },
    {
     "name": "stdout",
     "output_type": "stream",
     "text": [
      "Got 8 parallel jobs after requesting -1\n",
      "Using ProgressBar with tqdm.auto\n"
     ]
    },
    {
     "data": {
      "application/vnd.jupyter.widget-view+json": {
       "model_id": "b44f239290a14d36823817895b509615",
       "version_major": 2,
       "version_minor": 0
      },
      "text/plain": [
       "  0%|          | CSD epoch blocks : 0/1 [00:00<?,       ?it/s]"
      ]
     },
     "metadata": {},
     "output_type": "display_data"
    },
    {
     "name": "stdout",
     "output_type": "stream",
     "text": [
      "[done]\n"
     ]
    },
    {
     "name": "stderr",
     "output_type": "stream",
     "text": [
      "[Parallel(n_jobs=-1)]: Using backend LokyBackend with 8 concurrent workers.\n"
     ]
    },
    {
     "name": "stdout",
     "output_type": "stream",
     "text": [
      "    Using multitaper spectrum estimation with 7 DPSS windows\n",
      "Computing cross-spectral density from epochs...\n",
      "Got 8 parallel jobs after requesting -1\n",
      "Using ProgressBar with tqdm.auto\n"
     ]
    },
    {
     "data": {
      "application/vnd.jupyter.widget-view+json": {
       "model_id": "be8dff81777b49f5a525d679551e5249",
       "version_major": 2,
       "version_minor": 0
      },
      "text/plain": [
       "  0%|          | CSD epoch blocks : 0/1 [00:00<?,       ?it/s]"
      ]
     },
     "metadata": {},
     "output_type": "display_data"
    },
    {
     "name": "stderr",
     "output_type": "stream",
     "text": [
      "[Parallel(n_jobs=-1)]: Using backend LokyBackend with 8 concurrent workers.\n",
      "/Users/savochkin/miniconda3/envs/myenv/lib/python3.9/site-packages/joblib/parallel.py:589: RuntimeWarning: Iterative multi-taper PSD computation did not converge.\n",
      "  return [func(*args, **kwargs)\n"
     ]
    },
    {
     "name": "stdout",
     "output_type": "stream",
     "text": [
      "[done]\n",
      "180\n",
      "    Using multitaper spectrum estimation with 7 DPSS windows\n",
      "Computing cross-spectral density from epochs...\n",
      "Got 8 parallel jobs after requesting -1\n",
      "Using ProgressBar with tqdm.auto\n"
     ]
    },
    {
     "data": {
      "application/vnd.jupyter.widget-view+json": {
       "model_id": "c1fc66bf2abb438290b4e079f00241eb",
       "version_major": 2,
       "version_minor": 0
      },
      "text/plain": [
       "  0%|          | CSD epoch blocks : 0/1 [00:00<?,       ?it/s]"
      ]
     },
     "metadata": {},
     "output_type": "display_data"
    },
    {
     "name": "stderr",
     "output_type": "stream",
     "text": [
      "[Parallel(n_jobs=-1)]: Using backend LokyBackend with 8 concurrent workers.\n"
     ]
    },
    {
     "name": "stdout",
     "output_type": "stream",
     "text": [
      "[done]\n",
      "    Using multitaper spectrum estimation with 7 DPSS windows\n",
      "Computing cross-spectral density from epochs...\n",
      "Got 8 parallel jobs after requesting -1\n",
      "Using ProgressBar with tqdm.auto\n"
     ]
    },
    {
     "data": {
      "application/vnd.jupyter.widget-view+json": {
       "model_id": "1b7366a4fe7a479789e70f8a97fd1f84",
       "version_major": 2,
       "version_minor": 0
      },
      "text/plain": [
       "  0%|          | CSD epoch blocks : 0/1 [00:00<?,       ?it/s]"
      ]
     },
     "metadata": {},
     "output_type": "display_data"
    },
    {
     "name": "stderr",
     "output_type": "stream",
     "text": [
      "[Parallel(n_jobs=-1)]: Using backend LokyBackend with 8 concurrent workers.\n"
     ]
    },
    {
     "name": "stdout",
     "output_type": "stream",
     "text": [
      "[done]\n",
      "181\n",
      "    Using multitaper spectrum estimation with 7 DPSS windows\n",
      "Computing cross-spectral density from epochs...\n",
      "Got 8 parallel jobs after requesting -1\n",
      "Using ProgressBar with tqdm.auto\n"
     ]
    },
    {
     "name": "stderr",
     "output_type": "stream",
     "text": [
      "/Users/savochkin/miniconda3/envs/myenv/lib/python3.9/site-packages/joblib/parallel.py:589: RuntimeWarning: Iterative multi-taper PSD computation did not converge.\n",
      "  return [func(*args, **kwargs)\n"
     ]
    },
    {
     "data": {
      "application/vnd.jupyter.widget-view+json": {
       "model_id": "8c22405609704d30b663848a43a0edcb",
       "version_major": 2,
       "version_minor": 0
      },
      "text/plain": [
       "  0%|          | CSD epoch blocks : 0/1 [00:00<?,       ?it/s]"
      ]
     },
     "metadata": {},
     "output_type": "display_data"
    },
    {
     "name": "stderr",
     "output_type": "stream",
     "text": [
      "[Parallel(n_jobs=-1)]: Using backend LokyBackend with 8 concurrent workers.\n"
     ]
    },
    {
     "name": "stdout",
     "output_type": "stream",
     "text": [
      "[done]\n",
      "    Using multitaper spectrum estimation with 7 DPSS windows\n",
      "Computing cross-spectral density from epochs...\n",
      "Got 8 parallel jobs after requesting -1\n",
      "Using ProgressBar with tqdm.auto\n"
     ]
    },
    {
     "data": {
      "application/vnd.jupyter.widget-view+json": {
       "model_id": "c2cd4439607146cd812356c64bc31b52",
       "version_major": 2,
       "version_minor": 0
      },
      "text/plain": [
       "  0%|          | CSD epoch blocks : 0/1 [00:00<?,       ?it/s]"
      ]
     },
     "metadata": {},
     "output_type": "display_data"
    },
    {
     "name": "stdout",
     "output_type": "stream",
     "text": [
      "[done]\n",
      "182\n",
      "    Using multitaper spectrum estimation with 7 DPSS windows\n",
      "Computing cross-spectral density from epochs...\n",
      "Got 8 parallel jobs after requesting -1\n",
      "Using ProgressBar with tqdm.auto\n"
     ]
    },
    {
     "name": "stderr",
     "output_type": "stream",
     "text": [
      "[Parallel(n_jobs=-1)]: Using backend LokyBackend with 8 concurrent workers.\n",
      "/Users/savochkin/miniconda3/envs/myenv/lib/python3.9/site-packages/joblib/parallel.py:589: RuntimeWarning: Iterative multi-taper PSD computation did not converge.\n",
      "  return [func(*args, **kwargs)\n"
     ]
    },
    {
     "data": {
      "application/vnd.jupyter.widget-view+json": {
       "model_id": "ec2cdc7385454449aecd93ee87cec0cb",
       "version_major": 2,
       "version_minor": 0
      },
      "text/plain": [
       "  0%|          | CSD epoch blocks : 0/1 [00:00<?,       ?it/s]"
      ]
     },
     "metadata": {},
     "output_type": "display_data"
    },
    {
     "name": "stderr",
     "output_type": "stream",
     "text": [
      "[Parallel(n_jobs=-1)]: Using backend LokyBackend with 8 concurrent workers.\n"
     ]
    },
    {
     "name": "stdout",
     "output_type": "stream",
     "text": [
      "[done]\n",
      "    Using multitaper spectrum estimation with 7 DPSS windows\n",
      "Computing cross-spectral density from epochs...\n",
      "Got 8 parallel jobs after requesting -1\n",
      "Using ProgressBar with tqdm.auto\n"
     ]
    },
    {
     "data": {
      "application/vnd.jupyter.widget-view+json": {
       "model_id": "b11416b64f2b4393b71e539ffb509260",
       "version_major": 2,
       "version_minor": 0
      },
      "text/plain": [
       "  0%|          | CSD epoch blocks : 0/1 [00:00<?,       ?it/s]"
      ]
     },
     "metadata": {},
     "output_type": "display_data"
    },
    {
     "name": "stderr",
     "output_type": "stream",
     "text": [
      "[Parallel(n_jobs=-1)]: Using backend LokyBackend with 8 concurrent workers.\n"
     ]
    },
    {
     "name": "stdout",
     "output_type": "stream",
     "text": [
      "[done]\n",
      "183\n",
      "    Using multitaper spectrum estimation with 7 DPSS windows\n",
      "Computing cross-spectral density from epochs...\n",
      "Got 8 parallel jobs after requesting -1\n",
      "Using ProgressBar with tqdm.auto\n"
     ]
    },
    {
     "name": "stderr",
     "output_type": "stream",
     "text": [
      "/Users/savochkin/miniconda3/envs/myenv/lib/python3.9/site-packages/joblib/parallel.py:589: RuntimeWarning: Iterative multi-taper PSD computation did not converge.\n",
      "  return [func(*args, **kwargs)\n"
     ]
    },
    {
     "data": {
      "application/vnd.jupyter.widget-view+json": {
       "model_id": "3818f1b18d3844cb90aeedb35f5788ad",
       "version_major": 2,
       "version_minor": 0
      },
      "text/plain": [
       "  0%|          | CSD epoch blocks : 0/1 [00:00<?,       ?it/s]"
      ]
     },
     "metadata": {},
     "output_type": "display_data"
    },
    {
     "name": "stderr",
     "output_type": "stream",
     "text": [
      "[Parallel(n_jobs=-1)]: Using backend LokyBackend with 8 concurrent workers.\n"
     ]
    },
    {
     "name": "stdout",
     "output_type": "stream",
     "text": [
      "[done]\n",
      "    Using multitaper spectrum estimation with 7 DPSS windows\n",
      "Computing cross-spectral density from epochs...\n",
      "Got 8 parallel jobs after requesting -1\n",
      "Using ProgressBar with tqdm.auto\n"
     ]
    },
    {
     "data": {
      "application/vnd.jupyter.widget-view+json": {
       "model_id": "903bce09184a4ae492ec2f0db7aea943",
       "version_major": 2,
       "version_minor": 0
      },
      "text/plain": [
       "  0%|          | CSD epoch blocks : 0/1 [00:00<?,       ?it/s]"
      ]
     },
     "metadata": {},
     "output_type": "display_data"
    },
    {
     "name": "stderr",
     "output_type": "stream",
     "text": [
      "[Parallel(n_jobs=-1)]: Using backend LokyBackend with 8 concurrent workers.\n"
     ]
    },
    {
     "name": "stdout",
     "output_type": "stream",
     "text": [
      "[done]\n",
      "184\n",
      "    Using multitaper spectrum estimation with 7 DPSS windows\n",
      "Computing cross-spectral density from epochs...\n",
      "Got 8 parallel jobs after requesting -1\n",
      "Using ProgressBar with tqdm.auto\n"
     ]
    },
    {
     "name": "stderr",
     "output_type": "stream",
     "text": [
      "/Users/savochkin/miniconda3/envs/myenv/lib/python3.9/site-packages/joblib/parallel.py:589: RuntimeWarning: Iterative multi-taper PSD computation did not converge.\n",
      "  return [func(*args, **kwargs)\n"
     ]
    },
    {
     "data": {
      "application/vnd.jupyter.widget-view+json": {
       "model_id": "6b50e6cae9d34183bcc58ddf010a0e46",
       "version_major": 2,
       "version_minor": 0
      },
      "text/plain": [
       "  0%|          | CSD epoch blocks : 0/1 [00:00<?,       ?it/s]"
      ]
     },
     "metadata": {},
     "output_type": "display_data"
    },
    {
     "name": "stderr",
     "output_type": "stream",
     "text": [
      "[Parallel(n_jobs=-1)]: Using backend LokyBackend with 8 concurrent workers.\n"
     ]
    },
    {
     "name": "stdout",
     "output_type": "stream",
     "text": [
      "[done]\n",
      "    Using multitaper spectrum estimation with 7 DPSS windows\n",
      "Computing cross-spectral density from epochs...\n",
      "Got 8 parallel jobs after requesting -1\n",
      "Using ProgressBar with tqdm.auto\n"
     ]
    },
    {
     "data": {
      "application/vnd.jupyter.widget-view+json": {
       "model_id": "9073d1f05cc348dd95b06ce6a038f576",
       "version_major": 2,
       "version_minor": 0
      },
      "text/plain": [
       "  0%|          | CSD epoch blocks : 0/1 [00:00<?,       ?it/s]"
      ]
     },
     "metadata": {},
     "output_type": "display_data"
    },
    {
     "name": "stdout",
     "output_type": "stream",
     "text": [
      "[done]\n",
      "185\n",
      "    Using multitaper spectrum estimation with 7 DPSS windows\n",
      "Computing cross-spectral density from epochs...\n",
      "Got 8 parallel jobs after requesting -1\n",
      "Using ProgressBar with tqdm.auto\n"
     ]
    },
    {
     "name": "stderr",
     "output_type": "stream",
     "text": [
      "[Parallel(n_jobs=-1)]: Using backend LokyBackend with 8 concurrent workers.\n",
      "/Users/savochkin/miniconda3/envs/myenv/lib/python3.9/site-packages/joblib/parallel.py:589: RuntimeWarning: Iterative multi-taper PSD computation did not converge.\n",
      "  return [func(*args, **kwargs)\n"
     ]
    },
    {
     "data": {
      "application/vnd.jupyter.widget-view+json": {
       "model_id": "c5f7d9984b3b4bb08ad69b66550efa4f",
       "version_major": 2,
       "version_minor": 0
      },
      "text/plain": [
       "  0%|          | CSD epoch blocks : 0/1 [00:00<?,       ?it/s]"
      ]
     },
     "metadata": {},
     "output_type": "display_data"
    },
    {
     "name": "stderr",
     "output_type": "stream",
     "text": [
      "[Parallel(n_jobs=-1)]: Using backend LokyBackend with 8 concurrent workers.\n"
     ]
    },
    {
     "name": "stdout",
     "output_type": "stream",
     "text": [
      "[done]\n",
      "    Using multitaper spectrum estimation with 7 DPSS windows\n",
      "Computing cross-spectral density from epochs...\n",
      "Got 8 parallel jobs after requesting -1\n",
      "Using ProgressBar with tqdm.auto\n"
     ]
    },
    {
     "data": {
      "application/vnd.jupyter.widget-view+json": {
       "model_id": "e29d70fa6e824affae5ebd910fbd9727",
       "version_major": 2,
       "version_minor": 0
      },
      "text/plain": [
       "  0%|          | CSD epoch blocks : 0/1 [00:00<?,       ?it/s]"
      ]
     },
     "metadata": {},
     "output_type": "display_data"
    },
    {
     "name": "stderr",
     "output_type": "stream",
     "text": [
      "[Parallel(n_jobs=-1)]: Using backend LokyBackend with 8 concurrent workers.\n"
     ]
    },
    {
     "name": "stdout",
     "output_type": "stream",
     "text": [
      "[done]\n",
      "186\n",
      "    Using multitaper spectrum estimation with 7 DPSS windows\n",
      "Computing cross-spectral density from epochs...\n",
      "Got 8 parallel jobs after requesting -1\n",
      "Using ProgressBar with tqdm.auto\n"
     ]
    },
    {
     "name": "stderr",
     "output_type": "stream",
     "text": [
      "/Users/savochkin/miniconda3/envs/myenv/lib/python3.9/site-packages/joblib/parallel.py:589: RuntimeWarning: Iterative multi-taper PSD computation did not converge.\n",
      "  return [func(*args, **kwargs)\n"
     ]
    },
    {
     "data": {
      "application/vnd.jupyter.widget-view+json": {
       "model_id": "e3fd3d6de6a24d5d975a907fc459675c",
       "version_major": 2,
       "version_minor": 0
      },
      "text/plain": [
       "  0%|          | CSD epoch blocks : 0/1 [00:00<?,       ?it/s]"
      ]
     },
     "metadata": {},
     "output_type": "display_data"
    },
    {
     "name": "stderr",
     "output_type": "stream",
     "text": [
      "[Parallel(n_jobs=-1)]: Using backend LokyBackend with 8 concurrent workers.\n"
     ]
    },
    {
     "name": "stdout",
     "output_type": "stream",
     "text": [
      "[done]\n",
      "    Using multitaper spectrum estimation with 7 DPSS windows\n",
      "Computing cross-spectral density from epochs...\n",
      "Got 8 parallel jobs after requesting -1\n",
      "Using ProgressBar with tqdm.auto\n"
     ]
    },
    {
     "data": {
      "application/vnd.jupyter.widget-view+json": {
       "model_id": "92fd2a9d347a4890817560db3977cc71",
       "version_major": 2,
       "version_minor": 0
      },
      "text/plain": [
       "  0%|          | CSD epoch blocks : 0/1 [00:00<?,       ?it/s]"
      ]
     },
     "metadata": {},
     "output_type": "display_data"
    },
    {
     "name": "stdout",
     "output_type": "stream",
     "text": [
      "[done]\n",
      "187\n",
      "    Using multitaper spectrum estimation with 7 DPSS windows\n",
      "Computing cross-spectral density from epochs...\n",
      "Got 8 parallel jobs after requesting -1\n",
      "Using ProgressBar with tqdm.auto\n"
     ]
    },
    {
     "name": "stderr",
     "output_type": "stream",
     "text": [
      "[Parallel(n_jobs=-1)]: Using backend LokyBackend with 8 concurrent workers.\n",
      "/Users/savochkin/miniconda3/envs/myenv/lib/python3.9/site-packages/joblib/parallel.py:589: RuntimeWarning: Iterative multi-taper PSD computation did not converge.\n",
      "  return [func(*args, **kwargs)\n"
     ]
    },
    {
     "data": {
      "application/vnd.jupyter.widget-view+json": {
       "model_id": "51d346af73db48dd889d39ff4e44cbc0",
       "version_major": 2,
       "version_minor": 0
      },
      "text/plain": [
       "  0%|          | CSD epoch blocks : 0/1 [00:00<?,       ?it/s]"
      ]
     },
     "metadata": {},
     "output_type": "display_data"
    },
    {
     "name": "stderr",
     "output_type": "stream",
     "text": [
      "[Parallel(n_jobs=-1)]: Using backend LokyBackend with 8 concurrent workers.\n"
     ]
    },
    {
     "name": "stdout",
     "output_type": "stream",
     "text": [
      "[done]\n",
      "    Using multitaper spectrum estimation with 7 DPSS windows\n",
      "Computing cross-spectral density from epochs...\n",
      "Got 8 parallel jobs after requesting -1\n",
      "Using ProgressBar with tqdm.auto\n"
     ]
    },
    {
     "data": {
      "application/vnd.jupyter.widget-view+json": {
       "model_id": "4163adb136f14351a2bc68e27450b607",
       "version_major": 2,
       "version_minor": 0
      },
      "text/plain": [
       "  0%|          | CSD epoch blocks : 0/1 [00:00<?,       ?it/s]"
      ]
     },
     "metadata": {},
     "output_type": "display_data"
    },
    {
     "name": "stderr",
     "output_type": "stream",
     "text": [
      "[Parallel(n_jobs=-1)]: Using backend LokyBackend with 8 concurrent workers.\n"
     ]
    },
    {
     "name": "stdout",
     "output_type": "stream",
     "text": [
      "[done]\n",
      "188\n",
      "    Using multitaper spectrum estimation with 7 DPSS windows\n",
      "Computing cross-spectral density from epochs...\n",
      "Got 8 parallel jobs after requesting -1\n",
      "Using ProgressBar with tqdm.auto\n"
     ]
    },
    {
     "name": "stderr",
     "output_type": "stream",
     "text": [
      "/Users/savochkin/miniconda3/envs/myenv/lib/python3.9/site-packages/joblib/parallel.py:589: RuntimeWarning: Iterative multi-taper PSD computation did not converge.\n",
      "  return [func(*args, **kwargs)\n"
     ]
    },
    {
     "data": {
      "application/vnd.jupyter.widget-view+json": {
       "model_id": "aae87925635046a1b3d45a9561ad816e",
       "version_major": 2,
       "version_minor": 0
      },
      "text/plain": [
       "  0%|          | CSD epoch blocks : 0/1 [00:00<?,       ?it/s]"
      ]
     },
     "metadata": {},
     "output_type": "display_data"
    },
    {
     "name": "stderr",
     "output_type": "stream",
     "text": [
      "[Parallel(n_jobs=-1)]: Using backend LokyBackend with 8 concurrent workers.\n"
     ]
    },
    {
     "name": "stdout",
     "output_type": "stream",
     "text": [
      "[done]\n",
      "    Using multitaper spectrum estimation with 7 DPSS windows\n",
      "Computing cross-spectral density from epochs...\n",
      "Got 8 parallel jobs after requesting -1\n",
      "Using ProgressBar with tqdm.auto\n"
     ]
    },
    {
     "data": {
      "application/vnd.jupyter.widget-view+json": {
       "model_id": "754bcfec1a9d4bd5850c9b414aad7743",
       "version_major": 2,
       "version_minor": 0
      },
      "text/plain": [
       "  0%|          | CSD epoch blocks : 0/1 [00:00<?,       ?it/s]"
      ]
     },
     "metadata": {},
     "output_type": "display_data"
    },
    {
     "name": "stdout",
     "output_type": "stream",
     "text": [
      "[done]\n",
      "189\n",
      "    Using multitaper spectrum estimation with 7 DPSS windows\n",
      "Computing cross-spectral density from epochs...\n",
      "Got 8 parallel jobs after requesting -1\n",
      "Using ProgressBar with tqdm.auto\n"
     ]
    },
    {
     "name": "stderr",
     "output_type": "stream",
     "text": [
      "[Parallel(n_jobs=-1)]: Using backend LokyBackend with 8 concurrent workers.\n",
      "/Users/savochkin/miniconda3/envs/myenv/lib/python3.9/site-packages/joblib/parallel.py:589: RuntimeWarning: Iterative multi-taper PSD computation did not converge.\n",
      "  return [func(*args, **kwargs)\n"
     ]
    },
    {
     "data": {
      "application/vnd.jupyter.widget-view+json": {
       "model_id": "99cc712d0b004e1d8bd165f45b3bfeb7",
       "version_major": 2,
       "version_minor": 0
      },
      "text/plain": [
       "  0%|          | CSD epoch blocks : 0/1 [00:00<?,       ?it/s]"
      ]
     },
     "metadata": {},
     "output_type": "display_data"
    },
    {
     "name": "stderr",
     "output_type": "stream",
     "text": [
      "[Parallel(n_jobs=-1)]: Using backend LokyBackend with 8 concurrent workers.\n"
     ]
    },
    {
     "name": "stdout",
     "output_type": "stream",
     "text": [
      "[done]\n",
      "    Using multitaper spectrum estimation with 7 DPSS windows\n",
      "Computing cross-spectral density from epochs...\n",
      "Got 8 parallel jobs after requesting -1\n",
      "Using ProgressBar with tqdm.auto\n"
     ]
    },
    {
     "data": {
      "application/vnd.jupyter.widget-view+json": {
       "model_id": "5d5eaa44e3b94ad098a4d639d20bd0b4",
       "version_major": 2,
       "version_minor": 0
      },
      "text/plain": [
       "  0%|          | CSD epoch blocks : 0/1 [00:00<?,       ?it/s]"
      ]
     },
     "metadata": {},
     "output_type": "display_data"
    },
    {
     "name": "stderr",
     "output_type": "stream",
     "text": [
      "[Parallel(n_jobs=-1)]: Using backend LokyBackend with 8 concurrent workers.\n"
     ]
    },
    {
     "name": "stdout",
     "output_type": "stream",
     "text": [
      "[done]\n",
      "190\n",
      "    Using multitaper spectrum estimation with 7 DPSS windows\n",
      "Computing cross-spectral density from epochs...\n",
      "Got 8 parallel jobs after requesting -1\n",
      "Using ProgressBar with tqdm.auto\n"
     ]
    },
    {
     "name": "stderr",
     "output_type": "stream",
     "text": [
      "/Users/savochkin/miniconda3/envs/myenv/lib/python3.9/site-packages/joblib/parallel.py:589: RuntimeWarning: Iterative multi-taper PSD computation did not converge.\n",
      "  return [func(*args, **kwargs)\n"
     ]
    },
    {
     "data": {
      "application/vnd.jupyter.widget-view+json": {
       "model_id": "a0dd189a215147c590d270a4d84dcfda",
       "version_major": 2,
       "version_minor": 0
      },
      "text/plain": [
       "  0%|          | CSD epoch blocks : 0/1 [00:00<?,       ?it/s]"
      ]
     },
     "metadata": {},
     "output_type": "display_data"
    },
    {
     "name": "stderr",
     "output_type": "stream",
     "text": [
      "[Parallel(n_jobs=-1)]: Using backend LokyBackend with 8 concurrent workers.\n"
     ]
    },
    {
     "name": "stdout",
     "output_type": "stream",
     "text": [
      "[done]\n",
      "    Using multitaper spectrum estimation with 7 DPSS windows\n",
      "Computing cross-spectral density from epochs...\n",
      "Got 8 parallel jobs after requesting -1\n",
      "Using ProgressBar with tqdm.auto\n"
     ]
    },
    {
     "data": {
      "application/vnd.jupyter.widget-view+json": {
       "model_id": "6af2521276c544c6a329935ee41bfafe",
       "version_major": 2,
       "version_minor": 0
      },
      "text/plain": [
       "  0%|          | CSD epoch blocks : 0/1 [00:00<?,       ?it/s]"
      ]
     },
     "metadata": {},
     "output_type": "display_data"
    },
    {
     "name": "stderr",
     "output_type": "stream",
     "text": [
      "[Parallel(n_jobs=-1)]: Using backend LokyBackend with 8 concurrent workers.\n",
      "/Users/savochkin/miniconda3/envs/myenv/lib/python3.9/site-packages/joblib/parallel.py:589: RuntimeWarning: Iterative multi-taper PSD computation did not converge.\n",
      "  return [func(*args, **kwargs)\n"
     ]
    },
    {
     "name": "stdout",
     "output_type": "stream",
     "text": [
      "[done]\n",
      "191\n",
      "    Using multitaper spectrum estimation with 7 DPSS windows\n",
      "Computing cross-spectral density from epochs...\n",
      "Got 8 parallel jobs after requesting -1\n",
      "Using ProgressBar with tqdm.auto\n"
     ]
    },
    {
     "data": {
      "application/vnd.jupyter.widget-view+json": {
       "model_id": "db119269b2534208ad9db996c42bc6a1",
       "version_major": 2,
       "version_minor": 0
      },
      "text/plain": [
       "  0%|          | CSD epoch blocks : 0/1 [00:00<?,       ?it/s]"
      ]
     },
     "metadata": {},
     "output_type": "display_data"
    },
    {
     "name": "stderr",
     "output_type": "stream",
     "text": [
      "[Parallel(n_jobs=-1)]: Using backend LokyBackend with 8 concurrent workers.\n"
     ]
    },
    {
     "name": "stdout",
     "output_type": "stream",
     "text": [
      "[done]\n",
      "    Using multitaper spectrum estimation with 7 DPSS windows\n",
      "Computing cross-spectral density from epochs...\n",
      "Got 8 parallel jobs after requesting -1\n",
      "Using ProgressBar with tqdm.auto\n"
     ]
    },
    {
     "data": {
      "application/vnd.jupyter.widget-view+json": {
       "model_id": "7ae74f5329bf40548c623ad879af8aa3",
       "version_major": 2,
       "version_minor": 0
      },
      "text/plain": [
       "  0%|          | CSD epoch blocks : 0/1 [00:00<?,       ?it/s]"
      ]
     },
     "metadata": {},
     "output_type": "display_data"
    },
    {
     "name": "stderr",
     "output_type": "stream",
     "text": [
      "[Parallel(n_jobs=-1)]: Using backend LokyBackend with 8 concurrent workers.\n"
     ]
    },
    {
     "name": "stdout",
     "output_type": "stream",
     "text": [
      "[done]\n",
      "192\n",
      "    Using multitaper spectrum estimation with 7 DPSS windows\n",
      "Computing cross-spectral density from epochs...\n",
      "Got 8 parallel jobs after requesting -1\n",
      "Using ProgressBar with tqdm.auto\n"
     ]
    },
    {
     "name": "stderr",
     "output_type": "stream",
     "text": [
      "/Users/savochkin/miniconda3/envs/myenv/lib/python3.9/site-packages/joblib/parallel.py:589: RuntimeWarning: Iterative multi-taper PSD computation did not converge.\n",
      "  return [func(*args, **kwargs)\n"
     ]
    },
    {
     "data": {
      "application/vnd.jupyter.widget-view+json": {
       "model_id": "678d57c12da24f55a89a2ef77a4637ff",
       "version_major": 2,
       "version_minor": 0
      },
      "text/plain": [
       "  0%|          | CSD epoch blocks : 0/1 [00:00<?,       ?it/s]"
      ]
     },
     "metadata": {},
     "output_type": "display_data"
    },
    {
     "name": "stderr",
     "output_type": "stream",
     "text": [
      "[Parallel(n_jobs=-1)]: Using backend LokyBackend with 8 concurrent workers.\n"
     ]
    },
    {
     "name": "stdout",
     "output_type": "stream",
     "text": [
      "[done]\n",
      "    Using multitaper spectrum estimation with 7 DPSS windows\n",
      "Computing cross-spectral density from epochs...\n",
      "Got 8 parallel jobs after requesting -1\n",
      "Using ProgressBar with tqdm.auto\n"
     ]
    },
    {
     "data": {
      "application/vnd.jupyter.widget-view+json": {
       "model_id": "8c98e2b732144b7dacf3ebfb1082e70c",
       "version_major": 2,
       "version_minor": 0
      },
      "text/plain": [
       "  0%|          | CSD epoch blocks : 0/1 [00:00<?,       ?it/s]"
      ]
     },
     "metadata": {},
     "output_type": "display_data"
    },
    {
     "name": "stdout",
     "output_type": "stream",
     "text": [
      "[done]\n",
      "193\n",
      "    Using multitaper spectrum estimation with 7 DPSS windows\n",
      "Computing cross-spectral density from epochs...\n",
      "Got 8 parallel jobs after requesting -1\n",
      "Using ProgressBar with tqdm.auto\n"
     ]
    },
    {
     "name": "stderr",
     "output_type": "stream",
     "text": [
      "[Parallel(n_jobs=-1)]: Using backend LokyBackend with 8 concurrent workers.\n",
      "/Users/savochkin/miniconda3/envs/myenv/lib/python3.9/site-packages/joblib/parallel.py:589: RuntimeWarning: Iterative multi-taper PSD computation did not converge.\n",
      "  return [func(*args, **kwargs)\n"
     ]
    },
    {
     "data": {
      "application/vnd.jupyter.widget-view+json": {
       "model_id": "7d87d8fe71004f7bb10107d0078f56cd",
       "version_major": 2,
       "version_minor": 0
      },
      "text/plain": [
       "  0%|          | CSD epoch blocks : 0/1 [00:00<?,       ?it/s]"
      ]
     },
     "metadata": {},
     "output_type": "display_data"
    },
    {
     "name": "stderr",
     "output_type": "stream",
     "text": [
      "[Parallel(n_jobs=-1)]: Using backend LokyBackend with 8 concurrent workers.\n"
     ]
    },
    {
     "name": "stdout",
     "output_type": "stream",
     "text": [
      "[done]\n",
      "    Using multitaper spectrum estimation with 7 DPSS windows\n",
      "Computing cross-spectral density from epochs...\n",
      "Got 8 parallel jobs after requesting -1\n",
      "Using ProgressBar with tqdm.auto\n"
     ]
    },
    {
     "data": {
      "application/vnd.jupyter.widget-view+json": {
       "model_id": "0e3f436ec9bb45cbb3a7668d3e9b5ed3",
       "version_major": 2,
       "version_minor": 0
      },
      "text/plain": [
       "  0%|          | CSD epoch blocks : 0/1 [00:00<?,       ?it/s]"
      ]
     },
     "metadata": {},
     "output_type": "display_data"
    },
    {
     "name": "stderr",
     "output_type": "stream",
     "text": [
      "[Parallel(n_jobs=-1)]: Using backend LokyBackend with 8 concurrent workers.\n"
     ]
    },
    {
     "name": "stdout",
     "output_type": "stream",
     "text": [
      "[done]\n",
      "194\n",
      "    Using multitaper spectrum estimation with 7 DPSS windows\n",
      "Computing cross-spectral density from epochs...\n",
      "Got 8 parallel jobs after requesting -1\n",
      "Using ProgressBar with tqdm.auto\n"
     ]
    },
    {
     "name": "stderr",
     "output_type": "stream",
     "text": [
      "/Users/savochkin/miniconda3/envs/myenv/lib/python3.9/site-packages/joblib/parallel.py:589: RuntimeWarning: Iterative multi-taper PSD computation did not converge.\n",
      "  return [func(*args, **kwargs)\n"
     ]
    },
    {
     "data": {
      "application/vnd.jupyter.widget-view+json": {
       "model_id": "f7d89656c66d4d5fa7019cf0437eb10f",
       "version_major": 2,
       "version_minor": 0
      },
      "text/plain": [
       "  0%|          | CSD epoch blocks : 0/1 [00:00<?,       ?it/s]"
      ]
     },
     "metadata": {},
     "output_type": "display_data"
    },
    {
     "name": "stderr",
     "output_type": "stream",
     "text": [
      "[Parallel(n_jobs=-1)]: Using backend LokyBackend with 8 concurrent workers.\n"
     ]
    },
    {
     "name": "stdout",
     "output_type": "stream",
     "text": [
      "[done]\n",
      "    Using multitaper spectrum estimation with 7 DPSS windows\n",
      "Computing cross-spectral density from epochs...\n",
      "Got 8 parallel jobs after requesting -1\n",
      "Using ProgressBar with tqdm.auto\n"
     ]
    },
    {
     "data": {
      "application/vnd.jupyter.widget-view+json": {
       "model_id": "ce9dd433b97c43c680e36900380d22eb",
       "version_major": 2,
       "version_minor": 0
      },
      "text/plain": [
       "  0%|          | CSD epoch blocks : 0/1 [00:00<?,       ?it/s]"
      ]
     },
     "metadata": {},
     "output_type": "display_data"
    },
    {
     "name": "stdout",
     "output_type": "stream",
     "text": [
      "[done]\n",
      "195\n",
      "    Using multitaper spectrum estimation with 7 DPSS windows\n",
      "Computing cross-spectral density from epochs...\n",
      "Got 8 parallel jobs after requesting -1\n",
      "Using ProgressBar with tqdm.auto\n"
     ]
    },
    {
     "name": "stderr",
     "output_type": "stream",
     "text": [
      "[Parallel(n_jobs=-1)]: Using backend LokyBackend with 8 concurrent workers.\n",
      "/Users/savochkin/miniconda3/envs/myenv/lib/python3.9/site-packages/joblib/parallel.py:589: RuntimeWarning: Iterative multi-taper PSD computation did not converge.\n",
      "  return [func(*args, **kwargs)\n"
     ]
    },
    {
     "data": {
      "application/vnd.jupyter.widget-view+json": {
       "model_id": "d0ffed544f564ffb98f7096625b63a30",
       "version_major": 2,
       "version_minor": 0
      },
      "text/plain": [
       "  0%|          | CSD epoch blocks : 0/1 [00:00<?,       ?it/s]"
      ]
     },
     "metadata": {},
     "output_type": "display_data"
    },
    {
     "name": "stderr",
     "output_type": "stream",
     "text": [
      "[Parallel(n_jobs=-1)]: Using backend LokyBackend with 8 concurrent workers.\n"
     ]
    },
    {
     "name": "stdout",
     "output_type": "stream",
     "text": [
      "[done]\n",
      "    Using multitaper spectrum estimation with 7 DPSS windows\n",
      "Computing cross-spectral density from epochs...\n",
      "Got 8 parallel jobs after requesting -1\n",
      "Using ProgressBar with tqdm.auto\n"
     ]
    },
    {
     "data": {
      "application/vnd.jupyter.widget-view+json": {
       "model_id": "f58e5c8e604943398e19cdbcd2550b08",
       "version_major": 2,
       "version_minor": 0
      },
      "text/plain": [
       "  0%|          | CSD epoch blocks : 0/1 [00:00<?,       ?it/s]"
      ]
     },
     "metadata": {},
     "output_type": "display_data"
    },
    {
     "name": "stdout",
     "output_type": "stream",
     "text": [
      "[done]\n",
      "196\n",
      "    Using multitaper spectrum estimation with 7 DPSS windows\n",
      "Computing cross-spectral density from epochs...\n",
      "Got 8 parallel jobs after requesting -1\n",
      "Using ProgressBar with tqdm.auto\n"
     ]
    },
    {
     "name": "stderr",
     "output_type": "stream",
     "text": [
      "[Parallel(n_jobs=-1)]: Using backend LokyBackend with 8 concurrent workers.\n",
      "/Users/savochkin/miniconda3/envs/myenv/lib/python3.9/site-packages/joblib/parallel.py:589: RuntimeWarning: Iterative multi-taper PSD computation did not converge.\n",
      "  return [func(*args, **kwargs)\n"
     ]
    },
    {
     "data": {
      "application/vnd.jupyter.widget-view+json": {
       "model_id": "4c91e0c91c4e40babcfad3c620beaa4c",
       "version_major": 2,
       "version_minor": 0
      },
      "text/plain": [
       "  0%|          | CSD epoch blocks : 0/1 [00:00<?,       ?it/s]"
      ]
     },
     "metadata": {},
     "output_type": "display_data"
    },
    {
     "name": "stderr",
     "output_type": "stream",
     "text": [
      "[Parallel(n_jobs=-1)]: Using backend LokyBackend with 8 concurrent workers.\n"
     ]
    },
    {
     "name": "stdout",
     "output_type": "stream",
     "text": [
      "[done]\n",
      "    Using multitaper spectrum estimation with 7 DPSS windows\n",
      "Computing cross-spectral density from epochs...\n",
      "Got 8 parallel jobs after requesting -1\n",
      "Using ProgressBar with tqdm.auto\n"
     ]
    },
    {
     "data": {
      "application/vnd.jupyter.widget-view+json": {
       "model_id": "24a45722ad33493782cf6156b3b22c3c",
       "version_major": 2,
       "version_minor": 0
      },
      "text/plain": [
       "  0%|          | CSD epoch blocks : 0/1 [00:00<?,       ?it/s]"
      ]
     },
     "metadata": {},
     "output_type": "display_data"
    },
    {
     "name": "stdout",
     "output_type": "stream",
     "text": [
      "[done]\n",
      "197\n",
      "    Using multitaper spectrum estimation with 7 DPSS windows\n",
      "Computing cross-spectral density from epochs...\n",
      "Got 8 parallel jobs after requesting -1\n",
      "Using ProgressBar with tqdm.auto\n"
     ]
    },
    {
     "name": "stderr",
     "output_type": "stream",
     "text": [
      "[Parallel(n_jobs=-1)]: Using backend LokyBackend with 8 concurrent workers.\n",
      "/Users/savochkin/miniconda3/envs/myenv/lib/python3.9/site-packages/joblib/parallel.py:589: RuntimeWarning: Iterative multi-taper PSD computation did not converge.\n",
      "  return [func(*args, **kwargs)\n"
     ]
    },
    {
     "data": {
      "application/vnd.jupyter.widget-view+json": {
       "model_id": "f8f6c6ac7f8644cabad4497b9c5095e3",
       "version_major": 2,
       "version_minor": 0
      },
      "text/plain": [
       "  0%|          | CSD epoch blocks : 0/1 [00:00<?,       ?it/s]"
      ]
     },
     "metadata": {},
     "output_type": "display_data"
    },
    {
     "name": "stderr",
     "output_type": "stream",
     "text": [
      "[Parallel(n_jobs=-1)]: Using backend LokyBackend with 8 concurrent workers.\n"
     ]
    },
    {
     "name": "stdout",
     "output_type": "stream",
     "text": [
      "[done]\n",
      "    Using multitaper spectrum estimation with 7 DPSS windows\n",
      "Computing cross-spectral density from epochs...\n",
      "Got 8 parallel jobs after requesting -1\n",
      "Using ProgressBar with tqdm.auto\n"
     ]
    },
    {
     "data": {
      "application/vnd.jupyter.widget-view+json": {
       "model_id": "a1577b628e8c4019843c52975469f306",
       "version_major": 2,
       "version_minor": 0
      },
      "text/plain": [
       "  0%|          | CSD epoch blocks : 0/1 [00:00<?,       ?it/s]"
      ]
     },
     "metadata": {},
     "output_type": "display_data"
    },
    {
     "name": "stderr",
     "output_type": "stream",
     "text": [
      "[Parallel(n_jobs=-1)]: Using backend LokyBackend with 8 concurrent workers.\n",
      "/Users/savochkin/miniconda3/envs/myenv/lib/python3.9/site-packages/joblib/parallel.py:589: RuntimeWarning: Iterative multi-taper PSD computation did not converge.\n",
      "  return [func(*args, **kwargs)\n"
     ]
    },
    {
     "name": "stdout",
     "output_type": "stream",
     "text": [
      "[done]\n",
      "198\n",
      "    Using multitaper spectrum estimation with 7 DPSS windows\n",
      "Computing cross-spectral density from epochs...\n",
      "Got 8 parallel jobs after requesting -1\n",
      "Using ProgressBar with tqdm.auto\n"
     ]
    },
    {
     "data": {
      "application/vnd.jupyter.widget-view+json": {
       "model_id": "36401bf4be014387a3ad6ae9207522e2",
       "version_major": 2,
       "version_minor": 0
      },
      "text/plain": [
       "  0%|          | CSD epoch blocks : 0/1 [00:00<?,       ?it/s]"
      ]
     },
     "metadata": {},
     "output_type": "display_data"
    },
    {
     "name": "stderr",
     "output_type": "stream",
     "text": [
      "[Parallel(n_jobs=-1)]: Using backend LokyBackend with 8 concurrent workers.\n"
     ]
    },
    {
     "name": "stdout",
     "output_type": "stream",
     "text": [
      "[done]\n",
      "    Using multitaper spectrum estimation with 7 DPSS windows\n",
      "Computing cross-spectral density from epochs...\n",
      "Got 8 parallel jobs after requesting -1\n",
      "Using ProgressBar with tqdm.auto\n"
     ]
    },
    {
     "data": {
      "application/vnd.jupyter.widget-view+json": {
       "model_id": "d45455f9c04544e1812e8bd06b891c48",
       "version_major": 2,
       "version_minor": 0
      },
      "text/plain": [
       "  0%|          | CSD epoch blocks : 0/1 [00:00<?,       ?it/s]"
      ]
     },
     "metadata": {},
     "output_type": "display_data"
    },
    {
     "name": "stderr",
     "output_type": "stream",
     "text": [
      "[Parallel(n_jobs=-1)]: Using backend LokyBackend with 8 concurrent workers.\n",
      "/Users/savochkin/miniconda3/envs/myenv/lib/python3.9/site-packages/joblib/parallel.py:589: RuntimeWarning: Iterative multi-taper PSD computation did not converge.\n",
      "  return [func(*args, **kwargs)\n"
     ]
    },
    {
     "name": "stdout",
     "output_type": "stream",
     "text": [
      "[done]\n",
      "199\n",
      "    Using multitaper spectrum estimation with 7 DPSS windows\n",
      "Computing cross-spectral density from epochs...\n",
      "Got 8 parallel jobs after requesting -1\n",
      "Using ProgressBar with tqdm.auto\n"
     ]
    },
    {
     "data": {
      "application/vnd.jupyter.widget-view+json": {
       "model_id": "6e92c17eb50343a7b64b1226ba1792ee",
       "version_major": 2,
       "version_minor": 0
      },
      "text/plain": [
       "  0%|          | CSD epoch blocks : 0/1 [00:00<?,       ?it/s]"
      ]
     },
     "metadata": {},
     "output_type": "display_data"
    },
    {
     "name": "stderr",
     "output_type": "stream",
     "text": [
      "[Parallel(n_jobs=-1)]: Using backend LokyBackend with 8 concurrent workers.\n"
     ]
    },
    {
     "name": "stdout",
     "output_type": "stream",
     "text": [
      "[done]\n",
      "    Using multitaper spectrum estimation with 7 DPSS windows\n",
      "Computing cross-spectral density from epochs...\n",
      "Got 8 parallel jobs after requesting -1\n",
      "Using ProgressBar with tqdm.auto\n"
     ]
    },
    {
     "data": {
      "application/vnd.jupyter.widget-view+json": {
       "model_id": "e0f4f40fbbe14057a3c47cf5980a0ae5",
       "version_major": 2,
       "version_minor": 0
      },
      "text/plain": [
       "  0%|          | CSD epoch blocks : 0/1 [00:00<?,       ?it/s]"
      ]
     },
     "metadata": {},
     "output_type": "display_data"
    },
    {
     "name": "stdout",
     "output_type": "stream",
     "text": [
      "[done]\n",
      "200\n",
      "    Using multitaper spectrum estimation with 7 DPSS windows\n",
      "Computing cross-spectral density from epochs...\n",
      "Got 8 parallel jobs after requesting -1\n",
      "Using ProgressBar with tqdm.auto\n"
     ]
    },
    {
     "name": "stderr",
     "output_type": "stream",
     "text": [
      "[Parallel(n_jobs=-1)]: Using backend LokyBackend with 8 concurrent workers.\n",
      "/Users/savochkin/miniconda3/envs/myenv/lib/python3.9/site-packages/joblib/parallel.py:589: RuntimeWarning: Iterative multi-taper PSD computation did not converge.\n",
      "  return [func(*args, **kwargs)\n"
     ]
    },
    {
     "data": {
      "application/vnd.jupyter.widget-view+json": {
       "model_id": "182273e206b342199c26c9d43e65ef7c",
       "version_major": 2,
       "version_minor": 0
      },
      "text/plain": [
       "  0%|          | CSD epoch blocks : 0/1 [00:00<?,       ?it/s]"
      ]
     },
     "metadata": {},
     "output_type": "display_data"
    },
    {
     "name": "stderr",
     "output_type": "stream",
     "text": [
      "[Parallel(n_jobs=-1)]: Using backend LokyBackend with 8 concurrent workers.\n"
     ]
    },
    {
     "name": "stdout",
     "output_type": "stream",
     "text": [
      "[done]\n",
      "    Using multitaper spectrum estimation with 7 DPSS windows\n",
      "Computing cross-spectral density from epochs...\n",
      "Got 8 parallel jobs after requesting -1\n",
      "Using ProgressBar with tqdm.auto\n"
     ]
    },
    {
     "data": {
      "application/vnd.jupyter.widget-view+json": {
       "model_id": "0e1b98027aae470abae519114af572c3",
       "version_major": 2,
       "version_minor": 0
      },
      "text/plain": [
       "  0%|          | CSD epoch blocks : 0/1 [00:00<?,       ?it/s]"
      ]
     },
     "metadata": {},
     "output_type": "display_data"
    },
    {
     "name": "stderr",
     "output_type": "stream",
     "text": [
      "[Parallel(n_jobs=-1)]: Using backend LokyBackend with 8 concurrent workers.\n"
     ]
    },
    {
     "name": "stdout",
     "output_type": "stream",
     "text": [
      "[done]\n",
      "201\n",
      "    Using multitaper spectrum estimation with 7 DPSS windows\n",
      "Computing cross-spectral density from epochs...\n",
      "Got 8 parallel jobs after requesting -1\n",
      "Using ProgressBar with tqdm.auto\n"
     ]
    },
    {
     "name": "stderr",
     "output_type": "stream",
     "text": [
      "/Users/savochkin/miniconda3/envs/myenv/lib/python3.9/site-packages/joblib/parallel.py:589: RuntimeWarning: Iterative multi-taper PSD computation did not converge.\n",
      "  return [func(*args, **kwargs)\n"
     ]
    },
    {
     "data": {
      "application/vnd.jupyter.widget-view+json": {
       "model_id": "00ba7b72c9c1450683feac20556710f4",
       "version_major": 2,
       "version_minor": 0
      },
      "text/plain": [
       "  0%|          | CSD epoch blocks : 0/1 [00:00<?,       ?it/s]"
      ]
     },
     "metadata": {},
     "output_type": "display_data"
    },
    {
     "name": "stderr",
     "output_type": "stream",
     "text": [
      "[Parallel(n_jobs=-1)]: Using backend LokyBackend with 8 concurrent workers.\n"
     ]
    },
    {
     "name": "stdout",
     "output_type": "stream",
     "text": [
      "[done]\n",
      "    Using multitaper spectrum estimation with 7 DPSS windows\n",
      "Computing cross-spectral density from epochs...\n",
      "Got 8 parallel jobs after requesting -1\n",
      "Using ProgressBar with tqdm.auto\n"
     ]
    },
    {
     "data": {
      "application/vnd.jupyter.widget-view+json": {
       "model_id": "a5d45373c13a4f85875746d0567e4aee",
       "version_major": 2,
       "version_minor": 0
      },
      "text/plain": [
       "  0%|          | CSD epoch blocks : 0/1 [00:00<?,       ?it/s]"
      ]
     },
     "metadata": {},
     "output_type": "display_data"
    },
    {
     "name": "stderr",
     "output_type": "stream",
     "text": [
      "[Parallel(n_jobs=-1)]: Using backend LokyBackend with 8 concurrent workers.\n"
     ]
    },
    {
     "name": "stdout",
     "output_type": "stream",
     "text": [
      "[done]\n",
      "202\n",
      "    Using multitaper spectrum estimation with 7 DPSS windows\n",
      "Computing cross-spectral density from epochs...\n",
      "Got 8 parallel jobs after requesting -1\n",
      "Using ProgressBar with tqdm.auto\n"
     ]
    },
    {
     "name": "stderr",
     "output_type": "stream",
     "text": [
      "/Users/savochkin/miniconda3/envs/myenv/lib/python3.9/site-packages/joblib/parallel.py:589: RuntimeWarning: Iterative multi-taper PSD computation did not converge.\n",
      "  return [func(*args, **kwargs)\n"
     ]
    },
    {
     "data": {
      "application/vnd.jupyter.widget-view+json": {
       "model_id": "084108b9996b40ceab669c7af85cca65",
       "version_major": 2,
       "version_minor": 0
      },
      "text/plain": [
       "  0%|          | CSD epoch blocks : 0/1 [00:00<?,       ?it/s]"
      ]
     },
     "metadata": {},
     "output_type": "display_data"
    },
    {
     "name": "stderr",
     "output_type": "stream",
     "text": [
      "[Parallel(n_jobs=-1)]: Using backend LokyBackend with 8 concurrent workers.\n"
     ]
    },
    {
     "name": "stdout",
     "output_type": "stream",
     "text": [
      "[done]\n",
      "    Using multitaper spectrum estimation with 7 DPSS windows\n",
      "Computing cross-spectral density from epochs...\n",
      "Got 8 parallel jobs after requesting -1\n",
      "Using ProgressBar with tqdm.auto\n"
     ]
    },
    {
     "data": {
      "application/vnd.jupyter.widget-view+json": {
       "model_id": "47099ef493d9487387ca3f01bea199c4",
       "version_major": 2,
       "version_minor": 0
      },
      "text/plain": [
       "  0%|          | CSD epoch blocks : 0/1 [00:00<?,       ?it/s]"
      ]
     },
     "metadata": {},
     "output_type": "display_data"
    },
    {
     "name": "stdout",
     "output_type": "stream",
     "text": [
      "[done]\n",
      "203\n",
      "    Using multitaper spectrum estimation with 7 DPSS windows\n",
      "Computing cross-spectral density from epochs...\n",
      "Got 8 parallel jobs after requesting -1\n",
      "Using ProgressBar with tqdm.auto\n"
     ]
    },
    {
     "name": "stderr",
     "output_type": "stream",
     "text": [
      "[Parallel(n_jobs=-1)]: Using backend LokyBackend with 8 concurrent workers.\n",
      "/Users/savochkin/miniconda3/envs/myenv/lib/python3.9/site-packages/joblib/parallel.py:589: RuntimeWarning: Iterative multi-taper PSD computation did not converge.\n",
      "  return [func(*args, **kwargs)\n"
     ]
    },
    {
     "data": {
      "application/vnd.jupyter.widget-view+json": {
       "model_id": "25e754c4683645489fc46ab5e3c5d9fd",
       "version_major": 2,
       "version_minor": 0
      },
      "text/plain": [
       "  0%|          | CSD epoch blocks : 0/1 [00:00<?,       ?it/s]"
      ]
     },
     "metadata": {},
     "output_type": "display_data"
    },
    {
     "name": "stderr",
     "output_type": "stream",
     "text": [
      "[Parallel(n_jobs=-1)]: Using backend LokyBackend with 8 concurrent workers.\n"
     ]
    },
    {
     "name": "stdout",
     "output_type": "stream",
     "text": [
      "[done]\n",
      "    Using multitaper spectrum estimation with 7 DPSS windows\n",
      "Computing cross-spectral density from epochs...\n",
      "Got 8 parallel jobs after requesting -1\n",
      "Using ProgressBar with tqdm.auto\n"
     ]
    },
    {
     "data": {
      "application/vnd.jupyter.widget-view+json": {
       "model_id": "b3ba276e83964658bcaece2fc606027b",
       "version_major": 2,
       "version_minor": 0
      },
      "text/plain": [
       "  0%|          | CSD epoch blocks : 0/1 [00:00<?,       ?it/s]"
      ]
     },
     "metadata": {},
     "output_type": "display_data"
    },
    {
     "name": "stdout",
     "output_type": "stream",
     "text": [
      "[done]\n",
      "204\n",
      "    Using multitaper spectrum estimation with 7 DPSS windows\n",
      "Computing cross-spectral density from epochs...\n",
      "Got 8 parallel jobs after requesting -1\n",
      "Using ProgressBar with tqdm.auto\n"
     ]
    },
    {
     "name": "stderr",
     "output_type": "stream",
     "text": [
      "[Parallel(n_jobs=-1)]: Using backend LokyBackend with 8 concurrent workers.\n",
      "/Users/savochkin/miniconda3/envs/myenv/lib/python3.9/site-packages/joblib/parallel.py:589: RuntimeWarning: Iterative multi-taper PSD computation did not converge.\n",
      "  return [func(*args, **kwargs)\n"
     ]
    },
    {
     "data": {
      "application/vnd.jupyter.widget-view+json": {
       "model_id": "1a3e296bd44d47e4a7d1efc1ffb4d677",
       "version_major": 2,
       "version_minor": 0
      },
      "text/plain": [
       "  0%|          | CSD epoch blocks : 0/1 [00:00<?,       ?it/s]"
      ]
     },
     "metadata": {},
     "output_type": "display_data"
    },
    {
     "name": "stderr",
     "output_type": "stream",
     "text": [
      "[Parallel(n_jobs=-1)]: Using backend LokyBackend with 8 concurrent workers.\n"
     ]
    },
    {
     "name": "stdout",
     "output_type": "stream",
     "text": [
      "[done]\n",
      "    Using multitaper spectrum estimation with 7 DPSS windows\n",
      "Computing cross-spectral density from epochs...\n",
      "Got 8 parallel jobs after requesting -1\n",
      "Using ProgressBar with tqdm.auto\n"
     ]
    },
    {
     "data": {
      "application/vnd.jupyter.widget-view+json": {
       "model_id": "d3754de0cba043c6803ef6be5ec08275",
       "version_major": 2,
       "version_minor": 0
      },
      "text/plain": [
       "  0%|          | CSD epoch blocks : 0/1 [00:00<?,       ?it/s]"
      ]
     },
     "metadata": {},
     "output_type": "display_data"
    },
    {
     "name": "stdout",
     "output_type": "stream",
     "text": [
      "[done]\n",
      "205\n",
      "    Using multitaper spectrum estimation with 7 DPSS windows\n",
      "Computing cross-spectral density from epochs...\n",
      "Got 8 parallel jobs after requesting -1\n",
      "Using ProgressBar with tqdm.auto\n"
     ]
    },
    {
     "name": "stderr",
     "output_type": "stream",
     "text": [
      "[Parallel(n_jobs=-1)]: Using backend LokyBackend with 8 concurrent workers.\n",
      "/Users/savochkin/miniconda3/envs/myenv/lib/python3.9/site-packages/joblib/parallel.py:589: RuntimeWarning: Iterative multi-taper PSD computation did not converge.\n",
      "  return [func(*args, **kwargs)\n"
     ]
    },
    {
     "data": {
      "application/vnd.jupyter.widget-view+json": {
       "model_id": "b5b35a5f04834e6487bc1464d6056afe",
       "version_major": 2,
       "version_minor": 0
      },
      "text/plain": [
       "  0%|          | CSD epoch blocks : 0/1 [00:00<?,       ?it/s]"
      ]
     },
     "metadata": {},
     "output_type": "display_data"
    },
    {
     "name": "stderr",
     "output_type": "stream",
     "text": [
      "[Parallel(n_jobs=-1)]: Using backend LokyBackend with 8 concurrent workers.\n"
     ]
    },
    {
     "name": "stdout",
     "output_type": "stream",
     "text": [
      "[done]\n",
      "    Using multitaper spectrum estimation with 7 DPSS windows\n",
      "Computing cross-spectral density from epochs...\n",
      "Got 8 parallel jobs after requesting -1\n",
      "Using ProgressBar with tqdm.auto\n"
     ]
    },
    {
     "data": {
      "application/vnd.jupyter.widget-view+json": {
       "model_id": "06870cc0e9eb4d9c906d0e7cc6e152f5",
       "version_major": 2,
       "version_minor": 0
      },
      "text/plain": [
       "  0%|          | CSD epoch blocks : 0/1 [00:00<?,       ?it/s]"
      ]
     },
     "metadata": {},
     "output_type": "display_data"
    },
    {
     "name": "stdout",
     "output_type": "stream",
     "text": [
      "[done]\n",
      "206\n",
      "    Using multitaper spectrum estimation with 7 DPSS windows\n",
      "Computing cross-spectral density from epochs...\n",
      "Got 8 parallel jobs after requesting -1\n",
      "Using ProgressBar with tqdm.auto\n"
     ]
    },
    {
     "name": "stderr",
     "output_type": "stream",
     "text": [
      "[Parallel(n_jobs=-1)]: Using backend LokyBackend with 8 concurrent workers.\n",
      "/Users/savochkin/miniconda3/envs/myenv/lib/python3.9/site-packages/joblib/parallel.py:589: RuntimeWarning: Iterative multi-taper PSD computation did not converge.\n",
      "  return [func(*args, **kwargs)\n"
     ]
    },
    {
     "data": {
      "application/vnd.jupyter.widget-view+json": {
       "model_id": "d7e245fd7a1a4dd8bf2b8e7a35ae1a18",
       "version_major": 2,
       "version_minor": 0
      },
      "text/plain": [
       "  0%|          | CSD epoch blocks : 0/1 [00:00<?,       ?it/s]"
      ]
     },
     "metadata": {},
     "output_type": "display_data"
    },
    {
     "name": "stderr",
     "output_type": "stream",
     "text": [
      "[Parallel(n_jobs=-1)]: Using backend LokyBackend with 8 concurrent workers.\n"
     ]
    },
    {
     "name": "stdout",
     "output_type": "stream",
     "text": [
      "[done]\n",
      "    Using multitaper spectrum estimation with 7 DPSS windows\n",
      "Computing cross-spectral density from epochs...\n",
      "Got 8 parallel jobs after requesting -1\n",
      "Using ProgressBar with tqdm.auto\n"
     ]
    },
    {
     "data": {
      "application/vnd.jupyter.widget-view+json": {
       "model_id": "2367333de08d4194b2122ae6daddee40",
       "version_major": 2,
       "version_minor": 0
      },
      "text/plain": [
       "  0%|          | CSD epoch blocks : 0/1 [00:00<?,       ?it/s]"
      ]
     },
     "metadata": {},
     "output_type": "display_data"
    },
    {
     "name": "stderr",
     "output_type": "stream",
     "text": [
      "[Parallel(n_jobs=-1)]: Using backend LokyBackend with 8 concurrent workers.\n"
     ]
    },
    {
     "name": "stdout",
     "output_type": "stream",
     "text": [
      "[done]\n",
      "207\n",
      "    Using multitaper spectrum estimation with 7 DPSS windows\n",
      "Computing cross-spectral density from epochs...\n",
      "Got 8 parallel jobs after requesting -1\n",
      "Using ProgressBar with tqdm.auto\n"
     ]
    },
    {
     "name": "stderr",
     "output_type": "stream",
     "text": [
      "/Users/savochkin/miniconda3/envs/myenv/lib/python3.9/site-packages/joblib/parallel.py:589: RuntimeWarning: Iterative multi-taper PSD computation did not converge.\n",
      "  return [func(*args, **kwargs)\n"
     ]
    },
    {
     "data": {
      "application/vnd.jupyter.widget-view+json": {
       "model_id": "c90b43cffd1a45de80296267485d5a5f",
       "version_major": 2,
       "version_minor": 0
      },
      "text/plain": [
       "  0%|          | CSD epoch blocks : 0/1 [00:00<?,       ?it/s]"
      ]
     },
     "metadata": {},
     "output_type": "display_data"
    },
    {
     "name": "stdout",
     "output_type": "stream",
     "text": [
      "[done]\n"
     ]
    },
    {
     "name": "stderr",
     "output_type": "stream",
     "text": [
      "[Parallel(n_jobs=-1)]: Using backend LokyBackend with 8 concurrent workers.\n"
     ]
    },
    {
     "name": "stdout",
     "output_type": "stream",
     "text": [
      "    Using multitaper spectrum estimation with 7 DPSS windows\n",
      "Computing cross-spectral density from epochs...\n",
      "Got 8 parallel jobs after requesting -1\n",
      "Using ProgressBar with tqdm.auto\n"
     ]
    },
    {
     "data": {
      "application/vnd.jupyter.widget-view+json": {
       "model_id": "88910c863cd3485cb36cca80afa3afe0",
       "version_major": 2,
       "version_minor": 0
      },
      "text/plain": [
       "  0%|          | CSD epoch blocks : 0/1 [00:00<?,       ?it/s]"
      ]
     },
     "metadata": {},
     "output_type": "display_data"
    },
    {
     "name": "stderr",
     "output_type": "stream",
     "text": [
      "[Parallel(n_jobs=-1)]: Using backend LokyBackend with 8 concurrent workers.\n",
      "/Users/savochkin/miniconda3/envs/myenv/lib/python3.9/site-packages/joblib/parallel.py:589: RuntimeWarning: Iterative multi-taper PSD computation did not converge.\n",
      "  return [func(*args, **kwargs)\n"
     ]
    },
    {
     "name": "stdout",
     "output_type": "stream",
     "text": [
      "[done]\n",
      "208\n",
      "    Using multitaper spectrum estimation with 7 DPSS windows\n",
      "Computing cross-spectral density from epochs...\n",
      "Got 8 parallel jobs after requesting -1\n",
      "Using ProgressBar with tqdm.auto\n"
     ]
    },
    {
     "data": {
      "application/vnd.jupyter.widget-view+json": {
       "model_id": "c7fcb2d212754f6da22a2a438e8031a7",
       "version_major": 2,
       "version_minor": 0
      },
      "text/plain": [
       "  0%|          | CSD epoch blocks : 0/1 [00:00<?,       ?it/s]"
      ]
     },
     "metadata": {},
     "output_type": "display_data"
    },
    {
     "name": "stderr",
     "output_type": "stream",
     "text": [
      "[Parallel(n_jobs=-1)]: Using backend LokyBackend with 8 concurrent workers.\n"
     ]
    },
    {
     "name": "stdout",
     "output_type": "stream",
     "text": [
      "[done]\n",
      "    Using multitaper spectrum estimation with 7 DPSS windows\n",
      "Computing cross-spectral density from epochs...\n",
      "Got 8 parallel jobs after requesting -1\n",
      "Using ProgressBar with tqdm.auto\n"
     ]
    },
    {
     "data": {
      "application/vnd.jupyter.widget-view+json": {
       "model_id": "6225788093414fa1bb75ed25b5e673aa",
       "version_major": 2,
       "version_minor": 0
      },
      "text/plain": [
       "  0%|          | CSD epoch blocks : 0/1 [00:00<?,       ?it/s]"
      ]
     },
     "metadata": {},
     "output_type": "display_data"
    },
    {
     "name": "stderr",
     "output_type": "stream",
     "text": [
      "[Parallel(n_jobs=-1)]: Using backend LokyBackend with 8 concurrent workers.\n"
     ]
    },
    {
     "name": "stdout",
     "output_type": "stream",
     "text": [
      "[done]\n",
      "209\n",
      "    Using multitaper spectrum estimation with 7 DPSS windows\n",
      "Computing cross-spectral density from epochs...\n",
      "Got 8 parallel jobs after requesting -1\n",
      "Using ProgressBar with tqdm.auto\n"
     ]
    },
    {
     "name": "stderr",
     "output_type": "stream",
     "text": [
      "/Users/savochkin/miniconda3/envs/myenv/lib/python3.9/site-packages/joblib/parallel.py:589: RuntimeWarning: Iterative multi-taper PSD computation did not converge.\n",
      "  return [func(*args, **kwargs)\n"
     ]
    },
    {
     "data": {
      "application/vnd.jupyter.widget-view+json": {
       "model_id": "0bf501d883774024b7f7adf5439f63db",
       "version_major": 2,
       "version_minor": 0
      },
      "text/plain": [
       "  0%|          | CSD epoch blocks : 0/1 [00:00<?,       ?it/s]"
      ]
     },
     "metadata": {},
     "output_type": "display_data"
    },
    {
     "name": "stderr",
     "output_type": "stream",
     "text": [
      "[Parallel(n_jobs=-1)]: Using backend LokyBackend with 8 concurrent workers.\n"
     ]
    },
    {
     "name": "stdout",
     "output_type": "stream",
     "text": [
      "[done]\n",
      "    Using multitaper spectrum estimation with 7 DPSS windows\n",
      "Computing cross-spectral density from epochs...\n",
      "Got 8 parallel jobs after requesting -1\n",
      "Using ProgressBar with tqdm.auto\n"
     ]
    },
    {
     "data": {
      "application/vnd.jupyter.widget-view+json": {
       "model_id": "81ba2abf359644eba4b6b15849ca6624",
       "version_major": 2,
       "version_minor": 0
      },
      "text/plain": [
       "  0%|          | CSD epoch blocks : 0/1 [00:00<?,       ?it/s]"
      ]
     },
     "metadata": {},
     "output_type": "display_data"
    },
    {
     "name": "stderr",
     "output_type": "stream",
     "text": [
      "[Parallel(n_jobs=-1)]: Using backend LokyBackend with 8 concurrent workers.\n",
      "/Users/savochkin/miniconda3/envs/myenv/lib/python3.9/site-packages/joblib/parallel.py:589: RuntimeWarning: Iterative multi-taper PSD computation did not converge.\n",
      "  return [func(*args, **kwargs)\n"
     ]
    },
    {
     "name": "stdout",
     "output_type": "stream",
     "text": [
      "[done]\n",
      "210\n",
      "    Using multitaper spectrum estimation with 7 DPSS windows\n",
      "Computing cross-spectral density from epochs...\n",
      "Got 8 parallel jobs after requesting -1\n",
      "Using ProgressBar with tqdm.auto\n"
     ]
    },
    {
     "data": {
      "application/vnd.jupyter.widget-view+json": {
       "model_id": "bcc92b73325a45a495a5096d7d1d9002",
       "version_major": 2,
       "version_minor": 0
      },
      "text/plain": [
       "  0%|          | CSD epoch blocks : 0/1 [00:00<?,       ?it/s]"
      ]
     },
     "metadata": {},
     "output_type": "display_data"
    },
    {
     "name": "stderr",
     "output_type": "stream",
     "text": [
      "[Parallel(n_jobs=-1)]: Using backend LokyBackend with 8 concurrent workers.\n"
     ]
    },
    {
     "name": "stdout",
     "output_type": "stream",
     "text": [
      "[done]\n",
      "    Using multitaper spectrum estimation with 7 DPSS windows\n",
      "Computing cross-spectral density from epochs...\n",
      "Got 8 parallel jobs after requesting -1\n",
      "Using ProgressBar with tqdm.auto\n"
     ]
    },
    {
     "data": {
      "application/vnd.jupyter.widget-view+json": {
       "model_id": "b7abfa7fbff841e0ae87e592b6b5021c",
       "version_major": 2,
       "version_minor": 0
      },
      "text/plain": [
       "  0%|          | CSD epoch blocks : 0/1 [00:00<?,       ?it/s]"
      ]
     },
     "metadata": {},
     "output_type": "display_data"
    },
    {
     "name": "stderr",
     "output_type": "stream",
     "text": [
      "[Parallel(n_jobs=-1)]: Using backend LokyBackend with 8 concurrent workers.\n",
      "/Users/savochkin/miniconda3/envs/myenv/lib/python3.9/site-packages/joblib/parallel.py:589: RuntimeWarning: Iterative multi-taper PSD computation did not converge.\n",
      "  return [func(*args, **kwargs)\n"
     ]
    },
    {
     "name": "stdout",
     "output_type": "stream",
     "text": [
      "[done]\n",
      "211\n",
      "    Using multitaper spectrum estimation with 7 DPSS windows\n",
      "Computing cross-spectral density from epochs...\n",
      "Got 8 parallel jobs after requesting -1\n",
      "Using ProgressBar with tqdm.auto\n"
     ]
    },
    {
     "data": {
      "application/vnd.jupyter.widget-view+json": {
       "model_id": "8c13c7d933c5487c834c77e4a4fe93cf",
       "version_major": 2,
       "version_minor": 0
      },
      "text/plain": [
       "  0%|          | CSD epoch blocks : 0/1 [00:00<?,       ?it/s]"
      ]
     },
     "metadata": {},
     "output_type": "display_data"
    },
    {
     "name": "stdout",
     "output_type": "stream",
     "text": [
      "[done]\n",
      "    Using multitaper spectrum estimation with 7 DPSS windows\n",
      "Computing cross-spectral density from epochs...\n",
      "Got 8 parallel jobs after requesting -1\n",
      "Using ProgressBar with tqdm.auto\n"
     ]
    },
    {
     "name": "stderr",
     "output_type": "stream",
     "text": [
      "[Parallel(n_jobs=-1)]: Using backend LokyBackend with 8 concurrent workers.\n"
     ]
    },
    {
     "data": {
      "application/vnd.jupyter.widget-view+json": {
       "model_id": "5b58b469f45b462090dfa36fcdba7738",
       "version_major": 2,
       "version_minor": 0
      },
      "text/plain": [
       "  0%|          | CSD epoch blocks : 0/1 [00:00<?,       ?it/s]"
      ]
     },
     "metadata": {},
     "output_type": "display_data"
    },
    {
     "name": "stderr",
     "output_type": "stream",
     "text": [
      "[Parallel(n_jobs=-1)]: Using backend LokyBackend with 8 concurrent workers.\n"
     ]
    },
    {
     "name": "stdout",
     "output_type": "stream",
     "text": [
      "[done]\n"
     ]
    },
    {
     "name": "stderr",
     "output_type": "stream",
     "text": [
      "/Users/savochkin/miniconda3/envs/myenv/lib/python3.9/site-packages/joblib/parallel.py:589: RuntimeWarning: Iterative multi-taper PSD computation did not converge.\n",
      "  return [func(*args, **kwargs)\n"
     ]
    },
    {
     "name": "stdout",
     "output_type": "stream",
     "text": [
      "212\n",
      "    Using multitaper spectrum estimation with 7 DPSS windows\n",
      "Computing cross-spectral density from epochs...\n",
      "Got 8 parallel jobs after requesting -1\n",
      "Using ProgressBar with tqdm.auto\n"
     ]
    },
    {
     "data": {
      "application/vnd.jupyter.widget-view+json": {
       "model_id": "8802f99cf8de47cc8e431aa567fbc4c2",
       "version_major": 2,
       "version_minor": 0
      },
      "text/plain": [
       "  0%|          | CSD epoch blocks : 0/1 [00:00<?,       ?it/s]"
      ]
     },
     "metadata": {},
     "output_type": "display_data"
    },
    {
     "name": "stdout",
     "output_type": "stream",
     "text": [
      "[done]\n"
     ]
    },
    {
     "name": "stderr",
     "output_type": "stream",
     "text": [
      "[Parallel(n_jobs=-1)]: Using backend LokyBackend with 8 concurrent workers.\n"
     ]
    },
    {
     "name": "stdout",
     "output_type": "stream",
     "text": [
      "    Using multitaper spectrum estimation with 7 DPSS windows\n",
      "Computing cross-spectral density from epochs...\n",
      "Got 8 parallel jobs after requesting -1\n",
      "Using ProgressBar with tqdm.auto\n"
     ]
    },
    {
     "data": {
      "application/vnd.jupyter.widget-view+json": {
       "model_id": "06f86a614939469d9b96163ee6cd7b99",
       "version_major": 2,
       "version_minor": 0
      },
      "text/plain": [
       "  0%|          | CSD epoch blocks : 0/1 [00:00<?,       ?it/s]"
      ]
     },
     "metadata": {},
     "output_type": "display_data"
    },
    {
     "name": "stdout",
     "output_type": "stream",
     "text": [
      "[done]\n"
     ]
    },
    {
     "name": "stderr",
     "output_type": "stream",
     "text": [
      "[Parallel(n_jobs=-1)]: Using backend LokyBackend with 8 concurrent workers.\n",
      "/Users/savochkin/miniconda3/envs/myenv/lib/python3.9/site-packages/joblib/parallel.py:589: RuntimeWarning: Iterative multi-taper PSD computation did not converge.\n",
      "  return [func(*args, **kwargs)\n"
     ]
    },
    {
     "name": "stdout",
     "output_type": "stream",
     "text": [
      "213\n",
      "    Using multitaper spectrum estimation with 7 DPSS windows\n",
      "Computing cross-spectral density from epochs...\n",
      "Got 8 parallel jobs after requesting -1\n",
      "Using ProgressBar with tqdm.auto\n"
     ]
    },
    {
     "data": {
      "application/vnd.jupyter.widget-view+json": {
       "model_id": "9edc496553074d74a5762c4ae127b21a",
       "version_major": 2,
       "version_minor": 0
      },
      "text/plain": [
       "  0%|          | CSD epoch blocks : 0/1 [00:00<?,       ?it/s]"
      ]
     },
     "metadata": {},
     "output_type": "display_data"
    },
    {
     "name": "stdout",
     "output_type": "stream",
     "text": [
      "[done]\n"
     ]
    },
    {
     "name": "stderr",
     "output_type": "stream",
     "text": [
      "[Parallel(n_jobs=-1)]: Using backend LokyBackend with 8 concurrent workers.\n"
     ]
    },
    {
     "name": "stdout",
     "output_type": "stream",
     "text": [
      "    Using multitaper spectrum estimation with 7 DPSS windows\n",
      "Computing cross-spectral density from epochs...\n",
      "Got 8 parallel jobs after requesting -1\n",
      "Using ProgressBar with tqdm.auto\n"
     ]
    },
    {
     "data": {
      "application/vnd.jupyter.widget-view+json": {
       "model_id": "cce64da0e3fa4e25bb021cd8bf8c97ec",
       "version_major": 2,
       "version_minor": 0
      },
      "text/plain": [
       "  0%|          | CSD epoch blocks : 0/1 [00:00<?,       ?it/s]"
      ]
     },
     "metadata": {},
     "output_type": "display_data"
    },
    {
     "name": "stdout",
     "output_type": "stream",
     "text": [
      "[done]\n"
     ]
    },
    {
     "name": "stderr",
     "output_type": "stream",
     "text": [
      "[Parallel(n_jobs=-1)]: Using backend LokyBackend with 8 concurrent workers.\n",
      "/Users/savochkin/miniconda3/envs/myenv/lib/python3.9/site-packages/joblib/parallel.py:589: RuntimeWarning: Iterative multi-taper PSD computation did not converge.\n",
      "  return [func(*args, **kwargs)\n"
     ]
    },
    {
     "name": "stdout",
     "output_type": "stream",
     "text": [
      "214\n",
      "    Using multitaper spectrum estimation with 7 DPSS windows\n",
      "Computing cross-spectral density from epochs...\n",
      "Got 8 parallel jobs after requesting -1\n",
      "Using ProgressBar with tqdm.auto\n"
     ]
    },
    {
     "data": {
      "application/vnd.jupyter.widget-view+json": {
       "model_id": "2c532d88a7a6471c977473b8d30444e4",
       "version_major": 2,
       "version_minor": 0
      },
      "text/plain": [
       "  0%|          | CSD epoch blocks : 0/1 [00:00<?,       ?it/s]"
      ]
     },
     "metadata": {},
     "output_type": "display_data"
    },
    {
     "name": "stdout",
     "output_type": "stream",
     "text": [
      "[done]\n"
     ]
    },
    {
     "name": "stderr",
     "output_type": "stream",
     "text": [
      "[Parallel(n_jobs=-1)]: Using backend LokyBackend with 8 concurrent workers.\n"
     ]
    },
    {
     "name": "stdout",
     "output_type": "stream",
     "text": [
      "    Using multitaper spectrum estimation with 7 DPSS windows\n",
      "Computing cross-spectral density from epochs...\n",
      "Got 8 parallel jobs after requesting -1\n",
      "Using ProgressBar with tqdm.auto\n"
     ]
    },
    {
     "data": {
      "application/vnd.jupyter.widget-view+json": {
       "model_id": "748c5466f23442ee816e788a9fb646f6",
       "version_major": 2,
       "version_minor": 0
      },
      "text/plain": [
       "  0%|          | CSD epoch blocks : 0/1 [00:00<?,       ?it/s]"
      ]
     },
     "metadata": {},
     "output_type": "display_data"
    },
    {
     "name": "stderr",
     "output_type": "stream",
     "text": [
      "[Parallel(n_jobs=-1)]: Using backend LokyBackend with 8 concurrent workers.\n"
     ]
    },
    {
     "name": "stdout",
     "output_type": "stream",
     "text": [
      "[done]\n"
     ]
    },
    {
     "name": "stderr",
     "output_type": "stream",
     "text": [
      "/Users/savochkin/miniconda3/envs/myenv/lib/python3.9/site-packages/joblib/parallel.py:589: RuntimeWarning: Iterative multi-taper PSD computation did not converge.\n",
      "  return [func(*args, **kwargs)\n"
     ]
    },
    {
     "name": "stdout",
     "output_type": "stream",
     "text": [
      "215\n",
      "    Using multitaper spectrum estimation with 7 DPSS windows\n",
      "Computing cross-spectral density from epochs...\n",
      "Got 8 parallel jobs after requesting -1\n",
      "Using ProgressBar with tqdm.auto\n"
     ]
    },
    {
     "data": {
      "application/vnd.jupyter.widget-view+json": {
       "model_id": "23ecfa43ecf74267ad8a3352121fe8c3",
       "version_major": 2,
       "version_minor": 0
      },
      "text/plain": [
       "  0%|          | CSD epoch blocks : 0/1 [00:00<?,       ?it/s]"
      ]
     },
     "metadata": {},
     "output_type": "display_data"
    },
    {
     "name": "stdout",
     "output_type": "stream",
     "text": [
      "[done]\n"
     ]
    },
    {
     "name": "stderr",
     "output_type": "stream",
     "text": [
      "[Parallel(n_jobs=-1)]: Using backend LokyBackend with 8 concurrent workers.\n"
     ]
    },
    {
     "name": "stdout",
     "output_type": "stream",
     "text": [
      "    Using multitaper spectrum estimation with 7 DPSS windows\n",
      "Computing cross-spectral density from epochs...\n",
      "Got 8 parallel jobs after requesting -1\n",
      "Using ProgressBar with tqdm.auto\n"
     ]
    },
    {
     "data": {
      "application/vnd.jupyter.widget-view+json": {
       "model_id": "128779e854c5404d9e9451697f36d406",
       "version_major": 2,
       "version_minor": 0
      },
      "text/plain": [
       "  0%|          | CSD epoch blocks : 0/1 [00:00<?,       ?it/s]"
      ]
     },
     "metadata": {},
     "output_type": "display_data"
    },
    {
     "name": "stdout",
     "output_type": "stream",
     "text": [
      "[done]\n"
     ]
    },
    {
     "name": "stderr",
     "output_type": "stream",
     "text": [
      "[Parallel(n_jobs=-1)]: Using backend LokyBackend with 8 concurrent workers.\n",
      "/Users/savochkin/miniconda3/envs/myenv/lib/python3.9/site-packages/joblib/parallel.py:589: RuntimeWarning: Iterative multi-taper PSD computation did not converge.\n",
      "  return [func(*args, **kwargs)\n"
     ]
    },
    {
     "name": "stdout",
     "output_type": "stream",
     "text": [
      "216\n",
      "    Using multitaper spectrum estimation with 7 DPSS windows\n",
      "Computing cross-spectral density from epochs...\n",
      "Got 8 parallel jobs after requesting -1\n",
      "Using ProgressBar with tqdm.auto\n"
     ]
    },
    {
     "data": {
      "application/vnd.jupyter.widget-view+json": {
       "model_id": "abb048f30a99481b9c9b3ae365f40ea2",
       "version_major": 2,
       "version_minor": 0
      },
      "text/plain": [
       "  0%|          | CSD epoch blocks : 0/1 [00:00<?,       ?it/s]"
      ]
     },
     "metadata": {},
     "output_type": "display_data"
    },
    {
     "name": "stdout",
     "output_type": "stream",
     "text": [
      "[done]\n"
     ]
    },
    {
     "name": "stderr",
     "output_type": "stream",
     "text": [
      "[Parallel(n_jobs=-1)]: Using backend LokyBackend with 8 concurrent workers.\n"
     ]
    },
    {
     "name": "stdout",
     "output_type": "stream",
     "text": [
      "    Using multitaper spectrum estimation with 7 DPSS windows\n",
      "Computing cross-spectral density from epochs...\n",
      "Got 8 parallel jobs after requesting -1\n",
      "Using ProgressBar with tqdm.auto\n"
     ]
    },
    {
     "data": {
      "application/vnd.jupyter.widget-view+json": {
       "model_id": "9b89a209171547669cf78efdf4ede233",
       "version_major": 2,
       "version_minor": 0
      },
      "text/plain": [
       "  0%|          | CSD epoch blocks : 0/1 [00:00<?,       ?it/s]"
      ]
     },
     "metadata": {},
     "output_type": "display_data"
    },
    {
     "name": "stdout",
     "output_type": "stream",
     "text": [
      "[done]\n"
     ]
    },
    {
     "name": "stderr",
     "output_type": "stream",
     "text": [
      "[Parallel(n_jobs=-1)]: Using backend LokyBackend with 8 concurrent workers.\n",
      "/Users/savochkin/miniconda3/envs/myenv/lib/python3.9/site-packages/joblib/parallel.py:589: RuntimeWarning: Iterative multi-taper PSD computation did not converge.\n",
      "  return [func(*args, **kwargs)\n"
     ]
    },
    {
     "name": "stdout",
     "output_type": "stream",
     "text": [
      "217\n",
      "    Using multitaper spectrum estimation with 7 DPSS windows\n",
      "Computing cross-spectral density from epochs...\n",
      "Got 8 parallel jobs after requesting -1\n",
      "Using ProgressBar with tqdm.auto\n"
     ]
    },
    {
     "data": {
      "application/vnd.jupyter.widget-view+json": {
       "model_id": "5ba3ea971da9475fae3a0a323b9858a2",
       "version_major": 2,
       "version_minor": 0
      },
      "text/plain": [
       "  0%|          | CSD epoch blocks : 0/1 [00:00<?,       ?it/s]"
      ]
     },
     "metadata": {},
     "output_type": "display_data"
    },
    {
     "name": "stdout",
     "output_type": "stream",
     "text": [
      "[done]\n"
     ]
    },
    {
     "name": "stderr",
     "output_type": "stream",
     "text": [
      "[Parallel(n_jobs=-1)]: Using backend LokyBackend with 8 concurrent workers.\n"
     ]
    },
    {
     "name": "stdout",
     "output_type": "stream",
     "text": [
      "    Using multitaper spectrum estimation with 7 DPSS windows\n",
      "Computing cross-spectral density from epochs...\n",
      "Got 8 parallel jobs after requesting -1\n",
      "Using ProgressBar with tqdm.auto\n"
     ]
    },
    {
     "data": {
      "application/vnd.jupyter.widget-view+json": {
       "model_id": "91a377e551ed42e0b25d4166f0dccc6d",
       "version_major": 2,
       "version_minor": 0
      },
      "text/plain": [
       "  0%|          | CSD epoch blocks : 0/1 [00:00<?,       ?it/s]"
      ]
     },
     "metadata": {},
     "output_type": "display_data"
    },
    {
     "name": "stderr",
     "output_type": "stream",
     "text": [
      "[Parallel(n_jobs=-1)]: Using backend LokyBackend with 8 concurrent workers.\n"
     ]
    },
    {
     "name": "stdout",
     "output_type": "stream",
     "text": [
      "[done]\n"
     ]
    },
    {
     "name": "stderr",
     "output_type": "stream",
     "text": [
      "/Users/savochkin/miniconda3/envs/myenv/lib/python3.9/site-packages/joblib/parallel.py:589: RuntimeWarning: Iterative multi-taper PSD computation did not converge.\n",
      "  return [func(*args, **kwargs)\n"
     ]
    },
    {
     "name": "stdout",
     "output_type": "stream",
     "text": [
      "218\n",
      "    Using multitaper spectrum estimation with 7 DPSS windows\n",
      "Computing cross-spectral density from epochs...\n",
      "Got 8 parallel jobs after requesting -1\n",
      "Using ProgressBar with tqdm.auto\n"
     ]
    },
    {
     "data": {
      "application/vnd.jupyter.widget-view+json": {
       "model_id": "6e84ae86d3e14d63b551aaf598ff4b88",
       "version_major": 2,
       "version_minor": 0
      },
      "text/plain": [
       "  0%|          | CSD epoch blocks : 0/1 [00:00<?,       ?it/s]"
      ]
     },
     "metadata": {},
     "output_type": "display_data"
    },
    {
     "name": "stdout",
     "output_type": "stream",
     "text": [
      "[done]\n"
     ]
    },
    {
     "name": "stderr",
     "output_type": "stream",
     "text": [
      "[Parallel(n_jobs=-1)]: Using backend LokyBackend with 8 concurrent workers.\n"
     ]
    },
    {
     "name": "stdout",
     "output_type": "stream",
     "text": [
      "    Using multitaper spectrum estimation with 7 DPSS windows\n",
      "Computing cross-spectral density from epochs...\n",
      "Got 8 parallel jobs after requesting -1\n",
      "Using ProgressBar with tqdm.auto\n"
     ]
    },
    {
     "data": {
      "application/vnd.jupyter.widget-view+json": {
       "model_id": "327015c6dd2e4b81a9c7aeb4a7af3447",
       "version_major": 2,
       "version_minor": 0
      },
      "text/plain": [
       "  0%|          | CSD epoch blocks : 0/1 [00:00<?,       ?it/s]"
      ]
     },
     "metadata": {},
     "output_type": "display_data"
    },
    {
     "name": "stdout",
     "output_type": "stream",
     "text": [
      "[done]\n"
     ]
    },
    {
     "name": "stderr",
     "output_type": "stream",
     "text": [
      "[Parallel(n_jobs=-1)]: Using backend LokyBackend with 8 concurrent workers.\n",
      "/Users/savochkin/miniconda3/envs/myenv/lib/python3.9/site-packages/joblib/parallel.py:589: RuntimeWarning: Iterative multi-taper PSD computation did not converge.\n",
      "  return [func(*args, **kwargs)\n"
     ]
    },
    {
     "name": "stdout",
     "output_type": "stream",
     "text": [
      "219\n",
      "    Using multitaper spectrum estimation with 7 DPSS windows\n",
      "Computing cross-spectral density from epochs...\n",
      "Got 8 parallel jobs after requesting -1\n",
      "Using ProgressBar with tqdm.auto\n"
     ]
    },
    {
     "data": {
      "application/vnd.jupyter.widget-view+json": {
       "model_id": "bbc1ef88d44649e8980b34359de948d8",
       "version_major": 2,
       "version_minor": 0
      },
      "text/plain": [
       "  0%|          | CSD epoch blocks : 0/1 [00:00<?,       ?it/s]"
      ]
     },
     "metadata": {},
     "output_type": "display_data"
    },
    {
     "name": "stdout",
     "output_type": "stream",
     "text": [
      "[done]\n"
     ]
    },
    {
     "name": "stderr",
     "output_type": "stream",
     "text": [
      "[Parallel(n_jobs=-1)]: Using backend LokyBackend with 8 concurrent workers.\n"
     ]
    },
    {
     "name": "stdout",
     "output_type": "stream",
     "text": [
      "    Using multitaper spectrum estimation with 7 DPSS windows\n",
      "Computing cross-spectral density from epochs...\n",
      "Got 8 parallel jobs after requesting -1\n",
      "Using ProgressBar with tqdm.auto\n"
     ]
    },
    {
     "data": {
      "application/vnd.jupyter.widget-view+json": {
       "model_id": "e0c5d47bc7f9491690e8c6f5ead24087",
       "version_major": 2,
       "version_minor": 0
      },
      "text/plain": [
       "  0%|          | CSD epoch blocks : 0/1 [00:00<?,       ?it/s]"
      ]
     },
     "metadata": {},
     "output_type": "display_data"
    },
    {
     "name": "stdout",
     "output_type": "stream",
     "text": [
      "[done]\n",
      "220\n",
      "    Using multitaper spectrum estimation with 7 DPSS windows\n",
      "Computing cross-spectral density from epochs...\n",
      "Got 8 parallel jobs after requesting -1\n"
     ]
    },
    {
     "name": "stderr",
     "output_type": "stream",
     "text": [
      "[Parallel(n_jobs=-1)]: Using backend LokyBackend with 8 concurrent workers.\n",
      "/Users/savochkin/miniconda3/envs/myenv/lib/python3.9/site-packages/joblib/parallel.py:589: RuntimeWarning: Iterative multi-taper PSD computation did not converge.\n",
      "  return [func(*args, **kwargs)\n"
     ]
    },
    {
     "name": "stdout",
     "output_type": "stream",
     "text": [
      "Using ProgressBar with tqdm.auto\n"
     ]
    },
    {
     "data": {
      "application/vnd.jupyter.widget-view+json": {
       "model_id": "1b4915bda3ef4167ace11b2723ca464b",
       "version_major": 2,
       "version_minor": 0
      },
      "text/plain": [
       "  0%|          | CSD epoch blocks : 0/1 [00:00<?,       ?it/s]"
      ]
     },
     "metadata": {},
     "output_type": "display_data"
    },
    {
     "name": "stdout",
     "output_type": "stream",
     "text": [
      "[done]\n",
      "    Using multitaper spectrum estimation with 7 DPSS windows\n",
      "Computing cross-spectral density from epochs...\n"
     ]
    },
    {
     "name": "stderr",
     "output_type": "stream",
     "text": [
      "[Parallel(n_jobs=-1)]: Using backend LokyBackend with 8 concurrent workers.\n"
     ]
    },
    {
     "name": "stdout",
     "output_type": "stream",
     "text": [
      "Got 8 parallel jobs after requesting -1\n",
      "Using ProgressBar with tqdm.auto\n"
     ]
    },
    {
     "data": {
      "application/vnd.jupyter.widget-view+json": {
       "model_id": "4f2041943e7a44aa83a7d48d08775e59",
       "version_major": 2,
       "version_minor": 0
      },
      "text/plain": [
       "  0%|          | CSD epoch blocks : 0/1 [00:00<?,       ?it/s]"
      ]
     },
     "metadata": {},
     "output_type": "display_data"
    },
    {
     "name": "stderr",
     "output_type": "stream",
     "text": [
      "[Parallel(n_jobs=-1)]: Using backend LokyBackend with 8 concurrent workers.\n"
     ]
    },
    {
     "name": "stdout",
     "output_type": "stream",
     "text": [
      "[done]\n",
      "221\n",
      "    Using multitaper spectrum estimation with 7 DPSS windows\n",
      "Computing cross-spectral density from epochs...\n",
      "Got 8 parallel jobs after requesting -1\n"
     ]
    },
    {
     "name": "stderr",
     "output_type": "stream",
     "text": [
      "/Users/savochkin/miniconda3/envs/myenv/lib/python3.9/site-packages/joblib/parallel.py:589: RuntimeWarning: Iterative multi-taper PSD computation did not converge.\n",
      "  return [func(*args, **kwargs)\n"
     ]
    },
    {
     "name": "stdout",
     "output_type": "stream",
     "text": [
      "Using ProgressBar with tqdm.auto\n"
     ]
    },
    {
     "data": {
      "application/vnd.jupyter.widget-view+json": {
       "model_id": "7a074b3dd08745d793cc12110100a4d0",
       "version_major": 2,
       "version_minor": 0
      },
      "text/plain": [
       "  0%|          | CSD epoch blocks : 0/1 [00:00<?,       ?it/s]"
      ]
     },
     "metadata": {},
     "output_type": "display_data"
    },
    {
     "name": "stdout",
     "output_type": "stream",
     "text": [
      "[done]\n",
      "    Using multitaper spectrum estimation with 7 DPSS windows\n",
      "Computing cross-spectral density from epochs...\n",
      "Got 8 parallel jobs after requesting -1\n",
      "Using ProgressBar with tqdm.auto\n"
     ]
    },
    {
     "name": "stderr",
     "output_type": "stream",
     "text": [
      "[Parallel(n_jobs=-1)]: Using backend LokyBackend with 8 concurrent workers.\n"
     ]
    },
    {
     "data": {
      "application/vnd.jupyter.widget-view+json": {
       "model_id": "49f0955cb9b3435b95b9be041c7a8531",
       "version_major": 2,
       "version_minor": 0
      },
      "text/plain": [
       "  0%|          | CSD epoch blocks : 0/1 [00:00<?,       ?it/s]"
      ]
     },
     "metadata": {},
     "output_type": "display_data"
    },
    {
     "name": "stdout",
     "output_type": "stream",
     "text": [
      "[done]\n",
      "222\n",
      "    Using multitaper spectrum estimation with 7 DPSS windows\n",
      "Computing cross-spectral density from epochs...\n",
      "Got 8 parallel jobs after requesting -1\n",
      "Using ProgressBar with tqdm.auto\n"
     ]
    },
    {
     "name": "stderr",
     "output_type": "stream",
     "text": [
      "[Parallel(n_jobs=-1)]: Using backend LokyBackend with 8 concurrent workers.\n",
      "/Users/savochkin/miniconda3/envs/myenv/lib/python3.9/site-packages/joblib/parallel.py:589: RuntimeWarning: Iterative multi-taper PSD computation did not converge.\n",
      "  return [func(*args, **kwargs)\n"
     ]
    },
    {
     "data": {
      "application/vnd.jupyter.widget-view+json": {
       "model_id": "d4a4f5f71e8b4b8f8b0410549332d5a7",
       "version_major": 2,
       "version_minor": 0
      },
      "text/plain": [
       "  0%|          | CSD epoch blocks : 0/1 [00:00<?,       ?it/s]"
      ]
     },
     "metadata": {},
     "output_type": "display_data"
    },
    {
     "name": "stdout",
     "output_type": "stream",
     "text": [
      "[done]\n",
      "    Using multitaper spectrum estimation with 7 DPSS windows\n",
      "Computing cross-spectral density from epochs...\n",
      "Got 8 parallel jobs after requesting -1\n",
      "Using ProgressBar with tqdm.auto\n"
     ]
    },
    {
     "name": "stderr",
     "output_type": "stream",
     "text": [
      "[Parallel(n_jobs=-1)]: Using backend LokyBackend with 8 concurrent workers.\n"
     ]
    },
    {
     "data": {
      "application/vnd.jupyter.widget-view+json": {
       "model_id": "aadefd5926564144a749fa178553e05c",
       "version_major": 2,
       "version_minor": 0
      },
      "text/plain": [
       "  0%|          | CSD epoch blocks : 0/1 [00:00<?,       ?it/s]"
      ]
     },
     "metadata": {},
     "output_type": "display_data"
    },
    {
     "name": "stderr",
     "output_type": "stream",
     "text": [
      "[Parallel(n_jobs=-1)]: Using backend LokyBackend with 8 concurrent workers.\n"
     ]
    },
    {
     "name": "stdout",
     "output_type": "stream",
     "text": [
      "[done]\n",
      "223\n",
      "    Using multitaper spectrum estimation with 7 DPSS windows\n",
      "Computing cross-spectral density from epochs...\n",
      "Got 8 parallel jobs after requesting -1\n",
      "Using ProgressBar with tqdm.auto\n"
     ]
    },
    {
     "name": "stderr",
     "output_type": "stream",
     "text": [
      "/Users/savochkin/miniconda3/envs/myenv/lib/python3.9/site-packages/joblib/parallel.py:589: RuntimeWarning: Iterative multi-taper PSD computation did not converge.\n",
      "  return [func(*args, **kwargs)\n"
     ]
    },
    {
     "data": {
      "application/vnd.jupyter.widget-view+json": {
       "model_id": "47992abcf803472fa78cf3d4a6845a67",
       "version_major": 2,
       "version_minor": 0
      },
      "text/plain": [
       "  0%|          | CSD epoch blocks : 0/1 [00:00<?,       ?it/s]"
      ]
     },
     "metadata": {},
     "output_type": "display_data"
    },
    {
     "name": "stderr",
     "output_type": "stream",
     "text": [
      "[Parallel(n_jobs=-1)]: Using backend LokyBackend with 8 concurrent workers.\n"
     ]
    },
    {
     "name": "stdout",
     "output_type": "stream",
     "text": [
      "[done]\n",
      "    Using multitaper spectrum estimation with 7 DPSS windows\n",
      "Computing cross-spectral density from epochs...\n",
      "Got 8 parallel jobs after requesting -1\n",
      "Using ProgressBar with tqdm.auto\n"
     ]
    },
    {
     "data": {
      "application/vnd.jupyter.widget-view+json": {
       "model_id": "5739b17bae374961997b2e57bdde54aa",
       "version_major": 2,
       "version_minor": 0
      },
      "text/plain": [
       "  0%|          | CSD epoch blocks : 0/1 [00:00<?,       ?it/s]"
      ]
     },
     "metadata": {},
     "output_type": "display_data"
    },
    {
     "name": "stderr",
     "output_type": "stream",
     "text": [
      "[Parallel(n_jobs=-1)]: Using backend LokyBackend with 8 concurrent workers.\n"
     ]
    },
    {
     "name": "stdout",
     "output_type": "stream",
     "text": [
      "[done]\n",
      "224\n",
      "    Using multitaper spectrum estimation with 7 DPSS windows\n",
      "Computing cross-spectral density from epochs...\n",
      "Got 8 parallel jobs after requesting -1\n",
      "Using ProgressBar with tqdm.auto\n"
     ]
    },
    {
     "name": "stderr",
     "output_type": "stream",
     "text": [
      "/Users/savochkin/miniconda3/envs/myenv/lib/python3.9/site-packages/joblib/parallel.py:589: RuntimeWarning: Iterative multi-taper PSD computation did not converge.\n",
      "  return [func(*args, **kwargs)\n"
     ]
    },
    {
     "data": {
      "application/vnd.jupyter.widget-view+json": {
       "model_id": "75a68c1423bc4d4b9cfcaa0d4e74e2a5",
       "version_major": 2,
       "version_minor": 0
      },
      "text/plain": [
       "  0%|          | CSD epoch blocks : 0/1 [00:00<?,       ?it/s]"
      ]
     },
     "metadata": {},
     "output_type": "display_data"
    },
    {
     "name": "stderr",
     "output_type": "stream",
     "text": [
      "[Parallel(n_jobs=-1)]: Using backend LokyBackend with 8 concurrent workers.\n"
     ]
    },
    {
     "name": "stdout",
     "output_type": "stream",
     "text": [
      "[done]\n",
      "    Using multitaper spectrum estimation with 7 DPSS windows\n",
      "Computing cross-spectral density from epochs...\n",
      "Got 8 parallel jobs after requesting -1\n",
      "Using ProgressBar with tqdm.auto\n"
     ]
    },
    {
     "data": {
      "application/vnd.jupyter.widget-view+json": {
       "model_id": "209adb21ca2944c49b72bd86a63d4b53",
       "version_major": 2,
       "version_minor": 0
      },
      "text/plain": [
       "  0%|          | CSD epoch blocks : 0/1 [00:00<?,       ?it/s]"
      ]
     },
     "metadata": {},
     "output_type": "display_data"
    },
    {
     "name": "stdout",
     "output_type": "stream",
     "text": [
      "[done]\n",
      "225\n",
      "    Using multitaper spectrum estimation with 7 DPSS windows\n",
      "Computing cross-spectral density from epochs...\n",
      "Got 8 parallel jobs after requesting -1\n",
      "Using ProgressBar with tqdm.auto\n"
     ]
    },
    {
     "name": "stderr",
     "output_type": "stream",
     "text": [
      "[Parallel(n_jobs=-1)]: Using backend LokyBackend with 8 concurrent workers.\n",
      "/Users/savochkin/miniconda3/envs/myenv/lib/python3.9/site-packages/joblib/parallel.py:589: RuntimeWarning: Iterative multi-taper PSD computation did not converge.\n",
      "  return [func(*args, **kwargs)\n"
     ]
    },
    {
     "data": {
      "application/vnd.jupyter.widget-view+json": {
       "model_id": "a7c04d10d07e462c959cd56a21b34f37",
       "version_major": 2,
       "version_minor": 0
      },
      "text/plain": [
       "  0%|          | CSD epoch blocks : 0/1 [00:00<?,       ?it/s]"
      ]
     },
     "metadata": {},
     "output_type": "display_data"
    },
    {
     "name": "stdout",
     "output_type": "stream",
     "text": [
      "[done]\n",
      "    Using multitaper spectrum estimation with 7 DPSS windows\n"
     ]
    },
    {
     "name": "stderr",
     "output_type": "stream",
     "text": [
      "[Parallel(n_jobs=-1)]: Using backend LokyBackend with 8 concurrent workers.\n"
     ]
    },
    {
     "name": "stdout",
     "output_type": "stream",
     "text": [
      "Computing cross-spectral density from epochs...\n",
      "Got 8 parallel jobs after requesting -1\n",
      "Using ProgressBar with tqdm.auto\n"
     ]
    },
    {
     "data": {
      "application/vnd.jupyter.widget-view+json": {
       "model_id": "15aa4fe71d7d4f3b94fa7e48d0224bfd",
       "version_major": 2,
       "version_minor": 0
      },
      "text/plain": [
       "  0%|          | CSD epoch blocks : 0/1 [00:00<?,       ?it/s]"
      ]
     },
     "metadata": {},
     "output_type": "display_data"
    },
    {
     "name": "stderr",
     "output_type": "stream",
     "text": [
      "[Parallel(n_jobs=-1)]: Using backend LokyBackend with 8 concurrent workers.\n"
     ]
    },
    {
     "name": "stdout",
     "output_type": "stream",
     "text": [
      "[done]\n",
      "226\n",
      "    Using multitaper spectrum estimation with 7 DPSS windows\n",
      "Computing cross-spectral density from epochs...\n"
     ]
    },
    {
     "name": "stderr",
     "output_type": "stream",
     "text": [
      "/Users/savochkin/miniconda3/envs/myenv/lib/python3.9/site-packages/joblib/parallel.py:589: RuntimeWarning: Iterative multi-taper PSD computation did not converge.\n",
      "  return [func(*args, **kwargs)\n"
     ]
    },
    {
     "name": "stdout",
     "output_type": "stream",
     "text": [
      "Got 8 parallel jobs after requesting -1\n",
      "Using ProgressBar with tqdm.auto\n"
     ]
    },
    {
     "data": {
      "application/vnd.jupyter.widget-view+json": {
       "model_id": "310cc0b97de34407ab28a59eb4539ff7",
       "version_major": 2,
       "version_minor": 0
      },
      "text/plain": [
       "  0%|          | CSD epoch blocks : 0/1 [00:00<?,       ?it/s]"
      ]
     },
     "metadata": {},
     "output_type": "display_data"
    },
    {
     "name": "stdout",
     "output_type": "stream",
     "text": [
      "[done]\n",
      "    Using multitaper spectrum estimation with 7 DPSS windows\n",
      "Computing cross-spectral density from epochs...\n"
     ]
    },
    {
     "name": "stderr",
     "output_type": "stream",
     "text": [
      "[Parallel(n_jobs=-1)]: Using backend LokyBackend with 8 concurrent workers.\n"
     ]
    },
    {
     "name": "stdout",
     "output_type": "stream",
     "text": [
      "Got 8 parallel jobs after requesting -1\n",
      "Using ProgressBar with tqdm.auto\n"
     ]
    },
    {
     "data": {
      "application/vnd.jupyter.widget-view+json": {
       "model_id": "4bb66af283554a48a14cfa11d53639cc",
       "version_major": 2,
       "version_minor": 0
      },
      "text/plain": [
       "  0%|          | CSD epoch blocks : 0/1 [00:00<?,       ?it/s]"
      ]
     },
     "metadata": {},
     "output_type": "display_data"
    },
    {
     "name": "stderr",
     "output_type": "stream",
     "text": [
      "[Parallel(n_jobs=-1)]: Using backend LokyBackend with 8 concurrent workers.\n"
     ]
    },
    {
     "name": "stdout",
     "output_type": "stream",
     "text": [
      "[done]\n"
     ]
    },
    {
     "name": "stderr",
     "output_type": "stream",
     "text": [
      "/Users/savochkin/miniconda3/envs/myenv/lib/python3.9/site-packages/joblib/parallel.py:589: RuntimeWarning: Iterative multi-taper PSD computation did not converge.\n",
      "  return [func(*args, **kwargs)\n"
     ]
    },
    {
     "name": "stdout",
     "output_type": "stream",
     "text": [
      "227\n",
      "    Using multitaper spectrum estimation with 7 DPSS windows\n",
      "Computing cross-spectral density from epochs...\n",
      "Got 8 parallel jobs after requesting -1\n",
      "Using ProgressBar with tqdm.auto\n"
     ]
    },
    {
     "data": {
      "application/vnd.jupyter.widget-view+json": {
       "model_id": "09003b8be56c4d1c9905c619ad5ce981",
       "version_major": 2,
       "version_minor": 0
      },
      "text/plain": [
       "  0%|          | CSD epoch blocks : 0/1 [00:00<?,       ?it/s]"
      ]
     },
     "metadata": {},
     "output_type": "display_data"
    },
    {
     "name": "stdout",
     "output_type": "stream",
     "text": [
      "[done]\n"
     ]
    },
    {
     "name": "stderr",
     "output_type": "stream",
     "text": [
      "[Parallel(n_jobs=-1)]: Using backend LokyBackend with 8 concurrent workers.\n"
     ]
    },
    {
     "name": "stdout",
     "output_type": "stream",
     "text": [
      "    Using multitaper spectrum estimation with 7 DPSS windows\n",
      "Computing cross-spectral density from epochs...\n",
      "Got 8 parallel jobs after requesting -1\n",
      "Using ProgressBar with tqdm.auto\n"
     ]
    },
    {
     "data": {
      "application/vnd.jupyter.widget-view+json": {
       "model_id": "39214e827dc749dfb64d2b9cb7b5fb7a",
       "version_major": 2,
       "version_minor": 0
      },
      "text/plain": [
       "  0%|          | CSD epoch blocks : 0/1 [00:00<?,       ?it/s]"
      ]
     },
     "metadata": {},
     "output_type": "display_data"
    },
    {
     "name": "stdout",
     "output_type": "stream",
     "text": [
      "[done]\n",
      "228\n",
      "    Using multitaper spectrum estimation with 7 DPSS windows\n",
      "Computing cross-spectral density from epochs...\n",
      "Got 8 parallel jobs after requesting -1\n"
     ]
    },
    {
     "name": "stderr",
     "output_type": "stream",
     "text": [
      "[Parallel(n_jobs=-1)]: Using backend LokyBackend with 8 concurrent workers.\n",
      "/Users/savochkin/miniconda3/envs/myenv/lib/python3.9/site-packages/joblib/parallel.py:589: RuntimeWarning: Iterative multi-taper PSD computation did not converge.\n",
      "  return [func(*args, **kwargs)\n"
     ]
    },
    {
     "name": "stdout",
     "output_type": "stream",
     "text": [
      "Using ProgressBar with tqdm.auto\n"
     ]
    },
    {
     "data": {
      "application/vnd.jupyter.widget-view+json": {
       "model_id": "c5af0504d7ba4f4d8543649e370fea5a",
       "version_major": 2,
       "version_minor": 0
      },
      "text/plain": [
       "  0%|          | CSD epoch blocks : 0/1 [00:00<?,       ?it/s]"
      ]
     },
     "metadata": {},
     "output_type": "display_data"
    },
    {
     "name": "stdout",
     "output_type": "stream",
     "text": [
      "[done]\n",
      "    Using multitaper spectrum estimation with 7 DPSS windows\n",
      "Computing cross-spectral density from epochs...\n"
     ]
    },
    {
     "name": "stderr",
     "output_type": "stream",
     "text": [
      "[Parallel(n_jobs=-1)]: Using backend LokyBackend with 8 concurrent workers.\n"
     ]
    },
    {
     "name": "stdout",
     "output_type": "stream",
     "text": [
      "Got 8 parallel jobs after requesting -1\n",
      "Using ProgressBar with tqdm.auto\n"
     ]
    },
    {
     "data": {
      "application/vnd.jupyter.widget-view+json": {
       "model_id": "437896e149d8473d8703aa105eadbac3",
       "version_major": 2,
       "version_minor": 0
      },
      "text/plain": [
       "  0%|          | CSD epoch blocks : 0/1 [00:00<?,       ?it/s]"
      ]
     },
     "metadata": {},
     "output_type": "display_data"
    },
    {
     "name": "stderr",
     "output_type": "stream",
     "text": [
      "[Parallel(n_jobs=-1)]: Using backend LokyBackend with 8 concurrent workers.\n"
     ]
    },
    {
     "name": "stdout",
     "output_type": "stream",
     "text": [
      "[done]\n"
     ]
    },
    {
     "name": "stderr",
     "output_type": "stream",
     "text": [
      "/Users/savochkin/miniconda3/envs/myenv/lib/python3.9/site-packages/joblib/parallel.py:589: RuntimeWarning: Iterative multi-taper PSD computation did not converge.\n",
      "  return [func(*args, **kwargs)\n"
     ]
    },
    {
     "name": "stdout",
     "output_type": "stream",
     "text": [
      "229\n",
      "    Using multitaper spectrum estimation with 7 DPSS windows\n",
      "Computing cross-spectral density from epochs...\n",
      "Got 8 parallel jobs after requesting -1\n",
      "Using ProgressBar with tqdm.auto\n"
     ]
    },
    {
     "data": {
      "application/vnd.jupyter.widget-view+json": {
       "model_id": "9af049a0b64e42f4b8b8d6988794fc78",
       "version_major": 2,
       "version_minor": 0
      },
      "text/plain": [
       "  0%|          | CSD epoch blocks : 0/1 [00:00<?,       ?it/s]"
      ]
     },
     "metadata": {},
     "output_type": "display_data"
    },
    {
     "name": "stdout",
     "output_type": "stream",
     "text": [
      "[done]\n"
     ]
    },
    {
     "name": "stderr",
     "output_type": "stream",
     "text": [
      "[Parallel(n_jobs=-1)]: Using backend LokyBackend with 8 concurrent workers.\n"
     ]
    },
    {
     "name": "stdout",
     "output_type": "stream",
     "text": [
      "    Using multitaper spectrum estimation with 7 DPSS windows\n",
      "Computing cross-spectral density from epochs...\n",
      "Got 8 parallel jobs after requesting -1\n",
      "Using ProgressBar with tqdm.auto\n"
     ]
    },
    {
     "data": {
      "application/vnd.jupyter.widget-view+json": {
       "model_id": "c73826f25a364269abb1b1938789af62",
       "version_major": 2,
       "version_minor": 0
      },
      "text/plain": [
       "  0%|          | CSD epoch blocks : 0/1 [00:00<?,       ?it/s]"
      ]
     },
     "metadata": {},
     "output_type": "display_data"
    },
    {
     "name": "stderr",
     "output_type": "stream",
     "text": [
      "[Parallel(n_jobs=-1)]: Using backend LokyBackend with 8 concurrent workers.\n"
     ]
    },
    {
     "name": "stdout",
     "output_type": "stream",
     "text": [
      "[done]\n"
     ]
    },
    {
     "name": "stderr",
     "output_type": "stream",
     "text": [
      "/Users/savochkin/miniconda3/envs/myenv/lib/python3.9/site-packages/joblib/parallel.py:589: RuntimeWarning: Iterative multi-taper PSD computation did not converge.\n",
      "  return [func(*args, **kwargs)\n"
     ]
    },
    {
     "name": "stdout",
     "output_type": "stream",
     "text": [
      "230\n",
      "    Using multitaper spectrum estimation with 7 DPSS windows\n",
      "Computing cross-spectral density from epochs...\n",
      "Got 8 parallel jobs after requesting -1\n",
      "Using ProgressBar with tqdm.auto\n"
     ]
    },
    {
     "data": {
      "application/vnd.jupyter.widget-view+json": {
       "model_id": "bc758ea861534e2fa8385670aff9ed1a",
       "version_major": 2,
       "version_minor": 0
      },
      "text/plain": [
       "  0%|          | CSD epoch blocks : 0/1 [00:00<?,       ?it/s]"
      ]
     },
     "metadata": {},
     "output_type": "display_data"
    },
    {
     "name": "stdout",
     "output_type": "stream",
     "text": [
      "[done]\n"
     ]
    },
    {
     "name": "stderr",
     "output_type": "stream",
     "text": [
      "[Parallel(n_jobs=-1)]: Using backend LokyBackend with 8 concurrent workers.\n"
     ]
    },
    {
     "name": "stdout",
     "output_type": "stream",
     "text": [
      "    Using multitaper spectrum estimation with 7 DPSS windows\n",
      "Computing cross-spectral density from epochs...\n",
      "Got 8 parallel jobs after requesting -1\n",
      "Using ProgressBar with tqdm.auto\n"
     ]
    },
    {
     "data": {
      "application/vnd.jupyter.widget-view+json": {
       "model_id": "dacddc1e05ff4ecd8f1966690a1b2bba",
       "version_major": 2,
       "version_minor": 0
      },
      "text/plain": [
       "  0%|          | CSD epoch blocks : 0/1 [00:00<?,       ?it/s]"
      ]
     },
     "metadata": {},
     "output_type": "display_data"
    },
    {
     "name": "stdout",
     "output_type": "stream",
     "text": [
      "[done]\n"
     ]
    },
    {
     "name": "stderr",
     "output_type": "stream",
     "text": [
      "[Parallel(n_jobs=-1)]: Using backend LokyBackend with 8 concurrent workers.\n",
      "/Users/savochkin/miniconda3/envs/myenv/lib/python3.9/site-packages/joblib/parallel.py:589: RuntimeWarning: Iterative multi-taper PSD computation did not converge.\n",
      "  return [func(*args, **kwargs)\n"
     ]
    },
    {
     "name": "stdout",
     "output_type": "stream",
     "text": [
      "231\n",
      "    Using multitaper spectrum estimation with 7 DPSS windows\n",
      "Computing cross-spectral density from epochs...\n",
      "Got 8 parallel jobs after requesting -1\n",
      "Using ProgressBar with tqdm.auto\n"
     ]
    },
    {
     "data": {
      "application/vnd.jupyter.widget-view+json": {
       "model_id": "957b607f61cb4730b337014b81eb53e8",
       "version_major": 2,
       "version_minor": 0
      },
      "text/plain": [
       "  0%|          | CSD epoch blocks : 0/1 [00:00<?,       ?it/s]"
      ]
     },
     "metadata": {},
     "output_type": "display_data"
    },
    {
     "name": "stdout",
     "output_type": "stream",
     "text": [
      "[done]\n",
      "    Using multitaper spectrum estimation with 7 DPSS windows\n",
      "Computing cross-spectral density from epochs...\n",
      "Got 8 parallel jobs after requesting -1\n",
      "Using ProgressBar with tqdm.auto\n"
     ]
    },
    {
     "name": "stderr",
     "output_type": "stream",
     "text": [
      "[Parallel(n_jobs=-1)]: Using backend LokyBackend with 8 concurrent workers.\n"
     ]
    },
    {
     "data": {
      "application/vnd.jupyter.widget-view+json": {
       "model_id": "d37d2b1446f34e508d41bd6fc74f4f2f",
       "version_major": 2,
       "version_minor": 0
      },
      "text/plain": [
       "  0%|          | CSD epoch blocks : 0/1 [00:00<?,       ?it/s]"
      ]
     },
     "metadata": {},
     "output_type": "display_data"
    },
    {
     "name": "stderr",
     "output_type": "stream",
     "text": [
      "[Parallel(n_jobs=-1)]: Using backend LokyBackend with 8 concurrent workers.\n"
     ]
    },
    {
     "name": "stdout",
     "output_type": "stream",
     "text": [
      "[done]\n",
      "232\n",
      "    Using multitaper spectrum estimation with 7 DPSS windows\n",
      "Computing cross-spectral density from epochs...\n",
      "Got 8 parallel jobs after requesting -1\n",
      "Using ProgressBar with tqdm.auto\n"
     ]
    },
    {
     "name": "stderr",
     "output_type": "stream",
     "text": [
      "/Users/savochkin/miniconda3/envs/myenv/lib/python3.9/site-packages/joblib/parallel.py:589: RuntimeWarning: Iterative multi-taper PSD computation did not converge.\n",
      "  return [func(*args, **kwargs)\n"
     ]
    },
    {
     "data": {
      "application/vnd.jupyter.widget-view+json": {
       "model_id": "524a0db20b7a4f64ae8fb4eabc533c3f",
       "version_major": 2,
       "version_minor": 0
      },
      "text/plain": [
       "  0%|          | CSD epoch blocks : 0/1 [00:00<?,       ?it/s]"
      ]
     },
     "metadata": {},
     "output_type": "display_data"
    },
    {
     "name": "stderr",
     "output_type": "stream",
     "text": [
      "[Parallel(n_jobs=-1)]: Using backend LokyBackend with 8 concurrent workers.\n"
     ]
    },
    {
     "name": "stdout",
     "output_type": "stream",
     "text": [
      "[done]\n",
      "    Using multitaper spectrum estimation with 7 DPSS windows\n",
      "Computing cross-spectral density from epochs...\n",
      "Got 8 parallel jobs after requesting -1\n",
      "Using ProgressBar with tqdm.auto\n"
     ]
    },
    {
     "data": {
      "application/vnd.jupyter.widget-view+json": {
       "model_id": "26fceb16de2448b0a818fd15f8fe850f",
       "version_major": 2,
       "version_minor": 0
      },
      "text/plain": [
       "  0%|          | CSD epoch blocks : 0/1 [00:00<?,       ?it/s]"
      ]
     },
     "metadata": {},
     "output_type": "display_data"
    },
    {
     "name": "stderr",
     "output_type": "stream",
     "text": [
      "[Parallel(n_jobs=-1)]: Using backend LokyBackend with 8 concurrent workers.\n",
      "/Users/savochkin/miniconda3/envs/myenv/lib/python3.9/site-packages/joblib/parallel.py:589: RuntimeWarning: Iterative multi-taper PSD computation did not converge.\n",
      "  return [func(*args, **kwargs)\n"
     ]
    },
    {
     "name": "stdout",
     "output_type": "stream",
     "text": [
      "[done]\n",
      "233\n",
      "    Using multitaper spectrum estimation with 7 DPSS windows\n",
      "Computing cross-spectral density from epochs...\n",
      "Got 8 parallel jobs after requesting -1\n",
      "Using ProgressBar with tqdm.auto\n"
     ]
    },
    {
     "data": {
      "application/vnd.jupyter.widget-view+json": {
       "model_id": "35f4632206624343aad04cac1f51d4d0",
       "version_major": 2,
       "version_minor": 0
      },
      "text/plain": [
       "  0%|          | CSD epoch blocks : 0/1 [00:00<?,       ?it/s]"
      ]
     },
     "metadata": {},
     "output_type": "display_data"
    },
    {
     "name": "stderr",
     "output_type": "stream",
     "text": [
      "[Parallel(n_jobs=-1)]: Using backend LokyBackend with 8 concurrent workers.\n"
     ]
    },
    {
     "name": "stdout",
     "output_type": "stream",
     "text": [
      "[done]\n",
      "    Using multitaper spectrum estimation with 7 DPSS windows\n",
      "Computing cross-spectral density from epochs...\n",
      "Got 8 parallel jobs after requesting -1\n",
      "Using ProgressBar with tqdm.auto\n"
     ]
    },
    {
     "data": {
      "application/vnd.jupyter.widget-view+json": {
       "model_id": "199b59e9b24c4c1f8ab9444ff4c4dec2",
       "version_major": 2,
       "version_minor": 0
      },
      "text/plain": [
       "  0%|          | CSD epoch blocks : 0/1 [00:00<?,       ?it/s]"
      ]
     },
     "metadata": {},
     "output_type": "display_data"
    },
    {
     "name": "stderr",
     "output_type": "stream",
     "text": [
      "[Parallel(n_jobs=-1)]: Using backend LokyBackend with 8 concurrent workers.\n"
     ]
    },
    {
     "name": "stdout",
     "output_type": "stream",
     "text": [
      "[done]\n",
      "234\n",
      "    Using multitaper spectrum estimation with 7 DPSS windows\n",
      "Computing cross-spectral density from epochs...\n",
      "Got 8 parallel jobs after requesting -1\n",
      "Using ProgressBar with tqdm.auto\n"
     ]
    },
    {
     "name": "stderr",
     "output_type": "stream",
     "text": [
      "/Users/savochkin/miniconda3/envs/myenv/lib/python3.9/site-packages/joblib/parallel.py:589: RuntimeWarning: Iterative multi-taper PSD computation did not converge.\n",
      "  return [func(*args, **kwargs)\n"
     ]
    },
    {
     "data": {
      "application/vnd.jupyter.widget-view+json": {
       "model_id": "be9fd25b5ed8426d87f5dacd3f5d72e7",
       "version_major": 2,
       "version_minor": 0
      },
      "text/plain": [
       "  0%|          | CSD epoch blocks : 0/1 [00:00<?,       ?it/s]"
      ]
     },
     "metadata": {},
     "output_type": "display_data"
    },
    {
     "name": "stderr",
     "output_type": "stream",
     "text": [
      "[Parallel(n_jobs=-1)]: Using backend LokyBackend with 8 concurrent workers.\n"
     ]
    },
    {
     "name": "stdout",
     "output_type": "stream",
     "text": [
      "[done]\n",
      "    Using multitaper spectrum estimation with 7 DPSS windows\n",
      "Computing cross-spectral density from epochs...\n",
      "Got 8 parallel jobs after requesting -1\n",
      "Using ProgressBar with tqdm.auto\n"
     ]
    },
    {
     "data": {
      "application/vnd.jupyter.widget-view+json": {
       "model_id": "6b225c0361154c8aae8b6c9dc775adb6",
       "version_major": 2,
       "version_minor": 0
      },
      "text/plain": [
       "  0%|          | CSD epoch blocks : 0/1 [00:00<?,       ?it/s]"
      ]
     },
     "metadata": {},
     "output_type": "display_data"
    },
    {
     "name": "stderr",
     "output_type": "stream",
     "text": [
      "[Parallel(n_jobs=-1)]: Using backend LokyBackend with 8 concurrent workers.\n"
     ]
    },
    {
     "name": "stdout",
     "output_type": "stream",
     "text": [
      "[done]\n",
      "235\n",
      "    Using multitaper spectrum estimation with 7 DPSS windows\n",
      "Computing cross-spectral density from epochs...\n",
      "Got 8 parallel jobs after requesting -1\n",
      "Using ProgressBar with tqdm.auto\n"
     ]
    },
    {
     "name": "stderr",
     "output_type": "stream",
     "text": [
      "/Users/savochkin/miniconda3/envs/myenv/lib/python3.9/site-packages/joblib/parallel.py:589: RuntimeWarning: Iterative multi-taper PSD computation did not converge.\n",
      "  return [func(*args, **kwargs)\n"
     ]
    },
    {
     "data": {
      "application/vnd.jupyter.widget-view+json": {
       "model_id": "1c1ef52674c64ea89254382d856c20a9",
       "version_major": 2,
       "version_minor": 0
      },
      "text/plain": [
       "  0%|          | CSD epoch blocks : 0/1 [00:00<?,       ?it/s]"
      ]
     },
     "metadata": {},
     "output_type": "display_data"
    },
    {
     "name": "stderr",
     "output_type": "stream",
     "text": [
      "[Parallel(n_jobs=-1)]: Using backend LokyBackend with 8 concurrent workers.\n"
     ]
    },
    {
     "name": "stdout",
     "output_type": "stream",
     "text": [
      "[done]\n",
      "    Using multitaper spectrum estimation with 7 DPSS windows\n",
      "Computing cross-spectral density from epochs...\n",
      "Got 8 parallel jobs after requesting -1\n",
      "Using ProgressBar with tqdm.auto\n"
     ]
    },
    {
     "data": {
      "application/vnd.jupyter.widget-view+json": {
       "model_id": "3da8d1169e1045bdb854dd1c52c00c18",
       "version_major": 2,
       "version_minor": 0
      },
      "text/plain": [
       "  0%|          | CSD epoch blocks : 0/1 [00:00<?,       ?it/s]"
      ]
     },
     "metadata": {},
     "output_type": "display_data"
    },
    {
     "name": "stderr",
     "output_type": "stream",
     "text": [
      "[Parallel(n_jobs=-1)]: Using backend LokyBackend with 8 concurrent workers.\n"
     ]
    },
    {
     "name": "stdout",
     "output_type": "stream",
     "text": [
      "[done]\n",
      "236\n",
      "    Using multitaper spectrum estimation with 7 DPSS windows\n",
      "Computing cross-spectral density from epochs...\n",
      "Got 8 parallel jobs after requesting -1\n",
      "Using ProgressBar with tqdm.auto\n"
     ]
    },
    {
     "name": "stderr",
     "output_type": "stream",
     "text": [
      "/Users/savochkin/miniconda3/envs/myenv/lib/python3.9/site-packages/joblib/parallel.py:589: RuntimeWarning: Iterative multi-taper PSD computation did not converge.\n",
      "  return [func(*args, **kwargs)\n"
     ]
    },
    {
     "data": {
      "application/vnd.jupyter.widget-view+json": {
       "model_id": "ddc47595f20c4ee59c4c3f1f1ed88bf4",
       "version_major": 2,
       "version_minor": 0
      },
      "text/plain": [
       "  0%|          | CSD epoch blocks : 0/1 [00:00<?,       ?it/s]"
      ]
     },
     "metadata": {},
     "output_type": "display_data"
    },
    {
     "name": "stderr",
     "output_type": "stream",
     "text": [
      "[Parallel(n_jobs=-1)]: Using backend LokyBackend with 8 concurrent workers.\n"
     ]
    },
    {
     "name": "stdout",
     "output_type": "stream",
     "text": [
      "[done]\n",
      "    Using multitaper spectrum estimation with 7 DPSS windows\n",
      "Computing cross-spectral density from epochs...\n",
      "Got 8 parallel jobs after requesting -1\n",
      "Using ProgressBar with tqdm.auto\n"
     ]
    },
    {
     "data": {
      "application/vnd.jupyter.widget-view+json": {
       "model_id": "f8a0870675fc4c0d8f1bead6b5801d31",
       "version_major": 2,
       "version_minor": 0
      },
      "text/plain": [
       "  0%|          | CSD epoch blocks : 0/1 [00:00<?,       ?it/s]"
      ]
     },
     "metadata": {},
     "output_type": "display_data"
    },
    {
     "name": "stdout",
     "output_type": "stream",
     "text": [
      "[done]\n",
      "237\n",
      "    Using multitaper spectrum estimation with 7 DPSS windows\n",
      "Computing cross-spectral density from epochs...\n",
      "Got 8 parallel jobs after requesting -1\n",
      "Using ProgressBar with tqdm.auto\n"
     ]
    },
    {
     "name": "stderr",
     "output_type": "stream",
     "text": [
      "[Parallel(n_jobs=-1)]: Using backend LokyBackend with 8 concurrent workers.\n",
      "/Users/savochkin/miniconda3/envs/myenv/lib/python3.9/site-packages/joblib/parallel.py:589: RuntimeWarning: Iterative multi-taper PSD computation did not converge.\n",
      "  return [func(*args, **kwargs)\n"
     ]
    },
    {
     "data": {
      "application/vnd.jupyter.widget-view+json": {
       "model_id": "c3239a83f5cb405ab7353b259954f681",
       "version_major": 2,
       "version_minor": 0
      },
      "text/plain": [
       "  0%|          | CSD epoch blocks : 0/1 [00:00<?,       ?it/s]"
      ]
     },
     "metadata": {},
     "output_type": "display_data"
    },
    {
     "name": "stderr",
     "output_type": "stream",
     "text": [
      "[Parallel(n_jobs=-1)]: Using backend LokyBackend with 8 concurrent workers.\n"
     ]
    },
    {
     "name": "stdout",
     "output_type": "stream",
     "text": [
      "[done]\n",
      "    Using multitaper spectrum estimation with 7 DPSS windows\n",
      "Computing cross-spectral density from epochs...\n",
      "Got 8 parallel jobs after requesting -1\n",
      "Using ProgressBar with tqdm.auto\n"
     ]
    },
    {
     "data": {
      "application/vnd.jupyter.widget-view+json": {
       "model_id": "33d0074a116141c682efeba3b8c3368d",
       "version_major": 2,
       "version_minor": 0
      },
      "text/plain": [
       "  0%|          | CSD epoch blocks : 0/1 [00:00<?,       ?it/s]"
      ]
     },
     "metadata": {},
     "output_type": "display_data"
    },
    {
     "name": "stdout",
     "output_type": "stream",
     "text": [
      "[done]\n",
      "238\n",
      "    Using multitaper spectrum estimation with 7 DPSS windows\n",
      "Computing cross-spectral density from epochs...\n",
      "Got 8 parallel jobs after requesting -1\n",
      "Using ProgressBar with tqdm.auto\n"
     ]
    },
    {
     "name": "stderr",
     "output_type": "stream",
     "text": [
      "[Parallel(n_jobs=-1)]: Using backend LokyBackend with 8 concurrent workers.\n",
      "/Users/savochkin/miniconda3/envs/myenv/lib/python3.9/site-packages/joblib/parallel.py:589: RuntimeWarning: Iterative multi-taper PSD computation did not converge.\n",
      "  return [func(*args, **kwargs)\n"
     ]
    },
    {
     "data": {
      "application/vnd.jupyter.widget-view+json": {
       "model_id": "193a0231a33d4eefab4ee2d1efbd2432",
       "version_major": 2,
       "version_minor": 0
      },
      "text/plain": [
       "  0%|          | CSD epoch blocks : 0/1 [00:00<?,       ?it/s]"
      ]
     },
     "metadata": {},
     "output_type": "display_data"
    },
    {
     "name": "stderr",
     "output_type": "stream",
     "text": [
      "[Parallel(n_jobs=-1)]: Using backend LokyBackend with 8 concurrent workers.\n"
     ]
    },
    {
     "name": "stdout",
     "output_type": "stream",
     "text": [
      "[done]\n",
      "    Using multitaper spectrum estimation with 7 DPSS windows\n",
      "Computing cross-spectral density from epochs...\n",
      "Got 8 parallel jobs after requesting -1\n",
      "Using ProgressBar with tqdm.auto\n"
     ]
    },
    {
     "data": {
      "application/vnd.jupyter.widget-view+json": {
       "model_id": "620734e9e8ed4f87b62a7843a7d61f55",
       "version_major": 2,
       "version_minor": 0
      },
      "text/plain": [
       "  0%|          | CSD epoch blocks : 0/1 [00:00<?,       ?it/s]"
      ]
     },
     "metadata": {},
     "output_type": "display_data"
    },
    {
     "name": "stdout",
     "output_type": "stream",
     "text": [
      "[done]\n",
      "239\n",
      "    Using multitaper spectrum estimation with 7 DPSS windows\n",
      "Computing cross-spectral density from epochs...\n",
      "Got 8 parallel jobs after requesting -1\n",
      "Using ProgressBar with tqdm.auto\n"
     ]
    },
    {
     "name": "stderr",
     "output_type": "stream",
     "text": [
      "[Parallel(n_jobs=-1)]: Using backend LokyBackend with 8 concurrent workers.\n",
      "/Users/savochkin/miniconda3/envs/myenv/lib/python3.9/site-packages/joblib/parallel.py:589: RuntimeWarning: Iterative multi-taper PSD computation did not converge.\n",
      "  return [func(*args, **kwargs)\n"
     ]
    },
    {
     "data": {
      "application/vnd.jupyter.widget-view+json": {
       "model_id": "9efbf412b1104843be7e53e870fdaf9e",
       "version_major": 2,
       "version_minor": 0
      },
      "text/plain": [
       "  0%|          | CSD epoch blocks : 0/1 [00:00<?,       ?it/s]"
      ]
     },
     "metadata": {},
     "output_type": "display_data"
    },
    {
     "name": "stderr",
     "output_type": "stream",
     "text": [
      "[Parallel(n_jobs=-1)]: Using backend LokyBackend with 8 concurrent workers.\n"
     ]
    },
    {
     "name": "stdout",
     "output_type": "stream",
     "text": [
      "[done]\n",
      "    Using multitaper spectrum estimation with 7 DPSS windows\n",
      "Computing cross-spectral density from epochs...\n",
      "Got 8 parallel jobs after requesting -1\n",
      "Using ProgressBar with tqdm.auto\n"
     ]
    },
    {
     "data": {
      "application/vnd.jupyter.widget-view+json": {
       "model_id": "aaa1021f423548da86ed666ba4dcf182",
       "version_major": 2,
       "version_minor": 0
      },
      "text/plain": [
       "  0%|          | CSD epoch blocks : 0/1 [00:00<?,       ?it/s]"
      ]
     },
     "metadata": {},
     "output_type": "display_data"
    },
    {
     "name": "stdout",
     "output_type": "stream",
     "text": [
      "[done]\n",
      "240\n",
      "    Using multitaper spectrum estimation with 7 DPSS windows\n",
      "Computing cross-spectral density from epochs...\n",
      "Got 8 parallel jobs after requesting -1\n",
      "Using ProgressBar with tqdm.auto\n"
     ]
    },
    {
     "name": "stderr",
     "output_type": "stream",
     "text": [
      "[Parallel(n_jobs=-1)]: Using backend LokyBackend with 8 concurrent workers.\n",
      "/Users/savochkin/miniconda3/envs/myenv/lib/python3.9/site-packages/joblib/parallel.py:589: RuntimeWarning: Iterative multi-taper PSD computation did not converge.\n",
      "  return [func(*args, **kwargs)\n"
     ]
    },
    {
     "data": {
      "application/vnd.jupyter.widget-view+json": {
       "model_id": "3bc37b7dbdaf4b3f83890d4720f0d975",
       "version_major": 2,
       "version_minor": 0
      },
      "text/plain": [
       "  0%|          | CSD epoch blocks : 0/1 [00:00<?,       ?it/s]"
      ]
     },
     "metadata": {},
     "output_type": "display_data"
    },
    {
     "name": "stdout",
     "output_type": "stream",
     "text": [
      "[done]\n",
      "    Using multitaper spectrum estimation with 7 DPSS windows\n",
      "Computing cross-spectral density from epochs...\n"
     ]
    },
    {
     "name": "stderr",
     "output_type": "stream",
     "text": [
      "[Parallel(n_jobs=-1)]: Using backend LokyBackend with 8 concurrent workers.\n"
     ]
    },
    {
     "name": "stdout",
     "output_type": "stream",
     "text": [
      "Got 8 parallel jobs after requesting -1\n",
      "Using ProgressBar with tqdm.auto\n"
     ]
    },
    {
     "data": {
      "application/vnd.jupyter.widget-view+json": {
       "model_id": "6c54c79f26834a108d92bce7be2eeb92",
       "version_major": 2,
       "version_minor": 0
      },
      "text/plain": [
       "  0%|          | CSD epoch blocks : 0/1 [00:00<?,       ?it/s]"
      ]
     },
     "metadata": {},
     "output_type": "display_data"
    },
    {
     "name": "stdout",
     "output_type": "stream",
     "text": [
      "[done]\n",
      "241\n",
      "    Using multitaper spectrum estimation with 7 DPSS windows\n",
      "Computing cross-spectral density from epochs...\n"
     ]
    },
    {
     "name": "stderr",
     "output_type": "stream",
     "text": [
      "[Parallel(n_jobs=-1)]: Using backend LokyBackend with 8 concurrent workers.\n",
      "/Users/savochkin/miniconda3/envs/myenv/lib/python3.9/site-packages/joblib/parallel.py:589: RuntimeWarning: Iterative multi-taper PSD computation did not converge.\n",
      "  return [func(*args, **kwargs)\n"
     ]
    },
    {
     "name": "stdout",
     "output_type": "stream",
     "text": [
      "Got 8 parallel jobs after requesting -1\n",
      "Using ProgressBar with tqdm.auto\n"
     ]
    },
    {
     "data": {
      "application/vnd.jupyter.widget-view+json": {
       "model_id": "eca40726ddef4f4b9e3663851915600e",
       "version_major": 2,
       "version_minor": 0
      },
      "text/plain": [
       "  0%|          | CSD epoch blocks : 0/1 [00:00<?,       ?it/s]"
      ]
     },
     "metadata": {},
     "output_type": "display_data"
    },
    {
     "name": "stdout",
     "output_type": "stream",
     "text": [
      "[done]\n",
      "    Using multitaper spectrum estimation with 7 DPSS windows\n",
      "Computing cross-spectral density from epochs...\n",
      "Got 8 parallel jobs after requesting -1\n",
      "Using ProgressBar with tqdm.auto\n"
     ]
    },
    {
     "name": "stderr",
     "output_type": "stream",
     "text": [
      "[Parallel(n_jobs=-1)]: Using backend LokyBackend with 8 concurrent workers.\n"
     ]
    },
    {
     "data": {
      "application/vnd.jupyter.widget-view+json": {
       "model_id": "71b36e578e9340818e9b458eeb17f929",
       "version_major": 2,
       "version_minor": 0
      },
      "text/plain": [
       "  0%|          | CSD epoch blocks : 0/1 [00:00<?,       ?it/s]"
      ]
     },
     "metadata": {},
     "output_type": "display_data"
    },
    {
     "name": "stdout",
     "output_type": "stream",
     "text": [
      "[done]\n",
      "242\n",
      "    Using multitaper spectrum estimation with 7 DPSS windows\n",
      "Computing cross-spectral density from epochs...\n",
      "Got 8 parallel jobs after requesting -1\n"
     ]
    },
    {
     "name": "stderr",
     "output_type": "stream",
     "text": [
      "[Parallel(n_jobs=-1)]: Using backend LokyBackend with 8 concurrent workers.\n",
      "/Users/savochkin/miniconda3/envs/myenv/lib/python3.9/site-packages/joblib/parallel.py:589: RuntimeWarning: Iterative multi-taper PSD computation did not converge.\n",
      "  return [func(*args, **kwargs)\n"
     ]
    },
    {
     "name": "stdout",
     "output_type": "stream",
     "text": [
      "Using ProgressBar with tqdm.auto\n"
     ]
    },
    {
     "data": {
      "application/vnd.jupyter.widget-view+json": {
       "model_id": "0af1af5deb284f778acd178a235dec27",
       "version_major": 2,
       "version_minor": 0
      },
      "text/plain": [
       "  0%|          | CSD epoch blocks : 0/1 [00:00<?,       ?it/s]"
      ]
     },
     "metadata": {},
     "output_type": "display_data"
    },
    {
     "name": "stdout",
     "output_type": "stream",
     "text": [
      "[done]\n"
     ]
    },
    {
     "name": "stderr",
     "output_type": "stream",
     "text": [
      "[Parallel(n_jobs=-1)]: Using backend LokyBackend with 8 concurrent workers.\n"
     ]
    },
    {
     "name": "stdout",
     "output_type": "stream",
     "text": [
      "    Using multitaper spectrum estimation with 7 DPSS windows\n",
      "Computing cross-spectral density from epochs...\n",
      "Got 8 parallel jobs after requesting -1\n",
      "Using ProgressBar with tqdm.auto\n"
     ]
    },
    {
     "data": {
      "application/vnd.jupyter.widget-view+json": {
       "model_id": "f4f2426abac04d65afe4c66465c04847",
       "version_major": 2,
       "version_minor": 0
      },
      "text/plain": [
       "  0%|          | CSD epoch blocks : 0/1 [00:00<?,       ?it/s]"
      ]
     },
     "metadata": {},
     "output_type": "display_data"
    },
    {
     "name": "stdout",
     "output_type": "stream",
     "text": [
      "[done]\n",
      "243\n",
      "    Using multitaper spectrum estimation with 7 DPSS windows\n",
      "Computing cross-spectral density from epochs...\n"
     ]
    },
    {
     "name": "stderr",
     "output_type": "stream",
     "text": [
      "[Parallel(n_jobs=-1)]: Using backend LokyBackend with 8 concurrent workers.\n",
      "/Users/savochkin/miniconda3/envs/myenv/lib/python3.9/site-packages/joblib/parallel.py:589: RuntimeWarning: Iterative multi-taper PSD computation did not converge.\n",
      "  return [func(*args, **kwargs)\n"
     ]
    },
    {
     "name": "stdout",
     "output_type": "stream",
     "text": [
      "Got 8 parallel jobs after requesting -1\n",
      "Using ProgressBar with tqdm.auto\n"
     ]
    },
    {
     "data": {
      "application/vnd.jupyter.widget-view+json": {
       "model_id": "439502ff3aa141c3a7f1c7f9ae833539",
       "version_major": 2,
       "version_minor": 0
      },
      "text/plain": [
       "  0%|          | CSD epoch blocks : 0/1 [00:00<?,       ?it/s]"
      ]
     },
     "metadata": {},
     "output_type": "display_data"
    },
    {
     "name": "stdout",
     "output_type": "stream",
     "text": [
      "[done]\n"
     ]
    },
    {
     "name": "stderr",
     "output_type": "stream",
     "text": [
      "[Parallel(n_jobs=-1)]: Using backend LokyBackend with 8 concurrent workers.\n"
     ]
    },
    {
     "name": "stdout",
     "output_type": "stream",
     "text": [
      "    Using multitaper spectrum estimation with 7 DPSS windows\n",
      "Computing cross-spectral density from epochs...\n",
      "Got 8 parallel jobs after requesting -1\n",
      "Using ProgressBar with tqdm.auto\n"
     ]
    },
    {
     "data": {
      "application/vnd.jupyter.widget-view+json": {
       "model_id": "9863c2db24ed42b6bfd5ca5785a66e15",
       "version_major": 2,
       "version_minor": 0
      },
      "text/plain": [
       "  0%|          | CSD epoch blocks : 0/1 [00:00<?,       ?it/s]"
      ]
     },
     "metadata": {},
     "output_type": "display_data"
    },
    {
     "name": "stdout",
     "output_type": "stream",
     "text": [
      "[done]\n",
      "244\n",
      "    Using multitaper spectrum estimation with 7 DPSS windows\n",
      "Computing cross-spectral density from epochs...\n",
      "Got 8 parallel jobs after requesting -1\n",
      "Using ProgressBar with tqdm.auto\n"
     ]
    },
    {
     "name": "stderr",
     "output_type": "stream",
     "text": [
      "[Parallel(n_jobs=-1)]: Using backend LokyBackend with 8 concurrent workers.\n",
      "/Users/savochkin/miniconda3/envs/myenv/lib/python3.9/site-packages/joblib/parallel.py:589: RuntimeWarning: Iterative multi-taper PSD computation did not converge.\n",
      "  return [func(*args, **kwargs)\n"
     ]
    },
    {
     "data": {
      "application/vnd.jupyter.widget-view+json": {
       "model_id": "d7fd7fe06110456f9d992fb3fef36725",
       "version_major": 2,
       "version_minor": 0
      },
      "text/plain": [
       "  0%|          | CSD epoch blocks : 0/1 [00:00<?,       ?it/s]"
      ]
     },
     "metadata": {},
     "output_type": "display_data"
    },
    {
     "name": "stdout",
     "output_type": "stream",
     "text": [
      "[done]\n",
      "    Using multitaper spectrum estimation with 7 DPSS windows\n",
      "Computing cross-spectral density from epochs...\n",
      "Got 8 parallel jobs after requesting -1\n",
      "Using ProgressBar with tqdm.auto\n"
     ]
    },
    {
     "name": "stderr",
     "output_type": "stream",
     "text": [
      "[Parallel(n_jobs=-1)]: Using backend LokyBackend with 8 concurrent workers.\n"
     ]
    },
    {
     "data": {
      "application/vnd.jupyter.widget-view+json": {
       "model_id": "95fe71d670354619bd3f5a22c48280f0",
       "version_major": 2,
       "version_minor": 0
      },
      "text/plain": [
       "  0%|          | CSD epoch blocks : 0/1 [00:00<?,       ?it/s]"
      ]
     },
     "metadata": {},
     "output_type": "display_data"
    },
    {
     "name": "stdout",
     "output_type": "stream",
     "text": [
      "[done]\n",
      "245\n",
      "    Using multitaper spectrum estimation with 7 DPSS windows\n",
      "Computing cross-spectral density from epochs...\n",
      "Got 8 parallel jobs after requesting -1\n",
      "Using ProgressBar with tqdm.auto\n"
     ]
    },
    {
     "name": "stderr",
     "output_type": "stream",
     "text": [
      "[Parallel(n_jobs=-1)]: Using backend LokyBackend with 8 concurrent workers.\n",
      "/Users/savochkin/miniconda3/envs/myenv/lib/python3.9/site-packages/joblib/parallel.py:589: RuntimeWarning: Iterative multi-taper PSD computation did not converge.\n",
      "  return [func(*args, **kwargs)\n"
     ]
    },
    {
     "data": {
      "application/vnd.jupyter.widget-view+json": {
       "model_id": "70aa71abd1df4f6aaac005bddf62e9b0",
       "version_major": 2,
       "version_minor": 0
      },
      "text/plain": [
       "  0%|          | CSD epoch blocks : 0/1 [00:00<?,       ?it/s]"
      ]
     },
     "metadata": {},
     "output_type": "display_data"
    },
    {
     "name": "stdout",
     "output_type": "stream",
     "text": [
      "[done]\n",
      "    Using multitaper spectrum estimation with 7 DPSS windows\n",
      "Computing cross-spectral density from epochs...\n",
      "Got 8 parallel jobs after requesting -1\n",
      "Using ProgressBar with tqdm.auto\n"
     ]
    },
    {
     "name": "stderr",
     "output_type": "stream",
     "text": [
      "[Parallel(n_jobs=-1)]: Using backend LokyBackend with 8 concurrent workers.\n"
     ]
    },
    {
     "data": {
      "application/vnd.jupyter.widget-view+json": {
       "model_id": "0842548d5e7243a59bed5e0d1d2fc41a",
       "version_major": 2,
       "version_minor": 0
      },
      "text/plain": [
       "  0%|          | CSD epoch blocks : 0/1 [00:00<?,       ?it/s]"
      ]
     },
     "metadata": {},
     "output_type": "display_data"
    },
    {
     "name": "stdout",
     "output_type": "stream",
     "text": [
      "[done]\n",
      "246\n",
      "    Using multitaper spectrum estimation with 7 DPSS windows\n",
      "Computing cross-spectral density from epochs...\n",
      "Got 8 parallel jobs after requesting -1\n",
      "Using ProgressBar with tqdm.auto\n"
     ]
    },
    {
     "name": "stderr",
     "output_type": "stream",
     "text": [
      "[Parallel(n_jobs=-1)]: Using backend LokyBackend with 8 concurrent workers.\n",
      "/Users/savochkin/miniconda3/envs/myenv/lib/python3.9/site-packages/joblib/parallel.py:589: RuntimeWarning: Iterative multi-taper PSD computation did not converge.\n",
      "  return [func(*args, **kwargs)\n"
     ]
    },
    {
     "data": {
      "application/vnd.jupyter.widget-view+json": {
       "model_id": "f203d990d4944b838578b0586af50764",
       "version_major": 2,
       "version_minor": 0
      },
      "text/plain": [
       "  0%|          | CSD epoch blocks : 0/1 [00:00<?,       ?it/s]"
      ]
     },
     "metadata": {},
     "output_type": "display_data"
    },
    {
     "name": "stderr",
     "output_type": "stream",
     "text": [
      "[Parallel(n_jobs=-1)]: Using backend LokyBackend with 8 concurrent workers.\n"
     ]
    },
    {
     "name": "stdout",
     "output_type": "stream",
     "text": [
      "[done]\n",
      "    Using multitaper spectrum estimation with 7 DPSS windows\n",
      "Computing cross-spectral density from epochs...\n",
      "Got 8 parallel jobs after requesting -1\n",
      "Using ProgressBar with tqdm.auto\n"
     ]
    },
    {
     "data": {
      "application/vnd.jupyter.widget-view+json": {
       "model_id": "21634ecc9d6241b1a234fe2d6bd72039",
       "version_major": 2,
       "version_minor": 0
      },
      "text/plain": [
       "  0%|          | CSD epoch blocks : 0/1 [00:00<?,       ?it/s]"
      ]
     },
     "metadata": {},
     "output_type": "display_data"
    },
    {
     "name": "stdout",
     "output_type": "stream",
     "text": [
      "[done]\n",
      "247\n",
      "    Using multitaper spectrum estimation with 7 DPSS windows\n",
      "Computing cross-spectral density from epochs...\n",
      "Got 8 parallel jobs after requesting -1\n",
      "Using ProgressBar with tqdm.auto\n"
     ]
    },
    {
     "name": "stderr",
     "output_type": "stream",
     "text": [
      "[Parallel(n_jobs=-1)]: Using backend LokyBackend with 8 concurrent workers.\n",
      "/Users/savochkin/miniconda3/envs/myenv/lib/python3.9/site-packages/joblib/parallel.py:589: RuntimeWarning: Iterative multi-taper PSD computation did not converge.\n",
      "  return [func(*args, **kwargs)\n"
     ]
    },
    {
     "data": {
      "application/vnd.jupyter.widget-view+json": {
       "model_id": "3dc878b77bfc40ff856ef79fe4100213",
       "version_major": 2,
       "version_minor": 0
      },
      "text/plain": [
       "  0%|          | CSD epoch blocks : 0/1 [00:00<?,       ?it/s]"
      ]
     },
     "metadata": {},
     "output_type": "display_data"
    },
    {
     "name": "stderr",
     "output_type": "stream",
     "text": [
      "[Parallel(n_jobs=-1)]: Using backend LokyBackend with 8 concurrent workers.\n"
     ]
    },
    {
     "name": "stdout",
     "output_type": "stream",
     "text": [
      "[done]\n",
      "    Using multitaper spectrum estimation with 7 DPSS windows\n",
      "Computing cross-spectral density from epochs...\n",
      "Got 8 parallel jobs after requesting -1\n",
      "Using ProgressBar with tqdm.auto\n"
     ]
    },
    {
     "data": {
      "application/vnd.jupyter.widget-view+json": {
       "model_id": "16f15ba68dec488fba903330f2b1a1b4",
       "version_major": 2,
       "version_minor": 0
      },
      "text/plain": [
       "  0%|          | CSD epoch blocks : 0/1 [00:00<?,       ?it/s]"
      ]
     },
     "metadata": {},
     "output_type": "display_data"
    },
    {
     "name": "stdout",
     "output_type": "stream",
     "text": [
      "[done]\n",
      "248\n",
      "    Using multitaper spectrum estimation with 7 DPSS windows\n",
      "Computing cross-spectral density from epochs...\n",
      "Got 8 parallel jobs after requesting -1\n",
      "Using ProgressBar with tqdm.auto\n"
     ]
    },
    {
     "name": "stderr",
     "output_type": "stream",
     "text": [
      "[Parallel(n_jobs=-1)]: Using backend LokyBackend with 8 concurrent workers.\n",
      "/Users/savochkin/miniconda3/envs/myenv/lib/python3.9/site-packages/joblib/parallel.py:589: RuntimeWarning: Iterative multi-taper PSD computation did not converge.\n",
      "  return [func(*args, **kwargs)\n"
     ]
    },
    {
     "data": {
      "application/vnd.jupyter.widget-view+json": {
       "model_id": "9457cca043774d999e00323760ff1a59",
       "version_major": 2,
       "version_minor": 0
      },
      "text/plain": [
       "  0%|          | CSD epoch blocks : 0/1 [00:00<?,       ?it/s]"
      ]
     },
     "metadata": {},
     "output_type": "display_data"
    },
    {
     "name": "stderr",
     "output_type": "stream",
     "text": [
      "[Parallel(n_jobs=-1)]: Using backend LokyBackend with 8 concurrent workers.\n"
     ]
    },
    {
     "name": "stdout",
     "output_type": "stream",
     "text": [
      "[done]\n",
      "    Using multitaper spectrum estimation with 7 DPSS windows\n",
      "Computing cross-spectral density from epochs...\n",
      "Got 8 parallel jobs after requesting -1\n",
      "Using ProgressBar with tqdm.auto\n"
     ]
    },
    {
     "data": {
      "application/vnd.jupyter.widget-view+json": {
       "model_id": "0e1ca874e53f492cbca8ae69c6564b64",
       "version_major": 2,
       "version_minor": 0
      },
      "text/plain": [
       "  0%|          | CSD epoch blocks : 0/1 [00:00<?,       ?it/s]"
      ]
     },
     "metadata": {},
     "output_type": "display_data"
    },
    {
     "name": "stdout",
     "output_type": "stream",
     "text": [
      "[done]\n",
      "249\n",
      "    Using multitaper spectrum estimation with 7 DPSS windows\n",
      "Computing cross-spectral density from epochs...\n",
      "Got 8 parallel jobs after requesting -1\n",
      "Using ProgressBar with tqdm.auto\n"
     ]
    },
    {
     "name": "stderr",
     "output_type": "stream",
     "text": [
      "[Parallel(n_jobs=-1)]: Using backend LokyBackend with 8 concurrent workers.\n",
      "/Users/savochkin/miniconda3/envs/myenv/lib/python3.9/site-packages/joblib/parallel.py:589: RuntimeWarning: Iterative multi-taper PSD computation did not converge.\n",
      "  return [func(*args, **kwargs)\n"
     ]
    },
    {
     "data": {
      "application/vnd.jupyter.widget-view+json": {
       "model_id": "c7e90a68cc224eb19930491e2b15c843",
       "version_major": 2,
       "version_minor": 0
      },
      "text/plain": [
       "  0%|          | CSD epoch blocks : 0/1 [00:00<?,       ?it/s]"
      ]
     },
     "metadata": {},
     "output_type": "display_data"
    },
    {
     "name": "stderr",
     "output_type": "stream",
     "text": [
      "[Parallel(n_jobs=-1)]: Using backend LokyBackend with 8 concurrent workers.\n"
     ]
    },
    {
     "name": "stdout",
     "output_type": "stream",
     "text": [
      "[done]\n",
      "    Using multitaper spectrum estimation with 7 DPSS windows\n",
      "Computing cross-spectral density from epochs...\n",
      "Got 8 parallel jobs after requesting -1\n",
      "Using ProgressBar with tqdm.auto\n"
     ]
    },
    {
     "data": {
      "application/vnd.jupyter.widget-view+json": {
       "model_id": "42d25e5d56054a05a2d1fc2a241b7565",
       "version_major": 2,
       "version_minor": 0
      },
      "text/plain": [
       "  0%|          | CSD epoch blocks : 0/1 [00:00<?,       ?it/s]"
      ]
     },
     "metadata": {},
     "output_type": "display_data"
    },
    {
     "name": "stderr",
     "output_type": "stream",
     "text": [
      "[Parallel(n_jobs=-1)]: Using backend LokyBackend with 8 concurrent workers.\n",
      "/Users/savochkin/miniconda3/envs/myenv/lib/python3.9/site-packages/joblib/parallel.py:589: RuntimeWarning: Iterative multi-taper PSD computation did not converge.\n",
      "  return [func(*args, **kwargs)\n"
     ]
    },
    {
     "name": "stdout",
     "output_type": "stream",
     "text": [
      "[done]\n",
      "250\n",
      "    Using multitaper spectrum estimation with 7 DPSS windows\n",
      "Computing cross-spectral density from epochs...\n",
      "Got 8 parallel jobs after requesting -1\n",
      "Using ProgressBar with tqdm.auto\n"
     ]
    },
    {
     "data": {
      "application/vnd.jupyter.widget-view+json": {
       "model_id": "0d3dadcbaffa4fe4b1a93521a27a5298",
       "version_major": 2,
       "version_minor": 0
      },
      "text/plain": [
       "  0%|          | CSD epoch blocks : 0/1 [00:00<?,       ?it/s]"
      ]
     },
     "metadata": {},
     "output_type": "display_data"
    },
    {
     "name": "stderr",
     "output_type": "stream",
     "text": [
      "[Parallel(n_jobs=-1)]: Using backend LokyBackend with 8 concurrent workers.\n"
     ]
    },
    {
     "name": "stdout",
     "output_type": "stream",
     "text": [
      "[done]\n",
      "    Using multitaper spectrum estimation with 7 DPSS windows\n",
      "Computing cross-spectral density from epochs...\n",
      "Got 8 parallel jobs after requesting -1\n",
      "Using ProgressBar with tqdm.auto\n"
     ]
    },
    {
     "data": {
      "application/vnd.jupyter.widget-view+json": {
       "model_id": "8a2df94043c641068c98391af5116b39",
       "version_major": 2,
       "version_minor": 0
      },
      "text/plain": [
       "  0%|          | CSD epoch blocks : 0/1 [00:00<?,       ?it/s]"
      ]
     },
     "metadata": {},
     "output_type": "display_data"
    },
    {
     "name": "stderr",
     "output_type": "stream",
     "text": [
      "[Parallel(n_jobs=-1)]: Using backend LokyBackend with 8 concurrent workers.\n"
     ]
    },
    {
     "name": "stdout",
     "output_type": "stream",
     "text": [
      "[done]\n",
      "251\n",
      "    Using multitaper spectrum estimation with 7 DPSS windows\n",
      "Computing cross-spectral density from epochs...\n",
      "Got 8 parallel jobs after requesting -1\n",
      "Using ProgressBar with tqdm.auto\n"
     ]
    },
    {
     "name": "stderr",
     "output_type": "stream",
     "text": [
      "/Users/savochkin/miniconda3/envs/myenv/lib/python3.9/site-packages/joblib/parallel.py:589: RuntimeWarning: Iterative multi-taper PSD computation did not converge.\n",
      "  return [func(*args, **kwargs)\n"
     ]
    },
    {
     "data": {
      "application/vnd.jupyter.widget-view+json": {
       "model_id": "064fca2e0fd8417c99190ae395f8a3f7",
       "version_major": 2,
       "version_minor": 0
      },
      "text/plain": [
       "  0%|          | CSD epoch blocks : 0/1 [00:00<?,       ?it/s]"
      ]
     },
     "metadata": {},
     "output_type": "display_data"
    },
    {
     "name": "stderr",
     "output_type": "stream",
     "text": [
      "[Parallel(n_jobs=-1)]: Using backend LokyBackend with 8 concurrent workers.\n"
     ]
    },
    {
     "name": "stdout",
     "output_type": "stream",
     "text": [
      "[done]\n",
      "    Using multitaper spectrum estimation with 7 DPSS windows\n",
      "Computing cross-spectral density from epochs...\n",
      "Got 8 parallel jobs after requesting -1\n",
      "Using ProgressBar with tqdm.auto\n"
     ]
    },
    {
     "data": {
      "application/vnd.jupyter.widget-view+json": {
       "model_id": "8168ab49aa004581a1c74a924864fceb",
       "version_major": 2,
       "version_minor": 0
      },
      "text/plain": [
       "  0%|          | CSD epoch blocks : 0/1 [00:00<?,       ?it/s]"
      ]
     },
     "metadata": {},
     "output_type": "display_data"
    },
    {
     "name": "stderr",
     "output_type": "stream",
     "text": [
      "[Parallel(n_jobs=-1)]: Using backend LokyBackend with 8 concurrent workers.\n",
      "/Users/savochkin/miniconda3/envs/myenv/lib/python3.9/site-packages/joblib/parallel.py:589: RuntimeWarning: Iterative multi-taper PSD computation did not converge.\n",
      "  return [func(*args, **kwargs)\n"
     ]
    },
    {
     "name": "stdout",
     "output_type": "stream",
     "text": [
      "[done]\n",
      "252\n",
      "    Using multitaper spectrum estimation with 7 DPSS windows\n",
      "Computing cross-spectral density from epochs...\n",
      "Got 8 parallel jobs after requesting -1\n",
      "Using ProgressBar with tqdm.auto\n"
     ]
    },
    {
     "data": {
      "application/vnd.jupyter.widget-view+json": {
       "model_id": "ded4f00e4f0741ca94e4c83251dc2ced",
       "version_major": 2,
       "version_minor": 0
      },
      "text/plain": [
       "  0%|          | CSD epoch blocks : 0/1 [00:00<?,       ?it/s]"
      ]
     },
     "metadata": {},
     "output_type": "display_data"
    },
    {
     "name": "stderr",
     "output_type": "stream",
     "text": [
      "[Parallel(n_jobs=-1)]: Using backend LokyBackend with 8 concurrent workers.\n"
     ]
    },
    {
     "name": "stdout",
     "output_type": "stream",
     "text": [
      "[done]\n",
      "    Using multitaper spectrum estimation with 7 DPSS windows\n",
      "Computing cross-spectral density from epochs...\n",
      "Got 8 parallel jobs after requesting -1\n",
      "Using ProgressBar with tqdm.auto\n"
     ]
    },
    {
     "data": {
      "application/vnd.jupyter.widget-view+json": {
       "model_id": "d12dc63450854085a5e4bce9c33481e3",
       "version_major": 2,
       "version_minor": 0
      },
      "text/plain": [
       "  0%|          | CSD epoch blocks : 0/1 [00:00<?,       ?it/s]"
      ]
     },
     "metadata": {},
     "output_type": "display_data"
    },
    {
     "name": "stdout",
     "output_type": "stream",
     "text": [
      "[done]\n",
      "253\n",
      "    Using multitaper spectrum estimation with 7 DPSS windows\n",
      "Computing cross-spectral density from epochs...\n",
      "Got 8 parallel jobs after requesting -1\n",
      "Using ProgressBar with tqdm.auto\n"
     ]
    },
    {
     "name": "stderr",
     "output_type": "stream",
     "text": [
      "[Parallel(n_jobs=-1)]: Using backend LokyBackend with 8 concurrent workers.\n",
      "/Users/savochkin/miniconda3/envs/myenv/lib/python3.9/site-packages/joblib/parallel.py:589: RuntimeWarning: Iterative multi-taper PSD computation did not converge.\n",
      "  return [func(*args, **kwargs)\n"
     ]
    },
    {
     "data": {
      "application/vnd.jupyter.widget-view+json": {
       "model_id": "bc3ade9def0246cf96aa44f6c1a51bba",
       "version_major": 2,
       "version_minor": 0
      },
      "text/plain": [
       "  0%|          | CSD epoch blocks : 0/1 [00:00<?,       ?it/s]"
      ]
     },
     "metadata": {},
     "output_type": "display_data"
    },
    {
     "name": "stderr",
     "output_type": "stream",
     "text": [
      "[Parallel(n_jobs=-1)]: Using backend LokyBackend with 8 concurrent workers.\n"
     ]
    },
    {
     "name": "stdout",
     "output_type": "stream",
     "text": [
      "[done]\n",
      "    Using multitaper spectrum estimation with 7 DPSS windows\n",
      "Computing cross-spectral density from epochs...\n",
      "Got 8 parallel jobs after requesting -1\n",
      "Using ProgressBar with tqdm.auto\n"
     ]
    },
    {
     "data": {
      "application/vnd.jupyter.widget-view+json": {
       "model_id": "c778677f43a042fb9197f0c3d098957c",
       "version_major": 2,
       "version_minor": 0
      },
      "text/plain": [
       "  0%|          | CSD epoch blocks : 0/1 [00:00<?,       ?it/s]"
      ]
     },
     "metadata": {},
     "output_type": "display_data"
    },
    {
     "name": "stdout",
     "output_type": "stream",
     "text": [
      "[done]\n"
     ]
    },
    {
     "name": "stderr",
     "output_type": "stream",
     "text": [
      "[Parallel(n_jobs=-1)]: Using backend LokyBackend with 8 concurrent workers.\n",
      "/Users/savochkin/miniconda3/envs/myenv/lib/python3.9/site-packages/joblib/parallel.py:589: RuntimeWarning: Iterative multi-taper PSD computation did not converge.\n",
      "  return [func(*args, **kwargs)\n"
     ]
    },
    {
     "name": "stdout",
     "output_type": "stream",
     "text": [
      "254\n",
      "    Using multitaper spectrum estimation with 7 DPSS windows\n",
      "Computing cross-spectral density from epochs...\n",
      "Got 8 parallel jobs after requesting -1\n",
      "Using ProgressBar with tqdm.auto\n"
     ]
    },
    {
     "data": {
      "application/vnd.jupyter.widget-view+json": {
       "model_id": "f02aadf5cf4e41e19eb939ec6fe00f21",
       "version_major": 2,
       "version_minor": 0
      },
      "text/plain": [
       "  0%|          | CSD epoch blocks : 0/1 [00:00<?,       ?it/s]"
      ]
     },
     "metadata": {},
     "output_type": "display_data"
    },
    {
     "name": "stdout",
     "output_type": "stream",
     "text": [
      "[done]\n",
      "    Using multitaper spectrum estimation with 7 DPSS windows\n",
      "Computing cross-spectral density from epochs...\n",
      "Got 8 parallel jobs after requesting -1\n",
      "Using ProgressBar with tqdm.auto\n"
     ]
    },
    {
     "name": "stderr",
     "output_type": "stream",
     "text": [
      "[Parallel(n_jobs=-1)]: Using backend LokyBackend with 8 concurrent workers.\n"
     ]
    },
    {
     "data": {
      "application/vnd.jupyter.widget-view+json": {
       "model_id": "472785aff8694e66929bee29c267e70e",
       "version_major": 2,
       "version_minor": 0
      },
      "text/plain": [
       "  0%|          | CSD epoch blocks : 0/1 [00:00<?,       ?it/s]"
      ]
     },
     "metadata": {},
     "output_type": "display_data"
    },
    {
     "name": "stderr",
     "output_type": "stream",
     "text": [
      "[Parallel(n_jobs=-1)]: Using backend LokyBackend with 8 concurrent workers.\n",
      "/Users/savochkin/miniconda3/envs/myenv/lib/python3.9/site-packages/joblib/parallel.py:589: RuntimeWarning: Iterative multi-taper PSD computation did not converge.\n",
      "  return [func(*args, **kwargs)\n"
     ]
    },
    {
     "name": "stdout",
     "output_type": "stream",
     "text": [
      "[done]\n",
      "255\n",
      "    Using multitaper spectrum estimation with 7 DPSS windows\n",
      "Computing cross-spectral density from epochs...\n",
      "Got 8 parallel jobs after requesting -1\n",
      "Using ProgressBar with tqdm.auto\n"
     ]
    },
    {
     "data": {
      "application/vnd.jupyter.widget-view+json": {
       "model_id": "247439ce8251462ebea941d45d049aea",
       "version_major": 2,
       "version_minor": 0
      },
      "text/plain": [
       "  0%|          | CSD epoch blocks : 0/1 [00:00<?,       ?it/s]"
      ]
     },
     "metadata": {},
     "output_type": "display_data"
    },
    {
     "name": "stderr",
     "output_type": "stream",
     "text": [
      "[Parallel(n_jobs=-1)]: Using backend LokyBackend with 8 concurrent workers.\n"
     ]
    },
    {
     "name": "stdout",
     "output_type": "stream",
     "text": [
      "[done]\n",
      "    Using multitaper spectrum estimation with 7 DPSS windows\n",
      "Computing cross-spectral density from epochs...\n",
      "Got 8 parallel jobs after requesting -1\n",
      "Using ProgressBar with tqdm.auto\n"
     ]
    },
    {
     "data": {
      "application/vnd.jupyter.widget-view+json": {
       "model_id": "4e005264234b4dc09a0f4c16613740d0",
       "version_major": 2,
       "version_minor": 0
      },
      "text/plain": [
       "  0%|          | CSD epoch blocks : 0/1 [00:00<?,       ?it/s]"
      ]
     },
     "metadata": {},
     "output_type": "display_data"
    },
    {
     "name": "stdout",
     "output_type": "stream",
     "text": [
      "[done]\n"
     ]
    },
    {
     "name": "stderr",
     "output_type": "stream",
     "text": [
      "[Parallel(n_jobs=-1)]: Using backend LokyBackend with 8 concurrent workers.\n",
      "/Users/savochkin/miniconda3/envs/myenv/lib/python3.9/site-packages/joblib/parallel.py:589: RuntimeWarning: Iterative multi-taper PSD computation did not converge.\n",
      "  return [func(*args, **kwargs)\n"
     ]
    },
    {
     "name": "stdout",
     "output_type": "stream",
     "text": [
      "256\n",
      "    Using multitaper spectrum estimation with 7 DPSS windows\n",
      "Computing cross-spectral density from epochs...\n",
      "Got 8 parallel jobs after requesting -1\n",
      "Using ProgressBar with tqdm.auto\n"
     ]
    },
    {
     "data": {
      "application/vnd.jupyter.widget-view+json": {
       "model_id": "3e0005e8797b4b89a0b5303275428844",
       "version_major": 2,
       "version_minor": 0
      },
      "text/plain": [
       "  0%|          | CSD epoch blocks : 0/1 [00:00<?,       ?it/s]"
      ]
     },
     "metadata": {},
     "output_type": "display_data"
    },
    {
     "name": "stdout",
     "output_type": "stream",
     "text": [
      "[done]\n"
     ]
    },
    {
     "name": "stderr",
     "output_type": "stream",
     "text": [
      "[Parallel(n_jobs=-1)]: Using backend LokyBackend with 8 concurrent workers.\n"
     ]
    },
    {
     "name": "stdout",
     "output_type": "stream",
     "text": [
      "    Using multitaper spectrum estimation with 7 DPSS windows\n",
      "Computing cross-spectral density from epochs...\n",
      "Got 8 parallel jobs after requesting -1\n",
      "Using ProgressBar with tqdm.auto\n"
     ]
    },
    {
     "data": {
      "application/vnd.jupyter.widget-view+json": {
       "model_id": "beb9de3ba4a54278ae93613ee4d3c64b",
       "version_major": 2,
       "version_minor": 0
      },
      "text/plain": [
       "  0%|          | CSD epoch blocks : 0/1 [00:00<?,       ?it/s]"
      ]
     },
     "metadata": {},
     "output_type": "display_data"
    },
    {
     "name": "stdout",
     "output_type": "stream",
     "text": [
      "[done]\n"
     ]
    },
    {
     "name": "stderr",
     "output_type": "stream",
     "text": [
      "[Parallel(n_jobs=-1)]: Using backend LokyBackend with 8 concurrent workers.\n",
      "/Users/savochkin/miniconda3/envs/myenv/lib/python3.9/site-packages/joblib/parallel.py:589: RuntimeWarning: Iterative multi-taper PSD computation did not converge.\n",
      "  return [func(*args, **kwargs)\n"
     ]
    },
    {
     "name": "stdout",
     "output_type": "stream",
     "text": [
      "257\n",
      "    Using multitaper spectrum estimation with 7 DPSS windows\n",
      "Computing cross-spectral density from epochs...\n",
      "Got 8 parallel jobs after requesting -1\n",
      "Using ProgressBar with tqdm.auto\n"
     ]
    },
    {
     "data": {
      "application/vnd.jupyter.widget-view+json": {
       "model_id": "c7e91b5d231249e38e5022d2f7157daf",
       "version_major": 2,
       "version_minor": 0
      },
      "text/plain": [
       "  0%|          | CSD epoch blocks : 0/1 [00:00<?,       ?it/s]"
      ]
     },
     "metadata": {},
     "output_type": "display_data"
    },
    {
     "name": "stdout",
     "output_type": "stream",
     "text": [
      "[done]\n",
      "    Using multitaper spectrum estimation with 7 DPSS windows\n",
      "Computing cross-spectral density from epochs...\n",
      "Got 8 parallel jobs after requesting -1\n",
      "Using ProgressBar with tqdm.auto\n"
     ]
    },
    {
     "name": "stderr",
     "output_type": "stream",
     "text": [
      "[Parallel(n_jobs=-1)]: Using backend LokyBackend with 8 concurrent workers.\n"
     ]
    },
    {
     "data": {
      "application/vnd.jupyter.widget-view+json": {
       "model_id": "50a3664b296e458784109ab259d9fea4",
       "version_major": 2,
       "version_minor": 0
      },
      "text/plain": [
       "  0%|          | CSD epoch blocks : 0/1 [00:00<?,       ?it/s]"
      ]
     },
     "metadata": {},
     "output_type": "display_data"
    },
    {
     "name": "stderr",
     "output_type": "stream",
     "text": [
      "[Parallel(n_jobs=-1)]: Using backend LokyBackend with 8 concurrent workers.\n",
      "/Users/savochkin/miniconda3/envs/myenv/lib/python3.9/site-packages/joblib/parallel.py:589: RuntimeWarning: Iterative multi-taper PSD computation did not converge.\n",
      "  return [func(*args, **kwargs)\n"
     ]
    },
    {
     "name": "stdout",
     "output_type": "stream",
     "text": [
      "[done]\n",
      "258\n",
      "    Using multitaper spectrum estimation with 7 DPSS windows\n",
      "Computing cross-spectral density from epochs...\n",
      "Got 8 parallel jobs after requesting -1\n",
      "Using ProgressBar with tqdm.auto\n"
     ]
    },
    {
     "data": {
      "application/vnd.jupyter.widget-view+json": {
       "model_id": "7dc08f909bb34c388da3687371bbe266",
       "version_major": 2,
       "version_minor": 0
      },
      "text/plain": [
       "  0%|          | CSD epoch blocks : 0/1 [00:00<?,       ?it/s]"
      ]
     },
     "metadata": {},
     "output_type": "display_data"
    },
    {
     "name": "stderr",
     "output_type": "stream",
     "text": [
      "[Parallel(n_jobs=-1)]: Using backend LokyBackend with 8 concurrent workers.\n"
     ]
    },
    {
     "name": "stdout",
     "output_type": "stream",
     "text": [
      "[done]\n",
      "    Using multitaper spectrum estimation with 7 DPSS windows\n",
      "Computing cross-spectral density from epochs...\n",
      "Got 8 parallel jobs after requesting -1\n",
      "Using ProgressBar with tqdm.auto\n"
     ]
    },
    {
     "data": {
      "application/vnd.jupyter.widget-view+json": {
       "model_id": "479a7c5f430f44449e808919fe36138b",
       "version_major": 2,
       "version_minor": 0
      },
      "text/plain": [
       "  0%|          | CSD epoch blocks : 0/1 [00:00<?,       ?it/s]"
      ]
     },
     "metadata": {},
     "output_type": "display_data"
    },
    {
     "name": "stdout",
     "output_type": "stream",
     "text": [
      "[done]\n",
      "259\n",
      "    Using multitaper spectrum estimation with 7 DPSS windows\n",
      "Computing cross-spectral density from epochs...\n",
      "Got 8 parallel jobs after requesting -1\n",
      "Using ProgressBar with tqdm.auto\n"
     ]
    },
    {
     "name": "stderr",
     "output_type": "stream",
     "text": [
      "[Parallel(n_jobs=-1)]: Using backend LokyBackend with 8 concurrent workers.\n",
      "/Users/savochkin/miniconda3/envs/myenv/lib/python3.9/site-packages/joblib/parallel.py:589: RuntimeWarning: Iterative multi-taper PSD computation did not converge.\n",
      "  return [func(*args, **kwargs)\n"
     ]
    },
    {
     "data": {
      "application/vnd.jupyter.widget-view+json": {
       "model_id": "0032b53841a54a54a8face61caed4b15",
       "version_major": 2,
       "version_minor": 0
      },
      "text/plain": [
       "  0%|          | CSD epoch blocks : 0/1 [00:00<?,       ?it/s]"
      ]
     },
     "metadata": {},
     "output_type": "display_data"
    },
    {
     "name": "stderr",
     "output_type": "stream",
     "text": [
      "[Parallel(n_jobs=-1)]: Using backend LokyBackend with 8 concurrent workers.\n"
     ]
    },
    {
     "name": "stdout",
     "output_type": "stream",
     "text": [
      "[done]\n",
      "    Using multitaper spectrum estimation with 7 DPSS windows\n",
      "Computing cross-spectral density from epochs...\n",
      "Got 8 parallel jobs after requesting -1\n",
      "Using ProgressBar with tqdm.auto\n"
     ]
    },
    {
     "data": {
      "application/vnd.jupyter.widget-view+json": {
       "model_id": "074c7235367641e9be7734e7ea32b8a1",
       "version_major": 2,
       "version_minor": 0
      },
      "text/plain": [
       "  0%|          | CSD epoch blocks : 0/1 [00:00<?,       ?it/s]"
      ]
     },
     "metadata": {},
     "output_type": "display_data"
    },
    {
     "name": "stdout",
     "output_type": "stream",
     "text": [
      "[done]\n",
      "260\n",
      "    Using multitaper spectrum estimation with 7 DPSS windows\n",
      "Computing cross-spectral density from epochs...\n",
      "Got 8 parallel jobs after requesting -1\n",
      "Using ProgressBar with tqdm.auto\n"
     ]
    },
    {
     "name": "stderr",
     "output_type": "stream",
     "text": [
      "[Parallel(n_jobs=-1)]: Using backend LokyBackend with 8 concurrent workers.\n",
      "/Users/savochkin/miniconda3/envs/myenv/lib/python3.9/site-packages/joblib/parallel.py:589: RuntimeWarning: Iterative multi-taper PSD computation did not converge.\n",
      "  return [func(*args, **kwargs)\n"
     ]
    },
    {
     "data": {
      "application/vnd.jupyter.widget-view+json": {
       "model_id": "50260756480448a48ffb7bc1add1cda7",
       "version_major": 2,
       "version_minor": 0
      },
      "text/plain": [
       "  0%|          | CSD epoch blocks : 0/1 [00:00<?,       ?it/s]"
      ]
     },
     "metadata": {},
     "output_type": "display_data"
    },
    {
     "name": "stderr",
     "output_type": "stream",
     "text": [
      "[Parallel(n_jobs=-1)]: Using backend LokyBackend with 8 concurrent workers.\n"
     ]
    },
    {
     "name": "stdout",
     "output_type": "stream",
     "text": [
      "[done]\n",
      "    Using multitaper spectrum estimation with 7 DPSS windows\n",
      "Computing cross-spectral density from epochs...\n",
      "Got 8 parallel jobs after requesting -1\n",
      "Using ProgressBar with tqdm.auto\n"
     ]
    },
    {
     "data": {
      "application/vnd.jupyter.widget-view+json": {
       "model_id": "249de6118a90404e9d6d265af0faadbc",
       "version_major": 2,
       "version_minor": 0
      },
      "text/plain": [
       "  0%|          | CSD epoch blocks : 0/1 [00:00<?,       ?it/s]"
      ]
     },
     "metadata": {},
     "output_type": "display_data"
    },
    {
     "name": "stderr",
     "output_type": "stream",
     "text": [
      "[Parallel(n_jobs=-1)]: Using backend LokyBackend with 8 concurrent workers.\n"
     ]
    },
    {
     "name": "stdout",
     "output_type": "stream",
     "text": [
      "[done]\n",
      "261\n",
      "    Using multitaper spectrum estimation with 7 DPSS windows\n",
      "Computing cross-spectral density from epochs...\n",
      "Got 8 parallel jobs after requesting -1\n",
      "Using ProgressBar with tqdm.auto\n"
     ]
    },
    {
     "name": "stderr",
     "output_type": "stream",
     "text": [
      "/Users/savochkin/miniconda3/envs/myenv/lib/python3.9/site-packages/joblib/parallel.py:589: RuntimeWarning: Iterative multi-taper PSD computation did not converge.\n",
      "  return [func(*args, **kwargs)\n"
     ]
    },
    {
     "data": {
      "application/vnd.jupyter.widget-view+json": {
       "model_id": "fcfa55fe24d747e9a55e1dcc552295c2",
       "version_major": 2,
       "version_minor": 0
      },
      "text/plain": [
       "  0%|          | CSD epoch blocks : 0/1 [00:00<?,       ?it/s]"
      ]
     },
     "metadata": {},
     "output_type": "display_data"
    },
    {
     "name": "stderr",
     "output_type": "stream",
     "text": [
      "[Parallel(n_jobs=-1)]: Using backend LokyBackend with 8 concurrent workers.\n"
     ]
    },
    {
     "name": "stdout",
     "output_type": "stream",
     "text": [
      "[done]\n",
      "    Using multitaper spectrum estimation with 7 DPSS windows\n",
      "Computing cross-spectral density from epochs...\n",
      "Got 8 parallel jobs after requesting -1\n",
      "Using ProgressBar with tqdm.auto\n"
     ]
    },
    {
     "data": {
      "application/vnd.jupyter.widget-view+json": {
       "model_id": "68836897b719444ba3ae111e576be6a9",
       "version_major": 2,
       "version_minor": 0
      },
      "text/plain": [
       "  0%|          | CSD epoch blocks : 0/1 [00:00<?,       ?it/s]"
      ]
     },
     "metadata": {},
     "output_type": "display_data"
    },
    {
     "name": "stderr",
     "output_type": "stream",
     "text": [
      "[Parallel(n_jobs=-1)]: Using backend LokyBackend with 8 concurrent workers.\n",
      "/Users/savochkin/miniconda3/envs/myenv/lib/python3.9/site-packages/joblib/parallel.py:589: RuntimeWarning: Iterative multi-taper PSD computation did not converge.\n",
      "  return [func(*args, **kwargs)\n"
     ]
    },
    {
     "name": "stdout",
     "output_type": "stream",
     "text": [
      "[done]\n",
      "262\n",
      "    Using multitaper spectrum estimation with 7 DPSS windows\n",
      "Computing cross-spectral density from epochs...\n",
      "Got 8 parallel jobs after requesting -1\n",
      "Using ProgressBar with tqdm.auto\n"
     ]
    },
    {
     "data": {
      "application/vnd.jupyter.widget-view+json": {
       "model_id": "e9f499522776472b813e76abd690413d",
       "version_major": 2,
       "version_minor": 0
      },
      "text/plain": [
       "  0%|          | CSD epoch blocks : 0/1 [00:00<?,       ?it/s]"
      ]
     },
     "metadata": {},
     "output_type": "display_data"
    },
    {
     "name": "stderr",
     "output_type": "stream",
     "text": [
      "[Parallel(n_jobs=-1)]: Using backend LokyBackend with 8 concurrent workers.\n"
     ]
    },
    {
     "name": "stdout",
     "output_type": "stream",
     "text": [
      "[done]\n",
      "    Using multitaper spectrum estimation with 7 DPSS windows\n",
      "Computing cross-spectral density from epochs...\n",
      "Got 8 parallel jobs after requesting -1\n",
      "Using ProgressBar with tqdm.auto\n"
     ]
    },
    {
     "data": {
      "application/vnd.jupyter.widget-view+json": {
       "model_id": "1b1534b4a82744228adb351caaa32d7d",
       "version_major": 2,
       "version_minor": 0
      },
      "text/plain": [
       "  0%|          | CSD epoch blocks : 0/1 [00:00<?,       ?it/s]"
      ]
     },
     "metadata": {},
     "output_type": "display_data"
    },
    {
     "name": "stderr",
     "output_type": "stream",
     "text": [
      "[Parallel(n_jobs=-1)]: Using backend LokyBackend with 8 concurrent workers.\n"
     ]
    },
    {
     "name": "stdout",
     "output_type": "stream",
     "text": [
      "[done]\n",
      "263\n",
      "    Using multitaper spectrum estimation with 7 DPSS windows\n",
      "Computing cross-spectral density from epochs...\n",
      "Got 8 parallel jobs after requesting -1\n",
      "Using ProgressBar with tqdm.auto\n"
     ]
    },
    {
     "name": "stderr",
     "output_type": "stream",
     "text": [
      "/Users/savochkin/miniconda3/envs/myenv/lib/python3.9/site-packages/joblib/parallel.py:589: RuntimeWarning: Iterative multi-taper PSD computation did not converge.\n",
      "  return [func(*args, **kwargs)\n"
     ]
    },
    {
     "data": {
      "application/vnd.jupyter.widget-view+json": {
       "model_id": "b3c77885c4c14971bb7171f5f477199a",
       "version_major": 2,
       "version_minor": 0
      },
      "text/plain": [
       "  0%|          | CSD epoch blocks : 0/1 [00:00<?,       ?it/s]"
      ]
     },
     "metadata": {},
     "output_type": "display_data"
    },
    {
     "name": "stderr",
     "output_type": "stream",
     "text": [
      "[Parallel(n_jobs=-1)]: Using backend LokyBackend with 8 concurrent workers.\n"
     ]
    },
    {
     "name": "stdout",
     "output_type": "stream",
     "text": [
      "[done]\n",
      "    Using multitaper spectrum estimation with 7 DPSS windows\n",
      "Computing cross-spectral density from epochs...\n",
      "Got 8 parallel jobs after requesting -1\n",
      "Using ProgressBar with tqdm.auto\n"
     ]
    },
    {
     "data": {
      "application/vnd.jupyter.widget-view+json": {
       "model_id": "0da8fad523304b468d5596fa61c7a4f4",
       "version_major": 2,
       "version_minor": 0
      },
      "text/plain": [
       "  0%|          | CSD epoch blocks : 0/1 [00:00<?,       ?it/s]"
      ]
     },
     "metadata": {},
     "output_type": "display_data"
    },
    {
     "name": "stdout",
     "output_type": "stream",
     "text": [
      "[done]\n",
      "264\n",
      "    Using multitaper spectrum estimation with 7 DPSS windows\n",
      "Computing cross-spectral density from epochs...\n",
      "Got 8 parallel jobs after requesting -1\n",
      "Using ProgressBar with tqdm.auto\n"
     ]
    },
    {
     "name": "stderr",
     "output_type": "stream",
     "text": [
      "[Parallel(n_jobs=-1)]: Using backend LokyBackend with 8 concurrent workers.\n",
      "/Users/savochkin/miniconda3/envs/myenv/lib/python3.9/site-packages/joblib/parallel.py:589: RuntimeWarning: Iterative multi-taper PSD computation did not converge.\n",
      "  return [func(*args, **kwargs)\n"
     ]
    },
    {
     "data": {
      "application/vnd.jupyter.widget-view+json": {
       "model_id": "f900c55f188b45619fd24b58b81d1b05",
       "version_major": 2,
       "version_minor": 0
      },
      "text/plain": [
       "  0%|          | CSD epoch blocks : 0/1 [00:00<?,       ?it/s]"
      ]
     },
     "metadata": {},
     "output_type": "display_data"
    },
    {
     "name": "stderr",
     "output_type": "stream",
     "text": [
      "[Parallel(n_jobs=-1)]: Using backend LokyBackend with 8 concurrent workers.\n"
     ]
    },
    {
     "name": "stdout",
     "output_type": "stream",
     "text": [
      "[done]\n",
      "    Using multitaper spectrum estimation with 7 DPSS windows\n",
      "Computing cross-spectral density from epochs...\n",
      "Got 8 parallel jobs after requesting -1\n",
      "Using ProgressBar with tqdm.auto\n"
     ]
    },
    {
     "data": {
      "application/vnd.jupyter.widget-view+json": {
       "model_id": "5fbdfca423534f0fa6257ac3169b431e",
       "version_major": 2,
       "version_minor": 0
      },
      "text/plain": [
       "  0%|          | CSD epoch blocks : 0/1 [00:00<?,       ?it/s]"
      ]
     },
     "metadata": {},
     "output_type": "display_data"
    },
    {
     "name": "stderr",
     "output_type": "stream",
     "text": [
      "[Parallel(n_jobs=-1)]: Using backend LokyBackend with 8 concurrent workers.\n"
     ]
    },
    {
     "name": "stdout",
     "output_type": "stream",
     "text": [
      "[done]\n",
      "265\n",
      "    Using multitaper spectrum estimation with 7 DPSS windows\n",
      "Computing cross-spectral density from epochs...\n",
      "Got 8 parallel jobs after requesting -1\n",
      "Using ProgressBar with tqdm.auto\n"
     ]
    },
    {
     "name": "stderr",
     "output_type": "stream",
     "text": [
      "/Users/savochkin/miniconda3/envs/myenv/lib/python3.9/site-packages/joblib/parallel.py:589: RuntimeWarning: Iterative multi-taper PSD computation did not converge.\n",
      "  return [func(*args, **kwargs)\n"
     ]
    },
    {
     "data": {
      "application/vnd.jupyter.widget-view+json": {
       "model_id": "e8c3fda9b8b24d60860387f8380565b2",
       "version_major": 2,
       "version_minor": 0
      },
      "text/plain": [
       "  0%|          | CSD epoch blocks : 0/1 [00:00<?,       ?it/s]"
      ]
     },
     "metadata": {},
     "output_type": "display_data"
    },
    {
     "name": "stderr",
     "output_type": "stream",
     "text": [
      "[Parallel(n_jobs=-1)]: Using backend LokyBackend with 8 concurrent workers.\n"
     ]
    },
    {
     "name": "stdout",
     "output_type": "stream",
     "text": [
      "[done]\n",
      "    Using multitaper spectrum estimation with 7 DPSS windows\n",
      "Computing cross-spectral density from epochs...\n",
      "Got 8 parallel jobs after requesting -1\n",
      "Using ProgressBar with tqdm.auto\n"
     ]
    },
    {
     "data": {
      "application/vnd.jupyter.widget-view+json": {
       "model_id": "91e1924a1f1a40e4bcd764e3f7f12ec2",
       "version_major": 2,
       "version_minor": 0
      },
      "text/plain": [
       "  0%|          | CSD epoch blocks : 0/1 [00:00<?,       ?it/s]"
      ]
     },
     "metadata": {},
     "output_type": "display_data"
    },
    {
     "name": "stderr",
     "output_type": "stream",
     "text": [
      "[Parallel(n_jobs=-1)]: Using backend LokyBackend with 8 concurrent workers.\n"
     ]
    },
    {
     "name": "stdout",
     "output_type": "stream",
     "text": [
      "[done]\n",
      "266\n",
      "    Using multitaper spectrum estimation with 7 DPSS windows\n",
      "Computing cross-spectral density from epochs...\n",
      "Got 8 parallel jobs after requesting -1\n",
      "Using ProgressBar with tqdm.auto\n"
     ]
    },
    {
     "name": "stderr",
     "output_type": "stream",
     "text": [
      "/Users/savochkin/miniconda3/envs/myenv/lib/python3.9/site-packages/joblib/parallel.py:589: RuntimeWarning: Iterative multi-taper PSD computation did not converge.\n",
      "  return [func(*args, **kwargs)\n"
     ]
    },
    {
     "data": {
      "application/vnd.jupyter.widget-view+json": {
       "model_id": "094e91a62d874e7db3332fdcc55c8251",
       "version_major": 2,
       "version_minor": 0
      },
      "text/plain": [
       "  0%|          | CSD epoch blocks : 0/1 [00:00<?,       ?it/s]"
      ]
     },
     "metadata": {},
     "output_type": "display_data"
    },
    {
     "name": "stderr",
     "output_type": "stream",
     "text": [
      "[Parallel(n_jobs=-1)]: Using backend LokyBackend with 8 concurrent workers.\n"
     ]
    },
    {
     "name": "stdout",
     "output_type": "stream",
     "text": [
      "[done]\n",
      "    Using multitaper spectrum estimation with 7 DPSS windows\n",
      "Computing cross-spectral density from epochs...\n",
      "Got 8 parallel jobs after requesting -1\n",
      "Using ProgressBar with tqdm.auto\n"
     ]
    },
    {
     "data": {
      "application/vnd.jupyter.widget-view+json": {
       "model_id": "e4d5c675337146c687b3ced9163428ae",
       "version_major": 2,
       "version_minor": 0
      },
      "text/plain": [
       "  0%|          | CSD epoch blocks : 0/1 [00:00<?,       ?it/s]"
      ]
     },
     "metadata": {},
     "output_type": "display_data"
    },
    {
     "name": "stderr",
     "output_type": "stream",
     "text": [
      "[Parallel(n_jobs=-1)]: Using backend LokyBackend with 8 concurrent workers.\n"
     ]
    },
    {
     "name": "stdout",
     "output_type": "stream",
     "text": [
      "[done]\n",
      "267\n",
      "    Using multitaper spectrum estimation with 7 DPSS windows\n",
      "Computing cross-spectral density from epochs...\n",
      "Got 8 parallel jobs after requesting -1\n",
      "Using ProgressBar with tqdm.auto\n"
     ]
    },
    {
     "name": "stderr",
     "output_type": "stream",
     "text": [
      "/Users/savochkin/miniconda3/envs/myenv/lib/python3.9/site-packages/joblib/parallel.py:589: RuntimeWarning: Iterative multi-taper PSD computation did not converge.\n",
      "  return [func(*args, **kwargs)\n"
     ]
    },
    {
     "data": {
      "application/vnd.jupyter.widget-view+json": {
       "model_id": "aeec5cf3bff148d898dbbf7ea0cf4c8d",
       "version_major": 2,
       "version_minor": 0
      },
      "text/plain": [
       "  0%|          | CSD epoch blocks : 0/1 [00:00<?,       ?it/s]"
      ]
     },
     "metadata": {},
     "output_type": "display_data"
    },
    {
     "name": "stderr",
     "output_type": "stream",
     "text": [
      "[Parallel(n_jobs=-1)]: Using backend LokyBackend with 8 concurrent workers.\n"
     ]
    },
    {
     "name": "stdout",
     "output_type": "stream",
     "text": [
      "[done]\n",
      "    Using multitaper spectrum estimation with 7 DPSS windows\n",
      "Computing cross-spectral density from epochs...\n",
      "Got 8 parallel jobs after requesting -1\n",
      "Using ProgressBar with tqdm.auto\n"
     ]
    },
    {
     "data": {
      "application/vnd.jupyter.widget-view+json": {
       "model_id": "216fc25331f9457b9b0653df46c654c9",
       "version_major": 2,
       "version_minor": 0
      },
      "text/plain": [
       "  0%|          | CSD epoch blocks : 0/1 [00:00<?,       ?it/s]"
      ]
     },
     "metadata": {},
     "output_type": "display_data"
    },
    {
     "name": "stdout",
     "output_type": "stream",
     "text": [
      "[done]\n",
      "268\n",
      "    Using multitaper spectrum estimation with 7 DPSS windows\n",
      "Computing cross-spectral density from epochs...\n",
      "Got 8 parallel jobs after requesting -1\n",
      "Using ProgressBar with tqdm.auto\n"
     ]
    },
    {
     "name": "stderr",
     "output_type": "stream",
     "text": [
      "[Parallel(n_jobs=-1)]: Using backend LokyBackend with 8 concurrent workers.\n",
      "/Users/savochkin/miniconda3/envs/myenv/lib/python3.9/site-packages/joblib/parallel.py:589: RuntimeWarning: Iterative multi-taper PSD computation did not converge.\n",
      "  return [func(*args, **kwargs)\n"
     ]
    },
    {
     "data": {
      "application/vnd.jupyter.widget-view+json": {
       "model_id": "eb48e6e1a17e476db4b143d871d7b2f7",
       "version_major": 2,
       "version_minor": 0
      },
      "text/plain": [
       "  0%|          | CSD epoch blocks : 0/1 [00:00<?,       ?it/s]"
      ]
     },
     "metadata": {},
     "output_type": "display_data"
    },
    {
     "name": "stderr",
     "output_type": "stream",
     "text": [
      "[Parallel(n_jobs=-1)]: Using backend LokyBackend with 8 concurrent workers.\n"
     ]
    },
    {
     "name": "stdout",
     "output_type": "stream",
     "text": [
      "[done]\n",
      "    Using multitaper spectrum estimation with 7 DPSS windows\n",
      "Computing cross-spectral density from epochs...\n",
      "Got 8 parallel jobs after requesting -1\n",
      "Using ProgressBar with tqdm.auto\n"
     ]
    },
    {
     "data": {
      "application/vnd.jupyter.widget-view+json": {
       "model_id": "d0f9014db5ef4ef7a413d53c0eefcbbe",
       "version_major": 2,
       "version_minor": 0
      },
      "text/plain": [
       "  0%|          | CSD epoch blocks : 0/1 [00:00<?,       ?it/s]"
      ]
     },
     "metadata": {},
     "output_type": "display_data"
    },
    {
     "name": "stdout",
     "output_type": "stream",
     "text": [
      "[done]\n",
      "269\n",
      "    Using multitaper spectrum estimation with 7 DPSS windows\n",
      "Computing cross-spectral density from epochs...\n",
      "Got 8 parallel jobs after requesting -1\n",
      "Using ProgressBar with tqdm.auto\n"
     ]
    },
    {
     "name": "stderr",
     "output_type": "stream",
     "text": [
      "[Parallel(n_jobs=-1)]: Using backend LokyBackend with 8 concurrent workers.\n",
      "/Users/savochkin/miniconda3/envs/myenv/lib/python3.9/site-packages/joblib/parallel.py:589: RuntimeWarning: Iterative multi-taper PSD computation did not converge.\n",
      "  return [func(*args, **kwargs)\n"
     ]
    },
    {
     "data": {
      "application/vnd.jupyter.widget-view+json": {
       "model_id": "eef7f72f72e74a538f99cb0c5a393fa8",
       "version_major": 2,
       "version_minor": 0
      },
      "text/plain": [
       "  0%|          | CSD epoch blocks : 0/1 [00:00<?,       ?it/s]"
      ]
     },
     "metadata": {},
     "output_type": "display_data"
    },
    {
     "name": "stderr",
     "output_type": "stream",
     "text": [
      "[Parallel(n_jobs=-1)]: Using backend LokyBackend with 8 concurrent workers.\n"
     ]
    },
    {
     "name": "stdout",
     "output_type": "stream",
     "text": [
      "[done]\n",
      "    Using multitaper spectrum estimation with 7 DPSS windows\n",
      "Computing cross-spectral density from epochs...\n",
      "Got 8 parallel jobs after requesting -1\n",
      "Using ProgressBar with tqdm.auto\n"
     ]
    },
    {
     "data": {
      "application/vnd.jupyter.widget-view+json": {
       "model_id": "4d753d600bf642a5a3d5742d366b5ee0",
       "version_major": 2,
       "version_minor": 0
      },
      "text/plain": [
       "  0%|          | CSD epoch blocks : 0/1 [00:00<?,       ?it/s]"
      ]
     },
     "metadata": {},
     "output_type": "display_data"
    },
    {
     "name": "stdout",
     "output_type": "stream",
     "text": [
      "[done]\n",
      "270\n",
      "    Using multitaper spectrum estimation with 7 DPSS windows\n",
      "Computing cross-spectral density from epochs...\n",
      "Got 8 parallel jobs after requesting -1\n",
      "Using ProgressBar with tqdm.auto\n"
     ]
    },
    {
     "name": "stderr",
     "output_type": "stream",
     "text": [
      "[Parallel(n_jobs=-1)]: Using backend LokyBackend with 8 concurrent workers.\n",
      "/Users/savochkin/miniconda3/envs/myenv/lib/python3.9/site-packages/joblib/parallel.py:589: RuntimeWarning: Iterative multi-taper PSD computation did not converge.\n",
      "  return [func(*args, **kwargs)\n"
     ]
    },
    {
     "data": {
      "application/vnd.jupyter.widget-view+json": {
       "model_id": "581ca2714fe542269a07936c5a884f7c",
       "version_major": 2,
       "version_minor": 0
      },
      "text/plain": [
       "  0%|          | CSD epoch blocks : 0/1 [00:00<?,       ?it/s]"
      ]
     },
     "metadata": {},
     "output_type": "display_data"
    },
    {
     "name": "stderr",
     "output_type": "stream",
     "text": [
      "[Parallel(n_jobs=-1)]: Using backend LokyBackend with 8 concurrent workers.\n"
     ]
    },
    {
     "name": "stdout",
     "output_type": "stream",
     "text": [
      "[done]\n",
      "    Using multitaper spectrum estimation with 7 DPSS windows\n",
      "Computing cross-spectral density from epochs...\n",
      "Got 8 parallel jobs after requesting -1\n",
      "Using ProgressBar with tqdm.auto\n"
     ]
    },
    {
     "data": {
      "application/vnd.jupyter.widget-view+json": {
       "model_id": "f3de106d430b4524a02b69f7ffb9fb9c",
       "version_major": 2,
       "version_minor": 0
      },
      "text/plain": [
       "  0%|          | CSD epoch blocks : 0/1 [00:00<?,       ?it/s]"
      ]
     },
     "metadata": {},
     "output_type": "display_data"
    },
    {
     "name": "stdout",
     "output_type": "stream",
     "text": [
      "[done]\n",
      "271\n",
      "    Using multitaper spectrum estimation with 7 DPSS windows\n",
      "Computing cross-spectral density from epochs...\n",
      "Got 8 parallel jobs after requesting -1\n",
      "Using ProgressBar with tqdm.auto\n"
     ]
    },
    {
     "name": "stderr",
     "output_type": "stream",
     "text": [
      "[Parallel(n_jobs=-1)]: Using backend LokyBackend with 8 concurrent workers.\n",
      "/Users/savochkin/miniconda3/envs/myenv/lib/python3.9/site-packages/joblib/parallel.py:589: RuntimeWarning: Iterative multi-taper PSD computation did not converge.\n",
      "  return [func(*args, **kwargs)\n"
     ]
    },
    {
     "data": {
      "application/vnd.jupyter.widget-view+json": {
       "model_id": "705adc90126c44e89570e912d6cc4f4f",
       "version_major": 2,
       "version_minor": 0
      },
      "text/plain": [
       "  0%|          | CSD epoch blocks : 0/1 [00:00<?,       ?it/s]"
      ]
     },
     "metadata": {},
     "output_type": "display_data"
    },
    {
     "name": "stderr",
     "output_type": "stream",
     "text": [
      "[Parallel(n_jobs=-1)]: Using backend LokyBackend with 8 concurrent workers.\n"
     ]
    },
    {
     "name": "stdout",
     "output_type": "stream",
     "text": [
      "[done]\n",
      "    Using multitaper spectrum estimation with 7 DPSS windows\n",
      "Computing cross-spectral density from epochs...\n",
      "Got 8 parallel jobs after requesting -1\n",
      "Using ProgressBar with tqdm.auto\n"
     ]
    },
    {
     "data": {
      "application/vnd.jupyter.widget-view+json": {
       "model_id": "0ebc62361b764da4ae34a725b8f13389",
       "version_major": 2,
       "version_minor": 0
      },
      "text/plain": [
       "  0%|          | CSD epoch blocks : 0/1 [00:00<?,       ?it/s]"
      ]
     },
     "metadata": {},
     "output_type": "display_data"
    },
    {
     "name": "stdout",
     "output_type": "stream",
     "text": [
      "[done]\n",
      "272\n",
      "    Using multitaper spectrum estimation with 7 DPSS windows\n",
      "Computing cross-spectral density from epochs...\n",
      "Got 8 parallel jobs after requesting -1\n",
      "Using ProgressBar with tqdm.auto\n"
     ]
    },
    {
     "name": "stderr",
     "output_type": "stream",
     "text": [
      "[Parallel(n_jobs=-1)]: Using backend LokyBackend with 8 concurrent workers.\n",
      "/Users/savochkin/miniconda3/envs/myenv/lib/python3.9/site-packages/joblib/parallel.py:589: RuntimeWarning: Iterative multi-taper PSD computation did not converge.\n",
      "  return [func(*args, **kwargs)\n"
     ]
    },
    {
     "data": {
      "application/vnd.jupyter.widget-view+json": {
       "model_id": "b139764045ef421d8e80353882701c4a",
       "version_major": 2,
       "version_minor": 0
      },
      "text/plain": [
       "  0%|          | CSD epoch blocks : 0/1 [00:00<?,       ?it/s]"
      ]
     },
     "metadata": {},
     "output_type": "display_data"
    },
    {
     "name": "stderr",
     "output_type": "stream",
     "text": [
      "[Parallel(n_jobs=-1)]: Using backend LokyBackend with 8 concurrent workers.\n"
     ]
    },
    {
     "name": "stdout",
     "output_type": "stream",
     "text": [
      "[done]\n",
      "    Using multitaper spectrum estimation with 7 DPSS windows\n",
      "Computing cross-spectral density from epochs...\n",
      "Got 8 parallel jobs after requesting -1\n",
      "Using ProgressBar with tqdm.auto\n"
     ]
    },
    {
     "data": {
      "application/vnd.jupyter.widget-view+json": {
       "model_id": "d3e6070950094817bc42f431b7e09435",
       "version_major": 2,
       "version_minor": 0
      },
      "text/plain": [
       "  0%|          | CSD epoch blocks : 0/1 [00:00<?,       ?it/s]"
      ]
     },
     "metadata": {},
     "output_type": "display_data"
    },
    {
     "name": "stderr",
     "output_type": "stream",
     "text": [
      "[Parallel(n_jobs=-1)]: Using backend LokyBackend with 8 concurrent workers.\n",
      "/Users/savochkin/miniconda3/envs/myenv/lib/python3.9/site-packages/joblib/parallel.py:589: RuntimeWarning: Iterative multi-taper PSD computation did not converge.\n",
      "  return [func(*args, **kwargs)\n"
     ]
    },
    {
     "name": "stdout",
     "output_type": "stream",
     "text": [
      "[done]\n",
      "273\n",
      "    Using multitaper spectrum estimation with 7 DPSS windows\n",
      "Computing cross-spectral density from epochs...\n",
      "Got 8 parallel jobs after requesting -1\n",
      "Using ProgressBar with tqdm.auto\n"
     ]
    },
    {
     "data": {
      "application/vnd.jupyter.widget-view+json": {
       "model_id": "7fb02427f8b34d30b105ac62f0565602",
       "version_major": 2,
       "version_minor": 0
      },
      "text/plain": [
       "  0%|          | CSD epoch blocks : 0/1 [00:00<?,       ?it/s]"
      ]
     },
     "metadata": {},
     "output_type": "display_data"
    },
    {
     "name": "stderr",
     "output_type": "stream",
     "text": [
      "[Parallel(n_jobs=-1)]: Using backend LokyBackend with 8 concurrent workers.\n"
     ]
    },
    {
     "name": "stdout",
     "output_type": "stream",
     "text": [
      "[done]\n",
      "    Using multitaper spectrum estimation with 7 DPSS windows\n",
      "Computing cross-spectral density from epochs...\n",
      "Got 8 parallel jobs after requesting -1\n",
      "Using ProgressBar with tqdm.auto\n"
     ]
    },
    {
     "data": {
      "application/vnd.jupyter.widget-view+json": {
       "model_id": "9a1f780177bd4f418a5182861feeb393",
       "version_major": 2,
       "version_minor": 0
      },
      "text/plain": [
       "  0%|          | CSD epoch blocks : 0/1 [00:00<?,       ?it/s]"
      ]
     },
     "metadata": {},
     "output_type": "display_data"
    },
    {
     "name": "stdout",
     "output_type": "stream",
     "text": [
      "[done]\n",
      "274\n",
      "    Using multitaper spectrum estimation with 7 DPSS windows\n",
      "Computing cross-spectral density from epochs...\n",
      "Got 8 parallel jobs after requesting -1\n",
      "Using ProgressBar with tqdm.auto\n"
     ]
    },
    {
     "name": "stderr",
     "output_type": "stream",
     "text": [
      "[Parallel(n_jobs=-1)]: Using backend LokyBackend with 8 concurrent workers.\n",
      "/Users/savochkin/miniconda3/envs/myenv/lib/python3.9/site-packages/joblib/parallel.py:589: RuntimeWarning: Iterative multi-taper PSD computation did not converge.\n",
      "  return [func(*args, **kwargs)\n"
     ]
    },
    {
     "data": {
      "application/vnd.jupyter.widget-view+json": {
       "model_id": "cf610d35691547ff951adc6ec0d424e4",
       "version_major": 2,
       "version_minor": 0
      },
      "text/plain": [
       "  0%|          | CSD epoch blocks : 0/1 [00:00<?,       ?it/s]"
      ]
     },
     "metadata": {},
     "output_type": "display_data"
    },
    {
     "name": "stderr",
     "output_type": "stream",
     "text": [
      "[Parallel(n_jobs=-1)]: Using backend LokyBackend with 8 concurrent workers.\n"
     ]
    },
    {
     "name": "stdout",
     "output_type": "stream",
     "text": [
      "[done]\n",
      "    Using multitaper spectrum estimation with 7 DPSS windows\n",
      "Computing cross-spectral density from epochs...\n",
      "Got 8 parallel jobs after requesting -1\n",
      "Using ProgressBar with tqdm.auto\n"
     ]
    },
    {
     "data": {
      "application/vnd.jupyter.widget-view+json": {
       "model_id": "c3125afbe32644a7bfe0a91e0c18206e",
       "version_major": 2,
       "version_minor": 0
      },
      "text/plain": [
       "  0%|          | CSD epoch blocks : 0/1 [00:00<?,       ?it/s]"
      ]
     },
     "metadata": {},
     "output_type": "display_data"
    },
    {
     "name": "stderr",
     "output_type": "stream",
     "text": [
      "[Parallel(n_jobs=-1)]: Using backend LokyBackend with 8 concurrent workers.\n",
      "/Users/savochkin/miniconda3/envs/myenv/lib/python3.9/site-packages/joblib/parallel.py:589: RuntimeWarning: Iterative multi-taper PSD computation did not converge.\n",
      "  return [func(*args, **kwargs)\n"
     ]
    },
    {
     "name": "stdout",
     "output_type": "stream",
     "text": [
      "[done]\n",
      "275\n",
      "    Using multitaper spectrum estimation with 7 DPSS windows\n",
      "Computing cross-spectral density from epochs...\n",
      "Got 8 parallel jobs after requesting -1\n",
      "Using ProgressBar with tqdm.auto\n"
     ]
    },
    {
     "data": {
      "application/vnd.jupyter.widget-view+json": {
       "model_id": "44356ba354ab4905afb60c9a63efcb66",
       "version_major": 2,
       "version_minor": 0
      },
      "text/plain": [
       "  0%|          | CSD epoch blocks : 0/1 [00:00<?,       ?it/s]"
      ]
     },
     "metadata": {},
     "output_type": "display_data"
    },
    {
     "name": "stderr",
     "output_type": "stream",
     "text": [
      "[Parallel(n_jobs=-1)]: Using backend LokyBackend with 8 concurrent workers.\n"
     ]
    },
    {
     "name": "stdout",
     "output_type": "stream",
     "text": [
      "[done]\n",
      "    Using multitaper spectrum estimation with 7 DPSS windows\n",
      "Computing cross-spectral density from epochs...\n",
      "Got 8 parallel jobs after requesting -1\n",
      "Using ProgressBar with tqdm.auto\n"
     ]
    },
    {
     "data": {
      "application/vnd.jupyter.widget-view+json": {
       "model_id": "4a18c10bfc7043369653b0ba2c3917d1",
       "version_major": 2,
       "version_minor": 0
      },
      "text/plain": [
       "  0%|          | CSD epoch blocks : 0/1 [00:00<?,       ?it/s]"
      ]
     },
     "metadata": {},
     "output_type": "display_data"
    },
    {
     "name": "stdout",
     "output_type": "stream",
     "text": [
      "[done]\n",
      "276\n",
      "    Using multitaper spectrum estimation with 7 DPSS windows\n",
      "Computing cross-spectral density from epochs...\n",
      "Got 8 parallel jobs after requesting -1\n",
      "Using ProgressBar with tqdm.auto\n"
     ]
    },
    {
     "name": "stderr",
     "output_type": "stream",
     "text": [
      "[Parallel(n_jobs=-1)]: Using backend LokyBackend with 8 concurrent workers.\n",
      "/Users/savochkin/miniconda3/envs/myenv/lib/python3.9/site-packages/joblib/parallel.py:589: RuntimeWarning: Iterative multi-taper PSD computation did not converge.\n",
      "  return [func(*args, **kwargs)\n"
     ]
    },
    {
     "data": {
      "application/vnd.jupyter.widget-view+json": {
       "model_id": "ef968e21f4ae46d6995070f9543e723d",
       "version_major": 2,
       "version_minor": 0
      },
      "text/plain": [
       "  0%|          | CSD epoch blocks : 0/1 [00:00<?,       ?it/s]"
      ]
     },
     "metadata": {},
     "output_type": "display_data"
    },
    {
     "name": "stderr",
     "output_type": "stream",
     "text": [
      "[Parallel(n_jobs=-1)]: Using backend LokyBackend with 8 concurrent workers.\n"
     ]
    },
    {
     "name": "stdout",
     "output_type": "stream",
     "text": [
      "[done]\n",
      "    Using multitaper spectrum estimation with 7 DPSS windows\n",
      "Computing cross-spectral density from epochs...\n",
      "Got 8 parallel jobs after requesting -1\n",
      "Using ProgressBar with tqdm.auto\n"
     ]
    },
    {
     "data": {
      "application/vnd.jupyter.widget-view+json": {
       "model_id": "3fff22bf3d3e427783bd82d4f89af6d5",
       "version_major": 2,
       "version_minor": 0
      },
      "text/plain": [
       "  0%|          | CSD epoch blocks : 0/1 [00:00<?,       ?it/s]"
      ]
     },
     "metadata": {},
     "output_type": "display_data"
    },
    {
     "name": "stdout",
     "output_type": "stream",
     "text": [
      "[done]\n",
      "277\n",
      "    Using multitaper spectrum estimation with 7 DPSS windows\n",
      "Computing cross-spectral density from epochs...\n",
      "Got 8 parallel jobs after requesting -1\n",
      "Using ProgressBar with tqdm.auto\n"
     ]
    },
    {
     "name": "stderr",
     "output_type": "stream",
     "text": [
      "[Parallel(n_jobs=-1)]: Using backend LokyBackend with 8 concurrent workers.\n",
      "/Users/savochkin/miniconda3/envs/myenv/lib/python3.9/site-packages/joblib/parallel.py:589: RuntimeWarning: Iterative multi-taper PSD computation did not converge.\n",
      "  return [func(*args, **kwargs)\n"
     ]
    },
    {
     "data": {
      "application/vnd.jupyter.widget-view+json": {
       "model_id": "ed0b5bb6c9bd47878a90355ef80f5263",
       "version_major": 2,
       "version_minor": 0
      },
      "text/plain": [
       "  0%|          | CSD epoch blocks : 0/1 [00:00<?,       ?it/s]"
      ]
     },
     "metadata": {},
     "output_type": "display_data"
    },
    {
     "name": "stderr",
     "output_type": "stream",
     "text": [
      "[Parallel(n_jobs=-1)]: Using backend LokyBackend with 8 concurrent workers.\n"
     ]
    },
    {
     "name": "stdout",
     "output_type": "stream",
     "text": [
      "[done]\n",
      "    Using multitaper spectrum estimation with 7 DPSS windows\n",
      "Computing cross-spectral density from epochs...\n",
      "Got 8 parallel jobs after requesting -1\n",
      "Using ProgressBar with tqdm.auto\n"
     ]
    },
    {
     "data": {
      "application/vnd.jupyter.widget-view+json": {
       "model_id": "88f38196a8f9498ab804752240693f6f",
       "version_major": 2,
       "version_minor": 0
      },
      "text/plain": [
       "  0%|          | CSD epoch blocks : 0/1 [00:00<?,       ?it/s]"
      ]
     },
     "metadata": {},
     "output_type": "display_data"
    },
    {
     "name": "stdout",
     "output_type": "stream",
     "text": [
      "[done]\n",
      "278\n",
      "    Using multitaper spectrum estimation with 7 DPSS windows\n",
      "Computing cross-spectral density from epochs...\n",
      "Got 8 parallel jobs after requesting -1\n",
      "Using ProgressBar with tqdm.auto\n"
     ]
    },
    {
     "name": "stderr",
     "output_type": "stream",
     "text": [
      "[Parallel(n_jobs=-1)]: Using backend LokyBackend with 8 concurrent workers.\n",
      "/Users/savochkin/miniconda3/envs/myenv/lib/python3.9/site-packages/joblib/parallel.py:589: RuntimeWarning: Iterative multi-taper PSD computation did not converge.\n",
      "  return [func(*args, **kwargs)\n"
     ]
    },
    {
     "data": {
      "application/vnd.jupyter.widget-view+json": {
       "model_id": "9b59d64d1b42478e82068bda91ae70b1",
       "version_major": 2,
       "version_minor": 0
      },
      "text/plain": [
       "  0%|          | CSD epoch blocks : 0/1 [00:00<?,       ?it/s]"
      ]
     },
     "metadata": {},
     "output_type": "display_data"
    },
    {
     "name": "stderr",
     "output_type": "stream",
     "text": [
      "[Parallel(n_jobs=-1)]: Using backend LokyBackend with 8 concurrent workers.\n"
     ]
    },
    {
     "name": "stdout",
     "output_type": "stream",
     "text": [
      "[done]\n",
      "    Using multitaper spectrum estimation with 7 DPSS windows\n",
      "Computing cross-spectral density from epochs...\n",
      "Got 8 parallel jobs after requesting -1\n",
      "Using ProgressBar with tqdm.auto\n"
     ]
    },
    {
     "data": {
      "application/vnd.jupyter.widget-view+json": {
       "model_id": "efb6cea0809d4502a90354ee12187d87",
       "version_major": 2,
       "version_minor": 0
      },
      "text/plain": [
       "  0%|          | CSD epoch blocks : 0/1 [00:00<?,       ?it/s]"
      ]
     },
     "metadata": {},
     "output_type": "display_data"
    },
    {
     "name": "stdout",
     "output_type": "stream",
     "text": [
      "[done]\n"
     ]
    },
    {
     "name": "stderr",
     "output_type": "stream",
     "text": [
      "[Parallel(n_jobs=-1)]: Using backend LokyBackend with 8 concurrent workers.\n",
      "/Users/savochkin/miniconda3/envs/myenv/lib/python3.9/site-packages/joblib/parallel.py:589: RuntimeWarning: Iterative multi-taper PSD computation did not converge.\n",
      "  return [func(*args, **kwargs)\n"
     ]
    },
    {
     "name": "stdout",
     "output_type": "stream",
     "text": [
      "279\n",
      "    Using multitaper spectrum estimation with 7 DPSS windows\n",
      "Computing cross-spectral density from epochs...\n",
      "Got 8 parallel jobs after requesting -1\n",
      "Using ProgressBar with tqdm.auto\n"
     ]
    },
    {
     "data": {
      "application/vnd.jupyter.widget-view+json": {
       "model_id": "4198b7a428f14b15a1d160afbfa929ad",
       "version_major": 2,
       "version_minor": 0
      },
      "text/plain": [
       "  0%|          | CSD epoch blocks : 0/1 [00:00<?,       ?it/s]"
      ]
     },
     "metadata": {},
     "output_type": "display_data"
    },
    {
     "name": "stderr",
     "output_type": "stream",
     "text": [
      "[Parallel(n_jobs=-1)]: Using backend LokyBackend with 8 concurrent workers.\n"
     ]
    },
    {
     "name": "stdout",
     "output_type": "stream",
     "text": [
      "[done]\n",
      "    Using multitaper spectrum estimation with 7 DPSS windows\n",
      "Computing cross-spectral density from epochs...\n",
      "Got 8 parallel jobs after requesting -1\n",
      "Using ProgressBar with tqdm.auto\n"
     ]
    },
    {
     "data": {
      "application/vnd.jupyter.widget-view+json": {
       "model_id": "8fc17ba517d640cbbd046f73fc715572",
       "version_major": 2,
       "version_minor": 0
      },
      "text/plain": [
       "  0%|          | CSD epoch blocks : 0/1 [00:00<?,       ?it/s]"
      ]
     },
     "metadata": {},
     "output_type": "display_data"
    },
    {
     "name": "stdout",
     "output_type": "stream",
     "text": [
      "[done]\n",
      "280\n",
      "    Using multitaper spectrum estimation with 7 DPSS windows\n",
      "Computing cross-spectral density from epochs...\n",
      "Got 8 parallel jobs after requesting -1\n",
      "Using ProgressBar with tqdm.auto\n"
     ]
    },
    {
     "name": "stderr",
     "output_type": "stream",
     "text": [
      "[Parallel(n_jobs=-1)]: Using backend LokyBackend with 8 concurrent workers.\n",
      "/Users/savochkin/miniconda3/envs/myenv/lib/python3.9/site-packages/joblib/parallel.py:589: RuntimeWarning: Iterative multi-taper PSD computation did not converge.\n",
      "  return [func(*args, **kwargs)\n"
     ]
    },
    {
     "data": {
      "application/vnd.jupyter.widget-view+json": {
       "model_id": "fdc047ac6ef04344a92d54d225882803",
       "version_major": 2,
       "version_minor": 0
      },
      "text/plain": [
       "  0%|          | CSD epoch blocks : 0/1 [00:00<?,       ?it/s]"
      ]
     },
     "metadata": {},
     "output_type": "display_data"
    },
    {
     "name": "stderr",
     "output_type": "stream",
     "text": [
      "[Parallel(n_jobs=-1)]: Using backend LokyBackend with 8 concurrent workers.\n"
     ]
    },
    {
     "name": "stdout",
     "output_type": "stream",
     "text": [
      "[done]\n",
      "    Using multitaper spectrum estimation with 7 DPSS windows\n",
      "Computing cross-spectral density from epochs...\n",
      "Got 8 parallel jobs after requesting -1\n",
      "Using ProgressBar with tqdm.auto\n"
     ]
    },
    {
     "data": {
      "application/vnd.jupyter.widget-view+json": {
       "model_id": "8603aad1d2d1492d9ecddf0a544ec187",
       "version_major": 2,
       "version_minor": 0
      },
      "text/plain": [
       "  0%|          | CSD epoch blocks : 0/1 [00:00<?,       ?it/s]"
      ]
     },
     "metadata": {},
     "output_type": "display_data"
    },
    {
     "name": "stdout",
     "output_type": "stream",
     "text": [
      "[done]\n",
      "281\n",
      "    Using multitaper spectrum estimation with 7 DPSS windows\n",
      "Computing cross-spectral density from epochs...\n",
      "Got 8 parallel jobs after requesting -1\n",
      "Using ProgressBar with tqdm.auto\n"
     ]
    },
    {
     "name": "stderr",
     "output_type": "stream",
     "text": [
      "[Parallel(n_jobs=-1)]: Using backend LokyBackend with 8 concurrent workers.\n",
      "/Users/savochkin/miniconda3/envs/myenv/lib/python3.9/site-packages/joblib/parallel.py:589: RuntimeWarning: Iterative multi-taper PSD computation did not converge.\n",
      "  return [func(*args, **kwargs)\n"
     ]
    },
    {
     "data": {
      "application/vnd.jupyter.widget-view+json": {
       "model_id": "d0d533c1edbb476f98f369748ce947e2",
       "version_major": 2,
       "version_minor": 0
      },
      "text/plain": [
       "  0%|          | CSD epoch blocks : 0/1 [00:00<?,       ?it/s]"
      ]
     },
     "metadata": {},
     "output_type": "display_data"
    },
    {
     "name": "stderr",
     "output_type": "stream",
     "text": [
      "[Parallel(n_jobs=-1)]: Using backend LokyBackend with 8 concurrent workers.\n"
     ]
    },
    {
     "name": "stdout",
     "output_type": "stream",
     "text": [
      "[done]\n",
      "    Using multitaper spectrum estimation with 7 DPSS windows\n",
      "Computing cross-spectral density from epochs...\n",
      "Got 8 parallel jobs after requesting -1\n",
      "Using ProgressBar with tqdm.auto\n"
     ]
    },
    {
     "data": {
      "application/vnd.jupyter.widget-view+json": {
       "model_id": "47c72174038d4f908a7a2e526e11aa9e",
       "version_major": 2,
       "version_minor": 0
      },
      "text/plain": [
       "  0%|          | CSD epoch blocks : 0/1 [00:00<?,       ?it/s]"
      ]
     },
     "metadata": {},
     "output_type": "display_data"
    },
    {
     "name": "stderr",
     "output_type": "stream",
     "text": [
      "[Parallel(n_jobs=-1)]: Using backend LokyBackend with 8 concurrent workers.\n"
     ]
    },
    {
     "name": "stdout",
     "output_type": "stream",
     "text": [
      "[done]\n",
      "282\n",
      "    Using multitaper spectrum estimation with 7 DPSS windows\n",
      "Computing cross-spectral density from epochs...\n",
      "Got 8 parallel jobs after requesting -1\n",
      "Using ProgressBar with tqdm.auto\n"
     ]
    },
    {
     "name": "stderr",
     "output_type": "stream",
     "text": [
      "/Users/savochkin/miniconda3/envs/myenv/lib/python3.9/site-packages/joblib/parallel.py:589: RuntimeWarning: Iterative multi-taper PSD computation did not converge.\n",
      "  return [func(*args, **kwargs)\n"
     ]
    },
    {
     "data": {
      "application/vnd.jupyter.widget-view+json": {
       "model_id": "b528d05980ae46f2953ceb0d7ee594eb",
       "version_major": 2,
       "version_minor": 0
      },
      "text/plain": [
       "  0%|          | CSD epoch blocks : 0/1 [00:00<?,       ?it/s]"
      ]
     },
     "metadata": {},
     "output_type": "display_data"
    },
    {
     "name": "stderr",
     "output_type": "stream",
     "text": [
      "[Parallel(n_jobs=-1)]: Using backend LokyBackend with 8 concurrent workers.\n"
     ]
    },
    {
     "name": "stdout",
     "output_type": "stream",
     "text": [
      "[done]\n",
      "    Using multitaper spectrum estimation with 7 DPSS windows\n",
      "Computing cross-spectral density from epochs...\n",
      "Got 8 parallel jobs after requesting -1\n",
      "Using ProgressBar with tqdm.auto\n"
     ]
    },
    {
     "data": {
      "application/vnd.jupyter.widget-view+json": {
       "model_id": "bfebc575821b41bbb0e0d79f07d7c0ff",
       "version_major": 2,
       "version_minor": 0
      },
      "text/plain": [
       "  0%|          | CSD epoch blocks : 0/1 [00:00<?,       ?it/s]"
      ]
     },
     "metadata": {},
     "output_type": "display_data"
    },
    {
     "name": "stdout",
     "output_type": "stream",
     "text": [
      "[done]\n",
      "283\n",
      "    Using multitaper spectrum estimation with 7 DPSS windows\n",
      "Computing cross-spectral density from epochs...\n",
      "Got 8 parallel jobs after requesting -1\n",
      "Using ProgressBar with tqdm.auto\n"
     ]
    },
    {
     "name": "stderr",
     "output_type": "stream",
     "text": [
      "[Parallel(n_jobs=-1)]: Using backend LokyBackend with 8 concurrent workers.\n",
      "/Users/savochkin/miniconda3/envs/myenv/lib/python3.9/site-packages/joblib/parallel.py:589: RuntimeWarning: Iterative multi-taper PSD computation did not converge.\n",
      "  return [func(*args, **kwargs)\n"
     ]
    },
    {
     "data": {
      "application/vnd.jupyter.widget-view+json": {
       "model_id": "c1961bede77f4b03b67349c385b58a5e",
       "version_major": 2,
       "version_minor": 0
      },
      "text/plain": [
       "  0%|          | CSD epoch blocks : 0/1 [00:00<?,       ?it/s]"
      ]
     },
     "metadata": {},
     "output_type": "display_data"
    },
    {
     "name": "stderr",
     "output_type": "stream",
     "text": [
      "[Parallel(n_jobs=-1)]: Using backend LokyBackend with 8 concurrent workers.\n"
     ]
    },
    {
     "name": "stdout",
     "output_type": "stream",
     "text": [
      "[done]\n",
      "    Using multitaper spectrum estimation with 7 DPSS windows\n",
      "Computing cross-spectral density from epochs...\n",
      "Got 8 parallel jobs after requesting -1\n",
      "Using ProgressBar with tqdm.auto\n"
     ]
    },
    {
     "data": {
      "application/vnd.jupyter.widget-view+json": {
       "model_id": "c4b4500fe6bb41f28eab9228114e362a",
       "version_major": 2,
       "version_minor": 0
      },
      "text/plain": [
       "  0%|          | CSD epoch blocks : 0/1 [00:00<?,       ?it/s]"
      ]
     },
     "metadata": {},
     "output_type": "display_data"
    },
    {
     "name": "stderr",
     "output_type": "stream",
     "text": [
      "[Parallel(n_jobs=-1)]: Using backend LokyBackend with 8 concurrent workers.\n",
      "/Users/savochkin/miniconda3/envs/myenv/lib/python3.9/site-packages/joblib/parallel.py:589: RuntimeWarning: Iterative multi-taper PSD computation did not converge.\n",
      "  return [func(*args, **kwargs)\n"
     ]
    },
    {
     "name": "stdout",
     "output_type": "stream",
     "text": [
      "[done]\n",
      "284\n",
      "    Using multitaper spectrum estimation with 7 DPSS windows\n",
      "Computing cross-spectral density from epochs...\n",
      "Got 8 parallel jobs after requesting -1\n",
      "Using ProgressBar with tqdm.auto\n"
     ]
    },
    {
     "data": {
      "application/vnd.jupyter.widget-view+json": {
       "model_id": "913e9629f5a94bd394eafeabbefb2c73",
       "version_major": 2,
       "version_minor": 0
      },
      "text/plain": [
       "  0%|          | CSD epoch blocks : 0/1 [00:00<?,       ?it/s]"
      ]
     },
     "metadata": {},
     "output_type": "display_data"
    },
    {
     "name": "stderr",
     "output_type": "stream",
     "text": [
      "[Parallel(n_jobs=-1)]: Using backend LokyBackend with 8 concurrent workers.\n"
     ]
    },
    {
     "name": "stdout",
     "output_type": "stream",
     "text": [
      "[done]\n",
      "    Using multitaper spectrum estimation with 7 DPSS windows\n",
      "Computing cross-spectral density from epochs...\n",
      "Got 8 parallel jobs after requesting -1\n",
      "Using ProgressBar with tqdm.auto\n"
     ]
    },
    {
     "data": {
      "application/vnd.jupyter.widget-view+json": {
       "model_id": "5e02dd5cbc0344b4987254ec90ce76c7",
       "version_major": 2,
       "version_minor": 0
      },
      "text/plain": [
       "  0%|          | CSD epoch blocks : 0/1 [00:00<?,       ?it/s]"
      ]
     },
     "metadata": {},
     "output_type": "display_data"
    },
    {
     "name": "stdout",
     "output_type": "stream",
     "text": [
      "[done]\n"
     ]
    },
    {
     "name": "stderr",
     "output_type": "stream",
     "text": [
      "[Parallel(n_jobs=-1)]: Using backend LokyBackend with 8 concurrent workers.\n",
      "/Users/savochkin/miniconda3/envs/myenv/lib/python3.9/site-packages/joblib/parallel.py:589: RuntimeWarning: Iterative multi-taper PSD computation did not converge.\n",
      "  return [func(*args, **kwargs)\n"
     ]
    },
    {
     "name": "stdout",
     "output_type": "stream",
     "text": [
      "285\n",
      "    Using multitaper spectrum estimation with 7 DPSS windows\n",
      "Computing cross-spectral density from epochs...\n",
      "Got 8 parallel jobs after requesting -1\n",
      "Using ProgressBar with tqdm.auto\n"
     ]
    },
    {
     "data": {
      "application/vnd.jupyter.widget-view+json": {
       "model_id": "4415ef5c539845d3b79643fd189e3dcb",
       "version_major": 2,
       "version_minor": 0
      },
      "text/plain": [
       "  0%|          | CSD epoch blocks : 0/1 [00:00<?,       ?it/s]"
      ]
     },
     "metadata": {},
     "output_type": "display_data"
    },
    {
     "name": "stderr",
     "output_type": "stream",
     "text": [
      "[Parallel(n_jobs=-1)]: Using backend LokyBackend with 8 concurrent workers.\n"
     ]
    },
    {
     "name": "stdout",
     "output_type": "stream",
     "text": [
      "[done]\n",
      "    Using multitaper spectrum estimation with 7 DPSS windows\n",
      "Computing cross-spectral density from epochs...\n",
      "Got 8 parallel jobs after requesting -1\n",
      "Using ProgressBar with tqdm.auto\n"
     ]
    },
    {
     "data": {
      "application/vnd.jupyter.widget-view+json": {
       "model_id": "5f580022c0ac4161b189ea62052a7e00",
       "version_major": 2,
       "version_minor": 0
      },
      "text/plain": [
       "  0%|          | CSD epoch blocks : 0/1 [00:00<?,       ?it/s]"
      ]
     },
     "metadata": {},
     "output_type": "display_data"
    },
    {
     "name": "stderr",
     "output_type": "stream",
     "text": [
      "[Parallel(n_jobs=-1)]: Using backend LokyBackend with 8 concurrent workers.\n"
     ]
    },
    {
     "name": "stdout",
     "output_type": "stream",
     "text": [
      "[done]\n",
      "286\n",
      "    Using multitaper spectrum estimation with 7 DPSS windows\n",
      "Computing cross-spectral density from epochs...\n",
      "Got 8 parallel jobs after requesting -1\n",
      "Using ProgressBar with tqdm.auto\n"
     ]
    },
    {
     "name": "stderr",
     "output_type": "stream",
     "text": [
      "/Users/savochkin/miniconda3/envs/myenv/lib/python3.9/site-packages/joblib/parallel.py:589: RuntimeWarning: Iterative multi-taper PSD computation did not converge.\n",
      "  return [func(*args, **kwargs)\n"
     ]
    },
    {
     "data": {
      "application/vnd.jupyter.widget-view+json": {
       "model_id": "bb2ab9b25e314c4d8a2f40a35846a365",
       "version_major": 2,
       "version_minor": 0
      },
      "text/plain": [
       "  0%|          | CSD epoch blocks : 0/1 [00:00<?,       ?it/s]"
      ]
     },
     "metadata": {},
     "output_type": "display_data"
    },
    {
     "name": "stderr",
     "output_type": "stream",
     "text": [
      "[Parallel(n_jobs=-1)]: Using backend LokyBackend with 8 concurrent workers.\n"
     ]
    },
    {
     "name": "stdout",
     "output_type": "stream",
     "text": [
      "[done]\n",
      "    Using multitaper spectrum estimation with 7 DPSS windows\n",
      "Computing cross-spectral density from epochs...\n",
      "Got 8 parallel jobs after requesting -1\n",
      "Using ProgressBar with tqdm.auto\n"
     ]
    },
    {
     "data": {
      "application/vnd.jupyter.widget-view+json": {
       "model_id": "649c0311dc44430ba038aa272b5c6578",
       "version_major": 2,
       "version_minor": 0
      },
      "text/plain": [
       "  0%|          | CSD epoch blocks : 0/1 [00:00<?,       ?it/s]"
      ]
     },
     "metadata": {},
     "output_type": "display_data"
    },
    {
     "name": "stderr",
     "output_type": "stream",
     "text": [
      "[Parallel(n_jobs=-1)]: Using backend LokyBackend with 8 concurrent workers.\n"
     ]
    },
    {
     "name": "stdout",
     "output_type": "stream",
     "text": [
      "[done]\n",
      "287\n",
      "    Using multitaper spectrum estimation with 7 DPSS windows\n",
      "Computing cross-spectral density from epochs...\n",
      "Got 8 parallel jobs after requesting -1\n",
      "Using ProgressBar with tqdm.auto\n"
     ]
    },
    {
     "name": "stderr",
     "output_type": "stream",
     "text": [
      "/Users/savochkin/miniconda3/envs/myenv/lib/python3.9/site-packages/joblib/parallel.py:589: RuntimeWarning: Iterative multi-taper PSD computation did not converge.\n",
      "  return [func(*args, **kwargs)\n"
     ]
    },
    {
     "data": {
      "application/vnd.jupyter.widget-view+json": {
       "model_id": "e7ab61b5bc574af7bd28c99e8dd4c57d",
       "version_major": 2,
       "version_minor": 0
      },
      "text/plain": [
       "  0%|          | CSD epoch blocks : 0/1 [00:00<?,       ?it/s]"
      ]
     },
     "metadata": {},
     "output_type": "display_data"
    },
    {
     "name": "stderr",
     "output_type": "stream",
     "text": [
      "[Parallel(n_jobs=-1)]: Using backend LokyBackend with 8 concurrent workers.\n"
     ]
    },
    {
     "name": "stdout",
     "output_type": "stream",
     "text": [
      "[done]\n",
      "    Using multitaper spectrum estimation with 7 DPSS windows\n",
      "Computing cross-spectral density from epochs...\n",
      "Got 8 parallel jobs after requesting -1\n",
      "Using ProgressBar with tqdm.auto\n"
     ]
    },
    {
     "data": {
      "application/vnd.jupyter.widget-view+json": {
       "model_id": "42b13d3da9f845a6aec6d7c2e033a609",
       "version_major": 2,
       "version_minor": 0
      },
      "text/plain": [
       "  0%|          | CSD epoch blocks : 0/1 [00:00<?,       ?it/s]"
      ]
     },
     "metadata": {},
     "output_type": "display_data"
    },
    {
     "name": "stdout",
     "output_type": "stream",
     "text": [
      "[done]\n",
      "288\n",
      "    Using multitaper spectrum estimation with 7 DPSS windows\n",
      "Computing cross-spectral density from epochs...\n",
      "Got 8 parallel jobs after requesting -1\n",
      "Using ProgressBar with tqdm.auto\n"
     ]
    },
    {
     "name": "stderr",
     "output_type": "stream",
     "text": [
      "[Parallel(n_jobs=-1)]: Using backend LokyBackend with 8 concurrent workers.\n",
      "/Users/savochkin/miniconda3/envs/myenv/lib/python3.9/site-packages/joblib/parallel.py:589: RuntimeWarning: Iterative multi-taper PSD computation did not converge.\n",
      "  return [func(*args, **kwargs)\n"
     ]
    },
    {
     "data": {
      "application/vnd.jupyter.widget-view+json": {
       "model_id": "79c21eeeae1d4c62bd01cdb6b8087b7e",
       "version_major": 2,
       "version_minor": 0
      },
      "text/plain": [
       "  0%|          | CSD epoch blocks : 0/1 [00:00<?,       ?it/s]"
      ]
     },
     "metadata": {},
     "output_type": "display_data"
    },
    {
     "name": "stderr",
     "output_type": "stream",
     "text": [
      "[Parallel(n_jobs=-1)]: Using backend LokyBackend with 8 concurrent workers.\n"
     ]
    },
    {
     "name": "stdout",
     "output_type": "stream",
     "text": [
      "[done]\n",
      "    Using multitaper spectrum estimation with 7 DPSS windows\n",
      "Computing cross-spectral density from epochs...\n",
      "Got 8 parallel jobs after requesting -1\n",
      "Using ProgressBar with tqdm.auto\n"
     ]
    },
    {
     "data": {
      "application/vnd.jupyter.widget-view+json": {
       "model_id": "32e8565e4ba043478fc7353771163c45",
       "version_major": 2,
       "version_minor": 0
      },
      "text/plain": [
       "  0%|          | CSD epoch blocks : 0/1 [00:00<?,       ?it/s]"
      ]
     },
     "metadata": {},
     "output_type": "display_data"
    },
    {
     "name": "stdout",
     "output_type": "stream",
     "text": [
      "[done]\n",
      "289\n"
     ]
    },
    {
     "name": "stderr",
     "output_type": "stream",
     "text": [
      "[Parallel(n_jobs=-1)]: Using backend LokyBackend with 8 concurrent workers.\n",
      "/Users/savochkin/miniconda3/envs/myenv/lib/python3.9/site-packages/joblib/parallel.py:589: RuntimeWarning: Iterative multi-taper PSD computation did not converge.\n",
      "  return [func(*args, **kwargs)\n"
     ]
    },
    {
     "name": "stdout",
     "output_type": "stream",
     "text": [
      "    Using multitaper spectrum estimation with 7 DPSS windows\n",
      "Computing cross-spectral density from epochs...\n",
      "Got 8 parallel jobs after requesting -1\n",
      "Using ProgressBar with tqdm.auto\n"
     ]
    },
    {
     "data": {
      "application/vnd.jupyter.widget-view+json": {
       "model_id": "6e3927ce887c4e56acfa88f264537adb",
       "version_major": 2,
       "version_minor": 0
      },
      "text/plain": [
       "  0%|          | CSD epoch blocks : 0/1 [00:00<?,       ?it/s]"
      ]
     },
     "metadata": {},
     "output_type": "display_data"
    },
    {
     "name": "stderr",
     "output_type": "stream",
     "text": [
      "[Parallel(n_jobs=-1)]: Using backend LokyBackend with 8 concurrent workers.\n"
     ]
    },
    {
     "name": "stdout",
     "output_type": "stream",
     "text": [
      "[done]\n",
      "    Using multitaper spectrum estimation with 7 DPSS windows\n",
      "Computing cross-spectral density from epochs...\n",
      "Got 8 parallel jobs after requesting -1\n",
      "Using ProgressBar with tqdm.auto\n"
     ]
    },
    {
     "data": {
      "application/vnd.jupyter.widget-view+json": {
       "model_id": "dcc562405811492db691ae4cbf455c71",
       "version_major": 2,
       "version_minor": 0
      },
      "text/plain": [
       "  0%|          | CSD epoch blocks : 0/1 [00:00<?,       ?it/s]"
      ]
     },
     "metadata": {},
     "output_type": "display_data"
    },
    {
     "name": "stdout",
     "output_type": "stream",
     "text": [
      "[done]\n",
      "290\n",
      "    Using multitaper spectrum estimation with 7 DPSS windows\n",
      "Computing cross-spectral density from epochs...\n"
     ]
    },
    {
     "name": "stderr",
     "output_type": "stream",
     "text": [
      "[Parallel(n_jobs=-1)]: Using backend LokyBackend with 8 concurrent workers.\n",
      "/Users/savochkin/miniconda3/envs/myenv/lib/python3.9/site-packages/joblib/parallel.py:589: RuntimeWarning: Iterative multi-taper PSD computation did not converge.\n",
      "  return [func(*args, **kwargs)\n"
     ]
    },
    {
     "name": "stdout",
     "output_type": "stream",
     "text": [
      "Got 8 parallel jobs after requesting -1\n",
      "Using ProgressBar with tqdm.auto\n"
     ]
    },
    {
     "data": {
      "application/vnd.jupyter.widget-view+json": {
       "model_id": "50b5de6c8a8242139213417bc5e15c4d",
       "version_major": 2,
       "version_minor": 0
      },
      "text/plain": [
       "  0%|          | CSD epoch blocks : 0/1 [00:00<?,       ?it/s]"
      ]
     },
     "metadata": {},
     "output_type": "display_data"
    },
    {
     "name": "stderr",
     "output_type": "stream",
     "text": [
      "[Parallel(n_jobs=-1)]: Using backend LokyBackend with 8 concurrent workers.\n"
     ]
    },
    {
     "name": "stdout",
     "output_type": "stream",
     "text": [
      "[done]\n",
      "    Using multitaper spectrum estimation with 7 DPSS windows\n",
      "Computing cross-spectral density from epochs...\n",
      "Got 8 parallel jobs after requesting -1\n",
      "Using ProgressBar with tqdm.auto\n"
     ]
    },
    {
     "data": {
      "application/vnd.jupyter.widget-view+json": {
       "model_id": "6e35426bfceb4530802b69e733e877ad",
       "version_major": 2,
       "version_minor": 0
      },
      "text/plain": [
       "  0%|          | CSD epoch blocks : 0/1 [00:00<?,       ?it/s]"
      ]
     },
     "metadata": {},
     "output_type": "display_data"
    },
    {
     "name": "stderr",
     "output_type": "stream",
     "text": [
      "[Parallel(n_jobs=-1)]: Using backend LokyBackend with 8 concurrent workers.\n"
     ]
    },
    {
     "name": "stdout",
     "output_type": "stream",
     "text": [
      "[done]\n",
      "291\n",
      "    Using multitaper spectrum estimation with 7 DPSS windows\n",
      "Computing cross-spectral density from epochs...\n",
      "Got 8 parallel jobs after requesting -1\n",
      "Using ProgressBar with tqdm.auto\n"
     ]
    },
    {
     "name": "stderr",
     "output_type": "stream",
     "text": [
      "/Users/savochkin/miniconda3/envs/myenv/lib/python3.9/site-packages/joblib/parallel.py:589: RuntimeWarning: Iterative multi-taper PSD computation did not converge.\n",
      "  return [func(*args, **kwargs)\n"
     ]
    },
    {
     "data": {
      "application/vnd.jupyter.widget-view+json": {
       "model_id": "d1784768eacd47d5ab3b98afe9106f42",
       "version_major": 2,
       "version_minor": 0
      },
      "text/plain": [
       "  0%|          | CSD epoch blocks : 0/1 [00:00<?,       ?it/s]"
      ]
     },
     "metadata": {},
     "output_type": "display_data"
    },
    {
     "name": "stderr",
     "output_type": "stream",
     "text": [
      "[Parallel(n_jobs=-1)]: Using backend LokyBackend with 8 concurrent workers.\n"
     ]
    },
    {
     "name": "stdout",
     "output_type": "stream",
     "text": [
      "[done]\n",
      "    Using multitaper spectrum estimation with 7 DPSS windows\n",
      "Computing cross-spectral density from epochs...\n",
      "Got 8 parallel jobs after requesting -1\n",
      "Using ProgressBar with tqdm.auto\n"
     ]
    },
    {
     "data": {
      "application/vnd.jupyter.widget-view+json": {
       "model_id": "04adb6074518480ba3b50490dc79c1b7",
       "version_major": 2,
       "version_minor": 0
      },
      "text/plain": [
       "  0%|          | CSD epoch blocks : 0/1 [00:00<?,       ?it/s]"
      ]
     },
     "metadata": {},
     "output_type": "display_data"
    },
    {
     "name": "stderr",
     "output_type": "stream",
     "text": [
      "[Parallel(n_jobs=-1)]: Using backend LokyBackend with 8 concurrent workers.\n",
      "/Users/savochkin/miniconda3/envs/myenv/lib/python3.9/site-packages/joblib/parallel.py:589: RuntimeWarning: Iterative multi-taper PSD computation did not converge.\n",
      "  return [func(*args, **kwargs)\n"
     ]
    },
    {
     "name": "stdout",
     "output_type": "stream",
     "text": [
      "[done]\n",
      "292\n",
      "    Using multitaper spectrum estimation with 7 DPSS windows\n",
      "Computing cross-spectral density from epochs...\n",
      "Got 8 parallel jobs after requesting -1\n",
      "Using ProgressBar with tqdm.auto\n"
     ]
    },
    {
     "data": {
      "application/vnd.jupyter.widget-view+json": {
       "model_id": "67f1ab43db764db9a74a51bf4cd19486",
       "version_major": 2,
       "version_minor": 0
      },
      "text/plain": [
       "  0%|          | CSD epoch blocks : 0/1 [00:00<?,       ?it/s]"
      ]
     },
     "metadata": {},
     "output_type": "display_data"
    },
    {
     "name": "stdout",
     "output_type": "stream",
     "text": [
      "[done]\n"
     ]
    },
    {
     "name": "stderr",
     "output_type": "stream",
     "text": [
      "[Parallel(n_jobs=-1)]: Using backend LokyBackend with 8 concurrent workers.\n"
     ]
    },
    {
     "name": "stdout",
     "output_type": "stream",
     "text": [
      "    Using multitaper spectrum estimation with 7 DPSS windows\n",
      "Computing cross-spectral density from epochs...\n",
      "Got 8 parallel jobs after requesting -1\n",
      "Using ProgressBar with tqdm.auto\n"
     ]
    },
    {
     "data": {
      "application/vnd.jupyter.widget-view+json": {
       "model_id": "3c650b7f758e4bb9b96da86231021191",
       "version_major": 2,
       "version_minor": 0
      },
      "text/plain": [
       "  0%|          | CSD epoch blocks : 0/1 [00:00<?,       ?it/s]"
      ]
     },
     "metadata": {},
     "output_type": "display_data"
    },
    {
     "name": "stderr",
     "output_type": "stream",
     "text": [
      "[Parallel(n_jobs=-1)]: Using backend LokyBackend with 8 concurrent workers.\n",
      "/Users/savochkin/miniconda3/envs/myenv/lib/python3.9/site-packages/joblib/parallel.py:589: RuntimeWarning: Iterative multi-taper PSD computation did not converge.\n",
      "  return [func(*args, **kwargs)\n"
     ]
    },
    {
     "name": "stdout",
     "output_type": "stream",
     "text": [
      "[done]\n",
      "293\n",
      "    Using multitaper spectrum estimation with 7 DPSS windows\n",
      "Computing cross-spectral density from epochs...\n",
      "Got 8 parallel jobs after requesting -1\n",
      "Using ProgressBar with tqdm.auto\n"
     ]
    },
    {
     "data": {
      "application/vnd.jupyter.widget-view+json": {
       "model_id": "886b5d9d02a84325b1e1c6606449f2e6",
       "version_major": 2,
       "version_minor": 0
      },
      "text/plain": [
       "  0%|          | CSD epoch blocks : 0/1 [00:00<?,       ?it/s]"
      ]
     },
     "metadata": {},
     "output_type": "display_data"
    },
    {
     "name": "stderr",
     "output_type": "stream",
     "text": [
      "[Parallel(n_jobs=-1)]: Using backend LokyBackend with 8 concurrent workers.\n"
     ]
    },
    {
     "name": "stdout",
     "output_type": "stream",
     "text": [
      "[done]\n",
      "    Using multitaper spectrum estimation with 7 DPSS windows\n",
      "Computing cross-spectral density from epochs...\n",
      "Got 8 parallel jobs after requesting -1\n",
      "Using ProgressBar with tqdm.auto\n"
     ]
    },
    {
     "data": {
      "application/vnd.jupyter.widget-view+json": {
       "model_id": "a133cac1afc94908b20d94a84419e618",
       "version_major": 2,
       "version_minor": 0
      },
      "text/plain": [
       "  0%|          | CSD epoch blocks : 0/1 [00:00<?,       ?it/s]"
      ]
     },
     "metadata": {},
     "output_type": "display_data"
    },
    {
     "name": "stdout",
     "output_type": "stream",
     "text": [
      "[done]\n",
      "294\n",
      "    Using multitaper spectrum estimation with 7 DPSS windows\n",
      "Computing cross-spectral density from epochs...\n",
      "Got 8 parallel jobs after requesting -1\n",
      "Using ProgressBar with tqdm.auto\n"
     ]
    },
    {
     "name": "stderr",
     "output_type": "stream",
     "text": [
      "[Parallel(n_jobs=-1)]: Using backend LokyBackend with 8 concurrent workers.\n",
      "/Users/savochkin/miniconda3/envs/myenv/lib/python3.9/site-packages/joblib/parallel.py:589: RuntimeWarning: Iterative multi-taper PSD computation did not converge.\n",
      "  return [func(*args, **kwargs)\n"
     ]
    },
    {
     "data": {
      "application/vnd.jupyter.widget-view+json": {
       "model_id": "5ac3e9448db44276a75559776a6da032",
       "version_major": 2,
       "version_minor": 0
      },
      "text/plain": [
       "  0%|          | CSD epoch blocks : 0/1 [00:00<?,       ?it/s]"
      ]
     },
     "metadata": {},
     "output_type": "display_data"
    },
    {
     "name": "stderr",
     "output_type": "stream",
     "text": [
      "[Parallel(n_jobs=-1)]: Using backend LokyBackend with 8 concurrent workers.\n"
     ]
    },
    {
     "name": "stdout",
     "output_type": "stream",
     "text": [
      "[done]\n",
      "    Using multitaper spectrum estimation with 7 DPSS windows\n",
      "Computing cross-spectral density from epochs...\n",
      "Got 8 parallel jobs after requesting -1\n",
      "Using ProgressBar with tqdm.auto\n"
     ]
    },
    {
     "data": {
      "application/vnd.jupyter.widget-view+json": {
       "model_id": "11f267d9f1e243618c80017c22523424",
       "version_major": 2,
       "version_minor": 0
      },
      "text/plain": [
       "  0%|          | CSD epoch blocks : 0/1 [00:00<?,       ?it/s]"
      ]
     },
     "metadata": {},
     "output_type": "display_data"
    },
    {
     "name": "stderr",
     "output_type": "stream",
     "text": [
      "[Parallel(n_jobs=-1)]: Using backend LokyBackend with 8 concurrent workers.\n",
      "/Users/savochkin/miniconda3/envs/myenv/lib/python3.9/site-packages/joblib/parallel.py:589: RuntimeWarning: Iterative multi-taper PSD computation did not converge.\n",
      "  return [func(*args, **kwargs)\n"
     ]
    },
    {
     "name": "stdout",
     "output_type": "stream",
     "text": [
      "[done]\n",
      "295\n",
      "    Using multitaper spectrum estimation with 7 DPSS windows\n",
      "Computing cross-spectral density from epochs...\n",
      "Got 8 parallel jobs after requesting -1\n",
      "Using ProgressBar with tqdm.auto\n"
     ]
    },
    {
     "data": {
      "application/vnd.jupyter.widget-view+json": {
       "model_id": "aad07f56a4a34da795b01dcbaa99911d",
       "version_major": 2,
       "version_minor": 0
      },
      "text/plain": [
       "  0%|          | CSD epoch blocks : 0/1 [00:00<?,       ?it/s]"
      ]
     },
     "metadata": {},
     "output_type": "display_data"
    },
    {
     "name": "stdout",
     "output_type": "stream",
     "text": [
      "[done]\n",
      "    Using multitaper spectrum estimation with 7 DPSS windows\n",
      "Computing cross-spectral density from epochs...\n",
      "Got 8 parallel jobs after requesting -1\n",
      "Using ProgressBar with tqdm.auto\n"
     ]
    },
    {
     "name": "stderr",
     "output_type": "stream",
     "text": [
      "[Parallel(n_jobs=-1)]: Using backend LokyBackend with 8 concurrent workers.\n"
     ]
    },
    {
     "data": {
      "application/vnd.jupyter.widget-view+json": {
       "model_id": "cd0ab7ab556d40a898cd170cb0d910f1",
       "version_major": 2,
       "version_minor": 0
      },
      "text/plain": [
       "  0%|          | CSD epoch blocks : 0/1 [00:00<?,       ?it/s]"
      ]
     },
     "metadata": {},
     "output_type": "display_data"
    },
    {
     "name": "stderr",
     "output_type": "stream",
     "text": [
      "[Parallel(n_jobs=-1)]: Using backend LokyBackend with 8 concurrent workers.\n",
      "/Users/savochkin/miniconda3/envs/myenv/lib/python3.9/site-packages/joblib/parallel.py:589: RuntimeWarning: Iterative multi-taper PSD computation did not converge.\n",
      "  return [func(*args, **kwargs)\n"
     ]
    },
    {
     "name": "stdout",
     "output_type": "stream",
     "text": [
      "[done]\n",
      "296\n",
      "    Using multitaper spectrum estimation with 7 DPSS windows\n",
      "Computing cross-spectral density from epochs...\n",
      "Got 8 parallel jobs after requesting -1\n",
      "Using ProgressBar with tqdm.auto\n"
     ]
    },
    {
     "data": {
      "application/vnd.jupyter.widget-view+json": {
       "model_id": "3fa4490e5f434549993c3855f0c2261f",
       "version_major": 2,
       "version_minor": 0
      },
      "text/plain": [
       "  0%|          | CSD epoch blocks : 0/1 [00:00<?,       ?it/s]"
      ]
     },
     "metadata": {},
     "output_type": "display_data"
    },
    {
     "name": "stderr",
     "output_type": "stream",
     "text": [
      "[Parallel(n_jobs=-1)]: Using backend LokyBackend with 8 concurrent workers.\n"
     ]
    },
    {
     "name": "stdout",
     "output_type": "stream",
     "text": [
      "[done]\n",
      "    Using multitaper spectrum estimation with 7 DPSS windows\n",
      "Computing cross-spectral density from epochs...\n",
      "Got 8 parallel jobs after requesting -1\n",
      "Using ProgressBar with tqdm.auto\n"
     ]
    },
    {
     "data": {
      "application/vnd.jupyter.widget-view+json": {
       "model_id": "2f77b733b09f4f2b809e8777b655cd96",
       "version_major": 2,
       "version_minor": 0
      },
      "text/plain": [
       "  0%|          | CSD epoch blocks : 0/1 [00:00<?,       ?it/s]"
      ]
     },
     "metadata": {},
     "output_type": "display_data"
    },
    {
     "name": "stdout",
     "output_type": "stream",
     "text": [
      "[done]\n",
      "297\n",
      "    Using multitaper spectrum estimation with 7 DPSS windows\n",
      "Computing cross-spectral density from epochs...\n",
      "Got 8 parallel jobs after requesting -1\n",
      "Using ProgressBar with tqdm.auto\n"
     ]
    },
    {
     "name": "stderr",
     "output_type": "stream",
     "text": [
      "[Parallel(n_jobs=-1)]: Using backend LokyBackend with 8 concurrent workers.\n",
      "/Users/savochkin/miniconda3/envs/myenv/lib/python3.9/site-packages/joblib/parallel.py:589: RuntimeWarning: Iterative multi-taper PSD computation did not converge.\n",
      "  return [func(*args, **kwargs)\n"
     ]
    },
    {
     "data": {
      "application/vnd.jupyter.widget-view+json": {
       "model_id": "f527e213d68945c09b3a736e46526288",
       "version_major": 2,
       "version_minor": 0
      },
      "text/plain": [
       "  0%|          | CSD epoch blocks : 0/1 [00:00<?,       ?it/s]"
      ]
     },
     "metadata": {},
     "output_type": "display_data"
    },
    {
     "name": "stdout",
     "output_type": "stream",
     "text": [
      "[done]\n",
      "    Using multitaper spectrum estimation with 7 DPSS windows\n",
      "Computing cross-spectral density from epochs...\n",
      "Got 8 parallel jobs after requesting -1\n",
      "Using ProgressBar with tqdm.auto\n"
     ]
    },
    {
     "name": "stderr",
     "output_type": "stream",
     "text": [
      "[Parallel(n_jobs=-1)]: Using backend LokyBackend with 8 concurrent workers.\n"
     ]
    },
    {
     "data": {
      "application/vnd.jupyter.widget-view+json": {
       "model_id": "5f7254ecff3a4115823119806c883b3d",
       "version_major": 2,
       "version_minor": 0
      },
      "text/plain": [
       "  0%|          | CSD epoch blocks : 0/1 [00:00<?,       ?it/s]"
      ]
     },
     "metadata": {},
     "output_type": "display_data"
    },
    {
     "name": "stderr",
     "output_type": "stream",
     "text": [
      "[Parallel(n_jobs=-1)]: Using backend LokyBackend with 8 concurrent workers.\n"
     ]
    },
    {
     "name": "stdout",
     "output_type": "stream",
     "text": [
      "[done]\n"
     ]
    },
    {
     "name": "stderr",
     "output_type": "stream",
     "text": [
      "/Users/savochkin/miniconda3/envs/myenv/lib/python3.9/site-packages/joblib/parallel.py:589: RuntimeWarning: Iterative multi-taper PSD computation did not converge.\n",
      "  return [func(*args, **kwargs)\n"
     ]
    },
    {
     "name": "stdout",
     "output_type": "stream",
     "text": [
      "298\n",
      "    Using multitaper spectrum estimation with 7 DPSS windows\n",
      "Computing cross-spectral density from epochs...\n",
      "Got 8 parallel jobs after requesting -1\n",
      "Using ProgressBar with tqdm.auto\n"
     ]
    },
    {
     "data": {
      "application/vnd.jupyter.widget-view+json": {
       "model_id": "44aea9541ebf48f1a30cfa280b82372e",
       "version_major": 2,
       "version_minor": 0
      },
      "text/plain": [
       "  0%|          | CSD epoch blocks : 0/1 [00:00<?,       ?it/s]"
      ]
     },
     "metadata": {},
     "output_type": "display_data"
    },
    {
     "name": "stdout",
     "output_type": "stream",
     "text": [
      "[done]\n",
      "    Using multitaper spectrum estimation with 7 DPSS windows\n",
      "Computing cross-spectral density from epochs...\n",
      "Got 8 parallel jobs after requesting -1\n",
      "Using ProgressBar with tqdm.auto\n"
     ]
    },
    {
     "name": "stderr",
     "output_type": "stream",
     "text": [
      "[Parallel(n_jobs=-1)]: Using backend LokyBackend with 8 concurrent workers.\n"
     ]
    },
    {
     "data": {
      "application/vnd.jupyter.widget-view+json": {
       "model_id": "40ffacdacb1d437086fe1cde533bc1dc",
       "version_major": 2,
       "version_minor": 0
      },
      "text/plain": [
       "  0%|          | CSD epoch blocks : 0/1 [00:00<?,       ?it/s]"
      ]
     },
     "metadata": {},
     "output_type": "display_data"
    },
    {
     "name": "stderr",
     "output_type": "stream",
     "text": [
      "[Parallel(n_jobs=-1)]: Using backend LokyBackend with 8 concurrent workers.\n"
     ]
    },
    {
     "name": "stdout",
     "output_type": "stream",
     "text": [
      "[done]\n",
      "299\n",
      "    Using multitaper spectrum estimation with 7 DPSS windows\n",
      "Computing cross-spectral density from epochs...\n",
      "Got 8 parallel jobs after requesting -1\n",
      "Using ProgressBar with tqdm.auto\n"
     ]
    },
    {
     "name": "stderr",
     "output_type": "stream",
     "text": [
      "/Users/savochkin/miniconda3/envs/myenv/lib/python3.9/site-packages/joblib/parallel.py:589: RuntimeWarning: Iterative multi-taper PSD computation did not converge.\n",
      "  return [func(*args, **kwargs)\n"
     ]
    },
    {
     "data": {
      "application/vnd.jupyter.widget-view+json": {
       "model_id": "c229552a8484498583f0e6047bb15910",
       "version_major": 2,
       "version_minor": 0
      },
      "text/plain": [
       "  0%|          | CSD epoch blocks : 0/1 [00:00<?,       ?it/s]"
      ]
     },
     "metadata": {},
     "output_type": "display_data"
    },
    {
     "name": "stderr",
     "output_type": "stream",
     "text": [
      "[Parallel(n_jobs=-1)]: Using backend LokyBackend with 8 concurrent workers.\n"
     ]
    },
    {
     "name": "stdout",
     "output_type": "stream",
     "text": [
      "[done]\n",
      "    Using multitaper spectrum estimation with 7 DPSS windows\n",
      "Computing cross-spectral density from epochs...\n",
      "Got 8 parallel jobs after requesting -1\n",
      "Using ProgressBar with tqdm.auto\n"
     ]
    },
    {
     "data": {
      "application/vnd.jupyter.widget-view+json": {
       "model_id": "2222d613d7374162bd91882809779f06",
       "version_major": 2,
       "version_minor": 0
      },
      "text/plain": [
       "  0%|          | CSD epoch blocks : 0/1 [00:00<?,       ?it/s]"
      ]
     },
     "metadata": {},
     "output_type": "display_data"
    },
    {
     "name": "stderr",
     "output_type": "stream",
     "text": [
      "[Parallel(n_jobs=-1)]: Using backend LokyBackend with 8 concurrent workers.\n",
      "/Users/savochkin/miniconda3/envs/myenv/lib/python3.9/site-packages/joblib/parallel.py:589: RuntimeWarning: Iterative multi-taper PSD computation did not converge.\n",
      "  return [func(*args, **kwargs)\n"
     ]
    },
    {
     "name": "stdout",
     "output_type": "stream",
     "text": [
      "[done]\n",
      "300\n",
      "    Using multitaper spectrum estimation with 7 DPSS windows\n",
      "Computing cross-spectral density from epochs...\n",
      "Got 8 parallel jobs after requesting -1\n",
      "Using ProgressBar with tqdm.auto\n"
     ]
    },
    {
     "data": {
      "application/vnd.jupyter.widget-view+json": {
       "model_id": "76a0514c3bdf4aae8ee5f63288a055ec",
       "version_major": 2,
       "version_minor": 0
      },
      "text/plain": [
       "  0%|          | CSD epoch blocks : 0/1 [00:00<?,       ?it/s]"
      ]
     },
     "metadata": {},
     "output_type": "display_data"
    },
    {
     "name": "stderr",
     "output_type": "stream",
     "text": [
      "[Parallel(n_jobs=-1)]: Using backend LokyBackend with 8 concurrent workers.\n"
     ]
    },
    {
     "name": "stdout",
     "output_type": "stream",
     "text": [
      "[done]\n",
      "    Using multitaper spectrum estimation with 7 DPSS windows\n",
      "Computing cross-spectral density from epochs...\n",
      "Got 8 parallel jobs after requesting -1\n",
      "Using ProgressBar with tqdm.auto\n"
     ]
    },
    {
     "data": {
      "application/vnd.jupyter.widget-view+json": {
       "model_id": "c295190d6893426f9fd73655f01d2fb1",
       "version_major": 2,
       "version_minor": 0
      },
      "text/plain": [
       "  0%|          | CSD epoch blocks : 0/1 [00:00<?,       ?it/s]"
      ]
     },
     "metadata": {},
     "output_type": "display_data"
    },
    {
     "name": "stderr",
     "output_type": "stream",
     "text": [
      "[Parallel(n_jobs=-1)]: Using backend LokyBackend with 8 concurrent workers.\n",
      "/Users/savochkin/miniconda3/envs/myenv/lib/python3.9/site-packages/joblib/parallel.py:589: RuntimeWarning: Iterative multi-taper PSD computation did not converge.\n",
      "  return [func(*args, **kwargs)\n"
     ]
    },
    {
     "name": "stdout",
     "output_type": "stream",
     "text": [
      "[done]\n",
      "301\n",
      "    Using multitaper spectrum estimation with 7 DPSS windows\n",
      "Computing cross-spectral density from epochs...\n",
      "Got 8 parallel jobs after requesting -1\n",
      "Using ProgressBar with tqdm.auto\n"
     ]
    },
    {
     "data": {
      "application/vnd.jupyter.widget-view+json": {
       "model_id": "453354c921d64046af1d021a92752e9c",
       "version_major": 2,
       "version_minor": 0
      },
      "text/plain": [
       "  0%|          | CSD epoch blocks : 0/1 [00:00<?,       ?it/s]"
      ]
     },
     "metadata": {},
     "output_type": "display_data"
    },
    {
     "name": "stdout",
     "output_type": "stream",
     "text": [
      "[done]\n",
      "    Using multitaper spectrum estimation with 7 DPSS windows\n",
      "Computing cross-spectral density from epochs...\n",
      "Got 8 parallel jobs after requesting -1\n",
      "Using ProgressBar with tqdm.auto\n"
     ]
    },
    {
     "name": "stderr",
     "output_type": "stream",
     "text": [
      "[Parallel(n_jobs=-1)]: Using backend LokyBackend with 8 concurrent workers.\n"
     ]
    },
    {
     "data": {
      "application/vnd.jupyter.widget-view+json": {
       "model_id": "2e07f6781da74630b982f90171b05945",
       "version_major": 2,
       "version_minor": 0
      },
      "text/plain": [
       "  0%|          | CSD epoch blocks : 0/1 [00:00<?,       ?it/s]"
      ]
     },
     "metadata": {},
     "output_type": "display_data"
    },
    {
     "name": "stderr",
     "output_type": "stream",
     "text": [
      "[Parallel(n_jobs=-1)]: Using backend LokyBackend with 8 concurrent workers.\n",
      "/Users/savochkin/miniconda3/envs/myenv/lib/python3.9/site-packages/joblib/parallel.py:589: RuntimeWarning: Iterative multi-taper PSD computation did not converge.\n",
      "  return [func(*args, **kwargs)\n"
     ]
    },
    {
     "name": "stdout",
     "output_type": "stream",
     "text": [
      "[done]\n",
      "302\n",
      "    Using multitaper spectrum estimation with 7 DPSS windows\n",
      "Computing cross-spectral density from epochs...\n",
      "Got 8 parallel jobs after requesting -1\n",
      "Using ProgressBar with tqdm.auto\n"
     ]
    },
    {
     "data": {
      "application/vnd.jupyter.widget-view+json": {
       "model_id": "0aafe97c2d924fbb9ba02eb0eb47d8e0",
       "version_major": 2,
       "version_minor": 0
      },
      "text/plain": [
       "  0%|          | CSD epoch blocks : 0/1 [00:00<?,       ?it/s]"
      ]
     },
     "metadata": {},
     "output_type": "display_data"
    },
    {
     "name": "stderr",
     "output_type": "stream",
     "text": [
      "[Parallel(n_jobs=-1)]: Using backend LokyBackend with 8 concurrent workers.\n"
     ]
    },
    {
     "name": "stdout",
     "output_type": "stream",
     "text": [
      "[done]\n",
      "    Using multitaper spectrum estimation with 7 DPSS windows\n",
      "Computing cross-spectral density from epochs...\n",
      "Got 8 parallel jobs after requesting -1\n",
      "Using ProgressBar with tqdm.auto\n"
     ]
    },
    {
     "data": {
      "application/vnd.jupyter.widget-view+json": {
       "model_id": "57f50352a3dd4066ab65d0a2f9d52e30",
       "version_major": 2,
       "version_minor": 0
      },
      "text/plain": [
       "  0%|          | CSD epoch blocks : 0/1 [00:00<?,       ?it/s]"
      ]
     },
     "metadata": {},
     "output_type": "display_data"
    },
    {
     "name": "stderr",
     "output_type": "stream",
     "text": [
      "[Parallel(n_jobs=-1)]: Using backend LokyBackend with 8 concurrent workers.\n",
      "/Users/savochkin/miniconda3/envs/myenv/lib/python3.9/site-packages/joblib/parallel.py:589: RuntimeWarning: Iterative multi-taper PSD computation did not converge.\n",
      "  return [func(*args, **kwargs)\n"
     ]
    },
    {
     "name": "stdout",
     "output_type": "stream",
     "text": [
      "[done]\n",
      "303\n",
      "    Using multitaper spectrum estimation with 7 DPSS windows\n",
      "Computing cross-spectral density from epochs...\n",
      "Got 8 parallel jobs after requesting -1\n",
      "Using ProgressBar with tqdm.auto\n"
     ]
    },
    {
     "data": {
      "application/vnd.jupyter.widget-view+json": {
       "model_id": "17e3627fef30445e8783505933133658",
       "version_major": 2,
       "version_minor": 0
      },
      "text/plain": [
       "  0%|          | CSD epoch blocks : 0/1 [00:00<?,       ?it/s]"
      ]
     },
     "metadata": {},
     "output_type": "display_data"
    },
    {
     "name": "stderr",
     "output_type": "stream",
     "text": [
      "[Parallel(n_jobs=-1)]: Using backend LokyBackend with 8 concurrent workers.\n"
     ]
    },
    {
     "name": "stdout",
     "output_type": "stream",
     "text": [
      "[done]\n",
      "    Using multitaper spectrum estimation with 7 DPSS windows\n",
      "Computing cross-spectral density from epochs...\n",
      "Got 8 parallel jobs after requesting -1\n",
      "Using ProgressBar with tqdm.auto\n"
     ]
    },
    {
     "data": {
      "application/vnd.jupyter.widget-view+json": {
       "model_id": "a325c9f0956f44e5be7e66eea3a71ac8",
       "version_major": 2,
       "version_minor": 0
      },
      "text/plain": [
       "  0%|          | CSD epoch blocks : 0/1 [00:00<?,       ?it/s]"
      ]
     },
     "metadata": {},
     "output_type": "display_data"
    },
    {
     "name": "stdout",
     "output_type": "stream",
     "text": [
      "[done]\n"
     ]
    },
    {
     "name": "stderr",
     "output_type": "stream",
     "text": [
      "[Parallel(n_jobs=-1)]: Using backend LokyBackend with 8 concurrent workers.\n",
      "/Users/savochkin/miniconda3/envs/myenv/lib/python3.9/site-packages/joblib/parallel.py:589: RuntimeWarning: Iterative multi-taper PSD computation did not converge.\n",
      "  return [func(*args, **kwargs)\n"
     ]
    },
    {
     "name": "stdout",
     "output_type": "stream",
     "text": [
      "304\n",
      "    Using multitaper spectrum estimation with 7 DPSS windows\n",
      "Computing cross-spectral density from epochs...\n",
      "Got 8 parallel jobs after requesting -1\n",
      "Using ProgressBar with tqdm.auto\n"
     ]
    },
    {
     "data": {
      "application/vnd.jupyter.widget-view+json": {
       "model_id": "e291080b51874301b8e308e71a888646",
       "version_major": 2,
       "version_minor": 0
      },
      "text/plain": [
       "  0%|          | CSD epoch blocks : 0/1 [00:00<?,       ?it/s]"
      ]
     },
     "metadata": {},
     "output_type": "display_data"
    },
    {
     "name": "stderr",
     "output_type": "stream",
     "text": [
      "[Parallel(n_jobs=-1)]: Using backend LokyBackend with 8 concurrent workers.\n"
     ]
    },
    {
     "name": "stdout",
     "output_type": "stream",
     "text": [
      "[done]\n",
      "    Using multitaper spectrum estimation with 7 DPSS windows\n",
      "Computing cross-spectral density from epochs...\n",
      "Got 8 parallel jobs after requesting -1\n",
      "Using ProgressBar with tqdm.auto\n"
     ]
    },
    {
     "data": {
      "application/vnd.jupyter.widget-view+json": {
       "model_id": "77f96a3f56714ab5b0dd1a864c51181f",
       "version_major": 2,
       "version_minor": 0
      },
      "text/plain": [
       "  0%|          | CSD epoch blocks : 0/1 [00:00<?,       ?it/s]"
      ]
     },
     "metadata": {},
     "output_type": "display_data"
    },
    {
     "name": "stdout",
     "output_type": "stream",
     "text": [
      "[done]\n"
     ]
    },
    {
     "name": "stderr",
     "output_type": "stream",
     "text": [
      "[Parallel(n_jobs=-1)]: Using backend LokyBackend with 8 concurrent workers.\n",
      "/Users/savochkin/miniconda3/envs/myenv/lib/python3.9/site-packages/joblib/parallel.py:589: RuntimeWarning: Iterative multi-taper PSD computation did not converge.\n",
      "  return [func(*args, **kwargs)\n"
     ]
    },
    {
     "name": "stdout",
     "output_type": "stream",
     "text": [
      "305\n",
      "    Using multitaper spectrum estimation with 7 DPSS windows\n",
      "Computing cross-spectral density from epochs...\n",
      "Got 8 parallel jobs after requesting -1\n",
      "Using ProgressBar with tqdm.auto\n"
     ]
    },
    {
     "data": {
      "application/vnd.jupyter.widget-view+json": {
       "model_id": "5cccfaa1d6494937831b282e2e609775",
       "version_major": 2,
       "version_minor": 0
      },
      "text/plain": [
       "  0%|          | CSD epoch blocks : 0/1 [00:00<?,       ?it/s]"
      ]
     },
     "metadata": {},
     "output_type": "display_data"
    },
    {
     "name": "stderr",
     "output_type": "stream",
     "text": [
      "[Parallel(n_jobs=-1)]: Using backend LokyBackend with 8 concurrent workers.\n"
     ]
    },
    {
     "name": "stdout",
     "output_type": "stream",
     "text": [
      "[done]\n",
      "    Using multitaper spectrum estimation with 7 DPSS windows\n",
      "Computing cross-spectral density from epochs...\n",
      "Got 8 parallel jobs after requesting -1\n",
      "Using ProgressBar with tqdm.auto\n"
     ]
    },
    {
     "data": {
      "application/vnd.jupyter.widget-view+json": {
       "model_id": "0cb194f1e7da49f19026b78d80236e12",
       "version_major": 2,
       "version_minor": 0
      },
      "text/plain": [
       "  0%|          | CSD epoch blocks : 0/1 [00:00<?,       ?it/s]"
      ]
     },
     "metadata": {},
     "output_type": "display_data"
    },
    {
     "name": "stderr",
     "output_type": "stream",
     "text": [
      "[Parallel(n_jobs=-1)]: Using backend LokyBackend with 8 concurrent workers.\n",
      "/Users/savochkin/miniconda3/envs/myenv/lib/python3.9/site-packages/joblib/parallel.py:589: RuntimeWarning: Iterative multi-taper PSD computation did not converge.\n",
      "  return [func(*args, **kwargs)\n"
     ]
    },
    {
     "name": "stdout",
     "output_type": "stream",
     "text": [
      "[done]\n",
      "306\n",
      "    Using multitaper spectrum estimation with 7 DPSS windows\n",
      "Computing cross-spectral density from epochs...\n",
      "Got 8 parallel jobs after requesting -1\n",
      "Using ProgressBar with tqdm.auto\n"
     ]
    },
    {
     "data": {
      "application/vnd.jupyter.widget-view+json": {
       "model_id": "63a326e807fc433d994749b6add7f069",
       "version_major": 2,
       "version_minor": 0
      },
      "text/plain": [
       "  0%|          | CSD epoch blocks : 0/1 [00:00<?,       ?it/s]"
      ]
     },
     "metadata": {},
     "output_type": "display_data"
    },
    {
     "name": "stderr",
     "output_type": "stream",
     "text": [
      "[Parallel(n_jobs=-1)]: Using backend LokyBackend with 8 concurrent workers.\n"
     ]
    },
    {
     "name": "stdout",
     "output_type": "stream",
     "text": [
      "[done]\n",
      "    Using multitaper spectrum estimation with 7 DPSS windows\n",
      "Computing cross-spectral density from epochs...\n",
      "Got 8 parallel jobs after requesting -1\n",
      "Using ProgressBar with tqdm.auto\n"
     ]
    },
    {
     "data": {
      "application/vnd.jupyter.widget-view+json": {
       "model_id": "cf84b5b2326c4c0c8c2e03a47f9d0979",
       "version_major": 2,
       "version_minor": 0
      },
      "text/plain": [
       "  0%|          | CSD epoch blocks : 0/1 [00:00<?,       ?it/s]"
      ]
     },
     "metadata": {},
     "output_type": "display_data"
    },
    {
     "name": "stdout",
     "output_type": "stream",
     "text": [
      "[done]\n"
     ]
    },
    {
     "name": "stderr",
     "output_type": "stream",
     "text": [
      "[Parallel(n_jobs=-1)]: Using backend LokyBackend with 8 concurrent workers.\n",
      "/Users/savochkin/miniconda3/envs/myenv/lib/python3.9/site-packages/joblib/parallel.py:589: RuntimeWarning: Iterative multi-taper PSD computation did not converge.\n",
      "  return [func(*args, **kwargs)\n"
     ]
    },
    {
     "name": "stdout",
     "output_type": "stream",
     "text": [
      "307\n",
      "    Using multitaper spectrum estimation with 7 DPSS windows\n",
      "Computing cross-spectral density from epochs...\n",
      "Got 8 parallel jobs after requesting -1\n",
      "Using ProgressBar with tqdm.auto\n"
     ]
    },
    {
     "data": {
      "application/vnd.jupyter.widget-view+json": {
       "model_id": "0736ec50b63e43169456502fb2f61691",
       "version_major": 2,
       "version_minor": 0
      },
      "text/plain": [
       "  0%|          | CSD epoch blocks : 0/1 [00:00<?,       ?it/s]"
      ]
     },
     "metadata": {},
     "output_type": "display_data"
    },
    {
     "name": "stderr",
     "output_type": "stream",
     "text": [
      "[Parallel(n_jobs=-1)]: Using backend LokyBackend with 8 concurrent workers.\n"
     ]
    },
    {
     "name": "stdout",
     "output_type": "stream",
     "text": [
      "[done]\n",
      "    Using multitaper spectrum estimation with 7 DPSS windows\n",
      "Computing cross-spectral density from epochs...\n",
      "Got 8 parallel jobs after requesting -1\n",
      "Using ProgressBar with tqdm.auto\n"
     ]
    },
    {
     "data": {
      "application/vnd.jupyter.widget-view+json": {
       "model_id": "06c953bba57c4aa7a64b91992bdbf44a",
       "version_major": 2,
       "version_minor": 0
      },
      "text/plain": [
       "  0%|          | CSD epoch blocks : 0/1 [00:00<?,       ?it/s]"
      ]
     },
     "metadata": {},
     "output_type": "display_data"
    },
    {
     "name": "stderr",
     "output_type": "stream",
     "text": [
      "[Parallel(n_jobs=-1)]: Using backend LokyBackend with 8 concurrent workers.\n"
     ]
    },
    {
     "name": "stdout",
     "output_type": "stream",
     "text": [
      "[done]\n",
      "308\n",
      "    Using multitaper spectrum estimation with 7 DPSS windows\n",
      "Computing cross-spectral density from epochs...\n",
      "Got 8 parallel jobs after requesting -1\n",
      "Using ProgressBar with tqdm.auto\n"
     ]
    },
    {
     "name": "stderr",
     "output_type": "stream",
     "text": [
      "/Users/savochkin/miniconda3/envs/myenv/lib/python3.9/site-packages/joblib/parallel.py:589: RuntimeWarning: Iterative multi-taper PSD computation did not converge.\n",
      "  return [func(*args, **kwargs)\n"
     ]
    },
    {
     "data": {
      "application/vnd.jupyter.widget-view+json": {
       "model_id": "7c66544fbc0e42a99a6629513be0091c",
       "version_major": 2,
       "version_minor": 0
      },
      "text/plain": [
       "  0%|          | CSD epoch blocks : 0/1 [00:00<?,       ?it/s]"
      ]
     },
     "metadata": {},
     "output_type": "display_data"
    },
    {
     "name": "stdout",
     "output_type": "stream",
     "text": [
      "[done]\n",
      "    Using multitaper spectrum estimation with 7 DPSS windows\n",
      "Computing cross-spectral density from epochs...\n",
      "Got 8 parallel jobs after requesting -1\n",
      "Using ProgressBar with tqdm.auto\n"
     ]
    },
    {
     "name": "stderr",
     "output_type": "stream",
     "text": [
      "[Parallel(n_jobs=-1)]: Using backend LokyBackend with 8 concurrent workers.\n"
     ]
    },
    {
     "data": {
      "application/vnd.jupyter.widget-view+json": {
       "model_id": "42abd409da2844d2a6c1f8a54f3484b4",
       "version_major": 2,
       "version_minor": 0
      },
      "text/plain": [
       "  0%|          | CSD epoch blocks : 0/1 [00:00<?,       ?it/s]"
      ]
     },
     "metadata": {},
     "output_type": "display_data"
    },
    {
     "name": "stdout",
     "output_type": "stream",
     "text": [
      "[done]\n",
      "309\n",
      "    Using multitaper spectrum estimation with 7 DPSS windows\n",
      "Computing cross-spectral density from epochs...\n",
      "Got 8 parallel jobs after requesting -1\n",
      "Using ProgressBar with tqdm.auto\n"
     ]
    },
    {
     "name": "stderr",
     "output_type": "stream",
     "text": [
      "[Parallel(n_jobs=-1)]: Using backend LokyBackend with 8 concurrent workers.\n",
      "/Users/savochkin/miniconda3/envs/myenv/lib/python3.9/site-packages/joblib/parallel.py:589: RuntimeWarning: Iterative multi-taper PSD computation did not converge.\n",
      "  return [func(*args, **kwargs)\n"
     ]
    },
    {
     "data": {
      "application/vnd.jupyter.widget-view+json": {
       "model_id": "251f42811352413a9fb609343f7fd3f8",
       "version_major": 2,
       "version_minor": 0
      },
      "text/plain": [
       "  0%|          | CSD epoch blocks : 0/1 [00:00<?,       ?it/s]"
      ]
     },
     "metadata": {},
     "output_type": "display_data"
    },
    {
     "name": "stdout",
     "output_type": "stream",
     "text": [
      "[done]\n",
      "    Using multitaper spectrum estimation with 7 DPSS windows\n",
      "Computing cross-spectral density from epochs...\n",
      "Got 8 parallel jobs after requesting -1\n",
      "Using ProgressBar with tqdm.auto\n"
     ]
    },
    {
     "name": "stderr",
     "output_type": "stream",
     "text": [
      "[Parallel(n_jobs=-1)]: Using backend LokyBackend with 8 concurrent workers.\n"
     ]
    },
    {
     "data": {
      "application/vnd.jupyter.widget-view+json": {
       "model_id": "8b8ec1b639e04dcbb3dba6f2accacca0",
       "version_major": 2,
       "version_minor": 0
      },
      "text/plain": [
       "  0%|          | CSD epoch blocks : 0/1 [00:00<?,       ?it/s]"
      ]
     },
     "metadata": {},
     "output_type": "display_data"
    },
    {
     "name": "stderr",
     "output_type": "stream",
     "text": [
      "[Parallel(n_jobs=-1)]: Using backend LokyBackend with 8 concurrent workers.\n",
      "/Users/savochkin/miniconda3/envs/myenv/lib/python3.9/site-packages/joblib/parallel.py:589: RuntimeWarning: Iterative multi-taper PSD computation did not converge.\n",
      "  return [func(*args, **kwargs)\n"
     ]
    },
    {
     "name": "stdout",
     "output_type": "stream",
     "text": [
      "[done]\n",
      "310\n",
      "    Using multitaper spectrum estimation with 7 DPSS windows\n",
      "Computing cross-spectral density from epochs...\n",
      "Got 8 parallel jobs after requesting -1\n",
      "Using ProgressBar with tqdm.auto\n"
     ]
    },
    {
     "data": {
      "application/vnd.jupyter.widget-view+json": {
       "model_id": "22449fec3e3e49008894886c1545ea6f",
       "version_major": 2,
       "version_minor": 0
      },
      "text/plain": [
       "  0%|          | CSD epoch blocks : 0/1 [00:00<?,       ?it/s]"
      ]
     },
     "metadata": {},
     "output_type": "display_data"
    },
    {
     "name": "stderr",
     "output_type": "stream",
     "text": [
      "[Parallel(n_jobs=-1)]: Using backend LokyBackend with 8 concurrent workers.\n"
     ]
    },
    {
     "name": "stdout",
     "output_type": "stream",
     "text": [
      "[done]\n",
      "    Using multitaper spectrum estimation with 7 DPSS windows\n",
      "Computing cross-spectral density from epochs...\n",
      "Got 8 parallel jobs after requesting -1\n",
      "Using ProgressBar with tqdm.auto\n"
     ]
    },
    {
     "data": {
      "application/vnd.jupyter.widget-view+json": {
       "model_id": "db3910743ee94934b5ab58fcad614755",
       "version_major": 2,
       "version_minor": 0
      },
      "text/plain": [
       "  0%|          | CSD epoch blocks : 0/1 [00:00<?,       ?it/s]"
      ]
     },
     "metadata": {},
     "output_type": "display_data"
    },
    {
     "name": "stderr",
     "output_type": "stream",
     "text": [
      "[Parallel(n_jobs=-1)]: Using backend LokyBackend with 8 concurrent workers.\n",
      "/Users/savochkin/miniconda3/envs/myenv/lib/python3.9/site-packages/joblib/parallel.py:589: RuntimeWarning: Iterative multi-taper PSD computation did not converge.\n",
      "  return [func(*args, **kwargs)\n"
     ]
    },
    {
     "name": "stdout",
     "output_type": "stream",
     "text": [
      "[done]\n",
      "311\n",
      "    Using multitaper spectrum estimation with 7 DPSS windows\n",
      "Computing cross-spectral density from epochs...\n",
      "Got 8 parallel jobs after requesting -1\n",
      "Using ProgressBar with tqdm.auto\n"
     ]
    },
    {
     "data": {
      "application/vnd.jupyter.widget-view+json": {
       "model_id": "3545cb6be6c841c19acbfa5a690149cc",
       "version_major": 2,
       "version_minor": 0
      },
      "text/plain": [
       "  0%|          | CSD epoch blocks : 0/1 [00:00<?,       ?it/s]"
      ]
     },
     "metadata": {},
     "output_type": "display_data"
    },
    {
     "name": "stderr",
     "output_type": "stream",
     "text": [
      "[Parallel(n_jobs=-1)]: Using backend LokyBackend with 8 concurrent workers.\n"
     ]
    },
    {
     "name": "stdout",
     "output_type": "stream",
     "text": [
      "[done]\n",
      "    Using multitaper spectrum estimation with 7 DPSS windows\n",
      "Computing cross-spectral density from epochs...\n",
      "Got 8 parallel jobs after requesting -1\n",
      "Using ProgressBar with tqdm.auto\n"
     ]
    },
    {
     "data": {
      "application/vnd.jupyter.widget-view+json": {
       "model_id": "08415a4195d4456a8a40b9f6ae010d31",
       "version_major": 2,
       "version_minor": 0
      },
      "text/plain": [
       "  0%|          | CSD epoch blocks : 0/1 [00:00<?,       ?it/s]"
      ]
     },
     "metadata": {},
     "output_type": "display_data"
    },
    {
     "name": "stderr",
     "output_type": "stream",
     "text": [
      "[Parallel(n_jobs=-1)]: Using backend LokyBackend with 8 concurrent workers.\n"
     ]
    },
    {
     "name": "stdout",
     "output_type": "stream",
     "text": [
      "[done]\n",
      "312\n",
      "    Using multitaper spectrum estimation with 7 DPSS windows\n",
      "Computing cross-spectral density from epochs...\n"
     ]
    },
    {
     "name": "stderr",
     "output_type": "stream",
     "text": [
      "/Users/savochkin/miniconda3/envs/myenv/lib/python3.9/site-packages/joblib/parallel.py:589: RuntimeWarning: Iterative multi-taper PSD computation did not converge.\n",
      "  return [func(*args, **kwargs)\n"
     ]
    },
    {
     "name": "stdout",
     "output_type": "stream",
     "text": [
      "Got 8 parallel jobs after requesting -1\n",
      "Using ProgressBar with tqdm.auto\n"
     ]
    },
    {
     "data": {
      "application/vnd.jupyter.widget-view+json": {
       "model_id": "2aaaff09ef084375ada3c292f49e7d1a",
       "version_major": 2,
       "version_minor": 0
      },
      "text/plain": [
       "  0%|          | CSD epoch blocks : 0/1 [00:00<?,       ?it/s]"
      ]
     },
     "metadata": {},
     "output_type": "display_data"
    },
    {
     "name": "stdout",
     "output_type": "stream",
     "text": [
      "[done]\n",
      "    Using multitaper spectrum estimation with 7 DPSS windows\n",
      "Computing cross-spectral density from epochs...\n",
      "Got 8 parallel jobs after requesting -1\n",
      "Using ProgressBar with tqdm.auto\n"
     ]
    },
    {
     "name": "stderr",
     "output_type": "stream",
     "text": [
      "[Parallel(n_jobs=-1)]: Using backend LokyBackend with 8 concurrent workers.\n"
     ]
    },
    {
     "data": {
      "application/vnd.jupyter.widget-view+json": {
       "model_id": "7cbebd67bbee4b7d9d920f4105b3efa1",
       "version_major": 2,
       "version_minor": 0
      },
      "text/plain": [
       "  0%|          | CSD epoch blocks : 0/1 [00:00<?,       ?it/s]"
      ]
     },
     "metadata": {},
     "output_type": "display_data"
    },
    {
     "name": "stdout",
     "output_type": "stream",
     "text": [
      "[done]\n",
      "313\n",
      "    Using multitaper spectrum estimation with 7 DPSS windows\n",
      "Computing cross-spectral density from epochs...\n",
      "Got 8 parallel jobs after requesting -1\n",
      "Using ProgressBar with tqdm.auto\n"
     ]
    },
    {
     "name": "stderr",
     "output_type": "stream",
     "text": [
      "[Parallel(n_jobs=-1)]: Using backend LokyBackend with 8 concurrent workers.\n",
      "/Users/savochkin/miniconda3/envs/myenv/lib/python3.9/site-packages/joblib/parallel.py:589: RuntimeWarning: Iterative multi-taper PSD computation did not converge.\n",
      "  return [func(*args, **kwargs)\n"
     ]
    },
    {
     "data": {
      "application/vnd.jupyter.widget-view+json": {
       "model_id": "646ef699a6634b249c85f5802bbd15c4",
       "version_major": 2,
       "version_minor": 0
      },
      "text/plain": [
       "  0%|          | CSD epoch blocks : 0/1 [00:00<?,       ?it/s]"
      ]
     },
     "metadata": {},
     "output_type": "display_data"
    },
    {
     "name": "stderr",
     "output_type": "stream",
     "text": [
      "[Parallel(n_jobs=-1)]: Using backend LokyBackend with 8 concurrent workers.\n"
     ]
    },
    {
     "name": "stdout",
     "output_type": "stream",
     "text": [
      "[done]\n",
      "    Using multitaper spectrum estimation with 7 DPSS windows\n",
      "Computing cross-spectral density from epochs...\n",
      "Got 8 parallel jobs after requesting -1\n",
      "Using ProgressBar with tqdm.auto\n"
     ]
    },
    {
     "data": {
      "application/vnd.jupyter.widget-view+json": {
       "model_id": "19374e118a20482980c9009e81be5ef8",
       "version_major": 2,
       "version_minor": 0
      },
      "text/plain": [
       "  0%|          | CSD epoch blocks : 0/1 [00:00<?,       ?it/s]"
      ]
     },
     "metadata": {},
     "output_type": "display_data"
    },
    {
     "name": "stdout",
     "output_type": "stream",
     "text": [
      "[done]\n",
      "314\n",
      "    Using multitaper spectrum estimation with 7 DPSS windows\n",
      "Computing cross-spectral density from epochs...\n",
      "Got 8 parallel jobs after requesting -1\n",
      "Using ProgressBar with tqdm.auto\n"
     ]
    },
    {
     "name": "stderr",
     "output_type": "stream",
     "text": [
      "[Parallel(n_jobs=-1)]: Using backend LokyBackend with 8 concurrent workers.\n",
      "/Users/savochkin/miniconda3/envs/myenv/lib/python3.9/site-packages/joblib/parallel.py:589: RuntimeWarning: Iterative multi-taper PSD computation did not converge.\n",
      "  return [func(*args, **kwargs)\n"
     ]
    },
    {
     "data": {
      "application/vnd.jupyter.widget-view+json": {
       "model_id": "4908881040144162a046e8391c2b3063",
       "version_major": 2,
       "version_minor": 0
      },
      "text/plain": [
       "  0%|          | CSD epoch blocks : 0/1 [00:00<?,       ?it/s]"
      ]
     },
     "metadata": {},
     "output_type": "display_data"
    },
    {
     "name": "stderr",
     "output_type": "stream",
     "text": [
      "[Parallel(n_jobs=-1)]: Using backend LokyBackend with 8 concurrent workers.\n"
     ]
    },
    {
     "name": "stdout",
     "output_type": "stream",
     "text": [
      "[done]\n",
      "    Using multitaper spectrum estimation with 7 DPSS windows\n",
      "Computing cross-spectral density from epochs...\n",
      "Got 8 parallel jobs after requesting -1\n",
      "Using ProgressBar with tqdm.auto\n"
     ]
    },
    {
     "data": {
      "application/vnd.jupyter.widget-view+json": {
       "model_id": "e99181dab8be4b5aaaa190077ad98b62",
       "version_major": 2,
       "version_minor": 0
      },
      "text/plain": [
       "  0%|          | CSD epoch blocks : 0/1 [00:00<?,       ?it/s]"
      ]
     },
     "metadata": {},
     "output_type": "display_data"
    },
    {
     "name": "stderr",
     "output_type": "stream",
     "text": [
      "[Parallel(n_jobs=-1)]: Using backend LokyBackend with 8 concurrent workers.\n"
     ]
    },
    {
     "name": "stdout",
     "output_type": "stream",
     "text": [
      "[done]\n",
      "315\n",
      "    Using multitaper spectrum estimation with 7 DPSS windows\n",
      "Computing cross-spectral density from epochs...\n",
      "Got 8 parallel jobs after requesting -1\n",
      "Using ProgressBar with tqdm.auto\n"
     ]
    },
    {
     "name": "stderr",
     "output_type": "stream",
     "text": [
      "/Users/savochkin/miniconda3/envs/myenv/lib/python3.9/site-packages/joblib/parallel.py:589: RuntimeWarning: Iterative multi-taper PSD computation did not converge.\n",
      "  return [func(*args, **kwargs)\n"
     ]
    },
    {
     "data": {
      "application/vnd.jupyter.widget-view+json": {
       "model_id": "b62ca2e487fd48ed9849c1ae0c8af998",
       "version_major": 2,
       "version_minor": 0
      },
      "text/plain": [
       "  0%|          | CSD epoch blocks : 0/1 [00:00<?,       ?it/s]"
      ]
     },
     "metadata": {},
     "output_type": "display_data"
    },
    {
     "name": "stderr",
     "output_type": "stream",
     "text": [
      "[Parallel(n_jobs=-1)]: Using backend LokyBackend with 8 concurrent workers.\n"
     ]
    },
    {
     "name": "stdout",
     "output_type": "stream",
     "text": [
      "[done]\n",
      "    Using multitaper spectrum estimation with 7 DPSS windows\n",
      "Computing cross-spectral density from epochs...\n",
      "Got 8 parallel jobs after requesting -1\n",
      "Using ProgressBar with tqdm.auto\n"
     ]
    },
    {
     "data": {
      "application/vnd.jupyter.widget-view+json": {
       "model_id": "0b71b3d334cc47ceb381ca64a820fb49",
       "version_major": 2,
       "version_minor": 0
      },
      "text/plain": [
       "  0%|          | CSD epoch blocks : 0/1 [00:00<?,       ?it/s]"
      ]
     },
     "metadata": {},
     "output_type": "display_data"
    },
    {
     "name": "stderr",
     "output_type": "stream",
     "text": [
      "[Parallel(n_jobs=-1)]: Using backend LokyBackend with 8 concurrent workers.\n",
      "/Users/savochkin/miniconda3/envs/myenv/lib/python3.9/site-packages/joblib/parallel.py:589: RuntimeWarning: Iterative multi-taper PSD computation did not converge.\n",
      "  return [func(*args, **kwargs)\n"
     ]
    },
    {
     "name": "stdout",
     "output_type": "stream",
     "text": [
      "[done]\n",
      "316\n",
      "    Using multitaper spectrum estimation with 7 DPSS windows\n",
      "Computing cross-spectral density from epochs...\n",
      "Got 8 parallel jobs after requesting -1\n",
      "Using ProgressBar with tqdm.auto\n"
     ]
    },
    {
     "data": {
      "application/vnd.jupyter.widget-view+json": {
       "model_id": "16bfe9a8514a4bd99f10e5d8ecab0322",
       "version_major": 2,
       "version_minor": 0
      },
      "text/plain": [
       "  0%|          | CSD epoch blocks : 0/1 [00:00<?,       ?it/s]"
      ]
     },
     "metadata": {},
     "output_type": "display_data"
    },
    {
     "name": "stderr",
     "output_type": "stream",
     "text": [
      "[Parallel(n_jobs=-1)]: Using backend LokyBackend with 8 concurrent workers.\n"
     ]
    },
    {
     "name": "stdout",
     "output_type": "stream",
     "text": [
      "[done]\n",
      "    Using multitaper spectrum estimation with 7 DPSS windows\n",
      "Computing cross-spectral density from epochs...\n",
      "Got 8 parallel jobs after requesting -1\n",
      "Using ProgressBar with tqdm.auto\n"
     ]
    },
    {
     "data": {
      "application/vnd.jupyter.widget-view+json": {
       "model_id": "a71ecf7b2dd54150afb65664227448c1",
       "version_major": 2,
       "version_minor": 0
      },
      "text/plain": [
       "  0%|          | CSD epoch blocks : 0/1 [00:00<?,       ?it/s]"
      ]
     },
     "metadata": {},
     "output_type": "display_data"
    },
    {
     "name": "stdout",
     "output_type": "stream",
     "text": [
      "[done]\n",
      "317\n",
      "    Using multitaper spectrum estimation with 7 DPSS windows\n"
     ]
    },
    {
     "name": "stderr",
     "output_type": "stream",
     "text": [
      "[Parallel(n_jobs=-1)]: Using backend LokyBackend with 8 concurrent workers.\n",
      "/Users/savochkin/miniconda3/envs/myenv/lib/python3.9/site-packages/joblib/parallel.py:589: RuntimeWarning: Iterative multi-taper PSD computation did not converge.\n",
      "  return [func(*args, **kwargs)\n"
     ]
    },
    {
     "name": "stdout",
     "output_type": "stream",
     "text": [
      "Computing cross-spectral density from epochs...\n",
      "Got 8 parallel jobs after requesting -1\n",
      "Using ProgressBar with tqdm.auto\n"
     ]
    },
    {
     "data": {
      "application/vnd.jupyter.widget-view+json": {
       "model_id": "3b24865ee87e48848e134123b4c215aa",
       "version_major": 2,
       "version_minor": 0
      },
      "text/plain": [
       "  0%|          | CSD epoch blocks : 0/1 [00:00<?,       ?it/s]"
      ]
     },
     "metadata": {},
     "output_type": "display_data"
    },
    {
     "name": "stderr",
     "output_type": "stream",
     "text": [
      "[Parallel(n_jobs=-1)]: Using backend LokyBackend with 8 concurrent workers.\n"
     ]
    },
    {
     "name": "stdout",
     "output_type": "stream",
     "text": [
      "[done]\n",
      "    Using multitaper spectrum estimation with 7 DPSS windows\n",
      "Computing cross-spectral density from epochs...\n",
      "Got 8 parallel jobs after requesting -1\n",
      "Using ProgressBar with tqdm.auto\n"
     ]
    },
    {
     "data": {
      "application/vnd.jupyter.widget-view+json": {
       "model_id": "105d8a5e8cbf432baf772943a407b6e0",
       "version_major": 2,
       "version_minor": 0
      },
      "text/plain": [
       "  0%|          | CSD epoch blocks : 0/1 [00:00<?,       ?it/s]"
      ]
     },
     "metadata": {},
     "output_type": "display_data"
    },
    {
     "name": "stdout",
     "output_type": "stream",
     "text": [
      "[done]\n",
      "318\n",
      "    Using multitaper spectrum estimation with 7 DPSS windows\n",
      "Computing cross-spectral density from epochs...\n",
      "Got 8 parallel jobs after requesting -1\n",
      "Using ProgressBar with tqdm.auto\n"
     ]
    },
    {
     "name": "stderr",
     "output_type": "stream",
     "text": [
      "[Parallel(n_jobs=-1)]: Using backend LokyBackend with 8 concurrent workers.\n",
      "/Users/savochkin/miniconda3/envs/myenv/lib/python3.9/site-packages/joblib/parallel.py:589: RuntimeWarning: Iterative multi-taper PSD computation did not converge.\n",
      "  return [func(*args, **kwargs)\n"
     ]
    },
    {
     "data": {
      "application/vnd.jupyter.widget-view+json": {
       "model_id": "f0aee772ab7840d1bf5b4b16fc543b55",
       "version_major": 2,
       "version_minor": 0
      },
      "text/plain": [
       "  0%|          | CSD epoch blocks : 0/1 [00:00<?,       ?it/s]"
      ]
     },
     "metadata": {},
     "output_type": "display_data"
    },
    {
     "name": "stdout",
     "output_type": "stream",
     "text": [
      "[done]\n",
      "    Using multitaper spectrum estimation with 7 DPSS windows\n",
      "Computing cross-spectral density from epochs...\n",
      "Got 8 parallel jobs after requesting -1\n",
      "Using ProgressBar with tqdm.auto\n"
     ]
    },
    {
     "name": "stderr",
     "output_type": "stream",
     "text": [
      "[Parallel(n_jobs=-1)]: Using backend LokyBackend with 8 concurrent workers.\n"
     ]
    },
    {
     "data": {
      "application/vnd.jupyter.widget-view+json": {
       "model_id": "451447d9ced548b198570a8ee5224557",
       "version_major": 2,
       "version_minor": 0
      },
      "text/plain": [
       "  0%|          | CSD epoch blocks : 0/1 [00:00<?,       ?it/s]"
      ]
     },
     "metadata": {},
     "output_type": "display_data"
    },
    {
     "name": "stdout",
     "output_type": "stream",
     "text": [
      "[done]\n",
      "319\n",
      "    Using multitaper spectrum estimation with 7 DPSS windows\n",
      "Computing cross-spectral density from epochs...\n",
      "Got 8 parallel jobs after requesting -1\n",
      "Using ProgressBar with tqdm.auto\n"
     ]
    },
    {
     "name": "stderr",
     "output_type": "stream",
     "text": [
      "[Parallel(n_jobs=-1)]: Using backend LokyBackend with 8 concurrent workers.\n",
      "/Users/savochkin/miniconda3/envs/myenv/lib/python3.9/site-packages/joblib/parallel.py:589: RuntimeWarning: Iterative multi-taper PSD computation did not converge.\n",
      "  return [func(*args, **kwargs)\n"
     ]
    },
    {
     "data": {
      "application/vnd.jupyter.widget-view+json": {
       "model_id": "bfb63b2710e044efb319a9692c7ec801",
       "version_major": 2,
       "version_minor": 0
      },
      "text/plain": [
       "  0%|          | CSD epoch blocks : 0/1 [00:00<?,       ?it/s]"
      ]
     },
     "metadata": {},
     "output_type": "display_data"
    },
    {
     "name": "stderr",
     "output_type": "stream",
     "text": [
      "[Parallel(n_jobs=-1)]: Using backend LokyBackend with 8 concurrent workers.\n"
     ]
    },
    {
     "name": "stdout",
     "output_type": "stream",
     "text": [
      "[done]\n",
      "    Using multitaper spectrum estimation with 7 DPSS windows\n",
      "Computing cross-spectral density from epochs...\n",
      "Got 8 parallel jobs after requesting -1\n",
      "Using ProgressBar with tqdm.auto\n"
     ]
    },
    {
     "data": {
      "application/vnd.jupyter.widget-view+json": {
       "model_id": "3fd208b61e9144978005e8157077b022",
       "version_major": 2,
       "version_minor": 0
      },
      "text/plain": [
       "  0%|          | CSD epoch blocks : 0/1 [00:00<?,       ?it/s]"
      ]
     },
     "metadata": {},
     "output_type": "display_data"
    },
    {
     "name": "stdout",
     "output_type": "stream",
     "text": [
      "[done]\n",
      "320\n",
      "    Using multitaper spectrum estimation with 7 DPSS windows\n",
      "Computing cross-spectral density from epochs...\n",
      "Got 8 parallel jobs after requesting -1\n",
      "Using ProgressBar with tqdm.auto\n"
     ]
    },
    {
     "name": "stderr",
     "output_type": "stream",
     "text": [
      "[Parallel(n_jobs=-1)]: Using backend LokyBackend with 8 concurrent workers.\n",
      "/Users/savochkin/miniconda3/envs/myenv/lib/python3.9/site-packages/joblib/parallel.py:589: RuntimeWarning: Iterative multi-taper PSD computation did not converge.\n",
      "  return [func(*args, **kwargs)\n"
     ]
    },
    {
     "data": {
      "application/vnd.jupyter.widget-view+json": {
       "model_id": "6a6bc6eae2654787aa79c3f262f66698",
       "version_major": 2,
       "version_minor": 0
      },
      "text/plain": [
       "  0%|          | CSD epoch blocks : 0/1 [00:00<?,       ?it/s]"
      ]
     },
     "metadata": {},
     "output_type": "display_data"
    },
    {
     "name": "stderr",
     "output_type": "stream",
     "text": [
      "[Parallel(n_jobs=-1)]: Using backend LokyBackend with 8 concurrent workers.\n"
     ]
    },
    {
     "name": "stdout",
     "output_type": "stream",
     "text": [
      "[done]\n",
      "    Using multitaper spectrum estimation with 7 DPSS windows\n",
      "Computing cross-spectral density from epochs...\n",
      "Got 8 parallel jobs after requesting -1\n",
      "Using ProgressBar with tqdm.auto\n"
     ]
    },
    {
     "data": {
      "application/vnd.jupyter.widget-view+json": {
       "model_id": "85eb52f63e1540de94d5b527edacc0d4",
       "version_major": 2,
       "version_minor": 0
      },
      "text/plain": [
       "  0%|          | CSD epoch blocks : 0/1 [00:00<?,       ?it/s]"
      ]
     },
     "metadata": {},
     "output_type": "display_data"
    },
    {
     "name": "stdout",
     "output_type": "stream",
     "text": [
      "[done]\n",
      "321\n",
      "    Using multitaper spectrum estimation with 7 DPSS windows\n",
      "Computing cross-spectral density from epochs...\n",
      "Got 8 parallel jobs after requesting -1\n",
      "Using ProgressBar with tqdm.auto\n"
     ]
    },
    {
     "name": "stderr",
     "output_type": "stream",
     "text": [
      "[Parallel(n_jobs=-1)]: Using backend LokyBackend with 8 concurrent workers.\n",
      "/Users/savochkin/miniconda3/envs/myenv/lib/python3.9/site-packages/joblib/parallel.py:589: RuntimeWarning: Iterative multi-taper PSD computation did not converge.\n",
      "  return [func(*args, **kwargs)\n"
     ]
    },
    {
     "data": {
      "application/vnd.jupyter.widget-view+json": {
       "model_id": "2f4b538eefa64dc9a5707b2a7e76abae",
       "version_major": 2,
       "version_minor": 0
      },
      "text/plain": [
       "  0%|          | CSD epoch blocks : 0/1 [00:00<?,       ?it/s]"
      ]
     },
     "metadata": {},
     "output_type": "display_data"
    },
    {
     "name": "stderr",
     "output_type": "stream",
     "text": [
      "[Parallel(n_jobs=-1)]: Using backend LokyBackend with 8 concurrent workers.\n"
     ]
    },
    {
     "name": "stdout",
     "output_type": "stream",
     "text": [
      "[done]\n",
      "    Using multitaper spectrum estimation with 7 DPSS windows\n",
      "Computing cross-spectral density from epochs...\n",
      "Got 8 parallel jobs after requesting -1\n",
      "Using ProgressBar with tqdm.auto\n"
     ]
    },
    {
     "data": {
      "application/vnd.jupyter.widget-view+json": {
       "model_id": "faecc65340574968a56eb8d735521cb7",
       "version_major": 2,
       "version_minor": 0
      },
      "text/plain": [
       "  0%|          | CSD epoch blocks : 0/1 [00:00<?,       ?it/s]"
      ]
     },
     "metadata": {},
     "output_type": "display_data"
    },
    {
     "name": "stdout",
     "output_type": "stream",
     "text": [
      "[done]\n",
      "322\n",
      "    Using multitaper spectrum estimation with 7 DPSS windows\n",
      "Computing cross-spectral density from epochs...\n",
      "Got 8 parallel jobs after requesting -1\n",
      "Using ProgressBar with tqdm.auto\n"
     ]
    },
    {
     "name": "stderr",
     "output_type": "stream",
     "text": [
      "[Parallel(n_jobs=-1)]: Using backend LokyBackend with 8 concurrent workers.\n",
      "/Users/savochkin/miniconda3/envs/myenv/lib/python3.9/site-packages/joblib/parallel.py:589: RuntimeWarning: Iterative multi-taper PSD computation did not converge.\n",
      "  return [func(*args, **kwargs)\n"
     ]
    },
    {
     "data": {
      "application/vnd.jupyter.widget-view+json": {
       "model_id": "1c7b0c3e217e4bee84e0910822547647",
       "version_major": 2,
       "version_minor": 0
      },
      "text/plain": [
       "  0%|          | CSD epoch blocks : 0/1 [00:00<?,       ?it/s]"
      ]
     },
     "metadata": {},
     "output_type": "display_data"
    },
    {
     "name": "stderr",
     "output_type": "stream",
     "text": [
      "[Parallel(n_jobs=-1)]: Using backend LokyBackend with 8 concurrent workers.\n"
     ]
    },
    {
     "name": "stdout",
     "output_type": "stream",
     "text": [
      "[done]\n",
      "    Using multitaper spectrum estimation with 7 DPSS windows\n",
      "Computing cross-spectral density from epochs...\n",
      "Got 8 parallel jobs after requesting -1\n",
      "Using ProgressBar with tqdm.auto\n"
     ]
    },
    {
     "data": {
      "application/vnd.jupyter.widget-view+json": {
       "model_id": "71cacfc108b047cba0f9185be03a7696",
       "version_major": 2,
       "version_minor": 0
      },
      "text/plain": [
       "  0%|          | CSD epoch blocks : 0/1 [00:00<?,       ?it/s]"
      ]
     },
     "metadata": {},
     "output_type": "display_data"
    },
    {
     "name": "stderr",
     "output_type": "stream",
     "text": [
      "[Parallel(n_jobs=-1)]: Using backend LokyBackend with 8 concurrent workers.\n",
      "/Users/savochkin/miniconda3/envs/myenv/lib/python3.9/site-packages/joblib/parallel.py:589: RuntimeWarning: Iterative multi-taper PSD computation did not converge.\n",
      "  return [func(*args, **kwargs)\n"
     ]
    },
    {
     "name": "stdout",
     "output_type": "stream",
     "text": [
      "[done]\n",
      "323\n",
      "    Using multitaper spectrum estimation with 7 DPSS windows\n",
      "Computing cross-spectral density from epochs...\n",
      "Got 8 parallel jobs after requesting -1\n",
      "Using ProgressBar with tqdm.auto\n"
     ]
    },
    {
     "data": {
      "application/vnd.jupyter.widget-view+json": {
       "model_id": "4cc3749ba6294b48bb8de06bd4179b80",
       "version_major": 2,
       "version_minor": 0
      },
      "text/plain": [
       "  0%|          | CSD epoch blocks : 0/1 [00:00<?,       ?it/s]"
      ]
     },
     "metadata": {},
     "output_type": "display_data"
    },
    {
     "name": "stderr",
     "output_type": "stream",
     "text": [
      "[Parallel(n_jobs=-1)]: Using backend LokyBackend with 8 concurrent workers.\n"
     ]
    },
    {
     "name": "stdout",
     "output_type": "stream",
     "text": [
      "[done]\n",
      "    Using multitaper spectrum estimation with 7 DPSS windows\n",
      "Computing cross-spectral density from epochs...\n",
      "Got 8 parallel jobs after requesting -1\n",
      "Using ProgressBar with tqdm.auto\n"
     ]
    },
    {
     "data": {
      "application/vnd.jupyter.widget-view+json": {
       "model_id": "2acd88e37e46472f93cca3063cc0a486",
       "version_major": 2,
       "version_minor": 0
      },
      "text/plain": [
       "  0%|          | CSD epoch blocks : 0/1 [00:00<?,       ?it/s]"
      ]
     },
     "metadata": {},
     "output_type": "display_data"
    },
    {
     "name": "stdout",
     "output_type": "stream",
     "text": [
      "[done]\n",
      "324\n",
      "    Using multitaper spectrum estimation with 7 DPSS windows\n",
      "Computing cross-spectral density from epochs...\n",
      "Got 8 parallel jobs after requesting -1\n",
      "Using ProgressBar with tqdm.auto\n"
     ]
    },
    {
     "name": "stderr",
     "output_type": "stream",
     "text": [
      "[Parallel(n_jobs=-1)]: Using backend LokyBackend with 8 concurrent workers.\n",
      "/Users/savochkin/miniconda3/envs/myenv/lib/python3.9/site-packages/joblib/parallel.py:589: RuntimeWarning: Iterative multi-taper PSD computation did not converge.\n",
      "  return [func(*args, **kwargs)\n"
     ]
    },
    {
     "data": {
      "application/vnd.jupyter.widget-view+json": {
       "model_id": "240e7d4a6d6644dc84ea15307ab8afab",
       "version_major": 2,
       "version_minor": 0
      },
      "text/plain": [
       "  0%|          | CSD epoch blocks : 0/1 [00:00<?,       ?it/s]"
      ]
     },
     "metadata": {},
     "output_type": "display_data"
    },
    {
     "name": "stderr",
     "output_type": "stream",
     "text": [
      "[Parallel(n_jobs=-1)]: Using backend LokyBackend with 8 concurrent workers.\n"
     ]
    },
    {
     "name": "stdout",
     "output_type": "stream",
     "text": [
      "[done]\n",
      "    Using multitaper spectrum estimation with 7 DPSS windows\n",
      "Computing cross-spectral density from epochs...\n",
      "Got 8 parallel jobs after requesting -1\n",
      "Using ProgressBar with tqdm.auto\n"
     ]
    },
    {
     "data": {
      "application/vnd.jupyter.widget-view+json": {
       "model_id": "bf0d0e4d56f044b5a7f4eeddbf1f989f",
       "version_major": 2,
       "version_minor": 0
      },
      "text/plain": [
       "  0%|          | CSD epoch blocks : 0/1 [00:00<?,       ?it/s]"
      ]
     },
     "metadata": {},
     "output_type": "display_data"
    },
    {
     "name": "stdout",
     "output_type": "stream",
     "text": [
      "[done]\n",
      "325\n",
      "    Using multitaper spectrum estimation with 7 DPSS windows\n",
      "Computing cross-spectral density from epochs...\n",
      "Got 8 parallel jobs after requesting -1\n",
      "Using ProgressBar with tqdm.auto\n"
     ]
    },
    {
     "name": "stderr",
     "output_type": "stream",
     "text": [
      "[Parallel(n_jobs=-1)]: Using backend LokyBackend with 8 concurrent workers.\n",
      "/Users/savochkin/miniconda3/envs/myenv/lib/python3.9/site-packages/joblib/parallel.py:589: RuntimeWarning: Iterative multi-taper PSD computation did not converge.\n",
      "  return [func(*args, **kwargs)\n"
     ]
    },
    {
     "data": {
      "application/vnd.jupyter.widget-view+json": {
       "model_id": "d636386c3d0c4986a514968ecb948f2d",
       "version_major": 2,
       "version_minor": 0
      },
      "text/plain": [
       "  0%|          | CSD epoch blocks : 0/1 [00:00<?,       ?it/s]"
      ]
     },
     "metadata": {},
     "output_type": "display_data"
    },
    {
     "name": "stderr",
     "output_type": "stream",
     "text": [
      "[Parallel(n_jobs=-1)]: Using backend LokyBackend with 8 concurrent workers.\n"
     ]
    },
    {
     "name": "stdout",
     "output_type": "stream",
     "text": [
      "[done]\n",
      "    Using multitaper spectrum estimation with 7 DPSS windows\n",
      "Computing cross-spectral density from epochs...\n",
      "Got 8 parallel jobs after requesting -1\n",
      "Using ProgressBar with tqdm.auto\n"
     ]
    },
    {
     "data": {
      "application/vnd.jupyter.widget-view+json": {
       "model_id": "7ee7e1b223714e41b641418a73d2d905",
       "version_major": 2,
       "version_minor": 0
      },
      "text/plain": [
       "  0%|          | CSD epoch blocks : 0/1 [00:00<?,       ?it/s]"
      ]
     },
     "metadata": {},
     "output_type": "display_data"
    },
    {
     "name": "stdout",
     "output_type": "stream",
     "text": [
      "[done]\n",
      "326\n",
      "    Using multitaper spectrum estimation with 7 DPSS windows\n",
      "Computing cross-spectral density from epochs...\n",
      "Got 8 parallel jobs after requesting -1\n",
      "Using ProgressBar with tqdm.auto\n"
     ]
    },
    {
     "name": "stderr",
     "output_type": "stream",
     "text": [
      "[Parallel(n_jobs=-1)]: Using backend LokyBackend with 8 concurrent workers.\n",
      "/Users/savochkin/miniconda3/envs/myenv/lib/python3.9/site-packages/joblib/parallel.py:589: RuntimeWarning: Iterative multi-taper PSD computation did not converge.\n",
      "  return [func(*args, **kwargs)\n"
     ]
    },
    {
     "data": {
      "application/vnd.jupyter.widget-view+json": {
       "model_id": "f919d8d9c5df43bfbe91bac6cfbef158",
       "version_major": 2,
       "version_minor": 0
      },
      "text/plain": [
       "  0%|          | CSD epoch blocks : 0/1 [00:00<?,       ?it/s]"
      ]
     },
     "metadata": {},
     "output_type": "display_data"
    },
    {
     "name": "stderr",
     "output_type": "stream",
     "text": [
      "[Parallel(n_jobs=-1)]: Using backend LokyBackend with 8 concurrent workers.\n"
     ]
    },
    {
     "name": "stdout",
     "output_type": "stream",
     "text": [
      "[done]\n",
      "    Using multitaper spectrum estimation with 7 DPSS windows\n",
      "Computing cross-spectral density from epochs...\n",
      "Got 8 parallel jobs after requesting -1\n",
      "Using ProgressBar with tqdm.auto\n"
     ]
    },
    {
     "data": {
      "application/vnd.jupyter.widget-view+json": {
       "model_id": "ef24d27512f54ee9972ce72bf54108ac",
       "version_major": 2,
       "version_minor": 0
      },
      "text/plain": [
       "  0%|          | CSD epoch blocks : 0/1 [00:00<?,       ?it/s]"
      ]
     },
     "metadata": {},
     "output_type": "display_data"
    },
    {
     "name": "stdout",
     "output_type": "stream",
     "text": [
      "[done]\n",
      "327\n",
      "    Using multitaper spectrum estimation with 7 DPSS windows\n",
      "Computing cross-spectral density from epochs...\n",
      "Got 8 parallel jobs after requesting -1\n",
      "Using ProgressBar with tqdm.auto\n"
     ]
    },
    {
     "name": "stderr",
     "output_type": "stream",
     "text": [
      "[Parallel(n_jobs=-1)]: Using backend LokyBackend with 8 concurrent workers.\n",
      "/Users/savochkin/miniconda3/envs/myenv/lib/python3.9/site-packages/joblib/parallel.py:589: RuntimeWarning: Iterative multi-taper PSD computation did not converge.\n",
      "  return [func(*args, **kwargs)\n"
     ]
    },
    {
     "data": {
      "application/vnd.jupyter.widget-view+json": {
       "model_id": "0635837d14f0424c885902b006360276",
       "version_major": 2,
       "version_minor": 0
      },
      "text/plain": [
       "  0%|          | CSD epoch blocks : 0/1 [00:00<?,       ?it/s]"
      ]
     },
     "metadata": {},
     "output_type": "display_data"
    },
    {
     "name": "stderr",
     "output_type": "stream",
     "text": [
      "[Parallel(n_jobs=-1)]: Using backend LokyBackend with 8 concurrent workers.\n"
     ]
    },
    {
     "name": "stdout",
     "output_type": "stream",
     "text": [
      "[done]\n",
      "    Using multitaper spectrum estimation with 7 DPSS windows\n",
      "Computing cross-spectral density from epochs...\n",
      "Got 8 parallel jobs after requesting -1\n",
      "Using ProgressBar with tqdm.auto\n"
     ]
    },
    {
     "data": {
      "application/vnd.jupyter.widget-view+json": {
       "model_id": "b2fe6d8120584062880e0596480427cc",
       "version_major": 2,
       "version_minor": 0
      },
      "text/plain": [
       "  0%|          | CSD epoch blocks : 0/1 [00:00<?,       ?it/s]"
      ]
     },
     "metadata": {},
     "output_type": "display_data"
    },
    {
     "name": "stdout",
     "output_type": "stream",
     "text": [
      "[done]\n",
      "328\n",
      "    Using multitaper spectrum estimation with 7 DPSS windows\n",
      "Computing cross-spectral density from epochs...\n",
      "Got 8 parallel jobs after requesting -1\n",
      "Using ProgressBar with tqdm.auto\n"
     ]
    },
    {
     "name": "stderr",
     "output_type": "stream",
     "text": [
      "[Parallel(n_jobs=-1)]: Using backend LokyBackend with 8 concurrent workers.\n",
      "/Users/savochkin/miniconda3/envs/myenv/lib/python3.9/site-packages/joblib/parallel.py:589: RuntimeWarning: Iterative multi-taper PSD computation did not converge.\n",
      "  return [func(*args, **kwargs)\n"
     ]
    },
    {
     "data": {
      "application/vnd.jupyter.widget-view+json": {
       "model_id": "28ee1f6fecd44a8a85260951291c9073",
       "version_major": 2,
       "version_minor": 0
      },
      "text/plain": [
       "  0%|          | CSD epoch blocks : 0/1 [00:00<?,       ?it/s]"
      ]
     },
     "metadata": {},
     "output_type": "display_data"
    },
    {
     "name": "stderr",
     "output_type": "stream",
     "text": [
      "[Parallel(n_jobs=-1)]: Using backend LokyBackend with 8 concurrent workers.\n"
     ]
    },
    {
     "name": "stdout",
     "output_type": "stream",
     "text": [
      "[done]\n",
      "    Using multitaper spectrum estimation with 7 DPSS windows\n",
      "Computing cross-spectral density from epochs...\n",
      "Got 8 parallel jobs after requesting -1\n",
      "Using ProgressBar with tqdm.auto\n"
     ]
    },
    {
     "data": {
      "application/vnd.jupyter.widget-view+json": {
       "model_id": "7e7b0ead3c2d40e6930eb86e57228d82",
       "version_major": 2,
       "version_minor": 0
      },
      "text/plain": [
       "  0%|          | CSD epoch blocks : 0/1 [00:00<?,       ?it/s]"
      ]
     },
     "metadata": {},
     "output_type": "display_data"
    },
    {
     "name": "stdout",
     "output_type": "stream",
     "text": [
      "[done]\n",
      "329\n",
      "    Using multitaper spectrum estimation with 7 DPSS windows\n",
      "Computing cross-spectral density from epochs...\n",
      "Got 8 parallel jobs after requesting -1\n",
      "Using ProgressBar with tqdm.auto\n"
     ]
    },
    {
     "name": "stderr",
     "output_type": "stream",
     "text": [
      "[Parallel(n_jobs=-1)]: Using backend LokyBackend with 8 concurrent workers.\n",
      "/Users/savochkin/miniconda3/envs/myenv/lib/python3.9/site-packages/joblib/parallel.py:589: RuntimeWarning: Iterative multi-taper PSD computation did not converge.\n",
      "  return [func(*args, **kwargs)\n"
     ]
    },
    {
     "data": {
      "application/vnd.jupyter.widget-view+json": {
       "model_id": "35ddeecc9f50423880a7f5302bca489c",
       "version_major": 2,
       "version_minor": 0
      },
      "text/plain": [
       "  0%|          | CSD epoch blocks : 0/1 [00:00<?,       ?it/s]"
      ]
     },
     "metadata": {},
     "output_type": "display_data"
    },
    {
     "name": "stderr",
     "output_type": "stream",
     "text": [
      "[Parallel(n_jobs=-1)]: Using backend LokyBackend with 8 concurrent workers.\n"
     ]
    },
    {
     "name": "stdout",
     "output_type": "stream",
     "text": [
      "[done]\n",
      "    Using multitaper spectrum estimation with 7 DPSS windows\n",
      "Computing cross-spectral density from epochs...\n",
      "Got 8 parallel jobs after requesting -1\n",
      "Using ProgressBar with tqdm.auto\n"
     ]
    },
    {
     "data": {
      "application/vnd.jupyter.widget-view+json": {
       "model_id": "83c4e2bcdadd45bf9126fb386d39551d",
       "version_major": 2,
       "version_minor": 0
      },
      "text/plain": [
       "  0%|          | CSD epoch blocks : 0/1 [00:00<?,       ?it/s]"
      ]
     },
     "metadata": {},
     "output_type": "display_data"
    },
    {
     "name": "stdout",
     "output_type": "stream",
     "text": [
      "[done]\n",
      "330\n",
      "    Using multitaper spectrum estimation with 7 DPSS windows\n",
      "Computing cross-spectral density from epochs...\n",
      "Got 8 parallel jobs after requesting -1\n",
      "Using ProgressBar with tqdm.auto\n"
     ]
    },
    {
     "name": "stderr",
     "output_type": "stream",
     "text": [
      "[Parallel(n_jobs=-1)]: Using backend LokyBackend with 8 concurrent workers.\n",
      "/Users/savochkin/miniconda3/envs/myenv/lib/python3.9/site-packages/joblib/parallel.py:589: RuntimeWarning: Iterative multi-taper PSD computation did not converge.\n",
      "  return [func(*args, **kwargs)\n"
     ]
    },
    {
     "data": {
      "application/vnd.jupyter.widget-view+json": {
       "model_id": "1d3e0400035b46708f54d49005595b98",
       "version_major": 2,
       "version_minor": 0
      },
      "text/plain": [
       "  0%|          | CSD epoch blocks : 0/1 [00:00<?,       ?it/s]"
      ]
     },
     "metadata": {},
     "output_type": "display_data"
    },
    {
     "name": "stderr",
     "output_type": "stream",
     "text": [
      "[Parallel(n_jobs=-1)]: Using backend LokyBackend with 8 concurrent workers.\n"
     ]
    },
    {
     "name": "stdout",
     "output_type": "stream",
     "text": [
      "[done]\n",
      "    Using multitaper spectrum estimation with 7 DPSS windows\n",
      "Computing cross-spectral density from epochs...\n",
      "Got 8 parallel jobs after requesting -1\n",
      "Using ProgressBar with tqdm.auto\n"
     ]
    },
    {
     "data": {
      "application/vnd.jupyter.widget-view+json": {
       "model_id": "3c6fcd3891fa4457b4381d08dc5d3c91",
       "version_major": 2,
       "version_minor": 0
      },
      "text/plain": [
       "  0%|          | CSD epoch blocks : 0/1 [00:00<?,       ?it/s]"
      ]
     },
     "metadata": {},
     "output_type": "display_data"
    },
    {
     "name": "stdout",
     "output_type": "stream",
     "text": [
      "[done]\n",
      "331\n",
      "    Using multitaper spectrum estimation with 7 DPSS windows\n",
      "Computing cross-spectral density from epochs...\n",
      "Got 8 parallel jobs after requesting -1\n",
      "Using ProgressBar with tqdm.auto\n"
     ]
    },
    {
     "name": "stderr",
     "output_type": "stream",
     "text": [
      "[Parallel(n_jobs=-1)]: Using backend LokyBackend with 8 concurrent workers.\n",
      "/Users/savochkin/miniconda3/envs/myenv/lib/python3.9/site-packages/joblib/parallel.py:589: RuntimeWarning: Iterative multi-taper PSD computation did not converge.\n",
      "  return [func(*args, **kwargs)\n"
     ]
    },
    {
     "data": {
      "application/vnd.jupyter.widget-view+json": {
       "model_id": "f1697e5212c844a0bf9f4be88d2c4cf9",
       "version_major": 2,
       "version_minor": 0
      },
      "text/plain": [
       "  0%|          | CSD epoch blocks : 0/1 [00:00<?,       ?it/s]"
      ]
     },
     "metadata": {},
     "output_type": "display_data"
    },
    {
     "name": "stderr",
     "output_type": "stream",
     "text": [
      "[Parallel(n_jobs=-1)]: Using backend LokyBackend with 8 concurrent workers.\n"
     ]
    },
    {
     "name": "stdout",
     "output_type": "stream",
     "text": [
      "[done]\n",
      "    Using multitaper spectrum estimation with 7 DPSS windows\n",
      "Computing cross-spectral density from epochs...\n",
      "Got 8 parallel jobs after requesting -1\n",
      "Using ProgressBar with tqdm.auto\n"
     ]
    },
    {
     "data": {
      "application/vnd.jupyter.widget-view+json": {
       "model_id": "ee52ed7baeea42f59d59cf45d9da417a",
       "version_major": 2,
       "version_minor": 0
      },
      "text/plain": [
       "  0%|          | CSD epoch blocks : 0/1 [00:00<?,       ?it/s]"
      ]
     },
     "metadata": {},
     "output_type": "display_data"
    },
    {
     "name": "stdout",
     "output_type": "stream",
     "text": [
      "[done]\n",
      "332\n",
      "    Using multitaper spectrum estimation with 7 DPSS windows\n",
      "Computing cross-spectral density from epochs...\n",
      "Got 8 parallel jobs after requesting -1\n",
      "Using ProgressBar with tqdm.auto\n"
     ]
    },
    {
     "name": "stderr",
     "output_type": "stream",
     "text": [
      "[Parallel(n_jobs=-1)]: Using backend LokyBackend with 8 concurrent workers.\n",
      "/Users/savochkin/miniconda3/envs/myenv/lib/python3.9/site-packages/joblib/parallel.py:589: RuntimeWarning: Iterative multi-taper PSD computation did not converge.\n",
      "  return [func(*args, **kwargs)\n"
     ]
    },
    {
     "data": {
      "application/vnd.jupyter.widget-view+json": {
       "model_id": "8f0f62f2baf346d981b65457498353a9",
       "version_major": 2,
       "version_minor": 0
      },
      "text/plain": [
       "  0%|          | CSD epoch blocks : 0/1 [00:00<?,       ?it/s]"
      ]
     },
     "metadata": {},
     "output_type": "display_data"
    },
    {
     "name": "stderr",
     "output_type": "stream",
     "text": [
      "[Parallel(n_jobs=-1)]: Using backend LokyBackend with 8 concurrent workers.\n"
     ]
    },
    {
     "name": "stdout",
     "output_type": "stream",
     "text": [
      "[done]\n",
      "    Using multitaper spectrum estimation with 7 DPSS windows\n",
      "Computing cross-spectral density from epochs...\n",
      "Got 8 parallel jobs after requesting -1\n",
      "Using ProgressBar with tqdm.auto\n"
     ]
    },
    {
     "data": {
      "application/vnd.jupyter.widget-view+json": {
       "model_id": "229a209713a444329486c18e9eaa109b",
       "version_major": 2,
       "version_minor": 0
      },
      "text/plain": [
       "  0%|          | CSD epoch blocks : 0/1 [00:00<?,       ?it/s]"
      ]
     },
     "metadata": {},
     "output_type": "display_data"
    },
    {
     "name": "stderr",
     "output_type": "stream",
     "text": [
      "[Parallel(n_jobs=-1)]: Using backend LokyBackend with 8 concurrent workers.\n",
      "/Users/savochkin/miniconda3/envs/myenv/lib/python3.9/site-packages/joblib/parallel.py:589: RuntimeWarning: Iterative multi-taper PSD computation did not converge.\n",
      "  return [func(*args, **kwargs)\n"
     ]
    },
    {
     "name": "stdout",
     "output_type": "stream",
     "text": [
      "[done]\n",
      "333\n",
      "    Using multitaper spectrum estimation with 7 DPSS windows\n",
      "Computing cross-spectral density from epochs...\n",
      "Got 8 parallel jobs after requesting -1\n",
      "Using ProgressBar with tqdm.auto\n"
     ]
    },
    {
     "data": {
      "application/vnd.jupyter.widget-view+json": {
       "model_id": "8f552b25156943aea3dc21c7f8bb9647",
       "version_major": 2,
       "version_minor": 0
      },
      "text/plain": [
       "  0%|          | CSD epoch blocks : 0/1 [00:00<?,       ?it/s]"
      ]
     },
     "metadata": {},
     "output_type": "display_data"
    },
    {
     "name": "stderr",
     "output_type": "stream",
     "text": [
      "[Parallel(n_jobs=-1)]: Using backend LokyBackend with 8 concurrent workers.\n"
     ]
    },
    {
     "name": "stdout",
     "output_type": "stream",
     "text": [
      "[done]\n",
      "    Using multitaper spectrum estimation with 7 DPSS windows\n",
      "Computing cross-spectral density from epochs...\n",
      "Got 8 parallel jobs after requesting -1\n",
      "Using ProgressBar with tqdm.auto\n"
     ]
    },
    {
     "data": {
      "application/vnd.jupyter.widget-view+json": {
       "model_id": "b60c1dd29a944e2ab95eeb6ae43ba586",
       "version_major": 2,
       "version_minor": 0
      },
      "text/plain": [
       "  0%|          | CSD epoch blocks : 0/1 [00:00<?,       ?it/s]"
      ]
     },
     "metadata": {},
     "output_type": "display_data"
    },
    {
     "name": "stdout",
     "output_type": "stream",
     "text": [
      "[done]\n"
     ]
    },
    {
     "name": "stderr",
     "output_type": "stream",
     "text": [
      "[Parallel(n_jobs=-1)]: Using backend LokyBackend with 8 concurrent workers.\n",
      "/Users/savochkin/miniconda3/envs/myenv/lib/python3.9/site-packages/joblib/parallel.py:589: RuntimeWarning: Iterative multi-taper PSD computation did not converge.\n",
      "  return [func(*args, **kwargs)\n"
     ]
    },
    {
     "name": "stdout",
     "output_type": "stream",
     "text": [
      "334\n",
      "    Using multitaper spectrum estimation with 7 DPSS windows\n",
      "Computing cross-spectral density from epochs...\n",
      "Got 8 parallel jobs after requesting -1\n",
      "Using ProgressBar with tqdm.auto\n"
     ]
    },
    {
     "data": {
      "application/vnd.jupyter.widget-view+json": {
       "model_id": "7e7009dea33c4a3ca74fe5470f939416",
       "version_major": 2,
       "version_minor": 0
      },
      "text/plain": [
       "  0%|          | CSD epoch blocks : 0/1 [00:00<?,       ?it/s]"
      ]
     },
     "metadata": {},
     "output_type": "display_data"
    },
    {
     "name": "stderr",
     "output_type": "stream",
     "text": [
      "[Parallel(n_jobs=-1)]: Using backend LokyBackend with 8 concurrent workers.\n"
     ]
    },
    {
     "name": "stdout",
     "output_type": "stream",
     "text": [
      "[done]\n",
      "    Using multitaper spectrum estimation with 7 DPSS windows\n",
      "Computing cross-spectral density from epochs...\n",
      "Got 8 parallel jobs after requesting -1\n",
      "Using ProgressBar with tqdm.auto\n"
     ]
    },
    {
     "data": {
      "application/vnd.jupyter.widget-view+json": {
       "model_id": "647e22cbbf33476e8bf887685fe27316",
       "version_major": 2,
       "version_minor": 0
      },
      "text/plain": [
       "  0%|          | CSD epoch blocks : 0/1 [00:00<?,       ?it/s]"
      ]
     },
     "metadata": {},
     "output_type": "display_data"
    },
    {
     "name": "stdout",
     "output_type": "stream",
     "text": [
      "[done]\n",
      "335\n",
      "    Using multitaper spectrum estimation with 7 DPSS windows\n",
      "Computing cross-spectral density from epochs...\n",
      "Got 8 parallel jobs after requesting -1\n",
      "Using ProgressBar with tqdm.auto\n"
     ]
    },
    {
     "name": "stderr",
     "output_type": "stream",
     "text": [
      "[Parallel(n_jobs=-1)]: Using backend LokyBackend with 8 concurrent workers.\n",
      "/Users/savochkin/miniconda3/envs/myenv/lib/python3.9/site-packages/joblib/parallel.py:589: RuntimeWarning: Iterative multi-taper PSD computation did not converge.\n",
      "  return [func(*args, **kwargs)\n"
     ]
    },
    {
     "data": {
      "application/vnd.jupyter.widget-view+json": {
       "model_id": "cefe255ea4814a009cfae6482a01f90d",
       "version_major": 2,
       "version_minor": 0
      },
      "text/plain": [
       "  0%|          | CSD epoch blocks : 0/1 [00:00<?,       ?it/s]"
      ]
     },
     "metadata": {},
     "output_type": "display_data"
    },
    {
     "name": "stderr",
     "output_type": "stream",
     "text": [
      "[Parallel(n_jobs=-1)]: Using backend LokyBackend with 8 concurrent workers.\n"
     ]
    },
    {
     "name": "stdout",
     "output_type": "stream",
     "text": [
      "[done]\n",
      "    Using multitaper spectrum estimation with 7 DPSS windows\n",
      "Computing cross-spectral density from epochs...\n",
      "Got 8 parallel jobs after requesting -1\n",
      "Using ProgressBar with tqdm.auto\n"
     ]
    },
    {
     "data": {
      "application/vnd.jupyter.widget-view+json": {
       "model_id": "d5b42a0accd6434c8e4a5f93451f8cd7",
       "version_major": 2,
       "version_minor": 0
      },
      "text/plain": [
       "  0%|          | CSD epoch blocks : 0/1 [00:00<?,       ?it/s]"
      ]
     },
     "metadata": {},
     "output_type": "display_data"
    },
    {
     "name": "stdout",
     "output_type": "stream",
     "text": [
      "[done]\n",
      "336\n",
      "    Using multitaper spectrum estimation with 7 DPSS windows\n",
      "Computing cross-spectral density from epochs...\n",
      "Got 8 parallel jobs after requesting -1\n",
      "Using ProgressBar with tqdm.auto\n"
     ]
    },
    {
     "name": "stderr",
     "output_type": "stream",
     "text": [
      "[Parallel(n_jobs=-1)]: Using backend LokyBackend with 8 concurrent workers.\n",
      "/Users/savochkin/miniconda3/envs/myenv/lib/python3.9/site-packages/joblib/parallel.py:589: RuntimeWarning: Iterative multi-taper PSD computation did not converge.\n",
      "  return [func(*args, **kwargs)\n"
     ]
    },
    {
     "data": {
      "application/vnd.jupyter.widget-view+json": {
       "model_id": "c2a6dd8b8c8540a3a0a5e12de3e90b82",
       "version_major": 2,
       "version_minor": 0
      },
      "text/plain": [
       "  0%|          | CSD epoch blocks : 0/1 [00:00<?,       ?it/s]"
      ]
     },
     "metadata": {},
     "output_type": "display_data"
    },
    {
     "name": "stderr",
     "output_type": "stream",
     "text": [
      "[Parallel(n_jobs=-1)]: Using backend LokyBackend with 8 concurrent workers.\n"
     ]
    },
    {
     "name": "stdout",
     "output_type": "stream",
     "text": [
      "[done]\n",
      "    Using multitaper spectrum estimation with 7 DPSS windows\n",
      "Computing cross-spectral density from epochs...\n",
      "Got 8 parallel jobs after requesting -1\n",
      "Using ProgressBar with tqdm.auto\n"
     ]
    },
    {
     "data": {
      "application/vnd.jupyter.widget-view+json": {
       "model_id": "537fc09a4f4a46849a5bcbc6ab4e8ef0",
       "version_major": 2,
       "version_minor": 0
      },
      "text/plain": [
       "  0%|          | CSD epoch blocks : 0/1 [00:00<?,       ?it/s]"
      ]
     },
     "metadata": {},
     "output_type": "display_data"
    },
    {
     "name": "stderr",
     "output_type": "stream",
     "text": [
      "[Parallel(n_jobs=-1)]: Using backend LokyBackend with 8 concurrent workers.\n",
      "/Users/savochkin/miniconda3/envs/myenv/lib/python3.9/site-packages/joblib/parallel.py:589: RuntimeWarning: Iterative multi-taper PSD computation did not converge.\n",
      "  return [func(*args, **kwargs)\n"
     ]
    },
    {
     "name": "stdout",
     "output_type": "stream",
     "text": [
      "[done]\n",
      "337\n",
      "    Using multitaper spectrum estimation with 7 DPSS windows\n",
      "Computing cross-spectral density from epochs...\n",
      "Got 8 parallel jobs after requesting -1\n",
      "Using ProgressBar with tqdm.auto\n"
     ]
    },
    {
     "data": {
      "application/vnd.jupyter.widget-view+json": {
       "model_id": "5f6e2047f3a2464eacbaa176d1709797",
       "version_major": 2,
       "version_minor": 0
      },
      "text/plain": [
       "  0%|          | CSD epoch blocks : 0/1 [00:00<?,       ?it/s]"
      ]
     },
     "metadata": {},
     "output_type": "display_data"
    },
    {
     "name": "stderr",
     "output_type": "stream",
     "text": [
      "[Parallel(n_jobs=-1)]: Using backend LokyBackend with 8 concurrent workers.\n"
     ]
    },
    {
     "name": "stdout",
     "output_type": "stream",
     "text": [
      "[done]\n",
      "    Using multitaper spectrum estimation with 7 DPSS windows\n",
      "Computing cross-spectral density from epochs...\n",
      "Got 8 parallel jobs after requesting -1\n",
      "Using ProgressBar with tqdm.auto\n"
     ]
    },
    {
     "data": {
      "application/vnd.jupyter.widget-view+json": {
       "model_id": "9c174edcfb8643d8a71c6737eaf5b72d",
       "version_major": 2,
       "version_minor": 0
      },
      "text/plain": [
       "  0%|          | CSD epoch blocks : 0/1 [00:00<?,       ?it/s]"
      ]
     },
     "metadata": {},
     "output_type": "display_data"
    },
    {
     "name": "stdout",
     "output_type": "stream",
     "text": [
      "[done]\n",
      "338\n",
      "    Using multitaper spectrum estimation with 7 DPSS windows\n",
      "Computing cross-spectral density from epochs...\n",
      "Got 8 parallel jobs after requesting -1\n",
      "Using ProgressBar with tqdm.auto\n"
     ]
    },
    {
     "name": "stderr",
     "output_type": "stream",
     "text": [
      "[Parallel(n_jobs=-1)]: Using backend LokyBackend with 8 concurrent workers.\n",
      "/Users/savochkin/miniconda3/envs/myenv/lib/python3.9/site-packages/joblib/parallel.py:589: RuntimeWarning: Iterative multi-taper PSD computation did not converge.\n",
      "  return [func(*args, **kwargs)\n"
     ]
    },
    {
     "data": {
      "application/vnd.jupyter.widget-view+json": {
       "model_id": "b69d99c3e11c474f962e6ee678305167",
       "version_major": 2,
       "version_minor": 0
      },
      "text/plain": [
       "  0%|          | CSD epoch blocks : 0/1 [00:00<?,       ?it/s]"
      ]
     },
     "metadata": {},
     "output_type": "display_data"
    },
    {
     "name": "stderr",
     "output_type": "stream",
     "text": [
      "[Parallel(n_jobs=-1)]: Using backend LokyBackend with 8 concurrent workers.\n"
     ]
    },
    {
     "name": "stdout",
     "output_type": "stream",
     "text": [
      "[done]\n",
      "    Using multitaper spectrum estimation with 7 DPSS windows\n",
      "Computing cross-spectral density from epochs...\n",
      "Got 8 parallel jobs after requesting -1\n",
      "Using ProgressBar with tqdm.auto\n"
     ]
    },
    {
     "data": {
      "application/vnd.jupyter.widget-view+json": {
       "model_id": "84686e96fc794bf0aec5a152c6c0083e",
       "version_major": 2,
       "version_minor": 0
      },
      "text/plain": [
       "  0%|          | CSD epoch blocks : 0/1 [00:00<?,       ?it/s]"
      ]
     },
     "metadata": {},
     "output_type": "display_data"
    },
    {
     "name": "stdout",
     "output_type": "stream",
     "text": [
      "[done]\n",
      "339\n",
      "    Using multitaper spectrum estimation with 7 DPSS windows\n",
      "Computing cross-spectral density from epochs...\n",
      "Got 8 parallel jobs after requesting -1\n",
      "Using ProgressBar with tqdm.auto\n"
     ]
    },
    {
     "name": "stderr",
     "output_type": "stream",
     "text": [
      "[Parallel(n_jobs=-1)]: Using backend LokyBackend with 8 concurrent workers.\n",
      "/Users/savochkin/miniconda3/envs/myenv/lib/python3.9/site-packages/joblib/parallel.py:589: RuntimeWarning: Iterative multi-taper PSD computation did not converge.\n",
      "  return [func(*args, **kwargs)\n"
     ]
    },
    {
     "data": {
      "application/vnd.jupyter.widget-view+json": {
       "model_id": "dc4d6654d9bd4b74a138e1d15c750930",
       "version_major": 2,
       "version_minor": 0
      },
      "text/plain": [
       "  0%|          | CSD epoch blocks : 0/1 [00:00<?,       ?it/s]"
      ]
     },
     "metadata": {},
     "output_type": "display_data"
    },
    {
     "name": "stderr",
     "output_type": "stream",
     "text": [
      "[Parallel(n_jobs=-1)]: Using backend LokyBackend with 8 concurrent workers.\n"
     ]
    },
    {
     "name": "stdout",
     "output_type": "stream",
     "text": [
      "[done]\n",
      "    Using multitaper spectrum estimation with 7 DPSS windows\n",
      "Computing cross-spectral density from epochs...\n",
      "Got 8 parallel jobs after requesting -1\n",
      "Using ProgressBar with tqdm.auto\n"
     ]
    },
    {
     "data": {
      "application/vnd.jupyter.widget-view+json": {
       "model_id": "3f4fd074e7e5472aa95b26e4e1bf0ba1",
       "version_major": 2,
       "version_minor": 0
      },
      "text/plain": [
       "  0%|          | CSD epoch blocks : 0/1 [00:00<?,       ?it/s]"
      ]
     },
     "metadata": {},
     "output_type": "display_data"
    },
    {
     "name": "stdout",
     "output_type": "stream",
     "text": [
      "[done]\n",
      "340\n",
      "    Using multitaper spectrum estimation with 7 DPSS windows\n",
      "Computing cross-spectral density from epochs...\n",
      "Got 8 parallel jobs after requesting -1\n",
      "Using ProgressBar with tqdm.auto\n"
     ]
    },
    {
     "name": "stderr",
     "output_type": "stream",
     "text": [
      "[Parallel(n_jobs=-1)]: Using backend LokyBackend with 8 concurrent workers.\n",
      "/Users/savochkin/miniconda3/envs/myenv/lib/python3.9/site-packages/joblib/parallel.py:589: RuntimeWarning: Iterative multi-taper PSD computation did not converge.\n",
      "  return [func(*args, **kwargs)\n"
     ]
    },
    {
     "data": {
      "application/vnd.jupyter.widget-view+json": {
       "model_id": "4355774df321417dac8a5f9d81f84503",
       "version_major": 2,
       "version_minor": 0
      },
      "text/plain": [
       "  0%|          | CSD epoch blocks : 0/1 [00:00<?,       ?it/s]"
      ]
     },
     "metadata": {},
     "output_type": "display_data"
    },
    {
     "name": "stderr",
     "output_type": "stream",
     "text": [
      "[Parallel(n_jobs=-1)]: Using backend LokyBackend with 8 concurrent workers.\n"
     ]
    },
    {
     "name": "stdout",
     "output_type": "stream",
     "text": [
      "[done]\n",
      "    Using multitaper spectrum estimation with 7 DPSS windows\n",
      "Computing cross-spectral density from epochs...\n",
      "Got 8 parallel jobs after requesting -1\n",
      "Using ProgressBar with tqdm.auto\n"
     ]
    },
    {
     "data": {
      "application/vnd.jupyter.widget-view+json": {
       "model_id": "87268271c640477bae2cd17e5c3f3eb2",
       "version_major": 2,
       "version_minor": 0
      },
      "text/plain": [
       "  0%|          | CSD epoch blocks : 0/1 [00:00<?,       ?it/s]"
      ]
     },
     "metadata": {},
     "output_type": "display_data"
    },
    {
     "name": "stdout",
     "output_type": "stream",
     "text": [
      "[done]\n",
      "341\n",
      "    Using multitaper spectrum estimation with 7 DPSS windows\n",
      "Computing cross-spectral density from epochs...\n",
      "Got 8 parallel jobs after requesting -1\n",
      "Using ProgressBar with tqdm.auto\n"
     ]
    },
    {
     "name": "stderr",
     "output_type": "stream",
     "text": [
      "[Parallel(n_jobs=-1)]: Using backend LokyBackend with 8 concurrent workers.\n",
      "/Users/savochkin/miniconda3/envs/myenv/lib/python3.9/site-packages/joblib/parallel.py:589: RuntimeWarning: Iterative multi-taper PSD computation did not converge.\n",
      "  return [func(*args, **kwargs)\n"
     ]
    },
    {
     "data": {
      "application/vnd.jupyter.widget-view+json": {
       "model_id": "aca854f0c287402bb9ae81970a3a2202",
       "version_major": 2,
       "version_minor": 0
      },
      "text/plain": [
       "  0%|          | CSD epoch blocks : 0/1 [00:00<?,       ?it/s]"
      ]
     },
     "metadata": {},
     "output_type": "display_data"
    },
    {
     "name": "stderr",
     "output_type": "stream",
     "text": [
      "[Parallel(n_jobs=-1)]: Using backend LokyBackend with 8 concurrent workers.\n"
     ]
    },
    {
     "name": "stdout",
     "output_type": "stream",
     "text": [
      "[done]\n",
      "    Using multitaper spectrum estimation with 7 DPSS windows\n",
      "Computing cross-spectral density from epochs...\n",
      "Got 8 parallel jobs after requesting -1\n",
      "Using ProgressBar with tqdm.auto\n"
     ]
    },
    {
     "data": {
      "application/vnd.jupyter.widget-view+json": {
       "model_id": "1b2f1f329a2d4e34a68065b447df1bff",
       "version_major": 2,
       "version_minor": 0
      },
      "text/plain": [
       "  0%|          | CSD epoch blocks : 0/1 [00:00<?,       ?it/s]"
      ]
     },
     "metadata": {},
     "output_type": "display_data"
    },
    {
     "name": "stdout",
     "output_type": "stream",
     "text": [
      "[done]\n",
      "342\n",
      "    Using multitaper spectrum estimation with 7 DPSS windows\n",
      "Computing cross-spectral density from epochs...\n",
      "Got 8 parallel jobs after requesting -1\n",
      "Using ProgressBar with tqdm.auto\n"
     ]
    },
    {
     "name": "stderr",
     "output_type": "stream",
     "text": [
      "[Parallel(n_jobs=-1)]: Using backend LokyBackend with 8 concurrent workers.\n",
      "/Users/savochkin/miniconda3/envs/myenv/lib/python3.9/site-packages/joblib/parallel.py:589: RuntimeWarning: Iterative multi-taper PSD computation did not converge.\n",
      "  return [func(*args, **kwargs)\n"
     ]
    },
    {
     "data": {
      "application/vnd.jupyter.widget-view+json": {
       "model_id": "f1c6a967f1fa43698ad6d484cb6fc5a8",
       "version_major": 2,
       "version_minor": 0
      },
      "text/plain": [
       "  0%|          | CSD epoch blocks : 0/1 [00:00<?,       ?it/s]"
      ]
     },
     "metadata": {},
     "output_type": "display_data"
    },
    {
     "name": "stderr",
     "output_type": "stream",
     "text": [
      "[Parallel(n_jobs=-1)]: Using backend LokyBackend with 8 concurrent workers.\n"
     ]
    },
    {
     "name": "stdout",
     "output_type": "stream",
     "text": [
      "[done]\n",
      "    Using multitaper spectrum estimation with 7 DPSS windows\n",
      "Computing cross-spectral density from epochs...\n",
      "Got 8 parallel jobs after requesting -1\n",
      "Using ProgressBar with tqdm.auto\n"
     ]
    },
    {
     "data": {
      "application/vnd.jupyter.widget-view+json": {
       "model_id": "1f51de219c8340cc8e15c5f832f8b09a",
       "version_major": 2,
       "version_minor": 0
      },
      "text/plain": [
       "  0%|          | CSD epoch blocks : 0/1 [00:00<?,       ?it/s]"
      ]
     },
     "metadata": {},
     "output_type": "display_data"
    },
    {
     "name": "stdout",
     "output_type": "stream",
     "text": [
      "[done]\n",
      "343\n",
      "    Using multitaper spectrum estimation with 7 DPSS windows\n",
      "Computing cross-spectral density from epochs...\n",
      "Got 8 parallel jobs after requesting -1\n",
      "Using ProgressBar with tqdm.auto\n"
     ]
    },
    {
     "name": "stderr",
     "output_type": "stream",
     "text": [
      "[Parallel(n_jobs=-1)]: Using backend LokyBackend with 8 concurrent workers.\n",
      "/Users/savochkin/miniconda3/envs/myenv/lib/python3.9/site-packages/joblib/parallel.py:589: RuntimeWarning: Iterative multi-taper PSD computation did not converge.\n",
      "  return [func(*args, **kwargs)\n"
     ]
    },
    {
     "data": {
      "application/vnd.jupyter.widget-view+json": {
       "model_id": "9b5ad9f756444d57ae62038dacb436c0",
       "version_major": 2,
       "version_minor": 0
      },
      "text/plain": [
       "  0%|          | CSD epoch blocks : 0/1 [00:00<?,       ?it/s]"
      ]
     },
     "metadata": {},
     "output_type": "display_data"
    },
    {
     "name": "stderr",
     "output_type": "stream",
     "text": [
      "[Parallel(n_jobs=-1)]: Using backend LokyBackend with 8 concurrent workers.\n"
     ]
    },
    {
     "name": "stdout",
     "output_type": "stream",
     "text": [
      "[done]\n",
      "    Using multitaper spectrum estimation with 7 DPSS windows\n",
      "Computing cross-spectral density from epochs...\n",
      "Got 8 parallel jobs after requesting -1\n",
      "Using ProgressBar with tqdm.auto\n"
     ]
    },
    {
     "data": {
      "application/vnd.jupyter.widget-view+json": {
       "model_id": "42f7a28194124d31887fd3994cc2ac4c",
       "version_major": 2,
       "version_minor": 0
      },
      "text/plain": [
       "  0%|          | CSD epoch blocks : 0/1 [00:00<?,       ?it/s]"
      ]
     },
     "metadata": {},
     "output_type": "display_data"
    },
    {
     "name": "stderr",
     "output_type": "stream",
     "text": [
      "[Parallel(n_jobs=-1)]: Using backend LokyBackend with 8 concurrent workers.\n"
     ]
    },
    {
     "name": "stdout",
     "output_type": "stream",
     "text": [
      "[done]\n",
      "344\n",
      "    Using multitaper spectrum estimation with 7 DPSS windows\n",
      "Computing cross-spectral density from epochs...\n",
      "Got 8 parallel jobs after requesting -1\n",
      "Using ProgressBar with tqdm.auto\n"
     ]
    },
    {
     "name": "stderr",
     "output_type": "stream",
     "text": [
      "/Users/savochkin/miniconda3/envs/myenv/lib/python3.9/site-packages/joblib/parallel.py:589: RuntimeWarning: Iterative multi-taper PSD computation did not converge.\n",
      "  return [func(*args, **kwargs)\n"
     ]
    },
    {
     "data": {
      "application/vnd.jupyter.widget-view+json": {
       "model_id": "5d0393071fa5475b999b89dc60d450fb",
       "version_major": 2,
       "version_minor": 0
      },
      "text/plain": [
       "  0%|          | CSD epoch blocks : 0/1 [00:00<?,       ?it/s]"
      ]
     },
     "metadata": {},
     "output_type": "display_data"
    },
    {
     "name": "stderr",
     "output_type": "stream",
     "text": [
      "[Parallel(n_jobs=-1)]: Using backend LokyBackend with 8 concurrent workers.\n"
     ]
    },
    {
     "name": "stdout",
     "output_type": "stream",
     "text": [
      "[done]\n",
      "    Using multitaper spectrum estimation with 7 DPSS windows\n",
      "Computing cross-spectral density from epochs...\n",
      "Got 8 parallel jobs after requesting -1\n",
      "Using ProgressBar with tqdm.auto\n"
     ]
    },
    {
     "data": {
      "application/vnd.jupyter.widget-view+json": {
       "model_id": "ad25dea133e348568e00e001ab12dd3d",
       "version_major": 2,
       "version_minor": 0
      },
      "text/plain": [
       "  0%|          | CSD epoch blocks : 0/1 [00:00<?,       ?it/s]"
      ]
     },
     "metadata": {},
     "output_type": "display_data"
    },
    {
     "name": "stdout",
     "output_type": "stream",
     "text": [
      "[done]\n",
      "345\n",
      "    Using multitaper spectrum estimation with 7 DPSS windows\n",
      "Computing cross-spectral density from epochs...\n",
      "Got 8 parallel jobs after requesting -1\n",
      "Using ProgressBar with tqdm.auto\n"
     ]
    },
    {
     "name": "stderr",
     "output_type": "stream",
     "text": [
      "[Parallel(n_jobs=-1)]: Using backend LokyBackend with 8 concurrent workers.\n",
      "/Users/savochkin/miniconda3/envs/myenv/lib/python3.9/site-packages/joblib/parallel.py:589: RuntimeWarning: Iterative multi-taper PSD computation did not converge.\n",
      "  return [func(*args, **kwargs)\n"
     ]
    },
    {
     "data": {
      "application/vnd.jupyter.widget-view+json": {
       "model_id": "14f51611d09c46d39aa306b19eef4dcf",
       "version_major": 2,
       "version_minor": 0
      },
      "text/plain": [
       "  0%|          | CSD epoch blocks : 0/1 [00:00<?,       ?it/s]"
      ]
     },
     "metadata": {},
     "output_type": "display_data"
    },
    {
     "name": "stderr",
     "output_type": "stream",
     "text": [
      "[Parallel(n_jobs=-1)]: Using backend LokyBackend with 8 concurrent workers.\n"
     ]
    },
    {
     "name": "stdout",
     "output_type": "stream",
     "text": [
      "[done]\n",
      "    Using multitaper spectrum estimation with 7 DPSS windows\n",
      "Computing cross-spectral density from epochs...\n",
      "Got 8 parallel jobs after requesting -1\n",
      "Using ProgressBar with tqdm.auto\n"
     ]
    },
    {
     "data": {
      "application/vnd.jupyter.widget-view+json": {
       "model_id": "c0d1760b36854b0998537365b1491012",
       "version_major": 2,
       "version_minor": 0
      },
      "text/plain": [
       "  0%|          | CSD epoch blocks : 0/1 [00:00<?,       ?it/s]"
      ]
     },
     "metadata": {},
     "output_type": "display_data"
    },
    {
     "name": "stdout",
     "output_type": "stream",
     "text": [
      "[done]\n",
      "346\n",
      "    Using multitaper spectrum estimation with 7 DPSS windows\n",
      "Computing cross-spectral density from epochs...\n",
      "Got 8 parallel jobs after requesting -1\n",
      "Using ProgressBar with tqdm.auto\n"
     ]
    },
    {
     "name": "stderr",
     "output_type": "stream",
     "text": [
      "[Parallel(n_jobs=-1)]: Using backend LokyBackend with 8 concurrent workers.\n",
      "/Users/savochkin/miniconda3/envs/myenv/lib/python3.9/site-packages/joblib/parallel.py:589: RuntimeWarning: Iterative multi-taper PSD computation did not converge.\n",
      "  return [func(*args, **kwargs)\n"
     ]
    },
    {
     "data": {
      "application/vnd.jupyter.widget-view+json": {
       "model_id": "88f2a4d0b7414a74a0d9e7d2f9e3ed75",
       "version_major": 2,
       "version_minor": 0
      },
      "text/plain": [
       "  0%|          | CSD epoch blocks : 0/1 [00:00<?,       ?it/s]"
      ]
     },
     "metadata": {},
     "output_type": "display_data"
    },
    {
     "name": "stderr",
     "output_type": "stream",
     "text": [
      "[Parallel(n_jobs=-1)]: Using backend LokyBackend with 8 concurrent workers.\n"
     ]
    },
    {
     "name": "stdout",
     "output_type": "stream",
     "text": [
      "[done]\n",
      "    Using multitaper spectrum estimation with 7 DPSS windows\n",
      "Computing cross-spectral density from epochs...\n",
      "Got 8 parallel jobs after requesting -1\n",
      "Using ProgressBar with tqdm.auto\n"
     ]
    },
    {
     "data": {
      "application/vnd.jupyter.widget-view+json": {
       "model_id": "72a210e7b4ad49c88f120af4efa363cc",
       "version_major": 2,
       "version_minor": 0
      },
      "text/plain": [
       "  0%|          | CSD epoch blocks : 0/1 [00:00<?,       ?it/s]"
      ]
     },
     "metadata": {},
     "output_type": "display_data"
    },
    {
     "name": "stdout",
     "output_type": "stream",
     "text": [
      "[done]\n",
      "347\n",
      "    Using multitaper spectrum estimation with 7 DPSS windows\n",
      "Computing cross-spectral density from epochs...\n",
      "Got 8 parallel jobs after requesting -1\n",
      "Using ProgressBar with tqdm.auto\n"
     ]
    },
    {
     "name": "stderr",
     "output_type": "stream",
     "text": [
      "[Parallel(n_jobs=-1)]: Using backend LokyBackend with 8 concurrent workers.\n",
      "/Users/savochkin/miniconda3/envs/myenv/lib/python3.9/site-packages/joblib/parallel.py:589: RuntimeWarning: Iterative multi-taper PSD computation did not converge.\n",
      "  return [func(*args, **kwargs)\n"
     ]
    },
    {
     "data": {
      "application/vnd.jupyter.widget-view+json": {
       "model_id": "f7c6f4b534ee4b4bbe0d4360d91fc691",
       "version_major": 2,
       "version_minor": 0
      },
      "text/plain": [
       "  0%|          | CSD epoch blocks : 0/1 [00:00<?,       ?it/s]"
      ]
     },
     "metadata": {},
     "output_type": "display_data"
    },
    {
     "name": "stderr",
     "output_type": "stream",
     "text": [
      "[Parallel(n_jobs=-1)]: Using backend LokyBackend with 8 concurrent workers.\n"
     ]
    },
    {
     "name": "stdout",
     "output_type": "stream",
     "text": [
      "[done]\n",
      "    Using multitaper spectrum estimation with 7 DPSS windows\n",
      "Computing cross-spectral density from epochs...\n",
      "Got 8 parallel jobs after requesting -1\n",
      "Using ProgressBar with tqdm.auto\n"
     ]
    },
    {
     "data": {
      "application/vnd.jupyter.widget-view+json": {
       "model_id": "ab6fc237abd245788f16517a1e17a038",
       "version_major": 2,
       "version_minor": 0
      },
      "text/plain": [
       "  0%|          | CSD epoch blocks : 0/1 [00:00<?,       ?it/s]"
      ]
     },
     "metadata": {},
     "output_type": "display_data"
    },
    {
     "name": "stderr",
     "output_type": "stream",
     "text": [
      "[Parallel(n_jobs=-1)]: Using backend LokyBackend with 8 concurrent workers.\n"
     ]
    },
    {
     "name": "stdout",
     "output_type": "stream",
     "text": [
      "[done]\n",
      "348\n",
      "    Using multitaper spectrum estimation with 7 DPSS windows\n",
      "Computing cross-spectral density from epochs...\n",
      "Got 8 parallel jobs after requesting -1\n",
      "Using ProgressBar with tqdm.auto\n"
     ]
    },
    {
     "name": "stderr",
     "output_type": "stream",
     "text": [
      "/Users/savochkin/miniconda3/envs/myenv/lib/python3.9/site-packages/joblib/parallel.py:589: RuntimeWarning: Iterative multi-taper PSD computation did not converge.\n",
      "  return [func(*args, **kwargs)\n"
     ]
    },
    {
     "data": {
      "application/vnd.jupyter.widget-view+json": {
       "model_id": "91e8f1b06f644e08b95f72faa25ea07d",
       "version_major": 2,
       "version_minor": 0
      },
      "text/plain": [
       "  0%|          | CSD epoch blocks : 0/1 [00:00<?,       ?it/s]"
      ]
     },
     "metadata": {},
     "output_type": "display_data"
    },
    {
     "name": "stderr",
     "output_type": "stream",
     "text": [
      "[Parallel(n_jobs=-1)]: Using backend LokyBackend with 8 concurrent workers.\n"
     ]
    },
    {
     "name": "stdout",
     "output_type": "stream",
     "text": [
      "[done]\n",
      "    Using multitaper spectrum estimation with 7 DPSS windows\n",
      "Computing cross-spectral density from epochs...\n",
      "Got 8 parallel jobs after requesting -1\n",
      "Using ProgressBar with tqdm.auto\n"
     ]
    },
    {
     "data": {
      "application/vnd.jupyter.widget-view+json": {
       "model_id": "a7bdf6a369b447f8a02bf6e89ca146d9",
       "version_major": 2,
       "version_minor": 0
      },
      "text/plain": [
       "  0%|          | CSD epoch blocks : 0/1 [00:00<?,       ?it/s]"
      ]
     },
     "metadata": {},
     "output_type": "display_data"
    },
    {
     "name": "stderr",
     "output_type": "stream",
     "text": [
      "[Parallel(n_jobs=-1)]: Using backend LokyBackend with 8 concurrent workers.\n"
     ]
    },
    {
     "name": "stdout",
     "output_type": "stream",
     "text": [
      "[done]\n",
      "349\n",
      "    Using multitaper spectrum estimation with 7 DPSS windows\n",
      "Computing cross-spectral density from epochs...\n",
      "Got 8 parallel jobs after requesting -1\n",
      "Using ProgressBar with tqdm.auto\n"
     ]
    },
    {
     "name": "stderr",
     "output_type": "stream",
     "text": [
      "/Users/savochkin/miniconda3/envs/myenv/lib/python3.9/site-packages/joblib/parallel.py:589: RuntimeWarning: Iterative multi-taper PSD computation did not converge.\n",
      "  return [func(*args, **kwargs)\n"
     ]
    },
    {
     "data": {
      "application/vnd.jupyter.widget-view+json": {
       "model_id": "c7cf5a0893774f7e9ce187d8e7862561",
       "version_major": 2,
       "version_minor": 0
      },
      "text/plain": [
       "  0%|          | CSD epoch blocks : 0/1 [00:00<?,       ?it/s]"
      ]
     },
     "metadata": {},
     "output_type": "display_data"
    },
    {
     "name": "stderr",
     "output_type": "stream",
     "text": [
      "[Parallel(n_jobs=-1)]: Using backend LokyBackend with 8 concurrent workers.\n"
     ]
    },
    {
     "name": "stdout",
     "output_type": "stream",
     "text": [
      "[done]\n",
      "    Using multitaper spectrum estimation with 7 DPSS windows\n",
      "Computing cross-spectral density from epochs...\n",
      "Got 8 parallel jobs after requesting -1\n",
      "Using ProgressBar with tqdm.auto\n"
     ]
    },
    {
     "data": {
      "application/vnd.jupyter.widget-view+json": {
       "model_id": "9ff5097d96504102a6bf3910486a4c63",
       "version_major": 2,
       "version_minor": 0
      },
      "text/plain": [
       "  0%|          | CSD epoch blocks : 0/1 [00:00<?,       ?it/s]"
      ]
     },
     "metadata": {},
     "output_type": "display_data"
    },
    {
     "name": "stdout",
     "output_type": "stream",
     "text": [
      "[done]\n",
      "350\n",
      "    Using multitaper spectrum estimation with 7 DPSS windows\n",
      "Computing cross-spectral density from epochs...\n",
      "Got 8 parallel jobs after requesting -1\n",
      "Using ProgressBar with tqdm.auto\n"
     ]
    },
    {
     "name": "stderr",
     "output_type": "stream",
     "text": [
      "[Parallel(n_jobs=-1)]: Using backend LokyBackend with 8 concurrent workers.\n",
      "/Users/savochkin/miniconda3/envs/myenv/lib/python3.9/site-packages/joblib/parallel.py:589: RuntimeWarning: Iterative multi-taper PSD computation did not converge.\n",
      "  return [func(*args, **kwargs)\n"
     ]
    },
    {
     "data": {
      "application/vnd.jupyter.widget-view+json": {
       "model_id": "912f68df0f114b8aa00e8ce2757bfe57",
       "version_major": 2,
       "version_minor": 0
      },
      "text/plain": [
       "  0%|          | CSD epoch blocks : 0/1 [00:00<?,       ?it/s]"
      ]
     },
     "metadata": {},
     "output_type": "display_data"
    },
    {
     "name": "stderr",
     "output_type": "stream",
     "text": [
      "[Parallel(n_jobs=-1)]: Using backend LokyBackend with 8 concurrent workers.\n"
     ]
    },
    {
     "name": "stdout",
     "output_type": "stream",
     "text": [
      "[done]\n",
      "    Using multitaper spectrum estimation with 7 DPSS windows\n",
      "Computing cross-spectral density from epochs...\n",
      "Got 8 parallel jobs after requesting -1\n",
      "Using ProgressBar with tqdm.auto\n"
     ]
    },
    {
     "data": {
      "application/vnd.jupyter.widget-view+json": {
       "model_id": "f6f7d54aca0f4618be26b79c2bbe05df",
       "version_major": 2,
       "version_minor": 0
      },
      "text/plain": [
       "  0%|          | CSD epoch blocks : 0/1 [00:00<?,       ?it/s]"
      ]
     },
     "metadata": {},
     "output_type": "display_data"
    },
    {
     "name": "stdout",
     "output_type": "stream",
     "text": [
      "[done]\n",
      "351\n",
      "    Using multitaper spectrum estimation with 7 DPSS windows\n",
      "Computing cross-spectral density from epochs...\n",
      "Got 8 parallel jobs after requesting -1\n",
      "Using ProgressBar with tqdm.auto\n"
     ]
    },
    {
     "name": "stderr",
     "output_type": "stream",
     "text": [
      "[Parallel(n_jobs=-1)]: Using backend LokyBackend with 8 concurrent workers.\n",
      "/Users/savochkin/miniconda3/envs/myenv/lib/python3.9/site-packages/joblib/parallel.py:589: RuntimeWarning: Iterative multi-taper PSD computation did not converge.\n",
      "  return [func(*args, **kwargs)\n"
     ]
    },
    {
     "data": {
      "application/vnd.jupyter.widget-view+json": {
       "model_id": "3835d1391ccf41d7bbf0fec80b5493d2",
       "version_major": 2,
       "version_minor": 0
      },
      "text/plain": [
       "  0%|          | CSD epoch blocks : 0/1 [00:00<?,       ?it/s]"
      ]
     },
     "metadata": {},
     "output_type": "display_data"
    },
    {
     "name": "stderr",
     "output_type": "stream",
     "text": [
      "[Parallel(n_jobs=-1)]: Using backend LokyBackend with 8 concurrent workers.\n"
     ]
    },
    {
     "name": "stdout",
     "output_type": "stream",
     "text": [
      "[done]\n",
      "    Using multitaper spectrum estimation with 7 DPSS windows\n",
      "Computing cross-spectral density from epochs...\n",
      "Got 8 parallel jobs after requesting -1\n",
      "Using ProgressBar with tqdm.auto\n"
     ]
    },
    {
     "data": {
      "application/vnd.jupyter.widget-view+json": {
       "model_id": "0d49780e221043d4b0da1a2f5fc0d150",
       "version_major": 2,
       "version_minor": 0
      },
      "text/plain": [
       "  0%|          | CSD epoch blocks : 0/1 [00:00<?,       ?it/s]"
      ]
     },
     "metadata": {},
     "output_type": "display_data"
    },
    {
     "name": "stdout",
     "output_type": "stream",
     "text": [
      "[done]\n"
     ]
    },
    {
     "name": "stderr",
     "output_type": "stream",
     "text": [
      "[Parallel(n_jobs=-1)]: Using backend LokyBackend with 8 concurrent workers.\n",
      "/Users/savochkin/miniconda3/envs/myenv/lib/python3.9/site-packages/joblib/parallel.py:589: RuntimeWarning: Iterative multi-taper PSD computation did not converge.\n",
      "  return [func(*args, **kwargs)\n"
     ]
    },
    {
     "name": "stdout",
     "output_type": "stream",
     "text": [
      "352\n",
      "    Using multitaper spectrum estimation with 7 DPSS windows\n",
      "Computing cross-spectral density from epochs...\n",
      "Got 8 parallel jobs after requesting -1\n",
      "Using ProgressBar with tqdm.auto\n"
     ]
    },
    {
     "data": {
      "application/vnd.jupyter.widget-view+json": {
       "model_id": "fa7f4b303c424fffb773e0aaecfacab1",
       "version_major": 2,
       "version_minor": 0
      },
      "text/plain": [
       "  0%|          | CSD epoch blocks : 0/1 [00:00<?,       ?it/s]"
      ]
     },
     "metadata": {},
     "output_type": "display_data"
    },
    {
     "name": "stderr",
     "output_type": "stream",
     "text": [
      "[Parallel(n_jobs=-1)]: Using backend LokyBackend with 8 concurrent workers.\n"
     ]
    },
    {
     "name": "stdout",
     "output_type": "stream",
     "text": [
      "[done]\n",
      "    Using multitaper spectrum estimation with 7 DPSS windows\n",
      "Computing cross-spectral density from epochs...\n",
      "Got 8 parallel jobs after requesting -1\n",
      "Using ProgressBar with tqdm.auto\n"
     ]
    },
    {
     "data": {
      "application/vnd.jupyter.widget-view+json": {
       "model_id": "8fc2cce845634aebbb39cf3286136c0d",
       "version_major": 2,
       "version_minor": 0
      },
      "text/plain": [
       "  0%|          | CSD epoch blocks : 0/1 [00:00<?,       ?it/s]"
      ]
     },
     "metadata": {},
     "output_type": "display_data"
    },
    {
     "name": "stderr",
     "output_type": "stream",
     "text": [
      "[Parallel(n_jobs=-1)]: Using backend LokyBackend with 8 concurrent workers.\n",
      "/Users/savochkin/miniconda3/envs/myenv/lib/python3.9/site-packages/joblib/parallel.py:589: RuntimeWarning: Iterative multi-taper PSD computation did not converge.\n",
      "  return [func(*args, **kwargs)\n"
     ]
    },
    {
     "name": "stdout",
     "output_type": "stream",
     "text": [
      "[done]\n",
      "353\n",
      "    Using multitaper spectrum estimation with 7 DPSS windows\n",
      "Computing cross-spectral density from epochs...\n",
      "Got 8 parallel jobs after requesting -1\n",
      "Using ProgressBar with tqdm.auto\n"
     ]
    },
    {
     "data": {
      "application/vnd.jupyter.widget-view+json": {
       "model_id": "024a64abe20d481ea59b73658efa9de7",
       "version_major": 2,
       "version_minor": 0
      },
      "text/plain": [
       "  0%|          | CSD epoch blocks : 0/1 [00:00<?,       ?it/s]"
      ]
     },
     "metadata": {},
     "output_type": "display_data"
    },
    {
     "name": "stderr",
     "output_type": "stream",
     "text": [
      "[Parallel(n_jobs=-1)]: Using backend LokyBackend with 8 concurrent workers.\n"
     ]
    },
    {
     "name": "stdout",
     "output_type": "stream",
     "text": [
      "[done]\n",
      "    Using multitaper spectrum estimation with 7 DPSS windows\n",
      "Computing cross-spectral density from epochs...\n",
      "Got 8 parallel jobs after requesting -1\n",
      "Using ProgressBar with tqdm.auto\n"
     ]
    },
    {
     "data": {
      "application/vnd.jupyter.widget-view+json": {
       "model_id": "21fd0d0e93de49eda95146e8d1f5cace",
       "version_major": 2,
       "version_minor": 0
      },
      "text/plain": [
       "  0%|          | CSD epoch blocks : 0/1 [00:00<?,       ?it/s]"
      ]
     },
     "metadata": {},
     "output_type": "display_data"
    },
    {
     "name": "stdout",
     "output_type": "stream",
     "text": [
      "[done]\n",
      "354\n",
      "    Using multitaper spectrum estimation with 7 DPSS windows\n",
      "Computing cross-spectral density from epochs...\n",
      "Got 8 parallel jobs after requesting -1\n",
      "Using ProgressBar with tqdm.auto\n"
     ]
    },
    {
     "name": "stderr",
     "output_type": "stream",
     "text": [
      "[Parallel(n_jobs=-1)]: Using backend LokyBackend with 8 concurrent workers.\n",
      "/Users/savochkin/miniconda3/envs/myenv/lib/python3.9/site-packages/joblib/parallel.py:589: RuntimeWarning: Iterative multi-taper PSD computation did not converge.\n",
      "  return [func(*args, **kwargs)\n"
     ]
    },
    {
     "data": {
      "application/vnd.jupyter.widget-view+json": {
       "model_id": "bb60c9e50c564cf9b3453285a30b7575",
       "version_major": 2,
       "version_minor": 0
      },
      "text/plain": [
       "  0%|          | CSD epoch blocks : 0/1 [00:00<?,       ?it/s]"
      ]
     },
     "metadata": {},
     "output_type": "display_data"
    },
    {
     "name": "stderr",
     "output_type": "stream",
     "text": [
      "[Parallel(n_jobs=-1)]: Using backend LokyBackend with 8 concurrent workers.\n"
     ]
    },
    {
     "name": "stdout",
     "output_type": "stream",
     "text": [
      "[done]\n",
      "    Using multitaper spectrum estimation with 7 DPSS windows\n",
      "Computing cross-spectral density from epochs...\n",
      "Got 8 parallel jobs after requesting -1\n",
      "Using ProgressBar with tqdm.auto\n"
     ]
    },
    {
     "data": {
      "application/vnd.jupyter.widget-view+json": {
       "model_id": "6e12c18293564c1f9a1fe77b8917236c",
       "version_major": 2,
       "version_minor": 0
      },
      "text/plain": [
       "  0%|          | CSD epoch blocks : 0/1 [00:00<?,       ?it/s]"
      ]
     },
     "metadata": {},
     "output_type": "display_data"
    },
    {
     "name": "stdout",
     "output_type": "stream",
     "text": [
      "[done]\n",
      "355\n",
      "    Using multitaper spectrum estimation with 7 DPSS windows\n",
      "Computing cross-spectral density from epochs...\n",
      "Got 8 parallel jobs after requesting -1\n",
      "Using ProgressBar with tqdm.auto\n"
     ]
    },
    {
     "name": "stderr",
     "output_type": "stream",
     "text": [
      "[Parallel(n_jobs=-1)]: Using backend LokyBackend with 8 concurrent workers.\n",
      "/Users/savochkin/miniconda3/envs/myenv/lib/python3.9/site-packages/joblib/parallel.py:589: RuntimeWarning: Iterative multi-taper PSD computation did not converge.\n",
      "  return [func(*args, **kwargs)\n"
     ]
    },
    {
     "data": {
      "application/vnd.jupyter.widget-view+json": {
       "model_id": "5fe35d9ff08d424f8f53b0f5ae5580a6",
       "version_major": 2,
       "version_minor": 0
      },
      "text/plain": [
       "  0%|          | CSD epoch blocks : 0/1 [00:00<?,       ?it/s]"
      ]
     },
     "metadata": {},
     "output_type": "display_data"
    },
    {
     "name": "stderr",
     "output_type": "stream",
     "text": [
      "[Parallel(n_jobs=-1)]: Using backend LokyBackend with 8 concurrent workers.\n"
     ]
    },
    {
     "name": "stdout",
     "output_type": "stream",
     "text": [
      "[done]\n",
      "    Using multitaper spectrum estimation with 7 DPSS windows\n",
      "Computing cross-spectral density from epochs...\n",
      "Got 8 parallel jobs after requesting -1\n",
      "Using ProgressBar with tqdm.auto\n"
     ]
    },
    {
     "data": {
      "application/vnd.jupyter.widget-view+json": {
       "model_id": "90843a9da38a4eebb30db0fefb78e185",
       "version_major": 2,
       "version_minor": 0
      },
      "text/plain": [
       "  0%|          | CSD epoch blocks : 0/1 [00:00<?,       ?it/s]"
      ]
     },
     "metadata": {},
     "output_type": "display_data"
    },
    {
     "name": "stdout",
     "output_type": "stream",
     "text": [
      "[done]\n",
      "356\n"
     ]
    },
    {
     "name": "stderr",
     "output_type": "stream",
     "text": [
      "[Parallel(n_jobs=-1)]: Using backend LokyBackend with 8 concurrent workers.\n",
      "/Users/savochkin/miniconda3/envs/myenv/lib/python3.9/site-packages/joblib/parallel.py:589: RuntimeWarning: Iterative multi-taper PSD computation did not converge.\n",
      "  return [func(*args, **kwargs)\n"
     ]
    },
    {
     "name": "stdout",
     "output_type": "stream",
     "text": [
      "(357, 5, 63, 63)\n",
      "(357, 5, 16, 16)\n"
     ]
    }
   ],
   "source": [
    "# Calculating CSD (Cross-spectral densities), re-referenced data\n",
    "\n",
    "ft_csd_matr_sp = []\n",
    "ft_csd_matr_loc_sp = []\n",
    "kwargs = dict(fmin=bands[0][0], fmax=bands[-1][1], sfreq=sampling_rate, adaptive=True, n_jobs=-1, verbose='DEBUG')\n",
    "\n",
    "# Calculating CSD for each epoch (Multitaper)\n",
    "for i in range(n_samples):\n",
    "    csd_mtaper = csd_array_multitaper(ft_epochs[i].reshape((1, n_channels, n_times)), **kwargs)\n",
    "    ft_csd_matr_sp.append([csd_mtaper.mean(fmin, fmax).get_data() for (fmin, fmax, _, _) in bands])\n",
    "\n",
    "    csd_mtaper = csd_array_multitaper(ft_epochs_loc[i].reshape((1, n_regions, n_times)), **kwargs)\n",
    "    ft_csd_matr_loc_sp.append([csd_mtaper.mean(fmin, fmax).get_data() for (fmin, fmax, _, _) in bands])\n",
    "    print(i)\n",
    "\n",
    "ft_csd_matr_sp = np.array(ft_csd_matr_sp)\n",
    "ft_csd_matr_loc_sp = np.array(ft_csd_matr_loc_sp)\n",
    "\n",
    "print(ft_csd_matr_sp.shape)\n",
    "print(ft_csd_matr_loc_sp.shape)"
   ]
  },
  {
   "cell_type": "markdown",
   "id": "2a69caa6",
   "metadata": {},
   "source": [
    "#### save calculated csd values"
   ]
  },
  {
   "cell_type": "code",
   "execution_count": 24,
   "id": "295fd512",
   "metadata": {},
   "outputs": [],
   "source": [
    "np.save('csd.npy', ft_csd_matr_sp)\n",
    "np.save('csd_loc.npy', ft_csd_matr_loc_sp)"
   ]
  },
  {
   "cell_type": "markdown",
   "id": "1e307ba9",
   "metadata": {},
   "source": [
    "##### download calculated csd values"
   ]
  },
  {
   "cell_type": "code",
   "execution_count": null,
   "id": "2e048005",
   "metadata": {},
   "outputs": [],
   "source": [
    "# ft_csd_matr_sp = np.load('csd.npy')\n",
    "# ft_csd_matr_loc_sp = np.load('csd_loc.npy')"
   ]
  },
  {
   "cell_type": "code",
   "execution_count": 25,
   "id": "7cd997c2",
   "metadata": {},
   "outputs": [],
   "source": [
    "# Calculating Coherence, PLV and PSD from CSD, re-referenced data\n",
    "SLICE_LEN = 3\n",
    "\n",
    "df_ft_coh = pd.DataFrame()\n",
    "df_ft_plv = pd.DataFrame()\n",
    "df_ft_coh_loc = pd.DataFrame()\n",
    "df_ft_plv_loc = pd.DataFrame()\n",
    "\n",
    "for _freq in range(n_freq): # frequency band\n",
    "    # By channel pairs\n",
    "    for i in range(n_channels): # channel\n",
    "        for j in range(i+1, n_channels): #channel\n",
    "            coh_list = []\n",
    "            plv_list = []\n",
    "            for _samp in range(n_samples): #epoch\n",
    "                samp_slice = ft_csd_matr_sp[max(_samp-SLICE_LEN//2, 0):min(_samp+SLICE_LEN//2+SLICE_LEN%2, n_samples), _freq,:,:]\n",
    "                coh = np.abs(np.mean(samp_slice[:,i,j])) / sqrt(np.mean(samp_slice[:,i,i]).real * np.mean(samp_slice[:,j,j]).real)\n",
    "                plv = np.abs(np.mean(samp_slice[:,i,j]/np.abs(samp_slice[:,i,j])))\n",
    "                \n",
    "                coh_list.append(coh)\n",
    "                plv_list.append(plv)\n",
    "                \n",
    "            df_ft_coh[str_freq_rr[_freq]+'_coh_'+ch_names[i]+'_'+ch_names[j]] = np.array(coh_list)\n",
    "            df_ft_plv[str_freq_rr[_freq]+'_plv_'+ch_names[i]+'_'+ch_names[j]] = np.array(plv_list)\n",
    "\n",
    "    # By region pairs\n",
    "    for i in range(n_regions): # region mean\n",
    "        for j in range(i+1, n_regions): # region mean\n",
    "            coh_list = []\n",
    "            plv_list = []\n",
    "            for _samp in range(n_samples): # epoch\n",
    "                samp_slice = ft_csd_matr_loc_sp[_samp:min(_samp+SLICE_LEN, n_samples),_freq,:,:]\n",
    "                coh = np.abs(np.mean(samp_slice[:,i,j])) / sqrt(np.mean(samp_slice[:,i,i]).real * np.mean(samp_slice[:,j,j]).real)\n",
    "                plv = np.abs(np.mean(samp_slice[:,i,j]/np.abs(samp_slice[:,i,j])))\n",
    "                \n",
    "                coh_list.append(coh)\n",
    "                plv_list.append(plv)\n",
    "            df_ft_coh_loc[str_freq_rr[_freq]+'_coh_'+regions[i][1]+'_'+regions[j][1]] = np.array(coh_list)\n",
    "            df_ft_plv_loc[str_freq_rr[_freq]+'_plv_'+regions[i][1]+'_'+regions[j][1]] = np.array(plv_list)   \n",
    "    #print(len(df_ft_plv_loc.columns))\n",
    "    "
   ]
  },
  {
   "cell_type": "code",
   "execution_count": 26,
   "id": "e75f7980",
   "metadata": {},
   "outputs": [
    {
     "data": {
      "text/html": [
       "<div>\n",
       "<style scoped>\n",
       "    .dataframe tbody tr th:only-of-type {\n",
       "        vertical-align: middle;\n",
       "    }\n",
       "\n",
       "    .dataframe tbody tr th {\n",
       "        vertical-align: top;\n",
       "    }\n",
       "\n",
       "    .dataframe thead th {\n",
       "        text-align: right;\n",
       "    }\n",
       "</style>\n",
       "<table border=\"1\" class=\"dataframe\">\n",
       "  <thead>\n",
       "    <tr style=\"text-align: right;\">\n",
       "      <th></th>\n",
       "      <th>D_coh_all_06</th>\n",
       "      <th>D_coh_all_07</th>\n",
       "      <th>D_coh_all_08</th>\n",
       "      <th>T_coh_all_06</th>\n",
       "      <th>T_coh_all_07</th>\n",
       "      <th>T_coh_all_08</th>\n",
       "      <th>A_coh_all_06</th>\n",
       "      <th>A_coh_all_07</th>\n",
       "      <th>A_coh_all_08</th>\n",
       "      <th>B_coh_all_06</th>\n",
       "      <th>B_coh_all_07</th>\n",
       "      <th>B_coh_all_08</th>\n",
       "      <th>G_coh_all_06</th>\n",
       "      <th>G_coh_all_07</th>\n",
       "      <th>G_coh_all_08</th>\n",
       "    </tr>\n",
       "  </thead>\n",
       "  <tbody>\n",
       "    <tr>\n",
       "      <th>0</th>\n",
       "      <td>53.62</td>\n",
       "      <td>46.57</td>\n",
       "      <td>37.00</td>\n",
       "      <td>56.60</td>\n",
       "      <td>50.17</td>\n",
       "      <td>41.03</td>\n",
       "      <td>63.21</td>\n",
       "      <td>58.22</td>\n",
       "      <td>50.60</td>\n",
       "      <td>65.33</td>\n",
       "      <td>59.32</td>\n",
       "      <td>50.94</td>\n",
       "      <td>70.70</td>\n",
       "      <td>66.87</td>\n",
       "      <td>58.86</td>\n",
       "    </tr>\n",
       "    <tr>\n",
       "      <th>1</th>\n",
       "      <td>55.40</td>\n",
       "      <td>48.08</td>\n",
       "      <td>38.24</td>\n",
       "      <td>59.86</td>\n",
       "      <td>52.57</td>\n",
       "      <td>43.38</td>\n",
       "      <td>64.76</td>\n",
       "      <td>58.92</td>\n",
       "      <td>51.38</td>\n",
       "      <td>69.38</td>\n",
       "      <td>63.90</td>\n",
       "      <td>55.75</td>\n",
       "      <td>69.33</td>\n",
       "      <td>64.87</td>\n",
       "      <td>56.37</td>\n",
       "    </tr>\n",
       "    <tr>\n",
       "      <th>2</th>\n",
       "      <td>56.95</td>\n",
       "      <td>49.48</td>\n",
       "      <td>38.97</td>\n",
       "      <td>60.92</td>\n",
       "      <td>52.95</td>\n",
       "      <td>42.67</td>\n",
       "      <td>67.14</td>\n",
       "      <td>61.11</td>\n",
       "      <td>54.11</td>\n",
       "      <td>68.94</td>\n",
       "      <td>63.49</td>\n",
       "      <td>55.67</td>\n",
       "      <td>68.37</td>\n",
       "      <td>62.54</td>\n",
       "      <td>53.76</td>\n",
       "    </tr>\n",
       "    <tr>\n",
       "      <th>3</th>\n",
       "      <td>59.94</td>\n",
       "      <td>53.43</td>\n",
       "      <td>45.54</td>\n",
       "      <td>62.89</td>\n",
       "      <td>56.40</td>\n",
       "      <td>47.05</td>\n",
       "      <td>68.33</td>\n",
       "      <td>64.67</td>\n",
       "      <td>58.44</td>\n",
       "      <td>70.84</td>\n",
       "      <td>66.65</td>\n",
       "      <td>59.03</td>\n",
       "      <td>67.71</td>\n",
       "      <td>61.25</td>\n",
       "      <td>52.94</td>\n",
       "    </tr>\n",
       "    <tr>\n",
       "      <th>4</th>\n",
       "      <td>66.11</td>\n",
       "      <td>60.05</td>\n",
       "      <td>50.03</td>\n",
       "      <td>65.30</td>\n",
       "      <td>59.92</td>\n",
       "      <td>51.29</td>\n",
       "      <td>68.21</td>\n",
       "      <td>64.94</td>\n",
       "      <td>58.54</td>\n",
       "      <td>68.38</td>\n",
       "      <td>62.38</td>\n",
       "      <td>55.10</td>\n",
       "      <td>67.97</td>\n",
       "      <td>62.06</td>\n",
       "      <td>54.54</td>\n",
       "    </tr>\n",
       "    <tr>\n",
       "      <th>...</th>\n",
       "      <td>...</td>\n",
       "      <td>...</td>\n",
       "      <td>...</td>\n",
       "      <td>...</td>\n",
       "      <td>...</td>\n",
       "      <td>...</td>\n",
       "      <td>...</td>\n",
       "      <td>...</td>\n",
       "      <td>...</td>\n",
       "      <td>...</td>\n",
       "      <td>...</td>\n",
       "      <td>...</td>\n",
       "      <td>...</td>\n",
       "      <td>...</td>\n",
       "      <td>...</td>\n",
       "    </tr>\n",
       "    <tr>\n",
       "      <th>352</th>\n",
       "      <td>53.57</td>\n",
       "      <td>45.76</td>\n",
       "      <td>35.60</td>\n",
       "      <td>63.35</td>\n",
       "      <td>56.78</td>\n",
       "      <td>47.02</td>\n",
       "      <td>70.71</td>\n",
       "      <td>66.87</td>\n",
       "      <td>59.24</td>\n",
       "      <td>65.79</td>\n",
       "      <td>59.70</td>\n",
       "      <td>52.24</td>\n",
       "      <td>72.63</td>\n",
       "      <td>69.67</td>\n",
       "      <td>64.21</td>\n",
       "    </tr>\n",
       "    <tr>\n",
       "      <th>353</th>\n",
       "      <td>50.30</td>\n",
       "      <td>42.56</td>\n",
       "      <td>32.14</td>\n",
       "      <td>60.59</td>\n",
       "      <td>53.83</td>\n",
       "      <td>43.67</td>\n",
       "      <td>70.00</td>\n",
       "      <td>65.97</td>\n",
       "      <td>57.49</td>\n",
       "      <td>67.41</td>\n",
       "      <td>61.24</td>\n",
       "      <td>53.65</td>\n",
       "      <td>71.95</td>\n",
       "      <td>68.30</td>\n",
       "      <td>62.02</td>\n",
       "    </tr>\n",
       "    <tr>\n",
       "      <th>354</th>\n",
       "      <td>55.65</td>\n",
       "      <td>48.21</td>\n",
       "      <td>38.97</td>\n",
       "      <td>63.48</td>\n",
       "      <td>57.06</td>\n",
       "      <td>48.60</td>\n",
       "      <td>71.35</td>\n",
       "      <td>67.71</td>\n",
       "      <td>60.44</td>\n",
       "      <td>69.44</td>\n",
       "      <td>64.06</td>\n",
       "      <td>57.21</td>\n",
       "      <td>71.83</td>\n",
       "      <td>67.87</td>\n",
       "      <td>61.78</td>\n",
       "    </tr>\n",
       "    <tr>\n",
       "      <th>355</th>\n",
       "      <td>57.27</td>\n",
       "      <td>49.84</td>\n",
       "      <td>40.60</td>\n",
       "      <td>64.35</td>\n",
       "      <td>58.37</td>\n",
       "      <td>49.32</td>\n",
       "      <td>71.71</td>\n",
       "      <td>68.11</td>\n",
       "      <td>62.33</td>\n",
       "      <td>70.68</td>\n",
       "      <td>66.16</td>\n",
       "      <td>57.98</td>\n",
       "      <td>69.22</td>\n",
       "      <td>65.06</td>\n",
       "      <td>57.71</td>\n",
       "    </tr>\n",
       "    <tr>\n",
       "      <th>356</th>\n",
       "      <td>61.24</td>\n",
       "      <td>52.90</td>\n",
       "      <td>42.43</td>\n",
       "      <td>66.37</td>\n",
       "      <td>59.92</td>\n",
       "      <td>50.98</td>\n",
       "      <td>72.06</td>\n",
       "      <td>69.24</td>\n",
       "      <td>64.24</td>\n",
       "      <td>70.78</td>\n",
       "      <td>66.25</td>\n",
       "      <td>58.27</td>\n",
       "      <td>69.63</td>\n",
       "      <td>65.21</td>\n",
       "      <td>57.38</td>\n",
       "    </tr>\n",
       "  </tbody>\n",
       "</table>\n",
       "<p>357 rows × 15 columns</p>\n",
       "</div>"
      ],
      "text/plain": [
       "     D_coh_all_06  D_coh_all_07  D_coh_all_08  T_coh_all_06  T_coh_all_07  \\\n",
       "0           53.62         46.57         37.00         56.60         50.17   \n",
       "1           55.40         48.08         38.24         59.86         52.57   \n",
       "2           56.95         49.48         38.97         60.92         52.95   \n",
       "3           59.94         53.43         45.54         62.89         56.40   \n",
       "4           66.11         60.05         50.03         65.30         59.92   \n",
       "..            ...           ...           ...           ...           ...   \n",
       "352         53.57         45.76         35.60         63.35         56.78   \n",
       "353         50.30         42.56         32.14         60.59         53.83   \n",
       "354         55.65         48.21         38.97         63.48         57.06   \n",
       "355         57.27         49.84         40.60         64.35         58.37   \n",
       "356         61.24         52.90         42.43         66.37         59.92   \n",
       "\n",
       "     T_coh_all_08  A_coh_all_06  A_coh_all_07  A_coh_all_08  B_coh_all_06  \\\n",
       "0           41.03         63.21         58.22         50.60         65.33   \n",
       "1           43.38         64.76         58.92         51.38         69.38   \n",
       "2           42.67         67.14         61.11         54.11         68.94   \n",
       "3           47.05         68.33         64.67         58.44         70.84   \n",
       "4           51.29         68.21         64.94         58.54         68.38   \n",
       "..            ...           ...           ...           ...           ...   \n",
       "352         47.02         70.71         66.87         59.24         65.79   \n",
       "353         43.67         70.00         65.97         57.49         67.41   \n",
       "354         48.60         71.35         67.71         60.44         69.44   \n",
       "355         49.32         71.71         68.11         62.33         70.68   \n",
       "356         50.98         72.06         69.24         64.24         70.78   \n",
       "\n",
       "     B_coh_all_07  B_coh_all_08  G_coh_all_06  G_coh_all_07  G_coh_all_08  \n",
       "0           59.32         50.94         70.70         66.87         58.86  \n",
       "1           63.90         55.75         69.33         64.87         56.37  \n",
       "2           63.49         55.67         68.37         62.54         53.76  \n",
       "3           66.65         59.03         67.71         61.25         52.94  \n",
       "4           62.38         55.10         67.97         62.06         54.54  \n",
       "..            ...           ...           ...           ...           ...  \n",
       "352         59.70         52.24         72.63         69.67         64.21  \n",
       "353         61.24         53.65         71.95         68.30         62.02  \n",
       "354         64.06         57.21         71.83         67.87         61.78  \n",
       "355         66.16         57.98         69.22         65.06         57.71  \n",
       "356         66.25         58.27         69.63         65.21         57.38  \n",
       "\n",
       "[357 rows x 15 columns]"
      ]
     },
     "metadata": {},
     "output_type": "display_data"
    }
   ],
   "source": [
    "# Special coherence & PLV features\n",
    "\n",
    "df_ft_coh_ind = pd.DataFrame()\n",
    "df_ft_plv_ind = pd.DataFrame()\n",
    "df_ft_coh_ind_loc = pd.DataFrame()\n",
    "df_ft_plv_ind_loc = pd.DataFrame()\n",
    "df_ft_coh_ind_all = pd.DataFrame()\n",
    "df_ft_plv_ind_all = pd.DataFrame()\n",
    "\n",
    "for _freq in range(n_freq):  # frequency band\n",
    "    # By channel pairs\n",
    "    for _ch in range(n_channels):  # channel\n",
    "        # Coherence\n",
    "        ch_cols = [col for col in df_ft_coh.columns if col.startswith(str_freq_rr[_freq]) and (ch_names[_ch] in col)]\n",
    "        for threshold in [0.6, 0.7, 0.8]:\n",
    "            df_ft_coh_ind[str_freq_rr[_freq] + '_coh_' + ch_names[_ch] + f'_0{threshold * 10}'] = (\n",
    "                    df_ft_coh[ch_cols] >= threshold).sum(axis=1)\n",
    "            \n",
    "        # PLV\n",
    "        ch_cols = [col for col in df_ft_plv.columns if col.startswith(str_freq_rr[_freq]) and (ch_names[_ch] in col)]\n",
    "        for threshold in [0.6, 0.7, 0.8]:\n",
    "            df_ft_plv_ind[str_freq_rr[_freq] + '_plv_' + ch_names[_ch] + f'_0{threshold * 10}'] = (\n",
    "                    df_ft_plv[ch_cols] >= threshold).sum(axis=1)\n",
    "\n",
    "#     By region\n",
    "    for _reg in range(n_regions):\n",
    "        for threshold_delim in ['06', '07', '08']:\n",
    "            # Coherence\n",
    "            reg_cols = [col for col in df_ft_coh_ind.columns if any(ch in col for ch in regions[_reg][0]) and\n",
    "                        col.startswith(str_freq_rr[_freq]) and (threshold_delim in col)]\n",
    "            df_ft_coh_ind_loc[str_freq_rr[_freq] + '_coh_' + regions[_reg][1] + '_'+ threshold_delim] = df_ft_coh_ind[\n",
    "                reg_cols].mean(axis=1)\n",
    "\n",
    "            # PLV\n",
    "            reg_cols = [col for col in df_ft_plv_ind.columns if any(ch in col for ch in regions[_reg][0]) and\n",
    "                        col.startswith(str_freq_rr[_freq]) and (threshold_delim in col)]\n",
    "            df_ft_plv_ind_loc[str_freq_rr[_freq] + '_plv_' + regions[_reg][1] + '_' + threshold_delim] = df_ft_plv_ind[\n",
    "                reg_cols].mean(axis=1)\n",
    "\n",
    "    # Averaged by all channels\n",
    "    for threshold_delim in ['06', '07', '08']:\n",
    "        # Coherence\n",
    "        reg_cols = [col for col in df_ft_coh_ind.columns if\n",
    "                    col.startswith(str_freq_rr[_freq]) and (threshold_delim in col)]\n",
    "        df_ft_coh_ind_all[str_freq_rr[_freq] + '_coh_all_' + threshold_delim] = df_ft_coh_ind[reg_cols].mean(axis=1)\n",
    "        \n",
    "        # PLV\n",
    "        reg_cols = [col for col in df_ft_plv_ind.columns if\n",
    "                    col.startswith(str_freq_rr[_freq]) and (threshold_delim in col)]\n",
    "        df_ft_plv_ind_all[str_freq_rr[_freq] + '_plv_all_' + threshold_delim] = df_ft_plv_ind[reg_cols].mean(axis=1)\n",
    "\n",
    "\n",
    "display(df_ft_coh_ind_all)\n"
   ]
  },
  {
   "cell_type": "markdown",
   "id": "050cc40b",
   "metadata": {},
   "source": [
    "# Saving data"
   ]
  },
  {
   "cell_type": "code",
   "execution_count": 27,
   "id": "03858dc1",
   "metadata": {},
   "outputs": [
    {
     "name": "stdout",
     "output_type": "stream",
     "text": [
      "Overwriting existing file.\n",
      "(357, 63, 1001)\n"
     ]
    }
   ],
   "source": [
    "# Saving epochs\n",
    "\n",
    "sec5_epochs.save(os.path.join('epochs.fif'), overwrite=True)\n",
    "print(sec5_epochs.get_data().shape)\n"
   ]
  },
  {
   "cell_type": "code",
   "execution_count": 28,
   "id": "9b27d58d",
   "metadata": {},
   "outputs": [],
   "source": [
    "# Saving main features DataFrames\n",
    "\n",
    "ft_dir_path = 'features/'\n",
    "df_ft_psd_loc_db.to_feather(os.path.join(ft_dir_path, 'df_ft_psd_loc_db.feather'))\n",
    "df_ft_psd_all_db.to_feather(os.path.join(ft_dir_path, 'df_ft_psd_all_db.feather'))\n",
    "df_ft_psd_ind_loc_log.to_feather(os.path.join(ft_dir_path, 'df_ft_psd_ind_loc_log.feather'))\n",
    "df_ft_psd_ind_all_log.to_feather(os.path.join(ft_dir_path, 'df_ft_psd_ind_all_log.feather'))\n",
    "\n",
    "df_ft_coh.to_feather(os.path.join(ft_dir_path, 'df_ft_coh.feather'))\n",
    "df_ft_plv.to_feather(os.path.join(ft_dir_path, 'df_ft_plv.feather'))\n",
    "df_ft_coh_loc.to_feather(os.path.join(ft_dir_path, 'df_ft_coh_loc.feather'))\n",
    "df_ft_plv_loc.to_feather(os.path.join(ft_dir_path, 'df_ft_plv_loc.feather'))\n",
    "\n",
    "df_ft_coh_ind_loc.to_feather(os.path.join(ft_dir_path, 'df_ft_coh_ind_loc.feather'))\n",
    "df_ft_plv_ind_loc.to_feather(os.path.join(ft_dir_path, 'df_ft_plv_ind_loc.feather'))\n",
    "df_ft_coh_ind_all.to_feather(os.path.join(ft_dir_path, 'df_ft_coh_ind_all.feather'))\n",
    "df_ft_plv_ind_all.to_feather(os.path.join(ft_dir_path, 'df_ft_plv_ind_all.feather'))"
   ]
  }
 ],
 "metadata": {
  "kernelspec": {
   "display_name": "Python 3 (ipykernel)",
   "language": "python",
   "name": "python3"
  },
  "language_info": {
   "codemirror_mode": {
    "name": "ipython",
    "version": 3
   },
   "file_extension": ".py",
   "mimetype": "text/x-python",
   "name": "python",
   "nbconvert_exporter": "python",
   "pygments_lexer": "ipython3",
   "version": "3.9.16"
  }
 },
 "nbformat": 4,
 "nbformat_minor": 5
}
